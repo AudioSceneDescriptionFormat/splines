{
 "cells": [
  {
   "cell_type": "markdown",
   "metadata": {},
   "source": [
    "# Uniform Cubic Hermite Splines"
   ]
  },
  {
   "cell_type": "markdown",
   "metadata": {},
   "source": [
    "TODO: Image for the 1D case (points and slopes)?\n",
    "\n",
    "TODO: Image for the 2D case (points and tangent vectors)? Probably combine two 1D examples?\n",
    "\n",
    "TODO: Hermite's two-point interpolation formula?"
   ]
  },
  {
   "cell_type": "code",
   "execution_count": null,
   "metadata": {},
   "outputs": [],
   "source": [
    "%matplotlib inline\n",
    "from IPython.display import display"
   ]
  },
  {
   "cell_type": "code",
   "execution_count": null,
   "metadata": {},
   "outputs": [],
   "source": [
    "import sympy as sp\n",
    "sp.init_printing(order='rev-lex')"
   ]
  },
  {
   "cell_type": "code",
   "execution_count": null,
   "metadata": {},
   "outputs": [],
   "source": [
    "from utility import NamedExpression, NamedMatrix"
   ]
  },
  {
   "cell_type": "code",
   "execution_count": null,
   "metadata": {},
   "outputs": [],
   "source": [
    "t = sp.symbols('t')"
   ]
  },
  {
   "cell_type": "code",
   "execution_count": null,
   "metadata": {},
   "outputs": [],
   "source": [
    "coefficients = sp.Matrix(sp.symbols('abm:4')[::-1])\n",
    "coefficients"
   ]
  },
  {
   "cell_type": "code",
   "execution_count": null,
   "metadata": {},
   "outputs": [],
   "source": [
    "b_monomial = sp.Matrix([t**3, t**2, t, 1]).T\n",
    "b_monomial"
   ]
  },
  {
   "cell_type": "code",
   "execution_count": null,
   "metadata": {},
   "outputs": [],
   "source": [
    "p = b_monomial.dot(coefficients)\n",
    "p"
   ]
  },
  {
   "cell_type": "markdown",
   "metadata": {},
   "source": [
    "We want to provide the value of the polynomial at time $t_0 = 0$ and $t_1 = 1$ (start and end point).\n",
    "We also want to provide the first derivative (a.k.a. velocity, a.k.a. tangent vector) at the start and at the end.\n",
    "\n",
    "\\begin{align}\n",
    "\\boldsymbol{x}_0 &= \\boldsymbol{p}(0)\\\\\n",
    "\\boldsymbol{x}_1 &= \\boldsymbol{p}(1)\\\\\n",
    "\\boldsymbol{\\dot{x}}_0 &= \\boldsymbol{p}'(0)\\\\\n",
    "\\boldsymbol{\\dot{x}}_1 &= \\boldsymbol{p}'(1)\n",
    "\\end{align}"
   ]
  },
  {
   "cell_type": "markdown",
   "metadata": {},
   "source": [
    "The curve segment defined by these 4 values is sometimes called *Ferguson cubic*."
   ]
  },
  {
   "cell_type": "markdown",
   "metadata": {},
   "source": [
    "Velocity = Tangent Vector = First Derivative:"
   ]
  },
  {
   "cell_type": "code",
   "execution_count": null,
   "metadata": {},
   "outputs": [],
   "source": [
    "velocity = p.diff(t)\n",
    "velocity"
   ]
  },
  {
   "cell_type": "code",
   "execution_count": null,
   "metadata": {},
   "outputs": [],
   "source": [
    "x0 = NamedExpression('xbm0', p.subs(t, 0))\n",
    "x1 = NamedExpression('xbm1', p.subs(t, 1))\n",
    "xd0 = NamedExpression('xdotbm0', velocity.subs(t, 0))\n",
    "xd1 = NamedExpression('xdotbm1', velocity.subs(t, 1))"
   ]
  },
  {
   "cell_type": "code",
   "execution_count": null,
   "metadata": {},
   "outputs": [],
   "source": [
    "display(x0, x1, xd0, xd1)"
   ]
  },
  {
   "cell_type": "markdown",
   "metadata": {},
   "source": [
    "Given an input vector of control values ..."
   ]
  },
  {
   "cell_type": "code",
   "execution_count": null,
   "metadata": {},
   "outputs": [],
   "source": [
    "control_values_H = NamedMatrix(sp.Matrix([x0.name, x1.name, xd0.name, xd1.name]))\n",
    "control_values_H.name"
   ]
  },
  {
   "cell_type": "markdown",
   "metadata": {},
   "source": [
    "... we want to find a way to transform those into the coefficients of our cubic polynomial."
   ]
  },
  {
   "cell_type": "code",
   "execution_count": null,
   "metadata": {},
   "outputs": [],
   "source": [
    "M_H = NamedMatrix(r'{M_\\text{H}}', 4, 4)"
   ]
  },
  {
   "cell_type": "code",
   "execution_count": null,
   "metadata": {},
   "outputs": [],
   "source": [
    "coefficients_H = NamedMatrix(coefficients, M_H.name * control_values_H.name)\n",
    "coefficients_H"
   ]
  },
  {
   "cell_type": "markdown",
   "metadata": {},
   "source": [
    "And the other way round:"
   ]
  },
  {
   "cell_type": "code",
   "execution_count": null,
   "metadata": {},
   "outputs": [],
   "source": [
    "control_values_H.expr = M_H.name.I * coefficients\n",
    "control_values_H"
   ]
  },
  {
   "cell_type": "code",
   "execution_count": null,
   "metadata": {},
   "outputs": [],
   "source": [
    "substitutions = x0, x1, xd0, xd1"
   ]
  },
  {
   "cell_type": "code",
   "execution_count": null,
   "metadata": {},
   "outputs": [],
   "source": [
    "control_values_H.subs(substitutions)"
   ]
  },
  {
   "cell_type": "code",
   "execution_count": null,
   "metadata": {},
   "outputs": [],
   "source": [
    "M_H.I = sp.Matrix([[expr.coeff(cv) for cv in coefficients]\n",
    "                   for expr in control_values_H.subs(substitutions).name])\n",
    "M_H.I"
   ]
  },
  {
   "cell_type": "code",
   "execution_count": null,
   "metadata": {},
   "outputs": [],
   "source": [
    "print(_.expr)"
   ]
  },
  {
   "cell_type": "markdown",
   "metadata": {},
   "source": [
    "This transforms the coefficients into our control values, but we need it the other way round:"
   ]
  },
  {
   "cell_type": "code",
   "execution_count": null,
   "metadata": {},
   "outputs": [],
   "source": [
    "M_H"
   ]
  },
  {
   "cell_type": "code",
   "execution_count": null,
   "metadata": {},
   "outputs": [],
   "source": [
    "print(_.expr)"
   ]
  },
  {
   "cell_type": "markdown",
   "metadata": {},
   "source": [
    "Those are called Hermite basis functions:"
   ]
  },
  {
   "cell_type": "code",
   "execution_count": null,
   "metadata": {},
   "outputs": [],
   "source": [
    "b_H = NamedMatrix(r'{b_\\text{H}}', b_monomial * M_H.expr)\n",
    "b_H.factor().simplify().T"
   ]
  },
  {
   "cell_type": "code",
   "execution_count": null,
   "metadata": {},
   "outputs": [],
   "source": [
    "sp.plot(*b_H.expr, (t, 0, 1));"
   ]
  },
  {
   "cell_type": "markdown",
   "metadata": {},
   "source": [
    "TODO: describe properties of Hermite basis functions"
   ]
  },
  {
   "cell_type": "markdown",
   "metadata": {},
   "source": [
    "## Plotting"
   ]
  },
  {
   "cell_type": "code",
   "execution_count": null,
   "metadata": {},
   "outputs": [],
   "source": [
    "import numpy as np\n",
    "import matplotlib.pyplot as plt"
   ]
  },
  {
   "cell_type": "code",
   "execution_count": null,
   "metadata": {},
   "outputs": [],
   "source": [
    "def hermite_curve(control_values):\n",
    "    coeffs = sp.lambdify([], M_H.expr)() @ control_values\n",
    "    \n",
    "    def evaluate(t):\n",
    "        t = np.expand_dims(t, -1)\n",
    "        return t**[3, 2, 1, 0] @ coeffs\n",
    "        \n",
    "    return evaluate"
   ]
  },
  {
   "cell_type": "code",
   "execution_count": null,
   "metadata": {},
   "outputs": [],
   "source": [
    "t_values = np.linspace(0, 1, 15)"
   ]
  },
  {
   "cell_type": "code",
   "execution_count": null,
   "metadata": {},
   "outputs": [],
   "source": [
    "def plot_hermite(control_values, t_values, ax=None):\n",
    "    if ax is None:\n",
    "        ax = plt.gca()\n",
    "    control_values = np.asarray(control_values)\n",
    "    c = hermite_curve(control_values)\n",
    "    xyuv = np.column_stack(np.vsplit(control_values, 2))\n",
    "    # Move beginning of second arrow:\n",
    "    xyuv[1, :2] -= xyuv[1, 2:]\n",
    "    ax.quiver(*xyuv.T, angles='xy', scale_units='xy', scale=1)\n",
    "    ax.scatter(*c(t_values).T)\n",
    "    ax.axis('equal')"
   ]
  },
  {
   "cell_type": "code",
   "execution_count": null,
   "metadata": {},
   "outputs": [],
   "source": [
    "plot_hermite([[0, 0], [5, 2], [1, 2], [1, -2]], t_values)\n",
    "plot_hermite([[5, 2], [6, 1], [1, -2], [5, 1]], t_values)"
   ]
  },
  {
   "cell_type": "markdown",
   "metadata": {},
   "source": [
    "TODO: same length, different angles?"
   ]
  },
  {
   "cell_type": "code",
   "execution_count": null,
   "metadata": {},
   "outputs": [],
   "source": [
    "plot_hermite([[0, 0], [1, 0], [1, 1], [1, -1]], t_values)\n",
    "plot_hermite([[0, 0], [1, 0], [0, 1], [0, -1]], t_values)"
   ]
  },
  {
   "cell_type": "markdown",
   "metadata": {},
   "source": [
    "## Relation to Bézier Splines\n",
    "\n",
    "Above, we were using two positions (start and end) and two tangent vectors as control values:"
   ]
  },
  {
   "cell_type": "code",
   "execution_count": null,
   "metadata": {},
   "outputs": [],
   "source": [
    "coefficients_H"
   ]
  },
  {
   "cell_type": "markdown",
   "metadata": {},
   "source": [
    "What about using four positions instead?\n",
    "\n",
    "Let's use the point $\\boldsymbol{\\hat{x}}_0$ as \"handle\" connected to $\\boldsymbol{x}_0$.\n",
    "Same for $\\boldsymbol{\\hat{x}}_1$ and $\\boldsymbol{x}_1$.\n",
    "\n",
    "And since the tangents looked unwieldily long in the examples before, let's make the handles only a third of the length of the tangents:"
   ]
  },
  {
   "cell_type": "code",
   "execution_count": null,
   "metadata": {},
   "outputs": [],
   "source": [
    "x_hat0 = NamedExpression('xhatbm0', x0.name + xd0.name / 3)\n",
    "x_hat1 = NamedExpression('xhatbm1', x1.name - xd1.name / 3)"
   ]
  },
  {
   "cell_type": "code",
   "execution_count": null,
   "metadata": {},
   "outputs": [],
   "source": [
    "control_values_B = NamedMatrix(\n",
    "    sp.Matrix([x0.name, x_hat0.name, x_hat1.name, x1.name]),\n",
    "    sp.Matrix([x0.name, x_hat0.expr, x_hat1.expr, x1.name]))\n",
    "control_values_B"
   ]
  },
  {
   "cell_type": "code",
   "execution_count": null,
   "metadata": {},
   "outputs": [],
   "source": [
    "M_HtoB = NamedMatrix(r'{M_\\text{H$\\to$B}}', 4, 4)"
   ]
  },
  {
   "cell_type": "code",
   "execution_count": null,
   "metadata": {},
   "outputs": [],
   "source": [
    "sp.Eq(control_values_B.name, M_HtoB.name * control_values_H.name)"
   ]
  },
  {
   "cell_type": "code",
   "execution_count": null,
   "metadata": {},
   "outputs": [],
   "source": [
    "M_HtoB.expr = sp.Matrix([[expr.coeff(cv) for cv in control_values_H.name]\n",
    "                         for expr in control_values_B.expr])\n",
    "M_HtoB.pull_out(sp.S.One / 3)"
   ]
  },
  {
   "cell_type": "code",
   "execution_count": null,
   "metadata": {},
   "outputs": [],
   "source": [
    "print(_.expr)"
   ]
  },
  {
   "cell_type": "code",
   "execution_count": null,
   "metadata": {},
   "outputs": [],
   "source": [
    "M_BtoH = NamedMatrix(r'{M_\\text{B$\\to$H}}', M_HtoB.I.expr)\n",
    "M_BtoH"
   ]
  },
  {
   "cell_type": "code",
   "execution_count": null,
   "metadata": {},
   "outputs": [],
   "source": [
    "print(_.expr)"
   ]
  },
  {
   "cell_type": "code",
   "execution_count": null,
   "metadata": {},
   "outputs": [],
   "source": [
    "M_B = NamedMatrix(r'{M_\\text{B}}', M_H.name * M_BtoH.name)\n",
    "M_B"
   ]
  },
  {
   "cell_type": "code",
   "execution_count": null,
   "metadata": {},
   "outputs": [],
   "source": [
    "M_B = M_B.subs([M_H, M_BtoH])\n",
    "M_B"
   ]
  },
  {
   "cell_type": "code",
   "execution_count": null,
   "metadata": {},
   "outputs": [],
   "source": [
    "b_B = NamedMatrix(r'{b_\\text{B}}', b_monomial * M_B.expr)\n",
    "b_B.T"
   ]
  },
  {
   "cell_type": "code",
   "execution_count": null,
   "metadata": {},
   "outputs": [],
   "source": [
    "sp.plot(*b_B.expr, (t, 0, 1));"
   ]
  },
  {
   "cell_type": "markdown",
   "metadata": {},
   "source": [
    "Those happen to be the cubic Bernstein polynomials and it turns out that we just invented Bézier curves!\n",
    "See [separate notebook](bezier.ipynb) for more about them."
   ]
  }
 ],
 "metadata": {
  "kernelspec": {
   "display_name": "Python 3",
   "language": "python",
   "name": "python3"
  },
  "language_info": {
   "codemirror_mode": {
    "name": "ipython",
    "version": 3
   },
   "file_extension": ".py",
   "mimetype": "text/x-python",
   "name": "python",
   "nbconvert_exporter": "python",
   "pygments_lexer": "ipython3",
   "version": "3.6.6rc1+"
  }
 },
 "nbformat": 4,
 "nbformat_minor": 2
}
