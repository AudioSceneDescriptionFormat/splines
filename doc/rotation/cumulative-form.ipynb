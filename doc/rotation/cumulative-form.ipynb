{
 "cells": [
  {
   "cell_type": "markdown",
   "metadata": {
    "nbsphinx": "hidden"
   },
   "source": [
    "This notebook is part of https://github.com/AudioSceneDescriptionFormat/splines, see also https://splines.readthedocs.io/.\n",
    "\n",
    "[back to rotation splines](index.ipynb)"
   ]
  },
  {
   "cell_type": "markdown",
   "metadata": {},
   "source": [
    "# Cumulative Form\n",
    "\n",
    "The basic idea, as proposed by\n",
    "<cite data-cite-t=\"kim1995general\">Kim, Kim and Shin (1995)</cite>\n",
    "is the following:\n",
    "\n",
    "Instead of representing a curve as a sum of basis functions\n",
    "weighted by its control point's position vectors $p_i$\n",
    "-- as it's for example done with [Bézier splines](../euclidean/bezier.ipynb) --\n",
    "they suggest to use the relative difference vectors $\\Delta p_i$ between successive control points.\n",
    "\n",
    "These relative difference vectors can then be \"translated\" to *local* rotations\n",
    "(replacing additions with multiplications),\n",
    "leading to a form of rotation splines."
   ]
  },
  {
   "cell_type": "markdown",
   "metadata": {},
   "source": [
    "## Piecewise Slerp\n",
    "\n",
    "As an example,\n",
    "they define a piecewise linear curve"
   ]
  },
  {
   "cell_type": "markdown",
   "metadata": {},
   "source": [
    "\\begin{equation*}\n",
    "p(t) =\n",
    "p_0 +\n",
    "\\sum_{i=1}^n \\alpha_i(t) \\Delta p_i,\n",
    "\\end{equation*}\n",
    "\n",
    "where\n",
    "\n",
    "\\begin{align*}\n",
    "\\Delta p_i &= p_i - p_{i - 1}\\\\\n",
    "\\alpha_i(t) &= \\begin{cases}\n",
    "0 & t < i - 1\\\\\n",
    "t - i + 1 & i - 1 \\leq t < i\\\\\n",
    "1 & t \\geq i.\n",
    "\\end{cases}\n",
    "\\end{align*}"
   ]
  },
  {
   "cell_type": "code",
   "execution_count": null,
   "metadata": {},
   "outputs": [],
   "source": [
    "def alpha(i, t):\n",
    "    if t < i - 1:\n",
    "        return 0\n",
    "    elif t >= i:\n",
    "        return 1\n",
    "    else:\n",
    "        return t - i + 1"
   ]
  },
  {
   "cell_type": "markdown",
   "metadata": {},
   "source": [
    "<div class=\"alert alert-info\">\n",
    "\n",
    "Note\n",
    "\n",
    "There is an off-by-one error in the paper's definition of $\\alpha_i(t)$:\n",
    "\n",
    "\\begin{equation*}\n",
    "\\alpha_i(t) = \\begin{cases}\n",
    "0 & t < i\\\\\n",
    "t - i & i \\leq t < i + 1\\\\\n",
    "1 & t \\geq i + 1.\n",
    "\\end{cases}\n",
    "\\end{equation*}\n",
    "\n",
    "This assumes that $i$ starts with $0$,\n",
    "but it actually starts with $1$.\n",
    "\n",
    "</div>"
   ]
  },
  {
   "cell_type": "markdown",
   "metadata": {},
   "source": [
    "This \"cumulative form\" can be \"translated\" to a rotation spline\n",
    "by replacing addition with multiplication\n",
    "and the relative difference vectors by relative (i.e. local) rotations\n",
    "(represented by unit quaternions):\n",
    "\n",
    "\\begin{equation*}\n",
    "q(t) =\n",
    "q_0\n",
    "\\prod_{i = 1}^n \\exp(\\omega_i \\alpha_i(t)),\n",
    "\\end{equation*}\n",
    "\n",
    "where\n",
    "\n",
    "\\begin{equation*}\n",
    "\\omega_i =\n",
    "\\log\\left(q_{i - 1}^{-1} q_i\\right).\n",
    "\\end{equation*}"
   ]
  },
  {
   "cell_type": "markdown",
   "metadata": {},
   "source": [
    "The paper uses above notation,\n",
    "but this could equivalently be written as\n",
    "\n",
    "\\begin{equation*}\n",
    "q(t) =\n",
    "q_0\n",
    "\\prod_{i = 1}^n \\left(q_{i - 1}^{-1} q_i\\right)^{\\alpha_i(t)}.\n",
    "\\end{equation*}"
   ]
  },
  {
   "cell_type": "code",
   "execution_count": null,
   "metadata": {},
   "outputs": [],
   "source": [
    "import numpy as np"
   ]
  },
  {
   "cell_type": "markdown",
   "metadata": {},
   "source": [
    "Let's import a few helper functions from [helper.py](helper.py):"
   ]
  },
  {
   "cell_type": "code",
   "execution_count": null,
   "metadata": {},
   "outputs": [],
   "source": [
    "from helper import angles2quat, animate_rotations, display_animation"
   ]
  },
  {
   "cell_type": "code",
   "execution_count": null,
   "metadata": {},
   "outputs": [],
   "source": [
    "from splines.quaternion import UnitQuaternion"
   ]
  },
  {
   "cell_type": "code",
   "execution_count": null,
   "metadata": {},
   "outputs": [],
   "source": [
    "# NB: math.prod() since Python 3.8\n",
    "product = np.multiply.reduce"
   ]
  },
  {
   "cell_type": "code",
   "execution_count": null,
   "metadata": {},
   "outputs": [],
   "source": [
    "def piecewise_slerp(qs, t):\n",
    "    return qs[0] * product([\n",
    "        (qs[i - 1].inverse() * qs[i])**alpha(i, t)\n",
    "        for i in range(1, len(qs))])"
   ]
  },
  {
   "cell_type": "code",
   "execution_count": null,
   "metadata": {},
   "outputs": [],
   "source": [
    "qs = [\n",
    "    angles2quat(0, 0, 0),\n",
    "    angles2quat(90, 0, 0),\n",
    "    angles2quat(90, 90, 0),\n",
    "    angles2quat(90, 90, 90),\n",
    "]"
   ]
  },
  {
   "cell_type": "code",
   "execution_count": null,
   "metadata": {},
   "outputs": [],
   "source": [
    "times = np.linspace(0, len(qs) - 1, 100)"
   ]
  },
  {
   "cell_type": "code",
   "execution_count": null,
   "metadata": {},
   "outputs": [],
   "source": [
    "ani = animate_rotations([piecewise_slerp(qs, t) for t in times])"
   ]
  },
  {
   "cell_type": "code",
   "execution_count": null,
   "metadata": {},
   "outputs": [],
   "source": [
    "display_animation(ani, default_mode='reflect')"
   ]
  },
  {
   "cell_type": "markdown",
   "metadata": {},
   "source": [
    "## Cumulative Bézier/Bernstein Curve\n",
    "\n",
    "After the piecewise Slerp,\n",
    "<cite data-cit-te=\"kim1995general\">Kim, Kim and Shin (1995)</cite>\n",
    "show (in section 5.1) how to create a *cumulative form*\n",
    "inspired by Bézier splines, i.e. using Bernstein polynomials."
   ]
  },
  {
   "cell_type": "markdown",
   "metadata": {},
   "source": [
    "They start with the well-known equation for Bézier splines:\n",
    "\n",
    "\\begin{equation*}\n",
    "p(t) =\n",
    "\\sum_{i=0}^n p_i \\beta_{i,n}(t),\n",
    "\\end{equation*}\n",
    "\n",
    "where $\\beta_{i,n}(t)$ are Bernstein basis functions as shown in\n",
    "[the notebook about Bézier splines](../euclidean/bezier-de-casteljau.ipynb#Arbitrary-Degree)."
   ]
  },
  {
   "cell_type": "markdown",
   "metadata": {},
   "source": [
    "They re-formulate this into a *cumulative form*:\n",
    "\n",
    "\\begin{equation*}\n",
    "p(t) =\n",
    "p_0 \\tilde{\\beta}_{0,n}(t) +\n",
    "\\sum_{i=1}^n \\Delta p_i \\tilde{\\beta}_{i,n}(t),\n",
    "\\end{equation*}\n",
    "\n",
    "where the cumulative Bernstein basis functions are given by\n",
    "\n",
    "\\begin{equation*}\n",
    "\\tilde{\\beta}_{i,n}(t) =\n",
    "\\sum_{j=i}^n \\beta_{j,n}(t).\n",
    "\\end{equation*}"
   ]
  },
  {
   "cell_type": "markdown",
   "metadata": {},
   "source": [
    "We can get the Bernstein basis polynomials via the function\n",
    "[splines.Bernstein.basis()](../python-module/splines.rst#splines.Bernstein.basis) ..."
   ]
  },
  {
   "cell_type": "code",
   "execution_count": null,
   "metadata": {},
   "outputs": [],
   "source": [
    "from splines import Bernstein"
   ]
  },
  {
   "cell_type": "markdown",
   "metadata": {},
   "source": [
    "... and create a simple helper function to sum them up:"
   ]
  },
  {
   "cell_type": "code",
   "execution_count": null,
   "metadata": {},
   "outputs": [],
   "source": [
    "from itertools import accumulate"
   ]
  },
  {
   "cell_type": "code",
   "execution_count": null,
   "metadata": {},
   "outputs": [],
   "source": [
    "def cumulative_bases(degree, t):\n",
    "    return list(accumulate(Bernstein.basis(degree, t)[::-1]))[::-1]"
   ]
  },
  {
   "cell_type": "markdown",
   "metadata": {},
   "source": [
    "Finally, they \"translate\" this into a rotation spline using quaternions, like before:\n",
    "\n",
    "\\begin{equation*}\n",
    "q(t) =\n",
    "q_0\n",
    "\\prod_{i=1}^n \\exp\\left(\\omega_i \\tilde{\\beta}_{i,n}(t)\\right),\n",
    "\\end{equation*}\n",
    "\n",
    "where\n",
    "\n",
    "\\begin{equation*}\n",
    "\\omega_i =\n",
    "\\log(q_{i-1}^{-1} q_i).\n",
    "\\end{equation*}"
   ]
  },
  {
   "cell_type": "markdown",
   "metadata": {},
   "source": [
    "Again, they use above notation in the paper,\n",
    "but this could equivalently be written as\n",
    "\n",
    "\\begin{equation*}\n",
    "q(t) =\n",
    "q_0\n",
    "\\prod_{i=1}^n \\left(q_{i-1}^{-1} q_i\\right)^{\\tilde{\\beta}_{i,n}(t)}.\n",
    "\\end{equation*}"
   ]
  },
  {
   "cell_type": "code",
   "execution_count": null,
   "metadata": {},
   "outputs": [],
   "source": [
    "def cumulative_bezier(qs, t):\n",
    "    degree = len(qs) - 1\n",
    "    bases = cumulative_bases(degree, t)\n",
    "    assert np.isclose(bases[0], 1)\n",
    "    return qs[0] * product([\n",
    "        (qs[i - 1].inverse() * qs[i])**bases[i]\n",
    "        for i in range(1, len(qs))\n",
    "    ])"
   ]
  },
  {
   "cell_type": "code",
   "execution_count": null,
   "metadata": {},
   "outputs": [],
   "source": [
    "times = np.linspace(0, 1, 100)"
   ]
  },
  {
   "cell_type": "code",
   "execution_count": null,
   "metadata": {},
   "outputs": [],
   "source": [
    "rotations = [cumulative_bezier(qs, t) for t in times]"
   ]
  },
  {
   "cell_type": "code",
   "execution_count": null,
   "metadata": {},
   "outputs": [],
   "source": [
    "ani = animate_rotations(rotations)"
   ]
  },
  {
   "cell_type": "code",
   "execution_count": null,
   "metadata": {},
   "outputs": [],
   "source": [
    "display_animation(ani, default_mode='reflect')"
   ]
  },
  {
   "cell_type": "markdown",
   "metadata": {},
   "source": [
    "## Comparison with De Casteljau's Algorithm\n",
    "\n",
    "> This Bézier quaternion curve has a different\n",
    "> shape from the Bézier quaternion curve\n",
    "> of <cite data-cite-t=\"shoemake1985animating\">Shoemake (1985)</cite>. \n",
    ">\n",
    "> --<cite data-cite-t=\"kim1995general\">Kim, Kim and Shin (1995)</cite>, section 5.1"
   ]
  },
  {
   "cell_type": "markdown",
   "metadata": {},
   "source": [
    "The method described by <cite data-cite-t=\"shoemake1985animating\">Shoemake (1985)</cite>\n",
    "is shown in [a separate notebook](de-casteljau.ipynb).\n",
    "An implementation is available in the class\n",
    "[splines.quaternion.DeCasteljau](../python-module/splines.quaternion.rst#splines.quaternion.DeCasteljau):"
   ]
  },
  {
   "cell_type": "code",
   "execution_count": null,
   "metadata": {},
   "outputs": [],
   "source": [
    "from splines.quaternion import DeCasteljau"
   ]
  },
  {
   "cell_type": "code",
   "execution_count": null,
   "metadata": {},
   "outputs": [],
   "source": [
    "times = np.linspace(0, 1, 100)"
   ]
  },
  {
   "cell_type": "code",
   "execution_count": null,
   "metadata": {},
   "outputs": [],
   "source": [
    "control_polygon = [\n",
    "    angles2quat(90, 0, 0),\n",
    "    angles2quat(0, -45, 90),\n",
    "    angles2quat(0, 0, 0),\n",
    "    angles2quat(180, 0, 180),\n",
    "]"
   ]
  },
  {
   "cell_type": "code",
   "execution_count": null,
   "metadata": {},
   "outputs": [],
   "source": [
    "cumulative_rotations = [\n",
    "    cumulative_bezier(control_polygon, t)\n",
    "    for t in times\n",
    "]"
   ]
  },
  {
   "cell_type": "code",
   "execution_count": null,
   "metadata": {},
   "outputs": [],
   "source": [
    "cumulative_rotations_reversed = [\n",
    "    cumulative_bezier(control_polygon[::-1], t)\n",
    "    for t in times\n",
    "][::-1]"
   ]
  },
  {
   "cell_type": "code",
   "execution_count": null,
   "metadata": {},
   "outputs": [],
   "source": [
    "casteljau_rotations = DeCasteljau([control_polygon]).evaluate(times)"
   ]
  },
  {
   "cell_type": "code",
   "execution_count": null,
   "metadata": {},
   "outputs": [],
   "source": [
    "ani = animate_rotations({\n",
    "    'De Casteljau': casteljau_rotations,\n",
    "    'Cumulative': cumulative_rotations,\n",
    "    'Cumulative reversed': cumulative_rotations_reversed,\n",
    "})"
   ]
  },
  {
   "cell_type": "code",
   "execution_count": null,
   "metadata": {},
   "outputs": [],
   "source": [
    "display_animation(ani, default_mode='reflect')"
   ]
  },
  {
   "cell_type": "markdown",
   "metadata": {},
   "source": [
    "Applying the same method on the reversed list of control points\n",
    "and then time-reversing the resulting sequence of rotations\n",
    "leads to an equal (except for rounding errors) sequence of rotations\n",
    "when using De Casteljau's algorithm:"
   ]
  },
  {
   "cell_type": "code",
   "execution_count": null,
   "metadata": {},
   "outputs": [],
   "source": [
    "casteljau_rotations_reversed = DeCasteljau([control_polygon[::-1]]).evaluate(times)[::-1]"
   ]
  },
  {
   "cell_type": "code",
   "execution_count": null,
   "metadata": {},
   "outputs": [],
   "source": [
    "for one, two in zip(casteljau_rotations, casteljau_rotations_reversed):\n",
    "    assert np.isclose(one.scalar, two.scalar)\n",
    "    assert np.isclose(one.vector[0], two.vector[0])\n",
    "    assert np.isclose(one.vector[1], two.vector[1])\n",
    "    assert np.isclose(one.vector[2], two.vector[2])"
   ]
  },
  {
   "cell_type": "markdown",
   "metadata": {},
   "source": [
    "However, doing the same thing with the \"cumulative form\"\n",
    "can lead to a significantly different sequence,\n",
    "as can be seen in the above animation."
   ]
  }
 ],
 "metadata": {
  "kernelspec": {
   "display_name": "Python 3",
   "language": "python",
   "name": "python3"
  },
  "language_info": {
   "codemirror_mode": {
    "name": "ipython",
    "version": 3
   },
   "file_extension": ".py",
   "mimetype": "text/x-python",
   "name": "python",
   "nbconvert_exporter": "python",
   "pygments_lexer": "ipython3",
   "version": "3.9.7"
  }
 },
 "nbformat": 4,
 "nbformat_minor": 4
}
