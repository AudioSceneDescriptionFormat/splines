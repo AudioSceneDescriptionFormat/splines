{
 "cells": [
  {
   "cell_type": "markdown",
   "metadata": {
    "nbsphinx": "hidden"
   },
   "source": [
    "This notebook is part of https://github.com/AudioSceneDescriptionFormat/splines, see also https://splines.readthedocs.io/.\n",
    "\n",
    "[back to rotation splines](index.ipynb)"
   ]
  },
  {
   "cell_type": "markdown",
   "metadata": {},
   "source": [
    "# Naive Interpolation of Euler Angles\n",
    "\n",
    "This method for interpolating 3D rotations is not recommended at all!\n",
    "\n",
    "Since 3D rotations can be represented by a list of three angles,\n",
    "it might be tempting to simply interpolate those angles independently.\n",
    "\n",
    "Let's try it and see what happens, shall we?"
   ]
  },
  {
   "cell_type": "code",
   "execution_count": null,
   "metadata": {},
   "outputs": [],
   "source": [
    "import numpy as np"
   ]
  },
  {
   "cell_type": "code",
   "execution_count": null,
   "metadata": {},
   "outputs": [],
   "source": [
    "import splines"
   ]
  },
  {
   "cell_type": "markdown",
   "metadata": {},
   "source": [
    "As always, we use a few helper functions from [helper.py](helper.py):"
   ]
  },
  {
   "cell_type": "code",
   "execution_count": null,
   "metadata": {},
   "outputs": [],
   "source": [
    "from helper import angles2quat, animate_rotations, display_animation"
   ]
  },
  {
   "cell_type": "markdown",
   "metadata": {},
   "source": [
    "We are using\n",
    "[splines.CatmullRom](../python-module/splines.rst#splines.CatmullRom)\n",
    "to interpolate the Euler angles independently and\n",
    "[splines.quaternion.CatmullRom](../python-module/splines.quaternion.rst#splines.quaternion.CatmullRom)\n",
    "to interpolate the associated quaternions for comparison:"
   ]
  },
  {
   "cell_type": "code",
   "execution_count": null,
   "metadata": {},
   "outputs": [],
   "source": [
    "def plot_interpolated_angles(angles):\n",
    "    s1 = splines.CatmullRom(angles, endconditions='closed')\n",
    "    times = np.linspace(s1.grid[0], s1.grid[-1], 100)\n",
    "    s2 = splines.quaternion.CatmullRom(\n",
    "        [angles2quat(azi, ele, roll) for azi, ele, roll in angles],\n",
    "        endconditions='closed')\n",
    "    ani = animate_rotations({\n",
    "        'Euler angles': [angles2quat(*abc) for abc in s1.evaluate(times)],\n",
    "        'quaternions': s2.evaluate(times),\n",
    "    })\n",
    "    display_animation(ani, default_mode='loop')"
   ]
  },
  {
   "cell_type": "code",
   "execution_count": null,
   "metadata": {},
   "outputs": [],
   "source": [
    "plot_interpolated_angles([\n",
    "    (0, 0, 0),\n",
    "    (45, 0, 0),\n",
    "    (90, 45, 0),\n",
    "    (90, 90, 0),\n",
    "    (180, 0, 90),\n",
    "])"
   ]
  },
  {
   "cell_type": "markdown",
   "metadata": {},
   "source": [
    "There is clearly a difference between the two,\n",
    "but the Euler angles don't look that bad.\n",
    "\n",
    "Let's try another example:"
   ]
  },
  {
   "cell_type": "code",
   "execution_count": null,
   "metadata": {},
   "outputs": [],
   "source": [
    "plot_interpolated_angles([\n",
    "    (-175, 0, 0),\n",
    "    (175, 0, 0),\n",
    "])"
   ]
  },
  {
   "cell_type": "markdown",
   "metadata": {},
   "source": [
    "Here we see that the naive interpolation isn't aware\n",
    "that the azimuth angle is supposed to wrap around at 180 degrees.\n",
    "\n",
    "This could be fixed with a less naive implementation,\n",
    "but there are also unfixable problems,\n",
    "as this example shows:"
   ]
  },
  {
   "cell_type": "code",
   "execution_count": null,
   "metadata": {},
   "outputs": [],
   "source": [
    "plot_interpolated_angles([\n",
    "    (45, 45, 0),\n",
    "    (45, 90, 0),\n",
    "    (-135, 45, 180),\n",
    "])"
   ]
  },
  {
   "cell_type": "markdown",
   "metadata": {},
   "source": [
    "Even though all involved rotations are supposed to happen\n",
    "around a single rotation axis,\n",
    "The Euler angles interpolation is all over the place."
   ]
  }
 ],
 "metadata": {
  "kernelspec": {
   "display_name": "Python 3",
   "language": "python",
   "name": "python3"
  },
  "language_info": {
   "codemirror_mode": {
    "name": "ipython",
    "version": 3
   },
   "file_extension": ".py",
   "mimetype": "text/x-python",
   "name": "python",
   "nbconvert_exporter": "python",
   "pygments_lexer": "ipython3",
   "version": "3.9.7"
  }
 },
 "nbformat": 4,
 "nbformat_minor": 4
}
