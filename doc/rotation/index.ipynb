{
 "cells": [
  {
   "cell_type": "markdown",
   "metadata": {
    "nbsphinx": "hidden"
   },
   "source": [
    "This notebook is part of https://github.com/AudioSceneDescriptionFormat/splines, see also https://splines.readthedocs.io/.\n",
    "\n",
    "[back to overview](../index.ipynb)"
   ]
  },
  {
   "cell_type": "markdown",
   "metadata": {},
   "source": [
    "# Rotation Splines"
   ]
  },
  {
   "cell_type": "markdown",
   "metadata": {
    "tags": [
     "nbsphinx-toctree"
    ]
   },
   "source": [
    "* [Quaternions](quaternions.ipynb)\n",
    "* [Spherical Linear Interpolation (Slerp)](slerp.ipynb)\n",
    "* [De Casteljau's Algorithm With Slerp](de-casteljau.ipynb)\n",
    "* [Uniform Catmull--Rom-Like Quaternion Splines](catmull-rom-uniform.ipynb)\n",
    "* [Non-Uniform Catmull--Rom-Like Quaternion Splines](catmull-rom-non-uniform.ipynb)\n",
    "* [Kochanek--Bartels-like Rotation Splines](kochanek-bartels.ipynb)\n",
    "* [\"Natural\" End Conditions](end-conditions-natural.ipynb)\n",
    "* [Barry--Goldman Algorithm With Slerp](barry-goldman.ipynb)\n",
    "* [Cumulative Form](cumulative-form.ipynb)\n",
    "* [Naive 4D Quaternion Interpolation](naive-4d-interpolation.ipynb)\n",
    "* [Naive Interpolation of Euler Angles](naive-euler-angles-interpolation.ipynb)"
   ]
  }
 ],
 "metadata": {
  "kernelspec": {
   "display_name": "Python 3",
   "language": "python",
   "name": "python3"
  },
  "language_info": {
   "codemirror_mode": {
    "name": "ipython",
    "version": 3
   },
   "file_extension": ".py",
   "mimetype": "text/x-python",
   "name": "python",
   "nbconvert_exporter": "python",
   "pygments_lexer": "ipython3",
   "version": "3.9.9"
  }
 },
 "nbformat": 4,
 "nbformat_minor": 4
}
