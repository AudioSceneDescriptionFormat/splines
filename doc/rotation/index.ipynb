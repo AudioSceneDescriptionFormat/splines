{
 "cells": [
  {
   "cell_type": "markdown",
   "metadata": {
    "nbsphinx": "hidden"
   },
   "source": [
    "This notebook is part of https://github.com/AudioSceneDescriptionFormat/splines, see also https://splines.readthedocs.io/.\n",
    "\n",
    "[back to overview](../index.ipynb)"
   ]
  },
  {
   "cell_type": "markdown",
   "metadata": {},
   "source": [
    "# Rotation Splines\n",
    "\n",
    "There are many ways to implement rotation splines.\n",
    "Here we use *unit quaternions* to represent rotations.\n",
    "First, we'll show what *quaternions* are,\n",
    "and how their subset of *unit quaternions* can be used\n",
    "to handle rotations.\n",
    "Based on a special form of linear interpolation called [Slerp](slerp.ipynb),\n",
    "we then use several algorithms that we have seen in\n",
    "[the section about Euclidean splines](../euclidean/index.ipynb) --\n",
    "which all utilize linear interpolations (and extrapolations) --\n",
    "to implement rotation splines.\n",
    "In the end of this section,\n",
    "we present a few methods which are *not* based on Slerp,\n",
    "but it will turn out that they all have severe limitations."
   ]
  },
  {
   "cell_type": "markdown",
   "metadata": {
    "tags": [
     "nbsphinx-toctree"
    ]
   },
   "source": [
    "* [Quaternions](quaternions.ipynb)\n",
    "* [Spherical Linear Interpolation (Slerp)](slerp.ipynb)\n",
    "* [De Casteljau's Algorithm With Slerp](de-casteljau.ipynb)\n",
    "* [Uniform Catmull--Rom-Like Quaternion Splines](catmull-rom-uniform.ipynb)\n",
    "* [Non-Uniform Catmull--Rom-Like Quaternion Splines](catmull-rom-non-uniform.ipynb)\n",
    "* [Kochanek--Bartels-like Rotation Splines](kochanek-bartels.ipynb)\n",
    "* [\"Natural\" End Conditions](end-conditions-natural.ipynb)\n",
    "* [Barry--Goldman Algorithm With Slerp](barry-goldman.ipynb)\n",
    "* [Spherical Quadrangle Interpolation (Squad)](squad.ipynb)\n",
    "* [Cumulative Form](cumulative-form.ipynb)\n",
    "* [Naive 4D Quaternion Interpolation](naive-4d-interpolation.ipynb)\n",
    "* [Naive Interpolation of Euler Angles](naive-euler-angles-interpolation.ipynb)"
   ]
  }
 ],
 "metadata": {
  "kernelspec": {
   "display_name": "Python 3 (ipykernel)",
   "language": "python",
   "name": "python3"
  },
  "language_info": {
   "codemirror_mode": {
    "name": "ipython",
    "version": 3
   },
   "file_extension": ".py",
   "mimetype": "text/x-python",
   "name": "python",
   "nbconvert_exporter": "python",
   "pygments_lexer": "ipython3",
   "version": "3.11.2"
  }
 },
 "nbformat": 4,
 "nbformat_minor": 4
}
