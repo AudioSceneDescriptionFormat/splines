{
 "cells": [
  {
   "cell_type": "markdown",
   "metadata": {
    "nbsphinx": "hidden"
   },
   "source": [
    "This notebook is part of https://github.com/AudioSceneDescriptionFormat/splines, see also https://splines.readthedocs.io/.\n",
    "\n",
    "[back to rotation splines](index.ipynb)"
   ]
  },
  {
   "cell_type": "markdown",
   "metadata": {},
   "source": [
    "# \"Natural\" End Conditions"
   ]
  },
  {
   "cell_type": "markdown",
   "metadata": {},
   "source": [
    "In the\n",
    "[notebook about \"natural\" end conditions for Euclidean splines](../euclidean/end-conditions-natural.ipynb#Bézier-Control-Points)\n",
    "we have derived the following equations\n",
    "for calculating the second and penultimate control points\n",
    "of cubic Bézier splines:\n",
    "\n",
    "\\begin{align*}\n",
    "\\boldsymbol{\\tilde{x}}_0^{(+)} &=\n",
    "\\frac{\\boldsymbol{x}_0 + \\boldsymbol{\\tilde{x}}_1^{(-)}}{2} \\\\\n",
    "\\boldsymbol{\\tilde{x}}_{N-1}^{(-)} &=\n",
    "\\frac{\\boldsymbol{x}_{N-1} + \\boldsymbol{\\tilde{x}}_{N-2}^{(+)}}{2}\n",
    "\\end{align*}"
   ]
  },
  {
   "cell_type": "markdown",
   "metadata": {},
   "source": [
    "These equations can be \"translated\" to quaternions like this:\n",
    "\n",
    "\\begin{align*}\n",
    "\\tilde{q}_0^{(+)} &=\n",
    "\\left(\\tilde{q}_1^{(-)} {q_0}^{-1}\\right)^\\frac{1}{2} q_0 \\\\\n",
    "\\tilde{q}_{N-1}^{(-)} &=\n",
    "\\left(\\tilde{q}_{N-2}^{(+)} {q_{N-1}}^{-1}\\right)^\\frac{1}{2} q_{N-1}\n",
    "\\end{align*}"
   ]
  },
  {
   "cell_type": "markdown",
   "metadata": {},
   "source": [
    "When considering that the control polygon starts with the quaternions\n",
    "$\\left(\n",
    "q_0, \\tilde{q}_0^{(+)}, \\tilde{q}_1^{(-)}, q_1, \\tilde{q}_1^{(+)}, \\dots\n",
    "\\right)$\n",
    "and ends with\n",
    "$\\left(\n",
    "\\dots, q_{N-2}, \\tilde{q}_{N-2}^{(+)}, \\tilde{q}_{N-1}^{(-)}, q_{N-1}\n",
    "\\right)$,\n",
    "we can see that the equations are symmetrical.\n",
    "The resulting control quaternion is calculated as\n",
    "the rotation half-way between the first and third control quaternion,\n",
    "counting either from the beginning ($q_0$) or the end ($q_{N-1}$) of the spline."
   ]
  },
  {
   "cell_type": "code",
   "execution_count": null,
   "metadata": {},
   "outputs": [],
   "source": [
    "def natural_end_condition(first, third):\n",
    "    \"\"\"Return second control quaternion given the first and third.\n",
    "    \n",
    "    This also works when counting from the end of the spline.\n",
    "    \n",
    "    \"\"\"\n",
    "    return first.rotation_to(third)**(1 / 2) * first"
   ]
  },
  {
   "cell_type": "markdown",
   "metadata": {},
   "source": [
    "## Examples"
   ]
  },
  {
   "cell_type": "markdown",
   "metadata": {},
   "source": [
    "Let's first import NumPy, a few helpers from [helper.py](helper.py)\n",
    "and the class\n",
    "[splines.quaternion.DeCasteljau](../python-module/splines.quaternion.rst#splines.quaternion.DeCasteljau):"
   ]
  },
  {
   "cell_type": "code",
   "execution_count": null,
   "metadata": {},
   "outputs": [],
   "source": [
    "import numpy as np\n",
    "from helper import angles2quat, animate_rotations, display_animation\n",
    "from splines.quaternion import DeCasteljau"
   ]
  },
  {
   "cell_type": "markdown",
   "metadata": {},
   "source": [
    "Furthermore,\n",
    "let's define a helper function for evaluating a single spline segment:"
   ]
  },
  {
   "cell_type": "code",
   "execution_count": null,
   "metadata": {},
   "outputs": [],
   "source": [
    "def calculate_rotations(control_quaternions):\n",
    "    times = np.linspace(0, 1, 50)\n",
    "    return DeCasteljau(\n",
    "        segments=[control_quaternions],\n",
    "    ).evaluate(times)"
   ]
  },
  {
   "cell_type": "code",
   "execution_count": null,
   "metadata": {},
   "outputs": [],
   "source": [
    "q0 = angles2quat(45, 0, 0)\n",
    "q1 = angles2quat(-45, 0, 0)"
   ]
  },
  {
   "cell_type": "code",
   "execution_count": null,
   "metadata": {},
   "outputs": [],
   "source": [
    "q1_control = angles2quat(-45, 0, -90)"
   ]
  },
  {
   "cell_type": "code",
   "execution_count": null,
   "metadata": {},
   "outputs": [],
   "source": [
    "ani = animate_rotations({\n",
    "    'natural begin': calculate_rotations(\n",
    "        [q0, natural_end_condition(q0, q1_control), q1_control, q1]),\n",
    "})"
   ]
  },
  {
   "cell_type": "code",
   "execution_count": null,
   "metadata": {},
   "outputs": [],
   "source": [
    "display_animation(ani, default_mode='reflect')"
   ]
  },
  {
   "cell_type": "code",
   "execution_count": null,
   "metadata": {},
   "outputs": [],
   "source": [
    "q0_control = angles2quat(45, 0, 90)"
   ]
  },
  {
   "cell_type": "code",
   "execution_count": null,
   "metadata": {},
   "outputs": [],
   "source": [
    "ani = animate_rotations({\n",
    "    'natural end': calculate_rotations(\n",
    "        [q0, q0_control, natural_end_condition(q1, q0_control), q1]),\n",
    "})"
   ]
  },
  {
   "cell_type": "code",
   "execution_count": null,
   "metadata": {},
   "outputs": [],
   "source": [
    "display_animation(ani, default_mode='reflect')"
   ]
  }
 ],
 "metadata": {
  "kernelspec": {
   "display_name": "Python 3",
   "language": "python",
   "name": "python3"
  },
  "language_info": {
   "codemirror_mode": {
    "name": "ipython",
    "version": 3
   },
   "file_extension": ".py",
   "mimetype": "text/x-python",
   "name": "python",
   "nbconvert_exporter": "python",
   "pygments_lexer": "ipython3",
   "version": "3.9.9"
  }
 },
 "nbformat": 4,
 "nbformat_minor": 4
}
