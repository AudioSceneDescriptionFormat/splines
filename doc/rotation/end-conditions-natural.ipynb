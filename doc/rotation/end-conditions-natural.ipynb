{
 "cells": [
  {
   "cell_type": "markdown",
   "metadata": {
    "nbsphinx": "hidden"
   },
   "source": [
    "This notebook is part of https://github.com/AudioSceneDescriptionFormat/splines, see also https://splines.readthedocs.io/."
   ]
  },
  {
   "cell_type": "markdown",
   "metadata": {},
   "source": [
    "# \"Natural\" End Conditions\n",
    "\n",
    "[notebook about \"natural\" end conditions for Euclidean splines](../euclidean/end-conditions-natural.ipynb)"
   ]
  },
  {
   "cell_type": "code",
   "execution_count": null,
   "metadata": {},
   "outputs": [],
   "source": [
    "import numpy as np"
   ]
  },
  {
   "cell_type": "markdown",
   "metadata": {},
   "source": [
    "[helper.py](helper.py)"
   ]
  },
  {
   "cell_type": "code",
   "execution_count": null,
   "metadata": {},
   "outputs": [],
   "source": [
    "from helper import angles2quat, animate_rotations, display_animation"
   ]
  },
  {
   "cell_type": "markdown",
   "metadata": {},
   "source": [
    "[splines.quaternion.DeCasteljau](../python-module/splines.quaternion.rst#splines.quaternion.DeCasteljau)"
   ]
  },
  {
   "cell_type": "code",
   "execution_count": null,
   "metadata": {},
   "outputs": [],
   "source": [
    "from splines.quaternion import DeCasteljau"
   ]
  },
  {
   "cell_type": "code",
   "execution_count": null,
   "metadata": {},
   "outputs": [],
   "source": [
    "def calculate_rotations(control_quaternions):\n",
    "    times = np.linspace(0, 1, 50)\n",
    "    return DeCasteljau(\n",
    "        segments=[control_quaternions],\n",
    "    ).evaluate(times)"
   ]
  },
  {
   "cell_type": "code",
   "execution_count": null,
   "metadata": {},
   "outputs": [],
   "source": [
    "q0 = angles2quat(45, 0, 0)\n",
    "q1 = angles2quat(-45, 0, 0)"
   ]
  },
  {
   "cell_type": "markdown",
   "metadata": {},
   "source": [
    "## Begin"
   ]
  },
  {
   "cell_type": "code",
   "execution_count": null,
   "metadata": {},
   "outputs": [],
   "source": [
    "def natural_begin(begin, end_control, end):\n",
    "    \"\"\"Return second control quaternion given the other three.\"\"\"\n",
    "    return (\n",
    "        ((end * end_control.inverse())).inverse() *\n",
    "        (end * begin.inverse())\n",
    "    )**(1 / 2) * begin"
   ]
  },
  {
   "cell_type": "code",
   "execution_count": null,
   "metadata": {},
   "outputs": [],
   "source": [
    "q1_control = angles2quat(-45, 0, -90)"
   ]
  },
  {
   "cell_type": "code",
   "execution_count": null,
   "metadata": {},
   "outputs": [],
   "source": [
    "ani = animate_rotations({\n",
    "    'natural begin': calculate_rotations(\n",
    "        [q0, natural_begin(q0, q1_control, q1), q1_control, q1]),\n",
    "}, figsize=(4, 3))"
   ]
  },
  {
   "cell_type": "code",
   "execution_count": null,
   "metadata": {},
   "outputs": [],
   "source": [
    "display_animation(ani, default_mode='reflect')"
   ]
  },
  {
   "cell_type": "markdown",
   "metadata": {},
   "source": [
    "## End"
   ]
  },
  {
   "cell_type": "code",
   "execution_count": null,
   "metadata": {},
   "outputs": [],
   "source": [
    "def natural_end(begin, begin_control, end):\n",
    "    \"\"\"Return third control quaternion given the other three.\"\"\"\n",
    "    return (\n",
    "        end.inverse() *\n",
    "        (\n",
    "            (end * begin.inverse()) *\n",
    "            ((begin_control * begin.inverse())).inverse()\n",
    "        )**(1 / 2)).inverse()"
   ]
  },
  {
   "cell_type": "code",
   "execution_count": null,
   "metadata": {},
   "outputs": [],
   "source": [
    "q0_control = angles2quat(45, 0, 90)"
   ]
  },
  {
   "cell_type": "code",
   "execution_count": null,
   "metadata": {},
   "outputs": [],
   "source": [
    "ani = animate_rotations({\n",
    "    'natural end': calculate_rotations(\n",
    "        [q0, q0_control, natural_end(q0, q0_control, q1), q1]),\n",
    "}, figsize=(4, 3))"
   ]
  },
  {
   "cell_type": "code",
   "execution_count": null,
   "metadata": {},
   "outputs": [],
   "source": [
    "display_animation(ani, default_mode='reflect')"
   ]
  },
  {
   "cell_type": "markdown",
   "metadata": {},
   "source": [
    "## (Non-)Symmetries\n",
    "\n",
    "Instead of using the function for the begin condition,\n",
    "we could of course also reverse the control quaternions,\n",
    "use the function for the end condition\n",
    "and time-reverse the result.\n",
    "And vice-versa.\n",
    "\n",
    "Let's make sure that works:"
   ]
  },
  {
   "cell_type": "code",
   "execution_count": null,
   "metadata": {},
   "outputs": [],
   "source": [
    "ani = animate_rotations({\n",
    "    'natural end': calculate_rotations(\n",
    "        [q0, q0_control, natural_end(q0, q0_control, q1), q1]),\n",
    "    'natural begin, time-reversed': calculate_rotations(\n",
    "        [q1, natural_begin(q1, q0_control, q0), q0_control, q0])[::-1],\n",
    "}, figsize=(6, 3))"
   ]
  },
  {
   "cell_type": "code",
   "execution_count": null,
   "metadata": {},
   "outputs": [],
   "source": [
    "display_animation(ani, default_mode='reflect')"
   ]
  },
  {
   "cell_type": "code",
   "execution_count": null,
   "metadata": {},
   "outputs": [],
   "source": [
    "begin = natural_begin(q0, q1_control, q1)"
   ]
  },
  {
   "cell_type": "code",
   "execution_count": null,
   "metadata": {},
   "outputs": [],
   "source": [
    "ani = animate_rotations({\n",
    "    'natural begin': calculate_rotations(\n",
    "        [q0, begin, q1_control, q1]),\n",
    "    'natural end from natural begin': calculate_rotations(\n",
    "        [q0, begin, natural_end(q0, begin, q1), q1]),\n",
    "}, figsize=(6, 3))"
   ]
  },
  {
   "cell_type": "code",
   "execution_count": null,
   "metadata": {},
   "outputs": [],
   "source": [
    "display_animation(ani, default_mode='reflect')"
   ]
  },
  {
   "cell_type": "code",
   "execution_count": null,
   "metadata": {},
   "outputs": [],
   "source": [
    "end = natural_end(q0, q0_control, q1)"
   ]
  },
  {
   "cell_type": "code",
   "execution_count": null,
   "metadata": {},
   "outputs": [],
   "source": [
    "ani = animate_rotations({\n",
    "    'natural end': calculate_rotations(\n",
    "        [q0, q0_control, end, q1]),\n",
    "    'natural begin from natural end': calculate_rotations(\n",
    "        [q0, natural_begin(q0, end, q1), end, q1]),\n",
    "}, figsize=(6, 3))"
   ]
  },
  {
   "cell_type": "code",
   "execution_count": null,
   "metadata": {},
   "outputs": [],
   "source": [
    "display_animation(ani, default_mode='reflect')"
   ]
  },
  {
   "cell_type": "code",
   "execution_count": null,
   "metadata": {},
   "outputs": [],
   "source": []
  }
 ],
 "metadata": {
  "kernelspec": {
   "display_name": "Python 3",
   "language": "python",
   "name": "python3"
  },
  "language_info": {
   "codemirror_mode": {
    "name": "ipython",
    "version": 3
   },
   "file_extension": ".py",
   "mimetype": "text/x-python",
   "name": "python",
   "nbconvert_exporter": "python",
   "pygments_lexer": "ipython3",
   "version": "3.8.3"
  }
 },
 "nbformat": 4,
 "nbformat_minor": 4
}
