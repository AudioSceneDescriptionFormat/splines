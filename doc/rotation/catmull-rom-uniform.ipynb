{
 "cells": [
  {
   "cell_type": "markdown",
   "metadata": {
    "nbsphinx": "hidden"
   },
   "source": [
    "This notebook is part of https://github.com/AudioSceneDescriptionFormat/splines, see also https://splines.readthedocs.io/.\n",
    "\n",
    "[back to rotation splines](index.ipynb)"
   ]
  },
  {
   "cell_type": "markdown",
   "metadata": {},
   "source": [
    "# Uniform Catmull--Rom-Like Quaternion Splines"
   ]
  },
  {
   "cell_type": "markdown",
   "metadata": {},
   "source": [
    "We have seen how to use\n",
    "[de Casteljau's algorithm with Slerp](de-casteljau.ipynb)\n",
    "to create \"cubic\" Bézier-like quaternion curve segments."
   ]
  },
  {
   "cell_type": "code",
   "execution_count": null,
   "metadata": {},
   "outputs": [],
   "source": [
    "def slerp(one, two, t):\n",
    "    return (two * one.inverse())**t * one"
   ]
  },
  {
   "cell_type": "markdown",
   "metadata": {},
   "source": [
    "However, if we only have a sequence of quaternions to be interpolated\n",
    "and no additional Bézier control quaternions are provided,\n",
    "it would be great if we could compute\n",
    "the missing control quaternions automatically\n",
    "from neighboring quaternions."
   ]
  },
  {
   "cell_type": "markdown",
   "metadata": {},
   "source": [
    "In the\n",
    "[notebook about (uniform) Euclidean Catmull--Rom splines](../euclidean/catmull-rom-uniform.ipynb#Using-Bézier-Segments)\n",
    "we have already seen how this can be done for splines in the Euclidean space:\n",
    "\n",
    "\\begin{equation*}\n",
    "\\boldsymbol{\\tilde{x}}_i^{(+)}\n",
    "= \\boldsymbol{x}_i + \\frac{\\boldsymbol{\\dot{x}}_i}{3}\n",
    "= \\boldsymbol{x}_i + \\frac{\\boldsymbol{x}_{i+1} - \\boldsymbol{x}_{i-1}}{6}\\\\\n",
    "\\boldsymbol{\\tilde{x}}_i^{(-)}\n",
    "= \\boldsymbol{x}_i - \\frac{\\boldsymbol{\\dot{x}}_i}{3}\n",
    "= \\boldsymbol{x}_i - \\frac{\\boldsymbol{x}_{i+1} - \\boldsymbol{x}_{i-1}}{6}\n",
    "\\end{equation*}"
   ]
  },
  {
   "cell_type": "markdown",
   "metadata": {},
   "source": [
    "\\begin{equation*}\n",
    "\\boldsymbol{\\dot{x}}_i =\n",
    "\\frac{\\boldsymbol{x}_{i+1} - \\boldsymbol{x}_{i-1}}{2} =\n",
    "\\frac{(\\boldsymbol{x}_i - \\boldsymbol{x}_{i-1}) +\n",
    "(\\boldsymbol{x}_{i+1} - \\boldsymbol{x}_i)\n",
    "}{2} =\n",
    "\\frac{\\boldsymbol{x}_i - \\boldsymbol{x}_{i-1}}{2} +\n",
    "\\frac{\\boldsymbol{x}_{i+1} - \\boldsymbol{x}_i}{2}\n",
    "\\end{equation*}"
   ]
  },
  {
   "cell_type": "markdown",
   "metadata": {},
   "source": [
    "\\begin{align*}\n",
    "\\tilde{q}_{i}^{(+)}\n",
    "&=\n",
    "q_{i,\\text{offset}} \\; q_i\\\\\n",
    "\\tilde{q}_{i}^{(-)}\n",
    "&=\n",
    "{q_{i,\\text{offset}}}^{-1} \\; q_i\n",
    "\\end{align*}"
   ]
  },
  {
   "cell_type": "markdown",
   "metadata": {},
   "source": [
    "[helper.py](helper.py)"
   ]
  },
  {
   "cell_type": "code",
   "execution_count": null,
   "metadata": {},
   "outputs": [],
   "source": [
    "from helper import angles2quat"
   ]
  },
  {
   "cell_type": "code",
   "execution_count": null,
   "metadata": {},
   "outputs": [],
   "source": [
    "q3 = angles2quat(0, 0, 0)\n",
    "q4 = angles2quat(0, 45, -10)\n",
    "q5 = angles2quat(90, 0, -90)"
   ]
  },
  {
   "cell_type": "markdown",
   "metadata": {},
   "source": [
    "\\begin{equation*}\n",
    "q_{i,\\text{offset}}\n",
    "\\overset{?}{=}\n",
    "\\left(q_{i+1} {q_{i-1}}^{-1}\\right)^{\\frac{1}{6}}\n",
    "\\end{equation*}"
   ]
  },
  {
   "cell_type": "code",
   "execution_count": null,
   "metadata": {},
   "outputs": [],
   "source": [
    "offset_a = q3.rotation_to(q5)**(1/6)"
   ]
  },
  {
   "cell_type": "markdown",
   "metadata": {},
   "source": [
    "In order to visualize this situation,\n",
    "we use a little helper function from \n",
    "[helper.py](helper.py):"
   ]
  },
  {
   "cell_type": "code",
   "execution_count": null,
   "metadata": {},
   "outputs": [],
   "source": [
    "from helper import squashed_tangent_space"
   ]
  },
  {
   "cell_type": "code",
   "execution_count": null,
   "metadata": {},
   "outputs": [],
   "source": [
    "# TODO: use (correct) tangent for x-alignment?"
   ]
  },
  {
   "cell_type": "code",
   "execution_count": null,
   "metadata": {},
   "outputs": [],
   "source": [
    "squash = squashed_tangent_space(q4, q5, q3)"
   ]
  },
  {
   "cell_type": "markdown",
   "metadata": {},
   "source": [
    "We can use this to project the participating quaternions\n",
    "onto a two-dimensional plane which we can then use to make 2D plots."
   ]
  },
  {
   "cell_type": "code",
   "execution_count": null,
   "metadata": {},
   "outputs": [],
   "source": [
    "import numpy as np\n",
    "import matplotlib.pyplot as plt"
   ]
  },
  {
   "cell_type": "code",
   "execution_count": null,
   "metadata": {},
   "outputs": [],
   "source": [
    "t = np.linspace(0, 1, 100)"
   ]
  },
  {
   "cell_type": "code",
   "execution_count": null,
   "metadata": {},
   "outputs": [],
   "source": [
    "def plot_chords():\n",
    "    plt.scatter(*squash([q3, q4, q5]).T)\n",
    "    plt.text(*squash(q3).T, 'q3')\n",
    "    plt.text(*squash(q4).T, 'q4')\n",
    "    plt.text(*squash(q5).T, 'q5')\n",
    "    plt.plot(*squash(slerp(q3, q4, t)).T)\n",
    "    plt.plot(*squash(slerp(q4, q5, t)).T)"
   ]
  },
  {
   "cell_type": "code",
   "execution_count": null,
   "metadata": {},
   "outputs": [],
   "source": [
    "plot_chords()\n",
    "plt.scatter(*squash([offset_a * q4]).T)\n",
    "plt.plot(*squash(slerp(q3, q5, t)).T, '--')\n",
    "plt.plot(*squash(slerp(q4, offset_a * q4, t)).T, ':')\n",
    "plt.axis('equal');"
   ]
  },
  {
   "cell_type": "markdown",
   "metadata": {},
   "source": [
    "\\begin{align*}\n",
    "q_\\text{in} &= q_i {q_{i-1}}^{-1}\\\\\n",
    "q_\\text{out} &= q_{i+1} {q_i}^{-1}\n",
    "\\end{align*}"
   ]
  },
  {
   "cell_type": "code",
   "execution_count": null,
   "metadata": {},
   "outputs": [],
   "source": [
    "q_in = q3.rotation_to(q4)\n",
    "q_out = q4.rotation_to(q5)"
   ]
  },
  {
   "cell_type": "markdown",
   "metadata": {},
   "source": [
    "\\begin{equation*}\n",
    "q_{i,\\text{offset}}\n",
    "\\overset{?}{=}\n",
    "\\left(q_\\text{out} q_\\text{in} \\right)^{\\frac{1}{6}}\n",
    "\\end{equation*}"
   ]
  },
  {
   "cell_type": "code",
   "execution_count": null,
   "metadata": {},
   "outputs": [],
   "source": [
    "offset_b = (q_out * q_in)**(1/6)"
   ]
  },
  {
   "cell_type": "markdown",
   "metadata": {},
   "source": [
    "\\begin{equation*}\n",
    "q_{i,\\text{offset}}\n",
    "\\overset{?}{=}\n",
    "\\left(q_\\text{in} q_\\text{out} \\right)^{\\frac{1}{6}}\n",
    "\\end{equation*}"
   ]
  },
  {
   "cell_type": "code",
   "execution_count": null,
   "metadata": {},
   "outputs": [],
   "source": [
    "offset_c = (q_in * q_out)**(1/6)"
   ]
  },
  {
   "cell_type": "code",
   "execution_count": null,
   "metadata": {},
   "outputs": [],
   "source": [
    "max(map(abs, (offset_b - offset_c).xyzw))"
   ]
  },
  {
   "cell_type": "code",
   "execution_count": null,
   "metadata": {},
   "outputs": [],
   "source": [
    "from splines.quaternion import UnitQuaternion"
   ]
  },
  {
   "cell_type": "code",
   "execution_count": null,
   "metadata": {},
   "outputs": [],
   "source": [
    "plot_chords()\n",
    "plt.scatter(*squash([offset_b * q4]).T)\n",
    "\n",
    "plt.plot(*squash(slerp(UnitQuaternion(), q_in, t) * q4).T, '--')\n",
    "plt.plot(*squash(slerp(UnitQuaternion(), q_out, t) * q_in * q4).T, '--')\n",
    "plt.plot(*squash(slerp(q4, offset_b * q4, t)).T, ':')\n",
    "\n",
    "plt.plot(*squash(slerp(UnitQuaternion(), q_in, t) * q5).T, '--')\n",
    "\n",
    "plt.axis('equal');"
   ]
  },
  {
   "cell_type": "code",
   "execution_count": null,
   "metadata": {},
   "outputs": [],
   "source": [
    "max(map(abs, (offset_b - offset_a).xyzw)), max(map(abs, (offset_c - offset_a).xyzw))"
   ]
  },
  {
   "cell_type": "markdown",
   "metadata": {},
   "source": [
    "\\begin{equation*}\n",
    "q_{i,\\text{offset}}\n",
    "\\overset{?}{=}\n",
    "\\left({q_\\text{out}}^{\\frac{1}{6}} {q_\\text{in}}^{\\frac{1}{6}} \\right)\n",
    "\\end{equation*}"
   ]
  },
  {
   "cell_type": "code",
   "execution_count": null,
   "metadata": {},
   "outputs": [],
   "source": [
    "offset_d = (q_out**(1/6) * q_in**(1/6))"
   ]
  },
  {
   "cell_type": "code",
   "execution_count": null,
   "metadata": {},
   "outputs": [],
   "source": [
    "plot_chords()\n",
    "plt.scatter(*squash([offset_d * q4]).T)\n",
    "\n",
    "plt.plot(*squash(slerp(UnitQuaternion(), q_in**(1/6), t) * q4).T, '--')\n",
    "plt.plot(*squash(slerp(UnitQuaternion(), q_out**(1/6), t) * q_in**(1/6) * q4).T, '--')\n",
    "\n",
    "plt.plot(*squash(slerp(q4, offset_d * q4, t)).T, ':')\n",
    "\n",
    "plt.plot(*squash(slerp(UnitQuaternion(), q_in**(1/6), t) * q_out**(1/6) * q4).T, '--')\n",
    "\n",
    "plt.axis('equal');"
   ]
  },
  {
   "cell_type": "markdown",
   "metadata": {},
   "source": [
    "\\begin{equation*}\n",
    "q_{i,\\text{offset}}\n",
    "\\overset{?}{=}\n",
    "\\left({q_\\text{out}}^{\\frac{1}{6}} {q_\\text{in}}^{\\frac{1}{6}} \\right)\n",
    "\\end{equation*}"
   ]
  },
  {
   "cell_type": "code",
   "execution_count": null,
   "metadata": {},
   "outputs": [],
   "source": [
    "offset_e = (q_in**(1/6) * q_out**(1/6))"
   ]
  },
  {
   "cell_type": "code",
   "execution_count": null,
   "metadata": {},
   "outputs": [],
   "source": [
    "max(map(abs, (offset_e - offset_d).xyzw))"
   ]
  },
  {
   "cell_type": "markdown",
   "metadata": {},
   "source": [
    "\\begin{equation*}\n",
    "q_{i,\\text{offset}}\n",
    "\\overset{?}{=}\n",
    "\\left(\n",
    "\\left(\n",
    "{q_\\text{out}}^{\\frac{1}{6}}\n",
    "{q_\\text{in}}^{-\\frac{1}{6}}\n",
    "\\right)^{\\frac{1}{2}}\n",
    "{q_\\text{in}}^{\\frac{1}{6}}\n",
    "\\right)^2\n",
    "= \\left(\n",
    "\\left(\n",
    "{q_\\text{in}}^{\\frac{1}{6}}\n",
    "{q_\\text{out}}^{-\\frac{1}{6}}\n",
    "\\right)^{\\frac{1}{2}}\n",
    "{q_\\text{out}}^{\\frac{1}{6}}\n",
    "\\right)^2\n",
    "\\end{equation*}"
   ]
  },
  {
   "cell_type": "code",
   "execution_count": null,
   "metadata": {},
   "outputs": [],
   "source": [
    "offset_f = ((q_out**(1/6) * q_in**(-1/6))**(1/2) * q_in**(1/6))**2"
   ]
  },
  {
   "cell_type": "code",
   "execution_count": null,
   "metadata": {},
   "outputs": [],
   "source": [
    "offset_g = ((q_in**(1/6) * q_out**(-1/6))**(1/2) * q_out**(1/6))**2"
   ]
  },
  {
   "cell_type": "code",
   "execution_count": null,
   "metadata": {},
   "outputs": [],
   "source": [
    "max(map(abs, (offset_g - offset_f).xyzw))"
   ]
  },
  {
   "cell_type": "code",
   "execution_count": null,
   "metadata": {},
   "outputs": [],
   "source": [
    "plot_chords()\n",
    "plt.scatter(*squash([offset_f * q4]).T)\n",
    "\n",
    "plt.plot(*squash(slerp(q4, q_in**(1/6) * q4, t)).T, '--')\n",
    "\n",
    "plt.plot(*squash(\n",
    "    slerp(UnitQuaternion(), (q_out**(1/6) * q_in**(-1/6))**(1/2), t) *\n",
    "    q_in**(1/6) * q4).T, '--')\n",
    "\n",
    "plt.plot(*squash(slerp(q4, offset_f * q4, t)).T, ':')\n",
    "\n",
    "plt.axis('equal');"
   ]
  },
  {
   "cell_type": "markdown",
   "metadata": {},
   "source": [
    "\\begin{equation*}\n",
    "q_{i,\\text{offset}}\n",
    "\\overset{?}{=}\n",
    "\\exp\\left(\n",
    "\\frac{\\ln(q_\\text{in}) + \\ln(q_\\text{out})}{6}\n",
    "\\right)\n",
    "\\end{equation*}"
   ]
  },
  {
   "cell_type": "code",
   "execution_count": null,
   "metadata": {},
   "outputs": [],
   "source": [
    "offset_h = UnitQuaternion.exp_map((q_in.log_map() + q_out.log_map()) / 6)"
   ]
  },
  {
   "cell_type": "code",
   "execution_count": null,
   "metadata": {},
   "outputs": [],
   "source": [
    "max(map(abs, (offset_h - offset_f).xyzw))"
   ]
  },
  {
   "cell_type": "code",
   "execution_count": null,
   "metadata": {},
   "outputs": [],
   "source": [
    "def offset(q_1, q0, q1):\n",
    "    q_in = q0 * q_1.inverse()\n",
    "    q_out = q1 * q0.inverse()\n",
    "    return UnitQuaternion.exp_map((q_in.log_map() + q_out.log_map()) / 6)"
   ]
  },
  {
   "cell_type": "code",
   "execution_count": null,
   "metadata": {},
   "outputs": [],
   "source": [
    "from splines.quaternion import DeCasteljau, canonicalized"
   ]
  },
  {
   "cell_type": "markdown",
   "metadata": {},
   "source": [
    "[helper.py](helper.py)"
   ]
  },
  {
   "cell_type": "code",
   "execution_count": null,
   "metadata": {},
   "outputs": [],
   "source": [
    "from helper import animate_rotations, display_animation"
   ]
  },
  {
   "cell_type": "code",
   "execution_count": null,
   "metadata": {},
   "outputs": [],
   "source": [
    "def create_closed_curve(rotations):\n",
    "    rotations = list(canonicalized(rotations + rotations[:2]))\n",
    "    control_points = []\n",
    "    for q_1, q0, q1 in zip(rotations, rotations[1:], rotations[2:]):\n",
    "        q_offset = offset(q_1, q0, q1)\n",
    "        control_points.extend([q_offset.inverse() * q0, q0, q0, q_offset * q0])\n",
    "    control_points = control_points[-2:] + control_points[:-2]\n",
    "    segments = list(zip(*[iter(control_points)] * 4))\n",
    "    return DeCasteljau(segments)"
   ]
  },
  {
   "cell_type": "code",
   "execution_count": null,
   "metadata": {},
   "outputs": [],
   "source": [
    "rotations = [\n",
    "    angles2quat(0, 0, 180),\n",
    "    angles2quat(0, 45, 90),\n",
    "    angles2quat(90, 45, 0),\n",
    "    angles2quat(90, 90, -90),\n",
    "    angles2quat(180, 0, -180),\n",
    "    angles2quat(-90, -45, 180),\n",
    "]"
   ]
  },
  {
   "cell_type": "code",
   "execution_count": null,
   "metadata": {},
   "outputs": [],
   "source": [
    "s = create_closed_curve(rotations)"
   ]
  },
  {
   "cell_type": "code",
   "execution_count": null,
   "metadata": {},
   "outputs": [],
   "source": [
    "times = np.linspace(0, len(rotations), 200, endpoint=False)"
   ]
  },
  {
   "cell_type": "code",
   "execution_count": null,
   "metadata": {},
   "outputs": [],
   "source": [
    "ani = animate_rotations(s.evaluate(times), figsize=(4, 2))"
   ]
  },
  {
   "cell_type": "code",
   "execution_count": null,
   "metadata": {},
   "outputs": [],
   "source": [
    "display_animation(ani, default_mode='loop')"
   ]
  }
 ],
 "metadata": {
  "kernelspec": {
   "display_name": "Python 3",
   "language": "python",
   "name": "python3"
  },
  "language_info": {
   "codemirror_mode": {
    "name": "ipython",
    "version": 3
   },
   "file_extension": ".py",
   "mimetype": "text/x-python",
   "name": "python",
   "nbconvert_exporter": "python",
   "pygments_lexer": "ipython3",
   "version": "3.9.2"
  }
 },
 "nbformat": 4,
 "nbformat_minor": 4
}
