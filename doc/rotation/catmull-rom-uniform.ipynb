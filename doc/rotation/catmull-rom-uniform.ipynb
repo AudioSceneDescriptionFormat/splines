{
 "cells": [
  {
   "cell_type": "markdown",
   "metadata": {},
   "source": [
    "# Uniform Catmull--Rom-Like Quaternion Splines\n",
    "\n",
    "see [notebook about De Casteljau's algorithm (with Slerp)](de-casteljau.ipynb)\n",
    "\n",
    "[notebook about Euclidean Catmull--Rom splines](../euclidean/catmull-rom-properties.ipynb#Tangent-Vectors)\n",
    "\n",
    "\\begin{equation*}\n",
    "\\boldsymbol{\\dot{x}}_i =\n",
    "\\frac{\\boldsymbol{x}_{i+1} - \\boldsymbol{x}_{i-1}}{2} =\n",
    "\\frac{(\\boldsymbol{x}_i - \\boldsymbol{x}_{i-1}) +\n",
    "(\\boldsymbol{x}_{i+1} - \\boldsymbol{x}_i)\n",
    "}{2} =\n",
    "\\frac{\\boldsymbol{x}_i - \\boldsymbol{x}_{i-1}}{2} +\n",
    "\\frac{\\boldsymbol{x}_{i+1} - \\boldsymbol{x}_i}{2}\n",
    "\\end{equation*}\n",
    "\n",
    "[section about cubic Euclidean Bézier splines](../euclidean/bezier-de-casteljau.ipynb#Degree-3,-a.k.a.-cubic):\n",
    "division by 3"
   ]
  },
  {
   "cell_type": "markdown",
   "metadata": {},
   "source": [
    "\\begin{equation*}\n",
    "q_{i,\\text{tangent}}\n",
    "\\overset{?}{=}\n",
    "\\begin{cases}\n",
    "\\left(q_{i+1} {q_{i-1}}^{-1}\\right)^{\\frac{1}{2} \\frac{1}{3}} \\\\\n",
    "\\left(q_\\text{out} q_\\text{in} \\right)^{\\frac{1}{2} \\frac{1}{3}} \\\\\n",
    "\\left(\n",
    "{q_\\text{out}}^{\\frac{1}{2}}\n",
    "{q_\\text{in}}^{\\frac{1}{2}}\n",
    "\\right)^\\frac{1}{3} \\\\\n",
    "{q_\\text{out}}^{\\frac{1}{2} \\frac{1}{3}}\n",
    "{q_\\text{in}}^{\\frac{1}{2} \\frac{1}{3}} \\\\\n",
    "\\left(\n",
    "\\left(\n",
    "{q_\\text{out}}^{\\frac{1}{2} \\frac{1}{3}}\n",
    "{q_\\text{in}}^{-1  \\frac{1}{2} \\frac{1}{3}}\n",
    "\\right)^{\\frac{1}{2}}\n",
    "{q_\\text{in}}^{\\frac{1}{2} \\frac{1}{3}}\n",
    "\\right)^2 =\n",
    "\\left(\n",
    "\\left(\n",
    "{q_\\text{in}}^{\\frac{1}{2} \\frac{1}{3}}\n",
    "{q_\\text{out}}^{-1  \\frac{1}{2} \\frac{1}{3}}\n",
    "\\right)^{\\frac{1}{2}}\n",
    "{q_\\text{out}}^{\\frac{1}{2} \\frac{1}{3}}\n",
    "\\right)^2 \\\\\n",
    "\\exp\\left(\n",
    "\\frac{1}{2} \\frac{1}{3} (\\ln(q_\\text{in}) + \\ln(q_\\text{out}))\n",
    "\\right)\n",
    "\\end{cases}\n",
    "\\end{equation*}\n",
    "\n",
    "where $q_\\text{in} = q_i {q_{i-1}}^{-1}$\n",
    "and $q_\\text{out} = q_{i+1} {q_i}^{-1}$."
   ]
  },
  {
   "cell_type": "markdown",
   "metadata": {},
   "source": [
    "The first four options are quite certainly wrong (although not by much),\n",
    "so we are only looking at the last two here:"
   ]
  },
  {
   "cell_type": "code",
   "execution_count": null,
   "metadata": {},
   "outputs": [],
   "source": [
    "def tangent1(q_1, q0, q1):\n",
    "    q_in = (q0 * q_1.inverse())**(1 / (2 * 3))\n",
    "    q_out = (q1 * q0.inverse())**(1 / (2 * 3))\n",
    "    return ((q_out * q_in.inverse())**(1 / 2) * q_in)**2"
   ]
  },
  {
   "cell_type": "code",
   "execution_count": null,
   "metadata": {},
   "outputs": [],
   "source": [
    "def tangent2(q_1, q0, q1):\n",
    "    q_in = q0 * q_1.inverse()\n",
    "    q_out = q1 * q0.inverse()\n",
    "    return UnitQuaternion.exp_map((q_in.log_map() + q_out.log_map()) / (2 * 3))"
   ]
  },
  {
   "cell_type": "code",
   "execution_count": null,
   "metadata": {},
   "outputs": [],
   "source": [
    "import numpy as np"
   ]
  },
  {
   "cell_type": "code",
   "execution_count": null,
   "metadata": {},
   "outputs": [],
   "source": [
    "from splines.quaternion import DeCasteljau, UnitQuaternion"
   ]
  },
  {
   "cell_type": "markdown",
   "metadata": {},
   "source": [
    "[helper.py](helper.py)"
   ]
  },
  {
   "cell_type": "code",
   "execution_count": null,
   "metadata": {},
   "outputs": [],
   "source": [
    "from helper import angles2quat, animate_rotations, display_animation"
   ]
  },
  {
   "cell_type": "code",
   "execution_count": null,
   "metadata": {},
   "outputs": [],
   "source": [
    "def create_closed_curve(rotations, tangent_func):\n",
    "    rotations = rotations + rotations[:2]\n",
    "    control_points = []\n",
    "    for q_1, q0, q1 in zip(rotations, rotations[1:], rotations[2:]):\n",
    "        q_tangent = tangent_func(q_1, q0, q1)\n",
    "        control_points.extend([q_tangent.inverse() * q0, q0, q0, q_tangent * q0])\n",
    "    control_points = control_points[-2:] + control_points[:-2]\n",
    "    segments = list(zip(*[iter(control_points)] * 4))\n",
    "    return DeCasteljau(segments)"
   ]
  },
  {
   "cell_type": "code",
   "execution_count": null,
   "metadata": {},
   "outputs": [],
   "source": [
    "rotations = [\n",
    "    angles2quat(0, 0, 180),\n",
    "    angles2quat(0, 45, 90),\n",
    "    angles2quat(90, 45, 0),\n",
    "    angles2quat(90, 90, -90),\n",
    "    angles2quat(180, 0, -180),\n",
    "    angles2quat(-90, -45, 180),\n",
    "]"
   ]
  },
  {
   "cell_type": "code",
   "execution_count": null,
   "metadata": {},
   "outputs": [],
   "source": [
    "s1 = create_closed_curve(rotations, tangent1)\n",
    "s2 = create_closed_curve(rotations, tangent2)"
   ]
  },
  {
   "cell_type": "code",
   "execution_count": null,
   "metadata": {},
   "outputs": [],
   "source": [
    "times = np.linspace(0, len(rotations), 200, endpoint=False)"
   ]
  },
  {
   "cell_type": "code",
   "execution_count": null,
   "metadata": {},
   "outputs": [],
   "source": [
    "ani = animate_rotations({\n",
    "    '1': s1.evaluate(times),\n",
    "    '2': s2.evaluate(times),\n",
    "}, figsize=(4, 2))"
   ]
  },
  {
   "cell_type": "code",
   "execution_count": null,
   "metadata": {},
   "outputs": [],
   "source": [
    "display_animation(ani, default_mode='loop')"
   ]
  },
  {
   "cell_type": "markdown",
   "metadata": {},
   "source": [
    "The results are very similar, but not quite identical:"
   ]
  },
  {
   "cell_type": "code",
   "execution_count": null,
   "metadata": {},
   "outputs": [],
   "source": [
    "max(max(map(abs, q.xyzw)) for q in (s1.evaluate(times) - s2.evaluate(times)))"
   ]
  }
 ],
 "metadata": {
  "kernelspec": {
   "display_name": "Python 3",
   "language": "python",
   "name": "python3"
  },
  "language_info": {
   "codemirror_mode": {
    "name": "ipython",
    "version": 3
   },
   "file_extension": ".py",
   "mimetype": "text/x-python",
   "name": "python",
   "nbconvert_exporter": "python",
   "pygments_lexer": "ipython3",
   "version": "3.8.3"
  }
 },
 "nbformat": 4,
 "nbformat_minor": 4
}
