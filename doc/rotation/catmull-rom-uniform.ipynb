{
 "cells": [
  {
   "cell_type": "markdown",
   "metadata": {
    "nbsphinx": "hidden"
   },
   "source": [
    "This notebook is part of https://github.com/AudioSceneDescriptionFormat/splines, see also https://splines.readthedocs.io/.\n",
    "\n",
    "[back to rotation splines](index.ipynb)"
   ]
  },
  {
   "cell_type": "markdown",
   "metadata": {},
   "source": [
    "# Uniform Catmull--Rom-Like Quaternion Splines"
   ]
  },
  {
   "cell_type": "markdown",
   "metadata": {},
   "source": [
    "We have seen how to use\n",
    "[de Casteljau's algorithm with Slerp](de-casteljau.ipynb)\n",
    "to create \"cubic\" Bézier-like quaternion curve segments."
   ]
  },
  {
   "cell_type": "markdown",
   "metadata": {},
   "source": [
    "However, if we only have a sequence of rotations to be interpolated\n",
    "and no additional Bézier control quaternions are provided,\n",
    "it would be great if we could compute\n",
    "the missing control quaternions automatically\n",
    "from neighboring quaternions."
   ]
  },
  {
   "cell_type": "markdown",
   "metadata": {},
   "source": [
    "In the\n",
    "[notebook about (uniform) Euclidean Catmull--Rom splines](../euclidean/catmull-rom-uniform.ipynb#Using-Bézier-Segments)\n",
    "we have already seen how this can be done for splines in the Euclidean space:\n",
    "\n",
    "\\begin{equation*}\n",
    "\\boldsymbol{\\tilde{x}}_i^{(+)}\n",
    "= \\boldsymbol{x}_i + \\frac{\\boldsymbol{\\dot{x}}_i}{3} \\\\\n",
    "\\boldsymbol{\\tilde{x}}_i^{(-)}\n",
    "= \\boldsymbol{x}_i - \\frac{\\boldsymbol{\\dot{x}}_i}{3}\n",
    "\\end{equation*}"
   ]
  },
  {
   "cell_type": "markdown",
   "metadata": {},
   "source": [
    "We can \"translate\" this to quaternions by introducing a\n",
    "[relative quaternion](quaternions.ipynb#Relative-Rotation-(Global-Frame-of-Reference))\n",
    "$q_{i,\\text{offset}}$:"
   ]
  },
  {
   "cell_type": "markdown",
   "metadata": {},
   "source": [
    "\\begin{align*}\n",
    "\\tilde{q}_{i}^{(+)}\n",
    "&=\n",
    "q_{i,\\text{offset}} \\; q_i\\\\\n",
    "\\tilde{q}_{i}^{(-)}\n",
    "&=\n",
    "{q_{i,\\text{offset}}}^{-1} \\; q_i\n",
    "\\end{align*}"
   ]
  },
  {
   "cell_type": "markdown",
   "metadata": {},
   "source": [
    "When trying to obtain $q_{i,\\text{offset}}$,\n",
    "the problem is that there are many equivalent ways\n",
    "to write the equation for tangent vectors in Euclidean space,\n",
    "for example:"
   ]
  },
  {
   "cell_type": "markdown",
   "metadata": {},
   "source": [
    "\\begin{equation*}\n",
    "\\boldsymbol{\\dot{x}}_i =\n",
    "\\frac{\\boldsymbol{x}_{i+1} - \\boldsymbol{x}_{i-1}}{2} =\n",
    "\\frac{(\\boldsymbol{x}_i - \\boldsymbol{x}_{i-1}) +\n",
    "(\\boldsymbol{x}_{i+1} - \\boldsymbol{x}_i)\n",
    "}{2} =\n",
    "\\frac{\\boldsymbol{x}_i - \\boldsymbol{x}_{i-1}}{2} +\n",
    "\\frac{\\boldsymbol{x}_{i+1} - \\boldsymbol{x}_i}{2}\n",
    "\\end{equation*}"
   ]
  },
  {
   "cell_type": "markdown",
   "metadata": {},
   "source": [
    "All these expressions are equivalent,\n",
    "but \"translating\" them to quaternions will lead to different results!"
   ]
  },
  {
   "cell_type": "markdown",
   "metadata": {},
   "source": [
    "For the following experiments,\n",
    "let's define three quaternions using the `angles2quat()` function\n",
    "from [helper.py](helper.py):"
   ]
  },
  {
   "cell_type": "code",
   "execution_count": null,
   "metadata": {},
   "outputs": [],
   "source": [
    "from helper import angles2quat"
   ]
  },
  {
   "cell_type": "code",
   "execution_count": null,
   "metadata": {},
   "outputs": [],
   "source": [
    "q3 = angles2quat(0, 0, 0)\n",
    "q4 = angles2quat(0, 45, -10)\n",
    "q5 = angles2quat(90, 0, -90)"
   ]
  },
  {
   "cell_type": "markdown",
   "metadata": {},
   "source": [
    "## Relative Rotations"
   ]
  },
  {
   "cell_type": "markdown",
   "metadata": {},
   "source": [
    "\\begin{equation*}\n",
    "q_{i,\\text{offset}}\n",
    "\\overset{?}{=}\n",
    "\\left(q_{i+1} {q_{i-1}}^{-1}\\right)^{\\frac{1}{6}}\n",
    "\\end{equation*}"
   ]
  },
  {
   "cell_type": "code",
   "execution_count": null,
   "metadata": {},
   "outputs": [],
   "source": [
    "offset_a = q3.rotation_to(q5)**(1/6)"
   ]
  },
  {
   "cell_type": "markdown",
   "metadata": {},
   "source": [
    "For the next few examples,\n",
    "we define the relative rotations\n",
    "associated with the the incoming and the outgoing chord:"
   ]
  },
  {
   "cell_type": "markdown",
   "metadata": {},
   "source": [
    "\\begin{align*}\n",
    "q_\\text{in} &= q_i {q_{i-1}}^{-1}\\\\\n",
    "q_\\text{out} &= q_{i+1} {q_i}^{-1}\n",
    "\\end{align*}"
   ]
  },
  {
   "cell_type": "code",
   "execution_count": null,
   "metadata": {},
   "outputs": [],
   "source": [
    "q_in = q3.rotation_to(q4)\n",
    "q_out = q4.rotation_to(q5)"
   ]
  },
  {
   "cell_type": "markdown",
   "metadata": {},
   "source": [
    "\\begin{equation*}\n",
    "q_{i,\\text{offset}}\n",
    "\\overset{?}{=}\n",
    "\\left(q_\\text{out} q_\\text{in} \\right)^{\\frac{1}{6}}\n",
    "\\end{equation*}"
   ]
  },
  {
   "cell_type": "code",
   "execution_count": null,
   "metadata": {},
   "outputs": [],
   "source": [
    "offset_b = (q_out * q_in)**(1/6)"
   ]
  },
  {
   "cell_type": "markdown",
   "metadata": {},
   "source": [
    "We can see that this is actually equivalent to the previous one:"
   ]
  },
  {
   "cell_type": "code",
   "execution_count": null,
   "metadata": {},
   "outputs": [],
   "source": [
    "max(map(abs, (offset_b - offset_a).xyzw))"
   ]
  },
  {
   "cell_type": "markdown",
   "metadata": {},
   "source": [
    "In the Euclidean case,\n",
    "the order doesn't matter,\n",
    "but in the quaternion case ..."
   ]
  },
  {
   "cell_type": "markdown",
   "metadata": {},
   "source": [
    "\\begin{equation*}\n",
    "q_{i,\\text{offset}}\n",
    "\\overset{?}{=}\n",
    "\\left(q_\\text{in} q_\\text{out} \\right)^{\\frac{1}{6}}\n",
    "\\end{equation*}"
   ]
  },
  {
   "cell_type": "code",
   "execution_count": null,
   "metadata": {},
   "outputs": [],
   "source": [
    "offset_c = (q_in * q_out)**(1/6)"
   ]
  },
  {
   "cell_type": "markdown",
   "metadata": {},
   "source": [
    "... there is a difference:"
   ]
  },
  {
   "cell_type": "code",
   "execution_count": null,
   "metadata": {},
   "outputs": [],
   "source": [
    "max(map(abs, (offset_b - offset_c).xyzw))"
   ]
  },
  {
   "cell_type": "markdown",
   "metadata": {},
   "source": [
    "We can try another pair of equations ..."
   ]
  },
  {
   "cell_type": "markdown",
   "metadata": {},
   "source": [
    "\\begin{equation*}\n",
    "q_{i,\\text{offset}}\n",
    "\\overset{?}{=}\n",
    "\\left({q_\\text{out}}^{\\frac{1}{6}} {q_\\text{in}}^{\\frac{1}{6}} \\right)\n",
    "\\end{equation*}"
   ]
  },
  {
   "cell_type": "code",
   "execution_count": null,
   "metadata": {},
   "outputs": [],
   "source": [
    "offset_d = (q_out**(1/6) * q_in**(1/6))"
   ]
  },
  {
   "cell_type": "markdown",
   "metadata": {},
   "source": [
    "\\begin{equation*}\n",
    "q_{i,\\text{offset}}\n",
    "\\overset{?}{=}\n",
    "\\left({q_\\text{out}}^{\\frac{1}{6}} {q_\\text{in}}^{\\frac{1}{6}} \\right)\n",
    "\\end{equation*}"
   ]
  },
  {
   "cell_type": "code",
   "execution_count": null,
   "metadata": {},
   "outputs": [],
   "source": [
    "offset_e = (q_in**(1/6) * q_out**(1/6))"
   ]
  },
  {
   "cell_type": "markdown",
   "metadata": {},
   "source": [
    "... but they are also non-symmetric:"
   ]
  },
  {
   "cell_type": "code",
   "execution_count": null,
   "metadata": {},
   "outputs": [],
   "source": [
    "max(map(abs, (offset_e - offset_d).xyzw))"
   ]
  },
  {
   "cell_type": "markdown",
   "metadata": {},
   "source": [
    "Let's try a slightly more involved variant,\n",
    "where the order of $q_\\text{in}$ and $q_\\text{out}$\n",
    "can actually be reversed:"
   ]
  },
  {
   "cell_type": "markdown",
   "metadata": {},
   "source": [
    "\\begin{equation*}\n",
    "q_{i,\\text{offset}}\n",
    "\\overset{?}{=}\n",
    "\\left(\n",
    "{q_\\text{out}}^{\\frac{1}{3}}\n",
    "{q_\\text{in}}^{-\\frac{1}{3}}\n",
    "\\right)^{\\frac{1}{2}}\n",
    "{q_\\text{in}}^{\\frac{1}{3}}\n",
    "= \\left(\n",
    "{q_\\text{in}}^{\\frac{1}{3}}\n",
    "{q_\\text{out}}^{-\\frac{1}{3}}\n",
    "\\right)^{\\frac{1}{2}}\n",
    "{q_\\text{out}}^{\\frac{1}{3}}\n",
    "\\end{equation*}"
   ]
  },
  {
   "cell_type": "code",
   "execution_count": null,
   "metadata": {},
   "outputs": [],
   "source": [
    "offset_f = (q_out**(1/3) * q_in**(-1/3))**(1/2) * q_in**(1/3)"
   ]
  },
  {
   "cell_type": "code",
   "execution_count": null,
   "metadata": {},
   "outputs": [],
   "source": [
    "offset_g = (q_in**(1/3) * q_out**(-1/3))**(1/2) * q_out**(1/3)"
   ]
  },
  {
   "cell_type": "code",
   "execution_count": null,
   "metadata": {},
   "outputs": [],
   "source": [
    "max(map(abs, (offset_g - offset_f).xyzw))"
   ]
  },
  {
   "cell_type": "markdown",
   "metadata": {},
   "source": [
    "## Tangent Space"
   ]
  },
  {
   "cell_type": "code",
   "execution_count": null,
   "metadata": {},
   "outputs": [],
   "source": [
    "import numpy as np"
   ]
  },
  {
   "cell_type": "code",
   "execution_count": null,
   "metadata": {},
   "outputs": [],
   "source": [
    "from splines.quaternion import UnitQuaternion"
   ]
  },
  {
   "cell_type": "markdown",
   "metadata": {},
   "source": [
    "Another option would be to take the average in the tangent space:"
   ]
  },
  {
   "cell_type": "markdown",
   "metadata": {},
   "source": [
    "\\begin{equation*}\n",
    "q_{i,\\text{offset}}\n",
    "\\overset{?}{=}\n",
    "\\exp\\left(\n",
    "\\frac{\\ln(q_\\text{in}) + \\ln(q_\\text{out})}{6}\n",
    "\\right)\n",
    "\\end{equation*}"
   ]
  },
  {
   "cell_type": "code",
   "execution_count": null,
   "metadata": {},
   "outputs": [],
   "source": [
    "offset_h = UnitQuaternion.exp_map((q_in.log_map() + q_out.log_map()) / 6)"
   ]
  },
  {
   "cell_type": "markdown",
   "metadata": {},
   "source": [
    "The result is very close to the previous variant:"
   ]
  },
  {
   "cell_type": "code",
   "execution_count": null,
   "metadata": {},
   "outputs": [],
   "source": [
    "max(map(abs, (offset_h - offset_f).xyzw))"
   ]
  },
  {
   "cell_type": "markdown",
   "metadata": {},
   "source": [
    "Since this seems to be the most straightforward approach,\n",
    "let's show an example."
   ]
  },
  {
   "cell_type": "code",
   "execution_count": null,
   "metadata": {},
   "outputs": [],
   "source": [
    "def offset(q_1, q0, q1):\n",
    "    q_in = q0 * q_1.inverse()\n",
    "    q_out = q1 * q0.inverse()\n",
    "    return UnitQuaternion.exp_map((q_in.log_map() + q_out.log_map()) / 6)"
   ]
  },
  {
   "cell_type": "markdown",
   "metadata": {},
   "source": [
    "We'll use the \n",
    "[DeCasteljau](../python-module/splines.quaternion.rst#splines.quaternion.DeCasteljau)\n",
    "class to create a Bézier-like curve from the given control points,\n",
    "using\n",
    "[canonicalized()](../python-module/splines.quaternion.rst#splines.quaternion.canonicalized)\n",
    "to avoid angles greater than 180 degrees."
   ]
  },
  {
   "cell_type": "code",
   "execution_count": null,
   "metadata": {},
   "outputs": [],
   "source": [
    "from splines.quaternion import DeCasteljau, canonicalized"
   ]
  },
  {
   "cell_type": "markdown",
   "metadata": {},
   "source": [
    "Also, some helper functions from [helper.py](helper.py)\n",
    "will come in handy."
   ]
  },
  {
   "cell_type": "code",
   "execution_count": null,
   "metadata": {},
   "outputs": [],
   "source": [
    "from helper import animate_rotations, display_animation"
   ]
  },
  {
   "cell_type": "markdown",
   "metadata": {},
   "source": [
    "We don't want to worry about end conditions here,\n",
    "therefore we create a closed curve."
   ]
  },
  {
   "cell_type": "code",
   "execution_count": null,
   "metadata": {},
   "outputs": [],
   "source": [
    "def create_closed_curve(rotations):\n",
    "    rotations = list(canonicalized(rotations + rotations[:2]))\n",
    "    control_points = []\n",
    "    for q_1, q0, q1 in zip(rotations, rotations[1:], rotations[2:]):\n",
    "        q_offset = offset(q_1, q0, q1)\n",
    "        control_points.extend([q_offset.inverse() * q0, q0, q0, q_offset * q0])\n",
    "    control_points = control_points[-2:] + control_points[:-2]\n",
    "    segments = list(zip(*[iter(control_points)] * 4))\n",
    "    return DeCasteljau(segments)"
   ]
  },
  {
   "cell_type": "code",
   "execution_count": null,
   "metadata": {},
   "outputs": [],
   "source": [
    "rotations = [\n",
    "    angles2quat(0, 0, 180),\n",
    "    angles2quat(0, 45, 90),\n",
    "    angles2quat(90, 45, 0),\n",
    "    angles2quat(90, 90, -90),\n",
    "    angles2quat(180, 0, -180),\n",
    "    angles2quat(-90, -45, 180),\n",
    "]"
   ]
  },
  {
   "cell_type": "code",
   "execution_count": null,
   "metadata": {},
   "outputs": [],
   "source": [
    "s = create_closed_curve(rotations)"
   ]
  },
  {
   "cell_type": "code",
   "execution_count": null,
   "metadata": {},
   "outputs": [],
   "source": [
    "times = np.linspace(0, len(rotations), 200, endpoint=False)"
   ]
  },
  {
   "cell_type": "code",
   "execution_count": null,
   "metadata": {},
   "outputs": [],
   "source": [
    "ani = animate_rotations(s.evaluate(times), figsize=(3, 2))"
   ]
  },
  {
   "cell_type": "code",
   "execution_count": null,
   "metadata": {},
   "outputs": [],
   "source": [
    "display_animation(ani, default_mode='loop')"
   ]
  },
  {
   "cell_type": "markdown",
   "metadata": {},
   "source": [
    "This approach is implemented in the\n",
    "[splines.quaternion.CatmullRom](../python-module/splines.quaternion.rst#splines.quaternion.CatmullRom)\n",
    "class."
   ]
  },
  {
   "cell_type": "markdown",
   "metadata": {},
   "source": [
    "## Shoemake's Approach\n",
    "\n",
    "In section 4.2,\n",
    "<cite data-cite=\"shoemake1985animating\">Shoemake (1985)</cite>\n",
    "provides two function definitions:\n",
    "\n",
    "\\begin{align*}\n",
    "\\operatorname{Double}(p, q) &= 2 (p \\cdot q) q - p\\\\\n",
    "\\operatorname{Bisect}(p, q) &= \\frac{p + q}{\\|p + q\\|}\n",
    "\\end{align*}"
   ]
  },
  {
   "cell_type": "code",
   "execution_count": null,
   "metadata": {},
   "outputs": [],
   "source": [
    "def double(p, q):\n",
    "    return 2 * p.dot(q) * q - p"
   ]
  },
  {
   "cell_type": "code",
   "execution_count": null,
   "metadata": {},
   "outputs": [],
   "source": [
    "def bisect(p, q):\n",
    "    return (p + q).normalized()"
   ]
  },
  {
   "cell_type": "markdown",
   "metadata": {},
   "source": [
    "Given three successive key quaternions\n",
    "$q_{n-1}$, $q_n$ and $q_{n+1}$,\n",
    "these functions are used to compute control quaternions\n",
    "$b_n$ (controlling the incoming tangent of $q_n$) and\n",
    "$a_n$ (controlling the outgoing tangent of $q_n$):\n",
    "\n",
    "\\begin{align*}\n",
    "a_n &=\n",
    "\\operatorname{Bisect}(\\operatorname{Double}(q_{n-1}, q_n), q_{n+1})\\\\\n",
    "b_n &=\n",
    "\\operatorname{Double}(a_n, q_n)\n",
    "\\end{align*}"
   ]
  },
  {
   "cell_type": "markdown",
   "metadata": {},
   "source": [
    "It is unclear where these equations come from,\n",
    "we only get a little hint:"
   ]
  },
  {
   "cell_type": "markdown",
   "metadata": {},
   "source": [
    "> For the numerically knowledgeable, this construction\n",
    "approximates the derivative at points of a sampled function by\n",
    "averaging the central differences of the sample sequence.\n",
    ">\n",
    "> ---<cite data-cite=\"shoemake1985animating\">Shoemake (1985)</cite>, footnote on page 249"
   ]
  },
  {
   "cell_type": "code",
   "execution_count": null,
   "metadata": {},
   "outputs": [],
   "source": [
    "def shoemake_control_quaternions(q_1, q0, q1):\n",
    "    \"\"\"Shoemake's control quaternions (part 1).\n",
    "    \n",
    "    Given three key quaternions, return the control quaternions\n",
    "    preceding and following the middle one.\n",
    "    \n",
    "    \"\"\"\n",
    "    a = bisect(double(q_1, q0), q1)\n",
    "    b = double(a, q0).normalized()\n",
    "    return b, a"
   ]
  },
  {
   "cell_type": "markdown",
   "metadata": {},
   "source": [
    "Normalization of $b_n$ is not explicitly mentioned in the paper,\n",
    "but even though the results have a length very close to `1.0`,\n",
    "we still have to call `normalized()` to turn the\n",
    "[Quaternion](../python-module/splines.quaternion.rst#splines.quaternion.Quaternion)\n",
    "result into a\n",
    "[UnitQuaternion](../python-module/splines.quaternion.rst#splines.quaternion.UnitQuaternion)."
   ]
  },
  {
   "cell_type": "markdown",
   "metadata": {},
   "source": [
    "But wait, we are not finished yet!\n",
    "\n",
    "In a later section,\n",
    "the last missing piece of the puzzle is unveiled:\n",
    "\n",
    "> A simple check proves the curve touches $q_n$ and $q_{n+1}$ at\n",
    "its ends. A rather challenging differentiation shows it is\n",
    "tangent there to the segments determined by $a_n$ and\n",
    "$b_{n+1}$. However, as with Bézier's original curve, the\n",
    "magnitude of the tangent is three times that of the\n",
    "segment itself. That is, we are spinning three times\n",
    "faster than spherical interpolation along the arc.\n",
    "Fortunately we can correct the speed by merely\n",
    "truncating the end segments to one third their original\n",
    "length, so that $a_n$ is closer to $q_n$ and $b_{n+1}$ closer to\n",
    "$q_{n+1}$.\n",
    ">\n",
    "> ---<cite data-cite=\"shoemake1985animating\">Shoemake (1985)</cite>, section 4.4: \"Tangents revisited\""
   ]
  },
  {
   "cell_type": "markdown",
   "metadata": {},
   "source": [
    "No further hints are given about how to actually implement this,\n",
    "but it should work something like this:"
   ]
  },
  {
   "cell_type": "code",
   "execution_count": null,
   "metadata": {},
   "outputs": [],
   "source": [
    "def shoemake_corrected_control_quaternions(q_1, q0, q1):\n",
    "    \"\"\"Shoemake_s control quaternions, corrected.\"\"\"\n",
    "    b, a = shoemake_control_quaternions(q_1, q0, q1)\n",
    "    return q0.rotation_to(b)**(1/3) * q0, q0.rotation_to(a)**(1/3) * q0"
   ]
  },
  {
   "cell_type": "code",
   "execution_count": null,
   "metadata": {},
   "outputs": [],
   "source": [
    "b, a = shoemake_corrected_control_quaternions(q3, q4, q5)"
   ]
  },
  {
   "cell_type": "markdown",
   "metadata": {},
   "source": [
    "The results are very close (but not identical) to\n",
    "the tangent space approach from above:"
   ]
  },
  {
   "cell_type": "code",
   "execution_count": null,
   "metadata": {},
   "outputs": [],
   "source": [
    "max(map(abs, (a - offset_h * q4).xyzw))"
   ]
  },
  {
   "cell_type": "code",
   "execution_count": null,
   "metadata": {},
   "outputs": [],
   "source": [
    "max(map(abs, (b - offset_h.inverse() * q4).xyzw))"
   ]
  }
 ],
 "metadata": {
  "kernelspec": {
   "display_name": "Python 3",
   "language": "python",
   "name": "python3"
  },
  "language_info": {
   "codemirror_mode": {
    "name": "ipython",
    "version": 3
   },
   "file_extension": ".py",
   "mimetype": "text/x-python",
   "name": "python",
   "nbconvert_exporter": "python",
   "pygments_lexer": "ipython3",
   "version": "3.9.7"
  }
 },
 "nbformat": 4,
 "nbformat_minor": 4
}
