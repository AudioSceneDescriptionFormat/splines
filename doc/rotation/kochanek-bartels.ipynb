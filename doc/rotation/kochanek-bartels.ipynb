{
 "cells": [
  {
   "cell_type": "markdown",
   "metadata": {
    "nbsphinx": "hidden"
   },
   "source": [
    "This notebook is part of https://github.com/AudioSceneDescriptionFormat/splines, see also https://splines.readthedocs.io/.\n",
    "\n",
    "[back to rotation splines](index.ipynb)"
   ]
  },
  {
   "cell_type": "markdown",
   "metadata": {},
   "source": [
    "# Kochanek--Bartels-like Rotation Splines"
   ]
  },
  {
   "cell_type": "markdown",
   "metadata": {},
   "source": [
    "Remember [Kochanek--Bartels splines in Euclidean space](../euclidean/kochanek-bartels.ipynb)?\n",
    "We can try to \"translate\" those to quaternions by using\n",
    "[De Casteljau's algorithm with Slerp](de-casteljau.ipynb).\n",
    "We only need a way to create the appropriate incoming and outgoing\n",
    "control quaternions,\n",
    "similarly to what we did to create\n",
    "[Catmull--Rom-like rotation splines](catmull-rom-non-uniform.ipynb)."
   ]
  },
  {
   "cell_type": "markdown",
   "metadata": {},
   "source": [
    "We are only considering the more general *non-uniform* case here.\n",
    "The *uniform* case can be obtained by simply using time instances $t_i$\n",
    "with a step size of 1."
   ]
  },
  {
   "cell_type": "markdown",
   "metadata": {},
   "source": [
    "In the\n",
    "[notebook about non-uniform Euclidean Kochanek--Bartels splines](../euclidean/kochanek-bartels-non-uniform.ipynb)\n",
    "we showed the following equations for\n",
    "the incoming tangent vector $\\boldsymbol{\\dot{x}}_i^{(-)}$ and\n",
    "the outgoing tangent vector $\\boldsymbol{\\dot{x}}_i^{(+)}$\n",
    "at vertex $\\boldsymbol{x}_i$\n",
    "(which corresponds to the parameter value $t_i$):\n",
    "\n",
    "\\begin{align*}\n",
    "a_i &= (1 - T_i) (1 + C_i) (1 + B_i)\\\\\n",
    "b_i &= (1 - T_i) (1 - C_i) (1 - B_i)\\\\\n",
    "c_i &= (1 - T_i) (1 - C_i) (1 + B_i)\\\\\n",
    "d_i &= (1 - T_i) (1 + C_i) (1 - B_i)\n",
    "\\end{align*}\n",
    "\n",
    "\\begin{align*}\n",
    "\\boldsymbol{\\dot{x}}_i^{(+)} &= \\frac{\n",
    "a_i (t_{i+1} - t_i) \\, \\boldsymbol{v}_{i-1} +\n",
    "b_i (t_i - t_{i-1}) \\, \\boldsymbol{v}_i\n",
    "}{t_{i+1} - t_{i-1}}\\\\\n",
    "\\boldsymbol{\\dot{x}}_i^{(-)} &= \\frac{\n",
    "c_i (t_{i+1} - t_i) \\, \\boldsymbol{v}_{i-1} +\n",
    "d_i (t_i - t_{i-1}) \\, \\boldsymbol{v}_i\n",
    "}{t_{i+1} - t_{i-1}},\n",
    "\\end{align*}\n",
    "\n",
    "where\n",
    "$\\boldsymbol{v}_i = \\frac{\\boldsymbol{x}_{i+1} - \\boldsymbol{x}_i}{t_{i+1} - t_i}$."
   ]
  },
  {
   "cell_type": "markdown",
   "metadata": {},
   "source": [
    "Given those tangent vectors,\n",
    "we know the equations for\n",
    "the incoming control value $\\boldsymbol{\\tilde{x}}_i^{(-)}$ and\n",
    "the outgoing control value $\\boldsymbol{\\tilde{x}}_i^{(+)}$\n",
    "from the\n",
    "[notebook about non-uniform Euclidean Catmull--Rom splines](../euclidean/catmull-rom-non-uniform.ipynb#Using-Non-Uniform-Bézier-Segments):"
   ]
  },
  {
   "cell_type": "markdown",
   "metadata": {},
   "source": [
    "\\begin{align*}\n",
    "\\boldsymbol{\\tilde{x}}_i^{(+)}\n",
    "&= \\boldsymbol{x}_i + \\frac{(t_{i+1} - t_i)}{3} \\boldsymbol{\\dot{x}}_i^{(+)} \\\\\n",
    "\\boldsymbol{\\tilde{x}}_i^{(-)}\n",
    "&= \\boldsymbol{x}_i - \\frac{(t_i - t_{i-1})}{3} \\boldsymbol{\\dot{x}}_i^{(-)}\n",
    "\\end{align*}"
   ]
  },
  {
   "cell_type": "markdown",
   "metadata": {},
   "source": [
    "We can try to \"translate\" those equations to quaternions\n",
    "(using some vector operations in the tangent space):"
   ]
  },
  {
   "cell_type": "markdown",
   "metadata": {},
   "source": [
    "\\begin{align*}\n",
    "\\vec{\\rho}_{i} &= \\frac{\\ln(\\delta_{i})}{t_{i+1} - t_i}\n",
    "\\\\\n",
    "\\vec{\\omega}_i^{(+)} &=\n",
    "\\frac{\n",
    "a_i (t_{i+1} - t_i) \\, \\vec{\\rho}_{i-1} + \n",
    "b_i (t_i - t_{i-1}) \\, \\vec{\\rho}_{i}\n",
    "}{\n",
    "t_{i+1} - t_{i-1}\n",
    "}\n",
    "\\\\\n",
    "\\vec{\\omega}_i^{(-)} &=\n",
    "\\frac{\n",
    "c_i (t_{i+1} - t_i) \\, \\vec{\\rho}_{i-1} + \n",
    "d_i (t_i - t_{i-1}) \\, \\vec{\\rho}_{i}\n",
    "}{\n",
    "t_{i+1} - t_{i-1}\n",
    "}\n",
    "\\\\\n",
    "\\tilde{q}_i^{(+)}\n",
    "&\\overset{?}{=}\n",
    "\\exp\\left(\\frac{t_{i+1} - t_i}{3} \\, \\vec{\\omega}_i^{(+)}\\right) \\, q_i\n",
    "\\\\\n",
    "\\tilde{q}_i^{(-)}\n",
    "&\\overset{?}{=}\n",
    "\\exp\\left(\\frac{t_i - t_{i-1}}{3} \\, \\vec{\\omega}_i^{(-)}\\right)^{-1} \\, q_i,\n",
    "\\end{align*}"
   ]
  },
  {
   "cell_type": "markdown",
   "metadata": {},
   "source": [
    "where\n",
    "$\\delta_i = q_{i+1} {q_i}^{-1}$ is the\n",
    "[relative rotation](quaternions.ipynb#Relative-Rotation-(Global-Frame-of-Reference))\n",
    "from $q_i$ to $q_{i+1}$,\n",
    "$\\vec{\\rho}_{i}$ is the angular velocity\n",
    "along the great arc from $q_i$ to $q_{i+1}$\n",
    "within the parameter interval from $t_i$ to $t_{i+1}$,\n",
    "$\\vec{\\omega}_i^{(-)}$ is the incoming angular velocity\n",
    "of the Kochanek--Bartels-like quaternion curve\n",
    "at the control point $q_i$\n",
    "(which is reached at parameter value $t_i$)\n",
    "and $\\vec{\\omega}_i^{(+)}$ is the outgoing angular velocity.\n",
    "Finally, $\\tilde{q}_i^{(-)}$ and $\\tilde{q}_i^{(+)}$\n",
    "are the control quaternions before and after $q_i$, respectively."
   ]
  },
  {
   "cell_type": "markdown",
   "metadata": {},
   "source": [
    "A Python implementation of these equations is available in the class\n",
    "[splines.quaternion.KochanekBartels](../python-module/splines.quaternion.rst#splines.quaternion.KochanekBartels)."
   ]
  },
  {
   "cell_type": "code",
   "execution_count": null,
   "metadata": {},
   "outputs": [],
   "source": [
    "from splines.quaternion import KochanekBartels"
   ]
  },
  {
   "cell_type": "markdown",
   "metadata": {},
   "source": [
    "## Examples"
   ]
  },
  {
   "cell_type": "markdown",
   "metadata": {},
   "source": [
    "This is all a bit abstract,\n",
    "so let's try a few of those TCB values\n",
    "to see their influence on the rotation spline.\n",
    "\n",
    "For comparison,\n",
    "you can have a look at the\n",
    "[examples for Euclidean Kochanek--Bartels splines](../euclidean/kochanek-bartels-properties.ipynb)."
   ]
  },
  {
   "cell_type": "markdown",
   "metadata": {},
   "source": [
    "As so often,\n",
    "we import NumPy and a few helpers from [helper.py](helper.py):"
   ]
  },
  {
   "cell_type": "code",
   "execution_count": null,
   "metadata": {},
   "outputs": [],
   "source": [
    "import numpy as np\n",
    "from helper import angles2quat, animate_rotations, display_animation"
   ]
  },
  {
   "cell_type": "markdown",
   "metadata": {},
   "source": [
    "Let's define a few example rotations ..."
   ]
  },
  {
   "cell_type": "code",
   "execution_count": null,
   "metadata": {},
   "outputs": [],
   "source": [
    "rotations = [\n",
    "    angles2quat(0, 0, 0),\n",
    "    angles2quat(90, 0, -45),\n",
    "    angles2quat(-45, 45, -90),\n",
    "    angles2quat(135, -35, 90),\n",
    "    angles2quat(90, 0, 0),\n",
    "]"
   ]
  },
  {
   "cell_type": "markdown",
   "metadata": {},
   "source": [
    "... and a helper function\n",
    "that allows us to try out different TCB values:"
   ]
  },
  {
   "cell_type": "code",
   "execution_count": null,
   "metadata": {},
   "outputs": [],
   "source": [
    "def show_tcb(tcb):\n",
    "    \"\"\"Show an animation of rotations with the given TCB values.\"\"\"\n",
    "    if not isinstance(tcb, dict):\n",
    "        tcb = {'': tcb}\n",
    "    result = {}\n",
    "    for name, tcb in tcb.items():\n",
    "        s = KochanekBartels(\n",
    "            rotations,\n",
    "            alpha=0.5,\n",
    "            endconditions='closed',\n",
    "            tcb=tcb,\n",
    "        )\n",
    "        times = np.linspace(s.grid[0], s.grid[-1], 100, endpoint=False)\n",
    "        result[name] = s.evaluate(times)\n",
    "    display_animation(animate_rotations(result))"
   ]
  },
  {
   "cell_type": "markdown",
   "metadata": {},
   "source": [
    "When using the default TCB values,\n",
    "a Catmull--Rom-like spline is generated:"
   ]
  },
  {
   "cell_type": "code",
   "execution_count": null,
   "metadata": {},
   "outputs": [],
   "source": [
    "show_tcb([0, 0, 0])"
   ]
  },
  {
   "cell_type": "markdown",
   "metadata": {},
   "source": [
    "We can vary *tension* (T) ..."
   ]
  },
  {
   "cell_type": "code",
   "execution_count": null,
   "metadata": {},
   "outputs": [],
   "source": [
    "show_tcb({\n",
    "    'T = 1': [1, 0, 0],\n",
    "    'T = 0.5': [0.5, 0, 0],\n",
    "    'T = -0.5': [-0.5, 0, 0],\n",
    "    'T = -1': [-1, 0, 0],\n",
    "})"
   ]
  },
  {
   "cell_type": "markdown",
   "metadata": {},
   "source": [
    "... *continuity* (C) ..."
   ]
  },
  {
   "cell_type": "code",
   "execution_count": null,
   "metadata": {},
   "outputs": [],
   "source": [
    "show_tcb({\n",
    "    'C = -1': [0, -1, 0],\n",
    "    'C = -0.5': [0, -0.5, 0],\n",
    "    'C = 0.5': [0, 0.5, 0],\n",
    "    'C = 1': [0, 1, 0],\n",
    "})"
   ]
  },
  {
   "cell_type": "markdown",
   "metadata": {},
   "source": [
    "... and *bias* (B):"
   ]
  },
  {
   "cell_type": "code",
   "execution_count": null,
   "metadata": {},
   "outputs": [],
   "source": [
    "show_tcb({\n",
    "    'B = 1': [0, 0, 1],\n",
    "    'B = 0.5': [0, 0, 0.5],\n",
    "    'B = -0.5': [0, 0, -0.5],\n",
    "    'B = -1': [0, 0, -1],\n",
    "})"
   ]
  },
  {
   "cell_type": "markdown",
   "metadata": {},
   "source": [
    "Using the largest *tension* value ($T = 1$)\n",
    "produces the same rotations as\n",
    "using the smallest *continuity* value ($C = -1$).\n",
    "However,\n",
    "the timing is different.\n",
    "With large tension values, rotation slows down close to the control points.\n",
    "With small continuity, angular velocity varies less."
   ]
  },
  {
   "cell_type": "code",
   "execution_count": null,
   "metadata": {},
   "outputs": [],
   "source": [
    "show_tcb({\n",
    "    'T = 1': [1, 0, 0],\n",
    "    'C = -1': [0, -1, 0],\n",
    "})"
   ]
  },
  {
   "cell_type": "markdown",
   "metadata": {},
   "source": [
    "Just like in the Euclidean case,\n",
    "$B = -1$ followed by $B = 1$ can be used to create linear\n",
    "-- i.e. [Slerp](slerp.ipynb) -- segments."
   ]
  },
  {
   "cell_type": "code",
   "execution_count": null,
   "metadata": {},
   "outputs": [],
   "source": [
    "show_tcb({\n",
    "    'Catmull–Rom': [0, 0, 0],\n",
    "    '2 linear segments': [\n",
    "        (0, 0, 1),\n",
    "        (0, 0, 0),\n",
    "        (0, 0, -1),\n",
    "        (0, 0, 1),\n",
    "        (0, 0, -1),\n",
    "    ],\n",
    "    'C = -1': [0, -1, 0],\n",
    "})"
   ]
  }
 ],
 "metadata": {
  "kernelspec": {
   "display_name": "Python 3",
   "language": "python",
   "name": "python3"
  },
  "language_info": {
   "codemirror_mode": {
    "name": "ipython",
    "version": 3
   },
   "file_extension": ".py",
   "mimetype": "text/x-python",
   "name": "python",
   "nbconvert_exporter": "python",
   "pygments_lexer": "ipython3",
   "version": "3.9.9"
  }
 },
 "nbformat": 4,
 "nbformat_minor": 4
}
