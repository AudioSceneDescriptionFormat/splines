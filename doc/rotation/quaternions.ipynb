{
 "cells": [
  {
   "cell_type": "markdown",
   "metadata": {
    "nbsphinx": "hidden"
   },
   "source": [
    "This notebook is part of https://github.com/AudioSceneDescriptionFormat/splines, see also https://splines.readthedocs.io/.\n",
    "\n",
    "[back to rotation splines](index.ipynb)"
   ]
  },
  {
   "cell_type": "markdown",
   "metadata": {},
   "source": [
    "# Quaternions\n",
    "\n",
    "[splines.quaternion.Quaternion](../python-module/splines.quaternion.rst#splines.quaternion.Quaternion)\n",
    "\n",
    "[splines.quaternion.UnitQuaternion](../python-module/splines.quaternion.rst#splines.quaternion.UnitQuaternion)"
   ]
  },
  {
   "cell_type": "markdown",
   "metadata": {},
   "source": [
    "## Quaternion Representations"
   ]
  },
  {
   "cell_type": "markdown",
   "metadata": {},
   "source": [
    "### Algebraic\n",
    "\n",
    "\\begin{equation*}\n",
    "q = w + x\\mathbf{i} + y\\mathbf{j} + z\\mathbf{k}\n",
    "\\end{equation*}\n",
    "\n",
    "where $\\mathbf{i}^2 = \\mathbf{j}^2 = \\mathbf{k}^2 = \\mathbf{ijk} = -1$.\n",
    "\n",
    "The order matters: $\\mathbf{ij} = \\mathbf{k}$, $\\mathbf{ji} = -\\mathbf{k}$."
   ]
  },
  {
   "cell_type": "markdown",
   "metadata": {},
   "source": [
    "### Scalar and Vector\n",
    "\n",
    "\\begin{equation*}\n",
    "q = (w, \\vec{v}) = (w, (x, y, z))\n",
    "\\end{equation*}\n",
    "\n",
    "Sometimes, the scalar and vector parts\n",
    "are also called \"real\" and \"imaginary\" parts, respectively."
   ]
  },
  {
   "cell_type": "markdown",
   "metadata": {},
   "source": [
    "### 4D Space\n",
    "\n",
    "Quaternions can also be imagined as\n",
    "four dimensional vector space with some additional operations.\n",
    "\n",
    "\\begin{equation*}\n",
    "q = (w, x, y, z)\n",
    "\\quad\\text{or}\\quad\n",
    "q = (x, y, z, w)\n",
    "\\end{equation*}"
   ]
  },
  {
   "cell_type": "markdown",
   "metadata": {},
   "source": [
    "### More Representations\n",
    "\n",
    "There are even more ways to represent quaterions,\n",
    "for example as 4x4 real matrices or as 2x2 complex matrices."
   ]
  },
  {
   "cell_type": "markdown",
   "metadata": {},
   "source": [
    "## Quaternion Operations\n",
    "\n",
    "TODO"
   ]
  },
  {
   "cell_type": "markdown",
   "metadata": {},
   "source": [
    "## Unit Quaternions as Rotations\n",
    "\n",
    "Given a (normalized) rotation axis $\\vec{n}_i$\n",
    "and a rotation angle $\\alpha_i$ (in radians),\n",
    "we can create a corresponding quaternion (which will have unit length):\n",
    "\n",
    "\\begin{equation*}\n",
    "q_i = (\\cos \\frac{\\alpha_i}{2}, \\vec{n}_i \\sin \\frac{\\alpha_i}{2})\n",
    "\\end{equation*}\n",
    "\n",
    "Quaternions are a *double cover* over the rotation group\n",
    "(a.k.a. [SO(3)](https://en.wikipedia.org/wiki/3D_rotation_group)),\n",
    "which means that each rotation can be associated with two distinct quaternions.\n",
    "More concretely, $q$ and $-q$ represent the same rotation.\n",
    "\n",
    "More information can be found on\n",
    "[Wikipedia](https://en.wikipedia.org/wiki/Quaternions_and_spatial_rotation)."
   ]
  },
  {
   "cell_type": "markdown",
   "metadata": {},
   "source": [
    "## Unit Quaternion Operations\n",
    "\n",
    "* quaternion multiplication: $q_1 q_0$\n",
    "  * rotation $q_0$ followed by rotation $q_1$ (read from right to left)\n",
    "  * $q_0 q_1 \\ne q_1 q_0$ (except if the rotation axis is the same)\n",
    "* identity: $(1, (0, 0, 0))$\n",
    "* inverse: $q^{-1}$\n",
    "  * same rotation axis, negated angle\n",
    "  * $q q^{-1} = q^{-1} q = (1, (0, 0, 0))$"
   ]
  },
  {
   "cell_type": "markdown",
   "metadata": {},
   "source": [
    "### Relative Rotation (Global Frame of Reference)\n",
    "\n",
    "Given two rotations $q_0$ and $q_1$,\n",
    "we can try to find a third rotation $q_{0,1}$\n",
    "that rotates $q_0$ into $q_1$.\n",
    "\n",
    "Since we are considering the global frame of reference,\n",
    "$q_{0,1}$ must be left-multiplied with $q_0$:\n",
    "\n",
    "\\begin{equation*}\n",
    "q_{0,1} q_0 = q_1\n",
    "\\end{equation*}\n",
    "\n",
    "Now we can right-multiply both sides with ${q_0}^{-1}$:\n",
    "\n",
    "\\begin{equation*}\n",
    "q_{0,1} q_0 {q_0}^{-1} = q_1 {q_0}^{-1}\n",
    "\\end{equation*}\n",
    "\n",
    "$q_0 {q_0}^{-1}$ cancels out and we get:\n",
    "\n",
    "\\begin{equation*}\n",
    "q_{0,1} = q_1 {q_0}^{-1}\n",
    "\\end{equation*}"
   ]
  },
  {
   "cell_type": "markdown",
   "metadata": {},
   "source": [
    "### Relative Rotation (Local Frame of Reference)\n",
    "\n",
    "If $q_{0,1}$ is supposed to be a rotation\n",
    "in the local frame of $q_0$,\n",
    "we have to change the order of multiplication:\n",
    "\n",
    "\\begin{equation*}\n",
    "q_0 q_{0,1} = q_1\n",
    "\\end{equation*}\n",
    "\n",
    "Now we can left-multiply both sides with ${q_0}^{-1}$:\n",
    "\n",
    "\\begin{equation*}\n",
    "{q_0}^{-1} q_0 q_{0,1} = {q_0}^{-1} q_1\n",
    "\\end{equation*}\n",
    "\n",
    "${q_0}^{-1} q_0$ cancels out and we get:\n",
    "\n",
    "\\begin{equation*}\n",
    "q_{0,1} = {q_0}^{-1} q_1\n",
    "\\end{equation*}"
   ]
  }
 ],
 "metadata": {
  "kernelspec": {
   "display_name": "Python 3",
   "language": "python",
   "name": "python3"
  },
  "language_info": {
   "codemirror_mode": {
    "name": "ipython",
    "version": 3
   },
   "file_extension": ".py",
   "mimetype": "text/x-python",
   "name": "python",
   "nbconvert_exporter": "python",
   "pygments_lexer": "ipython3",
   "version": "3.9.1+"
  }
 },
 "nbformat": 4,
 "nbformat_minor": 4
}
