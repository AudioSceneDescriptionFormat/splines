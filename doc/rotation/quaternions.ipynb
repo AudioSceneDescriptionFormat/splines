{
 "cells": [
  {
   "cell_type": "markdown",
   "metadata": {
    "nbsphinx": "hidden"
   },
   "source": [
    "This notebook is part of https://github.com/AudioSceneDescriptionFormat/splines, see also https://splines.readthedocs.io/.\n",
    "\n",
    "[back to rotation splines](index.ipynb)"
   ]
  },
  {
   "cell_type": "markdown",
   "metadata": {},
   "source": [
    "# Quaternions"
   ]
  },
  {
   "cell_type": "markdown",
   "metadata": {},
   "source": [
    "We are interested in *unit quaternions* (see below),\n",
    "because they are a very useful representation of rotations.\n",
    "But before we go into that,\n",
    "we should probably mention what a\n",
    "[quaternion](https://en.wikipedia.org/wiki/Quaternion) is.\n",
    "We don't need all the details,\n",
    "we just need to know a few facts\n",
    "(without burdening ourselves too much with mathematical rigor):\n",
    "\n",
    "* Quaternions live in the four-dimensional Euclidean space $\\mathbb{R}^4$.\n",
    "  Each quaternion has exactly one corresponding element of $\\mathbb{R}^4$\n",
    "  and vice versa.\n",
    "  \n",
    "* Unlike elements of $\\mathbb{R}^4$,\n",
    "  quaternions support a special kind of *quaternion multiplication*.\n",
    "  \n",
    "* Quaternion multiplication is weird.\n",
    "  The order of operands matters (i.e. multiplication is\n",
    "  [noncommutative](https://en.wikipedia.org/wiki/Noncommutative))."
   ]
  },
  {
   "cell_type": "markdown",
   "metadata": {},
   "source": [
    "A Python implementation is available in the class\n",
    "[splines.quaternion.Quaternion](../python-module/splines.quaternion.rst#splines.quaternion.Quaternion)."
   ]
  },
  {
   "cell_type": "markdown",
   "metadata": {},
   "source": [
    "## Quaternion Representations"
   ]
  },
  {
   "cell_type": "markdown",
   "metadata": {},
   "source": [
    "There are multiple equivalent ways to represent quaternions.\n",
    "Their original algebraic representation is\n",
    "\n",
    "\\begin{equation*}\n",
    "q = w + x\\mathbf{i} + y\\mathbf{j} + z\\mathbf{k},\n",
    "\\end{equation*}\n",
    "\n",
    "where $\\mathbf{i}^2 = \\mathbf{j}^2 = \\mathbf{k}^2 = \\mathbf{ijk} = -1$.\n",
    "It is important to note that\n",
    "the order in which the *basic quaternions*\n",
    "$\\mathbf{i}$,\n",
    "$\\mathbf{j}$ and\n",
    "$\\mathbf{k}$\n",
    "are multiplied matters:\n",
    "$\\mathbf{ij} = \\mathbf{k}$, $\\mathbf{ji} = -\\mathbf{k}$\n",
    "(i.e. their multiplication is\n",
    "[anticommutative](https://en.wikipedia.org/wiki/Anticommutative_property)).\n",
    "The information given so far should be sufficient to derive quaternion multiplication,\n",
    "but let's not do that right now.\n",
    "Quaternions can also be represented\n",
    "as pairs containing a scalar and a 3D vector:\n",
    "\n",
    "\\begin{equation*}\n",
    "q = (w, \\vec{v}) = (w, (x, y, z))\n",
    "\\end{equation*}\n",
    "\n",
    "Sometimes, the scalar and vector parts\n",
    "are also called \"real\" and \"imaginary\" parts, respectively.\n",
    "The four components can also be displayed as simple 4-tuples,\n",
    "which can be interpreted as coordinates of\n",
    "the four-dimensional Euclidean space $\\mathbb{R}^4$:\n",
    "\n",
    "\\begin{equation*}\n",
    "q = (w, x, y, z)\n",
    "\\quad\\text{or}\\quad\n",
    "q = (x, y, z, w)\n",
    "\\end{equation*}\n",
    "\n",
    "The order of components can be chosen arbitrarily.\n",
    "In mathematical textbooks,\n",
    "the order $(w, x, y, z)$ is often preferred\n",
    "(and sometimes written as $(a, b, c, d)$).\n",
    "In numerical software implementations, however,\n",
    "the order $(x, y, z, w)$ is more common\n",
    "(probably because it is memory-compatible with 3D vectors $(x, y, z)$).\n",
    "In the Python class\n",
    "[splines.quaternion.Quaternion](../python-module/splines.quaternion.rst#splines.quaternion.Quaternion),\n",
    "these representations are available via the attributes\n",
    "[scalar](../python-module/splines.quaternion.rst#splines.quaternion.Quaternion.scalar),\n",
    "[vector](../python-module/splines.quaternion.rst#splines.quaternion.Quaternion.vector),\n",
    "[wxyz](../python-module/splines.quaternion.rst#splines.quaternion.Quaternion.wxyz) and\n",
    "[xyzw](../python-module/splines.quaternion.rst#splines.quaternion.Quaternion.xyzw)."
   ]
  },
  {
   "cell_type": "markdown",
   "metadata": {},
   "source": [
    "There are even more ways to represent quaterions,\n",
    "for example\n",
    "as 2x2 complex matrices\n",
    "or\n",
    "as 4x4 real matrices\n",
    "<cite data-cite=\"mcdonald2010quaternions\">(McDonald 2010)</cite>."
   ]
  },
  {
   "cell_type": "markdown",
   "metadata": {},
   "source": [
    "## Unit Quaternions"
   ]
  },
  {
   "cell_type": "markdown",
   "metadata": {},
   "source": [
    "Quite simply,\n",
    "unit quaternions are the set of all quaternions whose distance to\n",
    "the origin $(0, (0, 0, 0))$ equals $1$.\n",
    "In $\\mathbb{R}^3$,\n",
    "all elements with unit distance from the origin form the\n",
    "*unit sphere* (a.k.a. $S^2$),\n",
    "which is a two-dimensional curved space.\n",
    "Since quaternions inhabit $\\mathbb{R}^4$,\n",
    "the unit quaternions form the\n",
    "*unit hypersphere* (a.k.a. $S^3$),\n",
    "which is a three-dimensional curved space."
   ]
  },
  {
   "cell_type": "markdown",
   "metadata": {},
   "source": [
    "One important unit quaternion is $(1, (0, 0, 0))$,\n",
    "sometimes written as $\\boldsymbol{1}$,\n",
    "which corresponds to the real number $1$."
   ]
  },
  {
   "cell_type": "markdown",
   "metadata": {},
   "source": [
    "A Python implementation of unit quaternions is available in the class\n",
    "[splines.quaternion.UnitQuaternion](../python-module/splines.quaternion.rst#splines.quaternion.UnitQuaternion)."
   ]
  },
  {
   "cell_type": "markdown",
   "metadata": {},
   "source": [
    "## Unit Quaternions as Rotations\n",
    "\n",
    "Given a (normalized) rotation axis $\\vec{n}$\n",
    "and a rotation angle $\\alpha$ (in radians),\n",
    "we can create a corresponding quaternion (which will have unit length):\n",
    "\n",
    "\\begin{equation*}\n",
    "q = \\left(\\cos \\frac{\\alpha}{2}, \\vec{n} \\sin \\frac{\\alpha}{2}\\right)\n",
    "\\end{equation*}\n",
    "\n",
    "Unit quaternions are a *double cover* over the rotation group\n",
    "(a.k.a. [SO(3)](https://en.wikipedia.org/wiki/3D_rotation_group)),\n",
    "which means that each rotation can be associated with two distinct quaternions.\n",
    "More specifically, the antipodal points $q$ and $-q$ represent the same rotation\n",
    "-- see [Negation](#Negation) below.\n",
    "\n",
    "More details can be found on\n",
    "[Wikipedia](https://en.wikipedia.org/wiki/Quaternions_and_spatial_rotation)."
   ]
  },
  {
   "cell_type": "markdown",
   "metadata": {},
   "source": [
    "To get a bit of intuition,\n",
    "let's plot a few quaternion rotations\n",
    "(with the help of [helper.py](helper.py))."
   ]
  },
  {
   "cell_type": "code",
   "execution_count": null,
   "metadata": {},
   "outputs": [],
   "source": [
    "from helper import angles2quat, plot_rotation"
   ]
  },
  {
   "cell_type": "markdown",
   "metadata": {},
   "source": [
    "The quaternion $\\boldsymbol{1}$ represents \"no rotation at all\"."
   ]
  },
  {
   "cell_type": "code",
   "execution_count": null,
   "metadata": {},
   "outputs": [],
   "source": [
    "identity = angles2quat(0, 0, 0)\n",
    "identity"
   ]
  },
  {
   "cell_type": "code",
   "execution_count": null,
   "metadata": {},
   "outputs": [],
   "source": [
    "a = angles2quat(90, 0, 0)\n",
    "b = angles2quat(0, 35, 0)\n",
    "c = angles2quat(0, 0, 45)"
   ]
  },
  {
   "cell_type": "code",
   "execution_count": null,
   "metadata": {},
   "outputs": [],
   "source": [
    "plot_rotation({\n",
    "    'identity = 1': identity,\n",
    "    '$a$': a,\n",
    "    '$b$': b,\n",
    "    '$c$': c,\n",
    "});"
   ]
  },
  {
   "cell_type": "markdown",
   "metadata": {},
   "source": [
    "## Axes Conventions"
   ]
  },
  {
   "cell_type": "markdown",
   "metadata": {},
   "source": [
    "When converting between rotation angles\n",
    "(see [Euler/Tait–Bryan angles](https://en.wikipedia.org/wiki/Euler_angles))\n",
    "and unit quaternions,\n",
    "we can freely choose from a multitude of\n",
    "[axes conventions](https://en.wikipedia.org/wiki/Axes_conventions).\n",
    "Here we choose a (global) coordinate system where\n",
    "the x-axis points towards the right margin of the page and\n",
    "the y-axis points towards the top of the page.\n",
    "We are using a right-handed coordinate system,\n",
    "which leaves the z-axis pointing out of the page, towards the reader.\n",
    "The helper function `angles2quat()` takes three angles (in degrees)\n",
    "which are applied in this order:\n",
    "\n",
    "* *azimuth*: rotation around the (global) z-axis\n",
    "* *elevation*: rotation around the (previously rotated local) x-axis\n",
    "* *roll*: rotation around the (previously rotated local) y-axis\n",
    "\n",
    "This is equivalent to applying the angles in the opposite order,\n",
    "but using a global frame of reference for each rotation.\n",
    "\n",
    "The sign of the rotation angles always follows the\n",
    "[right-hand rule](https://en.wikipedia.org/wiki/Right-hand_rule#Rotations)."
   ]
  },
  {
   "cell_type": "markdown",
   "metadata": {},
   "source": [
    "## Quaternion Multiplication\n",
    "\n",
    "As mentioned above,\n",
    "quaternion multiplication (sometimes called *Hamilton product*)\n",
    "is noncommutative, i.e. the order of operands matters.\n",
    "When using unit quaternions to represent rotations,\n",
    "quaternion multiplication can be used to apply rotations to other rotations.\n",
    "Given a rotation $q_0$, we can apply another rotation $q_1$\n",
    "by left-multiplication: $q_1 q_0$.\n",
    "In other words, applying a rotation of $q_0$ followed by a rotation of $q_1$\n",
    "is equivalent to applying a single rotation $q_1 q_0$.\n",
    "Note that $q_1$ represents a rotation in the global frame of reference.\n",
    "\n",
    "When dealing with local frames of reference,\n",
    "the order of multiplications has to be reversed.\n",
    "Given a rotation $q_2$, which describes a new local coordinate system,\n",
    "we can apply a *local* rotation $q_3$ (relative to this new coordinate system)\n",
    "by right-multiplication: $q_2 q_3$.\n",
    "In other words, applying a rotation of $q_2$\n",
    "followed by a rotation of $q_3$\n",
    "(relative to the local coordinate system defined by $q_2$)\n",
    "is equivalent to applying a single rotation $q_2 q_3$.\n",
    "\n",
    "In general, changing the order of rotations changes the resulting rotation:\n",
    "\n",
    "\\begin{equation*}\n",
    "q_m q_n \\ne q_n q_m\n",
    "\\end{equation*}"
   ]
  },
  {
   "cell_type": "code",
   "execution_count": null,
   "metadata": {},
   "outputs": [],
   "source": [
    "plot_rotation({'$ab$': a * b, '$ba$': b * a});"
   ]
  },
  {
   "cell_type": "markdown",
   "metadata": {},
   "source": [
    "However, there is an exception when all rotation axes are the same,\n",
    "in which case the rotation angles can simply be added\n",
    "(in arbitrary order, of course).\n",
    "\n",
    "The quaternion $\\boldsymbol{1} = (1, (0, 0, 0))$\n",
    "is the identity element with regards to quaternion multiplication.\n",
    "A multiplication with this (on either side) leads to an unchanged rotation."
   ]
  },
  {
   "cell_type": "markdown",
   "metadata": {},
   "source": [
    "Even though quaternion multiplication is *non-commutative*,\n",
    "it is still [associative](https://en.wikipedia.org/wiki/Associative_property),\n",
    "which means that if there are multiple multiplications in a row,\n",
    "they can be grouped arbitrarily, leading to the same overall result:\n",
    "\n",
    "\\begin{equation*}\n",
    "(q_1 q_2) q_3 = q_1 (q_2 q_3)\n",
    "\\end{equation*}"
   ]
  },
  {
   "cell_type": "code",
   "execution_count": null,
   "metadata": {},
   "outputs": [],
   "source": [
    "plot_rotation({'$(bc)a$': (b * c) * a, '$b(ca)$': b * (c * a)});"
   ]
  },
  {
   "cell_type": "markdown",
   "metadata": {},
   "source": [
    "## Inverse"
   ]
  },
  {
   "cell_type": "markdown",
   "metadata": {},
   "source": [
    "The multiplicative inverse of a quaternion is written as $q^{-1}$.\n",
    "When talking about rotations,\n",
    "this operation leads to a new rotation with the same rotation axis\n",
    "but with negated angle\n",
    "(or equivalently, the same angle with a flipped rotation axis)."
   ]
  },
  {
   "cell_type": "code",
   "execution_count": null,
   "metadata": {},
   "outputs": [],
   "source": [
    "plot_rotation({'$b$': b, '$b^{-1}$': b.inverse()});"
   ]
  },
  {
   "cell_type": "markdown",
   "metadata": {},
   "source": [
    "By multiplying a rotation with its inverse,\n",
    "the original rotation can be undone:\n",
    "$q q^{-1} = q^{-1} q = \\boldsymbol{1}$.\n",
    "Since both operands have the same rotation axis,\n",
    "the order doesn't matter in this case."
   ]
  },
  {
   "cell_type": "markdown",
   "metadata": {},
   "source": [
    "For unit quaternions, the inverse $q^{-1}$ equals the conjugate $\\overline{q}$.\n",
    "The conjugate of a quaternion is constructed by negating its vector part\n",
    "(and keeping its scalar part unchanged).\n",
    "This can be achieved by negating the rotation axis $\\vec{n}$.\n",
    "Alternatively, we can negate the rotation angle,\n",
    "since $\\sin(-\\phi) = -\\sin(\\phi)$ (antisymmetric)\n",
    "and $\\cos(-\\phi) = \\cos(\\phi)$ (symmetric).\n",
    "\n",
    "\\begin{equation*}\n",
    "\\overline{q}\n",
    "= \\left(w, -\\vec{v}\\right)\n",
    "= \\left(\\cos \\frac{\\alpha}{2}, -\\vec{n} \\sin \\frac{\\alpha}{2}\\right)\n",
    "= \\left(\\cos \\frac{-\\alpha}{2}, \\vec{n} \\sin \\frac{-\\alpha}{2}\\right)\n",
    "\\end{equation*}"
   ]
  },
  {
   "cell_type": "markdown",
   "metadata": {},
   "source": [
    "## Relative Rotation (Global Frame of Reference)\n",
    "\n",
    "Given two rotations $q_0$ and $q_1$,\n",
    "we can try to find a third rotation $q_{0,1}$\n",
    "that rotates $q_0$ into $q_1$.\n",
    "Since we are considering the global frame of reference,\n",
    "$q_{0,1}$ must be left-multiplied with $q_0$:\n",
    "\n",
    "\\begin{equation*}\n",
    "q_{0,1} q_0 = q_1\n",
    "\\end{equation*}\n",
    "\n",
    "Now we can right-multiply both sides with ${q_0}^{-1}$:\n",
    "\n",
    "\\begin{equation*}\n",
    "q_{0,1} q_0 {q_0}^{-1} = q_1 {q_0}^{-1}\n",
    "\\end{equation*}\n",
    "\n",
    "$q_0 {q_0}^{-1}$ cancels out and we get:\n",
    "\n",
    "\\begin{equation*}\n",
    "q_{0,1} = q_1 {q_0}^{-1}\n",
    "\\end{equation*}"
   ]
  },
  {
   "cell_type": "markdown",
   "metadata": {},
   "source": [
    "## Relative Rotation (Local Frame of Reference)\n",
    "\n",
    "If $q_{0,1}$ is supposed to be a rotation\n",
    "in the local frame of $q_0$,\n",
    "we have to change the order of multiplication:\n",
    "\n",
    "\\begin{equation*}\n",
    "q_0 q_{0,1} = q_1\n",
    "\\end{equation*}\n",
    "\n",
    "Now we can left-multiply both sides with ${q_0}^{-1}$:\n",
    "\n",
    "\\begin{equation*}\n",
    "{q_0}^{-1} q_0 q_{0,1} = {q_0}^{-1} q_1\n",
    "\\end{equation*}\n",
    "\n",
    "${q_0}^{-1} q_0$ cancels out and we get:\n",
    "\n",
    "\\begin{equation*}\n",
    "q_{0,1} = {q_0}^{-1} q_1\n",
    "\\end{equation*}"
   ]
  },
  {
   "cell_type": "markdown",
   "metadata": {},
   "source": [
    "## Exponentiation"
   ]
  },
  {
   "cell_type": "markdown",
   "metadata": {},
   "source": [
    "Raising a unit quaternion to an integer power\n",
    "simply means applying the same rotation multiple times:"
   ]
  },
  {
   "cell_type": "code",
   "execution_count": null,
   "metadata": {},
   "outputs": [],
   "source": [
    "plot_rotation({\n",
    "    '$a^0 = 1$': a**0,\n",
    "    '$a^1 = a$': a**1,\n",
    "    '$a^2 = aa$': a**2,\n",
    "    '$a^3 = aaa$': a**3,\n",
    "});"
   ]
  },
  {
   "cell_type": "markdown",
   "metadata": {},
   "source": [
    "It shouldn't come as a surprise that $q^0 = \\boldsymbol{1}$ and $q^1 = q$."
   ]
  },
  {
   "cell_type": "markdown",
   "metadata": {},
   "source": [
    "Using an exponent of $-1$ is equivalent to taking the inverse\n",
    "-- see [above](#Inverse).\n",
    "Negative integer exponents apply the inverse rotation multiple times.\n",
    "Non-integer exponents lead to partial rotations,\n",
    "with the exponent $k$ being proportional to the rotation angle.\n",
    "The rotation axis $\\vec{n}$ is unchanged by exponentiation."
   ]
  },
  {
   "cell_type": "markdown",
   "metadata": {},
   "source": [
    "\\begin{equation*}\n",
    "q^k = \\left(\\cos \\frac{k\\alpha}{2}, \\vec{n} \\sin \\frac{k\\alpha}{2}\\right)\n",
    "\\end{equation*}"
   ]
  },
  {
   "cell_type": "code",
   "execution_count": null,
   "metadata": {},
   "outputs": [],
   "source": [
    "plot_rotation({\n",
    "    '$a^1 = a$': a**1,\n",
    "    '$a^{0.5}$': a**0.5,\n",
    "    '$a^0 = 1$': a**0,\n",
    "    '$a^{-0.5}$': a**-0.5,\n",
    "});"
   ]
  },
  {
   "cell_type": "markdown",
   "metadata": {},
   "source": [
    "## Negation"
   ]
  },
  {
   "cell_type": "markdown",
   "metadata": {},
   "source": [
    "A quaternion can be negated by negating all 4 of its components.\n",
    "This corresponds to flipping its orientation in 4D space\n",
    "(but keeping its direction and length).\n",
    "For unit quaternions,\n",
    "this means selecting the diametrically opposite\n",
    "(antipodal) point on the unit hypersphere.\n",
    "\n",
    "Due to the *double cover* property mentioned above,\n",
    "negating a unit quaternion doesn't change the rotation it is representing."
   ]
  },
  {
   "cell_type": "code",
   "execution_count": null,
   "metadata": {},
   "outputs": [],
   "source": [
    "plot_rotation({'$c$': c, '$-c$': -c});"
   ]
  },
  {
   "cell_type": "markdown",
   "metadata": {},
   "source": [
    "One way to negate the scalar part of a unit quaternion is\n",
    "to add $\\pi$ to the argument of the cosine function,\n",
    "since $\\cos(\\phi + \\pi) = -\\cos(\\phi)$.\n",
    "Because only half of the rotation appears in the argument of the cosine,\n",
    "we have to add $2\\pi$ to the rotation angle $\\alpha$,\n",
    "which brings us back to the original rotation.\n",
    "Adding $2\\pi$ to the rotation angle\n",
    "also negates the vector part of the unit quaternion\n",
    "(since $\\sin(\\phi + \\pi) = -\\sin(\\phi)$),\n",
    "assuming the rotation axis $\\vec{n}$ stays unchanged.\n",
    "\n",
    "\\begin{equation*}\n",
    "-q\n",
    "= \\left(-w, -\\vec{v}\\right)\n",
    "= \\left(\n",
    "\\cos \\frac{\\alpha + 2 \\pi}{2},\n",
    "\\vec{n} \\sin \\frac{\\alpha + 2 \\pi}{2}\n",
    "\\right)\n",
    "\\end{equation*}"
   ]
  },
  {
   "cell_type": "markdown",
   "metadata": {},
   "source": [
    "## Canonicalization\n",
    "\n",
    "When we are given multiple rotations\n",
    "and we want to represent them as quaternions,\n",
    "we have to take care of the ambiguity caused by the double cover property\n",
    "-- see [Slerp Visualization](slerp.ipynb#Visualization)\n",
    "for an example of this ambiguity.\n",
    "\n",
    "One way to do that is to make sure that in a sequence of rotations\n",
    "(which we want to use as the control points of a spline, for example),\n",
    "the angle (in 4D space) between neighboring quaternions\n",
    "is at most 90 degrees (which corresponds to a 180 degree rotation in 3D space).\n",
    "For any pair of quaternions where this is not the case,\n",
    "one of the quaternions can simply be negated.\n",
    "The function\n",
    "[splines.quaternion.canonicalized()](../python-module/splines.quaternion.rst#splines.quaternion.canonicalized)\n",
    "can be used to create an iterator of canonicalized quaternions\n",
    "from an iterable of arbitrary quaternions."
   ]
  }
 ],
 "metadata": {
  "kernelspec": {
   "display_name": "Python 3",
   "language": "python",
   "name": "python3"
  },
  "language_info": {
   "codemirror_mode": {
    "name": "ipython",
    "version": 3
   },
   "file_extension": ".py",
   "mimetype": "text/x-python",
   "name": "python",
   "nbconvert_exporter": "python",
   "pygments_lexer": "ipython3",
   "version": "3.9.7"
  }
 },
 "nbformat": 4,
 "nbformat_minor": 4
}
