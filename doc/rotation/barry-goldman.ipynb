{
 "cells": [
  {
   "cell_type": "markdown",
   "metadata": {
    "nbsphinx": "hidden"
   },
   "source": [
    "This notebook is part of https://github.com/AudioSceneDescriptionFormat/splines, see also https://splines.readthedocs.io/.\n",
    "\n",
    "[back to rotation splines](index.ipynb)"
   ]
  },
  {
   "cell_type": "markdown",
   "metadata": {},
   "source": [
    "# Barry--Goldman Algorithm With Slerp\n",
    "\n",
    "We can try to use the\n",
    "[Barry--Goldman algorithm for non-uniform Euclidean Catmull--Rom splines](../euclidean/catmull-rom-barry-goldman.ipynb)\n",
    "using [Slerp](slerp.ipynb) instead of linear interpolations,\n",
    "just as we have done with [De Casteljau's algorithm](de-casteljau.ipynb)."
   ]
  },
  {
   "cell_type": "code",
   "execution_count": null,
   "metadata": {},
   "outputs": [],
   "source": [
    "def slerp(one, two, t):\n",
    "    \"\"\"Spherical Linear intERPolation.\"\"\"\n",
    "    return (two * one.inverse())**t * one"
   ]
  },
  {
   "cell_type": "code",
   "execution_count": null,
   "metadata": {},
   "outputs": [],
   "source": [
    "def barry_goldman(rotations, times, t):\n",
    "    \"\"\"Calculate a spline segment with the Barry-Goldman algorithm.\n",
    "    \n",
    "    Four quaternions and the corresponding four time values\n",
    "    have to be specified.  The resulting spline segment is located\n",
    "    between the second and third quaternion.  The given time *t*\n",
    "    must be between the second and third time value.\n",
    "    \n",
    "    \"\"\"\n",
    "    q0, q1, q2, q3 = rotations\n",
    "    t0, t1, t2, t3 = times\n",
    "    return slerp(\n",
    "        slerp(\n",
    "            slerp(q0, q1, (t - t0) / (t1 - t0)),\n",
    "            slerp(q1, q2, (t - t1) / (t2 - t1)),\n",
    "            (t - t0) / (t2 - t0)),\n",
    "        slerp(\n",
    "            slerp(q1, q2, (t - t1) / (t2 - t1)),\n",
    "            slerp(q2, q3, (t - t2) / (t3 - t2)),\n",
    "            (t - t1) / (t3 - t1)),\n",
    "        (t - t1) / (t2 - t1))"
   ]
  },
  {
   "cell_type": "markdown",
   "metadata": {},
   "source": [
    "To illustrate this,\n",
    "let's import NumPy and a few helpers from\n",
    "[helper.py](helper.py):"
   ]
  },
  {
   "cell_type": "code",
   "execution_count": null,
   "metadata": {},
   "outputs": [],
   "source": [
    "import numpy as np\n",
    "from helper import angles2quat, plot_rotation, plot_rotations\n",
    "from helper import animate_rotations, display_animation"
   ]
  },
  {
   "cell_type": "code",
   "execution_count": null,
   "metadata": {},
   "outputs": [],
   "source": [
    "q0 = angles2quat(45, 0, 0)\n",
    "q1 = angles2quat(0, -40, 0)\n",
    "q2 = angles2quat(0, 70, 0)\n",
    "q3 = angles2quat(-45, 0, 0)"
   ]
  },
  {
   "cell_type": "code",
   "execution_count": null,
   "metadata": {},
   "outputs": [],
   "source": [
    "t0 = 0\n",
    "t1 = 1\n",
    "t2 = 5\n",
    "t3 = 8"
   ]
  },
  {
   "cell_type": "code",
   "execution_count": null,
   "metadata": {},
   "outputs": [],
   "source": [
    "plot_rotation({'q0': q0, 'q1': q1, 'q2': q2, 'q3': q3});"
   ]
  },
  {
   "cell_type": "code",
   "execution_count": null,
   "metadata": {},
   "outputs": [],
   "source": [
    "plot_rotations([\n",
    "    barry_goldman([q0, q1, q2, q3], [t0, t1, t2, t3], t)\n",
    "    for t in np.linspace(t1, t2, 9)\n",
    "], figsize=(8, 1))"
   ]
  },
  {
   "cell_type": "code",
   "execution_count": null,
   "metadata": {},
   "outputs": [],
   "source": [
    "ani = animate_rotations([\n",
    "    barry_goldman([q0, q1, q2, q3], [t0, t1, t2, t3], t)\n",
    "    for t in np.linspace(t1, t2, 50)\n",
    "])"
   ]
  },
  {
   "cell_type": "code",
   "execution_count": null,
   "metadata": {},
   "outputs": [],
   "source": [
    "display_animation(ani, default_mode='reflect')"
   ]
  },
  {
   "cell_type": "markdown",
   "metadata": {},
   "source": [
    "For the next example,\n",
    "we use the class\n",
    "[splines.quaternion.BarryGoldman](../python-module/splines.quaternion.rst#splines.quaternion.BarryGoldman):"
   ]
  },
  {
   "cell_type": "code",
   "execution_count": null,
   "metadata": {},
   "outputs": [],
   "source": [
    "from splines.quaternion import BarryGoldman"
   ]
  },
  {
   "cell_type": "code",
   "execution_count": null,
   "metadata": {},
   "outputs": [],
   "source": [
    "rotations = [\n",
    "    angles2quat(0, 0, 180),\n",
    "    angles2quat(0, 45, 90),\n",
    "    angles2quat(90, 45, 0),\n",
    "    angles2quat(90, 90, -90),\n",
    "    angles2quat(180, 0, -180),\n",
    "    angles2quat(-90, -45, 180),\n",
    "]"
   ]
  },
  {
   "cell_type": "code",
   "execution_count": null,
   "metadata": {},
   "outputs": [],
   "source": [
    "bg1 = BarryGoldman(rotations, alpha=0.5)"
   ]
  },
  {
   "cell_type": "markdown",
   "metadata": {},
   "source": [
    "For comparison,\n",
    "we also create a\n",
    "[Catmull--Rom-like quaternion spline](catmull-rom-non-uniform.ipynb)\n",
    "using the class\n",
    "[splines.quaternion.CatmullRom](../python-module/splines.quaternion.rst#splines.quaternion.CatmullRom):"
   ]
  },
  {
   "cell_type": "code",
   "execution_count": null,
   "metadata": {},
   "outputs": [],
   "source": [
    "from splines.quaternion import CatmullRom"
   ]
  },
  {
   "cell_type": "code",
   "execution_count": null,
   "metadata": {},
   "outputs": [],
   "source": [
    "cr1 = CatmullRom(rotations, alpha=0.5, endconditions='closed')"
   ]
  },
  {
   "cell_type": "code",
   "execution_count": null,
   "metadata": {},
   "outputs": [],
   "source": [
    "def evaluate(spline, frames=200):\n",
    "    times = np.linspace(\n",
    "        spline.grid[0], spline.grid[-1], frames, endpoint=False)\n",
    "    return spline.evaluate(times)"
   ]
  },
  {
   "cell_type": "code",
   "execution_count": null,
   "metadata": {},
   "outputs": [],
   "source": [
    "ani = animate_rotations({\n",
    "    'Barry–Goldman': evaluate(bg1),\n",
    "    'Catmull–Rom-like': evaluate(cr1),\n",
    "})\n",
    "display_animation(ani, default_mode='loop')"
   ]
  },
  {
   "cell_type": "markdown",
   "metadata": {},
   "source": [
    "Don't worry if you don't see any difference,\n",
    "the two are indeed extremely similar:"
   ]
  },
  {
   "cell_type": "code",
   "execution_count": null,
   "metadata": {},
   "outputs": [],
   "source": [
    "max(max(map(abs, q.xyzw)) for q in (evaluate(bg1) - evaluate(cr1)))"
   ]
  },
  {
   "cell_type": "markdown",
   "metadata": {},
   "source": [
    "However, when different time values are chosen,\n",
    "the difference between the two can become significantly bigger."
   ]
  },
  {
   "cell_type": "code",
   "execution_count": null,
   "metadata": {},
   "outputs": [],
   "source": [
    "grid = 0, 0.5, 1, 5, 6, 7, 10"
   ]
  },
  {
   "cell_type": "code",
   "execution_count": null,
   "metadata": {},
   "outputs": [],
   "source": [
    "bg2 = BarryGoldman(rotations, grid)\n",
    "cr2 = CatmullRom(rotations, grid, endconditions='closed')"
   ]
  },
  {
   "cell_type": "code",
   "execution_count": null,
   "metadata": {},
   "outputs": [],
   "source": [
    "ani = animate_rotations({\n",
    "    'Barry–Goldman': evaluate(bg2),\n",
    "    'Catmull–Rom-like': evaluate(cr2),\n",
    "})\n",
    "display_animation(ani, default_mode='loop')"
   ]
  },
  {
   "cell_type": "markdown",
   "metadata": {},
   "source": [
    "## Constant Angular Speed"
   ]
  },
  {
   "cell_type": "markdown",
   "metadata": {},
   "source": [
    "A big advantage of De Casteljau's algorithm is\n",
    "that when evaluating a spline at a given parameter value,\n",
    "it directly provides the corresponding tangent vector.\n",
    "When using the Barry--Goldman algorithm,\n",
    "the tangent vector has to be calculated separately,\n",
    "which makes re-parameterization for constant angular speed\n",
    "very inefficient."
   ]
  },
  {
   "cell_type": "code",
   "execution_count": null,
   "metadata": {},
   "outputs": [],
   "source": [
    "class BarryGoldmanWithDerivative(BarryGoldman):\n",
    "\n",
    "    delta_t = 0.000001\n",
    "\n",
    "    def evaluate(self, t, n=0):\n",
    "        \"\"\"Evaluate quaternion or angular velocity.\"\"\"\n",
    "        if not np.isscalar(t):\n",
    "            return np.array([self.evaluate(t, n) for t in t])\n",
    "        if n == 0:\n",
    "            return super().evaluate(t)\n",
    "        elif n == 1:\n",
    "            # NB: We move the interval around because\n",
    "            #     we cannot access times before and after\n",
    "            #     the first and last time, respectively.\n",
    "            fraction = (t - self.grid[0]) / (self.grid[-1] - self.grid[0])\n",
    "            before = super().evaluate(t - fraction * self.delta_t)\n",
    "            after = super().evaluate(t + (1 - fraction) * self.delta_t)\n",
    "            # NB: Double angle\n",
    "            return (after * before.inverse()).log_map() * 2 / self.delta_t\n",
    "        else:\n",
    "            raise ValueError('Unsupported n: {!r}'.format(n))"
   ]
  },
  {
   "cell_type": "code",
   "execution_count": null,
   "metadata": {},
   "outputs": [],
   "source": [
    "from splines import UnitSpeedAdapter"
   ]
  },
  {
   "cell_type": "code",
   "execution_count": null,
   "metadata": {},
   "outputs": [],
   "source": [
    "bg3 = UnitSpeedAdapter(BarryGoldmanWithDerivative(rotations, alpha=0.5))"
   ]
  },
  {
   "cell_type": "markdown",
   "metadata": {},
   "source": [
    "<div class=\"alert alert-warning\">\n",
    "\n",
    "Warning\n",
    "\n",
    "Evaluating this spline takes a long time!\n",
    "\n",
    "</div>"
   ]
  },
  {
   "cell_type": "code",
   "execution_count": null,
   "metadata": {},
   "outputs": [],
   "source": [
    "%%time\n",
    "bg3_evaluated = evaluate(bg3)"
   ]
  },
  {
   "cell_type": "code",
   "execution_count": null,
   "metadata": {},
   "outputs": [],
   "source": [
    "ani = animate_rotations({\n",
    "    'non-constant speed': evaluate(bg1),\n",
    "    'constant speed': bg3_evaluated,\n",
    "})"
   ]
  },
  {
   "cell_type": "code",
   "execution_count": null,
   "metadata": {},
   "outputs": [],
   "source": [
    "display_animation(ani, default_mode='loop')"
   ]
  }
 ],
 "metadata": {
  "kernelspec": {
   "display_name": "Python 3",
   "language": "python",
   "name": "python3"
  },
  "language_info": {
   "codemirror_mode": {
    "name": "ipython",
    "version": 3
   },
   "file_extension": ".py",
   "mimetype": "text/x-python",
   "name": "python",
   "nbconvert_exporter": "python",
   "pygments_lexer": "ipython3",
   "version": "3.9.9"
  }
 },
 "nbformat": 4,
 "nbformat_minor": 4
}
