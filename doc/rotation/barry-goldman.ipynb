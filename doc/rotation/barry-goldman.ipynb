{
 "cells": [
  {
   "cell_type": "markdown",
   "metadata": {
    "nbsphinx": "hidden"
   },
   "source": [
    "This notebook is part of https://github.com/AudioSceneDescriptionFormat/splines, see also https://splines.readthedocs.io/."
   ]
  },
  {
   "cell_type": "markdown",
   "metadata": {},
   "source": [
    "# Barry--Goldman Algorithm\n",
    "\n",
    "We can try to use the\n",
    "[Barry--Goldman algorithm for non-uniform Euclidean Catmull--Rom splines](../euclidean/catmull-rom-barry-goldman.ipynb)\n",
    "using [Slerp](slerp.ipynb) instead of linear interpolations,\n",
    "just as we have done with [De Casteljau's algorithm](de-casteljau.ipynb)."
   ]
  },
  {
   "cell_type": "code",
   "execution_count": null,
   "metadata": {},
   "outputs": [],
   "source": [
    "def slerp(one, two, t):\n",
    "    return (two * one.inverse())**t * one"
   ]
  },
  {
   "cell_type": "code",
   "execution_count": null,
   "metadata": {},
   "outputs": [],
   "source": [
    "def barry_goldman(rotations, times, t):\n",
    "    q0, q1, q2, q3 = rotations\n",
    "    t0, t1, t2, t3 = times\n",
    "    return slerp(\n",
    "        slerp(\n",
    "            slerp(q0, q1, (t - t0) / (t1 - t0)),\n",
    "            slerp(q1, q2, (t - t1) / (t2 - t1)),\n",
    "            (t - t0) / (t2 - t0)),\n",
    "        slerp(\n",
    "            slerp(q1, q2, (t - t1) / (t2 - t1)),\n",
    "            slerp(q2, q3, (t - t2) / (t3 - t2)),\n",
    "            (t - t1) / (t3 - t1)),\n",
    "        (t - t1) / (t2 - t1))"
   ]
  },
  {
   "cell_type": "markdown",
   "metadata": {},
   "source": [
    "Example:"
   ]
  },
  {
   "cell_type": "code",
   "execution_count": null,
   "metadata": {},
   "outputs": [],
   "source": [
    "import numpy as np"
   ]
  },
  {
   "cell_type": "markdown",
   "metadata": {},
   "source": [
    "[helper.py](helper.py)"
   ]
  },
  {
   "cell_type": "code",
   "execution_count": null,
   "metadata": {},
   "outputs": [],
   "source": [
    "from helper import angles2quat, animate_rotations, display_animation"
   ]
  },
  {
   "cell_type": "code",
   "execution_count": null,
   "metadata": {},
   "outputs": [],
   "source": [
    "q0 = angles2quat(0, 0, 0)\n",
    "q1 = angles2quat(90, 0, 0)\n",
    "q2 = angles2quat(90, 90, 0)\n",
    "q3 = angles2quat(90, 90, 90)"
   ]
  },
  {
   "cell_type": "code",
   "execution_count": null,
   "metadata": {},
   "outputs": [],
   "source": [
    "t0 = 0\n",
    "t1 = 1\n",
    "t2 = 3\n",
    "t3 = 3.5"
   ]
  },
  {
   "cell_type": "code",
   "execution_count": null,
   "metadata": {},
   "outputs": [],
   "source": [
    "frames = 50"
   ]
  },
  {
   "cell_type": "code",
   "execution_count": null,
   "metadata": {},
   "outputs": [],
   "source": [
    "ani = animate_rotations({\n",
    "    'Barry–Goldman (q0, q1, q2, q3)': [\n",
    "        barry_goldman([q0, q1, q2, q3], [t0, t1, t2, t3], t)\n",
    "        for t in np.linspace(t1, t2, frames)\n",
    "    ],\n",
    "    'Slerp (q1, q2)': slerp(q1, q2, np.linspace(0, 1, frames)),\n",
    "}, figsize=(6, 2))"
   ]
  },
  {
   "cell_type": "code",
   "execution_count": null,
   "metadata": {},
   "outputs": [],
   "source": [
    "display_animation(ani, default_mode='once')"
   ]
  },
  {
   "cell_type": "markdown",
   "metadata": {},
   "source": [
    "[splines.quaternion.BarryGoldman](../python-module/splines.quaternion.rst#splines.quaternion.BarryGoldman) class"
   ]
  },
  {
   "cell_type": "code",
   "execution_count": null,
   "metadata": {},
   "outputs": [],
   "source": [
    "from splines.quaternion import BarryGoldman"
   ]
  },
  {
   "cell_type": "code",
   "execution_count": null,
   "metadata": {},
   "outputs": [],
   "source": [
    "import numpy as np"
   ]
  },
  {
   "cell_type": "markdown",
   "metadata": {},
   "source": [
    "[helper.py](helper.py)"
   ]
  },
  {
   "cell_type": "code",
   "execution_count": null,
   "metadata": {},
   "outputs": [],
   "source": [
    "from helper import angles2quat, animate_rotations, display_animation"
   ]
  },
  {
   "cell_type": "code",
   "execution_count": null,
   "metadata": {},
   "outputs": [],
   "source": [
    "rotations = [\n",
    "    angles2quat(0, 0, 180),\n",
    "    angles2quat(0, 45, 90),\n",
    "    angles2quat(90, 45, 0),\n",
    "    angles2quat(90, 90, -90),\n",
    "    angles2quat(180, 0, -180),\n",
    "    angles2quat(-90, -45, 180),\n",
    "]"
   ]
  },
  {
   "cell_type": "code",
   "execution_count": null,
   "metadata": {},
   "outputs": [],
   "source": [
    "grid = np.array([0, 0.5, 2, 5, 6, 7, 9])"
   ]
  },
  {
   "cell_type": "code",
   "execution_count": null,
   "metadata": {},
   "outputs": [],
   "source": [
    "bg = BarryGoldman(rotations, grid)"
   ]
  },
  {
   "cell_type": "markdown",
   "metadata": {},
   "source": [
    "For comparison ... [Catmull--Rom-like quaternion spline](catmull-rom-non-uniform.ipynb)"
   ]
  },
  {
   "cell_type": "markdown",
   "metadata": {},
   "source": [
    "[splines.quaternion.CatmullRom](../python-module/splines.quaternion.rst#splines.quaternion.CatmullRom) class"
   ]
  },
  {
   "cell_type": "code",
   "execution_count": null,
   "metadata": {},
   "outputs": [],
   "source": [
    "from splines.quaternion import CatmullRom"
   ]
  },
  {
   "cell_type": "code",
   "execution_count": null,
   "metadata": {},
   "outputs": [],
   "source": [
    "cr = CatmullRom(rotations, grid, endconditions='closed')"
   ]
  },
  {
   "cell_type": "code",
   "execution_count": null,
   "metadata": {},
   "outputs": [],
   "source": [
    "def evaluate(spline, samples=200):\n",
    "    times = np.linspace(spline.grid[0], spline.grid[-1], samples, endpoint=False)\n",
    "    return spline.evaluate(times)"
   ]
  },
  {
   "cell_type": "code",
   "execution_count": null,
   "metadata": {},
   "outputs": [],
   "source": [
    "ani = animate_rotations({\n",
    "    'Barry–Goldman': evaluate(bg),\n",
    "    'Catmull–Rom-like': evaluate(cr),\n",
    "}, figsize=(4, 2))"
   ]
  },
  {
   "cell_type": "code",
   "execution_count": null,
   "metadata": {},
   "outputs": [],
   "source": [
    "display_animation(ani, default_mode='loop')"
   ]
  },
  {
   "cell_type": "code",
   "execution_count": null,
   "metadata": {},
   "outputs": [],
   "source": [
    "rotations = [\n",
    "    angles2quat(90, 0, -45),\n",
    "    angles2quat(179, 0, 0),\n",
    "    angles2quat(181, 0, 0),\n",
    "    angles2quat(270, 0, -45),\n",
    "    angles2quat(0, 90, 90),\n",
    "]"
   ]
  },
  {
   "cell_type": "code",
   "execution_count": null,
   "metadata": {},
   "outputs": [],
   "source": [
    "s_uniform = BarryGoldman(rotations)\n",
    "s_chordal = BarryGoldman(rotations, alpha=1)\n",
    "s_centripetal = BarryGoldman(rotations, alpha=0.5)"
   ]
  },
  {
   "cell_type": "code",
   "execution_count": null,
   "metadata": {},
   "outputs": [],
   "source": [
    "ani = animate_rotations({\n",
    "    'uniform': evaluate(s_uniform, samples=300),\n",
    "    'chordal': evaluate(s_chordal, samples=300),\n",
    "    'centripetal': evaluate(s_centripetal, samples=300),\n",
    "}, figsize=(6, 2))"
   ]
  },
  {
   "cell_type": "code",
   "execution_count": null,
   "metadata": {},
   "outputs": [],
   "source": [
    "display_animation(ani, default_mode='loop')"
   ]
  },
  {
   "cell_type": "markdown",
   "metadata": {},
   "source": [
    "## Constant Angular Speed\n",
    "\n",
    "Not very efficient,\n",
    "De Casteljau's algorithm is faster because it directly provides the tangent."
   ]
  },
  {
   "cell_type": "code",
   "execution_count": null,
   "metadata": {},
   "outputs": [],
   "source": [
    "from splines import ConstantSpeedAdapter"
   ]
  },
  {
   "cell_type": "code",
   "execution_count": null,
   "metadata": {},
   "outputs": [],
   "source": [
    "class BarryGoldmanWithDerivative(BarryGoldman):\n",
    "    \n",
    "    delta_t = 0.000001\n",
    "    \n",
    "    def evaluate(self, t, n=0):\n",
    "        \"\"\"Evaluate quaternion or angular velocity.\"\"\"\n",
    "        if not np.isscalar(t):\n",
    "            return np.array([self.evaluate(t, n) for t in t])\n",
    "        if n == 0:\n",
    "            return super().evaluate(t)\n",
    "        elif n == 1:\n",
    "            # NB: We move the interval around because\n",
    "            #     we cannot access times before and after\n",
    "            #     the first and last time, respectively.\n",
    "            fraction = (t - self.grid[0]) / (self.grid[-1] - self.grid[0])\n",
    "            before = super().evaluate(t - fraction * self.delta_t)\n",
    "            after = super().evaluate(t + (1 - fraction) * self.delta_t)\n",
    "            # NB: Double angle\n",
    "            return (after * before.inverse()).log_map() * 2 / self.delta_t\n",
    "        else:\n",
    "            raise ValueError('Unsupported n: {!r}'.format(n))"
   ]
  },
  {
   "cell_type": "code",
   "execution_count": null,
   "metadata": {},
   "outputs": [],
   "source": [
    "s = ConstantSpeedAdapter(BarryGoldmanWithDerivative(rotations, alpha=0.5))"
   ]
  },
  {
   "cell_type": "markdown",
   "metadata": {},
   "source": [
    "Takes a long time!"
   ]
  },
  {
   "cell_type": "code",
   "execution_count": null,
   "metadata": {},
   "outputs": [],
   "source": [
    "ani = animate_rotations({\n",
    "    'non-constant speed': evaluate(s_centripetal),\n",
    "    'constant speed': evaluate(s),\n",
    "}, figsize=(4, 2))"
   ]
  },
  {
   "cell_type": "code",
   "execution_count": null,
   "metadata": {},
   "outputs": [],
   "source": [
    "display_animation(ani, default_mode='loop')"
   ]
  }
 ],
 "metadata": {
  "kernelspec": {
   "display_name": "Python 3",
   "language": "python",
   "name": "python3"
  },
  "language_info": {
   "codemirror_mode": {
    "name": "ipython",
    "version": 3
   },
   "file_extension": ".py",
   "mimetype": "text/x-python",
   "name": "python",
   "nbconvert_exporter": "python",
   "pygments_lexer": "ipython3",
   "version": "3.9.1+"
  }
 },
 "nbformat": 4,
 "nbformat_minor": 4
}
