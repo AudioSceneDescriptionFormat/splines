{
 "cells": [
  {
   "cell_type": "markdown",
   "metadata": {
    "nbsphinx": "hidden"
   },
   "source": [
    "This notebook is part of https://github.com/AudioSceneDescriptionFormat/splines, see also https://splines.readthedocs.io/."
   ]
  },
  {
   "cell_type": "markdown",
   "metadata": {},
   "source": [
    "# Barry--Goldman Algorithm\n",
    "\n",
    "We can try to use the algorithm described in the\n",
    "[notebook about non-uniform Catmull--Rom splines](../euclidean/catmull-rom-non-uniform.ipynb)\n",
    "using [Slerp](slerp.ipynb) instead of linear interpolations,\n",
    "just as we have done with [De Casteljau's algorithm](de-casteljau.ipynb)."
   ]
  },
  {
   "cell_type": "code",
   "execution_count": null,
   "metadata": {},
   "outputs": [],
   "source": [
    "def slerp(one, two, t):\n",
    "    return (two * one.inverse())**t * one"
   ]
  },
  {
   "cell_type": "code",
   "execution_count": null,
   "metadata": {},
   "outputs": [],
   "source": [
    "def barry_goldman(rotations, times, t):\n",
    "    q0, q1, q2, q3 = rotations\n",
    "    t0, t1, t2, t3 = times\n",
    "    return slerp(\n",
    "        slerp(\n",
    "            slerp(q0, q1, (t - t0) / (t1 - t0)),\n",
    "            slerp(q1, q2, (t - t1) / (t2 - t1)),\n",
    "            (t - t0) / (t2 - t0)),\n",
    "        slerp(\n",
    "            slerp(q1, q2, (t - t1) / (t2 - t1)),\n",
    "            slerp(q2, q3, (t - t2) / (t3 - t2)),\n",
    "            (t - t1) / (t3 - t1)),\n",
    "        (t - t1) / (t2 - t1))"
   ]
  },
  {
   "cell_type": "markdown",
   "metadata": {},
   "source": [
    "Example:"
   ]
  },
  {
   "cell_type": "code",
   "execution_count": null,
   "metadata": {},
   "outputs": [],
   "source": [
    "import numpy as np"
   ]
  },
  {
   "cell_type": "markdown",
   "metadata": {},
   "source": [
    "[helper.py](helper.py)"
   ]
  },
  {
   "cell_type": "code",
   "execution_count": null,
   "metadata": {},
   "outputs": [],
   "source": [
    "from helper import angles2quat, animate_rotations, display_animation"
   ]
  },
  {
   "cell_type": "code",
   "execution_count": null,
   "metadata": {},
   "outputs": [],
   "source": [
    "q0 = angles2quat(0, 0, 0)\n",
    "q1 = angles2quat(90, 0, 0)\n",
    "q2 = angles2quat(90, 90, 0)\n",
    "q3 = angles2quat(90, 90, 90)"
   ]
  },
  {
   "cell_type": "code",
   "execution_count": null,
   "metadata": {},
   "outputs": [],
   "source": [
    "t0 = 0\n",
    "t1 = 1\n",
    "t2 = 4\n",
    "t3 = 7"
   ]
  },
  {
   "cell_type": "code",
   "execution_count": null,
   "metadata": {},
   "outputs": [],
   "source": [
    "frames = 50"
   ]
  },
  {
   "cell_type": "code",
   "execution_count": null,
   "metadata": {},
   "outputs": [],
   "source": [
    "times = np.linspace(t1, t2, frames)"
   ]
  },
  {
   "cell_type": "code",
   "execution_count": null,
   "metadata": {},
   "outputs": [],
   "source": [
    "rotations = [barry_goldman([q0, q1, q2, q3], [t0, t1, t2, t3], t) for t in times]"
   ]
  },
  {
   "cell_type": "code",
   "execution_count": null,
   "metadata": {},
   "outputs": [],
   "source": [
    "ani = animate_rotations({\n",
    "    'Barry–Goldman (q0, q1, q2, q3)': rotations,\n",
    "    'Slerp (q1, q2)': slerp(q1, q2, np.linspace(0, 1, frames)),\n",
    "}, figsize=(6, 3))"
   ]
  },
  {
   "cell_type": "code",
   "execution_count": null,
   "metadata": {},
   "outputs": [],
   "source": [
    "display_animation(ani, default_mode='once')"
   ]
  }
 ],
 "metadata": {
  "kernelspec": {
   "display_name": "Python 3",
   "language": "python",
   "name": "python3"
  },
  "language_info": {
   "codemirror_mode": {
    "name": "ipython",
    "version": 3
   },
   "file_extension": ".py",
   "mimetype": "text/x-python",
   "name": "python",
   "nbconvert_exporter": "python",
   "pygments_lexer": "ipython3",
   "version": "3.8.3"
  }
 },
 "nbformat": 4,
 "nbformat_minor": 4
}
