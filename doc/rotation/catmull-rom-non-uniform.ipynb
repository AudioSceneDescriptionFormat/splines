{
 "cells": [
  {
   "cell_type": "markdown",
   "metadata": {
    "nbsphinx": "hidden"
   },
   "source": [
    "This notebook is part of https://github.com/AudioSceneDescriptionFormat/splines, see also https://splines.readthedocs.io/.\n",
    "\n",
    "[back to rotation splines](index.ipynb)"
   ]
  },
  {
   "cell_type": "markdown",
   "metadata": {},
   "source": [
    "# Non-Uniform Catmull--Rom-Like Rotation Splines\n",
    "\n",
    "[uniform case](catmull-rom-uniform.ipynb)"
   ]
  },
  {
   "cell_type": "markdown",
   "metadata": {},
   "source": [
    "> What is the best way to allow\n",
    "varying intervals between sequence points in parameter\n",
    "space?\n",
    ">\n",
    "> --<cite data-cite=\"shoemake1985animating\">Shoemake (1985)</cite>, section 6: \"Questions\""
   ]
  },
  {
   "cell_type": "markdown",
   "metadata": {},
   "source": [
    "[notebook about non-uniform (Euclidean) Catmull--Rom splines](../euclidean/catmull-rom-non-uniform.ipynb#Tangent-Vectors)"
   ]
  },
  {
   "cell_type": "markdown",
   "metadata": {},
   "source": [
    "\\begin{align*}\n",
    "\\vec{v}_i &=\n",
    "\\frac{\n",
    "\\vec{v}_{i,\\text{in}} (t_{i+1} - t_i) +\n",
    "\\vec{v}_{i,\\text{out}} (t_i - t_{i-1})\n",
    "}{\n",
    "t_{i+1} - t_{i-1}\n",
    "} \\\\\n",
    "\\\\\n",
    "\\vec{v}_{i,\\text{in}} &=\n",
    "\\frac{\\vec{x}_i - \\vec{x}_{i-1}}{t_i - t_{i-1}} \\\\\n",
    "\\vec{v}_{i,\\text{out}} &=\n",
    "\\frac{\\vec{x}_{i+1} - \\vec{x}_i}{t_{i+1} - t_i}\n",
    "\\end{align*}"
   ]
  },
  {
   "cell_type": "markdown",
   "metadata": {},
   "source": [
    "\"translated\" to quaternions ..."
   ]
  },
  {
   "cell_type": "markdown",
   "metadata": {},
   "source": [
    "\\begin{align*}\n",
    "\\tilde{q}_i^{(-)} &=\n",
    "\\exp\\left(\\vec{\\omega}_i \\frac{t_i - t_{i-1}}{3}\\right)^{-1} q_i \\\\\n",
    "\\tilde{q}_i^{(+)} &=\n",
    "\\exp\\left(\\vec{\\omega}_i \\frac{t_{i+1} - t_i}{3}\\right) q_i \\\\\n",
    "\\\\\n",
    "\\vec{\\omega}_i &=\n",
    "\\frac{\n",
    "\\vec{\\omega}_{i,\\text{in}} (t_{i+1} - t_i) + \n",
    "\\vec{\\omega}_{i,\\text{out}} (t_i - t_{i-1})\n",
    "}{\n",
    "t_{i+1} - t_{i-1}\n",
    "} \\\\\n",
    "\\vec{\\omega}_{i,\\text{in}} &= \\frac{\\ln(q_{i,\\text{in}})}{t_i - t_{i-1}} \\\\\n",
    "\\vec{\\omega}_{i,\\text{out}} &= \\frac{\\ln(q_{i,\\text{out}})}{t_{i+1} - t_i} \\\\\n",
    "q_{i,\\text{in}} &= q_i {q_{i-1}}^{-1} \\\\\n",
    "q_{i,\\text{out}} &= q_{i+1} {q_i}^{-1}\n",
    "\\end{align*}"
   ]
  },
  {
   "cell_type": "markdown",
   "metadata": {},
   "source": [
    "factor of $\\frac{1}{3}$ because we are dealing with cubic splines"
   ]
  },
  {
   "cell_type": "code",
   "execution_count": null,
   "metadata": {},
   "outputs": [],
   "source": [
    "from splines.quaternion import UnitQuaternion"
   ]
  },
  {
   "cell_type": "code",
   "execution_count": null,
   "metadata": {},
   "outputs": [],
   "source": [
    "def control_quaternions1(qs, ts):\n",
    "    q_1, q0, q1 = qs\n",
    "    t_1, t0, t1 = ts\n",
    "    q_in = q0 * q_1.inverse()\n",
    "    q_out = q1 * q0.inverse()\n",
    "    w_in = q_in.log_map() / (t0 - t_1)\n",
    "    w_out = q_out.log_map() / (t1 - t0)\n",
    "    w0 = ((t1 - t0) * w_in + (t0 - t_1) * w_out) / (t1 - t_1)    \n",
    "    return [\n",
    "        UnitQuaternion.exp_map(-w0 * (t0 - t_1) / 3) * q0,\n",
    "        UnitQuaternion.exp_map(w0 * (t1 - t0) / 3) * q0,\n",
    "    ]"
   ]
  },
  {
   "cell_type": "markdown",
   "metadata": {},
   "source": [
    "similar, but not quite identical:"
   ]
  },
  {
   "cell_type": "code",
   "execution_count": null,
   "metadata": {},
   "outputs": [],
   "source": [
    "def control_quaternions2(qs, ts):\n",
    "    q_1, q0, q1 = qs\n",
    "    t_1, t0, t1 = ts\n",
    "    q_in = (q0 * q_1.inverse())**((t1 - t0) / (3 * (t0 - t_1)))\n",
    "    q_out = (q1 * q0.inverse())**((t0 - t_1) / (3 * (t1 - t0)))\n",
    "    q_tangent = ((q_out * q_in.inverse())**(1 / 2) * q_in)**2\n",
    "    return [\n",
    "        (q_tangent**((t0 - t_1) / (t1 - t_1))).inverse() * q0,\n",
    "        q_tangent**((t1 - t0) / (t1 - t_1)) * q0,\n",
    "    ]"
   ]
  },
  {
   "cell_type": "code",
   "execution_count": null,
   "metadata": {},
   "outputs": [],
   "source": [
    "import numpy as np"
   ]
  },
  {
   "cell_type": "markdown",
   "metadata": {},
   "source": [
    "[helper.py](helper.py)"
   ]
  },
  {
   "cell_type": "code",
   "execution_count": null,
   "metadata": {},
   "outputs": [],
   "source": [
    "from helper import angles2quat, animate_rotations, display_animation"
   ]
  },
  {
   "cell_type": "markdown",
   "metadata": {},
   "source": [
    "[splines.quaternion.DeCasteljau](../python-module/splines.quaternion.rst#splines.quaternion.DeCasteljau) class"
   ]
  },
  {
   "cell_type": "code",
   "execution_count": null,
   "metadata": {},
   "outputs": [],
   "source": [
    "from splines.quaternion import DeCasteljau, canonicalized"
   ]
  },
  {
   "cell_type": "code",
   "execution_count": null,
   "metadata": {},
   "outputs": [],
   "source": [
    "def create_closed_curve(rotations, grid, control_quaternion_func):\n",
    "    assert len(rotations) + 1 == len(grid)\n",
    "    rotations = rotations[-1:] + rotations + rotations[:2]\n",
    "    # Avoid angles of more than 180 degrees (including the added rotations):\n",
    "    rotations = list(canonicalized(rotations))\n",
    "    first_interval = grid[1] - grid[0]\n",
    "    last_interval = grid[-1] - grid[-2]\n",
    "    extended_grid = [grid[0] - last_interval] + list(grid) + [grid[-1] + first_interval]\n",
    "    control_points = []\n",
    "    for qs, ts in zip(\n",
    "            zip(rotations, rotations[1:], rotations[2:]),\n",
    "            zip(extended_grid, extended_grid[1:], extended_grid[2:])):\n",
    "        q_before, q_after = control_quaternion_func(qs, ts)\n",
    "        control_points.extend([q_before, qs[1], qs[1], q_after])\n",
    "    control_points = control_points[2:-2]\n",
    "    segments = list(zip(*[iter(control_points)] * 4))\n",
    "    return DeCasteljau(segments, grid)"
   ]
  },
  {
   "cell_type": "code",
   "execution_count": null,
   "metadata": {},
   "outputs": [],
   "source": [
    "rotations = [\n",
    "    angles2quat(0, 0, 180),\n",
    "    angles2quat(0, 45, 90),\n",
    "    angles2quat(90, 45, 0),\n",
    "    angles2quat(90, 90, -90),\n",
    "    angles2quat(180, 0, -180),\n",
    "    angles2quat(-90, -45, 180),\n",
    "]"
   ]
  },
  {
   "cell_type": "code",
   "execution_count": null,
   "metadata": {},
   "outputs": [],
   "source": [
    "grid = np.array([0, 0.5, 2, 5, 6, 7, 10])"
   ]
  },
  {
   "cell_type": "code",
   "execution_count": null,
   "metadata": {},
   "outputs": [],
   "source": [
    "s1 = create_closed_curve(rotations, grid, control_quaternions1)\n",
    "s2 = create_closed_curve(rotations, grid, control_quaternions2)"
   ]
  },
  {
   "cell_type": "code",
   "execution_count": null,
   "metadata": {},
   "outputs": [],
   "source": [
    "def evaluate(spline, frames=200):\n",
    "    times = np.linspace(spline.grid[0], spline.grid[-1], frames, endpoint=False)\n",
    "    return spline.evaluate(times)"
   ]
  },
  {
   "cell_type": "markdown",
   "metadata": {},
   "source": [
    "for comparison, [Barry--Goldman](barry-goldman.ipynb)"
   ]
  },
  {
   "cell_type": "code",
   "execution_count": null,
   "metadata": {},
   "outputs": [],
   "source": [
    "from splines.quaternion import BarryGoldman"
   ]
  },
  {
   "cell_type": "code",
   "execution_count": null,
   "metadata": {},
   "outputs": [],
   "source": [
    "bg = BarryGoldman(rotations, grid)"
   ]
  },
  {
   "cell_type": "code",
   "execution_count": null,
   "metadata": {},
   "outputs": [],
   "source": [
    "ani = animate_rotations({\n",
    "    '1': evaluate(s1),\n",
    "    '2': evaluate(s2),\n",
    "    'Barry–Goldman': evaluate(bg),\n",
    "}, figsize=(6, 2))"
   ]
  },
  {
   "cell_type": "code",
   "execution_count": null,
   "metadata": {},
   "outputs": [],
   "source": [
    "display_animation(ani, default_mode='loop')"
   ]
  },
  {
   "cell_type": "code",
   "execution_count": null,
   "metadata": {},
   "outputs": [],
   "source": [
    "max(max(map(abs, q.xyzw)) for q in (evaluate(s1) - evaluate(s2)))"
   ]
  },
  {
   "cell_type": "markdown",
   "metadata": {},
   "source": [
    "## Parameterization"
   ]
  },
  {
   "cell_type": "code",
   "execution_count": null,
   "metadata": {},
   "outputs": [],
   "source": [
    "rotations = [\n",
    "    angles2quat(90, 0, -45),\n",
    "    angles2quat(179, 0, 0),\n",
    "    angles2quat(181, 0, 0),\n",
    "    angles2quat(270, 0, -45),\n",
    "    angles2quat(0, 90, 90),\n",
    "]"
   ]
  },
  {
   "cell_type": "code",
   "execution_count": null,
   "metadata": {},
   "outputs": [],
   "source": [
    "uniform2 = create_closed_curve(rotations, range(len(rotations) + 1), control_quaternions1)"
   ]
  },
  {
   "cell_type": "markdown",
   "metadata": {},
   "source": [
    "[chordal parameterization](../euclidean/catmull-rom-properties.ipynb#Chordal-Parameterization)"
   ]
  },
  {
   "cell_type": "code",
   "execution_count": null,
   "metadata": {},
   "outputs": [],
   "source": [
    "angles = np.array([\n",
    "    np.arccos(a.dot(b))\n",
    "    #np.arccos(a.dot(b)) * 2\n",
    "    #a.dot(b)\n",
    "    #(b * a.inverse()).angle\n",
    "    #(b - a).norm\n",
    "    for a, b in zip(rotations, rotations[1:] + rotations[:1])])\n",
    "angles"
   ]
  },
  {
   "cell_type": "code",
   "execution_count": null,
   "metadata": {},
   "outputs": [],
   "source": [
    "chordal_grid = np.concatenate([[0], np.cumsum(angles)])"
   ]
  },
  {
   "cell_type": "code",
   "execution_count": null,
   "metadata": {},
   "outputs": [],
   "source": [
    "chordal2 = create_closed_curve(rotations, chordal_grid, control_quaternions1)"
   ]
  },
  {
   "cell_type": "markdown",
   "metadata": {},
   "source": [
    "[centripetal parameterization](../euclidean/catmull-rom-properties.ipynb#Centripetal-Parameterization)"
   ]
  },
  {
   "cell_type": "code",
   "execution_count": null,
   "metadata": {},
   "outputs": [],
   "source": [
    "centripetal_grid = np.concatenate([[0], np.cumsum(np.sqrt(angles))])"
   ]
  },
  {
   "cell_type": "code",
   "execution_count": null,
   "metadata": {},
   "outputs": [],
   "source": [
    "centripetal2 = create_closed_curve(rotations, centripetal_grid, control_quaternions1)"
   ]
  },
  {
   "cell_type": "code",
   "execution_count": null,
   "metadata": {},
   "outputs": [],
   "source": [
    "ani = animate_rotations({\n",
    "    'uniform': evaluate(uniform2),\n",
    "    'chordal': evaluate(chordal2),\n",
    "    'centripetal': evaluate(centripetal2),\n",
    "}, figsize=(6, 2))"
   ]
  },
  {
   "cell_type": "code",
   "execution_count": null,
   "metadata": {},
   "outputs": [],
   "source": [
    "display_animation(ani, default_mode='loop')"
   ]
  },
  {
   "cell_type": "markdown",
   "metadata": {},
   "source": [
    "The other method is very similar:"
   ]
  },
  {
   "cell_type": "code",
   "execution_count": null,
   "metadata": {},
   "outputs": [],
   "source": [
    "uniform1 = create_closed_curve(rotations, range(len(rotations) + 1), control_quaternions2)\n",
    "chordal1 = create_closed_curve(rotations, chordal_grid, control_quaternions2)\n",
    "centripetal1 = create_closed_curve(rotations, centripetal_grid, control_quaternions2)"
   ]
  },
  {
   "cell_type": "code",
   "execution_count": null,
   "metadata": {},
   "outputs": [],
   "source": [
    "max(max(map(abs, q.xyzw)) for q in (evaluate(uniform1) - evaluate(uniform2)))"
   ]
  },
  {
   "cell_type": "code",
   "execution_count": null,
   "metadata": {},
   "outputs": [],
   "source": [
    "max(max(map(abs, q.xyzw)) for q in (evaluate(chordal1) - evaluate(chordal2)))"
   ]
  },
  {
   "cell_type": "code",
   "execution_count": null,
   "metadata": {},
   "outputs": [],
   "source": [
    "max(max(map(abs, q.xyzw)) for q in (evaluate(centripetal1) - evaluate(centripetal2)))"
   ]
  }
 ],
 "metadata": {
  "kernelspec": {
   "display_name": "Python 3",
   "language": "python",
   "name": "python3"
  },
  "language_info": {
   "codemirror_mode": {
    "name": "ipython",
    "version": 3
   },
   "file_extension": ".py",
   "mimetype": "text/x-python",
   "name": "python",
   "nbconvert_exporter": "python",
   "pygments_lexer": "ipython3",
   "version": "3.9.1+"
  }
 },
 "nbformat": 4,
 "nbformat_minor": 4
}
