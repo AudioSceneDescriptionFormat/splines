{
 "cells": [
  {
   "cell_type": "markdown",
   "metadata": {
    "nbsphinx": "hidden"
   },
   "source": [
    "This notebook is part of https://github.com/AudioSceneDescriptionFormat/splines, see also https://splines.readthedocs.io/.\n",
    "\n",
    "[back to rotation splines](index.ipynb)"
   ]
  },
  {
   "cell_type": "markdown",
   "metadata": {},
   "source": [
    "# Non-Uniform Catmull--Rom-Like Rotation Splines\n",
    "\n",
    "> What is the best way to allow\n",
    "varying intervals between sequence points in parameter\n",
    "space?\n",
    ">\n",
    "> ---<cite data-cite=\"shoemake1985animating\">Shoemake (1985)</cite>, section 6: \"Questions\""
   ]
  },
  {
   "cell_type": "markdown",
   "metadata": {},
   "source": [
    "In the [uniform case](catmull-rom-uniform.ipynb)\n",
    "we have used\n",
    "[de Casteljau's algorithm with Slerp](de-casteljau.ipynb)\n",
    "to create a \"cubic\" rotation spline.\n",
    "\n",
    "To extend this to the non-uniform case,\n",
    "we can transform the parameter $t \\to \\frac{t - t_i}{t_{i+1} - t_i}$\n",
    "(as shown in\n",
    "[the notebook about non-uniform Euclidean Bézier splines](../euclidean/bezier-non-uniform.ipynb))\n",
    "for each spline segment,\n",
    "which is implemented in the\n",
    "[splines.quaternion.DeCasteljau](../python-module/splines.quaternion.rst#splines.quaternion.DeCasteljau) class."
   ]
  },
  {
   "cell_type": "code",
   "execution_count": null,
   "metadata": {},
   "outputs": [],
   "source": [
    "from splines.quaternion import DeCasteljau"
   ]
  },
  {
   "cell_type": "markdown",
   "metadata": {},
   "source": [
    "Assuming the control points at the start and the end of each segment are given\n",
    "(from a sequence of quaternions to be interpolated),\n",
    "we'll also need a way to calculate the missing two control points.\n",
    "For inspiration,\n",
    "we can have a look at the\n",
    "[notebook about non-uniform (Euclidean) Catmull--Rom splines](../euclidean/catmull-rom-non-uniform.ipynb#Using-Non-Uniform-Bézier-Segments)\n",
    "which provides these equations:"
   ]
  },
  {
   "cell_type": "markdown",
   "metadata": {},
   "source": [
    "\\begin{align*}\n",
    "\\boldsymbol{v}_i &= \\frac{\n",
    "\\boldsymbol{x}_{i+1} - \\boldsymbol{x}_i\n",
    "}{\n",
    "t_{i+1} - t_i\n",
    "}\n",
    "\\\\\n",
    "\\boldsymbol{\\dot{x}}_i\n",
    "&= \\frac{\n",
    "(t_{i+1} - t_i) \\, \\boldsymbol{v}_{i-1} + (t_i - t_{i-1}) \\, \\boldsymbol{v}_i\n",
    "}{\n",
    "t_{i+1} - t_{i-1}\n",
    "}\n",
    "\\\\\n",
    "\\boldsymbol{\\tilde{x}}_i^{(+)}\n",
    "&= \\boldsymbol{x}_i + \\frac{(t_{i+1} - t_i) \\, \\boldsymbol{\\dot{x}}_i}{3}\n",
    "\\\\\n",
    "\\boldsymbol{\\tilde{x}}_i^{(-)}\n",
    "&= \\boldsymbol{x}_i - \\frac{(t_i - t_{i-1}) \\, \\boldsymbol{\\dot{x}}_i}{3}\n",
    "\\end{align*}"
   ]
  },
  {
   "cell_type": "markdown",
   "metadata": {},
   "source": [
    "With the\n",
    "[relative rotation](quaternions.ipynb#Relative-Rotation-(Global-Frame-of-Reference))\n",
    "$\\delta_i = q_{i+1} {q_i}^{-1}$\n",
    "we can try to \"translate\" this to quaternions\n",
    "(using some vector operations in the tangent space):"
   ]
  },
  {
   "cell_type": "markdown",
   "metadata": {},
   "source": [
    "\\begin{align*}\n",
    "\\vec{\\rho}_{i} &= \\frac{\\ln(\\delta_{i})}{t_{i+1} - t_i}\n",
    "\\\\\n",
    "\\vec{\\omega}_i &=\n",
    "\\frac{\n",
    "(t_{i+1} - t_i) \\, \\vec{\\rho}_{i-1} + \n",
    "(t_i - t_{i-1}) \\, \\vec{\\rho}_{i}\n",
    "}{\n",
    "t_{i+1} - t_{i-1}\n",
    "}\n",
    "\\\\\n",
    "\\tilde{q}_i^{(+)}\n",
    "&\\overset{?}{=}\n",
    "\\exp\\left(\\frac{t_{i+1} - t_i}{3} \\, \\vec{\\omega}_i\\right) \\, q_i\n",
    "\\\\\n",
    "\\tilde{q}_i^{(-)}\n",
    "&\\overset{?}{=}\n",
    "\\exp\\left(\\frac{t_i - t_{i-1}}{3} \\, \\vec{\\omega}_i\\right)^{-1} \\, q_i,\n",
    "\\end{align*}"
   ]
  },
  {
   "cell_type": "markdown",
   "metadata": {},
   "source": [
    "where $\\vec{\\rho}_{i}$ is the angular velocity\n",
    "along the great arc from $q_i$ to $q_{i+1}$\n",
    "within the parameter interval from $t_i$ to $t_{i+1}$\n",
    "and\n",
    "$\\vec{\\omega}_i$ is the angular velocity\n",
    "of the Catmull--Rom-like quaternion curve\n",
    "at the control point $q_i$\n",
    "(which is reached at parameter value $t_i$).\n",
    "Finally, $\\tilde{q}_i^{(-)}$ and $\\tilde{q}_i^{(+)}$\n",
    "are the control quaternions before and after $q_i$, respectively."
   ]
  },
  {
   "cell_type": "code",
   "execution_count": null,
   "metadata": {},
   "outputs": [],
   "source": [
    "from splines.quaternion import UnitQuaternion"
   ]
  },
  {
   "cell_type": "code",
   "execution_count": null,
   "metadata": {},
   "outputs": [],
   "source": [
    "def control_quaternions1(qs, ts):\n",
    "    q_1, q0, q1 = qs\n",
    "    t_1, t0, t1 = ts\n",
    "    rho_in = q_1.rotation_to(q0).log_map() / (t0 - t_1)\n",
    "    rho_out = q0.rotation_to(q1).log_map() / (t1 - t0)\n",
    "    w0 = ((t1 - t0) * rho_in + (t0 - t_1) * rho_out) / (t1 - t_1)    \n",
    "    return [\n",
    "        UnitQuaternion.exp_map(-w0 * (t0 - t_1) / 3) * q0,\n",
    "        UnitQuaternion.exp_map(w0 * (t1 - t0) / 3) * q0,\n",
    "    ]"
   ]
  },
  {
   "cell_type": "markdown",
   "metadata": {},
   "source": [
    "This is implemented in the\n",
    "[splines.quaternion.DeCasteljau](../python-module/splines.quaternion.rst#splines.quaternion.DeCasteljau) class."
   ]
  },
  {
   "cell_type": "markdown",
   "metadata": {},
   "source": [
    "There is a similar (but not quite identical) way\n",
    "that doesn't use the tangent space,\n",
    "based on one of the approaches in\n",
    "[the notebook about the uniform case](catmull-rom-uniform.ipynb):"
   ]
  },
  {
   "cell_type": "markdown",
   "metadata": {},
   "source": [
    "\\begin{align*}\n",
    "q_{i,\\text{in}} &= {\\delta_{i-1}}^{\\frac{t_{i+1} - t_i}{3 (t_i - t_{i-1})}}\n",
    "\\\\\n",
    "q_{i,\\text{out}} &= {\\delta_i}^{\\frac{t_i - t_{i-1}}{3 (t_{i+1} - t_i)}}\n",
    "\\\\\n",
    "q_{i,\\text{offset}} &=\n",
    "\\left(\n",
    "\\left(q_{i,\\text{out}} {q_{i,\\text{in}}}^{-1}\\right)^\\frac{1}{2} \\, q_{i,\\text{in}}\n",
    "\\right)^2\n",
    "\\\\\n",
    "\\tilde{q}_i^{(+)}\n",
    "&\\overset{?}{=}\n",
    "{q_{i,\\text{offset}}}^\\frac{t_{i+1} - t_i}{t_{i+1} - t_{i-1}} \\, q_i\n",
    "\\\\\n",
    "\\tilde{q}_i^{(-)}\n",
    "&\\overset{?}{=}\n",
    "{q_{i,\\text{offset}}}^{-\\frac{t_i - t_{i-1}}{t_{i+1} - t_{i-1}}} \\, q_i\n",
    "\\end{align*}"
   ]
  },
  {
   "cell_type": "code",
   "execution_count": null,
   "metadata": {},
   "outputs": [],
   "source": [
    "def control_quaternions2(qs, ts):\n",
    "    q_1, q0, q1 = qs\n",
    "    t_1, t0, t1 = ts\n",
    "    q_in = q_1.rotation_to(q0)**((t1 - t0) / (3 * (t0 - t_1)))\n",
    "    q_out = q0.rotation_to(q1)**((t0 - t_1) / (3 * (t1 - t0)))\n",
    "    q_offset = (q_in.rotation_to(q_out)**(1 / 2) * q_in)**2\n",
    "    return [\n",
    "        q_offset**(-(t0 - t_1) / (t1 - t_1)) * q0,\n",
    "        q_offset**((t1 - t0) / (t1 - t_1)) * q0,\n",
    "    ]"
   ]
  },
  {
   "cell_type": "code",
   "execution_count": null,
   "metadata": {},
   "outputs": [],
   "source": [
    "import numpy as np"
   ]
  },
  {
   "cell_type": "markdown",
   "metadata": {},
   "source": [
    "[helper.py](helper.py)"
   ]
  },
  {
   "cell_type": "code",
   "execution_count": null,
   "metadata": {},
   "outputs": [],
   "source": [
    "from helper import angles2quat, animate_rotations, display_animation"
   ]
  },
  {
   "cell_type": "markdown",
   "metadata": {},
   "source": [
    "[splines.quaternion.canonicalized()](../python-module/splines.quaternion.rst#splines.quaternion.canonicalized)"
   ]
  },
  {
   "cell_type": "code",
   "execution_count": null,
   "metadata": {},
   "outputs": [],
   "source": [
    "from splines.quaternion import canonicalized"
   ]
  },
  {
   "cell_type": "code",
   "execution_count": null,
   "metadata": {},
   "outputs": [],
   "source": [
    "def create_closed_curve(rotations, grid, control_quaternion_func):\n",
    "    assert len(rotations) + 1 == len(grid)\n",
    "    rotations = rotations[-1:] + rotations + rotations[:2]\n",
    "    # Avoid angles of more than 180 degrees (including the added rotations):\n",
    "    rotations = list(canonicalized(rotations))\n",
    "    first_interval = grid[1] - grid[0]\n",
    "    last_interval = grid[-1] - grid[-2]\n",
    "    extended_grid = [grid[0] - last_interval, *grid, grid[-1] + first_interval]\n",
    "    control_points = []\n",
    "    for qs, ts in zip(\n",
    "            zip(rotations, rotations[1:], rotations[2:]),\n",
    "            zip(extended_grid, extended_grid[1:], extended_grid[2:])):\n",
    "        q_before, q_after = control_quaternion_func(qs, ts)\n",
    "        control_points.extend([q_before, qs[1], qs[1], q_after])\n",
    "    control_points = control_points[2:-2]\n",
    "    segments = list(zip(*[iter(control_points)] * 4))\n",
    "    return DeCasteljau(segments, grid)"
   ]
  },
  {
   "cell_type": "code",
   "execution_count": null,
   "metadata": {},
   "outputs": [],
   "source": [
    "rotations = [\n",
    "    angles2quat(0, 0, 180),\n",
    "    angles2quat(0, 45, 90),\n",
    "    angles2quat(90, 45, 0),\n",
    "    angles2quat(90, 90, -90),\n",
    "    angles2quat(180, 0, -180),\n",
    "    angles2quat(-90, -45, 180),\n",
    "]"
   ]
  },
  {
   "cell_type": "code",
   "execution_count": null,
   "metadata": {},
   "outputs": [],
   "source": [
    "grid = np.array([0, 0.5, 2, 5, 6, 7, 10])"
   ]
  },
  {
   "cell_type": "code",
   "execution_count": null,
   "metadata": {},
   "outputs": [],
   "source": [
    "s1 = create_closed_curve(rotations, grid, control_quaternions1)\n",
    "s2 = create_closed_curve(rotations, grid, control_quaternions2)"
   ]
  },
  {
   "cell_type": "code",
   "execution_count": null,
   "metadata": {},
   "outputs": [],
   "source": [
    "def evaluate(spline, frames=200):\n",
    "    times = np.linspace(\n",
    "        spline.grid[0], spline.grid[-1], frames, endpoint=False)\n",
    "    return spline.evaluate(times)"
   ]
  },
  {
   "cell_type": "markdown",
   "metadata": {},
   "source": [
    "for comparison, [Barry--Goldman](barry-goldman.ipynb)"
   ]
  },
  {
   "cell_type": "code",
   "execution_count": null,
   "metadata": {},
   "outputs": [],
   "source": [
    "from splines.quaternion import BarryGoldman"
   ]
  },
  {
   "cell_type": "code",
   "execution_count": null,
   "metadata": {},
   "outputs": [],
   "source": [
    "bg = BarryGoldman(rotations, grid)"
   ]
  },
  {
   "cell_type": "code",
   "execution_count": null,
   "metadata": {},
   "outputs": [],
   "source": [
    "ani = animate_rotations({\n",
    "    '1': evaluate(s1),\n",
    "    '2': evaluate(s2),\n",
    "    'Barry–Goldman': evaluate(bg),\n",
    "}, figsize=(6, 2))"
   ]
  },
  {
   "cell_type": "code",
   "execution_count": null,
   "metadata": {},
   "outputs": [],
   "source": [
    "display_animation(ani, default_mode='loop')"
   ]
  },
  {
   "cell_type": "code",
   "execution_count": null,
   "metadata": {},
   "outputs": [],
   "source": [
    "max(max(map(abs, q.xyzw)) for q in (evaluate(s1) - evaluate(s2)))"
   ]
  },
  {
   "cell_type": "markdown",
   "metadata": {},
   "source": [
    "## Parameterization"
   ]
  },
  {
   "cell_type": "code",
   "execution_count": null,
   "metadata": {},
   "outputs": [],
   "source": [
    "rotations = [\n",
    "    angles2quat(90, 0, -45),\n",
    "    angles2quat(179, 0, 0),\n",
    "    angles2quat(181, 0, 0),\n",
    "    angles2quat(270, 0, -45),\n",
    "    angles2quat(0, 90, 90),\n",
    "]"
   ]
  },
  {
   "cell_type": "code",
   "execution_count": null,
   "metadata": {},
   "outputs": [],
   "source": [
    "uniform2 = create_closed_curve(\n",
    "    rotations, range(len(rotations) + 1), control_quaternions1)"
   ]
  },
  {
   "cell_type": "markdown",
   "metadata": {},
   "source": [
    "[chordal parameterization](../euclidean/catmull-rom-properties.ipynb#Chordal-Parameterization)"
   ]
  },
  {
   "cell_type": "code",
   "execution_count": null,
   "metadata": {},
   "outputs": [],
   "source": [
    "angles = np.array([\n",
    "    a.rotation_to(b).angle\n",
    "    for a, b in zip(rotations, rotations[1:] + rotations[:1])])\n",
    "angles"
   ]
  },
  {
   "cell_type": "code",
   "execution_count": null,
   "metadata": {},
   "outputs": [],
   "source": [
    "chordal_grid = np.concatenate([[0], np.cumsum(angles)])"
   ]
  },
  {
   "cell_type": "code",
   "execution_count": null,
   "metadata": {},
   "outputs": [],
   "source": [
    "chordal2 = create_closed_curve(rotations, chordal_grid, control_quaternions1)"
   ]
  },
  {
   "cell_type": "markdown",
   "metadata": {},
   "source": [
    "[centripetal parameterization](../euclidean/catmull-rom-properties.ipynb#Centripetal-Parameterization)"
   ]
  },
  {
   "cell_type": "code",
   "execution_count": null,
   "metadata": {},
   "outputs": [],
   "source": [
    "centripetal_grid = np.concatenate([[0], np.cumsum(np.sqrt(angles))])"
   ]
  },
  {
   "cell_type": "code",
   "execution_count": null,
   "metadata": {},
   "outputs": [],
   "source": [
    "centripetal2 = create_closed_curve(\n",
    "    rotations, centripetal_grid, control_quaternions1)"
   ]
  },
  {
   "cell_type": "code",
   "execution_count": null,
   "metadata": {},
   "outputs": [],
   "source": [
    "ani = animate_rotations({\n",
    "    'uniform': evaluate(uniform2),\n",
    "    'chordal': evaluate(chordal2),\n",
    "    'centripetal': evaluate(centripetal2),\n",
    "}, figsize=(6, 2))"
   ]
  },
  {
   "cell_type": "code",
   "execution_count": null,
   "metadata": {},
   "outputs": [],
   "source": [
    "display_animation(ani, default_mode='loop')"
   ]
  },
  {
   "cell_type": "markdown",
   "metadata": {},
   "source": [
    "The other method is very similar:"
   ]
  },
  {
   "cell_type": "code",
   "execution_count": null,
   "metadata": {},
   "outputs": [],
   "source": [
    "uniform1 = create_closed_curve(\n",
    "    rotations, range(len(rotations) + 1), control_quaternions2)\n",
    "chordal1 = create_closed_curve(\n",
    "    rotations, chordal_grid, control_quaternions2)\n",
    "centripetal1 = create_closed_curve(\n",
    "    rotations, centripetal_grid, control_quaternions2)"
   ]
  },
  {
   "cell_type": "code",
   "execution_count": null,
   "metadata": {},
   "outputs": [],
   "source": [
    "max(max(map(abs, q.xyzw)) for q in (evaluate(uniform1) - evaluate(uniform2)))"
   ]
  },
  {
   "cell_type": "code",
   "execution_count": null,
   "metadata": {},
   "outputs": [],
   "source": [
    "max(max(map(abs, q.xyzw)) for q in (evaluate(chordal1) - evaluate(chordal2)))"
   ]
  },
  {
   "cell_type": "code",
   "execution_count": null,
   "metadata": {},
   "outputs": [],
   "source": [
    "max(max(map(abs, q.xyzw))\n",
    "    for q in (evaluate(centripetal1) - evaluate(centripetal2)))"
   ]
  }
 ],
 "metadata": {
  "kernelspec": {
   "display_name": "Python 3",
   "language": "python",
   "name": "python3"
  },
  "language_info": {
   "codemirror_mode": {
    "name": "ipython",
    "version": 3
   },
   "file_extension": ".py",
   "mimetype": "text/x-python",
   "name": "python",
   "nbconvert_exporter": "python",
   "pygments_lexer": "ipython3",
   "version": "3.9.2"
  }
 },
 "nbformat": 4,
 "nbformat_minor": 4
}
