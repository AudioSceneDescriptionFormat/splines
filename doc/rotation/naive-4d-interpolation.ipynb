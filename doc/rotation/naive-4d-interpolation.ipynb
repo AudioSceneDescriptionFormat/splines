{
 "cells": [
  {
   "cell_type": "markdown",
   "metadata": {
    "nbsphinx": "hidden"
   },
   "source": [
    "This notebook is part of https://github.com/AudioSceneDescriptionFormat/splines, see also https://splines.readthedocs.io/.\n",
    "\n",
    "[back to rotation splines](index.ipynb)"
   ]
  },
  {
   "cell_type": "markdown",
   "metadata": {},
   "source": [
    "# Naive 4D Quaternion Interpolation\n",
    "\n",
    "This method for interpolating rotations is normally not recommended.\n",
    "But it might still be interesting to try it out ...\n",
    "\n",
    "Since quaternions form a vector space (albeit a four-dimensional one),\n",
    "all methods for [Euclidean splines](../euclidean/index.ipynb) can be applied.\n",
    "However, even though rotations can be represented by *unit* quaternions,\n",
    "which are a subset of all quaternions,\n",
    "this subset is *not* a Euclidean space.\n",
    "All *unit* quaternions form the unit hypersphere $S^3$\n",
    "(which is a curved space),\n",
    "and each point on this hypersphere uniquely corresponds to a rotation.\n",
    "\n",
    "When we convert our desired rotation \"control points\"\n",
    "to quaternions and naively interpolate in 4D quaternion space,\n",
    "the interpolated quaternions are in general *not* unit quaternions,\n",
    "i.e. they are not part of the unit hypersphere and\n",
    "they don't correspond to a rotation.\n",
    "In order to force them onto the unit hypersphere,\n",
    "we can normalize them, though,\n",
    "which projects them onto the unit hypersphere.\n",
    "\n",
    "Note that this is a very crude form of interpolation\n",
    "and it might result in unexpected curve shapes.\n",
    "Especially the temporal behavior might be undesired."
   ]
  },
  {
   "cell_type": "markdown",
   "metadata": {},
   "source": [
    "> If, for some application, more speed is essential,\n",
    "> non-spherical quaternion splines will undoubtedly be faster\n",
    "> than angle interpolation,\n",
    "> while still free of axis bias and gimbal lock.\n",
    ">\n",
    "> --<cite data-cite-t=\"shoemake1985animating\">Shoemake (1985)</cite>, section 5.4"
   ]
  },
  {
   "cell_type": "markdown",
   "metadata": {},
   "source": [
    "> Abandoning the unit sphere,\n",
    "> one could work with the four-dimensional Euclidean space\n",
    "> of arbitrary quaternions.\n",
    "> How do standard interpolation methods applied there\n",
    "> behave when mapped back to matrices?\n",
    "> Note that we now have little guidance in picking the inverse image for a matrix,\n",
    "> and that cusp-free $\\mathbf{R}^4$ paths\n",
    "> do not always project to cusp-free $S^3$ paths.\n",
    ">\n",
    "> --<cite data-cite-t=\"shoemake1985animating\">Shoemake (1985)</cite>, section 6"
   ]
  },
  {
   "cell_type": "code",
   "execution_count": null,
   "metadata": {},
   "outputs": [],
   "source": [
    "import numpy as np"
   ]
  },
  {
   "cell_type": "code",
   "execution_count": null,
   "metadata": {},
   "outputs": [],
   "source": [
    "import splines"
   ]
  },
  {
   "cell_type": "code",
   "execution_count": null,
   "metadata": {},
   "outputs": [],
   "source": [
    "from splines.quaternion import Quaternion"
   ]
  },
  {
   "cell_type": "markdown",
   "metadata": {},
   "source": [
    "As always, we use a few helper functions from [helper.py](helper.py):"
   ]
  },
  {
   "cell_type": "code",
   "execution_count": null,
   "metadata": {},
   "outputs": [],
   "source": [
    "from helper import angles2quat, animate_rotations, display_animation"
   ]
  },
  {
   "cell_type": "code",
   "execution_count": null,
   "metadata": {},
   "outputs": [],
   "source": [
    "rotations = [\n",
    "    angles2quat(0, 0, 0),\n",
    "    angles2quat(0, 0, 45),\n",
    "    angles2quat(90, 90, 0),\n",
    "    angles2quat(180, 0, 90),\n",
    "]"
   ]
  },
  {
   "cell_type": "markdown",
   "metadata": {},
   "source": [
    "We use `xyzw` coordinate order here\n",
    "(because it is more common),\n",
    "but since the 4D coordinates are independent,\n",
    "we could as well use `wxyz` order\n",
    "(or any order, for that matter) with identical results\n",
    "(apart from rounding errors).\n",
    "\n",
    "However, for illustrating the non-normalized case,\n",
    "we rely on the implicit conversion from `xyzw` coordinates\n",
    "in the function `animate_rotations()`."
   ]
  },
  {
   "cell_type": "code",
   "execution_count": null,
   "metadata": {},
   "outputs": [],
   "source": [
    "rotations_xyzw = [q.xyzw for q in rotations]"
   ]
  },
  {
   "cell_type": "markdown",
   "metadata": {},
   "source": [
    "As an example we use\n",
    "[splines.CatmullRom](../python-module/splines.rst#splines.CatmullRom)\n",
    "here, but any Euclidean spline could be used."
   ]
  },
  {
   "cell_type": "code",
   "execution_count": null,
   "metadata": {},
   "outputs": [],
   "source": [
    "s = splines.CatmullRom(rotations_xyzw, endconditions='closed')"
   ]
  },
  {
   "cell_type": "code",
   "execution_count": null,
   "metadata": {},
   "outputs": [],
   "source": [
    "times = np.linspace(s.grid[0], s.grid[-1], 100)"
   ]
  },
  {
   "cell_type": "code",
   "execution_count": null,
   "metadata": {},
   "outputs": [],
   "source": [
    "interpolated_xyzw = s.evaluate(times)"
   ]
  },
  {
   "cell_type": "code",
   "execution_count": null,
   "metadata": {},
   "outputs": [],
   "source": [
    "normalized = [\n",
    "    Quaternion(w, (x, y, z)).normalized()\n",
    "    for x, y, z, w in interpolated_xyzw]"
   ]
  },
  {
   "cell_type": "markdown",
   "metadata": {},
   "source": [
    "For comparison, we also create a\n",
    "[splines.quaternion.CatmullRom](../python-module/splines.quaternion.rst#splines.quaternion.CatmullRom)\n",
    "instance:"
   ]
  },
  {
   "cell_type": "code",
   "execution_count": null,
   "metadata": {},
   "outputs": [],
   "source": [
    "spherical_cr = splines.quaternion.CatmullRom(rotations, endconditions='closed')"
   ]
  },
  {
   "cell_type": "code",
   "execution_count": null,
   "metadata": {},
   "outputs": [],
   "source": [
    "ani = animate_rotations({\n",
    "    'normalized 4D interp.': normalized,\n",
    "    'spherical interp.': spherical_cr.evaluate(times),\n",
    "})\n",
    "display_animation(ani, default_mode='loop')"
   ]
  },
  {
   "cell_type": "markdown",
   "metadata": {},
   "source": [
    "In case you are wondering what would happen\n",
    "if you forget to normalize the results,\n",
    "let's also show the non-normalized data:"
   ]
  },
  {
   "cell_type": "code",
   "execution_count": null,
   "metadata": {},
   "outputs": [],
   "source": [
    "ani = animate_rotations({\n",
    "    'normalized': normalized,\n",
    "    'not normalized': interpolated_xyzw,\n",
    "})\n",
    "display_animation(ani, default_mode='loop')"
   ]
  },
  {
   "cell_type": "markdown",
   "metadata": {},
   "source": [
    "Obviously, the non-normalized values are not pure rotations."
   ]
  },
  {
   "cell_type": "markdown",
   "metadata": {},
   "source": [
    "To get a different temporal behavior,\n",
    "let's try using [centripetal parameterization](../euclidean/catmull-rom-properties.ipynb#Centripetal-Parameterization).\n",
    "Note that this guarantees the absence\n",
    "of cusps and self-intersections\n",
    "in the 4D curve,\n",
    "but this guarantee doesn't extend to\n",
    "the projection onto the unit hypersphere."
   ]
  },
  {
   "cell_type": "code",
   "execution_count": null,
   "metadata": {},
   "outputs": [],
   "source": [
    "s2 = splines.CatmullRom(rotations_xyzw, alpha=0.5, endconditions='closed')"
   ]
  },
  {
   "cell_type": "code",
   "execution_count": null,
   "metadata": {},
   "outputs": [],
   "source": [
    "times2 = np.linspace(s2.grid[0], s2.grid[-1], len(times))"
   ]
  },
  {
   "cell_type": "code",
   "execution_count": null,
   "metadata": {},
   "outputs": [],
   "source": [
    "normalized2 = [\n",
    "    Quaternion(w, (x, y, z)).normalized()\n",
    "    for x, y, z, w in s2.evaluate(times2)]"
   ]
  },
  {
   "cell_type": "code",
   "execution_count": null,
   "metadata": {},
   "outputs": [],
   "source": [
    "ani = animate_rotations({\n",
    "    'uniform': normalized,\n",
    "    'centripetal': normalized2,\n",
    "})\n",
    "display_animation(ani, default_mode='loop')"
   ]
  },
  {
   "cell_type": "markdown",
   "metadata": {},
   "source": [
    "Let's also try *arc-length parameterization* with the\n",
    "[UnitSpeedAdapter](../python-module/splines.rst#splines.UnitSpeedAdapter):"
   ]
  },
  {
   "cell_type": "code",
   "execution_count": null,
   "metadata": {},
   "outputs": [],
   "source": [
    "s3 = splines.UnitSpeedAdapter(s2)\n",
    "times3 = np.linspace(s3.grid[0], s3.grid[-1], len(times))"
   ]
  },
  {
   "cell_type": "code",
   "execution_count": null,
   "metadata": {},
   "outputs": [],
   "source": [
    "normalized3 = [\n",
    "    Quaternion(w, (x, y, z)).normalized()\n",
    "    for x, y, z, w in s3.evaluate(times3)]"
   ]
  },
  {
   "cell_type": "markdown",
   "metadata": {},
   "source": [
    "The arc-length parameterized spline\n",
    "has a constant speed in 4D quaternion space,\n",
    "but that doesn't mean it has a constant angular speed!\n",
    "\n",
    "For comparison,\n",
    "we also create a rotation spline with constant angular speed:"
   ]
  },
  {
   "cell_type": "code",
   "execution_count": null,
   "metadata": {},
   "outputs": [],
   "source": [
    "s4 = splines.UnitSpeedAdapter(\n",
    "    splines.quaternion.CatmullRom(\n",
    "        rotations, alpha=0.5, endconditions='closed'))\n",
    "times4 = np.linspace(s4.grid[0], s4.grid[-1], len(times))"
   ]
  },
  {
   "cell_type": "code",
   "execution_count": null,
   "metadata": {},
   "outputs": [],
   "source": [
    "ani = animate_rotations({\n",
    "    'const. 4D speed': normalized3,\n",
    "    'const. angular speed': s4.evaluate(times4),\n",
    "})\n",
    "display_animation(ani, default_mode='loop')"
   ]
  },
  {
   "cell_type": "markdown",
   "metadata": {},
   "source": [
    "The difference is subtle, but it is definitely visible.\n",
    "More extreme examples can certainly be found."
   ]
  }
 ],
 "metadata": {
  "kernelspec": {
   "display_name": "Python 3",
   "language": "python",
   "name": "python3"
  },
  "language_info": {
   "codemirror_mode": {
    "name": "ipython",
    "version": 3
   },
   "file_extension": ".py",
   "mimetype": "text/x-python",
   "name": "python",
   "nbconvert_exporter": "python",
   "pygments_lexer": "ipython3",
   "version": "3.9.7"
  }
 },
 "nbformat": 4,
 "nbformat_minor": 4
}
