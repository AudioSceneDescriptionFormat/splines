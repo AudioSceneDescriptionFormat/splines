{
 "cells": [
  {
   "cell_type": "markdown",
   "metadata": {
    "nbsphinx": "hidden"
   },
   "source": [
    "This notebook is part of https://github.com/AudioSceneDescriptionFormat/splines, see also https://splines.readthedocs.io/.\n",
    "\n",
    "[back to rotation splines](index.ipynb)"
   ]
  },
  {
   "cell_type": "markdown",
   "metadata": {},
   "source": [
    "# Spherical Linear Interpolation (Slerp)\n",
    "\n",
    "The term \"Slerp\" for \"**s**pherical **l**inear int**erp**olation\"\n",
    "(a.k.a. \"great arc in-betweening\")\n",
    "has been coined by\n",
    "<cite data-cite=\"shoemake1985animating\">Shoemake (1985)</cite>\n",
    "(section 3.3).\n",
    "It is defined as:\n",
    "\n",
    "\\begin{equation*}\n",
    "\\operatorname{Slerp}(q_1, q_2; u) =\n",
    "q_1 \\, \\left({q_1}^{-1} q_2\\right)^u\n",
    "\\end{equation*}\n",
    "\n",
    "The parameter $u$ moves from $0$ (where the expression simplifies to $q_1$)\n",
    "to $1$ (where the expression simplifies to $q_2$)."
   ]
  },
  {
   "cell_type": "markdown",
   "metadata": {},
   "source": [
    "The [Wikipedia article for Slerp](https://en.wikipedia.org/wiki/Slerp#Quaternion_Slerp)\n",
    "provides four equivalent ways to describe the same thing:\n",
    "\n",
    "\\begin{align*}\n",
    "\\operatorname{Slerp}(q_0, q_1; t)\n",
    "& = q_0 \\, \\left({q_0}^{-1} q_1\\right)^t \\\\\n",
    "& = q_1 \\, \\left({q_1}^{-1} q_0\\right)^{1-t} \\\\\n",
    "& = \\left(q_0 {q_1}^{-1}\\right)^{1-t} \\, q_1 \\\\\n",
    "& = \\left(q_1 {q_0}^{-1}\\right)^t \\, q_0\n",
    "\\end{align*}"
   ]
  },
  {
   "cell_type": "markdown",
   "metadata": {},
   "source": [
    "<cite data-cite=\"shoemake1985animating\">Shoemake (1985)</cite>\n",
    "also provides an alternative formulation\n",
    "(attributed to Glenn Davis):\n",
    "\n",
    "\\begin{equation*}\n",
    "\\operatorname{Slerp}(q_1, q_2; u) =\n",
    "\\frac{\\sin (1-u) \\theta}{\\sin \\theta} q_1 +\n",
    "\\frac{\\sin u \\theta}{\\sin \\theta} q_2,\n",
    "\\end{equation*}\n",
    "\n",
    "where the dot product\n",
    "$q_1 \\cdot q_2 = \\cos \\theta$."
   ]
  },
  {
   "cell_type": "markdown",
   "metadata": {},
   "source": [
    "Latter equation works for unit-length elements of any arbitrary-dimensional\n",
    "inner product space (i.e. a vector space that also has an inner product),\n",
    "while the preceding equations only work for quaternions."
   ]
  },
  {
   "cell_type": "markdown",
   "metadata": {},
   "source": [
    "The Slerp function is quite easy to implement ..."
   ]
  },
  {
   "cell_type": "code",
   "execution_count": null,
   "metadata": {},
   "outputs": [],
   "source": [
    "def slerp(one, two, t):\n",
    "    return (two * one.inverse())**t * one"
   ]
  },
  {
   "cell_type": "markdown",
   "metadata": {},
   "source": [
    "... but for your convenience an implementation is also provided in\n",
    "[splines.quaternion.slerp()](../python-module/splines.quaternion.rst#splines.quaternion.slerp)."
   ]
  },
  {
   "cell_type": "markdown",
   "metadata": {},
   "source": [
    "## Derivation\n",
    "\n",
    "Before looking at the general case\n",
    "$\\operatorname{Slerp}(q_0, q_1; t)$,\n",
    "which interpolates from $q_0$ to $q_1$,\n",
    "let's look at the much simpler case of interpolating\n",
    "from the identity $\\boldsymbol{1}$ to some unit quaternion $q$.\n",
    "\n",
    "\\begin{align*}\n",
    "\\boldsymbol{1} &= (1, (0, 0, 0))\\\\\n",
    "q &= \\left(\\cos \\frac{\\alpha}{2}, \\vec{n} \\sin \\frac{\\alpha}{2}\\right)\n",
    "\\end{align*}\n",
    "\n",
    "To move along the great arc from $\\boldsymbol{1}$ to $q$,\n",
    "we simply have to change the angle\n",
    "from $0$ to $\\alpha$ while the rotation axis $\\vec{n}$ stays unchanged.\n",
    "\n",
    "\\begin{equation*}\n",
    "\\operatorname{Slerp}(\\boldsymbol{1}, q; t) = \\left(\\cos \\frac{\\alpha t}{2}, \\vec{n} \\sin \\frac{\\alpha t}{2}\\right) = q^t \\text{, where } 0 \\le t \\le 1\n",
    "\\end{equation*}"
   ]
  },
  {
   "cell_type": "markdown",
   "metadata": {},
   "source": [
    "To generalize this to the great arc from $q_0$ to $q_1$,\n",
    "we can start with $q_0$ and left-multiply an appropriate Slerp using the\n",
    "[relative rotation (global frame)](quaternions.ipynb#Relative-Rotation-(Global-Frame-of-Reference))\n",
    "$q_{0,1}$:\n",
    "\n",
    "\\begin{equation*}\n",
    "\\operatorname{Slerp}(q_0, q_1; t) = \\operatorname{Slerp}(\\boldsymbol{1}, q_{0,1}; t) \\, q_0\n",
    "\\end{equation*}"
   ]
  },
  {
   "cell_type": "markdown",
   "metadata": {},
   "source": [
    "Inserting $q_{0,1} = q_1 {q_0}^{-1}$, we get:\n",
    "\n",
    "\\begin{equation*}\n",
    "\\operatorname{Slerp}(q_0, q_1; t) = \\left(q_1 {q_0}^{-1}\\right)^t \\, q_0\n",
    "\\end{equation*}"
   ]
  },
  {
   "cell_type": "markdown",
   "metadata": {},
   "source": [
    "Alternatively,\n",
    "we can start with $q_0$ and right-multiply an appropriate Slerp using the\n",
    "[relative rotation (local frame)](quaternions.ipynb#Relative-Rotation-(Local-Frame-of-Reference))\n",
    "$q_{0,1} = {q_0}^{-1} q_1$:\n",
    "\n",
    "\\begin{equation*}\n",
    "\\operatorname{Slerp}(q_0, q_1; t) = q_0 \\, \\left({q_0}^{-1} q_1\\right)^t\n",
    "\\end{equation*}"
   ]
  },
  {
   "cell_type": "markdown",
   "metadata": {},
   "source": [
    "We can also start with $q_1$, swap $q_0$ and $q_1$ in the relative rotation\n",
    "and invert the parameter by using $1 - t$,\n",
    "leading to the two further alternatives mentioned above."
   ]
  },
  {
   "cell_type": "markdown",
   "metadata": {},
   "source": [
    "## Visualization"
   ]
  },
  {
   "cell_type": "markdown",
   "metadata": {},
   "source": [
    "First, let's import [NumPy](https://numpy.org/) ..."
   ]
  },
  {
   "cell_type": "code",
   "execution_count": null,
   "metadata": {},
   "outputs": [],
   "source": [
    "import numpy as np"
   ]
  },
  {
   "cell_type": "markdown",
   "metadata": {},
   "source": [
    "... and a few helper functions from\n",
    "[helper.py](helper.py):"
   ]
  },
  {
   "cell_type": "code",
   "execution_count": null,
   "metadata": {},
   "outputs": [],
   "source": [
    "from helper import angles2quat, animate_rotations, display_animation"
   ]
  },
  {
   "cell_type": "code",
   "execution_count": null,
   "metadata": {},
   "outputs": [],
   "source": [
    "q1 = angles2quat(45, -20, -60)\n",
    "q2 = angles2quat(-45, 20, 30)"
   ]
  },
  {
   "cell_type": "markdown",
   "metadata": {},
   "source": [
    "The angle between the two quaternions:"
   ]
  },
  {
   "cell_type": "code",
   "execution_count": null,
   "metadata": {},
   "outputs": [],
   "source": [
    "np.degrees(np.arccos(q1.dot(q2)) * 2)"
   ]
  },
  {
   "cell_type": "code",
   "execution_count": null,
   "metadata": {},
   "outputs": [],
   "source": [
    "ani_times = np.linspace(0, 1, 50)"
   ]
  },
  {
   "cell_type": "code",
   "execution_count": null,
   "metadata": {},
   "outputs": [],
   "source": [
    "ani = animate_rotations({\n",
    "    'slerp(q1, q2)': slerp(q1, q2, ani_times),\n",
    "    'slerp(q1, -q2)': slerp(q1, -q2, ani_times),\n",
    "}, figsize=(5, 2))"
   ]
  },
  {
   "cell_type": "code",
   "execution_count": null,
   "metadata": {},
   "outputs": [],
   "source": [
    "display_animation(ani, default_mode='reflect')"
   ]
  },
  {
   "cell_type": "markdown",
   "metadata": {},
   "source": [
    "`slerp(q1, q2)` and `slerp(q1, -q2)` move along the same great circle,\n",
    "albeit in different directions.\n",
    "In total, they cover half the circumference of that great circle,\n",
    "which means a rotation angle of 360 degrees."
   ]
  },
  {
   "cell_type": "markdown",
   "metadata": {},
   "source": [
    "Let's create some still images:"
   ]
  },
  {
   "cell_type": "code",
   "execution_count": null,
   "metadata": {},
   "outputs": [],
   "source": [
    "from helper import plot_rotations"
   ]
  },
  {
   "cell_type": "code",
   "execution_count": null,
   "metadata": {},
   "outputs": [],
   "source": [
    "plot_times = np.linspace(0, 1, 9)"
   ]
  },
  {
   "cell_type": "code",
   "execution_count": null,
   "metadata": {},
   "outputs": [],
   "source": [
    "plot_rotations({\n",
    "    'slerp(q1, q2)': slerp(q1, q2, plot_times),\n",
    "    'slerp(q1, -q2)': slerp(q1, -q2, plot_times),\n",
    "}, figsize=(8, 3))"
   ]
  },
  {
   "cell_type": "markdown",
   "metadata": {},
   "source": [
    "## Piecewise Slerp\n",
    "\n",
    "The class\n",
    "[PiecewiseSlerp](../python-module/splines.quaternion.rst#splines.quaternion.PiecewiseSlerp)\n",
    "provides a rotation spline that consists of Slerp sections\n",
    "between the given quaternions."
   ]
  },
  {
   "cell_type": "code",
   "execution_count": null,
   "metadata": {},
   "outputs": [],
   "source": [
    "from splines.quaternion import PiecewiseSlerp"
   ]
  },
  {
   "cell_type": "code",
   "execution_count": null,
   "metadata": {},
   "outputs": [],
   "source": [
    "s = PiecewiseSlerp([\n",
    "    angles2quat(0, 0, 0),\n",
    "    angles2quat(90, 0, 0),\n",
    "    angles2quat(90, 90, 0),\n",
    "    angles2quat(90, 90, 90),\n",
    "], grid=[0, 1, 2, 3, 6], closed=True)"
   ]
  },
  {
   "cell_type": "code",
   "execution_count": null,
   "metadata": {},
   "outputs": [],
   "source": [
    "ani = animate_rotations({\n",
    "    'piecewise Slerp': s.evaluate(np.linspace(s.grid[0], s.grid[-1], 100)),\n",
    "}, figsize=(3, 2))"
   ]
  },
  {
   "cell_type": "code",
   "execution_count": null,
   "metadata": {},
   "outputs": [],
   "source": [
    "display_animation(ani, default_mode='loop')"
   ]
  },
  {
   "cell_type": "markdown",
   "metadata": {},
   "source": [
    "Each section has a constant rotation angle\n",
    "and a constant angular velocity."
   ]
  },
  {
   "cell_type": "markdown",
   "metadata": {},
   "source": [
    "## Slerp vs. Nlerp\n",
    "\n",
    "While *Slerp* interpolates along a great arc between two quaternions,\n",
    "it is also possible to interpolate along a straight line\n",
    "(in four-dimensional quaternion space) between those two quaternions.\n",
    "\n",
    "The resulting interpolant is *not* part of the unit hypersphere,\n",
    "i.e. the interpolated values are not unit quaternions.\n",
    "However, they can be normalized to become unit quaternions.\n",
    "\n",
    "This is called \"**n**ormalized **l**inear int**erp**olation\",\n",
    "in short *Nlerp*.\n",
    "\n",
    "The resulting interpolant travels through the same quaternions as Slerp does,\n",
    "but it doesn't do it with constant angular velocity."
   ]
  },
  {
   "cell_type": "code",
   "execution_count": null,
   "metadata": {},
   "outputs": [],
   "source": [
    "from splines.quaternion import Quaternion"
   ]
  },
  {
   "cell_type": "code",
   "execution_count": null,
   "metadata": {},
   "outputs": [],
   "source": [
    "def lerp(one, two, t):\n",
    "    \"\"\"Linear interpolation.\n",
    "    \n",
    "    t can go from 0 to 1.\n",
    "    \n",
    "    \"\"\"\n",
    "    return (1 - t) * one + t * two"
   ]
  },
  {
   "cell_type": "code",
   "execution_count": null,
   "metadata": {},
   "outputs": [],
   "source": [
    "def nlerp(one, two, t):\n",
    "    \"\"\"Normalized linear interpolation.\n",
    "    \n",
    "    Linear interpolation in 4D quaternion space,\n",
    "    normalizing the result.\n",
    "    \n",
    "    t can go from 0 to 1.\n",
    "    \n",
    "    \"\"\"\n",
    "    one = np.array(one.xyzw)\n",
    "    two = np.array(two.xyzw)\n",
    "    *vector, scalar = lerp(one, two, t)\n",
    "    return Quaternion(scalar, vector).normalized()"
   ]
  },
  {
   "cell_type": "code",
   "execution_count": null,
   "metadata": {},
   "outputs": [],
   "source": [
    "q1 = angles2quat(-60, 10, -10)\n",
    "q2 = angles2quat(80, -35, -110)"
   ]
  },
  {
   "cell_type": "code",
   "execution_count": null,
   "metadata": {},
   "outputs": [],
   "source": [
    "assert q1.dot(q2) > 0"
   ]
  },
  {
   "cell_type": "code",
   "execution_count": null,
   "metadata": {},
   "outputs": [],
   "source": [
    "np.degrees(np.arccos(q1.dot(q2)) * 2)"
   ]
  },
  {
   "cell_type": "code",
   "execution_count": null,
   "metadata": {},
   "outputs": [],
   "source": [
    "ani_times = np.linspace(0, 1, 50)"
   ]
  },
  {
   "cell_type": "code",
   "execution_count": null,
   "metadata": {},
   "outputs": [],
   "source": [
    "ani = animate_rotations({\n",
    "    'Slerp': slerp(q1, q2, ani_times),\n",
    "    'Nlerp': [nlerp(q1, q2, t) for t in ani_times],\n",
    "}, figsize=(5, 2))"
   ]
  },
  {
   "cell_type": "code",
   "execution_count": null,
   "metadata": {},
   "outputs": [],
   "source": [
    "display_animation(ani, default_mode='reflect')"
   ]
  },
  {
   "cell_type": "markdown",
   "metadata": {},
   "source": [
    "Some still images:"
   ]
  },
  {
   "cell_type": "code",
   "execution_count": null,
   "metadata": {},
   "outputs": [],
   "source": [
    "plot_rotations({\n",
    "    'Slerp': slerp(q1, q2, plot_times),\n",
    "    'Nlerp': [nlerp(q1, q2, t) for t in plot_times],\n",
    "}, figsize=(8, 3))"
   ]
  },
  {
   "cell_type": "markdown",
   "metadata": {},
   "source": [
    "Start and end are (by definition) the same,\n",
    "the middle is also the same (due to symmetry).\n",
    "And in between, there are very slight differences."
   ]
  },
  {
   "cell_type": "markdown",
   "metadata": {},
   "source": [
    "Since the differences are barely visible, we can try a more extreme example:"
   ]
  },
  {
   "cell_type": "code",
   "execution_count": null,
   "metadata": {},
   "outputs": [],
   "source": [
    "q3 = angles2quat(-170, 0, 45)\n",
    "q4 = angles2quat(120, -90, -45)"
   ]
  },
  {
   "cell_type": "code",
   "execution_count": null,
   "metadata": {},
   "outputs": [],
   "source": [
    "assert q3.dot(q4) < 0"
   ]
  },
  {
   "cell_type": "code",
   "execution_count": null,
   "metadata": {},
   "outputs": [],
   "source": [
    "np.degrees(np.arccos(q3.dot(q4)) * 2)"
   ]
  },
  {
   "cell_type": "markdown",
   "metadata": {},
   "source": [
    "Please note that this is a rotation\n",
    "by an angle of far more than 180 degrees!"
   ]
  },
  {
   "cell_type": "code",
   "execution_count": null,
   "metadata": {},
   "outputs": [],
   "source": [
    "ani = animate_rotations({\n",
    "    'Slerp': slerp(q3, q4, ani_times),\n",
    "    'Nlerp': [nlerp(q3, q4, t) for t in ani_times],\n",
    "}, figsize=(5, 2))"
   ]
  },
  {
   "cell_type": "code",
   "execution_count": null,
   "metadata": {},
   "outputs": [],
   "source": [
    "display_animation(ani, default_mode='reflect')"
   ]
  },
  {
   "cell_type": "code",
   "execution_count": null,
   "metadata": {},
   "outputs": [],
   "source": [
    "plot_rotations({\n",
    "    'Slerp': slerp(q3, q4, plot_times),\n",
    "    'Nlerp': [nlerp(q3, q4, t) for t in plot_times],\n",
    "}, figsize=(8, 3))"
   ]
  }
 ],
 "metadata": {
  "kernelspec": {
   "display_name": "Python 3",
   "language": "python",
   "name": "python3"
  },
  "language_info": {
   "codemirror_mode": {
    "name": "ipython",
    "version": 3
   },
   "file_extension": ".py",
   "mimetype": "text/x-python",
   "name": "python",
   "nbconvert_exporter": "python",
   "pygments_lexer": "ipython3",
   "version": "3.9.7"
  }
 },
 "nbformat": 4,
 "nbformat_minor": 4
}
