{
 "cells": [
  {
   "cell_type": "markdown",
   "metadata": {
    "nbsphinx": "hidden"
   },
   "source": [
    "This notebook is part of https://github.com/AudioSceneDescriptionFormat/splines, see also https://splines.readthedocs.io/."
   ]
  },
  {
   "cell_type": "markdown",
   "metadata": {},
   "source": [
    "# Spherical Linear Interpolation (Slerp)\n",
    "\n",
    "\"Great arc in-betweening\"\n",
    "\n",
    "The term \"Slerp\" for \"**s**pherical **l**inear int**erp**olation\"\n",
    "has been coined by\n",
    "<cite data-cite=\"shoemake1985animating\">Shoemake (1985)</cite>\n",
    "(section 3.3).\n",
    "It is defined as:\n",
    "\n",
    "\\begin{equation*}\n",
    "\\operatorname{Slerp}(q_1, q_2; u) =\n",
    "q_1 \\left(q_1^{-1} q_2\\right)^u\n",
    "\\end{equation*}\n",
    "\n",
    "The parameter $u$ moves from $0$ (where the expression simplifies to $q_1$)\n",
    "to $1$ (where the expression simplifies to $q_2$)."
   ]
  },
  {
   "cell_type": "markdown",
   "metadata": {},
   "source": [
    "The [Wikipedia article for Slerp](https://en.wikipedia.org/wiki/Slerp#Quaternion_Slerp)\n",
    "provides four equivalent ways to describe the same thing:\n",
    "\n",
    "\\begin{align*}\n",
    "\\operatorname{Slerp}(q_0, q_1; t)\n",
    "& = q_0 \\left(q_0^{-1} q_1\\right)^t \\\\\n",
    "& = q_1 \\left(q_1^{-1} q_0\\right)^{1-t} \\\\\n",
    "& = \\left(q_0 q_1^{-1}\\right)^{1-t} q_1 \\\\\n",
    "& = \\left(q_1 q_0^{-1}\\right)^t q_0\n",
    "\\end{align*}"
   ]
  },
  {
   "cell_type": "markdown",
   "metadata": {},
   "source": [
    "Shoemake also provides an alternative formulation:\n",
    "\n",
    "\\begin{equation*}\n",
    "\\operatorname{Slerp}(q_1, q_2; u) =\n",
    "\\frac{\\sin (1-u) \\theta}{\\sin \\theta} q_1 +\n",
    "\\frac{\\sin u \\theta}{\\sin \\theta} q_2,\n",
    "\\end{equation*}\n",
    "\n",
    "where the dot product\n",
    "$q_1 \\cdot q_2 = \\cos \\theta$."
   ]
  },
  {
   "cell_type": "code",
   "execution_count": null,
   "metadata": {},
   "outputs": [],
   "source": [
    "import numpy as np"
   ]
  },
  {
   "cell_type": "markdown",
   "metadata": {},
   "source": [
    "[helper.py](helper.py)"
   ]
  },
  {
   "cell_type": "code",
   "execution_count": null,
   "metadata": {},
   "outputs": [],
   "source": [
    "from helper import angles2quat, animate_rotations, display_animation"
   ]
  },
  {
   "cell_type": "code",
   "execution_count": null,
   "metadata": {},
   "outputs": [],
   "source": [
    "def slerp(one, two, t):\n",
    "    return (two * one.inverse())**t * one"
   ]
  },
  {
   "cell_type": "code",
   "execution_count": null,
   "metadata": {},
   "outputs": [],
   "source": [
    "q1 = angles2quat(45, -20, -60)\n",
    "q2 = angles2quat(-45, 20, 30)"
   ]
  },
  {
   "cell_type": "code",
   "execution_count": null,
   "metadata": {},
   "outputs": [],
   "source": [
    "times = np.linspace(0, 1, 50)"
   ]
  },
  {
   "cell_type": "code",
   "execution_count": null,
   "metadata": {},
   "outputs": [],
   "source": [
    "ani = animate_rotations({\n",
    "    'slerp(q1, q2)': slerp(q1, q2, times),\n",
    "    'slerp(q1, -q2)': slerp(q1, -q2, times),\n",
    "}, figsize=(6, 3))"
   ]
  },
  {
   "cell_type": "code",
   "execution_count": null,
   "metadata": {},
   "outputs": [],
   "source": [
    "display_animation(ani, default_mode='reflect')"
   ]
  },
  {
   "cell_type": "markdown",
   "metadata": {},
   "source": [
    "## Piecewise Slerp"
   ]
  },
  {
   "cell_type": "code",
   "execution_count": null,
   "metadata": {},
   "outputs": [],
   "source": [
    "from splines.quaternion import PiecewiseSlerp"
   ]
  },
  {
   "cell_type": "code",
   "execution_count": null,
   "metadata": {},
   "outputs": [],
   "source": [
    "s = PiecewiseSlerp([\n",
    "    angles2quat(0, 0, 0),\n",
    "    angles2quat(90, 0, 0),\n",
    "    angles2quat(90, 90, 0),\n",
    "    angles2quat(90, 90, 90),\n",
    "], grid=[0, 1, 2, 3, 6], closed=True)"
   ]
  },
  {
   "cell_type": "code",
   "execution_count": null,
   "metadata": {},
   "outputs": [],
   "source": [
    "times = np.linspace(s.grid[0], s.grid[-1], 100)"
   ]
  },
  {
   "cell_type": "code",
   "execution_count": null,
   "metadata": {},
   "outputs": [],
   "source": [
    "ani = animate_rotations({\n",
    "    'Piecewise Slerp': s.evaluate(times),\n",
    "}, figsize=(3, 3))"
   ]
  },
  {
   "cell_type": "code",
   "execution_count": null,
   "metadata": {},
   "outputs": [],
   "source": [
    "display_animation(ani, default_mode='loop')"
   ]
  }
 ],
 "metadata": {
  "kernelspec": {
   "display_name": "Python 3",
   "language": "python",
   "name": "python3"
  },
  "language_info": {
   "codemirror_mode": {
    "name": "ipython",
    "version": 3
   },
   "file_extension": ".py",
   "mimetype": "text/x-python",
   "name": "python",
   "nbconvert_exporter": "python",
   "pygments_lexer": "ipython3",
   "version": "3.8.3"
  }
 },
 "nbformat": 4,
 "nbformat_minor": 4
}
