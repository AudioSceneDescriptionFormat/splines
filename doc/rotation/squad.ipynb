{
 "cells": [
  {
   "cell_type": "markdown",
   "metadata": {
    "nbsphinx": "hidden"
   },
   "source": [
    "This notebook is part of https://github.com/AudioSceneDescriptionFormat/splines, see also https://splines.readthedocs.io/.\n",
    "\n",
    "[back to rotation splines](index.ipynb)"
   ]
  },
  {
   "cell_type": "markdown",
   "metadata": {},
   "source": [
    "# Spherical Quadrangle Interpolation (Squad)\n",
    "\n",
    "Supposedly,\n",
    "<cite data-cite-t=\"shoemake1987quaternion\">Shoemake (1987)</cite>\n",
    "introduced the *Squad* method,\n",
    "but sadly, his paper doesn't seem to be available anywhere online.\n",
    "We have to rely on third-party accounts,\n",
    "for example by\n",
    "<cite data-cite-t=\"watt1992advanced\">Watt and Watt (1992)</cite>,\n",
    "who state in section 15.3.8, \"Parametrization of Orientation\":\n",
    "\n",
    "> <cite data-cite-t=\"boehm1982cubics\">Boehm (1982)</cite>\n",
    "> shows how,\n",
    "> given a Bézier curve segment\n",
    "> $(b_0, b_1, b_2, b_3)$\n",
    "> one can derive the quadrangle points\n",
    "> $(b_0, S_1, S_2, b_3)$ [...]\n",
    ">\n",
    "> The mathematical significance of this construction\n",
    "> is that it shows how to construct a cubic as a series of three linear interpolations\n",
    "> of the quadrangle points.\n",
    "> <cite data-cite-t=\"shoemake1987quaternion\">Shoemake (1987)</cite>\n",
    "> takes this construction onto the surface\n",
    "> of the four-dimensional hypersphere by constructing a spherical curve,\n",
    "> using three spherical linear interpolations\n",
    "> of a quadrangle of unit quaternions.\n",
    "> This he defines as $\\operatorname{squad}()$, where:\n",
    "\\begin{equation*}\n",
    "\\operatorname{squad}(b_0, S_1, S_2, b_3, u) =\n",
    "\\operatorname{slerp}(\n",
    "  \\operatorname{slerp}(b_0, b_3, u),\n",
    "  \\operatorname{slerp}(S_1, S_2, u),\n",
    "  2u(1-u)\n",
    ")\n",
    "\\end{equation*}\n",
    ">\n",
    "> ---<cite data-cite-t=\"watt1992advanced\">Watt and Watt (1992)</cite>, p. 366\n",
    "\n",
    "<div class=\"alert alert-info\">\n",
    "\n",
    "Note\n",
    "\n",
    "The original text of the above quote uses $ut$ instead of $u$\n",
    "in the first three instances,\n",
    "which is most likely a typo.\n",
    "\n",
    "</div>\n",
    "\n",
    "> Given a series of quaternion keys\n",
    "> one can construct a cubic segment across keys $q_i$ and $q_{i+1}$\n",
    "> by constructing a quadrangle of quaternions $(q_i, a_i, b_{i+1}, q_{i+1})$\n",
    "> where $a_i$, $b_{i+1}$ have to be determined.\n",
    "> These inner quadrangle points are chosen in such a way\n",
    "> to ensure that continuity of tangents across adjacent cubic segments is guaranteed.\n",
    "> The derivation for the inner quadrangle points is difficult,\n",
    "> involving as it does the calculus and exponentiation of quaternions\n",
    "> and we will just quote the results,\n",
    "> referring the interested reader to\n",
    "> <cite data-cite-t=\"shoemake1987quaternion\">Shoemake (1987)</cite>:\n",
    "\\begin{equation*}\n",
    "a_i = b_i = q_i \\exp\\left(\n",
    "  - \\frac{\\ln\\left(q_i^{-1} q_{i+1}\\right) + \\ln\\left(q_i^{-1} q_{i-1}\\right)}{4}\n",
    "\\right)\n",
    "\\end{equation*}\n",
    ">\n",
    "> ---<cite data-cite-t=\"watt1992advanced\">Watt & Watt (1992)</cite>, p. 366\n",
    "\n",
    "<div class=\"alert alert-info\">\n",
    "\n",
    "Note\n",
    "\n",
    "Allegedly, the proof of continuity of tangents by\n",
    "<cite data-cite-t=\"shoemake1987quaternion\">Shoemake (1987)</cite>\n",
    "is flawed.\n",
    "<cite data-cite-t=\"kim1996compact\">Kim et al. (1996)</cite>\n",
    "and\n",
    "<cite data-cite-t=\"dam1998quaternions\">Dam et al. (1998)</cite>\n",
    "provide new proofs,\n",
    "in case somebody wants to look that up.\n",
    "    \n",
    "</div>"
   ]
  },
  {
   "cell_type": "markdown",
   "metadata": {},
   "source": [
    "The equation for the inner quadrangle points uses\n",
    "[relative rotations in the local frame of reference](quaternions.ipynb#Relative-Rotation-(Local-Frame-of-Reference))\n",
    "defined by $q_i$.\n",
    "Since we have mainly used rotations in the global frame of reference so far,\n",
    "we can also rewrite this equation to the equivalent form\n",
    "\n",
    "\\begin{equation*}\n",
    "a_i = b_i = \\exp\\left(\n",
    "-\\frac{\\ln\\left(q_{i+1} q_i^{-1}\\right) + \\ln\\left(q_{i-1} q_i^{-1}\\right)}{4}\n",
    "\\right) \\, q_i.\n",
    "\\end{equation*}"
   ]
  },
  {
   "cell_type": "markdown",
   "metadata": {},
   "source": [
    "Even though the quote above claimed that\n",
    "\"the derivation for the inner quadrangle points is difficult\",\n",
    "we can still try to get some intuition by looking at the Euclidean case.\n",
    "Euclidean quadrangle interpolation is shown\n",
    "in [a separate notebook](../euclidean/quadrangle.ipynb)\n",
    "and we know how to calculate outgoing and incoming quadrangle points for\n",
    "[uniform Euclidean Catmull--Rom splines](../euclidean/catmull-rom-uniform.ipynb#Using-Quadrangle-Interpolation):"
   ]
  },
  {
   "cell_type": "markdown",
   "metadata": {},
   "source": [
    "\\begin{equation*}\n",
    "\\boldsymbol{\\bar{x}}_i^{(+)} =\n",
    "\\boldsymbol{\\bar{x}}_i^{(-)} =\n",
    "\\boldsymbol{x}_i - \\frac{\n",
    "(\\boldsymbol{x}_{i+1} - \\boldsymbol{x}_i) +\n",
    "(\\boldsymbol{x}_{i-1} - \\boldsymbol{x}_i)\n",
    "}{4}.\n",
    "\\end{equation*}"
   ]
  },
  {
   "cell_type": "markdown",
   "metadata": {},
   "source": [
    "With a bit of squinting,\n",
    "we can see that this is analogous to the quaternion equation shown above."
   ]
  },
  {
   "cell_type": "markdown",
   "metadata": {},
   "source": [
    "To show an example, we import\n",
    "[splines.quaternion.Squad](../python-module/splines.quaternion.rst#splines.quaternion.Squad)\n",
    "and a few helper functions from [helper.py](helper.py) ..."
   ]
  },
  {
   "cell_type": "code",
   "execution_count": null,
   "metadata": {},
   "outputs": [],
   "source": [
    "from splines.quaternion import Squad\n",
    "from helper import angles2quat, animate_rotations, display_animation"
   ]
  },
  {
   "cell_type": "markdown",
   "metadata": {},
   "source": [
    "... we define a sequence of rotations ..."
   ]
  },
  {
   "cell_type": "code",
   "execution_count": null,
   "metadata": {},
   "outputs": [],
   "source": [
    "rotations = [\n",
    "    angles2quat(0, 0, 0),\n",
    "    angles2quat(90, 0, -45),\n",
    "    angles2quat(-45, 45, -90),\n",
    "    angles2quat(135, -35, 90),\n",
    "    angles2quat(90, 0, 0),\n",
    "]"
   ]
  },
  {
   "cell_type": "markdown",
   "metadata": {},
   "source": [
    "... and create a `Squad` object:"
   ]
  },
  {
   "cell_type": "code",
   "execution_count": null,
   "metadata": {},
   "outputs": [],
   "source": [
    "sq = Squad(rotations)"
   ]
  },
  {
   "cell_type": "markdown",
   "metadata": {},
   "source": [
    "For comparison, we use\n",
    "[splines.quaternion.CatmullRom](../python-module/splines.quaternion.rst#splines.quaternion.CatmullRom)\n",
    "with the same sequence of rotations:"
   ]
  },
  {
   "cell_type": "code",
   "execution_count": null,
   "metadata": {},
   "outputs": [],
   "source": [
    "from splines.quaternion import CatmullRom"
   ]
  },
  {
   "cell_type": "code",
   "execution_count": null,
   "metadata": {},
   "outputs": [],
   "source": [
    "cr = CatmullRom(rotations, endconditions='closed')"
   ]
  },
  {
   "cell_type": "code",
   "execution_count": null,
   "metadata": {},
   "outputs": [],
   "source": [
    "import numpy as np"
   ]
  },
  {
   "cell_type": "code",
   "execution_count": null,
   "metadata": {},
   "outputs": [],
   "source": [
    "def evaluate(spline, frames=200):\n",
    "    times = np.linspace(\n",
    "        spline.grid[0], spline.grid[-1], frames, endpoint=False)\n",
    "    return spline.evaluate(times)"
   ]
  },
  {
   "cell_type": "code",
   "execution_count": null,
   "metadata": {},
   "outputs": [],
   "source": [
    "ani = animate_rotations({\n",
    "    'Squad': evaluate(sq),\n",
    "    'Catmull–Rom-like': evaluate(cr),\n",
    "})\n",
    "display_animation(ani, default_mode='loop')"
   ]
  },
  {
   "cell_type": "markdown",
   "metadata": {},
   "source": [
    "As you can see,\n",
    "the two splines are nearly identical, but not quite:"
   ]
  },
  {
   "cell_type": "code",
   "execution_count": null,
   "metadata": {},
   "outputs": [],
   "source": [
    "max(max(map(abs, q.xyzw)) for q in (evaluate(sq) - evaluate(cr)))"
   ]
  },
  {
   "cell_type": "markdown",
   "metadata": {},
   "source": [
    "## Non-Uniform Parameterization"
   ]
  },
  {
   "cell_type": "markdown",
   "metadata": {},
   "source": [
    "Presumably,\n",
    "<cite data-cite-t=\"shoemake1987quaternion\">Shoemake (1987)</cite>\n",
    "uses uniform parameter intervals and doesn't talk about the non-uniform case.\n",
    "At least <cite data-cite-t=\"watt1992advanced\">Watt and Watt (1992)</cite> don't.\n",
    "But we can try!\n",
    "In the\n",
    "[notebook about non-uniform Euclidean Catmull--Rom splines](../euclidean/catmull-rom-non-uniform.ipynb#Using-Non-Uniform-Quadrangle-Interpolation)\n",
    "we have seen the equations for the Euclidean quadrangle points\n",
    "(with $\\Delta_i = t_{i+1} - t_i$):\n",
    "\n",
    "\\begin{align*}\n",
    "\\boldsymbol{\\bar{x}}_i^{(+)} &=\n",
    "\\boldsymbol{x}_i -\n",
    "\\frac{\\Delta_i}{2 (\\Delta_{i-1} + \\Delta_i)}\n",
    "\\left(\n",
    "(\\boldsymbol{x}_{i+1} - \\boldsymbol{x}_i)\n",
    "+\n",
    "\\frac{\\Delta_i}{\\Delta_{i-1}} (\\boldsymbol{x}_{i-1} - \\boldsymbol{x}_i)\n",
    "\\right)\\\\\n",
    "\\boldsymbol{\\bar{x}}_i^{(-)} &=\n",
    "\\boldsymbol{x}_i -\n",
    "\\frac{\\Delta_{i-1}}{2 (\\Delta_{i-1} + \\Delta_i)}\n",
    "\\left(\n",
    "\\frac{\\Delta_{i-1}}{\\Delta_i} (\\boldsymbol{x}_{i+1} - \\boldsymbol{x}_i)\n",
    "+\n",
    "(\\boldsymbol{x}_{i-1} - \\boldsymbol{x}_i)\n",
    "\\right)\n",
    "\\end{align*}"
   ]
  },
  {
   "cell_type": "markdown",
   "metadata": {},
   "source": [
    "This can be \"translated\" to unit quaternions:\n",
    "\n",
    "\\begin{align*}\n",
    "\\bar{q}_i^{(+)} &=\n",
    "\\exp\\left(\n",
    "-\\frac{\\Delta_i}{2 (\\Delta_{i-1} + \\Delta_i)}\n",
    "\\left(\n",
    "\\ln\\left(q_{i+1} q_i^{-1}\\right)\n",
    "+\n",
    "\\frac{\\Delta_i}{\\Delta_{i-1}}\n",
    "\\ln\\left(q_{i-1} q_i^{-1}\\right)\n",
    "\\right)\n",
    "\\right)\\, q_i\\\\\n",
    "\\bar{q}_i^{(-)} &=\n",
    "\\exp\\left(\n",
    "-\\frac{\\Delta_{i-1}}{2 (\\Delta_{i-1} + \\Delta_i)}\n",
    "\\left(\n",
    "\\frac{\\Delta_{i-1}}{\\Delta_i}\n",
    "\\ln\\left(q_{i+1} q_i^{-1}\\right)\n",
    "+\n",
    "\\ln\\left(q_{i-1} q_i^{-1}\\right)\n",
    "\\right)\n",
    "\\right)\\, q_i\n",
    "\\end{align*}"
   ]
  },
  {
   "cell_type": "markdown",
   "metadata": {},
   "source": [
    "These two equations are implemented in\n",
    "[splines.quaternion.Squad](../python-module/splines.quaternion.rst#splines.quaternion.Squad)."
   ]
  },
  {
   "cell_type": "markdown",
   "metadata": {},
   "source": [
    "Being able to use non-uniform time values\n",
    "means that we can create a centripetal Squad spline:"
   ]
  },
  {
   "cell_type": "code",
   "execution_count": null,
   "metadata": {},
   "outputs": [],
   "source": [
    "sq2 = Squad(rotations, alpha=0.5)"
   ]
  },
  {
   "cell_type": "code",
   "execution_count": null,
   "metadata": {},
   "outputs": [],
   "source": [
    "cr2 = CatmullRom(rotations, alpha=0.5, endconditions='closed')"
   ]
  },
  {
   "cell_type": "code",
   "execution_count": null,
   "metadata": {},
   "outputs": [],
   "source": [
    "ani = animate_rotations({\n",
    "    'Squad': evaluate(sq2),\n",
    "    'Catmull–Rom-like': evaluate(cr2),\n",
    "})\n",
    "display_animation(ani, default_mode='loop')"
   ]
  },
  {
   "cell_type": "markdown",
   "metadata": {},
   "source": [
    "Now we see more differences, but the two are still quite close."
   ]
  },
  {
   "cell_type": "code",
   "execution_count": null,
   "metadata": {},
   "outputs": [],
   "source": [
    "max(max(map(abs, q.xyzw)) for q in (evaluate(sq2) - evaluate(cr2)))"
   ]
  },
  {
   "cell_type": "markdown",
   "metadata": {},
   "source": [
    "Let's try some random non-uniform parameter values:"
   ]
  },
  {
   "cell_type": "code",
   "execution_count": null,
   "metadata": {},
   "outputs": [],
   "source": [
    "times = 0, 0.75, 1.2, 2, 3.5, 4"
   ]
  },
  {
   "cell_type": "code",
   "execution_count": null,
   "metadata": {},
   "outputs": [],
   "source": [
    "sq3 = Squad(rotations, times)"
   ]
  },
  {
   "cell_type": "code",
   "execution_count": null,
   "metadata": {},
   "outputs": [],
   "source": [
    "cr3 = CatmullRom(rotations, times, endconditions='closed')"
   ]
  },
  {
   "cell_type": "code",
   "execution_count": null,
   "metadata": {},
   "outputs": [],
   "source": [
    "ani = animate_rotations({\n",
    "    'Squad': evaluate(sq3),\n",
    "    'Catmull–Rom-like': evaluate(cr3),\n",
    "})\n",
    "display_animation(ani, default_mode='loop')"
   ]
  },
  {
   "cell_type": "markdown",
   "metadata": {},
   "source": [
    "With more uneven time values,\n",
    "the behavior of the Squad curve becomes more and more erratic."
   ]
  }
 ],
 "metadata": {
  "kernelspec": {
   "display_name": "Python 3 (ipykernel)",
   "language": "python",
   "name": "python3"
  },
  "language_info": {
   "codemirror_mode": {
    "name": "ipython",
    "version": 3
   },
   "file_extension": ".py",
   "mimetype": "text/x-python",
   "name": "python",
   "nbconvert_exporter": "python",
   "pygments_lexer": "ipython3",
   "version": "3.10.9"
  }
 },
 "nbformat": 4,
 "nbformat_minor": 4
}
