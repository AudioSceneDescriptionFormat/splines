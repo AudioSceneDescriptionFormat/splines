{
 "cells": [
  {
   "cell_type": "markdown",
   "metadata": {
    "nbsphinx": "hidden"
   },
   "source": [
    "This notebook is part of https://github.com/AudioSceneDescriptionFormat/splines, see also https://splines.readthedocs.io/.\n",
    "\n",
    "[back to rotation splines](index.ipynb)"
   ]
  },
  {
   "cell_type": "markdown",
   "metadata": {},
   "source": [
    "# Spherical Quadrangle Interpolation (Squad)\n",
    "\n",
    "The *Squad* method was introduced by\n",
    "<cite data-cite-t=\"shoemake1987quaternion\">Shoemake (1987)</cite>.\n",
    "For a long time,\n",
    "his paper was not available online,\n",
    "but thanks to the nice folks at the\n",
    "[Computer History Museum](https://computerhistory.org/)\n",
    "(who only suggested a completely voluntary [donation](https://chm.secure.nonprofitsoapbox.com/donate)),\n",
    "it is now available as\n",
    "[PDF file](https://archive.computerhistory.org/resources/access/text/2023/06/102724883-05-10-acc.pdf)\n",
    "on [their website](https://www.computerhistory.org/collections/catalog/102724883)."
   ]
  },
  {
   "cell_type": "markdown",
   "metadata": {},
   "source": [
    "The main argument for using *Squad* over\n",
    "[De Casteljaus's algorithm with Slerp](de-casteljau.ipynb)\n",
    "is computational efficiency:"
   ]
  },
  {
   "cell_type": "markdown",
   "metadata": {},
   "source": [
    "> <cite data-cite-t=\"boehm1982cubics\">Boehm (1982)</cite>, in comparing different\n",
    "> geometric controls for cubic polynomial segments, describes an evaluation method\n",
    "> using \"quadrangle points\" which requires only 3 Lerps, half the number needed for\n",
    "> the Bézier method adapted in <cite data-cite-t=\"shoemake1985animating\">Shoemake (1985)</cite>.\n",
    ">\n",
    "> ---<cite data-cite-t=\"shoemake1987quaternion\">Shoemake (1987)</cite>"
   ]
  },
  {
   "cell_type": "markdown",
   "metadata": {},
   "source": [
    "Given the start and end points $p$ and $q$ of a curve segment\n",
    "and the so-called *quadrangle points* $a$ and $b$,\n",
    "Shoemake provides an equation for *Squad*:"
   ]
  },
  {
   "cell_type": "markdown",
   "metadata": {},
   "source": [
    "> The interpretation of this algorithm is simple:\n",
    "> $p$ and $q$ form one side of a quadrilateral,\n",
    "> $a$ and $b$ the opposite side;\n",
    "> the sides may be non-parallel and non-coplanar.\n",
    "> The two inner Lerps find points on those sides,\n",
    "> then the outer Lerp finds a point in between.\n",
    "> Essentially, a simple parabola drawn on a square is subjected to an\n",
    "> arbitrary bi-linear warp, which converts it to a cubic.\n",
    "> Transliterated into Slerps,\n",
    "> Boehm's algorithm gives a spherical curve,\n",
    "\\begin{equation*}\n",
    "\\operatorname{Squad}(p, a, b, q; \\alpha) =\n",
    "\\operatorname{Slerp}(\n",
    "  \\operatorname{Slerp}(p, q; \\alpha),\n",
    "  \\operatorname{slerp}(a, b; \\alpha);\n",
    "  2(1-\\alpha)\\alpha\n",
    ")\n",
    "\\end{equation*}\n",
    ">\n",
    "> ---<cite data-cite-t=\"shoemake1987quaternion\">Shoemake (1987)</cite>"
   ]
  },
  {
   "cell_type": "markdown",
   "metadata": {},
   "source": [
    "Shoemake also derives equations for the quadrangle points,\n",
    "which involves differentiation of Squad\n",
    "and assuming tangent vectors similar to\n",
    "[uniform Euclidean Catmull--Rom splines](../euclidean/catmull-rom-properties.ipynb#Tangent-Vectors)."
   ]
  },
  {
   "cell_type": "markdown",
   "metadata": {},
   "source": [
    "> Given a series of quaternions $q_n$,\n",
    "> use of Squad requires filling in values $a_n$ and $b_n$ on\n",
    "> both sides of the interpolation points,\n",
    "> so that each \"cubic\" segment is traced out by\n",
    "> $\\operatorname{Squad}(q_n, a_n, b_{n+1}, q_{n+1}; \\alpha)$\n",
    "> [...]\n",
    "> the values for $a_n$ and $b_n$ are given by\n",
    "\\begin{equation*}\n",
    "a_n = b_n = q_n \\exp\\left(\n",
    "  - \\frac{\\ln\\left(q_n^{-1} q_{n+1}\\right) + \\ln\\left(q_n^{-1} q_{n-1}\\right)}{4}\n",
    "\\right)\n",
    "\\end{equation*}\n",
    ">\n",
    "> ---<cite data-cite-t=\"shoemake1987quaternion\">Shoemake (1987)</cite>"
   ]
  },
  {
   "cell_type": "markdown",
   "metadata": {},
   "source": [
    "<div class=\"alert alert-info\">\n",
    "\n",
    "Note\n",
    "\n",
    "Allegedly, the proof of continuity of tangents by\n",
    "<cite data-cite-t=\"shoemake1987quaternion\">Shoemake (1987)</cite>\n",
    "is flawed.\n",
    "<cite data-cite-t=\"kim1996compact\">Kim et al. (1996)</cite>\n",
    "and\n",
    "<cite data-cite-t=\"dam1998quaternions\">Dam et al. (1998)</cite>\n",
    "provide new proofs,\n",
    "in case somebody wants to look that up.\n",
    "    \n",
    "</div>"
   ]
  },
  {
   "cell_type": "markdown",
   "metadata": {},
   "source": [
    "The equation for the inner quadrangle points uses\n",
    "[relative rotations in the local frame of reference](quaternions.ipynb#Relative-Rotation-(Local-Frame-of-Reference))\n",
    "defined by $q_i$.\n",
    "Since we have mainly used rotations in the global frame of reference so far,\n",
    "we can also rewrite this equation to the equivalent form\n",
    "(changing the index $n$ to $i$ while we are at it)\n",
    "\n",
    "\\begin{equation*}\n",
    "a_i = b_i = \\exp\\left(\n",
    "-\\frac{\\ln\\left(q_{i+1} q_i^{-1}\\right) + \\ln\\left(q_{i-1} q_i^{-1}\\right)}{4}\n",
    "\\right) \\, q_i.\n",
    "\\end{equation*}"
   ]
  },
  {
   "cell_type": "markdown",
   "metadata": {},
   "source": [
    "We can try to get some intuition by looking at the Euclidean case.\n",
    "Euclidean quadrangle interpolation is shown\n",
    "in [a separate notebook](../euclidean/quadrangle.ipynb)\n",
    "and we know how to calculate outgoing and incoming quadrangle points for\n",
    "[uniform Euclidean Catmull--Rom splines](../euclidean/catmull-rom-uniform.ipynb#Using-Quadrangle-Interpolation):"
   ]
  },
  {
   "cell_type": "markdown",
   "metadata": {},
   "source": [
    "\\begin{equation*}\n",
    "\\boldsymbol{\\bar{x}}_i^{(+)} =\n",
    "\\boldsymbol{\\bar{x}}_i^{(-)} =\n",
    "\\boldsymbol{x}_i - \\frac{\n",
    "(\\boldsymbol{x}_{i+1} - \\boldsymbol{x}_i) +\n",
    "(\\boldsymbol{x}_{i-1} - \\boldsymbol{x}_i)\n",
    "}{4}.\n",
    "\\end{equation*}"
   ]
  },
  {
   "cell_type": "markdown",
   "metadata": {},
   "source": [
    "With a bit of squinting,\n",
    "we can see that this is analogous to the quaternion equation shown above."
   ]
  },
  {
   "cell_type": "markdown",
   "metadata": {},
   "source": [
    "To show an example, we import\n",
    "[splines.quaternion.Squad](../python-module/splines.quaternion.rst#splines.quaternion.Squad)\n",
    "and a few helper functions from [helper.py](helper.py) ..."
   ]
  },
  {
   "cell_type": "code",
   "execution_count": null,
   "metadata": {},
   "outputs": [],
   "source": [
    "from splines.quaternion import Squad\n",
    "from helper import angles2quat, animate_rotations, display_animation"
   ]
  },
  {
   "cell_type": "markdown",
   "metadata": {},
   "source": [
    "... we define a sequence of rotations ..."
   ]
  },
  {
   "cell_type": "code",
   "execution_count": null,
   "metadata": {},
   "outputs": [],
   "source": [
    "rotations = [\n",
    "    angles2quat(0, 0, 0),\n",
    "    angles2quat(90, 0, -45),\n",
    "    angles2quat(-45, 45, -90),\n",
    "    angles2quat(135, -35, 90),\n",
    "    angles2quat(90, 0, 0),\n",
    "]"
   ]
  },
  {
   "cell_type": "markdown",
   "metadata": {},
   "source": [
    "... and create a `Squad` object:"
   ]
  },
  {
   "cell_type": "code",
   "execution_count": null,
   "metadata": {},
   "outputs": [],
   "source": [
    "sq = Squad(rotations)"
   ]
  },
  {
   "cell_type": "markdown",
   "metadata": {},
   "source": [
    "For comparison, we use\n",
    "[splines.quaternion.CatmullRom](../python-module/splines.quaternion.rst#splines.quaternion.CatmullRom)\n",
    "with the same sequence of rotations:"
   ]
  },
  {
   "cell_type": "code",
   "execution_count": null,
   "metadata": {},
   "outputs": [],
   "source": [
    "from splines.quaternion import CatmullRom"
   ]
  },
  {
   "cell_type": "code",
   "execution_count": null,
   "metadata": {},
   "outputs": [],
   "source": [
    "cr = CatmullRom(rotations, endconditions='closed')"
   ]
  },
  {
   "cell_type": "code",
   "execution_count": null,
   "metadata": {},
   "outputs": [],
   "source": [
    "import numpy as np"
   ]
  },
  {
   "cell_type": "code",
   "execution_count": null,
   "metadata": {},
   "outputs": [],
   "source": [
    "def evaluate(spline, frames=200):\n",
    "    times = np.linspace(\n",
    "        spline.grid[0], spline.grid[-1], frames, endpoint=False)\n",
    "    return spline.evaluate(times)"
   ]
  },
  {
   "cell_type": "code",
   "execution_count": null,
   "metadata": {},
   "outputs": [],
   "source": [
    "ani = animate_rotations({\n",
    "    'Squad': evaluate(sq),\n",
    "    'Catmull–Rom-like': evaluate(cr),\n",
    "})\n",
    "display_animation(ani, default_mode='loop')"
   ]
  },
  {
   "cell_type": "markdown",
   "metadata": {},
   "source": [
    "As you can see,\n",
    "the two splines are nearly identical, but not quite:"
   ]
  },
  {
   "cell_type": "code",
   "execution_count": null,
   "metadata": {},
   "outputs": [],
   "source": [
    "max(max(map(abs, q.xyzw)) for q in (evaluate(sq) - evaluate(cr)))"
   ]
  },
  {
   "cell_type": "markdown",
   "metadata": {},
   "source": [
    "## Non-Uniform Parameterization"
   ]
  },
  {
   "cell_type": "markdown",
   "metadata": {},
   "source": [
    "<cite data-cite-t=\"shoemake1987quaternion\">Shoemake (1987)</cite>\n",
    "uses uniform parameter intervals and doesn't talk about the non-uniform case at all.\n",
    "But we can try!\n",
    "In the\n",
    "[notebook about non-uniform Euclidean Catmull--Rom splines](../euclidean/catmull-rom-non-uniform.ipynb#Using-Non-Uniform-Quadrangle-Interpolation)\n",
    "we have seen the equations for the Euclidean quadrangle points\n",
    "(with $\\Delta_i = t_{i+1} - t_i$):\n",
    "\n",
    "\\begin{align*}\n",
    "\\boldsymbol{\\bar{x}}_i^{(+)} &=\n",
    "\\boldsymbol{x}_i -\n",
    "\\frac{\\Delta_i}{2 (\\Delta_{i-1} + \\Delta_i)}\n",
    "\\left(\n",
    "(\\boldsymbol{x}_{i+1} - \\boldsymbol{x}_i)\n",
    "+\n",
    "\\frac{\\Delta_i}{\\Delta_{i-1}} (\\boldsymbol{x}_{i-1} - \\boldsymbol{x}_i)\n",
    "\\right)\\\\\n",
    "\\boldsymbol{\\bar{x}}_i^{(-)} &=\n",
    "\\boldsymbol{x}_i -\n",
    "\\frac{\\Delta_{i-1}}{2 (\\Delta_{i-1} + \\Delta_i)}\n",
    "\\left(\n",
    "\\frac{\\Delta_{i-1}}{\\Delta_i} (\\boldsymbol{x}_{i+1} - \\boldsymbol{x}_i)\n",
    "+\n",
    "(\\boldsymbol{x}_{i-1} - \\boldsymbol{x}_i)\n",
    "\\right)\n",
    "\\end{align*}"
   ]
  },
  {
   "cell_type": "markdown",
   "metadata": {},
   "source": [
    "This can be \"translated\" to unit quaternions:\n",
    "\n",
    "\\begin{align*}\n",
    "\\bar{q}_i^{(+)} &=\n",
    "\\exp\\left(\n",
    "-\\frac{\\Delta_i}{2 (\\Delta_{i-1} + \\Delta_i)}\n",
    "\\left(\n",
    "\\ln\\left(q_{i+1} q_i^{-1}\\right)\n",
    "+\n",
    "\\frac{\\Delta_i}{\\Delta_{i-1}}\n",
    "\\ln\\left(q_{i-1} q_i^{-1}\\right)\n",
    "\\right)\n",
    "\\right)\\, q_i\\\\\n",
    "\\bar{q}_i^{(-)} &=\n",
    "\\exp\\left(\n",
    "-\\frac{\\Delta_{i-1}}{2 (\\Delta_{i-1} + \\Delta_i)}\n",
    "\\left(\n",
    "\\frac{\\Delta_{i-1}}{\\Delta_i}\n",
    "\\ln\\left(q_{i+1} q_i^{-1}\\right)\n",
    "+\n",
    "\\ln\\left(q_{i-1} q_i^{-1}\\right)\n",
    "\\right)\n",
    "\\right)\\, q_i\n",
    "\\end{align*}"
   ]
  },
  {
   "cell_type": "markdown",
   "metadata": {},
   "source": [
    "These two equations are implemented in\n",
    "[splines.quaternion.Squad](../python-module/splines.quaternion.rst#splines.quaternion.Squad)."
   ]
  },
  {
   "cell_type": "markdown",
   "metadata": {},
   "source": [
    "Being able to use non-uniform time values\n",
    "means that we can create a centripetal Squad spline:"
   ]
  },
  {
   "cell_type": "code",
   "execution_count": null,
   "metadata": {},
   "outputs": [],
   "source": [
    "sq2 = Squad(rotations, alpha=0.5)"
   ]
  },
  {
   "cell_type": "code",
   "execution_count": null,
   "metadata": {},
   "outputs": [],
   "source": [
    "cr2 = CatmullRom(rotations, alpha=0.5, endconditions='closed')"
   ]
  },
  {
   "cell_type": "code",
   "execution_count": null,
   "metadata": {},
   "outputs": [],
   "source": [
    "ani = animate_rotations({\n",
    "    'Squad': evaluate(sq2),\n",
    "    'Catmull–Rom-like': evaluate(cr2),\n",
    "})\n",
    "display_animation(ani, default_mode='loop')"
   ]
  },
  {
   "cell_type": "markdown",
   "metadata": {},
   "source": [
    "The two movements are still very close."
   ]
  },
  {
   "cell_type": "code",
   "execution_count": null,
   "metadata": {},
   "outputs": [],
   "source": [
    "max(max(map(abs, q.xyzw)) for q in (evaluate(sq2) - evaluate(cr2)))"
   ]
  },
  {
   "cell_type": "markdown",
   "metadata": {},
   "source": [
    "Let's try some random non-uniform parameter values:"
   ]
  },
  {
   "cell_type": "code",
   "execution_count": null,
   "metadata": {},
   "outputs": [],
   "source": [
    "times = 0, 0.75, 1.6, 2, 3.5, 4"
   ]
  },
  {
   "cell_type": "code",
   "execution_count": null,
   "metadata": {},
   "outputs": [],
   "source": [
    "sq3 = Squad(rotations, times)"
   ]
  },
  {
   "cell_type": "code",
   "execution_count": null,
   "metadata": {},
   "outputs": [],
   "source": [
    "cr3 = CatmullRom(rotations, times, endconditions='closed')"
   ]
  },
  {
   "cell_type": "code",
   "execution_count": null,
   "metadata": {},
   "outputs": [],
   "source": [
    "ani = animate_rotations({\n",
    "    'Squad': evaluate(sq3),\n",
    "    'Catmull–Rom-like': evaluate(cr3),\n",
    "})\n",
    "display_animation(ani, default_mode='loop')"
   ]
  },
  {
   "cell_type": "markdown",
   "metadata": {},
   "source": [
    "Now the two movements have some obvious differences."
   ]
  },
  {
   "cell_type": "code",
   "execution_count": null,
   "metadata": {},
   "outputs": [],
   "source": [
    "max(max(map(abs, q.xyzw)) for q in (evaluate(sq3) - evaluate(cr3)))"
   ]
  },
  {
   "cell_type": "markdown",
   "metadata": {},
   "source": [
    "With more uneven time values,\n",
    "the behavior of the Squad curve becomes more and more erratic.\n",
    "The reason for this might be the fact that the\n",
    "quadrangle control points are in general much further away from the curve\n",
    "than the Bézier control points.\n",
    "To check this,\n",
    "let's show the angle between adjacent control points in each segment,\n",
    "starting with the Bézier control points of our Catmull--Rom-like spline:"
   ]
  },
  {
   "cell_type": "code",
   "execution_count": null,
   "metadata": {},
   "outputs": [],
   "source": [
    "%precision 1\n",
    "[[np.degrees(q1.rotation_to(q2).angle) for q1, q2 in zip(s, s[1:])]\n",
    " for s in cr3.segments]"
   ]
  },
  {
   "cell_type": "markdown",
   "metadata": {},
   "source": [
    "An angle of 180 degree would mean a quarter of a great circle\n",
    "around the unit hypersphere.\n",
    "\n",
    "Let's now compare that to the quadrangle control points:"
   ]
  },
  {
   "cell_type": "code",
   "execution_count": null,
   "metadata": {},
   "outputs": [],
   "source": [
    "[[np.degrees(q1.rotation_to(q2).angle) for q1, q2 in zip(s, s[1:])]\n",
    " for s in sq3.segments]"
   ]
  },
  {
   "cell_type": "markdown",
   "metadata": {},
   "source": [
    "The angles are clearly much larger here.\n",
    "\n",
    "With even more extreme time values,\n",
    "the control quaternions might even \"wrap around\" the unit hypersphere,\n",
    "leading to completely wrong movement between the given\n",
    "sequence of rotations.\n",
    "This will at some point also happen with the `CatmullRom` class,\n",
    "but with `Squad` it will happen much earlier."
   ]
  }
 ],
 "metadata": {
  "kernelspec": {
   "display_name": "Python 3 (ipykernel)",
   "language": "python",
   "name": "python3"
  },
  "language_info": {
   "codemirror_mode": {
    "name": "ipython",
    "version": 3
   },
   "file_extension": ".py",
   "mimetype": "text/x-python",
   "name": "python",
   "nbconvert_exporter": "python",
   "pygments_lexer": "ipython3",
   "version": "3.11.4"
  }
 },
 "nbformat": 4,
 "nbformat_minor": 4
}
