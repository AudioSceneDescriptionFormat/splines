{
 "cells": [
  {
   "cell_type": "markdown",
   "metadata": {
    "nbsphinx": "hidden"
   },
   "source": [
    "This notebook is part of https://github.com/AudioSceneDescriptionFormat/splines, see also https://splines.readthedocs.io/.\n",
    "\n",
    "[back to rotation splines](index.ipynb)"
   ]
  },
  {
   "cell_type": "markdown",
   "metadata": {},
   "source": [
    "# De Casteljau's Algorithm\n",
    "\n",
    "In <cite data-cite=\"shoemake1985animating\">Shoemake (1985)</cite>,\n",
    "which famously introduces quaternions to the field of computer graphics,\n",
    "Shoemake suggests to apply a variant of the\n",
    "[De Casteljau's Algorithm](../euclidean/bezier-de-casteljau.ipynb)\n",
    "to a quaternion control polygon,\n",
    "using [Slerp](slerp.ipynb) instead of linear interpolations."
   ]
  },
  {
   "cell_type": "code",
   "execution_count": null,
   "metadata": {},
   "outputs": [],
   "source": [
    "def slerp(one, two, t):\n",
    "    return (two * one.inverse())**t * one"
   ]
  },
  {
   "cell_type": "code",
   "execution_count": null,
   "metadata": {},
   "outputs": [],
   "source": [
    "import numpy as np"
   ]
  },
  {
   "cell_type": "markdown",
   "metadata": {},
   "source": [
    "[helper.py](helper.py)"
   ]
  },
  {
   "cell_type": "code",
   "execution_count": null,
   "metadata": {},
   "outputs": [],
   "source": [
    "from helper import angles2quat, animate_rotations, display_animation"
   ]
  },
  {
   "cell_type": "markdown",
   "metadata": {},
   "source": [
    "## \"Cubic\"\n",
    "\n",
    "<cite data-cite=\"shoemake1985animating\">Shoemake (1985)</cite>\n",
    "only talks about the \"cubic\" case,\n",
    "consisting of three nested applications of Slerp.\n",
    "\n",
    "The resulting curve is of course not simply a polynomial of degree 3,\n",
    "but something quite a bit more involved.\n",
    "Therefore, we use the term \"cubic\" in quotes.\n",
    "\n",
    "Shoemake doesn't talk about the \"degree\" of the curves at all,\n",
    "they are only called \"spherical Bézier curves\"."
   ]
  },
  {
   "cell_type": "code",
   "execution_count": null,
   "metadata": {},
   "outputs": [],
   "source": [
    "def de_casteljau(q0, q1, q2, q3, t):\n",
    "    slerp_0_1 = slerp(q0, q1, t)\n",
    "    slerp_1_2 = slerp(q1, q2, t)\n",
    "    slerp_2_3 = slerp(q2, q3, t)\n",
    "    return slerp(\n",
    "        slerp(slerp_0_1, slerp_1_2, t),\n",
    "        slerp(slerp_1_2, slerp_2_3, t),\n",
    "        t,\n",
    "    )"
   ]
  },
  {
   "cell_type": "code",
   "execution_count": null,
   "metadata": {},
   "outputs": [],
   "source": [
    "q0 = angles2quat(45, 0, 0)\n",
    "q1 = angles2quat(0, 0, 0)\n",
    "q2 = angles2quat(-90, 90, -90)\n",
    "q3 = angles2quat(-90, 0, 0)"
   ]
  },
  {
   "cell_type": "code",
   "execution_count": null,
   "metadata": {},
   "outputs": [],
   "source": [
    "times = np.linspace(0, 1, 100)"
   ]
  },
  {
   "cell_type": "code",
   "execution_count": null,
   "metadata": {},
   "outputs": [],
   "source": [
    "ani = animate_rotations(\n",
    "    [de_casteljau(q0, q1, q2, q3, t) for t in times],\n",
    "    figsize=(3, 2),\n",
    ")"
   ]
  },
  {
   "cell_type": "code",
   "execution_count": null,
   "metadata": {},
   "outputs": [],
   "source": [
    "display_animation(ani, default_mode='reflect')"
   ]
  },
  {
   "cell_type": "markdown",
   "metadata": {},
   "source": [
    "## Arbitrary \"Degree\"\n",
    "\n",
    "[splines.quaternion.DeCasteljau](../python-module/splines.quaternion.rst#splines.quaternion.DeCasteljau) class"
   ]
  },
  {
   "cell_type": "code",
   "execution_count": null,
   "metadata": {},
   "outputs": [],
   "source": [
    "from splines.quaternion import DeCasteljau"
   ]
  },
  {
   "cell_type": "code",
   "execution_count": null,
   "metadata": {},
   "outputs": [],
   "source": [
    "s = DeCasteljau([\n",
    "    [\n",
    "        angles2quat(0, 0, 0),\n",
    "        angles2quat(90, 0, 0),\n",
    "    ],\n",
    "    [\n",
    "        angles2quat(90, 0, 0),\n",
    "        angles2quat(0, 0, 0),\n",
    "        angles2quat(0, 90, 0),\n",
    "    ],\n",
    "    [\n",
    "        angles2quat(0, 90, 0),\n",
    "        angles2quat(0, 0, 0),\n",
    "        angles2quat(-90, 0, 0),\n",
    "        angles2quat(-90, 90, 0),\n",
    "    ],\n",
    "], grid=[0, 1, 3, 6])"
   ]
  },
  {
   "cell_type": "code",
   "execution_count": null,
   "metadata": {},
   "outputs": [],
   "source": [
    "times = np.linspace(s.grid[0], s.grid[-1], 100)"
   ]
  },
  {
   "cell_type": "code",
   "execution_count": null,
   "metadata": {},
   "outputs": [],
   "source": [
    "ani = animate_rotations(s.evaluate(times), figsize=(3, 2))"
   ]
  },
  {
   "cell_type": "code",
   "execution_count": null,
   "metadata": {},
   "outputs": [],
   "source": [
    "display_animation(ani, default_mode='reflect')"
   ]
  },
  {
   "cell_type": "markdown",
   "metadata": {},
   "source": [
    "## Constant Angular Speed\n",
    "\n",
    "> Is there a way to construct a curve parameterized by arc length?\n",
    "> This would be very useful.\n",
    ">\n",
    "> --<cite data-cite=\"shoemake1985animating\">Shoemake (1985)</cite>, section 6: \"Questions\""
   ]
  },
  {
   "cell_type": "code",
   "execution_count": null,
   "metadata": {},
   "outputs": [],
   "source": [
    "from splines import ConstantSpeedAdapter"
   ]
  },
  {
   "cell_type": "code",
   "execution_count": null,
   "metadata": {},
   "outputs": [],
   "source": [
    "s1 = DeCasteljau([[\n",
    "    angles2quat(90, 0, 0),\n",
    "    angles2quat(0, -45, 90),\n",
    "    angles2quat(0, 0, 0),\n",
    "    angles2quat(180, 0, 180),\n",
    "]])"
   ]
  },
  {
   "cell_type": "code",
   "execution_count": null,
   "metadata": {},
   "outputs": [],
   "source": [
    "s2 = ConstantSpeedAdapter(s1)"
   ]
  },
  {
   "cell_type": "code",
   "execution_count": null,
   "metadata": {},
   "outputs": [],
   "source": [
    "ani = animate_rotations({\n",
    "    'non-constant speed': s1.evaluate(np.linspace(s1.grid[0], s1.grid[-1], 100)),\n",
    "    'constant speed': s2.evaluate(np.linspace(s2.grid[0], s2.grid[-1], 100)),\n",
    "}, figsize=(5, 2))"
   ]
  },
  {
   "cell_type": "code",
   "execution_count": null,
   "metadata": {},
   "outputs": [],
   "source": [
    "display_animation(ani, default_mode='reflect')"
   ]
  },
  {
   "cell_type": "markdown",
   "metadata": {},
   "source": [
    "## Joining Curves\n",
    "\n",
    "In section 4.2,\n",
    "<cite data-cite=\"shoemake1985animating\">Shoemake (1985)</cite>\n",
    "provides two function definitions:\n",
    "\n",
    "\\begin{align*}\n",
    "\\operatorname{Double}(p, q) &= 2 (p \\cdot q) q - p\\\\\n",
    "\\operatorname{Bisect}(p, q) &= \\frac{p + q}{\\|p + q\\|}\n",
    "\\end{align*}"
   ]
  },
  {
   "cell_type": "code",
   "execution_count": null,
   "metadata": {},
   "outputs": [],
   "source": [
    "def double(p, q):\n",
    "    return 2 * p.dot(q) * q - p"
   ]
  },
  {
   "cell_type": "code",
   "execution_count": null,
   "metadata": {},
   "outputs": [],
   "source": [
    "def bisect(p, q):\n",
    "    return (p + q).normalize()"
   ]
  },
  {
   "cell_type": "markdown",
   "metadata": {},
   "source": [
    "Given three successive key quaternions\n",
    "$q_{n-1}$, $q_n$ and $q_{n+1}$,\n",
    "these functions are used to compute control quaternions\n",
    "$b_n$ (controlling the incoming tangent of $q_n$) and\n",
    "$a_n$ (controlling the outgoing tangent of $q_n$):\n",
    "\n",
    "\\begin{align*}\n",
    "a_n &=\n",
    "\\operatorname{Bisect}(\\operatorname{Double}(q_{n-1}, q_n), q_{n+1})\\\\\n",
    "b_n &=\n",
    "\\operatorname{Double}(a_n, q_n)\n",
    "\\end{align*}"
   ]
  },
  {
   "cell_type": "markdown",
   "metadata": {},
   "source": [
    "It is unclear where these equations come from,\n",
    "we only get a little hint:"
   ]
  },
  {
   "cell_type": "markdown",
   "metadata": {},
   "source": [
    "> For the numerically knowledgeable, this construction\n",
    "approximates the derivative at points of a sampled function by\n",
    "averaging the central differences of the sample sequence.\n",
    ">\n",
    "> ---<cite data-cite=\"shoemake1985animating\">Shoemake (1985)</cite>, footnote on page 249"
   ]
  },
  {
   "cell_type": "code",
   "execution_count": null,
   "metadata": {},
   "outputs": [],
   "source": [
    "def shoemake_control_quaternions(q_1, q0, q1):\n",
    "    \"\"\"Shoemake's control quaternions (part 1).\n",
    "    \n",
    "    Given three key quaternions, return the control quaternions\n",
    "    preceding and following the middle one.\n",
    "    \n",
    "    \"\"\"\n",
    "    a = bisect(double(q_1, q0), q1)\n",
    "    b = double(a, q0).normalize()\n",
    "    return b, a"
   ]
  },
  {
   "cell_type": "markdown",
   "metadata": {},
   "source": [
    "Normalization of $b_n$ is not explicitly mentioned in the paper,\n",
    "but even though the results have a length very close to `1.0`,\n",
    "we still have to call `normalize()` to turn the\n",
    "[Quaternion](../python-module/splines.quaternion.rst#splines.quaternion.Quaternion)\n",
    "result into a\n",
    "[UnitQuaternion](../python-module/splines.quaternion.rst#splines.quaternion.UnitQuaternion)."
   ]
  },
  {
   "cell_type": "markdown",
   "metadata": {},
   "source": [
    "But wait, we are not finished yet!\n",
    "\n",
    "In a later section,\n",
    "the last missing piece of the puzzle is unveiled:\n",
    "\n",
    "> A simple check proves the curve touches $q_n$ and $q_{n+1}$ at\n",
    "its ends. A rather challenging differentiation shows it is\n",
    "tangent there to the segments determined by $a_n$ and\n",
    "$b_{n+1}$. However, as with Bézier's original curve, the\n",
    "magnitude of the tangent is three times that of the\n",
    "segment itself. That is, we are spinning three times\n",
    "faster than spherical interpolation along the arc.\n",
    "Fortunately we can correct the speed by merely\n",
    "truncating the end segments to one third their original\n",
    "length, so that $a_n$ is closer to $q_n$ and $b_{n+1}$ closer to\n",
    "$q_{n+1}$.\n",
    ">\n",
    "> ---<cite data-cite=\"shoemake1985animating\">Shoemake (1985)</cite>, section 4.4: \"Tangents revisited\""
   ]
  },
  {
   "cell_type": "markdown",
   "metadata": {},
   "source": [
    "No further hints are given about how to actually implement this,\n",
    "but it should work something like this:"
   ]
  },
  {
   "cell_type": "code",
   "execution_count": null,
   "metadata": {},
   "outputs": [],
   "source": [
    "def shoemake_corrected_control_quaternions(q_1, q0, q1):\n",
    "    \"\"\"Shoemake_s control quaternions, corrected.\"\"\"\n",
    "    b, a = shoemake_control_quaternions(q_1, q0, q1)\n",
    "    return q0.rotation_to(b)**(1/3) * q0, q0.rotation_to(a)**(1/3) * q0"
   ]
  },
  {
   "cell_type": "markdown",
   "metadata": {},
   "source": [
    "We create a helper function for building a spline,\n",
    "because we will re-use the same thing further below:"
   ]
  },
  {
   "cell_type": "code",
   "execution_count": null,
   "metadata": {},
   "outputs": [],
   "source": [
    "def create_closed_shoemake_curve(rotations):\n",
    "    rotations = rotations + rotations[:2]\n",
    "    control_points = []\n",
    "    for q_1, q0, q1 in zip(rotations, rotations[1:], rotations[2:]):\n",
    "        b, a = shoemake_corrected_control_quaternions(q_1, q0, q1)\n",
    "        control_points.extend([b, q0, q0, a])\n",
    "    control_points = control_points[-2:] + control_points[:-2]\n",
    "    segments = list(zip(*[iter(control_points)] * 4))\n",
    "    return DeCasteljau(segments)"
   ]
  },
  {
   "cell_type": "markdown",
   "metadata": {},
   "source": [
    "We don't want to worry about end conditions here,\n",
    "therefore we create a closed curve.\n",
    "\n",
    "Let's come up with some example rotations\n",
    "and see how Shoemake's curve-joining method works."
   ]
  },
  {
   "cell_type": "code",
   "execution_count": null,
   "metadata": {},
   "outputs": [],
   "source": [
    "rotations = [\n",
    "    angles2quat(0, 0, 180),\n",
    "    angles2quat(0, 45, 90),\n",
    "    angles2quat(90, 45, 0),\n",
    "    angles2quat(90, 90, -90),\n",
    "    angles2quat(180, 0, -180),\n",
    "    angles2quat(-90, -45, 180),\n",
    "]"
   ]
  },
  {
   "cell_type": "code",
   "execution_count": null,
   "metadata": {},
   "outputs": [],
   "source": [
    "s = create_closed_shoemake_curve(rotations)"
   ]
  },
  {
   "cell_type": "code",
   "execution_count": null,
   "metadata": {},
   "outputs": [],
   "source": [
    "times = np.linspace(s.grid[0], s.grid[-1], 200)"
   ]
  },
  {
   "cell_type": "code",
   "execution_count": null,
   "metadata": {},
   "outputs": [],
   "source": [
    "ani = animate_rotations(s.evaluate(times), figsize=(3, 2))"
   ]
  },
  {
   "cell_type": "code",
   "execution_count": null,
   "metadata": {},
   "outputs": [],
   "source": [
    "display_animation(ani, default_mode='loop')"
   ]
  },
  {
   "cell_type": "markdown",
   "metadata": {},
   "source": [
    "## Joining Curves, Another Approach"
   ]
  },
  {
   "cell_type": "markdown",
   "metadata": {},
   "source": [
    "[uniform Catmull--Rom-like quaternion splines](catmull-rom-uniform.ipynb)"
   ]
  },
  {
   "cell_type": "markdown",
   "metadata": {},
   "source": [
    "[splines.quaternion.CatmullRom](../python-module/splines.quaternion.rst#splines.quaternion.CatmullRom)"
   ]
  },
  {
   "cell_type": "code",
   "execution_count": null,
   "metadata": {},
   "outputs": [],
   "source": [
    "from splines.quaternion import CatmullRom"
   ]
  },
  {
   "cell_type": "code",
   "execution_count": null,
   "metadata": {},
   "outputs": [],
   "source": [
    "cr = CatmullRom(rotations, endconditions='closed')"
   ]
  },
  {
   "cell_type": "code",
   "execution_count": null,
   "metadata": {},
   "outputs": [],
   "source": [
    "ani = animate_rotations({\n",
    "    \"Shoemake's method\": s.evaluate(times),\n",
    "    'Other approach': cr.evaluate(times),\n",
    "}, figsize=(5, 2))"
   ]
  },
  {
   "cell_type": "code",
   "execution_count": null,
   "metadata": {},
   "outputs": [],
   "source": [
    "display_animation(ani, default_mode='loop')"
   ]
  },
  {
   "cell_type": "markdown",
   "metadata": {},
   "source": [
    "There is no visible difference between the two approaches.\n",
    "They are not quite identical, though:"
   ]
  },
  {
   "cell_type": "code",
   "execution_count": null,
   "metadata": {},
   "outputs": [],
   "source": [
    "max(max(map(abs, q.xyzw)) for q in (s.evaluate(times) - cr.evaluate(times)))"
   ]
  }
 ],
 "metadata": {
  "kernelspec": {
   "display_name": "Python 3",
   "language": "python",
   "name": "python3"
  },
  "language_info": {
   "codemirror_mode": {
    "name": "ipython",
    "version": 3
   },
   "file_extension": ".py",
   "mimetype": "text/x-python",
   "name": "python",
   "nbconvert_exporter": "python",
   "pygments_lexer": "ipython3",
   "version": "3.9.2"
  }
 },
 "nbformat": 4,
 "nbformat_minor": 4
}
