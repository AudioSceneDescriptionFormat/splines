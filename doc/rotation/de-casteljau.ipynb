{
 "cells": [
  {
   "cell_type": "markdown",
   "metadata": {
    "nbsphinx": "hidden"
   },
   "source": [
    "This notebook is part of https://github.com/AudioSceneDescriptionFormat/splines, see also https://splines.readthedocs.io/."
   ]
  },
  {
   "cell_type": "markdown",
   "metadata": {},
   "source": [
    "# De Casteljau's Algorithm\n",
    "\n",
    "In <cite data-cite=\"shoemake1985animating\">Shoemake (1985)</cite>,\n",
    "which famously introduces quaternions to the field of computer graphics,\n",
    "Shoemake suggests to apply a variant of the\n",
    "[De Casteljau's Algorithm](../euclidean/bezier-de-casteljau.ipynb)\n",
    "to a quaternion control polygon,\n",
    "using [Slerp](slerp.ipynb) instead of linear interpolations."
   ]
  },
  {
   "cell_type": "code",
   "execution_count": null,
   "metadata": {},
   "outputs": [],
   "source": [
    "def slerp(one, two, t):\n",
    "    return (two * one.inverse())**t * one"
   ]
  },
  {
   "cell_type": "code",
   "execution_count": null,
   "metadata": {},
   "outputs": [],
   "source": [
    "import numpy as np"
   ]
  },
  {
   "cell_type": "markdown",
   "metadata": {},
   "source": [
    "[helper.py](helper.py)"
   ]
  },
  {
   "cell_type": "code",
   "execution_count": null,
   "metadata": {},
   "outputs": [],
   "source": [
    "from helper import angles2quat, animate_rotations, display_animation"
   ]
  },
  {
   "cell_type": "markdown",
   "metadata": {},
   "source": [
    "## \"Cubic\"\n",
    "\n",
    "<cite data-cite=\"shoemake1985animating\">Shoemake (1985)</cite>\n",
    "only talks about the \"cubic\" case,\n",
    "consisting of three nested applications of Slerp.\n",
    "\n",
    "The resulting curve is of course not simply a polynomial of degree 3,\n",
    "but something quite a bit more involved.\n",
    "Therefore, we use the term \"cubic\" in quotes.\n",
    "\n",
    "Shoemake doesn't talk about the \"degree\" of the curves at all,\n",
    "they are only called \"spherical Bézier curves\"."
   ]
  },
  {
   "cell_type": "code",
   "execution_count": null,
   "metadata": {},
   "outputs": [],
   "source": [
    "def de_casteljau(q0, q1, q2, q3, t):\n",
    "    slerp_0_1 = slerp(q0, q1, t)\n",
    "    slerp_1_2 = slerp(q1, q2, t)\n",
    "    slerp_2_3 = slerp(q2, q3, t)\n",
    "    return slerp(\n",
    "        slerp(slerp_0_1, slerp_1_2, t),\n",
    "        slerp(slerp_1_2, slerp_2_3, t),\n",
    "        t,\n",
    "    )"
   ]
  },
  {
   "cell_type": "code",
   "execution_count": null,
   "metadata": {},
   "outputs": [],
   "source": [
    "q0 = angles2quat(45, 0, 0)\n",
    "q1 = angles2quat(0, 0, 0)\n",
    "q2 = angles2quat(-90, 90, -90)\n",
    "q3 = angles2quat(-90, 0, 0)"
   ]
  },
  {
   "cell_type": "code",
   "execution_count": null,
   "metadata": {},
   "outputs": [],
   "source": [
    "times = np.linspace(0, 1, 100)"
   ]
  },
  {
   "cell_type": "code",
   "execution_count": null,
   "metadata": {},
   "outputs": [],
   "source": [
    "ani = animate_rotations(\n",
    "    [de_casteljau(q0, q1, q2, q3, t) for t in times],\n",
    "    figsize=(4, 3),\n",
    ")"
   ]
  },
  {
   "cell_type": "code",
   "execution_count": null,
   "metadata": {},
   "outputs": [],
   "source": [
    "display_animation(ani, default_mode='once')"
   ]
  },
  {
   "cell_type": "markdown",
   "metadata": {},
   "source": [
    "## Arbitrary \"Degree\"\n",
    "\n",
    "[splines.quaternion.DeCasteljau](../python-module/splines.quaternion.rst#splines.quaternion.DeCasteljau) class"
   ]
  },
  {
   "cell_type": "code",
   "execution_count": null,
   "metadata": {},
   "outputs": [],
   "source": [
    "from splines.quaternion import DeCasteljau"
   ]
  },
  {
   "cell_type": "code",
   "execution_count": null,
   "metadata": {},
   "outputs": [],
   "source": [
    "s = DeCasteljau([\n",
    "    [\n",
    "        angles2quat(0, 0, 0),\n",
    "        angles2quat(90, 0, 0),\n",
    "    ],\n",
    "    [\n",
    "        angles2quat(90, 0, 0),\n",
    "        angles2quat(0, 0, 0),\n",
    "        angles2quat(0, 90, 0),\n",
    "    ],\n",
    "    [\n",
    "        angles2quat(0, 90, 0),\n",
    "        angles2quat(0, 0, 0),\n",
    "        angles2quat(-90, 0, 0),\n",
    "        angles2quat(-90, 90, 0),\n",
    "    ],\n",
    "], grid=[0, 1, 3, 6])"
   ]
  },
  {
   "cell_type": "code",
   "execution_count": null,
   "metadata": {},
   "outputs": [],
   "source": [
    "times = np.linspace(s.grid[0], s.grid[-1], 100)"
   ]
  },
  {
   "cell_type": "code",
   "execution_count": null,
   "metadata": {},
   "outputs": [],
   "source": [
    "ani = animate_rotations(s.evaluate(times), figsize=(4, 3))"
   ]
  },
  {
   "cell_type": "code",
   "execution_count": null,
   "metadata": {},
   "outputs": [],
   "source": [
    "display_animation(ani, default_mode='once')"
   ]
  },
  {
   "cell_type": "markdown",
   "metadata": {},
   "source": [
    "## Constant Angular Speed\n",
    "\n",
    "> Is there a way to construct a curve parameterized by arc length?\n",
    "> This would be very useful.\n",
    ">\n",
    "> --<cite data-cite=\"shoemake1985animating\">Shoemake (1985)</cite>, section 6: \"Questions\""
   ]
  },
  {
   "cell_type": "code",
   "execution_count": null,
   "metadata": {},
   "outputs": [],
   "source": [
    "from splines import ConstantSpeedAdapter"
   ]
  },
  {
   "cell_type": "code",
   "execution_count": null,
   "metadata": {},
   "outputs": [],
   "source": [
    "s1 = DeCasteljau([[\n",
    "    angles2quat(90, 0, 0),\n",
    "    angles2quat(0, -45, 90),\n",
    "    angles2quat(0, 0, 0),\n",
    "    angles2quat(180, 0, 180),\n",
    "]])"
   ]
  },
  {
   "cell_type": "code",
   "execution_count": null,
   "metadata": {},
   "outputs": [],
   "source": [
    "s2 = ConstantSpeedAdapter(s1)"
   ]
  },
  {
   "cell_type": "code",
   "execution_count": null,
   "metadata": {},
   "outputs": [],
   "source": [
    "ani = animate_rotations({\n",
    "    'non-constant angular speed': s1.evaluate(np.linspace(s1.grid[0], s1.grid[-1], 100)),\n",
    "    'constant angular speed': s2.evaluate(np.linspace(s2.grid[0], s2.grid[-1], 100)),\n",
    "}, figsize=(6, 3))"
   ]
  },
  {
   "cell_type": "code",
   "execution_count": null,
   "metadata": {},
   "outputs": [],
   "source": [
    "display_animation(ani, default_mode='reflect')"
   ]
  },
  {
   "cell_type": "markdown",
   "metadata": {},
   "source": [
    "## Joining Curves\n",
    "\n",
    "In section 4.2,\n",
    "<cite data-cite=\"shoemake1985animating\">Shoemake (1985)</cite>\n",
    "provides two function definitions:\n",
    "\n",
    "\\begin{align*}\n",
    "\\operatorname{Double}(p, q) &= 2 (p \\cdot q) q - p\\\\\n",
    "\\operatorname{Bisect}(p, q) &= \\frac{p + q}{\\|p + q\\|}\n",
    "\\end{align*}"
   ]
  },
  {
   "cell_type": "code",
   "execution_count": null,
   "metadata": {},
   "outputs": [],
   "source": [
    "def double(p, q):\n",
    "    return 2 * p.dot(q) * q - p"
   ]
  },
  {
   "cell_type": "code",
   "execution_count": null,
   "metadata": {},
   "outputs": [],
   "source": [
    "def bisect(p, q):\n",
    "    return (p + q).normalize()"
   ]
  },
  {
   "cell_type": "markdown",
   "metadata": {},
   "source": [
    "Given three successive key quaternions\n",
    "$q_{n-1}$, $q_n$ and $q_{n+1}$,\n",
    "these functions are used to compute\n",
    "appropriate control quaternions\n",
    "$b_n$ (controlling the incoming tangent of $q_n$) and\n",
    "$a_n$ (controlling the outgoing tangent of $q_n$):\n",
    "\n",
    "\\begin{align*}\n",
    "a_n &=\n",
    "\\operatorname{Bisect}(\\operatorname{Double}(q_{n-1}, q_n), q_{n+1})\\\\\n",
    "b_n &=\n",
    "\\operatorname{Double}(a_n, q_n)\n",
    "\\end{align*}"
   ]
  },
  {
   "cell_type": "code",
   "execution_count": null,
   "metadata": {},
   "outputs": [],
   "source": [
    "def shoemake_control_quaternions(q_1, q0, q1):\n",
    "    \"\"\"Shoemake's control quaternions.\n",
    "    \n",
    "    Given three key quaternions, return the control quaternions\n",
    "    preceding and following the middle one.\n",
    "    \n",
    "    \"\"\"\n",
    "    a = bisect(double(q_1, q0), q1)\n",
    "    b = double(a, q0).normalize()\n",
    "    return b, a"
   ]
  },
  {
   "cell_type": "markdown",
   "metadata": {},
   "source": [
    "Normalization of $b_n$ is not explicitly mentioned in the paper,\n",
    "but even though the results have a length very close to `1.0`,\n",
    "we still have to call `normalize()` to turn the\n",
    "[Quaternion](../python-module/splines.quaternion.rst#splines.quaternion.Quaternion)\n",
    "result into a\n",
    "[UnitQuaternion](../python-module/splines.quaternion.rst#splines.quaternion.UnitQuaternion)."
   ]
  },
  {
   "cell_type": "markdown",
   "metadata": {},
   "source": [
    "We create a helper function for building a spline,\n",
    "because we will re-use the same thing further below:"
   ]
  },
  {
   "cell_type": "code",
   "execution_count": null,
   "metadata": {},
   "outputs": [],
   "source": [
    "def create_closed_curve(rotations, control_quaternion_func):\n",
    "    rotations = rotations + rotations[:2]\n",
    "    control_points = []\n",
    "    for q_1, q0, q1 in zip(rotations, rotations[1:], rotations[2:]):\n",
    "        b, a = control_quaternion_func(q_1, q0, q1)\n",
    "        control_points.extend([b, q0, q0, a])\n",
    "    control_points = control_points[-2:] + control_points[:-2]\n",
    "    segments = list(zip(*[iter(control_points)] * 4))\n",
    "    return DeCasteljau(segments)"
   ]
  },
  {
   "cell_type": "markdown",
   "metadata": {},
   "source": [
    "We don't want to worry about end conditions here,\n",
    "therefore we create a closed curve.\n",
    "\n",
    "Let's come up with some example rotations\n",
    "and see how Shoemake's curve-joining method works."
   ]
  },
  {
   "cell_type": "code",
   "execution_count": null,
   "metadata": {},
   "outputs": [],
   "source": [
    "rotations = [\n",
    "    angles2quat(0, 0, 180),\n",
    "    angles2quat(0, 45, 90),\n",
    "    angles2quat(90, 45, 0),\n",
    "    angles2quat(90, 90, -90),\n",
    "    angles2quat(180, 0, -180),\n",
    "    angles2quat(-90, -45, 180),\n",
    "]"
   ]
  },
  {
   "cell_type": "code",
   "execution_count": null,
   "metadata": {},
   "outputs": [],
   "source": [
    "s = create_closed_curve(rotations, shoemake_control_quaternions)"
   ]
  },
  {
   "cell_type": "code",
   "execution_count": null,
   "metadata": {},
   "outputs": [],
   "source": [
    "times = np.linspace(s.grid[0], s.grid[-1], 200)"
   ]
  },
  {
   "cell_type": "code",
   "execution_count": null,
   "metadata": {},
   "outputs": [],
   "source": [
    "ani = animate_rotations(s.evaluate(times), figsize=(4, 3))"
   ]
  },
  {
   "cell_type": "code",
   "execution_count": null,
   "metadata": {},
   "outputs": [],
   "source": [
    "display_animation(ani, default_mode='loop')"
   ]
  },
  {
   "cell_type": "markdown",
   "metadata": {},
   "source": [
    "This doesn't look too great, does it?"
   ]
  },
  {
   "cell_type": "markdown",
   "metadata": {},
   "source": [
    "## Joining Curves, Catmull--Rom-Style\n",
    "\n",
    "Since Shoemake's idea doesn't seem to work that well,\n",
    "let's try something similar to what we did with\n",
    "[Catmull--Rom splines](../euclidean/catmull-rom-properties.ipynb#Tangent-Vectors),\n",
    "where we had this formula for the tangent vector:\n",
    "\n",
    "\\begin{equation*}\n",
    "\\boldsymbol{\\dot{x}}_i = \\frac{\\boldsymbol{x}_{i+1} - \\boldsymbol{x}_{i-1}}{2}\n",
    "\\end{equation*}\n",
    "\n",
    "Roughly translated into quaternion language, this can be written as\n",
    "\n",
    "\\begin{equation*}\n",
    "\\Delta q =\n",
    "\\left(q_{i+1} q_{i-1}^{-1}\\right)^{\\frac{1}{2}}.\n",
    "\\end{equation*}\n",
    "\n",
    "In case you are wondering, this is equivalent to\n",
    "\n",
    "\\begin{equation*}\n",
    "\\Delta q =\n",
    "\\left(q_{i+1} q_{i}^{-1}\\right)^{\\frac{1}{2}}\n",
    "\\left(q_{i} q_{i-1}^{-1}\\right)^{\\frac{1}{2}}.\n",
    "\\end{equation*}\n",
    "\n",
    "The latter variant is relevant for non-uniform splines,\n",
    "but we won't need it here.\n",
    "\n",
    "Since we are dealing with Bézier curves of degree 3,\n",
    "we'll only take a third of this rotation.\n",
    "We can achieve this by raising it to the power of $\\frac{1}{3}$\n",
    "(on top of the power of $\\frac{1}{2}$ which is already there)."
   ]
  },
  {
   "cell_type": "code",
   "execution_count": null,
   "metadata": {},
   "outputs": [],
   "source": [
    "def our_own_control_quaternions(q_1, q0, q1):\n",
    "    offset = (q1 * q_1.inverse())**(1 / (2 * 3))\n",
    "    return offset.inverse() * q0, offset * q0"
   ]
  },
  {
   "cell_type": "code",
   "execution_count": null,
   "metadata": {},
   "outputs": [],
   "source": [
    "s2 = create_closed_curve(rotations, our_own_control_quaternions)"
   ]
  },
  {
   "cell_type": "code",
   "execution_count": null,
   "metadata": {},
   "outputs": [],
   "source": [
    "ani = animate_rotations({\n",
    "    \"Shoemake's idea\": s.evaluate(times),\n",
    "    'Catmull–Rom style': s2.evaluate(times),\n",
    "}, figsize=(6, 3))"
   ]
  },
  {
   "cell_type": "code",
   "execution_count": null,
   "metadata": {},
   "outputs": [],
   "source": [
    "display_animation(ani, default_mode='loop')"
   ]
  }
 ],
 "metadata": {
  "kernelspec": {
   "display_name": "Python 3",
   "language": "python",
   "name": "python3"
  },
  "language_info": {
   "codemirror_mode": {
    "name": "ipython",
    "version": 3
   },
   "file_extension": ".py",
   "mimetype": "text/x-python",
   "name": "python",
   "nbconvert_exporter": "python",
   "pygments_lexer": "ipython3",
   "version": "3.8.3"
  }
 },
 "nbformat": 4,
 "nbformat_minor": 4
}
