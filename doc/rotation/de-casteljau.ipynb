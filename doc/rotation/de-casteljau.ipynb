{
 "cells": [
  {
   "cell_type": "markdown",
   "metadata": {
    "nbsphinx": "hidden"
   },
   "source": [
    "This notebook is part of https://github.com/AudioSceneDescriptionFormat/splines, see also https://splines.readthedocs.io/.\n",
    "\n",
    "[back to rotation splines](index.ipynb)"
   ]
  },
  {
   "cell_type": "markdown",
   "metadata": {},
   "source": [
    "# De Casteljau's Algorithm With Slerp\n",
    "\n",
    "<cite data-cite-t=\"shoemake1985animating\">Shoemake (1985)</cite>,\n",
    "who famously introduced quaternions to the field of computer graphics,\n",
    "suggests to apply a variant of\n",
    "[De Casteljau's Algorithm](../euclidean/bezier-de-casteljau.ipynb)\n",
    "to a unit quaternion control polygon,\n",
    "using [Slerp](slerp.ipynb) instead of linear interpolations."
   ]
  },
  {
   "cell_type": "code",
   "execution_count": null,
   "metadata": {},
   "outputs": [],
   "source": [
    "def slerp(one, two, t):\n",
    "    \"\"\"Spherical Linear intERPolation.\"\"\"\n",
    "    return (two * one.inverse())**t * one"
   ]
  },
  {
   "cell_type": "markdown",
   "metadata": {},
   "source": [
    "We'll also need NumPy and a few helpers from [helper.py](helper.py):"
   ]
  },
  {
   "cell_type": "code",
   "execution_count": null,
   "metadata": {},
   "outputs": [],
   "source": [
    "import numpy as np\n",
    "from helper import angles2quat, plot_rotation, plot_rotations\n",
    "from helper import animate_rotations, display_animation"
   ]
  },
  {
   "cell_type": "markdown",
   "metadata": {},
   "source": [
    "## \"Cubic\"\n",
    "\n",
    "<cite data-cite-t=\"shoemake1985animating\">Shoemake (1985)</cite>\n",
    "only talks about the \"cubic\" case,\n",
    "consisting of three nested applications of Slerp.\n",
    "Since this is done in a curved space,\n",
    "the resulting curve is of course not simply a polynomial of degree 3,\n",
    "but something quite a bit more involved.\n",
    "Therefore, we use the term \"cubic\" in quotes.\n",
    "Shoemake doesn't talk about the \"degree\" of the curves at all,\n",
    "they are only called \"spherical Bézier curves\"."
   ]
  },
  {
   "cell_type": "code",
   "execution_count": null,
   "metadata": {},
   "outputs": [],
   "source": [
    "def cubic_de_casteljau(q0, q1, q2, q3, t):\n",
    "    \"\"\"De Casteljau's algorithm of \"degree\" 3 using Slerp.\"\"\"\n",
    "    if not np.isscalar(t):\n",
    "        # If t is a list, return a list of unit quaternions\n",
    "        return [cubic_de_casteljau(q0, q1, q2, q3, t) for t in t]\n",
    "    slerp_0_1 = slerp(q0, q1, t)\n",
    "    slerp_1_2 = slerp(q1, q2, t)\n",
    "    slerp_2_3 = slerp(q2, q3, t)\n",
    "    return slerp(\n",
    "        slerp(slerp_0_1, slerp_1_2, t),\n",
    "        slerp(slerp_1_2, slerp_2_3, t),\n",
    "        t,\n",
    "    )"
   ]
  },
  {
   "cell_type": "markdown",
   "metadata": {},
   "source": [
    "To illustrate this,\n",
    "let's define 4 unit quaternions that we can use as control points:"
   ]
  },
  {
   "cell_type": "code",
   "execution_count": null,
   "metadata": {},
   "outputs": [],
   "source": [
    "q0 = angles2quat(45, 0, 0)\n",
    "q1 = angles2quat(0, -40, 0)\n",
    "q2 = angles2quat(0, 70, 0)\n",
    "q3 = angles2quat(-45, 0, 0)"
   ]
  },
  {
   "cell_type": "code",
   "execution_count": null,
   "metadata": {},
   "outputs": [],
   "source": [
    "plot_rotation({'q0': q0, 'q1': q1, 'q2': q2, 'q3': q3});"
   ]
  },
  {
   "cell_type": "code",
   "execution_count": null,
   "metadata": {},
   "outputs": [],
   "source": [
    "plot_rotations(\n",
    "    cubic_de_casteljau(q0, q1, q2, q3, np.linspace(0, 1, 9)),\n",
    "    figsize=(8, 1))"
   ]
  },
  {
   "cell_type": "markdown",
   "metadata": {},
   "source": [
    "We can see that the curve starts with the first rotation\n",
    "and ends with the last one.\n",
    "The two middle control quaternions\n",
    "`q1` and `q2`\n",
    "influence the shape of the rotation curve\n",
    "but they are not part of the interpolant themselves."
   ]
  },
  {
   "cell_type": "code",
   "execution_count": null,
   "metadata": {},
   "outputs": [],
   "source": [
    "ani = animate_rotations(\n",
    "    cubic_de_casteljau(q0, q1, q2, q3, np.linspace(0, 1, 100)))"
   ]
  },
  {
   "cell_type": "code",
   "execution_count": null,
   "metadata": {},
   "outputs": [],
   "source": [
    "display_animation(ani, default_mode='reflect')"
   ]
  },
  {
   "cell_type": "markdown",
   "metadata": {},
   "source": [
    "## Arbitrary \"Degree\"\n",
    "\n",
    "The class\n",
    "[splines.quaternion.DeCasteljau](../python-module/splines.quaternion.rst#splines.quaternion.DeCasteljau)\n",
    "allows arbitrary numbers of unit quaternions per segment\n",
    "and therefore arbitrary \"degrees\":"
   ]
  },
  {
   "cell_type": "code",
   "execution_count": null,
   "metadata": {},
   "outputs": [],
   "source": [
    "from splines.quaternion import DeCasteljau"
   ]
  },
  {
   "cell_type": "code",
   "execution_count": null,
   "metadata": {},
   "outputs": [],
   "source": [
    "s = DeCasteljau([\n",
    "    [\n",
    "        angles2quat(0, 0, 0),\n",
    "        angles2quat(90, 0, 0),\n",
    "    ],\n",
    "    [\n",
    "        angles2quat(90, 0, 0),\n",
    "        angles2quat(0, 0, 0),\n",
    "        angles2quat(0, 90, 0),\n",
    "    ],\n",
    "    [\n",
    "        angles2quat(0, 90, 0),\n",
    "        angles2quat(0, 0, 0),\n",
    "        angles2quat(-90, 0, 0),\n",
    "        angles2quat(-90, 90, 0),\n",
    "    ],\n",
    "], grid=[0, 1, 3, 6])"
   ]
  },
  {
   "cell_type": "code",
   "execution_count": null,
   "metadata": {},
   "outputs": [],
   "source": [
    "ani = animate_rotations(s.evaluate(np.linspace(s.grid[0], s.grid[-1], 100)))"
   ]
  },
  {
   "cell_type": "code",
   "execution_count": null,
   "metadata": {},
   "outputs": [],
   "source": [
    "display_animation(ani, default_mode='reflect')"
   ]
  },
  {
   "cell_type": "markdown",
   "metadata": {},
   "source": [
    "## Constant Angular Speed\n",
    "\n",
    "> Is there a way to construct a curve parameterized by arc length?\n",
    "> This would be very useful.\n",
    ">\n",
    "> --<cite data-cite-t=\"shoemake1985animating\">Shoemake (1985)</cite>, section 6: \"Questions\""
   ]
  },
  {
   "cell_type": "markdown",
   "metadata": {},
   "source": [
    "Remember\n",
    "[arc-length parameterization of Euclidean splines](../euclidean/re-parameterization.ipynb#Arc-Length-Parameterization)?\n",
    "We used the class\n",
    "[splines.UnitSpeedAdapter](../python-module/splines.rst#splines.UnitSpeedAdapter)\n",
    "which happens to be implemented in a way\n",
    "that it is also usable for rotation splines, how convenient!\n",
    "The only requirement is that the second derivative\n",
    "of the wrapped spline yields an angular velocity vector,\n",
    "which is nothing else than the instantaneous rotation axis\n",
    "scaled by the angular speed."
   ]
  },
  {
   "cell_type": "code",
   "execution_count": null,
   "metadata": {},
   "outputs": [],
   "source": [
    "from splines import UnitSpeedAdapter"
   ]
  },
  {
   "cell_type": "code",
   "execution_count": null,
   "metadata": {},
   "outputs": [],
   "source": [
    "s1 = DeCasteljau([[\n",
    "    angles2quat(90, 0, 0),\n",
    "    angles2quat(0, -45, 90),\n",
    "    angles2quat(0, 0, 0),\n",
    "    angles2quat(180, 0, 180),\n",
    "]])"
   ]
  },
  {
   "cell_type": "code",
   "execution_count": null,
   "metadata": {},
   "outputs": [],
   "source": [
    "s2 = UnitSpeedAdapter(s1)"
   ]
  },
  {
   "cell_type": "code",
   "execution_count": null,
   "metadata": {},
   "outputs": [],
   "source": [
    "ani = animate_rotations({\n",
    "    'non-constant speed': s1.evaluate(\n",
    "        np.linspace(s1.grid[0], s1.grid[-1], 100)),\n",
    "    'constant speed': s2.evaluate(\n",
    "        np.linspace(s2.grid[0], s2.grid[-1], 100)),\n",
    "})"
   ]
  },
  {
   "cell_type": "code",
   "execution_count": null,
   "metadata": {},
   "outputs": [],
   "source": [
    "display_animation(ani, default_mode='reflect')"
   ]
  },
  {
   "cell_type": "markdown",
   "metadata": {},
   "source": [
    "## Joining Curves\n",
    "\n",
    "Until now,\n",
    "we have assumed that four control quaternions are given\n",
    "for each \"cubic\" segment.\n",
    "\n",
    "If a list of quaternions is given, which is supposed to be interpolated,\n",
    "the intermediate control quaternions can be computed from neighboring quaternions\n",
    "as shown in\n",
    "[the notebook about uniform Catmull--Rom-like quaternion splines](catmull-rom-uniform.ipynb)."
   ]
  }
 ],
 "metadata": {
  "kernelspec": {
   "display_name": "Python 3",
   "language": "python",
   "name": "python3"
  },
  "language_info": {
   "codemirror_mode": {
    "name": "ipython",
    "version": 3
   },
   "file_extension": ".py",
   "mimetype": "text/x-python",
   "name": "python",
   "nbconvert_exporter": "python",
   "pygments_lexer": "ipython3",
   "version": "3.9.9"
  }
 },
 "nbformat": 4,
 "nbformat_minor": 4
}
