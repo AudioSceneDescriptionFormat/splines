{
 "cells": [
  {
   "cell_type": "markdown",
   "metadata": {
    "nbsphinx": "hidden"
   },
   "source": [
    "This notebook is part of https://github.com/AudioSceneDescriptionFormat/splines, see also http://splines.readthedocs.io/."
   ]
  },
  {
   "cell_type": "markdown",
   "metadata": {},
   "source": [
    "# Properties of Catmull--Rom Splines\n",
    "\n",
    "CR splines are very popular because they are very easy to use.\n",
    "Only a sequence of control points has to be specified, the tangents are calculated automatically from the given points.\n",
    "Therefore, CR splines can be regarded as a subset of cubic Hermite splines.\n",
    "\n",
    "CR splines are $C^1$ continuous, which means that the incoming and outgoing tangent vectors are equal for each control point."
   ]
  },
  {
   "cell_type": "code",
   "execution_count": null,
   "metadata": {},
   "outputs": [],
   "source": [
    "%matplotlib inline\n",
    "import matplotlib.pyplot as plt\n",
    "import numpy as np"
   ]
  },
  {
   "cell_type": "code",
   "execution_count": null,
   "metadata": {},
   "outputs": [],
   "source": [
    "import splines"
   ]
  },
  {
   "cell_type": "code",
   "execution_count": null,
   "metadata": {},
   "outputs": [],
   "source": [
    "def plot_spline(spline, dots_per_second=15, ax=None, **kwargs):\n",
    "    if ax is None:\n",
    "        ax = plt.gca()\n",
    "    total_duration = spline.grid[-1] - spline.grid[0]\n",
    "    times = spline.grid[0] + np.arange(int(total_duration * dots_per_second) + 1) / dots_per_second\n",
    "    ax.plot(*spline.evaluate(spline.grid).T,\n",
    "            linestyle=':', color='lightgrey',\n",
    "            marker='x', markeredgecolor='black')\n",
    "    ax.plot(*spline.evaluate(times).T, '.', **kwargs)\n",
    "    ax.axis('equal');"
   ]
  },
  {
   "cell_type": "markdown",
   "metadata": {},
   "source": [
    "Let's choose a few points for an example:"
   ]
  },
  {
   "cell_type": "code",
   "execution_count": null,
   "metadata": {},
   "outputs": [],
   "source": [
    "points = [\n",
    "    (0.2, -0.5),\n",
    "    (0, 1.3),\n",
    "    (1.3, 0.6),\n",
    "    (2.5, 1.9),\n",
    "    (3.8, -0.2),\n",
    "    (2.1, 0.1),\n",
    "]"
   ]
  },
  {
   "cell_type": "code",
   "execution_count": null,
   "metadata": {},
   "outputs": [],
   "source": [
    "s = splines.CatmullRom(points, endconditions='closed')"
   ]
  },
  {
   "cell_type": "code",
   "execution_count": null,
   "metadata": {},
   "outputs": [],
   "source": [
    "plot_spline(s)"
   ]
  },
  {
   "cell_type": "markdown",
   "metadata": {},
   "source": [
    "## Tangent Vectors\n",
    "\n",
    "The tangent vectors at a given point are calculated based on the line connecting the preceding point and the following point.\n",
    "In fact, the tangent vector has the same orientation as that line but only half of its length.\n",
    "\n",
    "In other (more mathematical) words:\n",
    "\n",
    "\\begin{equation}\n",
    "\\boldsymbol{\\dot{x}}_i = \\frac{\\boldsymbol{x}_{i+1} - \\boldsymbol{x}_{i-1}}{2}\n",
    "\\end{equation}\n",
    "\n",
    "This is illustrated for two points in the following plot:"
   ]
  },
  {
   "cell_type": "code",
   "execution_count": null,
   "metadata": {},
   "outputs": [],
   "source": [
    "plot_spline(s)\n",
    "for idx, color in zip([2, 5], ['purple', 'orange']):\n",
    "    plt.quiver(*s.evaluate(s.grid[idx]), *s.evaluate(s.grid[idx], 1),\n",
    "               angles='xy', scale_units='xy', scale=1, color=color)\n",
    "    points = np.row_stack([s.evaluate(s.grid[idx - 1]),\n",
    "                           s.evaluate(s.grid[idx + 1])])\n",
    "    plt.plot(*points.T, '--', color=color, linewidth=2)"
   ]
  },
  {
   "cell_type": "markdown",
   "metadata": {},
   "source": [
    "Note that the above equation is only valid for the uniform case, i.e. if the time intervals of all segments are equal to 1 unit of time.\n",
    "\n",
    "Uniform parametrization typically works very well if the (Euclidean) distances between consecutive points are all quite similar.\n",
    "However, if the distances are very different, the shape of the spline often turns out to be unexpected.\n",
    "Most notably, in extreme cases there might be even cusps or self-intersections within a spline segment."
   ]
  },
  {
   "cell_type": "code",
   "execution_count": null,
   "metadata": {},
   "outputs": [],
   "source": [
    "points2 = [\n",
    "    (0, 0),\n",
    "    (1.45, 1.5),\n",
    "    (1.55, 1.5),\n",
    "    (3, 0),\n",
    "]"
   ]
  },
  {
   "cell_type": "code",
   "execution_count": null,
   "metadata": {},
   "outputs": [],
   "source": [
    "s2 = splines.CatmullRom(points2, endconditions='closed')"
   ]
  },
  {
   "cell_type": "code",
   "execution_count": null,
   "metadata": {},
   "outputs": [],
   "source": [
    "plot_spline(s2)"
   ]
  },
  {
   "cell_type": "markdown",
   "metadata": {},
   "source": [
    "In order to manipulate the shape of the spline (without moving control points), non-uniform times can be chosen.\n",
    "\n",
    "For example, let's choose a few custom times:"
   ]
  },
  {
   "cell_type": "code",
   "execution_count": null,
   "metadata": {},
   "outputs": [],
   "source": [
    "times3 = 0, 0.8, 1, 3, 5"
   ]
  },
  {
   "cell_type": "code",
   "execution_count": null,
   "metadata": {},
   "outputs": [],
   "source": [
    "s3 = splines.CatmullRom(points2, times3, endconditions='closed')"
   ]
  },
  {
   "cell_type": "code",
   "execution_count": null,
   "metadata": {},
   "outputs": [],
   "source": [
    "plot_spline(s3)"
   ]
  },
  {
   "cell_type": "markdown",
   "metadata": {},
   "source": [
    "In the non-uniform case, the equation for the tangent vector gets a bit more complicated:\n",
    "\n",
    "\\begin{equation}\n",
    "\\boldsymbol{\\dot{x}}_i =\n",
    "\\frac{\n",
    "(t_{i+1} - t_i)^2 (\\boldsymbol{x}_i - \\boldsymbol{x}_{i-1}) +\n",
    "(t_i - t_{i-1})^2 (\\boldsymbol{x}_{i+1} - \\boldsymbol{x}_i)\n",
    "}{\n",
    "(t_{i+1} - t_i)(t_i - t_{i-1})(t_{i+1} - t_{i-1})\n",
    "}\n",
    "\\end{equation}\n",
    "\n",
    "The derivation of this equation is shown in [a separate notebook](catmull-rom-non-uniform.ipynb)."
   ]
  },
  {
   "cell_type": "markdown",
   "metadata": {},
   "source": [
    "Some sources use a simpler equation which is (arguably) not correct (except in the uniform case):\n",
    "\n",
    "\\begin{equation}\n",
    "\\boldsymbol{\\dot{x}}_i = \\frac{1}{2} \\left(\n",
    "\\frac{\\boldsymbol{x}_i - \\boldsymbol{x}_{i-1}}{t_i - t_{i-1}} +\n",
    "\\frac{\\boldsymbol{x}_{i + 1} - \\boldsymbol{x}_i}{t_{i + 1} - t_i}\n",
    "\\right)\n",
    "\\end{equation}\n",
    "\n",
    "See the [notebook about \"finite difference\" splines](finite-difference.ipynb).\n",
    "\n",
    "There are even sources which show yet a simpler (but even less correct, except in the uniform case) equation:\n",
    "\n",
    "\\begin{equation}\n",
    "\\boldsymbol{\\dot{x}}_i = \\frac{\\boldsymbol{x}_{i + 1} - \\boldsymbol{x}_{i - 1}}{t_{i + 1} - t_{i - 1}}\n",
    "\\end{equation}\n",
    "\n",
    "TODO: separate notebook with plots that illustrate the differences between those equations."
   ]
  },
  {
   "cell_type": "markdown",
   "metadata": {},
   "source": [
    "## Chordal Parametrization\n",
    "\n",
    "TODO: explain \"chordal\""
   ]
  },
  {
   "cell_type": "code",
   "execution_count": null,
   "metadata": {},
   "outputs": [],
   "source": [
    "distances = np.linalg.norm(np.diff(points2 + points2[:1], axis=0), axis=1)\n",
    "distances"
   ]
  },
  {
   "cell_type": "code",
   "execution_count": null,
   "metadata": {},
   "outputs": [],
   "source": [
    "times4 = np.concatenate([[0], np.cumsum(distances)])\n",
    "times4"
   ]
  },
  {
   "cell_type": "code",
   "execution_count": null,
   "metadata": {},
   "outputs": [],
   "source": [
    "s4 = splines.CatmullRom(points2, times4, endconditions='closed')"
   ]
  },
  {
   "cell_type": "code",
   "execution_count": null,
   "metadata": {},
   "outputs": [],
   "source": [
    "plot_spline(s4)"
   ]
  },
  {
   "cell_type": "markdown",
   "metadata": {},
   "source": [
    "## Centripetal Parametrization\n",
    "\n",
    "TODO: explain \"centripetal\""
   ]
  },
  {
   "cell_type": "code",
   "execution_count": null,
   "metadata": {},
   "outputs": [],
   "source": [
    "times5 = np.concatenate([[0], np.cumsum(np.sqrt(distances))])\n",
    "times5"
   ]
  },
  {
   "cell_type": "code",
   "execution_count": null,
   "metadata": {},
   "outputs": [],
   "source": [
    "s5 = splines.CatmullRom(points2, times5, endconditions='closed')"
   ]
  },
  {
   "cell_type": "code",
   "execution_count": null,
   "metadata": {},
   "outputs": [],
   "source": [
    "plot_spline(s5)"
   ]
  },
  {
   "cell_type": "markdown",
   "metadata": {},
   "source": [
    "TODO: `alpha` can be specified, see [API docs](python-module.rst#splines.CatmullRom)."
   ]
  },
  {
   "cell_type": "code",
   "execution_count": null,
   "metadata": {},
   "outputs": [],
   "source": [
    "plot_spline(splines.CatmullRom(points2, endconditions='closed', alpha=0), label='uniform')\n",
    "plot_spline(splines.CatmullRom(points2, endconditions='closed', alpha=0.5), label='centripetal')\n",
    "plot_spline(splines.CatmullRom(points2, endconditions='closed', alpha=1), label='chordal')\n",
    "plt.legend(loc='center');"
   ]
  }
 ],
 "metadata": {
  "kernelspec": {
   "display_name": "Python 3",
   "language": "python",
   "name": "python3"
  },
  "language_info": {
   "codemirror_mode": {
    "name": "ipython",
    "version": 3
   },
   "file_extension": ".py",
   "mimetype": "text/x-python",
   "name": "python",
   "nbconvert_exporter": "python",
   "pygments_lexer": "ipython3",
   "version": "3.6.6+"
  }
 },
 "nbformat": 4,
 "nbformat_minor": 2
}
