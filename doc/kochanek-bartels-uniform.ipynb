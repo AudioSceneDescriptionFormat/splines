{
 "cells": [
  {
   "cell_type": "markdown",
   "metadata": {},
   "source": [
    "# Uniform Kochanek-Bartels Splines (TCB Splines)\n",
    "\n",
    "Kochanek-Bartels splines are a superset of Cardinal splines which themselves are a superset of [Catmull-Rom splines](catmull-rom-uniform.ipynb).\n",
    "They have three parameters per vertex (of course they can also be chosen to be the same values for the whole spline).\n",
    "\n",
    "The parameters are called\n",
    "$T$ for \"tension\",\n",
    "$C$ for \"continuity\" and\n",
    "$B$ for \"bias\".\n",
    "With the default values of $C = 0$ and $B = 0$, a Kochanek-Bartels spline is identical with a cardinal spline.\n",
    "If the \"tension\" parameter also has its default value $T = 0$ it is identical with a Catmull-Rom spline."
   ]
  },
  {
   "cell_type": "markdown",
   "metadata": {},
   "source": [
    "Starting point: tangent vector from Catmull-Rom splines:\n",
    "\n",
    "\\begin{equation}\n",
    "\\boldsymbol{\\dot{x}}_0 = \\frac{\n",
    "(\\boldsymbol{x}_0 - \\boldsymbol{x}_{-1}) +\n",
    "(\\boldsymbol{x}_1 - \\boldsymbol{x}_0)\n",
    "}{2}\n",
    "\\end{equation}"
   ]
  },
  {
   "cell_type": "markdown",
   "metadata": {},
   "source": [
    "## Parameters"
   ]
  },
  {
   "cell_type": "markdown",
   "metadata": {},
   "source": [
    "### Tension\n",
    "\n",
    "\\begin{equation}\n",
    "\\boldsymbol{\\dot{x}}_0 = (1 - T_0) \\frac{\n",
    "(\\boldsymbol{x}_0 - \\boldsymbol{x}_{-1}) +\n",
    "(\\boldsymbol{x}_1 - \\boldsymbol{x}_0)\n",
    "}{2}\n",
    "\\end{equation}\n",
    "\n",
    "TODO: comparison with \"tension\" parameter of cardinal splines\n",
    "\n",
    "TODO: images"
   ]
  },
  {
   "cell_type": "markdown",
   "metadata": {},
   "source": [
    "### Continuity\n",
    "\n",
    "Up to now, the goal was having a continuous second derivative at the control points, i.e. the incoming and outgoing tangent vectors are identical:\n",
    "\n",
    "\\begin{equation}\n",
    "\\boldsymbol{\\dot{x}}_0 = \\boldsymbol{\\dot{x}}_0^{(-)} = \\boldsymbol{\\dot{x}}_0^{(+)}\n",
    "\\end{equation}\n",
    "\n",
    "The \"continuity\" parameter allows us to break this continuity if we so desire:\n",
    "\n",
    "\\begin{align}\n",
    "\\boldsymbol{\\dot{x}}_0^{(-)} &= \\frac{\n",
    "(1 - C_0) (\\boldsymbol{x}_0 - \\boldsymbol{x}_{-1}) +\n",
    "(1 + C_0) (\\boldsymbol{x}_1 - \\boldsymbol{x}_0)\n",
    "}{2}\\\\\n",
    "\\boldsymbol{\\dot{x}}_0^{(+)} &= \\frac{\n",
    "(1 + C_0) (\\boldsymbol{x}_0 - \\boldsymbol{x}_{-1}) +\n",
    "(1 - C_0) (\\boldsymbol{x}_1 - \\boldsymbol{x}_0)\n",
    "}{2}\n",
    "\\end{align}\n",
    "\n",
    "When $C_0 = 0$, we are back at a Catmull-Rom spline.\n",
    "When $C_0 = -1$, we get a tangent like in a piecewise linear curve.\n",
    "When $C_0 = 1$, we get some weird \"inverse corners\".\n",
    "\n",
    "TODO: Example: compare $T_0 = 1$ and $C_0 = -1$: similar shape (a.k.a. \"image\"), different timing"
   ]
  },
  {
   "cell_type": "markdown",
   "metadata": {},
   "source": [
    "### Bias\n",
    "\n",
    "\\begin{equation}\n",
    "\\boldsymbol{\\dot{x}}_0 = \\frac{\n",
    "(1 + B_0) (\\boldsymbol{x}_0 - \\boldsymbol{x}_{-1}) +\n",
    "(1 - B_0) (\\boldsymbol{x}_1 - \\boldsymbol{x}_0)\n",
    "}{2}\n",
    "\\end{equation}"
   ]
  },
  {
   "cell_type": "markdown",
   "metadata": {},
   "source": [
    "### All Three Combined\n",
    "\n",
    "\\begin{align}\n",
    "\\boldsymbol{\\dot{x}}_0^{(+)} &= \\frac{\n",
    "(1 - T_0) (1 + C_0) (1 + B_0) (\\boldsymbol{x}_0 - \\boldsymbol{x}_{-1}) +\n",
    "(1 - T_0) (1 - C_0) (1 - B_0) (\\boldsymbol{x}_1 - \\boldsymbol{x}_0)\n",
    "}{2}\\\\\n",
    "\\boldsymbol{\\dot{x}}_1^{(-)} &= \\frac{\n",
    "(1 - T_1) (1 - C_1) (1 + B_1) (\\boldsymbol{x}_1 - \\boldsymbol{x}_0) +\n",
    "(1 - T_1) (1 + C_1) (1 - B_1) (\\boldsymbol{x}_2 - \\boldsymbol{x}_1)\n",
    "}{2}\n",
    "\\end{align}"
   ]
  },
  {
   "cell_type": "markdown",
   "metadata": {},
   "source": [
    "TODO: cite Kochanek and Bartels, equation 9"
   ]
  },
  {
   "cell_type": "markdown",
   "metadata": {},
   "source": [
    "TODO: cite Kochanek and Bartels, equation 8"
   ]
  },
  {
   "cell_type": "markdown",
   "metadata": {},
   "source": [
    "Note: There is an error in eq (6.11) of Ian Millington's paper (all subscripts of $x$ are wrong, most likely copy-pasted from the preceding equation)."
   ]
  },
  {
   "cell_type": "markdown",
   "metadata": {},
   "source": [
    "To simplify the result we will get later, we introduce the following shorthands (as suggested in Millington's paper):\n",
    "\n",
    "\\begin{align}\n",
    "a &= (1 - T_0) (1 + C_0) (1 + B_0)\\\\\n",
    "b &= (1 - T_0) (1 - C_0) (1 - B_0)\\\\\n",
    "c &= (1 - T_1) (1 - C_1) (1 + B_1)\\\\\n",
    "d &= (1 - T_1) (1 + C_1) (1 - B_1)\n",
    "\\end{align}\n",
    "\n",
    "This leads to the simplified equations\n",
    "\n",
    "\\begin{align}\n",
    "\\boldsymbol{\\dot{x}}_0^{(+)} &= \\frac{\n",
    "a (\\boldsymbol{x}_0 - \\boldsymbol{x}_{-1}) +\n",
    "b (\\boldsymbol{x}_1 - \\boldsymbol{x}_0)\n",
    "}{2}\\\\\n",
    "\\boldsymbol{\\dot{x}}_1^{(-)} &= \\frac{\n",
    "c (\\boldsymbol{x}_1 - \\boldsymbol{x}_0) +\n",
    "d (\\boldsymbol{x}_2 - \\boldsymbol{x}_1)\n",
    "}{2}\n",
    "\\end{align}"
   ]
  },
  {
   "cell_type": "markdown",
   "metadata": {},
   "source": [
    "## Calculation"
   ]
  },
  {
   "cell_type": "code",
   "execution_count": null,
   "metadata": {},
   "outputs": [],
   "source": [
    "%matplotlib inline\n",
    "from IPython.display import display\n",
    "import sympy as sp\n",
    "sp.init_printing()"
   ]
  },
  {
   "cell_type": "code",
   "execution_count": null,
   "metadata": {},
   "outputs": [],
   "source": [
    "from utility import NamedExpression, NamedMatrix"
   ]
  },
  {
   "cell_type": "markdown",
   "metadata": {},
   "source": [
    "Same control values as Catmull-Rom ..."
   ]
  },
  {
   "cell_type": "code",
   "execution_count": null,
   "metadata": {},
   "outputs": [],
   "source": [
    "x_1, x0, x1, x2 = sp.symbols('xbm_-1 xbm:3')"
   ]
  },
  {
   "cell_type": "code",
   "execution_count": null,
   "metadata": {},
   "outputs": [],
   "source": [
    "control_values_KB = sp.Matrix([x_1, x0, x1, x2])\n",
    "control_values_KB"
   ]
  },
  {
   "cell_type": "markdown",
   "metadata": {},
   "source": [
    "... but three additional parameters per vertex.\n",
    "In our calculation, the parameters belonging to $\\boldsymbol{x}_0$ and $\\boldsymbol{x}_1$ are relevant:"
   ]
  },
  {
   "cell_type": "code",
   "execution_count": null,
   "metadata": {},
   "outputs": [],
   "source": [
    "T0, T1 = sp.symbols('T:2')\n",
    "C0, C1 = sp.symbols('C:2')\n",
    "B0, B1 = sp.symbols('B:2')"
   ]
  },
  {
   "cell_type": "code",
   "execution_count": null,
   "metadata": {},
   "outputs": [],
   "source": [
    "a = NamedExpression('a', (1 - T0) * (1 + C0) * (1 + B0))\n",
    "b = NamedExpression('b', (1 - T0) * (1 - C0) * (1 - B0))\n",
    "c = NamedExpression('c', (1 - T1) * (1 - C1) * (1 + B1))\n",
    "d = NamedExpression('d', (1 - T1) * (1 + C1) * (1 - B1))\n",
    "display(a, b, c, d)"
   ]
  },
  {
   "cell_type": "code",
   "execution_count": null,
   "metadata": {},
   "outputs": [],
   "source": [
    "xd0 = NamedExpression('xdotbm0', sp.S.Half * (a.name * (x0 - x_1) + b.name * (x1 - x0)))\n",
    "xd1 = NamedExpression('xdotbm1', sp.S.Half * (c.name * (x1 - x0)  + d.name * (x2 - x1)))\n",
    "display(xd0, xd1)"
   ]
  },
  {
   "cell_type": "code",
   "execution_count": null,
   "metadata": {},
   "outputs": [],
   "source": [
    "display(xd0.subs([a, b]))\n",
    "display(xd1.subs([c, d]))"
   ]
  },
  {
   "cell_type": "markdown",
   "metadata": {},
   "source": [
    "Same as with Catmull-Rom, try to find a transformation from cardinal control values to Hermite control values.\n",
    "This can be used to get the full characteristic matrix."
   ]
  },
  {
   "cell_type": "code",
   "execution_count": null,
   "metadata": {},
   "outputs": [],
   "source": [
    "control_values_H = sp.Matrix([x0, x1, xd0.name, xd1.name])\n",
    "control_values_H"
   ]
  },
  {
   "cell_type": "markdown",
   "metadata": {},
   "source": [
    "From the [notebook about uniform Hermite splines](hermite-uniform.ipynb):"
   ]
  },
  {
   "cell_type": "code",
   "execution_count": null,
   "metadata": {},
   "outputs": [],
   "source": [
    "M_H = NamedMatrix(\n",
    "    r'{M_\\text{H}}',\n",
    "    sp.S('Matrix([[2, -2, 1, 1], [-3, 3, -2, -1], [0, 0, 1, 0], [1, 0, 0, 0]])'))\n",
    "M_H"
   ]
  },
  {
   "cell_type": "code",
   "execution_count": null,
   "metadata": {},
   "outputs": [],
   "source": [
    "M_KBtoH = NamedMatrix(r'{M_\\text{KB$\\to$H}}', 4, 4)\n",
    "M_KB = NamedMatrix(r'{M_\\text{KB}}', M_H.name * M_KBtoH.name)\n",
    "M_KB"
   ]
  },
  {
   "cell_type": "code",
   "execution_count": null,
   "metadata": {},
   "outputs": [],
   "source": [
    "sp.Eq(control_values_H, M_KBtoH.name * control_values_KB)"
   ]
  },
  {
   "cell_type": "markdown",
   "metadata": {},
   "source": [
    "If we substitute the above definitions of $\\boldsymbol{\\dot{x}}_0$ and $\\boldsymbol{\\dot{x}}_1$, we can directly read off the matrix elements:"
   ]
  },
  {
   "cell_type": "code",
   "execution_count": null,
   "metadata": {},
   "outputs": [],
   "source": [
    "M_KBtoH.expr = sp.Matrix([[expr.coeff(cv) for cv in control_values_KB]\n",
    "                          for expr in control_values_H.subs([xd0.args, xd1.args]).expand()])\n",
    "M_KBtoH"
   ]
  },
  {
   "cell_type": "code",
   "execution_count": null,
   "metadata": {},
   "outputs": [],
   "source": [
    "M_KBtoH.pull_out(sp.S.Half)"
   ]
  },
  {
   "cell_type": "code",
   "execution_count": null,
   "metadata": {},
   "outputs": [],
   "source": [
    "M_KB = M_KB.subs([M_H, M_KBtoH]).doit()\n",
    "M_KB"
   ]
  },
  {
   "cell_type": "code",
   "execution_count": null,
   "metadata": {},
   "outputs": [],
   "source": [
    "M_KB.pull_out(sp.S.Half)"
   ]
  },
  {
   "cell_type": "markdown",
   "metadata": {},
   "source": [
    "And for completeness' sake, its inverse:"
   ]
  },
  {
   "cell_type": "code",
   "execution_count": null,
   "metadata": {},
   "outputs": [],
   "source": [
    "M_KB.I"
   ]
  },
  {
   "cell_type": "code",
   "execution_count": null,
   "metadata": {},
   "outputs": [],
   "source": [
    "t = sp.symbols('t')"
   ]
  },
  {
   "cell_type": "code",
   "execution_count": null,
   "metadata": {},
   "outputs": [],
   "source": [
    "b_KB = NamedMatrix(r'{b_\\text{KB}}', sp.Matrix([t**3, t**2, t, 1]).T * M_KB.expr)\n",
    "b_KB.T"
   ]
  },
  {
   "cell_type": "markdown",
   "metadata": {},
   "source": [
    "To be able to plot the basis functions, let's substitute $a$, $b$, $c$ and $d$ back in (which isn't pretty):"
   ]
  },
  {
   "cell_type": "code",
   "execution_count": null,
   "metadata": {},
   "outputs": [],
   "source": [
    "b_KB = b_KB.subs([a, b, c, d]).simplify()\n",
    "b_KB.T"
   ]
  },
  {
   "cell_type": "code",
   "execution_count": null,
   "metadata": {},
   "outputs": [],
   "source": [
    "sp.plot(*b_KB.expr.subs({T0: 0, T1: 0, C0: 0, C1: 1, B0: 0, B1: 0}), (t, 0, 1));"
   ]
  },
  {
   "cell_type": "code",
   "execution_count": null,
   "metadata": {},
   "outputs": [],
   "source": [
    "sp.plot(*b_KB.expr.subs({T0: 0, T1: 0, C0: 0, C1: -0.5, B0: 0, B1: 0}), (t, 0, 1));"
   ]
  },
  {
   "cell_type": "markdown",
   "metadata": {},
   "source": [
    "TODO: plot some example curves"
   ]
  }
 ],
 "metadata": {
  "kernelspec": {
   "display_name": "Python 3",
   "language": "python",
   "name": "python3"
  },
  "language_info": {
   "codemirror_mode": {
    "name": "ipython",
    "version": 3
   },
   "file_extension": ".py",
   "mimetype": "text/x-python",
   "name": "python",
   "nbconvert_exporter": "python",
   "pygments_lexer": "ipython3",
   "version": "3.6.6rc1+"
  }
 },
 "nbformat": 4,
 "nbformat_minor": 2
}
