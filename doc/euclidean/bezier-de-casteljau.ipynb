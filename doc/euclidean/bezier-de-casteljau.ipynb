{
 "cells": [
  {
   "cell_type": "markdown",
   "metadata": {
    "nbsphinx": "hidden"
   },
   "source": [
    "This notebook is part of https://github.com/AudioSceneDescriptionFormat/splines, see also https://splines.readthedocs.io/.\n",
    "\n",
    "[back to overview](bezier.ipynb)"
   ]
  },
  {
   "cell_type": "markdown",
   "metadata": {},
   "source": [
    "# De Casteljau's Algorithm\n",
    "\n",
    "There are several ways that lead to Bézier curves,\n",
    "one (but only for cubic curves) was already shown in\n",
    "[the notebook about Hermite curves](hermite-uniform.ipynb#Relation-to-Bézier-Splines).\n",
    "In this notebook,\n",
    "we will derive Bézier curves of arbitrary polynomial degree utilizing\n",
    "[De Casteljau's algorithm](https://en.wikipedia.org/wiki/De_Casteljau's_algorithm)."
   ]
  },
  {
   "cell_type": "markdown",
   "metadata": {},
   "source": [
    "### Preparations"
   ]
  },
  {
   "cell_type": "code",
   "execution_count": null,
   "metadata": {},
   "outputs": [],
   "source": [
    "%config InlineBackend.print_figure_kwargs = {'bbox_inches': None}\n",
    "import matplotlib.pyplot as plt\n",
    "import numpy as np\n",
    "import sympy as sp\n",
    "sp.init_printing()"
   ]
  },
  {
   "cell_type": "markdown",
   "metadata": {},
   "source": [
    "We import a few utilities and helpers from the files\n",
    "[utility.py](utility.py)\n",
    "and\n",
    "[helper.py](helper.py)."
   ]
  },
  {
   "cell_type": "code",
   "execution_count": null,
   "metadata": {},
   "outputs": [],
   "source": [
    "from utility import NamedExpression, NamedMatrix\n",
    "from helper import plot_basis"
   ]
  },
  {
   "cell_type": "markdown",
   "metadata": {},
   "source": [
    "Let's prepare a few symbols for later use ..."
   ]
  },
  {
   "cell_type": "code",
   "execution_count": null,
   "metadata": {},
   "outputs": [],
   "source": [
    "t, x0, x1, x2, x3, x4 = sp.symbols('t, xbm:5')"
   ]
  },
  {
   "cell_type": "markdown",
   "metadata": {},
   "source": [
    "... and a helper function for plotting:"
   ]
  },
  {
   "cell_type": "code",
   "execution_count": null,
   "metadata": {},
   "outputs": [],
   "source": [
    "def plot_curve(func, points, dots=30, ax=None):\n",
    "    if ax is None:\n",
    "        ax = plt.gca()\n",
    "    times = np.linspace(0, 1, dots)\n",
    "    ax.plot(*func(points, times).T, '.')\n",
    "    ax.plot(\n",
    "        *np.asarray(points).T,\n",
    "        color='lightgrey',\n",
    "        linestyle=':',\n",
    "        marker='x',\n",
    "        markeredgecolor='black',\n",
    "    )\n",
    "    ax.scatter(*np.asarray(points).T, marker='x', c='black')\n",
    "    ax.set_title(func.__name__ + ' Bézier curve')\n",
    "    ax.axis('equal')"
   ]
  },
  {
   "cell_type": "markdown",
   "metadata": {},
   "source": [
    "We also need to prepare for the animations we will see below.\n",
    "This is using code from the file [casteljau.py](casteljau.py):"
   ]
  },
  {
   "cell_type": "code",
   "execution_count": null,
   "metadata": {},
   "outputs": [],
   "source": [
    "from casteljau import create_animation\n",
    "\n",
    "def show_casteljau_animation(points, frames=30, interval=200):\n",
    "    ani = create_animation(points, frames=frames, interval=interval)\n",
    "    display({\n",
    "        'text/html': ani.to_jshtml(default_mode='reflect'),\n",
    "        'text/plain': 'Animations can only be shown in HTML output, sorry!',\n",
    "    }, raw=True)\n",
    "    plt.close()  # avoid spurious figure display"
   ]
  },
  {
   "cell_type": "markdown",
   "metadata": {},
   "source": [
    "### Degree 1 (Linear)\n",
    "\n",
    "After all those preparations,\n",
    "let's start with the trivial case:\n",
    "A Bézier spline of degree 1 is just a piecewise linear curve connecting all the control points.\n",
    "There are no \"off-curve\" control points that could bend the curve segments."
   ]
  },
  {
   "cell_type": "markdown",
   "metadata": {},
   "source": [
    "Assuming that we have two control points,\n",
    "$\\boldsymbol{x}_0$ and $\\boldsymbol{x}_1$,\n",
    "we can set up a linear equation:\n",
    "\n",
    "\\begin{equation*}\n",
    "\\boldsymbol{p}_{0,1}(t) = \\boldsymbol{x}_0 + t (\\boldsymbol{x}_1 - \\boldsymbol{x}_0).\n",
    "\\end{equation*}"
   ]
  },
  {
   "cell_type": "markdown",
   "metadata": {},
   "source": [
    "Another way to write the same thing is like this:\n",
    "\n",
    "\\begin{equation*}\n",
    "\\boldsymbol{p}_{0,1}(t) = (1 - t) \\boldsymbol{x}_0 + t \\boldsymbol{x}_1,\n",
    "\\end{equation*}\n",
    "where in both cases $0 \\le t \\le 1$.\n",
    "These linear interpolations are sometimes also called *affine combinations*.\n",
    "Since we will be needing quite a few of those linear interpolations,\n",
    "let's create a helper function:"
   ]
  },
  {
   "cell_type": "code",
   "execution_count": null,
   "metadata": {},
   "outputs": [],
   "source": [
    "def lerp(one, two):\n",
    "    \"\"\"Linear interpolation.\n",
    "    \n",
    "    The parameter *t* is expected to be between 0 and 1.\n",
    "    \n",
    "    \"\"\"\n",
    "    return (1 - t) * one + t * two"
   ]
  },
  {
   "cell_type": "markdown",
   "metadata": {},
   "source": [
    "Now we can define the equation in SymPy:"
   ]
  },
  {
   "cell_type": "code",
   "execution_count": null,
   "metadata": {},
   "outputs": [],
   "source": [
    "p01 = NamedExpression('pbm_0,1', lerp(x0, x1))\n",
    "p01"
   ]
  },
  {
   "cell_type": "code",
   "execution_count": null,
   "metadata": {},
   "outputs": [],
   "source": [
    "b1 = [p01.expr.expand().coeff(x.name).factor() for x in (x0, x1)]\n",
    "b1"
   ]
  },
  {
   "cell_type": "markdown",
   "metadata": {},
   "source": [
    "Doesn't look like much, but those are the\n",
    "[Bernstein bases](https://en.wikipedia.org/wiki/Bernstein_polynomial)\n",
    "for degree 1.\n",
    "It doesn't get much more interesting if we plot them:"
   ]
  },
  {
   "cell_type": "code",
   "execution_count": null,
   "metadata": {},
   "outputs": [],
   "source": [
    "plot_basis(*b1)"
   ]
  },
  {
   "cell_type": "markdown",
   "metadata": {},
   "source": [
    "If you want to convert this to coefficients for the\n",
    "[monomial basis](polynomials.ipynb) $[t, 1]$\n",
    "instead of the Bernstein basis functions, you can use this matrix:"
   ]
  },
  {
   "cell_type": "code",
   "execution_count": null,
   "metadata": {},
   "outputs": [],
   "source": [
    "M_B1 = NamedMatrix(\n",
    "    r'{M_\\text{B}^{(1)}}',\n",
    "    sp.Matrix([[c.coeff(x) for x in (x0, x1)]\n",
    "               for c in p01.expr.as_poly(t).all_coeffs()]))\n",
    "M_B1"
   ]
  },
  {
   "cell_type": "markdown",
   "metadata": {},
   "source": [
    "Applying this matrix leads to the coefficients of the linear equation mentioned in the beginning of this section\n",
    "($\\boldsymbol{p}_{0,1}(t) = t (\\boldsymbol{x}_1 - \\boldsymbol{x}_0) + \\boldsymbol{x}_0$):"
   ]
  },
  {
   "cell_type": "code",
   "execution_count": null,
   "metadata": {},
   "outputs": [],
   "source": [
    "sp.MatMul(M_B1.expr, sp.Matrix([x0, x1]))"
   ]
  },
  {
   "cell_type": "code",
   "execution_count": null,
   "metadata": {},
   "outputs": [],
   "source": [
    "_.doit()"
   ]
  },
  {
   "cell_type": "markdown",
   "metadata": {},
   "source": [
    "In case you ever need that, here's the inverse:"
   ]
  },
  {
   "cell_type": "code",
   "execution_count": null,
   "metadata": {},
   "outputs": [],
   "source": [
    "M_B1.I"
   ]
  },
  {
   "cell_type": "markdown",
   "metadata": {},
   "source": [
    "Anyhow, let's calculate points on the curve by using the Bernstein basis functions:"
   ]
  },
  {
   "cell_type": "code",
   "execution_count": null,
   "metadata": {},
   "outputs": [],
   "source": [
    "def linear(points, times):\n",
    "    \"\"\"Evaluate linear Bézier curve (given by two points) at given times.\"\"\"\n",
    "    return np.column_stack(sp.lambdify(t, b1)(times)) @ points"
   ]
  },
  {
   "cell_type": "code",
   "execution_count": null,
   "metadata": {},
   "outputs": [],
   "source": [
    "points = [\n",
    "    (0, 0),\n",
    "    (1, 0.5),\n",
    "]"
   ]
  },
  {
   "cell_type": "code",
   "execution_count": null,
   "metadata": {},
   "outputs": [],
   "source": [
    "plot_curve(linear, points)"
   ]
  },
  {
   "cell_type": "code",
   "execution_count": null,
   "metadata": {},
   "outputs": [],
   "source": [
    "show_casteljau_animation(points)"
   ]
  },
  {
   "cell_type": "markdown",
   "metadata": {},
   "source": [
    "I know, not very exciting. But it gets better!"
   ]
  },
  {
   "cell_type": "markdown",
   "metadata": {},
   "source": [
    "### Degree 2 (Quadratic)\n",
    "\n",
    "Now we consider three control points,\n",
    "$\\boldsymbol{x}_0$, $\\boldsymbol{x}_1$ and $\\boldsymbol{x}_2$.\n",
    "We use the linear interpolation of the first two points from above ..."
   ]
  },
  {
   "cell_type": "code",
   "execution_count": null,
   "metadata": {},
   "outputs": [],
   "source": [
    "p01"
   ]
  },
  {
   "cell_type": "markdown",
   "metadata": {},
   "source": [
    "... and we do the same thing for the second and third point:"
   ]
  },
  {
   "cell_type": "code",
   "execution_count": null,
   "metadata": {},
   "outputs": [],
   "source": [
    "p12 = NamedExpression('pbm_1,2', lerp(x1, x2))\n",
    "p12"
   ]
  },
  {
   "cell_type": "markdown",
   "metadata": {},
   "source": [
    "Finally, we make another linear interpolation between those two results:"
   ]
  },
  {
   "cell_type": "code",
   "execution_count": null,
   "metadata": {},
   "outputs": [],
   "source": [
    "p02 = NamedExpression('pbm_0,2', lerp(p01.expr, p12.expr))\n",
    "p02"
   ]
  },
  {
   "cell_type": "markdown",
   "metadata": {},
   "source": [
    "From this,\n",
    "we can get the Bernstein basis functions of degree 2:"
   ]
  },
  {
   "cell_type": "code",
   "execution_count": null,
   "metadata": {},
   "outputs": [],
   "source": [
    "b2 = [p02.expr.expand().coeff(x.name).factor() for x in (x0, x1, x2)]\n",
    "b2"
   ]
  },
  {
   "cell_type": "code",
   "execution_count": null,
   "metadata": {},
   "outputs": [],
   "source": [
    "plot_basis(*b2)"
   ]
  },
  {
   "cell_type": "code",
   "execution_count": null,
   "metadata": {},
   "outputs": [],
   "source": [
    "M_B2 = NamedMatrix(\n",
    "    r'{M_\\text{B}^{(2)}}',\n",
    "    sp.Matrix([[c.coeff(x) for x in (x0, x1, x2)]\n",
    "               for c in p02.expr.as_poly(t).all_coeffs()]))\n",
    "M_B2"
   ]
  },
  {
   "cell_type": "code",
   "execution_count": null,
   "metadata": {},
   "outputs": [],
   "source": [
    "M_B2.I"
   ]
  },
  {
   "cell_type": "code",
   "execution_count": null,
   "metadata": {},
   "outputs": [],
   "source": [
    "def quadratic(points, times):\n",
    "    \"\"\"Evaluate quadratic Bézier curve (given by three points) at given times.\"\"\"\n",
    "    return np.column_stack(sp.lambdify(t, b2)(times)) @ points"
   ]
  },
  {
   "cell_type": "code",
   "execution_count": null,
   "metadata": {},
   "outputs": [],
   "source": [
    "points = [\n",
    "    (0, 0),\n",
    "    (0.2, 0.5),\n",
    "    (1, -0.3),\n",
    "]"
   ]
  },
  {
   "cell_type": "code",
   "execution_count": null,
   "metadata": {},
   "outputs": [],
   "source": [
    "plot_curve(quadratic, points)"
   ]
  },
  {
   "cell_type": "code",
   "execution_count": null,
   "metadata": {},
   "outputs": [],
   "source": [
    "show_casteljau_animation(points)"
   ]
  },
  {
   "cell_type": "markdown",
   "metadata": {},
   "source": [
    "#### Quadratic Tangent Vectors\n",
    "\n",
    "For some more insight,\n",
    "let's look at the first derivative of the curve (i.e. the tangent vector) ..."
   ]
  },
  {
   "cell_type": "code",
   "execution_count": null,
   "metadata": {},
   "outputs": [],
   "source": [
    "v02 = p02.diff(t)"
   ]
  },
  {
   "cell_type": "markdown",
   "metadata": {},
   "source": [
    "... at the beginning and the end of the curve:"
   ]
  },
  {
   "cell_type": "code",
   "execution_count": null,
   "metadata": {},
   "outputs": [],
   "source": [
    "v02.evaluated_at(t, 0)"
   ]
  },
  {
   "cell_type": "code",
   "execution_count": null,
   "metadata": {},
   "outputs": [],
   "source": [
    "v02.evaluated_at(t, 1)"
   ]
  },
  {
   "cell_type": "markdown",
   "metadata": {},
   "source": [
    "This shows that the tangent vector\n",
    "at the beginning and end of the curve\n",
    "is parallel to the line\n",
    "from $\\boldsymbol{x}_0$ to $\\boldsymbol{x}_1$ and\n",
    "from $\\boldsymbol{x}_1$ to $\\boldsymbol{x}_2$, respectively.\n",
    "The length of the tangent vectors is twice the length of those lines."
   ]
  },
  {
   "cell_type": "markdown",
   "metadata": {},
   "source": [
    "You might have already seen this coming, but it turns out that the last line in De Casteljau's algorithm ($\\boldsymbol{p}_{1,2}(t) - \\boldsymbol{p}_{0,1}(t)$ in our case) is exactly half of the tangent vector (at any given $t \\in [0, 1]$)."
   ]
  },
  {
   "cell_type": "code",
   "execution_count": null,
   "metadata": {},
   "outputs": [],
   "source": [
    "assert (v02.expr - 2 * (p12.expr - p01.expr)).simplify() == 0"
   ]
  },
  {
   "cell_type": "markdown",
   "metadata": {},
   "source": [
    "In case you are wondering, the factor 2 comes from the degree 2 of our quadratic curve."
   ]
  },
  {
   "cell_type": "markdown",
   "metadata": {},
   "source": [
    "### Degree 3 (Cubic)\n",
    "\n",
    "Let's now consider four control points,\n",
    "$\\boldsymbol{x}_0$,\n",
    "$\\boldsymbol{x}_1$,\n",
    "$\\boldsymbol{x}_2$ and\n",
    "$\\boldsymbol{x}_3$.\n",
    "\n",
    "By now, the pattern should be clear:\n",
    "We take the result from the first three points from above\n",
    "and linearly interpolate it with the result for the three points\n",
    "$\\boldsymbol{x}_1$, $\\boldsymbol{x}_2$ and $\\boldsymbol{x}_3$,\n",
    "which we will derive in the following.\n",
    "\n",
    "We still need the combination of\n",
    "$\\boldsymbol{x}_2$ and $\\boldsymbol{x}_3$ ..."
   ]
  },
  {
   "cell_type": "code",
   "execution_count": null,
   "metadata": {},
   "outputs": [],
   "source": [
    "p23 = NamedExpression('pbm_2,3', lerp(x2, x3))\n",
    "p23"
   ]
  },
  {
   "cell_type": "markdown",
   "metadata": {},
   "source": [
    "... which we are using to calculate the combination of\n",
    "$\\boldsymbol{x}_1$, $\\boldsymbol{x}_2$ and $\\boldsymbol{x}_3$ ..."
   ]
  },
  {
   "cell_type": "code",
   "execution_count": null,
   "metadata": {},
   "outputs": [],
   "source": [
    "p13 = NamedExpression('pbm_1,3', lerp(p12.expr, p23.expr))\n",
    "p13"
   ]
  },
  {
   "cell_type": "markdown",
   "metadata": {},
   "source": [
    "... which we need for the combination of\n",
    "$\\boldsymbol{x}_0$,\n",
    "$\\boldsymbol{x}_1$,\n",
    "$\\boldsymbol{x}_2$ and\n",
    "$\\boldsymbol{x}_3$:"
   ]
  },
  {
   "cell_type": "code",
   "execution_count": null,
   "metadata": {},
   "outputs": [],
   "source": [
    "p03 = NamedExpression('pbm_0,3', lerp(p02.expr, p13.expr))\n",
    "p03"
   ]
  },
  {
   "cell_type": "markdown",
   "metadata": {},
   "source": [
    "This leads to the cubic Bernstein bases:"
   ]
  },
  {
   "cell_type": "code",
   "execution_count": null,
   "metadata": {},
   "outputs": [],
   "source": [
    "b3 = [p03.expr.expand().coeff(x.name).factor() for x in (x0, x1, x2, x3)]\n",
    "b3"
   ]
  },
  {
   "cell_type": "markdown",
   "metadata": {},
   "source": [
    "Those are of course the same Bernstein bases\n",
    "as we found in\n",
    "[the notebook about Hermite splines](hermite-uniform.ipynb#Relation-to-Bézier-Splines)."
   ]
  },
  {
   "cell_type": "code",
   "execution_count": null,
   "metadata": {},
   "outputs": [],
   "source": [
    "plot_basis(*b3)"
   ]
  },
  {
   "cell_type": "code",
   "execution_count": null,
   "metadata": {},
   "outputs": [],
   "source": [
    "M_B3 = NamedMatrix(\n",
    "    r'{M_\\text{B}^{(3)}}',\n",
    "    sp.Matrix([[c.coeff(x) for x in (x0, x1, x2, x3)]\n",
    "               for c in p03.expr.as_poly(t).all_coeffs()]))\n",
    "M_B3"
   ]
  },
  {
   "cell_type": "code",
   "execution_count": null,
   "metadata": {},
   "outputs": [],
   "source": [
    "M_B3.I"
   ]
  },
  {
   "cell_type": "code",
   "execution_count": null,
   "metadata": {},
   "outputs": [],
   "source": [
    "def cubic(points, times):\n",
    "    \"\"\"Evaluate cubic Bézier curve (given by four points) at given times.\"\"\"\n",
    "    return np.column_stack(sp.lambdify(t, b3)(times)) @ points"
   ]
  },
  {
   "cell_type": "code",
   "execution_count": null,
   "metadata": {},
   "outputs": [],
   "source": [
    "points = [\n",
    "    (0, 0.3),\n",
    "    (0.2, 0.5),\n",
    "    (0.1, 0),\n",
    "    (1, 0.2),\n",
    "]"
   ]
  },
  {
   "cell_type": "code",
   "execution_count": null,
   "metadata": {},
   "outputs": [],
   "source": [
    "plot_curve(cubic, points)"
   ]
  },
  {
   "cell_type": "code",
   "execution_count": null,
   "metadata": {},
   "outputs": [],
   "source": [
    "show_casteljau_animation(points)"
   ]
  },
  {
   "cell_type": "markdown",
   "metadata": {},
   "source": [
    "#### Cubic Tangent Vectors\n",
    "\n",
    "As before,\n",
    "let's look at the derivative (i.e. the tangent vector) of the curve ..."
   ]
  },
  {
   "cell_type": "code",
   "execution_count": null,
   "metadata": {},
   "outputs": [],
   "source": [
    "v03 = p03.diff(t)"
   ]
  },
  {
   "cell_type": "markdown",
   "metadata": {},
   "source": [
    "... at the beginning and the end of the curve:"
   ]
  },
  {
   "cell_type": "code",
   "execution_count": null,
   "metadata": {},
   "outputs": [],
   "source": [
    "v03.evaluated_at(t, 0)"
   ]
  },
  {
   "cell_type": "code",
   "execution_count": null,
   "metadata": {},
   "outputs": [],
   "source": [
    "v03.evaluated_at(t, 1)"
   ]
  },
  {
   "cell_type": "markdown",
   "metadata": {},
   "source": [
    "This shows that the tangent vector at the beginning and end of the curve is parallel to the line\n",
    "from $\\boldsymbol{x}_0$ to $\\boldsymbol{x}_1$ and\n",
    "from $\\boldsymbol{x}_2$ to $\\boldsymbol{x}_3$, respectively.\n",
    "The length of the tangent vectors is three times the length of those lines.\n",
    "This also means that if the begin and end positions\n",
    "$\\boldsymbol{x}_0$ and $\\boldsymbol{x}_3$\n",
    "as well as the corresponding tangent vectors\n",
    "$\\boldsymbol{\\dot{x}}_0$ and $\\boldsymbol{\\dot{x}}_3$\n",
    "are given,\n",
    "it's easy to calculate the two missing control points:\n",
    "\n",
    "\\begin{align*}\n",
    "\\boldsymbol{x}_1 &= \\boldsymbol{x}_0 + \\frac{\\boldsymbol{\\dot{x}}_0}{3}\\\\\n",
    "\\boldsymbol{x}_2 &= \\boldsymbol{x}_3 - \\frac{\\boldsymbol{\\dot{x}}_3}{3}\n",
    "\\end{align*}\n",
    "\n",
    "This can be used to\n",
    "[turn uniform Hermite splines into Bézier splines](hermite-uniform.ipynb#Relation-to-Bézier-Splines)\n",
    "and to\n",
    "[construct uniform Catmull--Rom splines using Bézier segments](catmull-rom-uniform.ipynb#Using-Bézier-Segments)."
   ]
  },
  {
   "cell_type": "markdown",
   "metadata": {},
   "source": [
    "We can now also see that the last linear segment in De Casteljau's algorithm\n",
    "($\\boldsymbol{p}_{1,3}(t) - \\boldsymbol{p}_{0,2}(t)$ in this case)\n",
    "is exactly a third of the tangent vector (at any given $t \\in [0, 1]$):"
   ]
  },
  {
   "cell_type": "code",
   "execution_count": null,
   "metadata": {},
   "outputs": [],
   "source": [
    "assert (v03.expr - 3 * (p13.expr - p02.expr)).simplify() == 0"
   ]
  },
  {
   "cell_type": "markdown",
   "metadata": {},
   "source": [
    "Again, the factor 3 comes from the degree 3 of our curve."
   ]
  },
  {
   "cell_type": "markdown",
   "metadata": {},
   "source": [
    "#### Cubic Bézier to Hermite Segments\n",
    "\n",
    "We now know the tangent vectors at the beginning and the end of the curve, and obviously we know the values of the curve at the beginning and the end:"
   ]
  },
  {
   "cell_type": "code",
   "execution_count": null,
   "metadata": {},
   "outputs": [],
   "source": [
    "p03.evaluated_at(t, 0)"
   ]
  },
  {
   "cell_type": "code",
   "execution_count": null,
   "metadata": {},
   "outputs": [],
   "source": [
    "p03.evaluated_at(t, 1)"
   ]
  },
  {
   "cell_type": "markdown",
   "metadata": {},
   "source": [
    "With these four pieces of information,\n",
    "we can find a transformation from the four Bézier control points\n",
    "to the two control points and two tangent vectors\n",
    "of a Hermite spline segment:"
   ]
  },
  {
   "cell_type": "code",
   "execution_count": null,
   "metadata": {},
   "outputs": [],
   "source": [
    "M_BtoH = NamedMatrix(\n",
    "    r'{M_\\text{B$\\to$H}}',\n",
    "    sp.Matrix([[expr.coeff(cv) for cv in [x0, x1, x2, x3]]\n",
    "               for expr in [\n",
    "                   x0,\n",
    "                   x3,\n",
    "                   v03.evaluated_at(t, 0).expr,\n",
    "                   v03.evaluated_at(t, 1).expr]]))\n",
    "M_BtoH"
   ]
  },
  {
   "cell_type": "markdown",
   "metadata": {},
   "source": [
    "And we can simply invert this if we want to go in the other direction, from Hermite to Bézier:"
   ]
  },
  {
   "cell_type": "code",
   "execution_count": null,
   "metadata": {},
   "outputs": [],
   "source": [
    "M_BtoH.I.pull_out(sp.S.One / 3)"
   ]
  },
  {
   "cell_type": "markdown",
   "metadata": {},
   "source": [
    "Of course, those are the same matrices as shown in the\n",
    "[notebook about uniform cubic Hermite splines](hermite-uniform.ipynb#Relation-to-Bézier-Splines)."
   ]
  },
  {
   "cell_type": "markdown",
   "metadata": {},
   "source": [
    "### Degree 4 (Quartic)\n",
    "\n",
    "By now you know the drill,\n",
    "let's consider five control points,\n",
    "$\\boldsymbol{x}_0$,\n",
    "$\\boldsymbol{x}_1$,\n",
    "$\\boldsymbol{x}_2$,\n",
    "$\\boldsymbol{x}_3$ and $\\boldsymbol{x}_4$,\n",
    "which lead to more linear interpolations:"
   ]
  },
  {
   "cell_type": "code",
   "execution_count": null,
   "metadata": {},
   "outputs": [],
   "source": [
    "p34 = NamedExpression('pbm_3,4', lerp(x3, x4))\n",
    "p24 = NamedExpression('pbm_2,4', lerp(p23.expr, p34.expr))\n",
    "p14 = NamedExpression('pbm_1,4', lerp(p13.expr, p24.expr))\n",
    "p04 = NamedExpression('pbm_0,4', lerp(p03.expr, p14.expr))"
   ]
  },
  {
   "cell_type": "markdown",
   "metadata": {},
   "source": [
    "The resulting expression for $\\boldsymbol{p}_{0,4}(t)$\n",
    "is quite long and unwieldy (and frankly, quite boring as well),\n",
    "so we are not showing it here."
   ]
  },
  {
   "cell_type": "code",
   "execution_count": null,
   "metadata": {
    "tags": []
   },
   "outputs": [],
   "source": [
    "#p04"
   ]
  },
  {
   "cell_type": "markdown",
   "metadata": {},
   "source": [
    "Instead, we are using it immediately to extract the Bernstein bases:"
   ]
  },
  {
   "cell_type": "code",
   "execution_count": null,
   "metadata": {},
   "outputs": [],
   "source": [
    "b4 = [p04.expr.expand().coeff(x.name).factor() for x in (x0, x1, x2, x3, x4)]\n",
    "b4"
   ]
  },
  {
   "cell_type": "code",
   "execution_count": null,
   "metadata": {},
   "outputs": [],
   "source": [
    "plot_basis(*b4)"
   ]
  },
  {
   "cell_type": "code",
   "execution_count": null,
   "metadata": {},
   "outputs": [],
   "source": [
    "M_B4 = NamedMatrix(\n",
    "    '{M_B^{(4)}}',\n",
    "    sp.Matrix([[c.coeff(x) for x in (x0, x1, x2, x3, x4)]\n",
    "               for c in p04.expr.as_poly(t).all_coeffs()]))\n",
    "M_B4"
   ]
  },
  {
   "cell_type": "code",
   "execution_count": null,
   "metadata": {},
   "outputs": [],
   "source": [
    "M_B4.I"
   ]
  },
  {
   "cell_type": "code",
   "execution_count": null,
   "metadata": {},
   "outputs": [],
   "source": [
    "def quartic(points, times):\n",
    "    \"\"\"Evaluate quartic Bézier curve (given by five points) at given times.\"\"\"\n",
    "    return np.column_stack(sp.lambdify(t, b4)(times)) @ points"
   ]
  },
  {
   "cell_type": "code",
   "execution_count": null,
   "metadata": {},
   "outputs": [],
   "source": [
    "points = [\n",
    "    (0, 0),\n",
    "    (0.5, 0),\n",
    "    (0.7, 1),\n",
    "    (1, 1.5),\n",
    "    (-1, 1),\n",
    "]"
   ]
  },
  {
   "cell_type": "code",
   "execution_count": null,
   "metadata": {},
   "outputs": [],
   "source": [
    "plot_curve(quartic, points)"
   ]
  },
  {
   "cell_type": "code",
   "execution_count": null,
   "metadata": {},
   "outputs": [],
   "source": [
    "show_casteljau_animation(points)"
   ]
  },
  {
   "cell_type": "markdown",
   "metadata": {},
   "source": [
    "#### Quartic Tangent Vectors\n",
    "\n",
    "For completeness' sake,\n",
    "let's look at the derivative (i.e. the tangent vector) of the curve ..."
   ]
  },
  {
   "cell_type": "code",
   "execution_count": null,
   "metadata": {},
   "outputs": [],
   "source": [
    "v04 = p04.diff(t)"
   ]
  },
  {
   "cell_type": "markdown",
   "metadata": {},
   "source": [
    "... at the beginning and the end of the curve:"
   ]
  },
  {
   "cell_type": "code",
   "execution_count": null,
   "metadata": {},
   "outputs": [],
   "source": [
    "v04.evaluated_at(t, 0)"
   ]
  },
  {
   "cell_type": "code",
   "execution_count": null,
   "metadata": {},
   "outputs": [],
   "source": [
    "v04.evaluated_at(t, 1)"
   ]
  },
  {
   "cell_type": "markdown",
   "metadata": {},
   "source": [
    "By now it shouldn't be surprising that the tangent vector at the beginning and end of the curve is parallel to the line\n",
    "from $\\boldsymbol{x}_0$ to $\\boldsymbol{x}_1$ and\n",
    "from $\\boldsymbol{x}_3$ to $\\boldsymbol{x}_4$, respectively.\n",
    "The length of the tangent vectors is four times the length of those lines.\n",
    "The last line in De Casteljau's algorithm ($\\boldsymbol{p}_{1,4}(t) - \\boldsymbol{p}_{0,3}(t)$ in this case) is exactly a fourth of the tangent vector (at any given $t \\in [0, 1]$):"
   ]
  },
  {
   "cell_type": "code",
   "execution_count": null,
   "metadata": {},
   "outputs": [],
   "source": [
    "assert (v04.expr - 4 * (p14.expr - p03.expr)).simplify() == 0"
   ]
  },
  {
   "cell_type": "markdown",
   "metadata": {},
   "source": [
    "Again, the factor 4 comes from the degree 4 of our curve."
   ]
  },
  {
   "cell_type": "markdown",
   "metadata": {},
   "source": [
    "### Arbitrary Degree\n",
    "\n",
    "We could go on doing this for higher and higher degrees,\n",
    "but this would get more and more annoying.\n",
    "Luckily,\n",
    "there is a closed formula available to calculate Bernstein polynomials\n",
    "for an arbitrary degree $n$\n",
    "(using the\n",
    "[binomial coefficient](https://en.wikipedia.org/wiki/Binomial_coefficient)\n",
    "${n \\choose i} = \\frac{n!}{i!(n - i)!}$):\n",
    "\n",
    "\\begin{equation*}\n",
    "b_{i,n}(x) = {n \\choose i} x^i \\left( 1 - x \\right)^{n - i}, \\quad i = 0, \\ldots, n.\n",
    "\\end{equation*}"
   ]
  },
  {
   "cell_type": "markdown",
   "metadata": {},
   "source": [
    "This is used in the Python class\n",
    "[splines.Bernstein](../python-module/splines.rst#splines.Bernstein)."
   ]
  },
  {
   "cell_type": "code",
   "execution_count": null,
   "metadata": {},
   "outputs": [],
   "source": [
    "show_casteljau_animation([\n",
    "    (0, 0),\n",
    "    (-1, 1),\n",
    "    (-0.5, 2),\n",
    "    (1, 2.5),\n",
    "    (2, 2),\n",
    "    (2, 1.5),\n",
    "    (0.5, 0.5),\n",
    "    (1, -0.5),\n",
    "])"
   ]
  }
 ],
 "metadata": {
  "kernelspec": {
   "display_name": "Python 3 (ipykernel)",
   "language": "python",
   "name": "python3"
  },
  "language_info": {
   "codemirror_mode": {
    "name": "ipython",
    "version": 3
   },
   "file_extension": ".py",
   "mimetype": "text/x-python",
   "name": "python",
   "nbconvert_exporter": "python",
   "pygments_lexer": "ipython3",
   "version": "3.11.2"
  }
 },
 "nbformat": 4,
 "nbformat_minor": 4
}
