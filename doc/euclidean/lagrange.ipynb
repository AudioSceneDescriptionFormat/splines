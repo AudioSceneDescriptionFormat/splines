{
 "cells": [
  {
   "cell_type": "markdown",
   "metadata": {
    "nbsphinx": "hidden"
   },
   "source": [
    "This notebook is part of https://github.com/AudioSceneDescriptionFormat/splines, see also https://splines.readthedocs.io/."
   ]
  },
  {
   "cell_type": "markdown",
   "metadata": {},
   "source": [
    "# Lagrange Interpolation\n",
    "\n",
    "Before diving into splines,\n",
    "let's have a look at an arguably simpler interpolation method using polynomials:\n",
    "[Lagrange interpolation](https://en.wikipedia.org/wiki/Lagrange_polynomial).\n",
    "\n",
    "This is easy to implement, but as we will see,\n",
    "it has quite severe limitations,\n",
    "which will motivate us to look into splines later."
   ]
  },
  {
   "cell_type": "code",
   "execution_count": null,
   "metadata": {},
   "outputs": [],
   "source": [
    "import matplotlib.pyplot as plt\n",
    "import numpy as np"
   ]
  },
  {
   "cell_type": "markdown",
   "metadata": {},
   "source": [
    "## One-dimensional Example\n",
    "\n",
    "Assume we have $N$ time instants $t_i$, with $0 \\le i < N$ ..."
   ]
  },
  {
   "cell_type": "code",
   "execution_count": null,
   "metadata": {},
   "outputs": [],
   "source": [
    "ts = -1.5, 0.5, 1.7, 3.5, 4"
   ]
  },
  {
   "cell_type": "markdown",
   "metadata": {},
   "source": [
    "... and for each time instant we are given an associated value $x_i$:"
   ]
  },
  {
   "cell_type": "code",
   "execution_count": null,
   "metadata": {},
   "outputs": [],
   "source": [
    "xs = 2, -1, 1.3, 3.14, 1"
   ]
  },
  {
   "cell_type": "markdown",
   "metadata": {},
   "source": [
    "Our task is now to find a function that yields\n",
    "the given $x_i$ values for the given times $t_i$ and\n",
    "some \"reasonable\" interpolated values when evaluated at time values in between.\n",
    "\n",
    "The idea of Lagrange interpolation is to create a separate polynomial\n",
    "$\\ell_i(t)$\n",
    "for each of the $N$ given time instants,\n",
    "which will be weighted by the associated $x_i$.\n",
    "The final interpolation function is the weighted sum of these $N$ polynomials:\n",
    "\n",
    "\\begin{equation*}\n",
    "L(t) = \\sum_{i=0}^{N-1} x_i \\ell_i(t)\n",
    "\\end{equation*}"
   ]
  },
  {
   "cell_type": "markdown",
   "metadata": {},
   "source": [
    "In order for this to actually work,\n",
    "the polynomials must fulfill the following requirements:\n",
    "\n",
    "* Each polynomial must yield $1$ when evaluated at its associated time $t_i$.\n",
    "* Each polynomial must yield $0$ at all other instances in the set of given times."
   ]
  },
  {
   "cell_type": "markdown",
   "metadata": {},
   "source": [
    "To satisfy the second point,\n",
    "let's create a product with a term for each of the relevant times\n",
    "and make each of those factors vanish when evaluated at their associated time.\n",
    "For example, let's look at the basis for $i = 3$:"
   ]
  },
  {
   "cell_type": "code",
   "execution_count": null,
   "metadata": {},
   "outputs": [],
   "source": [
    "def maybe_polynomial_3(t):\n",
    "    t = np.asarray(t)\n",
    "    return (\n",
    "        (t - (-1.5)) *\n",
    "        (t - 0.5) *\n",
    "        (t - 1.7) *\n",
    "        (t - 4))"
   ]
  },
  {
   "cell_type": "code",
   "execution_count": null,
   "metadata": {},
   "outputs": [],
   "source": [
    "maybe_polynomial_3(ts)"
   ]
  },
  {
   "cell_type": "markdown",
   "metadata": {},
   "source": [
    "As we can see, this indeed fulfills the second requirement.\n",
    "Note that we were given 5 time instants,\n",
    "but we only need 4 product terms\n",
    "(corresponding to the 4 roots of the polynomial)."
   ]
  },
  {
   "cell_type": "markdown",
   "metadata": {},
   "source": [
    "Now, for the first requirement,\n",
    "we can divide each term to yield $1$ when evaluated at $t = t_3 = 3.5$\n",
    "(luckily, this will not violate the second requirement).\n",
    "If each term is $1$, the whole product will also be $1$:"
   ]
  },
  {
   "cell_type": "code",
   "execution_count": null,
   "metadata": {},
   "outputs": [],
   "source": [
    "def polynomial_3(t):\n",
    "    t = np.asarray(t)\n",
    "    return (\n",
    "        (t - (-1.5)) / (3.5 - (-1.5)) *\n",
    "        (t - 0.5) / (3.5 - 0.5) *\n",
    "        (t - 1.7) / (3.5 - 1.7) *\n",
    "        (t - 4) / (3.5 - 4))"
   ]
  },
  {
   "cell_type": "code",
   "execution_count": null,
   "metadata": {},
   "outputs": [],
   "source": [
    "polynomial_3(ts)"
   ]
  },
  {
   "cell_type": "markdown",
   "metadata": {},
   "source": [
    "That's it!"
   ]
  },
  {
   "cell_type": "markdown",
   "metadata": {},
   "source": [
    "To get a better idea what's going on between the given time instances $t_i$,\n",
    "let's plot this polynomial\n",
    "(with a little help from [helper.py](helper.py)):"
   ]
  },
  {
   "cell_type": "code",
   "execution_count": null,
   "metadata": {},
   "outputs": [],
   "source": [
    "from helper import grid_lines"
   ]
  },
  {
   "cell_type": "code",
   "execution_count": null,
   "metadata": {},
   "outputs": [],
   "source": [
    "plot_times = np.linspace(ts[0], ts[-1], 100)"
   ]
  },
  {
   "cell_type": "code",
   "execution_count": null,
   "metadata": {},
   "outputs": [],
   "source": [
    "plt.plot(plot_times, polynomial_3(plot_times))\n",
    "grid_lines(ts, [0, 1])"
   ]
  },
  {
   "cell_type": "markdown",
   "metadata": {},
   "source": [
    "We can see from its shape that this is a polynomial of degree 4,\n",
    "which makes sense because the product we are using has 4 terms\n",
    "containing one $t$ each.\n",
    "We can also see that it has the value $0$ at each of the initially provided\n",
    "time instances $t_i$, except for $t_3 = 3.5$, where it has the value $1$."
   ]
  },
  {
   "cell_type": "markdown",
   "metadata": {},
   "source": [
    "The above calculation can be easily generalized to be able to get\n",
    "any one of the set of polynomials defined by an arbitrary list of time instants:"
   ]
  },
  {
   "cell_type": "code",
   "execution_count": null,
   "metadata": {},
   "outputs": [],
   "source": [
    "def lagrange_polynomial(times, i, t):\n",
    "    \"\"\"i-th Lagrange polynomial for the given time values, evaluated at t.\"\"\"\n",
    "    t = np.asarray(t)\n",
    "    product = np.multiply.reduce\n",
    "    return product([\n",
    "        (t - times[j]) / (times[i] - times[j])\n",
    "        for j in range(len(times))\n",
    "        if i != j\n",
    "    ])"
   ]
  },
  {
   "cell_type": "markdown",
   "metadata": {},
   "source": [
    "Putting this in mathematic notation,\n",
    "Lagrange basis polynomials can be written as\n",
    "\n",
    "\\begin{equation*}\n",
    "\\ell_i(t) = \\prod_{\\substack{j=0\\\\i \\ne j}}^{N-1}\n",
    "\\frac{t - t_j}{t_i - t_j}.\n",
    "\\end{equation*}"
   ]
  },
  {
   "cell_type": "markdown",
   "metadata": {},
   "source": [
    "Now we can calculate and visualize all 5 basis polynomials\n",
    "for our 5 given time instants:"
   ]
  },
  {
   "cell_type": "code",
   "execution_count": null,
   "metadata": {},
   "outputs": [],
   "source": [
    "polys = np.column_stack(\n",
    "    [lagrange_polynomial(ts, i, plot_times) for i in range(len(ts))])"
   ]
  },
  {
   "cell_type": "code",
   "execution_count": null,
   "metadata": {},
   "outputs": [],
   "source": [
    "plt.plot(plot_times, polys)\n",
    "grid_lines(ts, [0, 1])"
   ]
  },
  {
   "cell_type": "markdown",
   "metadata": {},
   "source": [
    "Finally, the interpolated values $L(t)$ can be obtained\n",
    "by applying the given $x_i$ values as weights to the polynomials $\\ell_i(t)$\n",
    "and summing everything up together:"
   ]
  },
  {
   "cell_type": "code",
   "execution_count": null,
   "metadata": {},
   "outputs": [],
   "source": [
    "weighted_polys = polys * xs"
   ]
  },
  {
   "cell_type": "code",
   "execution_count": null,
   "metadata": {},
   "outputs": [],
   "source": [
    "interpolated = np.sum(weighted_polys, axis=-1)"
   ]
  },
  {
   "cell_type": "code",
   "execution_count": null,
   "metadata": {},
   "outputs": [],
   "source": [
    "plt.plot(plot_times, weighted_polys)\n",
    "plt.plot(plot_times, interpolated, color='black', linestyle='dashed')\n",
    "plt.scatter(ts, xs, color='black')\n",
    "grid_lines(ts)"
   ]
  },
  {
   "cell_type": "markdown",
   "metadata": {},
   "source": [
    "## Neville's Algorithm\n",
    "\n",
    "An alternative way to calculate interpolated values is\n",
    "[Neville's algorithm](https://en.wikipedia.org/wiki/Neville's_algorithm).\n",
    "We mention this algorithm mainly because it is referenced in the\n",
    "[derivation of non-uniform Catmull--Rom splines](catmull-rom-non-uniform.ipynb)\n",
    "and the\n",
    "[description of the Barry--Goldman algorithm](catmull-rom-barry-goldman.ipynb)."
   ]
  },
  {
   "cell_type": "markdown",
   "metadata": {},
   "source": [
    "As main building block, we need a linear interpolation\n",
    "between two values in a given time interval:"
   ]
  },
  {
   "cell_type": "code",
   "execution_count": null,
   "metadata": {},
   "outputs": [],
   "source": [
    "def lerp(xs, ts, t):\n",
    "    \"\"\"Linear intERPolation.\n",
    "\n",
    "    Returns the interpolated value(s) at time(s) *t*,\n",
    "    given two values/vertices *xs* at times *ts*.\n",
    "\n",
    "    The two x-values can be scalars or vectors,\n",
    "    or even higher-dimensional arrays\n",
    "    (as long as the shape of *t* is compatible).\n",
    "\n",
    "    \"\"\"\n",
    "    x_begin, x_end = map(np.asarray, xs)\n",
    "    t_begin, t_end = ts\n",
    "    if not np.isscalar(t):\n",
    "        # This allows using an array of *t* values:\n",
    "        t = np.expand_dims(t, axis=-1)\n",
    "    return (x_begin * (t_end - t) + x_end * (t - t_begin)) / (t_end - t_begin)"
   ]
  },
  {
   "cell_type": "markdown",
   "metadata": {},
   "source": [
    "In each stage of the algorithm,\n",
    "linear interpolation is used to interpolate between adjacent values,\n",
    "leading to one less value than in the stage before.\n",
    "The new values are used as input to the next stage and so on.\n",
    "When there is only one value left, this value is the result.\n",
    "\n",
    "The only tricky part is\n",
    "to choose the appropriate time interval for each interpolation.\n",
    "In the first stage,\n",
    "the intervals between the given time values are used.\n",
    "In the second stage,\n",
    "each time interval is combined with the following one,\n",
    "leading to one less time intervals in total.\n",
    "In the third stage,\n",
    "each time interval is combined with the following two intervals,\n",
    "and so on until the last stage,\n",
    "where all time intervals are combined into a single large interval."
   ]
  },
  {
   "cell_type": "markdown",
   "metadata": {},
   "source": [
    "<cite data-cite-t=\"barry1988recursive\">Barry and Goldman (1988)</cite>\n",
    "show (in figure 2) the cubic case,\n",
    "which looks something like this:\n",
    "\n",
    "\\begin{equation*}\n",
    "\\def\\negspace{\\!\\!\\!\\!\\!\\!}\n",
    "\\begin{array}{ccccccccccccc}\n",
    "&&&&&&\n",
    "\\boldsymbol{p}_{0,1,2,3}\n",
    "&&&&&&\n",
    "\\\\\n",
    "&&&&&\n",
    "\\negspace \\frac{t_3 - t}{t_3 - t_0} \\negspace\n",
    "&&\n",
    "\\negspace \\frac{t - t_0}{t_3 - t_0} \\negspace\n",
    "&&&&&\n",
    "\\\\\n",
    "&&&& \\boldsymbol{p}_{0,1,2} &&&& \\boldsymbol{p}_{1,2,3} &&&&\n",
    "\\\\\n",
    "&&\n",
    "& \\negspace \\frac{t_2 - t}{t_2 - t_0} \\negspace && \\negspace \\frac{t - t_0}{t_2 - t_0} \\negspace &\n",
    "& \\negspace \\frac{t_3 - t}{t_3 - t_1} \\negspace && \\negspace \\frac{t - t_1}{t_3 - t_1} \\negspace &\n",
    "&&\n",
    "\\\\\n",
    "&& \\boldsymbol{p}_{0,1} &&&& \\boldsymbol{p}_{1,2} &&&& \\boldsymbol{p}_{2,3} &&\n",
    "\\\\\n",
    "& \\negspace \\frac{t_1 - t}{t_1 - t_0} \\negspace && \\negspace \\frac{t - t_0}{t_1 - t_0} \\negspace &\n",
    "& \\negspace \\frac{t_2 - t}{t_2 - t_1} \\negspace && \\negspace \\frac{t - t_1}{t_2 - t_1} \\negspace &\n",
    "& \\negspace \\frac{t_3 - t}{t_3 - t_2} \\negspace && \\negspace \\frac{t - t_2}{t_3 - t_2} \\negspace &\n",
    "\\\\\n",
    "\\boldsymbol{x}_0 &&&& \\boldsymbol{x}_1 &&&& \\boldsymbol{x}_2 &&&& \\boldsymbol{x}_3\n",
    "\\end{array}\n",
    "\\end{equation*}"
   ]
  },
  {
   "cell_type": "markdown",
   "metadata": {},
   "source": [
    "The polynomial $\\boldsymbol{p}_{0,1,2,3}(t)$ at the apex\n",
    "can be evaluated for $t_0 \\le t \\le t_3$.\n",
    "For a detailed explanation of this triangular scheme, see the\n",
    "[notebook about the Barry--Goldman algorithm](catmull-rom-barry-goldman.ipynb#Triangular-Schemes).\n",
    "Neville's algorithm can be implemented for arbitrary degree:"
   ]
  },
  {
   "cell_type": "code",
   "execution_count": null,
   "metadata": {},
   "outputs": [],
   "source": [
    "def neville(xs, ts, t):\n",
    "    \"\"\"Lagrange interpolation using Neville's algorithm.\n",
    "    \n",
    "    Returns the interpolated value(s) at time(s) *t*,\n",
    "    given the values *xs* at times *ts*.\n",
    "    \n",
    "    \"\"\"\n",
    "    if len(xs) != len(ts):\n",
    "        raise ValueError('xs and ts must have the same length')\n",
    "    while len(xs) > 1:\n",
    "        step = len(ts) - len(xs) + 1\n",
    "        xs = [\n",
    "            lerp(*args, t)\n",
    "            for args in zip(zip(xs, xs[1:]), zip(ts, ts[step:]))]\n",
    "    return xs[0]"
   ]
  },
  {
   "cell_type": "code",
   "execution_count": null,
   "metadata": {},
   "outputs": [],
   "source": [
    "plt.plot(plot_times, neville(xs, ts, plot_times))\n",
    "plt.scatter(ts, xs)\n",
    "grid_lines(ts)"
   ]
  },
  {
   "cell_type": "markdown",
   "metadata": {},
   "source": [
    "## Two-Dimensional Example\n",
    "\n",
    "Lagrange interpolation can of course also be used in higher-dimensional spaces.\n",
    "To show this, let's create a little class:"
   ]
  },
  {
   "cell_type": "code",
   "execution_count": null,
   "metadata": {},
   "outputs": [],
   "source": [
    "class Lagrange:\n",
    "    \n",
    "    def __init__(self, vertices, grid):\n",
    "        assert len(vertices) == len(grid)\n",
    "        self.vertices = vertices\n",
    "        self.grid = grid\n",
    "    \n",
    "    def evaluate(self, t):\n",
    "        return neville(self.vertices, self.grid, t)"
   ]
  },
  {
   "cell_type": "markdown",
   "metadata": {},
   "source": [
    "Since this class has the same interface as the splines\n",
    "that will be discussed in the following sections,\n",
    "we can use a spline helper function from [helper.py](helper.py)\n",
    "for plotting:"
   ]
  },
  {
   "cell_type": "code",
   "execution_count": null,
   "metadata": {},
   "outputs": [],
   "source": [
    "from helper import plot_spline_2d"
   ]
  },
  {
   "cell_type": "markdown",
   "metadata": {},
   "source": [
    "This time, we have a list of two-dimensional vectors\n",
    "and the same list of associated times as before:"
   ]
  },
  {
   "cell_type": "code",
   "execution_count": null,
   "metadata": {},
   "outputs": [],
   "source": [
    "l1 = Lagrange([(2, -2), (-1, 0), (0.3, 0.5), (3.14, -1), (1, -1)], ts)"
   ]
  },
  {
   "cell_type": "code",
   "execution_count": null,
   "metadata": {},
   "outputs": [],
   "source": [
    "plot_spline_2d(l1)"
   ]
  },
  {
   "cell_type": "markdown",
   "metadata": {},
   "source": [
    "## Runge's Phenomenon\n",
    "\n",
    "This seems to work to some degree,\n",
    "but as indicated above,\n",
    "Lagrange implementation has a severe limitation.\n",
    "This limitation gets more apparent when using more vertices,\n",
    "which leads to a higher-degree polynomial."
   ]
  },
  {
   "cell_type": "code",
   "execution_count": null,
   "metadata": {},
   "outputs": [],
   "source": [
    "vertices1 = [\n",
    "    (-2, 3),\n",
    "    (1, 1),\n",
    "    (3, -1),\n",
    "    (2, -1),\n",
    "    (2.5, 1.5),\n",
    "    (5, 2),\n",
    "    (6, 1),\n",
    "    (5, 0),\n",
    "    (6.5, -1),\n",
    "    (7, 0),\n",
    "    (6, 3),\n",
    "]"
   ]
  },
  {
   "cell_type": "code",
   "execution_count": null,
   "metadata": {},
   "outputs": [],
   "source": [
    "l2 = Lagrange(vertices1, range(len(vertices1)))\n",
    "plot_spline_2d(l2)"
   ]
  },
  {
   "cell_type": "markdown",
   "metadata": {},
   "source": [
    "Here we see a severe overshooting effect,\n",
    "most pronounced at the beginning and the end of the curve.\n",
    "Moving some vertices can make this even worse.\n",
    "This effect is called\n",
    "[Runge's phenomenon](https://en.wikipedia.org/wiki/Runge's_phenomenon).\n",
    "A possible mitigation for this overshooting\n",
    "is to use so-called\n",
    "[Chebyshev nodes](https://en.wikipedia.org/wiki/Chebyshev_nodes)\n",
    "as time instances:"
   ]
  },
  {
   "cell_type": "code",
   "execution_count": null,
   "metadata": {
    "tags": []
   },
   "outputs": [],
   "source": [
    "def chebyshev_nodes(a, b, n):\n",
    "    k = np.arange(n) + 1\n",
    "    nodes = np.cos(np.pi * (2 * k - 1) / (2 * n))\n",
    "    return (a + b) / 2 - (b - a) * nodes / 2"
   ]
  },
  {
   "cell_type": "code",
   "execution_count": null,
   "metadata": {
    "tags": []
   },
   "outputs": [],
   "source": [
    "l3 = Lagrange(vertices1, chebyshev_nodes(0, len(vertices1) - 1, len(vertices1)))\n",
    "plot_spline_2d(l3)"
   ]
  },
  {
   "cell_type": "markdown",
   "metadata": {},
   "source": [
    "This is definitely better.\n",
    "But it gets worse again when we move a few of the vertices."
   ]
  },
  {
   "cell_type": "code",
   "execution_count": null,
   "metadata": {},
   "outputs": [],
   "source": [
    "vertices2 = [\n",
    "    (0, -1),\n",
    "    (1, 1),\n",
    "    (3, -1),\n",
    "    (2.5, 1.5),\n",
    "    (5, 2),\n",
    "    (6, 0.5),\n",
    "    (6, 0),\n",
    "    (4, -1),\n",
    "    (6.5, -1),\n",
    "    (7, 2),\n",
    "    (8, 0),\n",
    "]"
   ]
  },
  {
   "cell_type": "code",
   "execution_count": null,
   "metadata": {
    "tags": []
   },
   "outputs": [],
   "source": [
    "l4 = Lagrange(vertices2, chebyshev_nodes(0, len(vertices2) - 1, len(vertices2)))\n",
    "plot_spline_2d(l4)"
   ]
  },
  {
   "cell_type": "markdown",
   "metadata": {},
   "source": [
    "Long story short,\n",
    "Lagrange interpolation is typically not suitable for drawing curves.\n",
    "For comparison, and as a teaser for the following sections,\n",
    "let's use the same vertices to create\n",
    "a uniform [Catmull--Rom spline](catmull-rom.ipynb):"
   ]
  },
  {
   "cell_type": "code",
   "execution_count": null,
   "metadata": {},
   "outputs": [],
   "source": [
    "import splines"
   ]
  },
  {
   "cell_type": "code",
   "execution_count": null,
   "metadata": {},
   "outputs": [],
   "source": [
    "cr_spline = splines.CatmullRom(vertices2)"
   ]
  },
  {
   "cell_type": "code",
   "execution_count": null,
   "metadata": {},
   "outputs": [],
   "source": [
    "plot_spline_2d(cr_spline)"
   ]
  },
  {
   "cell_type": "markdown",
   "metadata": {},
   "source": [
    "And to get an even better fit, we can try a\n",
    "[centripetal Catmull--Rom spline](catmull-rom-properties.ipynb#Centripetal-Parameterization):"
   ]
  },
  {
   "cell_type": "code",
   "execution_count": null,
   "metadata": {},
   "outputs": [],
   "source": [
    "cr_centripetal_spline = splines.CatmullRom(vertices2, alpha=0.5)"
   ]
  },
  {
   "cell_type": "code",
   "execution_count": null,
   "metadata": {},
   "outputs": [],
   "source": [
    "plot_spline_2d(cr_centripetal_spline)"
   ]
  },
  {
   "cell_type": "markdown",
   "metadata": {},
   "source": [
    "<div class=\"alert alert-info\">\n",
    "\n",
    "Note\n",
    "\n",
    "The class [splines.CatmullRom](../python-module/splines.rst#splines.CatmullRom)\n",
    "uses [\"natural\" end conditions](end-conditions-natural.ipynb) by default.\n",
    "\n",
    "</div>"
   ]
  }
 ],
 "metadata": {
  "kernelspec": {
   "display_name": "Python 3 (ipykernel)",
   "language": "python",
   "name": "python3"
  },
  "language_info": {
   "codemirror_mode": {
    "name": "ipython",
    "version": 3
   },
   "file_extension": ".py",
   "mimetype": "text/x-python",
   "name": "python",
   "nbconvert_exporter": "python",
   "pygments_lexer": "ipython3",
   "version": "3.11.2"
  }
 },
 "nbformat": 4,
 "nbformat_minor": 4
}
