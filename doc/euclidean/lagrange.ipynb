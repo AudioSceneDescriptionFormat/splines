{
 "cells": [
  {
   "cell_type": "markdown",
   "metadata": {
    "nbsphinx": "hidden"
   },
   "source": [
    "This notebook is part of https://github.com/AudioSceneDescriptionFormat/splines, see also https://splines.readthedocs.io/."
   ]
  },
  {
   "cell_type": "markdown",
   "metadata": {},
   "source": [
    "# Lagrange Interpolation\n",
    "\n",
    "Before diving into splines,\n",
    "let's have a look at an arguably simpler interpolation method using polynomials:\n",
    "[Lagrange interpolation](https://en.wikipedia.org/wiki/Lagrange_polynomial).\n",
    "\n",
    "This is easy to implement, but as we will see,\n",
    "it has quite severe limitations,\n",
    "which will motivate us to look into splines later."
   ]
  },
  {
   "cell_type": "code",
   "execution_count": null,
   "metadata": {},
   "outputs": [],
   "source": [
    "import matplotlib.pyplot as plt\n",
    "import numpy as np"
   ]
  },
  {
   "cell_type": "markdown",
   "metadata": {},
   "source": [
    "Assume we have $N$ time instants $t_i$, with $0 \\le i < N$:"
   ]
  },
  {
   "cell_type": "code",
   "execution_count": null,
   "metadata": {},
   "outputs": [],
   "source": [
    "ts = -1.5, 0.5, 1.7, 3, 4"
   ]
  },
  {
   "cell_type": "markdown",
   "metadata": {},
   "source": [
    "... and for each time instant we are given an associated value $x_i$:"
   ]
  },
  {
   "cell_type": "code",
   "execution_count": null,
   "metadata": {},
   "outputs": [],
   "source": [
    "xs = 2, -1, 1.3, 3.14, 1"
   ]
  },
  {
   "cell_type": "markdown",
   "metadata": {},
   "source": [
    "Our task is now to find a function that yields\n",
    "the given $x_i$ values for the given times $t_i$ and\n",
    "some \"reasonable\" interpolated values when evaluated at time values in-between.\n",
    "\n",
    "The idea of Lagrange interpolation is to create a separate polynomial\n",
    "for each of the $N$ given time instants,\n",
    "which will be weighted by the associated $x$.\n",
    "The final interpolation function is the weighted sum of these $N$ polynomials.\n",
    "\n",
    "In order for this to actually work,\n",
    "the polynomials must fulfill the following requirements:\n",
    "\n",
    "* Each polynomial must yield $1$ when evaluated at its associated time $t_i$.\n",
    "* Each polynomial must yield $0$ at all other instances in the set of given times."
   ]
  },
  {
   "cell_type": "markdown",
   "metadata": {},
   "source": [
    "To satisfy the second point,\n",
    "let's create a product with a term for each of the relevant times\n",
    "and make each of those factors vanish when evaluated at their associated time.\n",
    "As an example we look at the basis for $t_3 = 3$:"
   ]
  },
  {
   "cell_type": "code",
   "execution_count": null,
   "metadata": {},
   "outputs": [],
   "source": [
    "def maybe_polynomial_3(t):\n",
    "    t = np.asarray(t)\n",
    "    return (t - (-1.5)) * (t - 0.5) * (t - 1.7) * (t - 4)"
   ]
  },
  {
   "cell_type": "code",
   "execution_count": null,
   "metadata": {},
   "outputs": [],
   "source": [
    "maybe_polynomial_3(ts)"
   ]
  },
  {
   "cell_type": "markdown",
   "metadata": {},
   "source": [
    "As we can see, this indeed fulfills the second requirement.\n",
    "Note that we were given 5 time instants,\n",
    "but we need only 4 product terms\n",
    "(corresponding to the 4 roots of the polynomial).\n",
    "\n",
    "Now, for the first requirement,\n",
    "we can divide each term to yield $1$ when evaluated at $t = 3$\n",
    "(luckily, this will not violate the second requirement).\n",
    "If each term is $1$, the whole product will also be $1$:"
   ]
  },
  {
   "cell_type": "code",
   "execution_count": null,
   "metadata": {},
   "outputs": [],
   "source": [
    "def polynomial_3(t):\n",
    "    t = np.asarray(t)\n",
    "    return (\n",
    "        (t - (-1.5)) / (3 - (-1.5)) *\n",
    "        (t - 0.5) / (3 - 0.5) *\n",
    "        (t - 1.7) / (3 - 1.7) *\n",
    "        (t - 4) / (3 - 4))"
   ]
  },
  {
   "cell_type": "code",
   "execution_count": null,
   "metadata": {},
   "outputs": [],
   "source": [
    "polynomial_3(ts)"
   ]
  },
  {
   "cell_type": "markdown",
   "metadata": {},
   "source": [
    "That's it!\n",
    "\n",
    "To get a better idea what's going on between the given time instances,\n",
    "let's plot this polynomial\n",
    "(with a little help from [helper.py](helper.py)):"
   ]
  },
  {
   "cell_type": "code",
   "execution_count": null,
   "metadata": {},
   "outputs": [],
   "source": [
    "from helper import grid_lines"
   ]
  },
  {
   "cell_type": "code",
   "execution_count": null,
   "metadata": {},
   "outputs": [],
   "source": [
    "plot_times = np.linspace(ts[0], ts[-1], 100)"
   ]
  },
  {
   "cell_type": "code",
   "execution_count": null,
   "metadata": {},
   "outputs": [],
   "source": [
    "plt.plot(plot_times, polynomial_3(plot_times))\n",
    "grid_lines(ts, [0, 1])"
   ]
  },
  {
   "cell_type": "markdown",
   "metadata": {},
   "source": [
    "We can see from its shape that this is a polynomial of degree 4,\n",
    "which makes sense because the product we are using has 4 terms\n",
    "containing one $t$ each.\n",
    "We can also see that it has the value $0$ at each of the initially provided\n",
    "time instances $t_i$, except for $t_3 = 3$, where it has the value $1$.\n",
    "\n",
    "The above calculation can be easily generalized to be able to get\n",
    "any one of the set of polynomials defined by an arbitrary list of time instants:"
   ]
  },
  {
   "cell_type": "code",
   "execution_count": null,
   "metadata": {},
   "outputs": [],
   "source": [
    "def lagrange_polynomial(times, i, t):\n",
    "    \"\"\"i-th Lagrange polynomial for the given time values, evaluated at t.\"\"\"\n",
    "    t = np.asarray(t)\n",
    "    product = np.multiply.reduce\n",
    "    return product([\n",
    "        (t - times[j]) / (times[i] - times[j])\n",
    "        for j in range(len(times))\n",
    "        if i != j\n",
    "    ])"
   ]
  },
  {
   "cell_type": "markdown",
   "metadata": {},
   "source": [
    "Now we can calculate and visualize all 5 polynomials\n",
    "for our 5 given time instants:"
   ]
  },
  {
   "cell_type": "code",
   "execution_count": null,
   "metadata": {},
   "outputs": [],
   "source": [
    "polys = np.column_stack([lagrange_polynomial(ts, i, plot_times)\n",
    "                         for i in range(len(ts))])"
   ]
  },
  {
   "cell_type": "code",
   "execution_count": null,
   "metadata": {},
   "outputs": [],
   "source": [
    "plt.plot(plot_times, polys)\n",
    "grid_lines(ts, [0, 1])"
   ]
  },
  {
   "cell_type": "markdown",
   "metadata": {},
   "source": [
    "Finally, the interpolated values can be obtained\n",
    "by applying the given $x_i$ values as weights to the polynomials\n",
    "and summing everything together:"
   ]
  },
  {
   "cell_type": "code",
   "execution_count": null,
   "metadata": {},
   "outputs": [],
   "source": [
    "weighted_polys = polys * xs"
   ]
  },
  {
   "cell_type": "code",
   "execution_count": null,
   "metadata": {},
   "outputs": [],
   "source": [
    "interpolated = np.sum(weighted_polys, axis=-1)"
   ]
  },
  {
   "cell_type": "code",
   "execution_count": null,
   "metadata": {},
   "outputs": [],
   "source": [
    "plt.plot(plot_times, weighted_polys)\n",
    "plt.plot(plot_times, interpolated, color='black', linestyle='dashed')\n",
    "plt.scatter(ts, xs, color='black')\n",
    "grid_lines(ts)"
   ]
  },
  {
   "cell_type": "markdown",
   "metadata": {},
   "source": [
    "Lagrange interpolation can of course also be used in higher-dimensional spaces.\n",
    "To show this, let's create a class:"
   ]
  },
  {
   "cell_type": "code",
   "execution_count": null,
   "metadata": {},
   "outputs": [],
   "source": [
    "class Lagrange:\n",
    "    \n",
    "    def __init__(self, vertices, grid):\n",
    "        assert len(vertices) == len(grid)\n",
    "        self.vertices = np.array(vertices)\n",
    "        self.grid = list(grid)\n",
    "    \n",
    "    def evaluate(self, t):\n",
    "        if not np.isscalar(t):\n",
    "            return np.array([self.evaluate(time) for time in t])\n",
    "        polys = [lagrange_polynomial(self.grid, i, t)\n",
    "                 for i in range(len(self.grid))]\n",
    "        weighted_polys = self.vertices.T * polys\n",
    "        return np.sum(weighted_polys, axis=-1)"
   ]
  },
  {
   "cell_type": "markdown",
   "metadata": {},
   "source": [
    "Since this class has the same interface as the splines\n",
    "that are discussed in the following sections,\n",
    "we can use a spline helper function from [helper.py](helper.py)\n",
    "for plotting:"
   ]
  },
  {
   "cell_type": "code",
   "execution_count": null,
   "metadata": {},
   "outputs": [],
   "source": [
    "from helper import plot_spline_2d"
   ]
  },
  {
   "cell_type": "markdown",
   "metadata": {},
   "source": [
    "This time, we have a list of two-dimensional vectors\n",
    "and the same list of associated times as before:"
   ]
  },
  {
   "cell_type": "code",
   "execution_count": null,
   "metadata": {},
   "outputs": [],
   "source": [
    "l1 = Lagrange([(2, -3), (-1, 0), (1.3, 1), (3.14, 0), (1, -1)], ts)"
   ]
  },
  {
   "cell_type": "code",
   "execution_count": null,
   "metadata": {},
   "outputs": [],
   "source": [
    "plot_spline_2d(l1)"
   ]
  },
  {
   "cell_type": "markdown",
   "metadata": {},
   "source": [
    "This seems to work quite well,\n",
    "but as indicated above,\n",
    "Lagrange implementation has a severe limitation.\n",
    "This limitation gets more apparent when using more vertices,\n",
    "which leads to a higher-degree polynomial."
   ]
  },
  {
   "cell_type": "code",
   "execution_count": null,
   "metadata": {},
   "outputs": [],
   "source": [
    "vertices = [\n",
    "    (1, 0),\n",
    "    (1, 2),\n",
    "    (3, 0),\n",
    "    (2, -1),\n",
    "    (2.5, 1.5),\n",
    "    (5, 2),\n",
    "    (6, 1),\n",
    "    (5, 0),\n",
    "    (6, -2),\n",
    "    (7, 2),\n",
    "    (4, 4),\n",
    "]\n",
    "times = range(len(vertices))"
   ]
  },
  {
   "cell_type": "code",
   "execution_count": null,
   "metadata": {},
   "outputs": [],
   "source": [
    "l2 = Lagrange(vertices, times)\n",
    "plot_spline_2d(l2)"
   ]
  },
  {
   "cell_type": "markdown",
   "metadata": {},
   "source": [
    "Here we see a severe overshooting effect,\n",
    "most pronounced at the beginning and the end of the curve.\n",
    "This effect is called\n",
    "[Runge's phenomenon](https://en.wikipedia.org/wiki/Runge's_phenomenon).\n",
    "\n",
    "Long story short,\n",
    "Lagrange interpolation is typically not usable for drawing curves.\n",
    "For comparison, let's use the same positions and time values\n",
    "and create a [Catmull--Rom spline](catmull-rom.ipynb):"
   ]
  },
  {
   "cell_type": "code",
   "execution_count": null,
   "metadata": {},
   "outputs": [],
   "source": [
    "import splines"
   ]
  },
  {
   "cell_type": "code",
   "execution_count": null,
   "metadata": {},
   "outputs": [],
   "source": [
    "cr_spline = splines.CatmullRom(vertices, times)"
   ]
  },
  {
   "cell_type": "code",
   "execution_count": null,
   "metadata": {},
   "outputs": [],
   "source": [
    "plot_spline_2d(cr_spline)"
   ]
  },
  {
   "cell_type": "markdown",
   "metadata": {},
   "source": [
    "This clearly doesn't have the overshooting problem we saw above.\n",
    "\n",
    "<div class=\"alert alert-info\">\n",
    "\n",
    "Note\n",
    "\n",
    "The [splines.CatmullRom](../python-module/splines.rst#splines.CatmullRom) class\n",
    "uses [\"natural\" end conditions](end-conditions-natural.ipynb) by default.\n",
    "\n",
    "</div>"
   ]
  }
 ],
 "metadata": {
  "kernelspec": {
   "display_name": "Python 3",
   "language": "python",
   "name": "python3"
  },
  "language_info": {
   "codemirror_mode": {
    "name": "ipython",
    "version": 3
   },
   "file_extension": ".py",
   "mimetype": "text/x-python",
   "name": "python",
   "nbconvert_exporter": "python",
   "pygments_lexer": "ipython3",
   "version": "3.9.1"
  }
 },
 "nbformat": 4,
 "nbformat_minor": 4
}
