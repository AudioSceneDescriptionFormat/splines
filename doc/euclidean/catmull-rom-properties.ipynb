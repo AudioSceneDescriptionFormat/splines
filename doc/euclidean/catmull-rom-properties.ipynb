{
 "cells": [
  {
   "cell_type": "markdown",
   "metadata": {
    "nbsphinx": "hidden"
   },
   "source": [
    "This notebook is part of https://github.com/AudioSceneDescriptionFormat/splines, see also https://splines.readthedocs.io/.\n",
    "\n",
    "[back to overview](catmull-rom.ipynb)"
   ]
  },
  {
   "cell_type": "markdown",
   "metadata": {},
   "source": [
    "# Properties of Catmull--Rom Splines\n",
    "\n",
    "<cite data-cite=\"catmull1974splines\">Catmull and Rom (1974)</cite>\n",
    "presents a whole class of splines with a whole range of properties.\n",
    "Here we only consider one member of this class which is\n",
    "a cubic polynomial interpolating spline with $C^1$ continuity and local support.\n",
    "Nowadays, this specific case is typically simply referred to as\n",
    "*Catmull--Rom spline*.\n",
    "\n",
    "This type of splines is very popular because they are very easy to use.\n",
    "Only a sequence of control points has to be specified, the tangents are calculated automatically from the given points.\n",
    "Using those tangents, the spline can be implemented using\n",
    "cubic [Hermite splines](hermite.ipynb).\n",
    "Alternatively, spline values can be directly calculated\n",
    "with the [Barry--Goldman algorithm](catmull-rom-barry-goldman.ipynb).\n",
    "\n",
    "To calculate the spline values between two control points,\n",
    "the preceding and the following control points are needed as well.\n",
    "The tangent vector at any given control point\n",
    "can be calculated from this control point,\n",
    "its predecessor and its successor.\n",
    "Since Catmull--Rom splines are $C^1$ continuous,\n",
    "incoming and outgoing tangent vectors are equal."
   ]
  },
  {
   "cell_type": "markdown",
   "metadata": {},
   "source": [
    "The following examples use the Python class\n",
    "[splines.CatmullRom](../python-module/splines.rst#splines.CatmullRom)\n",
    "to create both uniform and non-uniform splines.\n",
    "Only closed splines are shown,\n",
    "other [end conditions](end-conditions.ipynb)\n",
    "can also be used, but they are not specific to this type of spline."
   ]
  },
  {
   "cell_type": "code",
   "execution_count": null,
   "metadata": {},
   "outputs": [],
   "source": [
    "import matplotlib.pyplot as plt\n",
    "import numpy as np\n",
    "np.set_printoptions(precision=4)"
   ]
  },
  {
   "cell_type": "markdown",
   "metadata": {},
   "source": [
    "Apart from the [splines](../python-module/splines.rst) module ..."
   ]
  },
  {
   "cell_type": "code",
   "execution_count": null,
   "metadata": {},
   "outputs": [],
   "source": [
    "import splines"
   ]
  },
  {
   "cell_type": "markdown",
   "metadata": {},
   "source": [
    "... we also import a few helper functions from [helper.py](helper.py):"
   ]
  },
  {
   "cell_type": "code",
   "execution_count": null,
   "metadata": {},
   "outputs": [],
   "source": [
    "from helper import plot_spline_2d, plot_tangent_2d"
   ]
  },
  {
   "cell_type": "markdown",
   "metadata": {},
   "source": [
    "Let's choose a few points for an example:"
   ]
  },
  {
   "cell_type": "code",
   "execution_count": null,
   "metadata": {},
   "outputs": [],
   "source": [
    "points1 = [\n",
    "    (-1, -0.5),\n",
    "    (0, 2.3),\n",
    "    (1, 1),\n",
    "    (4, 1.3),\n",
    "    (3.8, -0.2),\n",
    "    (2.5, 0.1),\n",
    "]"
   ]
  },
  {
   "cell_type": "markdown",
   "metadata": {},
   "source": [
    "Without specifying any time values,\n",
    "we get a uniform spline:"
   ]
  },
  {
   "cell_type": "code",
   "execution_count": null,
   "metadata": {},
   "outputs": [],
   "source": [
    "s1 = splines.CatmullRom(points1, endconditions='closed')"
   ]
  },
  {
   "cell_type": "code",
   "execution_count": null,
   "metadata": {},
   "outputs": [],
   "source": [
    "fig, ax = plt.subplots()\n",
    "plot_spline_2d(s1, ax=ax)"
   ]
  },
  {
   "cell_type": "markdown",
   "metadata": {},
   "source": [
    "## Tangent Vectors\n",
    "\n",
    "In the uniform case,\n",
    "the tangent vectors at any given control point\n",
    "are parallel to the line connecting the preceding point and the following point.\n",
    "The tangent vector has the same orientation as that line\n",
    "but only half its length.\n",
    "In other (more mathematical) words:\n",
    "\n",
    "\\begin{equation*}\n",
    "\\boldsymbol{\\dot{x}}_i = \\frac{\\boldsymbol{x}_{i+1} - \\boldsymbol{x}_{i-1}}{2}\n",
    "\\end{equation*}\n",
    "\n",
    "This is illustrated for two control points in the following plot:"
   ]
  },
  {
   "cell_type": "code",
   "execution_count": null,
   "metadata": {},
   "outputs": [],
   "source": [
    "for idx, color in zip([2, 5], ['purple', 'hotpink']):\n",
    "    plot_tangent_2d(\n",
    "        s1.evaluate(s1.grid[idx], 1),\n",
    "        s1.evaluate(s1.grid[idx]), color=color, ax=ax)\n",
    "    ax.plot(\n",
    "        *s1.evaluate([s1.grid[idx - 1], s1.grid[idx + 1]]).T,\n",
    "        '--', color=color, linewidth=2)\n",
    "fig"
   ]
  },
  {
   "cell_type": "markdown",
   "metadata": {},
   "source": [
    "We can see here that each tangent vector is parallel to\n",
    "and has half the length of\n",
    "the line connecting the preceding and the following vertex,\n",
    "just as promised.\n",
    "\n",
    "However, this will not be true anymore\n",
    "if we are using non-uniform time instances:"
   ]
  },
  {
   "cell_type": "code",
   "execution_count": null,
   "metadata": {},
   "outputs": [],
   "source": [
    "times2 = 0, 1, 2.2, 3, 4, 4.5, 6"
   ]
  },
  {
   "cell_type": "code",
   "execution_count": null,
   "metadata": {},
   "outputs": [],
   "source": [
    "s2 = splines.CatmullRom(points1, grid=times2, endconditions='closed')"
   ]
  },
  {
   "cell_type": "code",
   "execution_count": null,
   "metadata": {},
   "outputs": [],
   "source": [
    "plot_spline_2d(s2, ax=ax)\n",
    "for idx, color in zip([2, 5], ['green', 'crimson']):\n",
    "    plot_tangent_2d(\n",
    "        s2.evaluate(s2.grid[idx], 1),\n",
    "        s2.evaluate(s2.grid[idx]), color=color, ax=ax)\n",
    "fig"
   ]
  },
  {
   "cell_type": "markdown",
   "metadata": {},
   "source": [
    "In the non-uniform case,\n",
    "the equation for the tangent vector gets quite a bit more complicated:\n",
    "\n",
    "\\begin{equation*}\n",
    "\\boldsymbol{\\dot{x}}_i =\n",
    "\\frac{\n",
    "(t_{i+1} - t_i)^2 (\\boldsymbol{x}_i - \\boldsymbol{x}_{i-1}) +\n",
    "(t_i - t_{i-1})^2 (\\boldsymbol{x}_{i+1} - \\boldsymbol{x}_i)\n",
    "}{\n",
    "(t_{i+1} - t_i)(t_i - t_{i-1})(t_{i+1} - t_{i-1})\n",
    "}\n",
    "\\end{equation*}"
   ]
  },
  {
   "cell_type": "markdown",
   "metadata": {},
   "source": [
    "The derivation of this equation is shown in\n",
    "[a separate notebook](catmull-rom-non-uniform.ipynb#Tangent-Vectors)."
   ]
  },
  {
   "cell_type": "markdown",
   "metadata": {},
   "source": [
    "Equivalently, this can be written as:\n",
    "\n",
    "\\begin{equation*}\n",
    "\\boldsymbol{\\dot{x}}_i =\n",
    "\\frac{\n",
    "(t_{i+1} - t_i) (\\boldsymbol{x}_i - \\boldsymbol{x}_{i-1})\n",
    "}{\n",
    "(t_i - t_{i-1})(t_{i+1} - t_{i-1})\n",
    "}\n",
    "+\n",
    "\\frac{\n",
    "(t_i - t_{i-1}) (\\boldsymbol{x}_{i+1} - \\boldsymbol{x}_i)\n",
    "}{\n",
    "(t_{i+1} - t_i)(t_{i+1} - t_{i-1})\n",
    "}\n",
    "\\end{equation*}"
   ]
  },
  {
   "cell_type": "markdown",
   "metadata": {},
   "source": [
    "Also equivalently,\n",
    "with\n",
    "$\\boldsymbol{v}_i = \\frac{\\boldsymbol{x}_{i+1} - \\boldsymbol{x}_i}{t_{i+1} - t_i}$,\n",
    "it can be written as:\n",
    "\n",
    "\\begin{equation*}\n",
    "\\boldsymbol{\\dot{x}}_i =\n",
    "\\frac{\n",
    "(t_{i+1} - t_i) \\boldsymbol{v}_{i-1} + (t_i - t_{i-1}) \\boldsymbol{v}_i\n",
    "}{\n",
    "(t_{i+1} - t_{i-1})\n",
    "}\n",
    "\\end{equation*}"
   ]
  },
  {
   "cell_type": "markdown",
   "metadata": {},
   "source": [
    "Some sources provide a simpler equation\n",
    "which is different from the tangent vector of a Catmull--Rom spline\n",
    "(except in the uniform case):\n",
    "\n",
    "\\begin{equation*}\n",
    "\\boldsymbol{\\dot{x}}_i\n",
    "\\overset{?}{=}\n",
    "\\frac{\\boldsymbol{v}_{i-1} + \\boldsymbol{v}_i}{2}\n",
    "=\n",
    "\\frac{1}{2} \\left(\n",
    "\\frac{\\boldsymbol{x}_i - \\boldsymbol{x}_{i-1}}{t_i - t_{i-1}} +\n",
    "\\frac{\\boldsymbol{x}_{i + 1} - \\boldsymbol{x}_i}{t_{i + 1} - t_i}\n",
    "\\right)\n",
    "\\end{equation*}"
   ]
  },
  {
   "cell_type": "markdown",
   "metadata": {},
   "source": [
    "There are even sources\n",
    "(e.g. [Wikipedia](https://en.wikipedia.org/wiki/Cubic_Hermite_spline#Catmull%E2%80%93Rom_spline))\n",
    "which show yet a simpler equation,\n",
    "which has even less to do with Catmull--Rom splines\n",
    "(except in the uniform case):\n",
    "\n",
    "\\begin{equation*}\n",
    "\\boldsymbol{\\dot{x}}_i \\overset{?}{=} \\frac{\\boldsymbol{x}_{i + 1} - \\boldsymbol{x}_{i - 1}}{t_{i + 1} - t_{i - 1}}\n",
    "\\end{equation*}"
   ]
  },
  {
   "cell_type": "markdown",
   "metadata": {},
   "source": [
    "## Cusps and Self-Intersections\n",
    "\n",
    "Uniform parametrization typically works very well\n",
    "if the (Euclidean) distances between consecutive vertices are all similar.\n",
    "However, if the distances are very different,\n",
    "the shape of the spline often turns out to be unexpected.\n",
    "Most notably,\n",
    "in extreme cases there might be even cusps or self-intersections\n",
    "within a spline segment."
   ]
  },
  {
   "cell_type": "code",
   "execution_count": null,
   "metadata": {},
   "outputs": [],
   "source": [
    "def plot_catmull_rom(*args, **kwargs):\n",
    "    plot_spline_2d(splines.CatmullRom(*args, endconditions='closed', **kwargs))"
   ]
  },
  {
   "cell_type": "code",
   "execution_count": null,
   "metadata": {},
   "outputs": [],
   "source": [
    "points3 = [\n",
    "    (0, 0),\n",
    "    (0, 0.5),\n",
    "    (1.5, 1.5),\n",
    "    (1.6, 1.5),\n",
    "    (3, 0.2),\n",
    "    (3, 0),\n",
    "]"
   ]
  },
  {
   "cell_type": "code",
   "execution_count": null,
   "metadata": {},
   "outputs": [],
   "source": [
    "plot_catmull_rom(points3)"
   ]
  },
  {
   "cell_type": "markdown",
   "metadata": {},
   "source": [
    "We can try to compensate this\n",
    "by manually selecting some non-uniform time instances:"
   ]
  },
  {
   "cell_type": "code",
   "execution_count": null,
   "metadata": {},
   "outputs": [],
   "source": [
    "times3 = 0, 0.2, 0.9, 1, 3, 3.3, 4.5"
   ]
  },
  {
   "cell_type": "code",
   "execution_count": null,
   "metadata": {},
   "outputs": [],
   "source": [
    "plot_catmull_rom(points3, times3)"
   ]
  },
  {
   "cell_type": "markdown",
   "metadata": {},
   "source": [
    "Time values can be chosen by trial and error,\n",
    "but there are also ways to choose the time values automatically,\n",
    "as shown in the following sections."
   ]
  },
  {
   "cell_type": "markdown",
   "metadata": {},
   "source": [
    "## Chordal Parameterization\n",
    "\n",
    "One way to go about this is to measure the (Euclidean) distances\n",
    "between consecutive vertices (i.e. the \"chordal lengths\")\n",
    "and simply use those distances as time intervals:"
   ]
  },
  {
   "cell_type": "code",
   "execution_count": null,
   "metadata": {},
   "outputs": [],
   "source": [
    "distances = np.linalg.norm(np.diff(points3 + points3[:1], axis=0), axis=1)\n",
    "distances"
   ]
  },
  {
   "cell_type": "code",
   "execution_count": null,
   "metadata": {},
   "outputs": [],
   "source": [
    "times4 = np.concatenate([[0], np.cumsum(distances)])\n",
    "times4"
   ]
  },
  {
   "cell_type": "code",
   "execution_count": null,
   "metadata": {},
   "outputs": [],
   "source": [
    "plot_catmull_rom(points3, times4)"
   ]
  },
  {
   "cell_type": "markdown",
   "metadata": {},
   "source": [
    "This makes the speed along the spline nearly constant,\n",
    "but the distance between the curve and its longer chords\n",
    "can become quite huge."
   ]
  },
  {
   "cell_type": "markdown",
   "metadata": {},
   "source": [
    "## Centripetal Parameterization\n",
    "\n",
    "As a variation of the previous method,\n",
    "the square roots of the chordal lengths\n",
    "can be used to define the time intervals."
   ]
  },
  {
   "cell_type": "code",
   "execution_count": null,
   "metadata": {},
   "outputs": [],
   "source": [
    "times5 = np.concatenate([[0], np.cumsum(np.sqrt(distances))])\n",
    "times5"
   ]
  },
  {
   "cell_type": "code",
   "execution_count": null,
   "metadata": {},
   "outputs": [],
   "source": [
    "plot_catmull_rom(points3, times5)"
   ]
  },
  {
   "cell_type": "markdown",
   "metadata": {},
   "source": [
    "The curve takes its course much closer to the chords,\n",
    "but its speed is obviously far from constant.\n",
    "\n",
    "Centripetal parameterization has the very nice property that\n",
    "it guarantees no cusps and no self-intersections,\n",
    "as shown by \n",
    "<cite data-cite=\"yuksel2011parameterization\">Yuksel et al. (2011)</cite>.\n",
    "The curve is also guaranteed to never \"move away\" from the successive vertex:"
   ]
  },
  {
   "cell_type": "markdown",
   "metadata": {},
   "source": [
    "> When centripetal parameterization is used with Catmull--Rom splines to\n",
    "define a path curve, the direction of motion for the object following this path\n",
    "will always be towards the next key-frame position.\n",
    ">\n",
    "> ---<cite data-cite=\"yuksel2011parameterization\">Yuksel et al. (2011)</cite>, Section 7.2: \"Path Curves\""
   ]
  },
  {
   "cell_type": "markdown",
   "metadata": {},
   "source": [
    "## Parameterized Parameterization\n",
    "\n",
    "It turns out that the previous two parameterization schemes\n",
    "are just two special cases of a more general scheme\n",
    "for obtaining time intervals between control points:\n",
    "\n",
    "\\begin{equation*}\n",
    "t_{i+1} = t_i + |\\boldsymbol{x}_{i+1} - \\boldsymbol{x}_i|^\\alpha,\n",
    "\\text{ with } 0 \\le \\alpha \\le 1.\n",
    "\\end{equation*}\n",
    "\n",
    "In the Python class\n",
    "[splines.CatmullRom](../python-module/splines.rst#splines.CatmullRom),\n",
    "the parameter `alpha` can be specified."
   ]
  },
  {
   "cell_type": "code",
   "execution_count": null,
   "metadata": {},
   "outputs": [],
   "source": [
    "def plot_alpha(alpha, label):\n",
    "    s = splines.CatmullRom(points3, alpha=alpha, endconditions='closed')\n",
    "    plot_spline_2d(s, label=label)"
   ]
  },
  {
   "cell_type": "code",
   "execution_count": null,
   "metadata": {},
   "outputs": [],
   "source": [
    "plot_alpha(0, r'$\\alpha = 0$ (uniform)')\n",
    "plot_alpha(0.5, r'$\\alpha = 0.5$ (centripetal)')\n",
    "plot_alpha(0.75, r'$\\alpha = 0.75$')\n",
    "plot_alpha(1, r'$\\alpha = 1$ (chordal)')\n",
    "plt.legend(loc='center', numpoints=3);"
   ]
  },
  {
   "cell_type": "markdown",
   "metadata": {},
   "source": [
    "As can be seen here (and as\n",
    "<cite data-cite=\"yuksel2011parameterization\">Yuksel et al. (2011)</cite>\n",
    "shows to be generally true),\n",
    "the uniform curve is farthest away from short chords\n",
    "and closest to long chords.\n",
    "The chordal curve behaves contrarily:\n",
    "closest to short chords and awkwardly far from long chords.\n",
    "The centripetal curve is closer to the uniform curve for long chords\n",
    "and closer to the chordal curve for short chords,\n",
    "providing a very good compromise.\n",
    "\n",
    "Any value between $0$ and $1$ can be chosen for $\\alpha$,\n",
    "but $\\alpha = \\frac{1}{2}$ (i.e. centripetal parameterization)\n",
    "stands out because it is the only one of them that guarantees\n",
    "no cusps and self-intersections:"
   ]
  },
  {
   "cell_type": "markdown",
   "metadata": {},
   "source": [
    "> In this paper\n",
    "we prove that, for cubic Catmull--Rom curves, centripetal parameterization\n",
    "is the only parameterization in this family that guarantees that the curves\n",
    "do not form cusps or self-intersections within curve segments.\n",
    ">\n",
    "> ---<cite data-cite=\"yuksel2011parameterization\">Yuksel et al. (2011)</cite>, abstract"
   ]
  },
  {
   "cell_type": "markdown",
   "metadata": {},
   "source": [
    "> [...] we mathematically prove that\n",
    "centripetal parameterization of Catmull--Rom curves\n",
    "guarantees that the curve segments cannot form cusps or local self-intersections,\n",
    "while such undesired features can be formed\n",
    "with all other possible parameterizations within this class.\n",
    ">\n",
    "> ---<cite data-cite=\"yuksel2011parameterization\">Yuksel et al. (2011)</cite>, Section 1: \"Introduction\""
   ]
  },
  {
   "cell_type": "markdown",
   "metadata": {},
   "source": [
    "> Cusps and self-intersections are very common with Catmull--Rom curves\n",
    "for most parameterization choices. In fact, as we will show here,\n",
    "the only parameterization choice that guarantees\n",
    "no cusps and self-intersections within\n",
    "curve segments is centripetal parameterization.\n",
    ">\n",
    "> ---<cite data-cite=\"yuksel2011parameterization\">Yuksel et al. (2011)</cite>, Section 3: \"Cusps and Self-Intersections\""
   ]
  }
 ],
 "metadata": {
  "kernelspec": {
   "display_name": "Python 3",
   "language": "python",
   "name": "python3"
  },
  "language_info": {
   "codemirror_mode": {
    "name": "ipython",
    "version": 3
   },
   "file_extension": ".py",
   "mimetype": "text/x-python",
   "name": "python",
   "nbconvert_exporter": "python",
   "pygments_lexer": "ipython3",
   "version": "3.9.9"
  }
 },
 "nbformat": 4,
 "nbformat_minor": 4
}
