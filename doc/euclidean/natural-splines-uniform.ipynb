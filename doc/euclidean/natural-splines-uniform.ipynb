{
 "cells": [
  {
   "cell_type": "markdown",
   "metadata": {
    "nbsphinx": "hidden"
   },
   "source": [
    "This notebook is part of https://github.com/AudioSceneDescriptionFormat/splines, see also https://splines.readthedocs.io/.\n",
    "\n",
    "[back to overview](natural-splines.ipynb)"
   ]
  },
  {
   "cell_type": "markdown",
   "metadata": {},
   "source": [
    "# Uniform Natural Splines\n",
    "\n",
    "[non-uniform](natural-splines-non-uniform.ipynb)"
   ]
  },
  {
   "cell_type": "code",
   "execution_count": null,
   "metadata": {},
   "outputs": [],
   "source": [
    "import sympy as sp\n",
    "sp.init_printing(order='rev-lex')"
   ]
  },
  {
   "cell_type": "code",
   "execution_count": null,
   "metadata": {},
   "outputs": [],
   "source": [
    "t = sp.symbols('t')"
   ]
  },
  {
   "cell_type": "code",
   "execution_count": null,
   "metadata": {},
   "outputs": [],
   "source": [
    "a4, a5, b4, b5, c4, c5, d4, d5 = sp.symbols('a:dbm4:6')"
   ]
  },
  {
   "cell_type": "code",
   "execution_count": null,
   "metadata": {},
   "outputs": [],
   "source": [
    "p4 = d4 * t**3 + c4 * t**2 + b4 * t + a4\n",
    "p4"
   ]
  },
  {
   "cell_type": "code",
   "execution_count": null,
   "metadata": {},
   "outputs": [],
   "source": [
    "p5 = d5 * t**3 + c5 * t**2 + b5 * t + a5\n",
    "p5"
   ]
  },
  {
   "cell_type": "code",
   "execution_count": null,
   "metadata": {},
   "outputs": [],
   "source": [
    "pd4 = p4.diff(t)\n",
    "pd5 = p5.diff(t)"
   ]
  },
  {
   "cell_type": "code",
   "execution_count": null,
   "metadata": {},
   "outputs": [],
   "source": [
    "x4, x5, x6 = sp.symbols('xbm4:7')"
   ]
  },
  {
   "cell_type": "code",
   "execution_count": null,
   "metadata": {},
   "outputs": [],
   "source": [
    "xd4, xd5, xd6 = sp.symbols('xbmdot4:7')"
   ]
  },
  {
   "cell_type": "code",
   "execution_count": null,
   "metadata": {},
   "outputs": [],
   "source": [
    "equations = [\n",
    "    sp.Eq(p4.subs(t, 0), x4),\n",
    "    sp.Eq(p4.subs(t, 1), x5),\n",
    "    sp.Eq(p5.subs(t, 0), x5),\n",
    "    sp.Eq(p5.subs(t, 1), x6),\n",
    "    sp.Eq(pd4.subs(t, 0), xd4),\n",
    "    sp.Eq(pd4.subs(t, 1), xd5),\n",
    "    sp.Eq(pd5.subs(t, 0), xd5),\n",
    "    sp.Eq(pd5.subs(t, 1), xd6),\n",
    "]\n",
    "sp.Matrix(equations)"
   ]
  },
  {
   "cell_type": "code",
   "execution_count": null,
   "metadata": {},
   "outputs": [],
   "source": [
    "coefficients = sp.solve(equations, [a4, a5, b4, b5, c4, c5, d4, d5])\n",
    "coefficients"
   ]
  },
  {
   "cell_type": "markdown",
   "metadata": {},
   "source": [
    "NB: these are the same constants as in $M_H$!"
   ]
  },
  {
   "cell_type": "code",
   "execution_count": null,
   "metadata": {},
   "outputs": [],
   "source": [
    "pdd4 = pd4.diff(t)\n",
    "pdd5 = pd5.diff(t)"
   ]
  },
  {
   "cell_type": "code",
   "execution_count": null,
   "metadata": {},
   "outputs": [],
   "source": [
    "sp.Eq(pdd4.subs(t, 1), pdd5.subs(t, 0))"
   ]
  },
  {
   "cell_type": "code",
   "execution_count": null,
   "metadata": {},
   "outputs": [],
   "source": [
    "_.subs(coefficients).simplify()"
   ]
  },
  {
   "cell_type": "markdown",
   "metadata": {},
   "source": [
    "\\begin{equation*}\n",
    "\\dot{\\boldsymbol{x}}_{i-1}\n",
    "+\n",
    "4 \\dot{\\boldsymbol{x}}_{i}\n",
    "+\n",
    "\\dot{\\boldsymbol{x}}_{i+1}\n",
    "=\n",
    "3 (\\boldsymbol{x}_{i+1} - \\boldsymbol{x}_{i-1})\n",
    "\\end{equation*}"
   ]
  },
  {
   "cell_type": "markdown",
   "metadata": {},
   "source": [
    "\\begin{equation*}\n",
    "\\left[\n",
    "\\begin{matrix}\n",
    "1 & 4 & 1 && \\cdots & 0 \\\\\n",
    "& 1 & 4 & 1 && \\vdots \\\\\n",
    "&& \\ddots & \\ddots && \\\\\n",
    "\\vdots && 1 & 4 & 1 & \\\\\n",
    "0 & \\cdots && 1 & 4 & 1\n",
    "\\end{matrix}\n",
    "\\right]\n",
    "\\left[\n",
    "\\begin{matrix}\n",
    "\\dot{\\boldsymbol{x}}_0\\\\\n",
    "\\dot{\\boldsymbol{x}}_1\\\\\n",
    "\\vdots\\\\\n",
    "\\dot{\\boldsymbol{x}}_{N-2}\\\\\n",
    "\\dot{\\boldsymbol{x}}_{N-1}\n",
    "\\end{matrix}\n",
    "\\right]\n",
    "=\n",
    "\\left[\n",
    "\\begin{matrix}\n",
    "3 (\\boldsymbol{x}_2 - \\boldsymbol{x}_0)\\\\\n",
    "3 (\\boldsymbol{x}_3 - \\boldsymbol{x}_1)\\\\\n",
    "\\vdots\\\\\n",
    "3 (\\boldsymbol{x}_{N-2} - \\boldsymbol{x}_{N-4})\\\\\n",
    "3 (\\boldsymbol{x}_{N-1} - \\boldsymbol{x}_{N-3})\n",
    "\\end{matrix}\n",
    "\\right]\n",
    "\\end{equation*}"
   ]
  },
  {
   "cell_type": "markdown",
   "metadata": {},
   "source": [
    "$N$ columns, $N-2$ rows"
   ]
  },
  {
   "cell_type": "markdown",
   "metadata": {},
   "source": [
    "## End Conditions\n",
    "\n",
    "add first and last row\n",
    "\n",
    "end conditions can be mixed,\n",
    "e.g. \"clamped\" at the beginning and \"natural\" at the end."
   ]
  },
  {
   "cell_type": "markdown",
   "metadata": {},
   "source": [
    "### Natural"
   ]
  },
  {
   "cell_type": "markdown",
   "metadata": {},
   "source": [
    "natural (a.k.a. \"relaxed\"?)"
   ]
  },
  {
   "cell_type": "code",
   "execution_count": null,
   "metadata": {},
   "outputs": [],
   "source": [
    "a0, b0, c0, d0 = sp.symbols('a:dbm0')"
   ]
  },
  {
   "cell_type": "code",
   "execution_count": null,
   "metadata": {},
   "outputs": [],
   "source": [
    "p0 = d0 * t**3 + c0 * t**2 + b0 * t + a0\n",
    "p0"
   ]
  },
  {
   "cell_type": "code",
   "execution_count": null,
   "metadata": {},
   "outputs": [],
   "source": [
    "pd0 = p0.diff(t)"
   ]
  },
  {
   "cell_type": "code",
   "execution_count": null,
   "metadata": {},
   "outputs": [],
   "source": [
    "x0, x1 = sp.symbols('xbm0:2')"
   ]
  },
  {
   "cell_type": "code",
   "execution_count": null,
   "metadata": {},
   "outputs": [],
   "source": [
    "xd0, xd1 = sp.symbols('xbmdot0:2')"
   ]
  },
  {
   "cell_type": "code",
   "execution_count": null,
   "metadata": {},
   "outputs": [],
   "source": [
    "equations_begin = [\n",
    "    sp.Eq(p0.subs(t, 0), x0),\n",
    "    sp.Eq(p0.subs(t, 1), x1),\n",
    "    sp.Eq(pd0.subs(t, 0), xd0),\n",
    "    sp.Eq(pd0.subs(t, 1), xd1),\n",
    "]\n",
    "sp.Matrix(equations_begin)"
   ]
  },
  {
   "cell_type": "code",
   "execution_count": null,
   "metadata": {},
   "outputs": [],
   "source": [
    "coefficients_begin = sp.solve(equations_begin, [a0, b0, c0, d0])\n",
    "coefficients_begin"
   ]
  },
  {
   "cell_type": "code",
   "execution_count": null,
   "metadata": {},
   "outputs": [],
   "source": [
    "pdd0 = pd0.diff(t)"
   ]
  },
  {
   "cell_type": "code",
   "execution_count": null,
   "metadata": {},
   "outputs": [],
   "source": [
    "sp.Eq(pdd0.subs(t, 0), 0)"
   ]
  },
  {
   "cell_type": "code",
   "execution_count": null,
   "metadata": {},
   "outputs": [],
   "source": [
    "_.subs(coefficients_begin).simplify()"
   ]
  },
  {
   "cell_type": "markdown",
   "metadata": {},
   "source": [
    "\\begin{equation*}\n",
    "2 \\dot{\\boldsymbol{x}}_0\n",
    "+\n",
    "\\dot{\\boldsymbol{x}}_1\n",
    "=\n",
    "3 (\\boldsymbol{x}_1 - \\boldsymbol{x}_0)\n",
    "\\end{equation*}"
   ]
  },
  {
   "cell_type": "markdown",
   "metadata": {},
   "source": [
    "This will be used as the first matrix row,\n",
    "see below for details."
   ]
  },
  {
   "cell_type": "code",
   "execution_count": null,
   "metadata": {},
   "outputs": [],
   "source": [
    "a8, b8, c8, d8 = sp.symbols('a:dbm8')"
   ]
  },
  {
   "cell_type": "code",
   "execution_count": null,
   "metadata": {},
   "outputs": [],
   "source": [
    "p8 = d8 * t**3 + c8 * t**2 + b8 * t + a8\n",
    "p8"
   ]
  },
  {
   "cell_type": "code",
   "execution_count": null,
   "metadata": {},
   "outputs": [],
   "source": [
    "pd8 = p8.diff(t)"
   ]
  },
  {
   "cell_type": "code",
   "execution_count": null,
   "metadata": {},
   "outputs": [],
   "source": [
    "x8, x9 = sp.symbols('xbm8:10')"
   ]
  },
  {
   "cell_type": "code",
   "execution_count": null,
   "metadata": {},
   "outputs": [],
   "source": [
    "xd8, xd9 = sp.symbols('xbmdot8:10')"
   ]
  },
  {
   "cell_type": "code",
   "execution_count": null,
   "metadata": {},
   "outputs": [],
   "source": [
    "equations_end = [\n",
    "    sp.Eq(p8.subs(t, 0), x8),\n",
    "    sp.Eq(p8.subs(t, 1), x9),\n",
    "    sp.Eq(pd8.subs(t, 0), xd8),\n",
    "    sp.Eq(pd8.subs(t, 1), xd9),\n",
    "]\n",
    "sp.Matrix(equations_end)"
   ]
  },
  {
   "cell_type": "code",
   "execution_count": null,
   "metadata": {},
   "outputs": [],
   "source": [
    "coefficients_end = sp.solve(equations_end, [a8, b8, c8, d8])\n",
    "coefficients_end"
   ]
  },
  {
   "cell_type": "code",
   "execution_count": null,
   "metadata": {},
   "outputs": [],
   "source": [
    "pdd8 = pd8.diff(t)"
   ]
  },
  {
   "cell_type": "code",
   "execution_count": null,
   "metadata": {},
   "outputs": [],
   "source": [
    "sp.Eq(pdd8.subs(t, 1), 0)"
   ]
  },
  {
   "cell_type": "code",
   "execution_count": null,
   "metadata": {},
   "outputs": [],
   "source": [
    "_.subs(coefficients_end).simplify()"
   ]
  },
  {
   "cell_type": "markdown",
   "metadata": {},
   "source": [
    "\\begin{equation*}\n",
    "\\dot{\\boldsymbol{x}}_{N-2}\n",
    "+\n",
    "2 \\dot{\\boldsymbol{x}}_{N-1}\n",
    "=\n",
    "3 (\\boldsymbol{x}_{N-1} - \\boldsymbol{x}_{N-2})\n",
    "\\end{equation*}"
   ]
  },
  {
   "cell_type": "markdown",
   "metadata": {},
   "source": [
    "\\begin{equation*}\n",
    "\\left[\n",
    "\\begin{matrix}\n",
    "2 & 1 &&& \\cdots & 0\\\\\n",
    "1 & 4 & 1 &&& \\vdots \\\\\n",
    "& 1 & 4 & 1 && \\\\\n",
    "&& \\ddots & \\ddots && \\\\\n",
    "&& 1 & 4 & 1 & \\\\\n",
    "\\vdots &&& 1 & 4 & 1\\\\\n",
    "0 & \\cdots &&& 1 & 2\n",
    "\\end{matrix}\n",
    "\\right]\n",
    "\\left[\n",
    "\\begin{matrix}\n",
    "\\dot{\\boldsymbol{x}}_0\\\\\n",
    "\\dot{\\boldsymbol{x}}_1\\\\\n",
    "\\vdots\\\\\n",
    "\\dot{\\boldsymbol{x}}_{N-2}\\\\\n",
    "\\dot{\\boldsymbol{x}}_{N-1}\n",
    "\\end{matrix}\n",
    "\\right]\n",
    "=\n",
    "\\left[\n",
    "\\begin{matrix}\n",
    "3 (\\boldsymbol{x}_1 - \\boldsymbol{x}_0)\\\\\n",
    "3 (\\boldsymbol{x}_2 - \\boldsymbol{x}_0)\\\\\n",
    "3 (\\boldsymbol{x}_3 - \\boldsymbol{x}_1)\\\\\n",
    "\\vdots\\\\\n",
    "3 (\\boldsymbol{x}_{N-2} - \\boldsymbol{x}_{N-4})\\\\\n",
    "3 (\\boldsymbol{x}_{N-1} - \\boldsymbol{x}_{N-3})\\\\\n",
    "3 (\\boldsymbol{x}_{N-1} - \\boldsymbol{x}_{N-2})\n",
    "\\end{matrix}\n",
    "\\right]\n",
    "\\end{equation*}"
   ]
  },
  {
   "cell_type": "markdown",
   "metadata": {},
   "source": [
    "### Clamped\n",
    "\n",
    "clamped (end tangents are given)"
   ]
  },
  {
   "cell_type": "markdown",
   "metadata": {},
   "source": [
    "\\begin{align*}\n",
    "\\dot{\\boldsymbol{x}}_0 &= D_\\text{begin}\\\\\n",
    "\\dot{\\boldsymbol{x}}_{N-1} &= D_\\text{end}\n",
    "\\end{align*}"
   ]
  },
  {
   "cell_type": "markdown",
   "metadata": {},
   "source": [
    "\\begin{equation*}\n",
    "\\left[\n",
    "\\begin{matrix}\n",
    "1 &&&& \\cdots & 0\\\\\n",
    "1 & 4 & 1 &&& \\vdots \\\\\n",
    "& 1 & 4 & 1 && \\\\\n",
    "&& \\ddots & \\ddots && \\\\\n",
    "&& 1 & 4 & 1 & \\\\\n",
    "\\vdots &&& 1 & 4 & 1\\\\\n",
    "0 & \\cdots &&&& 1\n",
    "\\end{matrix}\n",
    "\\right]\n",
    "\\left[\n",
    "\\begin{matrix}\n",
    "\\dot{\\boldsymbol{x}}_0\\\\\n",
    "\\dot{\\boldsymbol{x}}_1\\\\\n",
    "\\vdots\\\\\n",
    "\\dot{\\boldsymbol{x}}_{N-2}\\\\\n",
    "\\dot{\\boldsymbol{x}}_{N-1}\n",
    "\\end{matrix}\n",
    "\\right]\n",
    "=\n",
    "\\left[\n",
    "\\begin{matrix}\n",
    "D_\\text{begin}\\\\\n",
    "3 (\\boldsymbol{x}_2 - \\boldsymbol{x}_0)\\\\\n",
    "3 (\\boldsymbol{x}_3 - \\boldsymbol{x}_1)\\\\\n",
    "\\vdots\\\\\n",
    "3 (\\boldsymbol{x}_{N-2} - \\boldsymbol{x}_{N-4})\\\\\n",
    "3 (\\boldsymbol{x}_{N-1} - \\boldsymbol{x}_{N-3})\\\\\n",
    "D_\\text{begin}\n",
    "\\end{matrix}\n",
    "\\right]\n",
    "\\end{equation*}"
   ]
  },
  {
   "cell_type": "markdown",
   "metadata": {},
   "source": [
    "### Closed"
   ]
  },
  {
   "cell_type": "markdown",
   "metadata": {},
   "source": [
    "\\begin{equation*}\n",
    "\\left[\n",
    "\\begin{matrix}\n",
    "4 & 1 && \\cdots & 0 & 1\\\\\n",
    "1 & 4 & 1 && 0 & 0 \\\\\n",
    "& 1 & 4 & 1 && \\vdots \\\\\n",
    "&& \\ddots & \\ddots && \\\\\n",
    "\\vdots && 1 & 4 & 1 & \\\\\n",
    "0 & 0 && 1 & 4 & 1\\\\\n",
    "1 & 0 & \\cdots && 1 & 4\n",
    "\\end{matrix}\n",
    "\\right]\n",
    "\\left[\n",
    "\\begin{matrix}\n",
    "\\dot{\\boldsymbol{x}}_0\\\\\n",
    "\\dot{\\boldsymbol{x}}_1\\\\\n",
    "\\vdots\\\\\n",
    "\\dot{\\boldsymbol{x}}_{N-2}\\\\\n",
    "\\dot{\\boldsymbol{x}}_{N-1}\n",
    "\\end{matrix}\n",
    "\\right]\n",
    "=\n",
    "\\left[\n",
    "\\begin{matrix}\n",
    "3 (\\boldsymbol{x}_1 - \\boldsymbol{x}_{N-1})\\\\\n",
    "3 (\\boldsymbol{x}_2 - \\boldsymbol{x}_0)\\\\\n",
    "3 (\\boldsymbol{x}_3 - \\boldsymbol{x}_1)\\\\\n",
    "\\vdots\\\\\n",
    "3 (\\boldsymbol{x}_{N-2} - \\boldsymbol{x}_{N-4})\\\\\n",
    "3 (\\boldsymbol{x}_{N-1} - \\boldsymbol{x}_{N-3})\\\\\n",
    "3 (\\boldsymbol{x}_{0} - \\boldsymbol{x}_{N-2})\n",
    "\\end{matrix}\n",
    "\\right]\n",
    "\\end{equation*}"
   ]
  },
  {
   "cell_type": "markdown",
   "metadata": {},
   "source": [
    "## Solving the System of Equations"
   ]
  },
  {
   "cell_type": "markdown",
   "metadata": {},
   "source": [
    "tridiagonal matrix algorithm\n",
    "\n",
    "https://en.wikipedia.org/wiki/Tridiagonal_matrix_algorithm\n",
    "\n",
    "[https://www.cfd-online.com/Wiki/Tridiagonal_matrix_algorithm](https://www.cfd-online.com/Wiki/Tridiagonal_matrix_algorithm_-_TDMA_(Thomas_algorithm))\n",
    "\n",
    "https://gist.github.com/cbellei/8ab3ab8551b8dfc8b081c518ccd9ada9\n",
    "\n",
    "https://gist.github.com/TheoChristiaanse/d168b7e57dd30342a81aa1dc4eb3e469"
   ]
  },
  {
   "cell_type": "code",
   "execution_count": null,
   "metadata": {},
   "outputs": [],
   "source": []
  }
 ],
 "metadata": {
  "kernelspec": {
   "display_name": "Python 3",
   "language": "python",
   "name": "python3"
  },
  "language_info": {
   "codemirror_mode": {
    "name": "ipython",
    "version": 3
   },
   "file_extension": ".py",
   "mimetype": "text/x-python",
   "name": "python",
   "nbconvert_exporter": "python",
   "pygments_lexer": "ipython3",
   "version": "3.9.1"
  }
 },
 "nbformat": 4,
 "nbformat_minor": 4
}
