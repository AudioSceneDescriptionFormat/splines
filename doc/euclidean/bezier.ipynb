{
 "cells": [
  {
   "cell_type": "markdown",
   "metadata": {
    "nbsphinx": "hidden"
   },
   "source": [
    "This notebook is part of https://github.com/AudioSceneDescriptionFormat/splines, see also https://splines.readthedocs.io/.\n",
    "\n",
    "[back to Euclidean splines](index.ipynb)"
   ]
  },
  {
   "cell_type": "markdown",
   "metadata": {},
   "source": [
    "# Bézier Splines\n",
    "\n",
    "Named after [Pierre Bézier](https://en.wikipedia.org/wiki/Pierre_Bézier),\n",
    "Bézier curves are defined by means of\n",
    "[Bernstein polynomials](https://en.wikipedia.org/wiki/Bernstein_polynomial)\n",
    "<cite data-cite=\"farouki2012bernstein\">(Farouki, 2012)</cite>,\n",
    "which are named after\n",
    "[Sergei Bernstein](https://en.wikipedia.org/wiki/Sergei_Bernstein).\n",
    "A popular method to evaluate Bézier curves at given parameter values\n",
    "is [De Casteljau's algorithm](bezier-de-casteljau.ipynb).\n",
    "A very good online resource with many interactive examples is\n",
    "the website https://pomax.github.io/bezierinfo/.\n",
    "\n",
    "Bézier *splines* are composed of Bézier *curve* segments.\n",
    "\n",
    "A Python implementation is available in the class\n",
    "[splines.Bernstein](../python-module/splines.rst#splines.Bernstein)."
   ]
  },
  {
   "cell_type": "markdown",
   "metadata": {
    "nbsphinx-toctree": {
     "maxdepth": 2
    }
   },
   "source": [
    "* [Properties](bezier-properties.ipynb)\n",
    "* [De Casteljau's Algorithm](bezier-de-casteljau.ipynb)\n",
    "* [Non-Uniform (Cubic) Bézier Splines](bezier-non-uniform.ipynb)"
   ]
  }
 ],
 "metadata": {
  "kernelspec": {
   "display_name": "Python 3 (ipykernel)",
   "language": "python",
   "name": "python3"
  },
  "language_info": {
   "codemirror_mode": {
    "name": "ipython",
    "version": 3
   },
   "file_extension": ".py",
   "mimetype": "text/x-python",
   "name": "python",
   "nbconvert_exporter": "python",
   "pygments_lexer": "ipython3",
   "version": "3.11.2"
  }
 },
 "nbformat": 4,
 "nbformat_minor": 4
}
