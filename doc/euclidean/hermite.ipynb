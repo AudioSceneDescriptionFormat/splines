{
 "cells": [
  {
   "cell_type": "markdown",
   "metadata": {
    "nbsphinx": "hidden"
   },
   "source": [
    "This notebook is part of https://github.com/AudioSceneDescriptionFormat/splines, see also https://splines.readthedocs.io/.\n",
    "\n",
    "[back to Euclidean splines](index.ipynb)"
   ]
  },
  {
   "cell_type": "markdown",
   "metadata": {},
   "source": [
    "# Hermite Splines\n",
    "\n",
    "[Hermite splines](https://en.wikipedia.org/wiki/Cubic_Hermite_spline)\n",
    "(named after\n",
    "[Charles Hermite](https://en.wikipedia.org/wiki/Charles_Hermite))\n",
    "are the building blocks for many other types of interpolating polynomial splines,\n",
    "for example\n",
    "[natural splines](natural.ipynb) and\n",
    "[Catmull--Rom splines](catmull-rom.ipynb).\n",
    "\n",
    "A Python implementation of (cubic) Hermite splines is available in the\n",
    "[splines.CubicHermite](../python-module/splines.rst#splines.CubicHermite)\n",
    "class."
   ]
  },
  {
   "cell_type": "markdown",
   "metadata": {
    "nbsphinx-toctree": {
     "maxdepth": 2
    }
   },
   "source": [
    "* [Properties](hermite-properties.ipynb)\n",
    "* [Derivation (Uniform)](hermite-uniform.ipynb)\n",
    "* [Derivation (Non-Uniform)](hermite-non-uniform.ipynb)"
   ]
  }
 ],
 "metadata": {
  "kernelspec": {
   "display_name": "Python 3",
   "language": "python",
   "name": "python3"
  },
  "language_info": {
   "codemirror_mode": {
    "name": "ipython",
    "version": 3
   },
   "file_extension": ".py",
   "mimetype": "text/x-python",
   "name": "python",
   "nbconvert_exporter": "python",
   "pygments_lexer": "ipython3",
   "version": "3.9.1+"
  }
 },
 "nbformat": 4,
 "nbformat_minor": 4
}
