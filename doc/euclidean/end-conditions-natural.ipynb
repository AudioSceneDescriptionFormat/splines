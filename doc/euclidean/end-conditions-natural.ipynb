{
 "cells": [
  {
   "cell_type": "markdown",
   "metadata": {
    "nbsphinx": "hidden"
   },
   "source": [
    "This notebook is part of https://github.com/AudioSceneDescriptionFormat/splines, see also https://splines.readthedocs.io/.\n",
    "\n",
    "[back to overview](end-conditions.ipynb)"
   ]
  },
  {
   "cell_type": "markdown",
   "metadata": {},
   "source": [
    "# Natural End Conditions\n",
    "\n",
    "For the first and last segment, we assume that the inner tangent is known.\n",
    "We try to find the outer tangent by setting the second derivative to $0$.\n",
    "\n",
    "We are looking only at the non-uniform case here,\n",
    "it's easy to get to the uniform case by setting $\\Delta_i = 1$."
   ]
  },
  {
   "cell_type": "markdown",
   "metadata": {},
   "source": [
    "natural (a.k.a. \"relaxed\"?)"
   ]
  },
  {
   "cell_type": "code",
   "execution_count": null,
   "metadata": {},
   "outputs": [],
   "source": [
    "import sympy as sp\n",
    "sp.init_printing(order='rev-lex')"
   ]
  },
  {
   "cell_type": "markdown",
   "metadata": {},
   "source": [
    "[utility.py](utility.py)"
   ]
  },
  {
   "cell_type": "code",
   "execution_count": null,
   "metadata": {},
   "outputs": [],
   "source": [
    "from utility import NamedExpression"
   ]
  },
  {
   "cell_type": "code",
   "execution_count": null,
   "metadata": {},
   "outputs": [],
   "source": [
    "t = sp.symbols('t')"
   ]
  },
  {
   "cell_type": "markdown",
   "metadata": {},
   "source": [
    "## Begin\n",
    "\n",
    "first polynomial segment: $\\boldsymbol{p}_0(t)$, $t \\in [t_0, t_1]$"
   ]
  },
  {
   "cell_type": "code",
   "execution_count": null,
   "metadata": {},
   "outputs": [],
   "source": [
    "t0, t1 = sp.symbols('t:2')"
   ]
  },
  {
   "cell_type": "code",
   "execution_count": null,
   "metadata": {},
   "outputs": [],
   "source": [
    "a0, b0, c0, d0 = sp.symbols('a:dbm0')"
   ]
  },
  {
   "cell_type": "code",
   "execution_count": null,
   "metadata": {},
   "outputs": [],
   "source": [
    "d0 * t**3 + c0 * t**2 + b0 * t + a0"
   ]
  },
  {
   "cell_type": "code",
   "execution_count": null,
   "metadata": {},
   "outputs": [],
   "source": [
    "p0 = NamedExpression('pbm0', _.subs(t, (t - t0) / (t1 - t0)))\n",
    "p0"
   ]
  },
  {
   "cell_type": "markdown",
   "metadata": {},
   "source": [
    "Velocity = Tangent Vector = Derivative:"
   ]
  },
  {
   "cell_type": "code",
   "execution_count": null,
   "metadata": {},
   "outputs": [],
   "source": [
    "pd0 = p0.diff(t)\n",
    "pd0"
   ]
  },
  {
   "cell_type": "markdown",
   "metadata": {},
   "source": [
    "similar to [notebook about non-uniform Hermite splines](hermite-non-uniform.ipynb)"
   ]
  },
  {
   "cell_type": "markdown",
   "metadata": {},
   "source": [
    "\\begin{align}\n",
    "\\boldsymbol{x}_0 &= \\boldsymbol{p}_0(t_0)\\\\\n",
    "\\boldsymbol{x}_1 &= \\boldsymbol{p}_0(t_1)\\\\\n",
    "\\boldsymbol{\\dot{x}}_0 &= \\boldsymbol{p}_0'(t_0)\\\\\n",
    "\\boldsymbol{\\dot{x}}_1 &= \\boldsymbol{p}_0'(t_1)\n",
    "\\end{align}"
   ]
  },
  {
   "cell_type": "code",
   "execution_count": null,
   "metadata": {},
   "outputs": [],
   "source": [
    "equations_begin = [\n",
    "    p0.evaluated_at(t, t0).with_name('xbm0'),\n",
    "    p0.evaluated_at(t, t1).with_name('xbm1'),\n",
    "    pd0.evaluated_at(t, t0).with_name('xbmdot0'),\n",
    "    pd0.evaluated_at(t, t1).with_name('xbmdot1'),\n",
    "]"
   ]
  },
  {
   "cell_type": "markdown",
   "metadata": {},
   "source": [
    "only for display purposes,\n",
    "the calculations are still done with $t_i$"
   ]
  },
  {
   "cell_type": "code",
   "execution_count": null,
   "metadata": {},
   "outputs": [],
   "source": [
    "delta_begin = [\n",
    "    (t0, 0),\n",
    "    (t1, sp.Symbol('Delta0')),\n",
    "]"
   ]
  },
  {
   "cell_type": "code",
   "execution_count": null,
   "metadata": {},
   "outputs": [],
   "source": [
    "for e in equations_begin:\n",
    "    display(e.subs(delta_begin))"
   ]
  },
  {
   "cell_type": "code",
   "execution_count": null,
   "metadata": {},
   "outputs": [],
   "source": [
    "coefficients_begin = sp.solve(equations_begin, [a0, b0, c0, d0])"
   ]
  },
  {
   "cell_type": "code",
   "execution_count": null,
   "metadata": {},
   "outputs": [],
   "source": [
    "for c, e in coefficients_begin.items():\n",
    "    display(NamedExpression(c, e.subs(delta_begin)))"
   ]
  },
  {
   "cell_type": "markdown",
   "metadata": {},
   "source": [
    "Acceleration = Second Derivative"
   ]
  },
  {
   "cell_type": "code",
   "execution_count": null,
   "metadata": {},
   "outputs": [],
   "source": [
    "pdd0 = pd0.diff(t)\n",
    "pdd0"
   ]
  },
  {
   "cell_type": "code",
   "execution_count": null,
   "metadata": {},
   "outputs": [],
   "source": [
    "pdd0.evaluated_at(t, t0)"
   ]
  },
  {
   "cell_type": "code",
   "execution_count": null,
   "metadata": {},
   "outputs": [],
   "source": [
    "sp.Eq(_.expr, 0).subs(coefficients_begin)"
   ]
  },
  {
   "cell_type": "code",
   "execution_count": null,
   "metadata": {},
   "outputs": [],
   "source": [
    "xd0 = NamedExpression.solve(_, 'xbmdot0')\n",
    "xd0.subs(delta_begin)"
   ]
  },
  {
   "cell_type": "markdown",
   "metadata": {},
   "source": [
    "## End\n",
    "\n",
    "$N$ vertices, $N-1$ polynomial segments\n",
    "\n",
    "last polynomial: $\\boldsymbol{p}_{N-2}(t)$, $t \\in [t_{N-2}, t_{N-1}]$"
   ]
  },
  {
   "cell_type": "markdown",
   "metadata": {},
   "source": [
    "To simplify the notation a bit,\n",
    "let's assume we have $N = 10$ vertices,\n",
    "which makes $\\boldsymbol{p}_8$ the last polynomial segment."
   ]
  },
  {
   "cell_type": "code",
   "execution_count": null,
   "metadata": {},
   "outputs": [],
   "source": [
    "a8, b8, c8, d8 = sp.symbols('a:dbm8')"
   ]
  },
  {
   "cell_type": "code",
   "execution_count": null,
   "metadata": {},
   "outputs": [],
   "source": [
    "t8, t9 = sp.symbols('t8:10')"
   ]
  },
  {
   "cell_type": "code",
   "execution_count": null,
   "metadata": {},
   "outputs": [],
   "source": [
    "d8 * t**3 + c8 * t**2 + b8 * t + a8"
   ]
  },
  {
   "cell_type": "code",
   "execution_count": null,
   "metadata": {},
   "outputs": [],
   "source": [
    "p8 = NamedExpression('pbm8', _.subs(t, (t - t8) / (t9 - t8)))\n",
    "p8"
   ]
  },
  {
   "cell_type": "code",
   "execution_count": null,
   "metadata": {},
   "outputs": [],
   "source": [
    "pd8 = p8.diff(t)\n",
    "pd8"
   ]
  },
  {
   "cell_type": "markdown",
   "metadata": {},
   "source": [
    "\\begin{align}\n",
    "\\boldsymbol{x}_{N-2} &= \\boldsymbol{p}_{N-2}(t_{N-2})\\\\\n",
    "\\boldsymbol{x}_{N-1} &= \\boldsymbol{p}_{N-2}(t_{N-1})\\\\\n",
    "\\boldsymbol{\\dot{x}}_{N-2} &= \\boldsymbol{p}_{N-2}'(t_{N-2})\\\\\n",
    "\\boldsymbol{\\dot{x}}_{N-1} &= \\boldsymbol{p}_{N-2}'(t_{N-1})\n",
    "\\end{align}"
   ]
  },
  {
   "cell_type": "code",
   "execution_count": null,
   "metadata": {},
   "outputs": [],
   "source": [
    "equations_end = [\n",
    "    p8.evaluated_at(t, t8).with_name('xbm8'),\n",
    "    p8.evaluated_at(t, t9).with_name('xbm9'),\n",
    "    pd8.evaluated_at(t, t8).with_name('xbmdot8'),\n",
    "    pd8.evaluated_at(t, t9).with_name('xbmdot9'),\n",
    "]"
   ]
  },
  {
   "cell_type": "code",
   "execution_count": null,
   "metadata": {},
   "outputs": [],
   "source": [
    "delta_end = [\n",
    "    (t8, 0),\n",
    "    (t9, sp.Symbol('Delta8')),\n",
    "]"
   ]
  },
  {
   "cell_type": "code",
   "execution_count": null,
   "metadata": {},
   "outputs": [],
   "source": [
    "for e in equations_end:\n",
    "    display(e.subs(delta_end))"
   ]
  },
  {
   "cell_type": "code",
   "execution_count": null,
   "metadata": {},
   "outputs": [],
   "source": [
    "coefficients_end = sp.solve(equations_end, [a8, b8, c8, d8])"
   ]
  },
  {
   "cell_type": "code",
   "execution_count": null,
   "metadata": {},
   "outputs": [],
   "source": [
    "for c, e in coefficients_end.items():\n",
    "    display(NamedExpression(c, e.subs(delta_end)))"
   ]
  },
  {
   "cell_type": "code",
   "execution_count": null,
   "metadata": {},
   "outputs": [],
   "source": [
    "pdd8 = pd8.diff(t)\n",
    "pdd8"
   ]
  },
  {
   "cell_type": "markdown",
   "metadata": {},
   "source": [
    "second derivative *at the end* of the last segment:"
   ]
  },
  {
   "cell_type": "code",
   "execution_count": null,
   "metadata": {},
   "outputs": [],
   "source": [
    "pdd8.evaluated_at(t, t9)"
   ]
  },
  {
   "cell_type": "code",
   "execution_count": null,
   "metadata": {},
   "outputs": [],
   "source": [
    "sp.Eq(_.expr, 0).subs(coefficients_end)"
   ]
  },
  {
   "cell_type": "code",
   "execution_count": null,
   "metadata": {},
   "outputs": [],
   "source": [
    "xd9 = NamedExpression.solve(_, 'xbmdot9')\n",
    "xd9.subs(delta_end)"
   ]
  },
  {
   "cell_type": "markdown",
   "metadata": {},
   "source": [
    "Luckily, that's symmetric to the result we got above."
   ]
  },
  {
   "cell_type": "markdown",
   "metadata": {},
   "source": [
    "## Example\n",
    "\n",
    "one-dimensional; 3 time/value pairs are given.\n",
    "The slope for the middle value is given, the begin and end slopes are calculated using the \"natural\" end conditions as calculated above."
   ]
  },
  {
   "cell_type": "code",
   "execution_count": null,
   "metadata": {},
   "outputs": [],
   "source": [
    "values = 2, 2, 2\n",
    "times = 0, 4, 5\n",
    "slope = 2"
   ]
  },
  {
   "cell_type": "code",
   "execution_count": null,
   "metadata": {},
   "outputs": [],
   "source": [
    "sp.plot((\n",
    "    p0.subs(coefficients_begin).subs_symbols(xd0).expr.subs({\n",
    "        t0: times[0],\n",
    "        t1: times[1],\n",
    "        sp.Symbol('xbm0'): values[0],\n",
    "        sp.Symbol('xbm1'): values[1],\n",
    "        sp.Symbol('xbmdot1'): slope,\n",
    "    }),\n",
    "    (t, times[0], times[1])\n",
    "), (\n",
    "    p8.subs(coefficients_end).subs_symbols(xd9).expr.subs({\n",
    "        t8: times[1],\n",
    "        t9: times[2],\n",
    "        sp.Symbol('xbm8'): values[1],\n",
    "        sp.Symbol('xbm9'): values[2],\n",
    "        sp.Symbol('xbmdot8'): slope,\n",
    "    }),\n",
    "    (t, times[1], times[2])\n",
    "), axis_center=(0, values[1]));"
   ]
  }
 ],
 "metadata": {
  "kernelspec": {
   "display_name": "Python 3",
   "language": "python",
   "name": "python3"
  },
  "language_info": {
   "codemirror_mode": {
    "name": "ipython",
    "version": 3
   },
   "file_extension": ".py",
   "mimetype": "text/x-python",
   "name": "python",
   "nbconvert_exporter": "python",
   "pygments_lexer": "ipython3",
   "version": "3.9.1"
  }
 },
 "nbformat": 4,
 "nbformat_minor": 4
}
