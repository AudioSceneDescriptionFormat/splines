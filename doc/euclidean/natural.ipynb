{
 "cells": [
  {
   "cell_type": "markdown",
   "metadata": {
    "nbsphinx": "hidden"
   },
   "source": [
    "This notebook is part of https://github.com/AudioSceneDescriptionFormat/splines, see also https://splines.readthedocs.io/.\n",
    "\n",
    "[back to Euclidean splines](index.ipynb)"
   ]
  },
  {
   "cell_type": "markdown",
   "metadata": {},
   "source": [
    "# Natural Splines\n",
    "\n",
    "Sometimes simply called\n",
    "[(cubic) spline interpolation](https://en.wikipedia.org/wiki/Spline_interpolation),\n",
    "a *natural* spline is modelled after a drawing tool called\n",
    "[spline](https://en.wiktionary.org/wiki/spline),\n",
    "which is made from a thin piece of elastic material like wood or metal.\n",
    "\n",
    "A Python implementation is available in the class\n",
    "[splines.Natural](../python-module/splines.rst#splines.Natural).\n",
    "Alternatively, the\n",
    "[CubicSpline](https://docs.scipy.org/doc/scipy/reference/generated/scipy.interpolate.CubicSpline.html)\n",
    "class from SciPy can be used."
   ]
  },
  {
   "cell_type": "markdown",
   "metadata": {
    "nbsphinx-toctree": {}
   },
   "source": [
    "* [Properties](natural-properties.ipynb)\n",
    "* [Derivation (Uniform)](natural-uniform.ipynb)\n",
    "* [Derivation (Non-Uniform)](natural-non-uniform.ipynb)"
   ]
  }
 ],
 "metadata": {
  "kernelspec": {
   "display_name": "Python 3",
   "language": "python",
   "name": "python3"
  },
  "language_info": {
   "codemirror_mode": {
    "name": "ipython",
    "version": 3
   },
   "file_extension": ".py",
   "mimetype": "text/x-python",
   "name": "python",
   "nbconvert_exporter": "python",
   "pygments_lexer": "ipython3",
   "version": "3.9.2"
  }
 },
 "nbformat": 4,
 "nbformat_minor": 4
}
