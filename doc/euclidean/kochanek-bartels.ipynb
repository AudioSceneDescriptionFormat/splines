{
 "cells": [
  {
   "cell_type": "markdown",
   "metadata": {
    "nbsphinx": "hidden"
   },
   "source": [
    "This notebook is part of https://github.com/AudioSceneDescriptionFormat/splines, see also https://splines.readthedocs.io/.\n",
    "\n",
    "[back to Euclidean splines](index.ipynb)"
   ]
  },
  {
   "cell_type": "markdown",
   "metadata": {},
   "source": [
    "# Kochanek--Bartels Splines"
   ]
  },
  {
   "cell_type": "markdown",
   "metadata": {},
   "source": [
    "Kochanek--Bartels splines (a.k.a. TCB splines) are\n",
    "named after\n",
    "<cite data-cite-t=\"kochanek1984tcb\">Kochanek and Bartels (1984)</cite>.\n",
    "\n",
    "A Python implementation is available in the class\n",
    "[splines.KochanekBartels](../python-module/splines.rst#splines.KochanekBartels)."
   ]
  },
  {
   "cell_type": "markdown",
   "metadata": {
    "nbsphinx-toctree": {
     "maxdepth": 2
    }
   },
   "source": [
    "* [Properties](kochanek-bartels-properties.ipynb)\n",
    "* [Derivation (Uniform)](kochanek-bartels-uniform.ipynb)\n",
    "* [Derivation (Non-Uniform)](kochanek-bartels-non-uniform.ipynb)"
   ]
  }
 ],
 "metadata": {
  "kernelspec": {
   "display_name": "Python 3",
   "language": "python",
   "name": "python3"
  },
  "language_info": {
   "codemirror_mode": {
    "name": "ipython",
    "version": 3
   },
   "file_extension": ".py",
   "mimetype": "text/x-python",
   "name": "python",
   "nbconvert_exporter": "python",
   "pygments_lexer": "ipython3",
   "version": "3.9.7"
  }
 },
 "nbformat": 4,
 "nbformat_minor": 4
}
