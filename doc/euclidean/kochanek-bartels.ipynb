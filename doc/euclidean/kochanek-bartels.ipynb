{
 "cells": [
  {
   "cell_type": "markdown",
   "metadata": {
    "nbsphinx": "hidden"
   },
   "source": [
    "This notebook is part of https://github.com/AudioSceneDescriptionFormat/splines, see also https://splines.readthedocs.io/.\n",
    "\n",
    "[back to Euclidean splines](index.ipynb)"
   ]
  },
  {
   "cell_type": "markdown",
   "metadata": {},
   "source": [
    "# Kochanek--Bartels Splines"
   ]
  },
  {
   "cell_type": "markdown",
   "metadata": {},
   "source": [
    "Kochanek--Bartels splines (a.k.a. TCB splines) are\n",
    "named after *Doris Kochanek* and *Richard Bartels*\n",
    "(more specifically, after their paper\n",
    "<cite data-cite=\"kochanek1984tcb\">Interpolating splines with local tension, continuity, and bias control (1984)</cite>).\n",
    "\n",
    "A Python implementation is available in the\n",
    "[splines.KochanekBartels](../python-module/splines.rst#splines.KochanekBartels) class."
   ]
  },
  {
   "cell_type": "markdown",
   "metadata": {
    "nbsphinx-toctree": {
     "maxdepth": 2
    }
   },
   "source": [
    "* [Properties](kochanek-bartels-properties.ipynb)\n",
    "* [Derivation (Uniform)](kochanek-bartels-uniform.ipynb)\n",
    "* [Derivation (Non-Uniform)](kochanek-bartels-non-uniform.ipynb)"
   ]
  }
 ],
 "metadata": {
  "kernelspec": {
   "display_name": "Python 3",
   "language": "python",
   "name": "python3"
  },
  "language_info": {
   "codemirror_mode": {
    "name": "ipython",
    "version": 3
   },
   "file_extension": ".py",
   "mimetype": "text/x-python",
   "name": "python",
   "nbconvert_exporter": "python",
   "pygments_lexer": "ipython3",
   "version": "3.9.7"
  }
 },
 "nbformat": 4,
 "nbformat_minor": 4
}
