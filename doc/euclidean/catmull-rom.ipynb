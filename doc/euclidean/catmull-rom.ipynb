{
 "cells": [
  {
   "cell_type": "markdown",
   "metadata": {
    "nbsphinx": "hidden"
   },
   "source": [
    "This notebook is part of https://github.com/AudioSceneDescriptionFormat/splines, see also https://splines.readthedocs.io/.\n",
    "\n",
    "[back to Euclidean splines](index.ipynb)"
   ]
  },
  {
   "cell_type": "markdown",
   "metadata": {},
   "source": [
    "# Catmull--Rom Splines\n",
    "\n",
    "What is nowadays known as *Catmull--Rom spline*\n",
    "is a specific member of a whole family of splines introduced by\n",
    "<cite data-cite-t=\"catmull1974splines\">Catmull and Rom (1974)</cite>.\n",
    "That paper only describes *uniform* splines,\n",
    "but their definition can be straightforwardly extended\n",
    "to the *non-uniform* case."
   ]
  },
  {
   "cell_type": "markdown",
   "metadata": {},
   "source": [
    "Contrary to popular belief, *Overhauser splines*\n",
    "-- as presented by\n",
    "<cite data-cite-t=\"overhauser1968parabolic\">Overhauser (1968)</cite> --\n",
    "are not the same!"
   ]
  },
  {
   "cell_type": "markdown",
   "metadata": {},
   "source": [
    "A Python implementation of Catmull--Rom splines\n",
    "is available in the class\n",
    "[splines.CatmullRom](../python-module/splines.rst#splines.CatmullRom)."
   ]
  },
  {
   "cell_type": "markdown",
   "metadata": {
    "nbsphinx-toctree": {
     "maxdepth": 2
    }
   },
   "source": [
    "* [Properties](catmull-rom-properties.ipynb)\n",
    "* [Derivation (Uniform)](catmull-rom-uniform.ipynb)\n",
    "* [Derivation (Non-Uniform)](catmull-rom-non-uniform.ipynb)\n",
    "* [Barry--Goldman Algorithm](catmull-rom-barry-goldman.ipynb)"
   ]
  }
 ],
 "metadata": {
  "kernelspec": {
   "display_name": "Python 3",
   "language": "python",
   "name": "python3"
  },
  "language_info": {
   "codemirror_mode": {
    "name": "ipython",
    "version": 3
   },
   "file_extension": ".py",
   "mimetype": "text/x-python",
   "name": "python",
   "nbconvert_exporter": "python",
   "pygments_lexer": "ipython3",
   "version": "3.9.1+"
  }
 },
 "nbformat": 4,
 "nbformat_minor": 4
}
