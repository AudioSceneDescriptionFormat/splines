{
 "cells": [
  {
   "cell_type": "markdown",
   "metadata": {
    "nbsphinx": "hidden"
   },
   "source": [
    "This notebook is part of https://github.com/AudioSceneDescriptionFormat/splines, see also https://splines.readthedocs.io/.\n",
    "\n",
    "[back to Euclidean splines](index.ipynb)"
   ]
  },
  {
   "cell_type": "markdown",
   "metadata": {},
   "source": [
    "# Finite Difference Splines\n",
    "\n",
    "When doing *linear interpolation*,\n",
    "the (constant) velocity along a line segment is\n",
    "\n",
    "\\begin{equation*}\n",
    "\\boldsymbol{v}_{i,\\text{linear}} =\n",
    "\\frac{\\boldsymbol{x}_{i + 1} - \\boldsymbol{x}_i}{t_{i + 1} - t_i}.\n",
    "\\end{equation*}\n",
    "\n",
    "The average velocity\n",
    "(using the [the arithmetic mean](https://en.wikipedia.org/wiki/Arithmetic_mean))\n",
    "between two adjoining line segments is\n",
    "\n",
    "\\begin{equation*}\n",
    "\\boldsymbol{\\dot{x}}_i = \\frac{1}{2} \\left(\n",
    "\\frac{\\boldsymbol{x}_i - \\boldsymbol{x}_{i-1}}{t_i - t_{i-1}} +\n",
    "\\frac{\\boldsymbol{x}_{i + 1} - \\boldsymbol{x}_i}{t_{i + 1} - t_i}\n",
    "\\right),\n",
    "\\end{equation*}\n",
    "\n",
    "which, according to\n",
    "[Wikipedia](https://en.wikipedia.org/wiki/Cubic_Hermite_spline#Finite_difference),\n",
    "is called \"finite difference\" or \"three-point difference\".\n",
    "\n",
    "We can use this to define all outgoing and incoming tangents\n",
    "of a cubic [Hermite spline](hermite.ipynb),\n",
    "leading to a $C^1$ continuous interpolating spline,\n",
    "which we call *finite difference spline*."
   ]
  },
  {
   "cell_type": "markdown",
   "metadata": {},
   "source": [
    "A Python implementation of finite difference splines is available in the\n",
    "[splines.FiniteDifference](../python-module/splines.rst#splines.FiniteDifference)\n",
    "class."
   ]
  },
  {
   "cell_type": "markdown",
   "metadata": {},
   "source": [
    "In the uniform case ($t_{i+1}-t_i = 1$ for all $i$), the above expression becomes\n",
    "\n",
    "\\begin{equation*}\n",
    "\\boldsymbol{\\dot{x}}_{i,\\text{uniform}} = \\frac{\\boldsymbol{x}_{i+1} - \\boldsymbol{x}_{i-1}}{2},\n",
    "\\end{equation*}\n",
    "\n",
    "which makes *uniform* finite difference splines\n",
    "identical to *uniform* [Catmull--Rom splines](catmull-rom.ipynb)."
   ]
  },
  {
   "cell_type": "markdown",
   "metadata": {
    "nbsphinx-toctree": {
     "maxdepth": 2
    }
   },
   "source": [
    "* [Properties](finite-difference-properties.ipynb)\n",
    "* [Derivation (Uniform)](finite-difference-uniform.ipynb)\n",
    "* [Derivation (Non-Uniform)](finite-difference-non-uniform.ipynb)"
   ]
  }
 ],
 "metadata": {
  "kernelspec": {
   "display_name": "Python 3",
   "language": "python",
   "name": "python3"
  },
  "language_info": {
   "codemirror_mode": {
    "name": "ipython",
    "version": 3
   },
   "file_extension": ".py",
   "mimetype": "text/x-python",
   "name": "python",
   "nbconvert_exporter": "python",
   "pygments_lexer": "ipython3",
   "version": "3.9.1"
  }
 },
 "nbformat": 4,
 "nbformat_minor": 4
}
