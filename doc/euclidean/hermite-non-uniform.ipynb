{
 "cells": [
  {
   "cell_type": "markdown",
   "metadata": {
    "nbsphinx": "hidden"
   },
   "source": [
    "This notebook is part of https://github.com/AudioSceneDescriptionFormat/splines, see also https://splines.readthedocs.io/.\n",
    "\n",
    "[back to overview](hermite.ipynb)"
   ]
  },
  {
   "cell_type": "markdown",
   "metadata": {},
   "source": [
    "# Non-Uniform Cubic Hermite Splines\n",
    "\n",
    "We have already derived\n",
    "[uniform cubic Hermite splines](hermite-uniform.ipynb),\n",
    "where the parameter $t$ ranges from $0$ to $1$.\n",
    "\n",
    "When we want use *non-uniform* cubic Hermite splines,\n",
    "and therefore arbitrary ranges from $t_0$ to $t_1$,\n",
    "we have (at least) two possibilities:\n",
    "\n",
    "* Do the same derivations as in the *uniform* case,\n",
    "  except when we previously evaluated an expression\n",
    "  at the parameter value $t=0$,\n",
    "  we now evaluate it at the value $t=t_0$.\n",
    "  Of course we do the same with $t = 1 \\to t = t_1$.\n",
    "\n",
    "* Re-scale the *non-uniform* parameter using\n",
    "  $t \\to \\frac{t - t_i}{t_{i+1} - t_i}$\n",
    "  (which makes the new parameter go from $0$ to $1$)\n",
    "  and then simply use the results from the *uniform* case.\n",
    "\n",
    "The first approach leads to more complicated expressions\n",
    "in the basis matrix and the basis polynomials,\n",
    "but it has the advantage that the parameter value doesn't have to be re-scaled\n",
    "each time when evaluating the spline for a given parameter\n",
    "(which *might* be slightly more efficient).\n",
    "\n",
    "The second approach has the problem that it doesn't actually work correctly,\n",
    "but we will see that we can make a slight adjustment to fix that problem\n",
    "(spoiler alert: we will have to multiply the tangent vectors by $\\Delta_i$)."
   ]
  },
  {
   "cell_type": "markdown",
   "metadata": {},
   "source": [
    "<div class=\"alert alert-info\">\n",
    "\n",
    "We show the second approach here,\n",
    "but the first approach can be done very similarly,\n",
    "with only very few changed steps.\n",
    "The appropriate changes are mentioned below.\n",
    "\n",
    "</div>"
   ]
  },
  {
   "cell_type": "code",
   "execution_count": null,
   "metadata": {},
   "outputs": [],
   "source": [
    "import sympy as sp\n",
    "sp.init_printing(order='rev-lex')"
   ]
  },
  {
   "cell_type": "code",
   "execution_count": null,
   "metadata": {},
   "outputs": [],
   "source": [
    "from utility import NamedExpression, NamedMatrix"
   ]
  },
  {
   "cell_type": "code",
   "execution_count": null,
   "metadata": {},
   "outputs": [],
   "source": [
    "t, t0, t1 = sp.symbols('t t:2')"
   ]
  },
  {
   "cell_type": "code",
   "execution_count": null,
   "metadata": {},
   "outputs": [],
   "source": [
    "coefficients = sp.Matrix(sp.symbols('a:dbm0')[::-1])\n",
    "b_monomial = sp.Matrix([t**3, t**2, t, 1]).T\n",
    "b_monomial.dot(coefficients)"
   ]
  },
  {
   "cell_type": "markdown",
   "metadata": {},
   "source": [
    "We use the humble cubic polynomial (with monomial basis)\n",
    "to represent our curve segment $\\boldsymbol{p}_0(t)$,\n",
    "but we re-scale the parameter\n",
    "to map $t_0 \\to 0$ and $t_1 \\to 1$:"
   ]
  },
  {
   "cell_type": "code",
   "execution_count": null,
   "metadata": {},
   "outputs": [],
   "source": [
    "p0 = NamedExpression('pbm0', _.subs(t, (t - t0) / (t1 - t0)))"
   ]
  },
  {
   "cell_type": "markdown",
   "metadata": {},
   "source": [
    "<div class=\"alert alert-info\">\n",
    "\n",
    "If you don't want to do the re-scaling,\n",
    "simply un-comment the next line!\n",
    "\n",
    "</div>"
   ]
  },
  {
   "cell_type": "code",
   "execution_count": null,
   "metadata": {},
   "outputs": [],
   "source": [
    "#p0 = NamedExpression('pbm0', b_monomial.dot(coefficients))"
   ]
  },
  {
   "cell_type": "markdown",
   "metadata": {},
   "source": [
    "Either way, this is our polynomial segment ..."
   ]
  },
  {
   "cell_type": "code",
   "execution_count": null,
   "metadata": {},
   "outputs": [],
   "source": [
    "p0"
   ]
  },
  {
   "cell_type": "markdown",
   "metadata": {},
   "source": [
    "... and it's derivative/velocity/tangent vectors:"
   ]
  },
  {
   "cell_type": "code",
   "execution_count": null,
   "metadata": {},
   "outputs": [],
   "source": [
    "pd0 = p0.diff(t)\n",
    "pd0"
   ]
  },
  {
   "cell_type": "markdown",
   "metadata": {},
   "source": [
    "The next steps are very similar to what we did in the\n",
    "[uniform case](hermite-uniform.ipynb),\n",
    "except that we use $t_0$ and $t_1$ instead of\n",
    "$0$ and $1$, respectively."
   ]
  },
  {
   "cell_type": "code",
   "execution_count": null,
   "metadata": {},
   "outputs": [],
   "source": [
    "x0 = p0.evaluated_at(t, t0).with_name('xbm0')\n",
    "x1 = p0.evaluated_at(t, t1).with_name('xbm1')\n",
    "xd0 = pd0.evaluated_at(t, t0).with_name('xdotbm0')\n",
    "xd1 = pd0.evaluated_at(t, t1).factor().with_name('xdotbm1')"
   ]
  },
  {
   "cell_type": "markdown",
   "metadata": {},
   "source": [
    "To simplify things,\n",
    "we define a new symbol $\\Delta_0 = t_1 - t_0$,\n",
    "representing the duration of the current segment.\n",
    "However, we only use this for simplifying the display,\n",
    "further calculations are still carried out with $t_i$."
   ]
  },
  {
   "cell_type": "code",
   "execution_count": null,
   "metadata": {},
   "outputs": [],
   "source": [
    "delta = [\n",
    "    (t1 - t0, sp.Symbol('Delta0')),\n",
    "]"
   ]
  },
  {
   "cell_type": "code",
   "execution_count": null,
   "metadata": {},
   "outputs": [],
   "source": [
    "display(x0, x1, xd0.subs(delta), xd1.subs(delta))"
   ]
  },
  {
   "cell_type": "code",
   "execution_count": null,
   "metadata": {},
   "outputs": [],
   "source": [
    "M_H = NamedMatrix(r'{M_{\\text{H},0}}', 4, 4)"
   ]
  },
  {
   "cell_type": "code",
   "execution_count": null,
   "metadata": {},
   "outputs": [],
   "source": [
    "control_values_H = NamedMatrix(\n",
    "    sp.Matrix([x0.name, x1.name, xd0.name, xd1.name]),\n",
    "    M_H.name.I * coefficients)\n",
    "control_values_H"
   ]
  },
  {
   "cell_type": "code",
   "execution_count": null,
   "metadata": {},
   "outputs": [],
   "source": [
    "substitutions = x0, x1, xd0, xd1"
   ]
  },
  {
   "cell_type": "code",
   "execution_count": null,
   "metadata": {},
   "outputs": [],
   "source": [
    "control_values_H.subs_symbols(*substitutions).subs(delta)"
   ]
  },
  {
   "cell_type": "code",
   "execution_count": null,
   "metadata": {},
   "outputs": [],
   "source": [
    "M_H.I = sp.Matrix([\n",
    "    [expr.expand().coeff(c) for c in coefficients]\n",
    "    for expr in control_values_H.subs_symbols(*substitutions).name])\n",
    "M_H.I.subs(delta)"
   ]
  },
  {
   "cell_type": "code",
   "execution_count": null,
   "metadata": {},
   "outputs": [],
   "source": [
    "print(_.expr)"
   ]
  },
  {
   "cell_type": "code",
   "execution_count": null,
   "metadata": {},
   "outputs": [],
   "source": [
    "M_H.factor().subs(delta)"
   ]
  },
  {
   "cell_type": "code",
   "execution_count": null,
   "metadata": {},
   "outputs": [],
   "source": [
    "print(_.expr)"
   ]
  },
  {
   "cell_type": "code",
   "execution_count": null,
   "metadata": {},
   "outputs": [],
   "source": [
    "b_H = NamedMatrix(r'{b_{\\text{H},0}}', b_monomial * M_H.expr)\n",
    "b_H.factor().subs(delta).simplify().T"
   ]
  },
  {
   "cell_type": "markdown",
   "metadata": {},
   "source": [
    "Those are the *non-uniform* Hermite basis functions.\n",
    "Not surprisingly, they are different for each segment,\n",
    "because generally the values $\\Delta_i$ are different\n",
    "in the non-uniform case."
   ]
  },
  {
   "cell_type": "markdown",
   "metadata": {},
   "source": [
    "To quickly check whether the matrix $M_{H,0}$ does what we expect,\n",
    "let's plot an example segment:"
   ]
  },
  {
   "cell_type": "code",
   "execution_count": null,
   "metadata": {},
   "outputs": [],
   "source": [
    "import numpy as np"
   ]
  },
  {
   "cell_type": "markdown",
   "metadata": {},
   "source": [
    "If we use the same API as for the other splines,\n",
    "we can reuse the helper functions for plotting\n",
    "from [helper.py](helper.py):"
   ]
  },
  {
   "cell_type": "code",
   "execution_count": null,
   "metadata": {},
   "outputs": [],
   "source": [
    "from helper import plot_spline_2d, plot_tangents_2d"
   ]
  },
  {
   "cell_type": "markdown",
   "metadata": {},
   "source": [
    "<div class=\"alert alert-info\">\n",
    "\n",
    "Note\n",
    "\n",
    "The following code re-scales the parameter with:\n",
    "\n",
    "```python\n",
    "t = (t - begin) / (end - begin)\n",
    "```\n",
    "\n",
    "If you did *not* re-scale $t$ in the derivation above,\n",
    "you'll have to remove this line.\n",
    "\n",
    "</div>"
   ]
  },
  {
   "cell_type": "code",
   "execution_count": null,
   "metadata": {},
   "outputs": [],
   "source": [
    "class HermiteSegment:\n",
    "    \n",
    "    def __init__(self, control_values, begin, end):\n",
    "        array = sp.lambdify([t0, t1], M_H.expr)(begin, end)\n",
    "        self.coeffs = array @ control_values\n",
    "        self.grid = begin, end\n",
    "    \n",
    "    def evaluate(self, t):\n",
    "        t = np.expand_dims(t, -1)\n",
    "        begin, end = self.grid\n",
    "        # If you derived M_H without re-scaling t, remove the following line:\n",
    "        t = (t - begin) / (end - begin)\n",
    "        return t**[3, 2, 1, 0] @ self.coeffs"
   ]
  },
  {
   "cell_type": "code",
   "execution_count": null,
   "metadata": {},
   "outputs": [],
   "source": [
    "vertices = [0, 0], [5, 1]\n",
    "tangents = [2, 3], [0, -2]"
   ]
  },
  {
   "cell_type": "markdown",
   "metadata": {},
   "source": [
    "We can simulate the *uniform* case\n",
    "by specifying a parameter range from $0$ to $1$:"
   ]
  },
  {
   "cell_type": "code",
   "execution_count": null,
   "metadata": {},
   "outputs": [],
   "source": [
    "s1 = HermiteSegment([*vertices, *tangents], 0, 1)"
   ]
  },
  {
   "cell_type": "code",
   "execution_count": null,
   "metadata": {},
   "outputs": [],
   "source": [
    "plot_spline_2d(s1, chords=False)\n",
    "plot_tangents_2d(tangents, vertices)"
   ]
  },
  {
   "cell_type": "markdown",
   "metadata": {},
   "source": [
    "But other ranges should work as well:"
   ]
  },
  {
   "cell_type": "code",
   "execution_count": null,
   "metadata": {},
   "outputs": [],
   "source": [
    "s2 = HermiteSegment([*vertices, *tangents], 3, 5)"
   ]
  },
  {
   "cell_type": "code",
   "execution_count": null,
   "metadata": {},
   "outputs": [],
   "source": [
    "plot_spline_2d(s2, chords=False)\n",
    "plot_tangents_2d(tangents, vertices)"
   ]
  },
  {
   "cell_type": "markdown",
   "metadata": {},
   "source": [
    "<div class=\"alert alert-info\">\n",
    "\n",
    "Note\n",
    "\n",
    "If you did *not* re-scale $t$ in the beginning of the derivation,\n",
    "you can use the matrix $M_{H,i}$ to calculate the monomial coefficients\n",
    "of each segment (as shown in the example code above) and be done with it.\n",
    "\n",
    "The following simplification does only apply\n",
    "if you *did* re-scale $t$.\n",
    "\n",
    "</div>"
   ]
  },
  {
   "cell_type": "markdown",
   "metadata": {},
   "source": [
    "If you *did* re-scale $t$,\n",
    "the basis matrix and the basis polynomials\n",
    "will look very similar to the\n",
    "[uniform case](hermite-uniform.ipynb),\n",
    "but they are not quite the same.\n",
    "This means that simply re-scaling the parameter\n",
    "is not enough to correctly use the *uniform* results\n",
    "for implementing *non-uniform* Hermite splines.\n",
    "\n",
    "However, we can see that the only difference is\n",
    "that the components associated with\n",
    "$\\dot{\\boldsymbol{x}}_0$ and\n",
    "$\\dot{\\boldsymbol{x}}_1$ are simply multiplied by $\\Delta_0$.\n",
    "That means if we re-scale the parameter *and*\n",
    "multiply the given tangent vectors by $\\Delta_0$,\n",
    "we can indeed use the *uniform* workflow."
   ]
  },
  {
   "cell_type": "markdown",
   "metadata": {},
   "source": [
    "Just to make sure we are actually telling the truth, let's check that\n",
    "the control values with scaled tangent vectors ..."
   ]
  },
  {
   "cell_type": "code",
   "execution_count": null,
   "metadata": {},
   "outputs": [],
   "source": [
    "control_values_H_scaled = sp.Matrix([x0.name,\n",
    "                                     x1.name,\n",
    "                                     (t1 - t0) * xd0.name,\n",
    "                                     (t1 - t0) * xd1.name])\n",
    "control_values_H_scaled.subs(delta)"
   ]
  },
  {
   "cell_type": "markdown",
   "metadata": {},
   "source": [
    "... really lead to the same result\n",
    "as when using the *uniform* basis matrix:"
   ]
  },
  {
   "cell_type": "code",
   "execution_count": null,
   "metadata": {},
   "outputs": [],
   "source": [
    "sp.simplify(sp.Eq(\n",
    "    M_H.expr * control_values_H.name,\n",
    "    sp.Matrix([[2, -2, 1, 1],\n",
    "               [-3, 3, -2, -1],\n",
    "               [0, 0, 1, 0],\n",
    "               [1, 0, 0, 0]]) * control_values_H_scaled))"
   ]
  },
  {
   "cell_type": "markdown",
   "metadata": {},
   "source": [
    "<div class=\"alert alert-info\">\n",
    "\n",
    "The following line will fail if you did *not* rescale $t$:\n",
    "\n",
    "</div>"
   ]
  },
  {
   "cell_type": "code",
   "execution_count": null,
   "metadata": {},
   "outputs": [],
   "source": [
    "assert _ == True"
   ]
  },
  {
   "cell_type": "markdown",
   "metadata": {},
   "source": [
    "Long story short,\n",
    "to implement a *non-uniform* cubic Hermite spline segment,\n",
    "we can simply re-scale the parameter to a range from $0$ to $1$\n",
    "(by substituting $t \\to \\frac{t - t_i}{t_{i+1} - t_i}$),\n",
    "multiply both given tangent vectors by $\\Delta_i = t_{i+1} - t_i$\n",
    "and then simply use the implementation of\n",
    "the *uniform* cubic Hermite spline segment."
   ]
  },
  {
   "cell_type": "markdown",
   "metadata": {},
   "source": [
    "Another way of looking at this is\n",
    "to consider the *uniform* polynomial segment $\\boldsymbol{u}_i(t)$\n",
    "and its tangent vector (i.e. first derivative) $\\boldsymbol{u}'_i(t)$.\n",
    "If we want to know the tangent vector after substituting\n",
    "$t \\to \\frac{t - t_i}{\\Delta_i}$,\n",
    "we have to use the [chain rule](https://en.wikipedia.org/wiki/Chain_rule)\n",
    "(with the inner derivative being $\\frac{1}{\\Delta_i}$):\n",
    "\n",
    "\\begin{equation*}\n",
    "\\frac{d}{dt} \\boldsymbol{u}_i\\!\\left(\\frac{t-t_i}{\\Delta_i}\\right)\n",
    "=\n",
    "\\frac{1}{\\Delta_i} \\boldsymbol{u}'_i\\!\\left(\\frac{t-t_i}{\\Delta_i}\\right).\n",
    "\\end{equation*}\n",
    "\n",
    "This means the tangent vectors have been shrunk by $\\Delta_i$!\n",
    "If we want to maintain the original lengths of our tangent vectors,\n",
    "we can simply scale them by $\\Delta_i$ beforehand."
   ]
  }
 ],
 "metadata": {
  "kernelspec": {
   "display_name": "Python 3",
   "language": "python",
   "name": "python3"
  },
  "language_info": {
   "codemirror_mode": {
    "name": "ipython",
    "version": 3
   },
   "file_extension": ".py",
   "mimetype": "text/x-python",
   "name": "python",
   "nbconvert_exporter": "python",
   "pygments_lexer": "ipython3",
   "version": "3.9.1"
  }
 },
 "nbformat": 4,
 "nbformat_minor": 4
}
