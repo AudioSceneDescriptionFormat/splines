{
 "cells": [
  {
   "cell_type": "markdown",
   "metadata": {
    "nbsphinx": "hidden"
   },
   "source": [
    "This notebook is part of https://github.com/AudioSceneDescriptionFormat/splines, see also https://splines.readthedocs.io/.\n",
    "\n",
    "[back to overview](catmull-rom.ipynb)"
   ]
  },
  {
   "cell_type": "markdown",
   "metadata": {},
   "source": [
    "# Barry--Goldman Algorithm\n",
    "\n",
    "The *Barry--Goldman algorithm*\n",
    "-- named after\n",
    "<cite data-cite-t=\"barry1988recursive\">Barry and Goldman (1988)</cite> --\n",
    "can be used to calculate values of\n",
    "[non-uniform Catmull--Rom splines](catmull-rom-non-uniform.ipynb).\n",
    "We have also applied this algorithm to\n",
    "[rotation splines](../rotation/barry-goldman.ipynb)."
   ]
  },
  {
   "cell_type": "markdown",
   "metadata": {},
   "source": [
    "<cite data-cite-t=\"catmull1974splines\">Catmull and Rom (1974)</cite> describe\n",
    "\"a class of local interpolating splines\" and\n",
    "<cite data-cite-t=\"barry1988recursive\">Barry and Goldman (1988)</cite> describe\n",
    "\"a recursive evaluation algorithm for a class of Catmull–Rom splines\",\n",
    "by which they mean a sub-class of the original class,\n",
    "which only contains splines generated from a combination of\n",
    "[Lagrange interpolation](lagrange.ipynb) and B-spline blending:"
   ]
  },
  {
   "cell_type": "markdown",
   "metadata": {},
   "source": [
    "> In\n",
    "particular, they observed that certain choices led to interpolatory\n",
    "curves. Although Catmull and Rom discussed a more general case,\n",
    "we will restrict our attention to an important class of Catmull--Rom\n",
    "splines obtained by combining B-spline basis functions and Lagrange\n",
    "interpolating polynomials.\n",
    "> [...]\n",
    "> They are\n",
    "piecewise polynomial, have local support, are invariant under affine\n",
    "transformations, and have certain differentiability and interpolatory\n",
    "properties.\n",
    ">\n",
    "> ---<cite data-cite-t=\"barry1988recursive\">Barry and Goldman (1988)</cite>, section 1: \"Introduction\""
   ]
  },
  {
   "cell_type": "markdown",
   "metadata": {},
   "source": [
    "The algorithm can be set up to construct curves of arbitrary degree\n",
    "(given enough vertices and their parameter values),\n",
    "but here we only take a look at the cubic case\n",
    "(using four vertices),\n",
    "which seems to be what most people mean by the term *Catmull--Rom splines*."
   ]
  },
  {
   "cell_type": "markdown",
   "metadata": {},
   "source": [
    "The algorithm is a combination of two sub-algorithms:\n",
    "\n",
    "> The Catmull--Rom evaluation algorithm is constructed by combining the de Boor algorithm for evaluating B-spline curves with Neville's algorithm for evaluating Lagrange\n",
    "polynomials.\n",
    ">\n",
    "> ---<cite data-cite-t=\"barry1988recursive\">Barry and Goldman (1988)</cite>, abstract"
   ]
  },
  {
   "cell_type": "markdown",
   "metadata": {},
   "source": [
    "Combining the two will lead to a multi-stage algorithm,\n",
    "where each stage consists of only linear interpolations (and *extra*polations)."
   ]
  },
  {
   "cell_type": "markdown",
   "metadata": {},
   "source": [
    "We will use the algorithm here to derive\n",
    "an expression for the [tangent vectors](#Tangent-Vectors),\n",
    "which will show that the algorithm indeed generates\n",
    "[non-uniform Catmull--Rom splines](catmull-rom-non-uniform.ipynb#Tangent-Vectors)."
   ]
  },
  {
   "cell_type": "markdown",
   "metadata": {},
   "source": [
    "## Triangular Schemes\n",
    "\n",
    "<cite data-cite-t=\"barry1988recursive\">Barry and Goldman (1988)</cite>\n",
    "illustrate the presented algorithms\n",
    "using triangular evaluation patterns,\n",
    "which we will use here in a very similar form.\n",
    "\n",
    "As an example, let's look at the most basic building block:\n",
    "linear interpolation between two given points\n",
    "(in this case $\\boldsymbol{x}_4$ and $\\boldsymbol{x}_5$\n",
    "with corresponding parameter values $t_4$ and $t_5$, respectively):\n",
    "\n",
    "\\begin{equation*}\n",
    "\\begin{array}{ccccc}\n",
    "&&\n",
    "\\boldsymbol{p}_{4,5}\n",
    "&&\n",
    "\\\\\n",
    "&\n",
    "\\frac{t_5 - t}{t_5 - t_4}\n",
    "&&\n",
    "\\frac{t - t_4}{t_5 - t_4}\n",
    "&\n",
    "\\\\\n",
    "\\boldsymbol{x}_4 &&&& \\boldsymbol{x}_5\n",
    "\\end{array}\n",
    "\\end{equation*}"
   ]
  },
  {
   "cell_type": "markdown",
   "metadata": {},
   "source": [
    "The values at the base of the triangle are known,\n",
    "and the triangular scheme shows\n",
    "how the value at the apex can be calculated from them.\n",
    "\n",
    "In this example,\n",
    "to obtain the *linear* polynomial $\\boldsymbol{p}_{4,5}$\n",
    "one has to add $\\boldsymbol{x}_4$,\n",
    "weighted by the factor shown next to it\n",
    "($\\frac{t_5 - t}{t_5 - t_4}$),\n",
    "and $\\boldsymbol{x}_5$,\n",
    "weighted by the factor next to it\n",
    "($\\frac{t - t_4}{t_5 - t_4}$).\n",
    "\n",
    "The parameter $t$ can be chosen arbitrarily,\n",
    "but in this example we are mostly interested in the range $t_4 \\le t \\le t_5$.\n",
    "If the parameter value is outside this range,\n",
    "the process is more appropriately called *extra*polation\n",
    "instead of *inter*polation.\n",
    "Since we will need linear interpolation (and extrapolation) quite a few times,\n",
    "let's define a helper function:"
   ]
  },
  {
   "cell_type": "code",
   "execution_count": null,
   "metadata": {},
   "outputs": [],
   "source": [
    "def lerp(xs, ts, t):\n",
    "    \"\"\"Linear interpolation.\n",
    "    \n",
    "    Returns the interpolated value at time *t*,\n",
    "    given the two values *xs* at times *ts*.\n",
    "    \n",
    "    \"\"\"\n",
    "    x_begin, x_end = xs\n",
    "    t_begin, t_end = ts\n",
    "    return (x_begin * (t_end - t) + x_end * (t - t_begin)) / (t_end - t_begin)"
   ]
  },
  {
   "cell_type": "markdown",
   "metadata": {},
   "source": [
    "## Neville's Algorithm\n",
    "\n",
    "We have already seen this algorithm in our\n",
    "[notebook about Lagrange interpolation](lagrange.ipynb#Neville's-Algorithm),\n",
    "where we have shown the triangular scheme for the *cubic* case\n",
    "-- which is also shown by\n",
    "<cite data-cite-t=\"barry1988recursive\">Barry and Goldman (1988)</cite>\n",
    "in figure 2.\n",
    "In the *quadratic* case, it looks like this:\n",
    "\n",
    "\\begin{equation*}\n",
    "\\begin{array}{ccccccccc}\n",
    "&&&&\n",
    "\\boldsymbol{p}_{3,4,5}\n",
    "&&&&\n",
    "\\\\\n",
    "&&&\n",
    "\\frac{t_5 - t}{t_5 - t_3}\n",
    "&&\n",
    "\\frac{t - t_3}{t_5 - t_3}\n",
    "&&&\n",
    "\\\\\n",
    "&& \\boldsymbol{p}_{3,4} &&&& \\boldsymbol{p}_{4,5} &&\n",
    "\\\\\n",
    "& \\frac{t_4 - t}{t_4 - t_3} && \\frac{t - t_3}{t_4 - t_3} &\n",
    "& \\frac{t_5 - t}{t_5 - t_4} && \\frac{t - t_4}{t_5 - t_4} &\n",
    "\\\\\n",
    "\\boldsymbol{x}_{3} &&&& \\boldsymbol{x}_{4} &&&& \\boldsymbol{x}_{5}\n",
    "\\end{array}\n",
    "\\end{equation*}"
   ]
  },
  {
   "cell_type": "code",
   "execution_count": null,
   "metadata": {},
   "outputs": [],
   "source": [
    "import matplotlib.pyplot as plt\n",
    "import numpy as np"
   ]
  },
  {
   "cell_type": "markdown",
   "metadata": {},
   "source": [
    "Let's try to plot this for three points:"
   ]
  },
  {
   "cell_type": "code",
   "execution_count": null,
   "metadata": {},
   "outputs": [],
   "source": [
    "points = np.array([\n",
    "    (0, 0),\n",
    "    (0.5, 2),\n",
    "    (3, 0),\n",
    "])"
   ]
  },
  {
   "cell_type": "markdown",
   "metadata": {},
   "source": [
    "In the following example plots we show the *uniform* case\n",
    "(with $t_3=3$, $t_4=4$ and $t_5=5$),\n",
    "but don't worry,\n",
    "the algorithm works just as well for arbitrary non-uniform time values."
   ]
  },
  {
   "cell_type": "code",
   "execution_count": null,
   "metadata": {},
   "outputs": [],
   "source": [
    "plot_times = np.linspace(4, 5, 30)"
   ]
  },
  {
   "cell_type": "code",
   "execution_count": null,
   "metadata": {},
   "outputs": [],
   "source": [
    "plt.scatter(*np.array([\n",
    "    lerp(\n",
    "        [lerp(points[:2], [3, 4], t), lerp(points[1:], [4, 5], t)],\n",
    "        [3, 5], t)\n",
    "    for t in plot_times]).T)\n",
    "plt.plot(*points.T, 'x:g')\n",
    "plt.axis('equal');"
   ]
  },
  {
   "cell_type": "markdown",
   "metadata": {},
   "source": [
    "Note that the quadratic curve is defined by three points\n",
    "but we are only evaluating it between two of them\n",
    "(for $4 \\le t \\le 5$)."
   ]
  },
  {
   "cell_type": "markdown",
   "metadata": {},
   "source": [
    "## De Boor's Algorithm\n",
    "\n",
    "This algorithm\n",
    "<cite data-cite=\"de_boor1972calculating\">(de Boor 1972)</cite>\n",
    "can be used to calculate B-spline basis functions.\n",
    "\n",
    "The quadratic case looks like this:\n",
    "\n",
    "\\begin{equation*}\n",
    "\\begin{array}{ccccccccc}\n",
    "&&&&\n",
    "\\boldsymbol{p}_{3,4,5}\n",
    "&&&&\n",
    "\\\\\n",
    "&&&\n",
    "\\frac{t_5 - t}{t_5 - t_4}\n",
    "&&\n",
    "\\frac{t - t_4}{t_5 - t_4}\n",
    "&&&\n",
    "\\\\\n",
    "&& \\boldsymbol{p}_{3,4} &&&& \\boldsymbol{p}_{4,5} &&\n",
    "\\\\\n",
    "& \\frac{t_5 - t}{t_5 - t_3} && \\frac{t - t_3}{t_5 - t_3} &\n",
    "& \\frac{t_6 - t}{t_6 - t_4} && \\frac{t - t_4}{t_6 - t_4} &\n",
    "\\\\\n",
    "\\boldsymbol{x}_{3} &&&& \\boldsymbol{x}_{4} &&&& \\boldsymbol{x}_{5}\n",
    "\\end{array}\n",
    "\\end{equation*}"
   ]
  },
  {
   "cell_type": "markdown",
   "metadata": {},
   "source": [
    "The *cubic* case is shown by\n",
    "<cite data-cite-t=\"barry1988recursive\">Barry and Goldman (1988)</cite>\n",
    "in figure 1."
   ]
  },
  {
   "cell_type": "code",
   "execution_count": null,
   "metadata": {},
   "outputs": [],
   "source": [
    "plt.scatter(*np.array([\n",
    "    lerp(\n",
    "        [lerp(points[:2], [3, 5], t), lerp(points[1:], [4, 6], t)],\n",
    "        [4, 5], t)\n",
    "    for t in plot_times]).T)\n",
    "plt.plot(*points.T, 'x:g')\n",
    "plt.axis('equal');"
   ]
  },
  {
   "cell_type": "markdown",
   "metadata": {},
   "source": [
    "## Combining Both Algorithms\n",
    "\n",
    "<cite data-cite-t=\"catmull1974splines\">Catmull and Rom (1974)</cite>\n",
    "show (in figure 5) an example where linear interpolation is followed by\n",
    "quadratic B-spline blending to create a cubic curve.\n",
    "\n",
    "We can re-create this example with the building blocks from above:\n",
    "\n",
    "* At the base of the triangle, we put four known vertices.\n",
    "* Consecutive pairs of these vertices form three linear interpolations\n",
    "  (and *extra*polations),\n",
    "  resulting in three interpolated (and *extra*polated) values.\n",
    "* On top of these three values,\n",
    "  we arrange a quadratic instance of de Boor's algorithm (as shown above).\n",
    "\n",
    "This culminates in the final value of the spline\n",
    "(given an appropriate parameter value $t$)\n",
    "at the apex of the triangle,\n",
    "which looks like this:"
   ]
  },
  {
   "cell_type": "markdown",
   "metadata": {},
   "source": [
    "\\begin{equation*}\n",
    "\\def\\negspace{\\!\\!\\!\\!\\!\\!}\n",
    "\\begin{array}{ccccccccccccc}\n",
    "&&&&&&\n",
    "\\boldsymbol{p}_{3,4,5,6}\n",
    "&&&&&&\n",
    "\\\\\n",
    "&&&&&\n",
    "\\negspace \\frac{t_5 - t}{t_5 - t_4} \\negspace\n",
    "&&\n",
    "\\negspace \\frac{t - t_4}{t_5 - t_4} \\negspace\n",
    "&&&&&\n",
    "\\\\\n",
    "&&&& \\boldsymbol{p}_{3,4,5} &&&& \\boldsymbol{p}_{4,5,6} &&&&\n",
    "\\\\\n",
    "&&\n",
    "& \\negspace \\frac{t_5 - t}{t_5 - t_3} \\negspace && \\negspace \\frac{t - t_3}{t_5 - t_3} \\negspace &\n",
    "& \\negspace \\frac{t_6 - t}{t_6 - t_4} \\negspace && \\negspace \\frac{t - t_4}{t_6 - t_4} \\negspace &\n",
    "&&\n",
    "\\\\\n",
    "&& \\boldsymbol{p}_{3,4} &&&& \\boldsymbol{p}_{4,5} &&&& \\boldsymbol{p}_{5,6} &&\n",
    "\\\\\n",
    "& \\negspace \\frac{t_4 - t}{t_4 - t_3} \\negspace && \\negspace \\frac{t - t_3}{t_4 - t_3} \\negspace &\n",
    "& \\negspace \\frac{t_5 - t}{t_5 - t_4} \\negspace && \\negspace \\frac{t - t_4}{t_5 - t_4} \\negspace &\n",
    "& \\negspace \\frac{t_6 - t}{t_6 - t_5} \\negspace && \\negspace \\frac{t - t_5}{t_6 - t_5} \\negspace &\n",
    "\\\\\n",
    "\\boldsymbol{x}_3 &&&& \\boldsymbol{x}_4 &&&& \\boldsymbol{x}_5 &&&& \\boldsymbol{x}_6\n",
    "\\end{array}\n",
    "\\end{equation*}"
   ]
  },
  {
   "cell_type": "markdown",
   "metadata": {},
   "source": [
    "Here we are considering the fifth spline segment\n",
    "$\\boldsymbol{p}_{3,4,5,6}(t)$\n",
    "(represented at the apex of the triangle)\n",
    "from\n",
    "$\\boldsymbol{x}_4$ to\n",
    "$\\boldsymbol{x}_5$\n",
    "(to be found at the base of the triangle)\n",
    "which corresponds to\n",
    "the parameter range $t_4 \\le t \\le t_5$.\n",
    "To calculate the values in this segment,\n",
    "we also need to know the preceding control point $\\boldsymbol{x}_3$\n",
    "(at the bottom left)\n",
    "and the following control point $\\boldsymbol{x}_6$\n",
    "(at the bottom right).\n",
    "But not only their positions are relevant,\n",
    "we also need the corresponding parameter values\n",
    "$t_3$ and $t_6$, respectively."
   ]
  },
  {
   "cell_type": "markdown",
   "metadata": {},
   "source": [
    "This same triangular scheme is also shown by\n",
    "<cite data-cite-t=\"yuksel2011parameterization\">Yuksel et al. (2011)</cite>\n",
    "in figure 3,\n",
    "except that here we shifted the indices by $+3$."
   ]
  },
  {
   "cell_type": "markdown",
   "metadata": {},
   "source": [
    "Another way to construct a cubic curve with this algorithm\n",
    "would be to swap the degrees of interpolation and blending,\n",
    "in other words:\n",
    "\n",
    "* Instead of three linear interpolations (and extrapolations),\n",
    "  apply two overlapping quadratic Lagrange interpolations\n",
    "  using Neville's algorithm (as shown above) to\n",
    "  $\\boldsymbol{x}_3$, $\\boldsymbol{x}_4$, $\\boldsymbol{x}_5$ and\n",
    "  $\\boldsymbol{x}_4$, $\\boldsymbol{x}_5$, $\\boldsymbol{x}_6$, respectively.\n",
    "  Note that the interpolation of $\\boldsymbol{x}_4$ and $\\boldsymbol{x}_5$\n",
    "  appears in both triangles but has to be calculated only once\n",
    "  -- see also figures 3 and 4 by\n",
    "  <cite data-cite-t=\"barry1988recursive\">Barry and Goldman (1988)</cite>.\n",
    "* This will occupy the lower two stages of the triangle,\n",
    "  yielding two interpolated values.\n",
    "* Those two values are then linearly blended in the final stage."
   ]
  },
  {
   "cell_type": "markdown",
   "metadata": {},
   "source": [
    "Readers of the\n",
    "[notebook about uniform Catmull--Rom splines](catmull-rom-uniform.ipynb)\n",
    "may already suspect that,\n",
    "for others it might be a revelation: both ways\n",
    "lead to exactly the same triangular scheme\n",
    "and therefore they are equivalent!"
   ]
  },
  {
   "cell_type": "markdown",
   "metadata": {},
   "source": [
    "The same scheme, but only for the *uniform* case, is also shown by\n",
    "<cite data-cite-t=\"barry1988recursive\">Barry and Goldman (1988)</cite>\n",
    "in figure 7,\n",
    "and they casually mention the equivalent cases\n",
    "(with $m$ being the degree of Lagrange interpolation\n",
    "and $n$ being the degree of the B-spline basis functions):"
   ]
  },
  {
   "cell_type": "markdown",
   "metadata": {},
   "source": [
    "> Note too from Figure 7 that the case\n",
    "$n=1$, $m=2$ [...] is identical to the case\n",
    "$n=2$, $m=1$ [...]\n",
    ">\n",
    "> ---<cite data-cite-t=\"barry1988recursive\">Barry and Goldman (1988)</cite>, section 3: \"Examples\""
   ]
  },
  {
   "cell_type": "markdown",
   "metadata": {},
   "source": [
    "<div class=\"alert alert-warning\">\n",
    "\n",
    "Not an Overhauser Spline\n",
    "\n",
    "Equally casually, they mention:\n",
    "\n",
    "> Finally, the particular case here is also an Overhauser spline\n",
    "> <cite data-cite=\"overhauser1968parabolic\">(Overhauser, 1968)</cite>.\n",
    ">\n",
    "> ---<cite data-cite-t=\"barry1988recursive\">Barry and Goldman (1988)</cite>, section 3: \"Examples\"\n",
    "\n",
    "This is not true.\n",
    "Overhauser splines\n",
    "-- as described by\n",
    "<cite data-cite-t=\"overhauser1968parabolic\">Overhauser (1968)</cite> --\n",
    "don't provide a choice of parameter values.\n",
    "The parameter values are determined\n",
    "by the Euclidean distances between control points,\n",
    "similar, but not quite identical to\n",
    "[chordal parameterization](catmull-rom-properties.ipynb#Chordal-Parameterization).\n",
    "Calculating a value of a Catmull--Rom spline doesn't involve calculating any distances.\n",
    "\n",
    "</div>"
   ]
  },
  {
   "cell_type": "markdown",
   "metadata": {},
   "source": [
    "For completeness' sake,\n",
    "there are two more combinations that lead to cubic splines,\n",
    "but they have their limitations:\n",
    "\n",
    "* Cubic Lagrange interpolation, followed by no blending at all,\n",
    "  which leads to a cubic spline that's not $C^1$ continuous (only $C^0$),\n",
    "  as shown by\n",
    "  <cite data-cite-t=\"barry1988recursive\">Barry and Goldman (1988)</cite>\n",
    "  in figure 8.\n",
    "* No interpolation at all, followed by cubic B-spline blending,\n",
    "  which leads to an approximating spline (instead of an interpolating spline),\n",
    "  as shown by\n",
    "  <cite data-cite-t=\"barry1988recursive\">Barry and Goldman (1988)</cite>\n",
    "  in figure 5."
   ]
  },
  {
   "cell_type": "markdown",
   "metadata": {},
   "source": [
    "<div class=\"alert alert-info\">\n",
    "\n",
    "Note\n",
    "\n",
    "Here we are using the time instances of the Lagrange interpolation\n",
    "also as B-spline knots.\n",
    "<cite data-cite-t=\"barry1988recursive\">Barry and Goldman (1988)</cite>\n",
    "show a more generic formulation of the algorithm\n",
    "with separate parameters $s_i$ and $t_i$\n",
    "in equation (9).\n",
    "\n",
    "</div>"
   ]
  },
  {
   "cell_type": "markdown",
   "metadata": {},
   "source": [
    "## Step by Step\n",
    "\n",
    "The triangular figure above looks more complicated than it really is.\n",
    "It's just a bunch of linear *inter*polations and *extra*polations.\n",
    "\n",
    "Let's go through the figure above, piece by piece."
   ]
  },
  {
   "cell_type": "code",
   "execution_count": null,
   "metadata": {},
   "outputs": [],
   "source": [
    "import sympy as sp"
   ]
  },
  {
   "cell_type": "code",
   "execution_count": null,
   "metadata": {},
   "outputs": [],
   "source": [
    "t = sp.symbols('t')"
   ]
  },
  {
   "cell_type": "code",
   "execution_count": null,
   "metadata": {},
   "outputs": [],
   "source": [
    "x3, x4, x5, x6 = sp.symbols('xbm3:7')"
   ]
  },
  {
   "cell_type": "code",
   "execution_count": null,
   "metadata": {},
   "outputs": [],
   "source": [
    "t3, t4, t5, t6 = sp.symbols('t3:7')"
   ]
  },
  {
   "cell_type": "markdown",
   "metadata": {},
   "source": [
    "We use some custom SymPy-based tools from [utility.py](utility.py):"
   ]
  },
  {
   "cell_type": "code",
   "execution_count": null,
   "metadata": {},
   "outputs": [],
   "source": [
    "from utility import NamedExpression, NamedMatrix"
   ]
  },
  {
   "cell_type": "markdown",
   "metadata": {},
   "source": [
    "### First Stage\n",
    "\n",
    "In the center of the bottom row,\n",
    "there is a straightforward linear interpolation\n",
    "from $\\boldsymbol{x}_4$ to $\\boldsymbol{x}_5$\n",
    "within the interval from $t_4$ to $t_5$."
   ]
  },
  {
   "cell_type": "code",
   "execution_count": null,
   "metadata": {},
   "outputs": [],
   "source": [
    "p45 = NamedExpression('pbm_4,5', lerp([x4, x5], [t4, t5], t))\n",
    "p45"
   ]
  },
  {
   "cell_type": "markdown",
   "metadata": {},
   "source": [
    "Obviously, this starts at:"
   ]
  },
  {
   "cell_type": "code",
   "execution_count": null,
   "metadata": {},
   "outputs": [],
   "source": [
    "p45.evaluated_at(t, t4)"
   ]
  },
  {
   "cell_type": "markdown",
   "metadata": {},
   "source": [
    "... and ends at:"
   ]
  },
  {
   "cell_type": "code",
   "execution_count": null,
   "metadata": {},
   "outputs": [],
   "source": [
    "p45.evaluated_at(t, t5)"
   ]
  },
  {
   "cell_type": "markdown",
   "metadata": {},
   "source": [
    "The bottom left of the triangle looks very similar,\n",
    "with a linear interpolation\n",
    "from $\\boldsymbol{x}_3$ to $\\boldsymbol{x}_4$\n",
    "within the interval from $t_3$ to $t_4$."
   ]
  },
  {
   "cell_type": "code",
   "execution_count": null,
   "metadata": {},
   "outputs": [],
   "source": [
    "p34 = NamedExpression('pbm_3,4', lerp([x3, x4], [t3, t4], t))\n",
    "p34"
   ]
  },
  {
   "cell_type": "markdown",
   "metadata": {},
   "source": [
    "However, that's not the parameter range we are interested in!\n",
    "We are interested in the range from $t_4$ to $t_5$.\n",
    "Therefore, this is not actually an *inter*polation between\n",
    "$\\boldsymbol{x}_3$ and $\\boldsymbol{x}_4$,\n",
    "but rather a linear *extra*polation starting at $\\boldsymbol{x}_4$ ..."
   ]
  },
  {
   "cell_type": "code",
   "execution_count": null,
   "metadata": {},
   "outputs": [],
   "source": [
    "p34.evaluated_at(t, t4)"
   ]
  },
  {
   "cell_type": "markdown",
   "metadata": {},
   "source": [
    "... and ending at some extrapolated point beyond $\\boldsymbol{x}_4$:"
   ]
  },
  {
   "cell_type": "code",
   "execution_count": null,
   "metadata": {},
   "outputs": [],
   "source": [
    "p34.evaluated_at(t, t5)"
   ]
  },
  {
   "cell_type": "markdown",
   "metadata": {},
   "source": [
    "Similarly, at the bottom right of the triangle\n",
    "there isn't a linear *inter*polation\n",
    "from $\\boldsymbol{x}_5$ to $\\boldsymbol{x}_6$,\n",
    "but rather a linear *extra*polation that just reaches\n",
    "$\\boldsymbol{x}_5$ at the end of the parameter interval\n",
    "(i.e. at $t=t_5$)."
   ]
  },
  {
   "cell_type": "code",
   "execution_count": null,
   "metadata": {},
   "outputs": [],
   "source": [
    "p56 = NamedExpression('pbm_5,6', lerp([x5, x6], [t5, t6], t))\n",
    "p56"
   ]
  },
  {
   "cell_type": "code",
   "execution_count": null,
   "metadata": {},
   "outputs": [],
   "source": [
    "p56.evaluated_at(t, t4)"
   ]
  },
  {
   "cell_type": "code",
   "execution_count": null,
   "metadata": {},
   "outputs": [],
   "source": [
    "p56.evaluated_at(t, t5)"
   ]
  },
  {
   "cell_type": "markdown",
   "metadata": {},
   "source": [
    "### Second Stage\n",
    "\n",
    "The second stage of the algorithm\n",
    "involves linear interpolations of the results of the previous stage."
   ]
  },
  {
   "cell_type": "code",
   "execution_count": null,
   "metadata": {},
   "outputs": [],
   "source": [
    "p345 = NamedExpression('pbm_3,4,5', lerp([p34.name, p45.name], [t3, t5], t))\n",
    "p345"
   ]
  },
  {
   "cell_type": "code",
   "execution_count": null,
   "metadata": {},
   "outputs": [],
   "source": [
    "p456 = NamedExpression('pbm_4,5,6', lerp([p45.name, p56.name], [t4, t6], t))\n",
    "p456"
   ]
  },
  {
   "cell_type": "markdown",
   "metadata": {},
   "source": [
    "Those interpolations are defined over a parameter range\n",
    "from $t_3$ to $t_5$ and\n",
    "from $t_4$ to $t_6$, respectively.\n",
    "In each case, we are only interested in a sub-range,\n",
    "namely from $t_4$ to $t_5$.\n",
    "\n",
    "These are the start and end points at $t_4$ and $t_5$:"
   ]
  },
  {
   "cell_type": "code",
   "execution_count": null,
   "metadata": {},
   "outputs": [],
   "source": [
    "p345.evaluated_at(t, t4, symbols=[p34, p45])"
   ]
  },
  {
   "cell_type": "code",
   "execution_count": null,
   "metadata": {},
   "outputs": [],
   "source": [
    "p345.evaluated_at(t, t5, symbols=[p34, p45])"
   ]
  },
  {
   "cell_type": "code",
   "execution_count": null,
   "metadata": {},
   "outputs": [],
   "source": [
    "p456.evaluated_at(t, t4, symbols=[p45, p56])"
   ]
  },
  {
   "cell_type": "code",
   "execution_count": null,
   "metadata": {},
   "outputs": [],
   "source": [
    "p456.evaluated_at(t, t5, symbols=[p45, p56])"
   ]
  },
  {
   "cell_type": "markdown",
   "metadata": {},
   "source": [
    "### Third Stage\n",
    "\n",
    "The last step is quite simple:"
   ]
  },
  {
   "cell_type": "code",
   "execution_count": null,
   "metadata": {},
   "outputs": [],
   "source": [
    "p3456 = NamedExpression(\n",
    "    'pbm_3,4,5,6',\n",
    "    lerp([p345.name, p456.name], [t4, t5], t))\n",
    "p3456"
   ]
  },
  {
   "cell_type": "markdown",
   "metadata": {},
   "source": [
    "This time, the interpolation interval is exactly the one we are interested in.\n",
    "\n",
    "To get the final result, we just have to combine all the above expressions:"
   ]
  },
  {
   "cell_type": "code",
   "execution_count": null,
   "metadata": {},
   "outputs": [],
   "source": [
    "p3456 = p3456.subs_symbols(p345, p456, p34, p45, p56).simplify()"
   ]
  },
  {
   "cell_type": "markdown",
   "metadata": {},
   "source": [
    "This expression is quite unwieldy, so let's not even look at it."
   ]
  },
  {
   "cell_type": "code",
   "execution_count": null,
   "metadata": {},
   "outputs": [],
   "source": [
    "#p3456"
   ]
  },
  {
   "cell_type": "markdown",
   "metadata": {},
   "source": [
    "Apart from checking whether it's really cubic ..."
   ]
  },
  {
   "cell_type": "code",
   "execution_count": null,
   "metadata": {},
   "outputs": [],
   "source": [
    "sp.degree(p3456.expr, t)"
   ]
  },
  {
   "cell_type": "markdown",
   "metadata": {},
   "source": [
    "... and whether it's really interpolating ..."
   ]
  },
  {
   "cell_type": "code",
   "execution_count": null,
   "metadata": {},
   "outputs": [],
   "source": [
    "p3456.evaluated_at(t, t4).simplify()"
   ]
  },
  {
   "cell_type": "code",
   "execution_count": null,
   "metadata": {},
   "outputs": [],
   "source": [
    "p3456.evaluated_at(t, t5).simplify()"
   ]
  },
  {
   "cell_type": "markdown",
   "metadata": {},
   "source": [
    "... the only thing left to do is to check its ..."
   ]
  },
  {
   "cell_type": "markdown",
   "metadata": {},
   "source": [
    "## Tangent Vectors\n",
    "\n",
    "To get the tangent vectors at the control points,\n",
    "we just have to take the first derivative ..."
   ]
  },
  {
   "cell_type": "code",
   "execution_count": null,
   "metadata": {},
   "outputs": [],
   "source": [
    "pd3456 = p3456.diff(t)"
   ]
  },
  {
   "cell_type": "markdown",
   "metadata": {},
   "source": [
    "... and evaluate it at $t_4$ and $t_5$:"
   ]
  },
  {
   "cell_type": "code",
   "execution_count": null,
   "metadata": {},
   "outputs": [],
   "source": [
    "pd3456.evaluated_at(t, t4).simplify().simplify()"
   ]
  },
  {
   "cell_type": "code",
   "execution_count": null,
   "metadata": {},
   "outputs": [],
   "source": [
    "pd3456.evaluated_at(t, t5).simplify()"
   ]
  },
  {
   "cell_type": "markdown",
   "metadata": {},
   "source": [
    "If all went well,\n",
    "this should be identical to the result in\n",
    "[the notebook about non-uniform Catmull--Rom splines](catmull-rom-non-uniform.ipynb#Tangent-Vectors).\n",
    "As we have mentioned there,\n",
    "it isn't even necessary to calculate the last interpolation\n",
    "to get the tangent vectors.\n",
    "At the beginning of the interval ($t = t_4$),\n",
    "only the first quadratic polynomial\n",
    "$\\boldsymbol{p}_{3,4,5}(t)$\n",
    "contributes to the final result,\n",
    "while the other one has a weight of zero.\n",
    "At the end of the interval ($t = t_5$), only\n",
    "$\\boldsymbol{p}_{4,5,6}(t)$ is relevant.\n",
    "Therefore, we can simply take their tangent vectors\n",
    "at $t_4$ and $t_5$, respectively,\n",
    "and we get the same result:"
   ]
  },
  {
   "cell_type": "code",
   "execution_count": null,
   "metadata": {},
   "outputs": [],
   "source": [
    "p345.subs_symbols(p34, p45).diff(t).evaluated_at(t, t4).simplify()"
   ]
  },
  {
   "cell_type": "code",
   "execution_count": null,
   "metadata": {},
   "outputs": [],
   "source": [
    "p456.subs_symbols(p45, p56).diff(t).evaluated_at(t, t5).simplify()"
   ]
  },
  {
   "cell_type": "markdown",
   "metadata": {},
   "source": [
    "## Animation\n",
    "\n",
    "The linear interpolations (and *extra*polations) of this algorithm\n",
    "can be shown graphically.\n",
    "By means of the file [barry_goldman.py](barry_goldman.py)\n",
    "-- and with the help of [helper.py](helper.py) --\n",
    "we can show an animation of the algorithm:"
   ]
  },
  {
   "cell_type": "code",
   "execution_count": null,
   "metadata": {},
   "outputs": [],
   "source": [
    "from barry_goldman import animation\n",
    "from helper import show_animation"
   ]
  },
  {
   "cell_type": "code",
   "execution_count": null,
   "metadata": {},
   "outputs": [],
   "source": [
    "vertices = [\n",
    "    (1, 0),\n",
    "    (0.5, 1),\n",
    "    (6, 2),\n",
    "    (5, 0),\n",
    "]"
   ]
  },
  {
   "cell_type": "code",
   "execution_count": null,
   "metadata": {},
   "outputs": [],
   "source": [
    "times = [\n",
    "    0,\n",
    "    1,\n",
    "    6,\n",
    "    8,\n",
    "]"
   ]
  },
  {
   "cell_type": "code",
   "execution_count": null,
   "metadata": {},
   "outputs": [],
   "source": [
    "show_animation(animation(vertices, times))"
   ]
  },
  {
   "cell_type": "markdown",
   "metadata": {},
   "source": [
    "If this doesn't look very intuitive to you,\n",
    "you are not alone.\n",
    "For a different (and probably more straightforward) point of view,\n",
    "have a look at the\n",
    "[notebook about non-uniform Catmull--Rom splines](catmull-rom-non-uniform.ipynb#Animation)."
   ]
  }
 ],
 "metadata": {
  "kernelspec": {
   "display_name": "Python 3 (ipykernel)",
   "language": "python",
   "name": "python3"
  },
  "language_info": {
   "codemirror_mode": {
    "name": "ipython",
    "version": 3
   },
   "file_extension": ".py",
   "mimetype": "text/x-python",
   "name": "python",
   "nbconvert_exporter": "python",
   "pygments_lexer": "ipython3",
   "version": "3.11.2"
  }
 },
 "nbformat": 4,
 "nbformat_minor": 4
}
