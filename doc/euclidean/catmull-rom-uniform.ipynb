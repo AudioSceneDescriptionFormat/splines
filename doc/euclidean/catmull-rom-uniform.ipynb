{
 "cells": [
  {
   "cell_type": "markdown",
   "metadata": {
    "nbsphinx": "hidden"
   },
   "source": [
    "This notebook is part of https://github.com/AudioSceneDescriptionFormat/splines, see also https://splines.readthedocs.io/.\n",
    "\n",
    "[back to overview](catmull-rom.ipynb)"
   ]
  },
  {
   "cell_type": "markdown",
   "metadata": {},
   "source": [
    "# Derivation of Uniform Catmull-Rom Splines"
   ]
  },
  {
   "cell_type": "markdown",
   "metadata": {},
   "source": [
    "tangent vectors:\n",
    "\n",
    "\\begin{equation}\n",
    "\\boldsymbol{\\dot{x}}_i = \\frac{\\boldsymbol{x}_{i+1} - \\boldsymbol{x}_{i-1}}{2}\n",
    "\\end{equation}"
   ]
  },
  {
   "cell_type": "code",
   "execution_count": null,
   "metadata": {},
   "outputs": [],
   "source": [
    "import sympy as sp\n",
    "sp.init_printing()"
   ]
  },
  {
   "cell_type": "code",
   "execution_count": null,
   "metadata": {},
   "outputs": [],
   "source": [
    "from utility import NamedExpression, NamedMatrix"
   ]
  },
  {
   "cell_type": "code",
   "execution_count": null,
   "metadata": {},
   "outputs": [],
   "source": [
    "from helper import plot_basis"
   ]
  },
  {
   "cell_type": "markdown",
   "metadata": {},
   "source": [
    "To keep the indices simple,\n",
    "we are considering the fifth spline segment\n",
    "from $\\boldsymbol{x}_4$ to $\\boldsymbol{x}_5$,\n",
    "but the results can of course easily be generalized\n",
    "to an arbitrary segment\n",
    "from $\\boldsymbol{x}_i$ to $\\boldsymbol{x}_{i+1}$."
   ]
  },
  {
   "cell_type": "markdown",
   "metadata": {},
   "source": [
    "Reminder: [Hermite spline](hermite-uniform.ipynb) segments\n",
    "use the start and end positions as well as the tangent vectors\n",
    "at start and end:"
   ]
  },
  {
   "cell_type": "code",
   "execution_count": null,
   "metadata": {},
   "outputs": [],
   "source": [
    "control_values_H = sp.Matrix(sp.symbols('xbm4:6 xdotbm4:6'))\n",
    "control_values_H"
   ]
  },
  {
   "cell_type": "markdown",
   "metadata": {},
   "source": [
    "Catmull-Rom splines use 4 positions instead:\n",
    "The start and end positions of the current segment ($\\boldsymbol{x}_4$ and $\\boldsymbol{x}_5$) plus the start position of the previous segment ($\\boldsymbol{x}_3$) and the end position of the following segment ($\\boldsymbol{x}_6$).\n",
    "\n",
    "TODO: figure? more explanations ..."
   ]
  },
  {
   "cell_type": "code",
   "execution_count": null,
   "metadata": {},
   "outputs": [],
   "source": [
    "x3, x4, x5, x6 = sp.symbols('xbm3:7')"
   ]
  },
  {
   "cell_type": "code",
   "execution_count": null,
   "metadata": {},
   "outputs": [],
   "source": [
    "control_values_CR = sp.Matrix([x3, x4, x5, x6])\n",
    "control_values_CR"
   ]
  },
  {
   "cell_type": "code",
   "execution_count": null,
   "metadata": {},
   "outputs": [],
   "source": [
    "xd4 = NamedExpression('xdotbm4', (x5 - x3) / 2)\n",
    "xd4"
   ]
  },
  {
   "cell_type": "code",
   "execution_count": null,
   "metadata": {},
   "outputs": [],
   "source": [
    "xd5 = NamedExpression('xdotbm5', (x6 - x4) / 2)\n",
    "xd5"
   ]
  },
  {
   "cell_type": "markdown",
   "metadata": {},
   "source": [
    "So let's look for a way to transform Catmull-Rom control values to Hermite control values.\n",
    "Since we already have $M_\\text{H}$ from [the notebook about uniform Hermite splines](hermite-uniform.ipynb), we can use it to get $M_\\text{CR}$:"
   ]
  },
  {
   "cell_type": "code",
   "execution_count": null,
   "metadata": {},
   "outputs": [],
   "source": [
    "M_H = NamedMatrix(\n",
    "    r'{M_\\text{H}}',\n",
    "    sp.Matrix([[2, -2, 1, 1], [-3, 3, -2, -1], [0, 0, 1, 0], [1, 0, 0, 0]]))\n",
    "M_H"
   ]
  },
  {
   "cell_type": "code",
   "execution_count": null,
   "metadata": {},
   "outputs": [],
   "source": [
    "M_CRtoH = NamedMatrix(r'{M_{\\text{CR$\\to$H}}}', 4, 4)"
   ]
  },
  {
   "cell_type": "code",
   "execution_count": null,
   "metadata": {},
   "outputs": [],
   "source": [
    "M_CR = NamedMatrix(r'{M_\\text{CR}}', M_H.name * M_CRtoH.name)\n",
    "M_CR"
   ]
  },
  {
   "cell_type": "code",
   "execution_count": null,
   "metadata": {},
   "outputs": [],
   "source": [
    "NamedMatrix(control_values_H, M_CRtoH.name * control_values_CR)"
   ]
  },
  {
   "cell_type": "markdown",
   "metadata": {},
   "source": [
    "If we substitute the above definitions of\n",
    "$\\boldsymbol{\\dot{x}}_4$ and\n",
    "$\\boldsymbol{\\dot{x}}_5$,\n",
    "we can directly read off the matrix elements:"
   ]
  },
  {
   "cell_type": "code",
   "execution_count": null,
   "metadata": {},
   "outputs": [],
   "source": [
    "M_CRtoH.expr = sp.Matrix([\n",
    "    [expr.coeff(cv) for cv in control_values_CR]\n",
    "    for expr in control_values_H.subs([xd4.args, xd5.args])])\n",
    "M_CRtoH.pull_out(sp.S.Half)"
   ]
  },
  {
   "cell_type": "code",
   "execution_count": null,
   "metadata": {},
   "outputs": [],
   "source": [
    "print(_.expr)"
   ]
  },
  {
   "cell_type": "code",
   "execution_count": null,
   "metadata": {},
   "outputs": [],
   "source": [
    "M_HtoCR = NamedMatrix(r'{M_{\\text{H$\\to$CR}}}', M_CRtoH.I.expr)\n",
    "M_HtoCR"
   ]
  },
  {
   "cell_type": "code",
   "execution_count": null,
   "metadata": {},
   "outputs": [],
   "source": [
    "print(_.expr)"
   ]
  },
  {
   "cell_type": "code",
   "execution_count": null,
   "metadata": {},
   "outputs": [],
   "source": [
    "M_CR = M_CR.subs_symbols(M_H, M_CRtoH).doit()\n",
    "M_CR.pull_out(sp.S.Half)"
   ]
  },
  {
   "cell_type": "code",
   "execution_count": null,
   "metadata": {},
   "outputs": [],
   "source": [
    "print(_.expr)"
   ]
  },
  {
   "cell_type": "markdown",
   "metadata": {},
   "source": [
    "And for completeness' sake, its inverse:"
   ]
  },
  {
   "cell_type": "code",
   "execution_count": null,
   "metadata": {},
   "outputs": [],
   "source": [
    "M_CR.I"
   ]
  },
  {
   "cell_type": "code",
   "execution_count": null,
   "metadata": {},
   "outputs": [],
   "source": [
    "print(_.expr)"
   ]
  },
  {
   "cell_type": "code",
   "execution_count": null,
   "metadata": {},
   "outputs": [],
   "source": [
    "t = sp.symbols('t')"
   ]
  },
  {
   "cell_type": "code",
   "execution_count": null,
   "metadata": {},
   "outputs": [],
   "source": [
    "b_CR = NamedMatrix(\n",
    "    r'{b_\\text{CR}}',\n",
    "    sp.Matrix([t**3, t**2, t, 1]).T * M_CR.expr)\n",
    "b_CR.T.pull_out(sp.S.Half)"
   ]
  },
  {
   "cell_type": "code",
   "execution_count": null,
   "metadata": {},
   "outputs": [],
   "source": [
    "plot_basis(\n",
    "    *b_CR.expr,\n",
    "    labels=sp.symbols('xbm_i-1 xbm_i xbm_i+1 xbm_i+2'))"
   ]
  }
 ],
 "metadata": {
  "kernelspec": {
   "display_name": "Python 3",
   "language": "python",
   "name": "python3"
  },
  "language_info": {
   "codemirror_mode": {
    "name": "ipython",
    "version": 3
   },
   "file_extension": ".py",
   "mimetype": "text/x-python",
   "name": "python",
   "nbconvert_exporter": "python",
   "pygments_lexer": "ipython3",
   "version": "3.9.1"
  }
 },
 "nbformat": 4,
 "nbformat_minor": 4
}
