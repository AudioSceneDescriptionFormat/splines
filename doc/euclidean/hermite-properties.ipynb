{
 "cells": [
  {
   "cell_type": "markdown",
   "metadata": {
    "nbsphinx": "hidden"
   },
   "source": [
    "This notebook is part of https://github.com/AudioSceneDescriptionFormat/splines, see also https://splines.readthedocs.io/.\n",
    "\n",
    "[back to overview](hermite.ipynb) -\n",
    "[derivation (uniform)](hermite-uniform.ipynb) -\n",
    "[derivation (non-uniform)](hermite-non-uniform.ipynb)"
   ]
  },
  {
   "cell_type": "markdown",
   "metadata": {},
   "source": [
    "# Properties of Hermite Splines\n",
    "\n",
    "Hermite splines are interpolating polynomial splines,\n",
    "where for each polynomial segment\n",
    "the desired value at the start and end is given (obviously!),\n",
    "as well as the values of a certain number of derivatives\n",
    "at the start and/or the end.\n",
    "\n",
    "Most commonly, *cubic* (= degree 3) Hermite splines are used.\n",
    "Cubic polynomials have 4 coefficients to be chosen freely,\n",
    "and those are determined for each segment of a cubic Hermite spline\n",
    "by providing 4 pieces of information:\n",
    "the function value and the first derivative,\n",
    "both at the beginning and the end of the segment.\n",
    "\n",
    "Other degrees of Hermite splines are possible (but much rarer),\n",
    "for example *quintic* (= degree 5) Hermite splines,\n",
    "which are defined by the second derivatives\n",
    "at the start and end of each segment,\n",
    "on top of the first derivatives and the function values (6 values in total).\n",
    "\n",
    "Hermite splines with even degrees are probably still rarer.\n",
    "For example, *quadratic* (= degree 2) Hermite splines can be constructed\n",
    "by providing the function values at both beginning and end of each segment,\n",
    "but only one first derivative, either at the beginning or at the end\n",
    "(leading to 3 values in total).\n",
    "Make sure not to confuse them with *quartic* (= degree 4) Hermite splines,\n",
    "which are defined by 5 values per segment:\n",
    "function value and first derivative at both ends,\n",
    "and one of the second derivatives."
   ]
  },
  {
   "cell_type": "markdown",
   "metadata": {},
   "source": [
    "However, *cubic Hermite splines* are so overwhelmingly common\n",
    "that they are often simply referred to as *Hermite splines*.\n",
    "From this point forward, we will only be considering *cubic* Hermite splines."
   ]
  },
  {
   "cell_type": "code",
   "execution_count": null,
   "metadata": {},
   "outputs": [],
   "source": [
    "import splines"
   ]
  },
  {
   "cell_type": "code",
   "execution_count": null,
   "metadata": {},
   "outputs": [],
   "source": [
    "import matplotlib.pyplot as plt\n",
    "import numpy as np"
   ]
  },
  {
   "cell_type": "markdown",
   "metadata": {},
   "source": [
    "We import a few helper functions from [helper.py](helper.py):"
   ]
  },
  {
   "cell_type": "code",
   "execution_count": null,
   "metadata": {},
   "outputs": [],
   "source": [
    "from helper import plot_spline_1d, plot_slopes_1d, grid_lines\n",
    "from helper import plot_spline_2d, plot_tangents_2d"
   ]
  },
  {
   "cell_type": "markdown",
   "metadata": {},
   "source": [
    "Let's look at a one-dimensional spline first.\n",
    "Here are some values (to be interpolated)\n",
    "and a list of associated parameter values\n",
    "(or time instances, if you will)."
   ]
  },
  {
   "cell_type": "code",
   "execution_count": null,
   "metadata": {},
   "outputs": [],
   "source": [
    "values = 2, 4, 3, 3\n",
    "grid = 5, 7, 8, 10"
   ]
  },
  {
   "cell_type": "markdown",
   "metadata": {},
   "source": [
    "Since (cubic) Hermite splines ask for the first derivative\n",
    "at the beginning and end of each segment,\n",
    "we have to come up with a list of slopes (outgoing, incoming, outgoing, incoming, ...)."
   ]
  },
  {
   "cell_type": "code",
   "execution_count": null,
   "metadata": {},
   "outputs": [],
   "source": [
    "slopes = 0, 0, -1, 0.5, 1, 3"
   ]
  },
  {
   "cell_type": "markdown",
   "metadata": {},
   "source": [
    "We are using the\n",
    "[splines.CubicHermite](../python-module/splines.rst#splines.CubicHermite)\n",
    "class to create the spline:"
   ]
  },
  {
   "cell_type": "code",
   "execution_count": null,
   "metadata": {},
   "outputs": [],
   "source": [
    "s1 = splines.CubicHermite(values, slopes, grid=grid)"
   ]
  },
  {
   "cell_type": "markdown",
   "metadata": {},
   "source": [
    "OK, let's plot this one-dimensional spline,\n",
    "together with the given values and slopes."
   ]
  },
  {
   "cell_type": "code",
   "execution_count": null,
   "metadata": {},
   "outputs": [],
   "source": [
    "plot_spline_1d(s1)\n",
    "plot_slopes_1d(slopes, values, grid)\n",
    "grid_lines(grid)"
   ]
  },
  {
   "cell_type": "markdown",
   "metadata": {},
   "source": [
    "Let's try a two-dimensional curve now (higher dimensions work similarly)."
   ]
  },
  {
   "cell_type": "code",
   "execution_count": null,
   "metadata": {},
   "outputs": [],
   "source": [
    "vertices = [\n",
    "    (0, 0),\n",
    "    (2, 0),\n",
    "    (1, 1),\n",
    "]"
   ]
  },
  {
   "cell_type": "markdown",
   "metadata": {},
   "source": [
    "The derivative of a curve is its tangent vector,\n",
    "so here is a list of associated tangent vectors\n",
    "(outgoing, incoming, outgoing, incoming, ...):"
   ]
  },
  {
   "cell_type": "code",
   "execution_count": null,
   "metadata": {},
   "outputs": [],
   "source": [
    "tangents = [\n",
    "    (2, 1),\n",
    "    (0.1, 0.1),\n",
    "    (-0.5, 1),\n",
    "    (1, 0),\n",
    "]"
   ]
  },
  {
   "cell_type": "code",
   "execution_count": null,
   "metadata": {},
   "outputs": [],
   "source": [
    "s2 = splines.CubicHermite(vertices, tangents)"
   ]
  },
  {
   "cell_type": "code",
   "execution_count": null,
   "metadata": {},
   "outputs": [],
   "source": [
    "fig, ax = plt.subplots()\n",
    "plot_spline_2d(s2, ax=ax)\n",
    "plot_tangents_2d(tangents, vertices, ax=ax)"
   ]
  },
  {
   "cell_type": "markdown",
   "metadata": {},
   "source": [
    "If no parameter values are given (by means of the `grid` argument),\n",
    "the [splines.CubicHermite](../python-module/splines.rst#splines.CubicHermite)\n",
    "class creates a *uniform* spline,\n",
    "i.e. all parameter intervals are automatically chosen to be 1.\n",
    "We can create a *non-uniform* spline by providing our own parameter values:"
   ]
  },
  {
   "cell_type": "code",
   "execution_count": null,
   "metadata": {},
   "outputs": [],
   "source": [
    "grid = 0, 0.5, 3"
   ]
  },
  {
   "cell_type": "markdown",
   "metadata": {},
   "source": [
    "Using the same vertices and tangents,\n",
    "we can clearly see how the new parameter values influence\n",
    "the shape and the speed of the curve\n",
    "(the dots are plotted at equal time intervals!):"
   ]
  },
  {
   "cell_type": "code",
   "execution_count": null,
   "metadata": {},
   "outputs": [],
   "source": [
    "s3 = splines.CubicHermite(vertices, tangents, grid=grid)"
   ]
  },
  {
   "cell_type": "code",
   "execution_count": null,
   "metadata": {},
   "outputs": [],
   "source": [
    "plot_spline_2d(s3, ax=ax)\n",
    "fig"
   ]
  },
  {
   "cell_type": "markdown",
   "metadata": {},
   "source": [
    "Hermite splines are by default $C^0$ continuous.\n",
    "If adjacent tangents are chosen to point into the same direction,\n",
    "the spline becomes $G^1$ continuous.\n",
    "If on top of having the same direction,\n",
    "adjacent tangents are chosen to have the same length,\n",
    "that makes the spline $C^1$ continuous.\n",
    "An example for that are [Catmull--Rom splines](catmull-rom.ipynb).\n",
    "[Kochanek--Bartels splines](kochanek-bartels.ipynb)\n",
    "can also be $C^1$ continuous,\n",
    "but only if their \"continuity\" parameter $C$ is zero.\n",
    "\n",
    "There is one unique choice of all of a cubic Hermite spline's tangents\n",
    "-- given certain [end conditions](end-conditions.ipynb) --\n",
    "that leads to continuous second derivatives at all vertices,\n",
    "making the spline $C^2$ continuous.\n",
    "This is what [natural splines](natural.ipynb) are all about."
   ]
  }
 ],
 "metadata": {
  "kernelspec": {
   "display_name": "Python 3 (ipykernel)",
   "language": "python",
   "name": "python3"
  },
  "language_info": {
   "codemirror_mode": {
    "name": "ipython",
    "version": 3
   },
   "file_extension": ".py",
   "mimetype": "text/x-python",
   "name": "python",
   "nbconvert_exporter": "python",
   "pygments_lexer": "ipython3",
   "version": "3.11.2"
  }
 },
 "nbformat": 4,
 "nbformat_minor": 4
}
