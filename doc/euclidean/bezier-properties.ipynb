{
 "cells": [
  {
   "cell_type": "markdown",
   "metadata": {
    "nbsphinx": "hidden"
   },
   "source": [
    "This notebook is part of https://github.com/AudioSceneDescriptionFormat/splines, see also https://splines.readthedocs.io/.\n",
    "\n",
    "[back to overview](bezier.ipynb)"
   ]
  },
  {
   "cell_type": "markdown",
   "metadata": {},
   "source": [
    "# Properties of Bézier Splines\n",
    "\n",
    "The terms *Bézier spline* and *Bézier curve*\n",
    "are sometimes used interchangeably for two slightly different things:\n",
    "\n",
    "1. A curve constructed from a single Bernstein polynomial of degree $d$,\n",
    "   given a *control polygon* consisting of a sequence of $d + 1$ vertices.\n",
    "   The first and last vertex\n",
    "   lie on the curve (at its start and end, respectively),\n",
    "   while the other vertices in general don't\n",
    "   (the curve *approximates* them).\n",
    "\n",
    "2. A piecewise polynomial curve consisting of multiple segments,\n",
    "   each of them constructed from a separate Bernstein polynomial.\n",
    "   The start and end points of neighboring control polygons typically coincide,\n",
    "   leading to $C^0$ continuity.\n",
    "   However, the overall control polygon can be chosen in a way to achieve\n",
    "   $G^1$ or $C^1$ (or even higher) continuity."
   ]
  },
  {
   "cell_type": "markdown",
   "metadata": {},
   "source": [
    "We use the term *Bézier curve* for the former\n",
    "and *Bézier spline* for the latter.\n",
    "Bézier splines in the latter sense are well known\n",
    "from their common use in 2D vector graphics software,\n",
    "where cubic (i.e. degree 3) curve segments are typically used.\n",
    "Each segment has four control points:\n",
    "The start and end point of the segment\n",
    "(shared with the end and start of the previous and next segment, respectively)\n",
    "as well as two additional points that control the shape of the curve segment."
   ]
  },
  {
   "cell_type": "code",
   "execution_count": null,
   "metadata": {},
   "outputs": [],
   "source": [
    "import matplotlib.pyplot as plt\n",
    "import numpy as np"
   ]
  },
  {
   "cell_type": "code",
   "execution_count": null,
   "metadata": {},
   "outputs": [],
   "source": [
    "import splines"
   ]
  },
  {
   "cell_type": "markdown",
   "metadata": {},
   "source": [
    "As an example,\n",
    "we create control points for a Bézier spline\n",
    "consisting of four segments,\n",
    "having polynomial degrees of 1, 2, 3 and 4."
   ]
  },
  {
   "cell_type": "code",
   "execution_count": null,
   "metadata": {},
   "outputs": [],
   "source": [
    "control_points = [\n",
    "    [(0, 0), (1, 4)],\n",
    "    [(1, 4), (2, 2), (4, 4)],\n",
    "    [(4, 4), (6, 4), (5, 2), (7, 2)],\n",
    "    [(7, 2), (8, 0), (4, 0), (5, 1), (3, 1)],\n",
    "]"
   ]
  },
  {
   "cell_type": "markdown",
   "metadata": {},
   "source": [
    "We are using the class\n",
    "[splines.Bernstein](../python-module/splines.rst#splines.Bernstein)\n",
    "to construct a Bézier spline from these control points."
   ]
  },
  {
   "cell_type": "code",
   "execution_count": null,
   "metadata": {},
   "outputs": [],
   "source": [
    "s = splines.Bernstein(control_points)"
   ]
  },
  {
   "cell_type": "code",
   "execution_count": null,
   "metadata": {},
   "outputs": [],
   "source": [
    "times = np.linspace(s.grid[0], s.grid[-1], 100)"
   ]
  },
  {
   "cell_type": "code",
   "execution_count": null,
   "metadata": {},
   "outputs": [],
   "source": [
    "fig, ax = plt.subplots()\n",
    "for segment in control_points:\n",
    "    xy = np.transpose(segment)\n",
    "    ax.plot(*xy, '--')\n",
    "    ax.scatter(*xy, color='grey')\n",
    "ax.plot(*s.evaluate(times).T, 'k.')\n",
    "ax.axis('equal');"
   ]
  }
 ],
 "metadata": {
  "kernelspec": {
   "display_name": "Python 3 (ipykernel)",
   "language": "python",
   "name": "python3"
  },
  "language_info": {
   "codemirror_mode": {
    "name": "ipython",
    "version": 3
   },
   "file_extension": ".py",
   "mimetype": "text/x-python",
   "name": "python",
   "nbconvert_exporter": "python",
   "pygments_lexer": "ipython3",
   "version": "3.11.2"
  }
 },
 "nbformat": 4,
 "nbformat_minor": 4
}
