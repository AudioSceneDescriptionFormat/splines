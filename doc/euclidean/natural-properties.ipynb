{
 "cells": [
  {
   "cell_type": "markdown",
   "metadata": {
    "nbsphinx": "hidden"
   },
   "source": [
    "This notebook is part of https://github.com/AudioSceneDescriptionFormat/splines, see also \n",
    "https://splines.readthedocs.io/.\n",
    "\n",
    "[back to overview](natural.ipynb) -\n",
    "[derivation (uniform)](natural-uniform.ipynb) -\n",
    "[derivation (non-uniform)](natural-non-uniform.ipynb)"
   ]
  },
  {
   "cell_type": "markdown",
   "metadata": {},
   "source": [
    "# Properties of Natural Splines\n",
    "\n",
    "The most important property of natural splines\n",
    "is that they are $C^2$ continuous,\n",
    "which means that the second derivatives\n",
    "match at section borders."
   ]
  },
  {
   "cell_type": "code",
   "execution_count": null,
   "metadata": {},
   "outputs": [],
   "source": [
    "import splines"
   ]
  },
  {
   "cell_type": "code",
   "execution_count": null,
   "metadata": {},
   "outputs": [],
   "source": [
    "vertices = [\n",
    "    (0, 0),\n",
    "    (1, 0),\n",
    "    (2, 1),\n",
    "    (3, 1),\n",
    "]"
   ]
  },
  {
   "cell_type": "markdown",
   "metadata": {},
   "source": [
    "We use the class\n",
    "[splines.Natural](../python-module/splines.rst#splines.Natural) ..."
   ]
  },
  {
   "cell_type": "code",
   "execution_count": null,
   "metadata": {},
   "outputs": [],
   "source": [
    "s = splines.Natural(vertices)"
   ]
  },
  {
   "cell_type": "markdown",
   "metadata": {},
   "source": [
    "... and a plotting function from [helper.py](helper.py):"
   ]
  },
  {
   "cell_type": "code",
   "execution_count": null,
   "metadata": {},
   "outputs": [],
   "source": [
    "from helper import plot_spline_2d"
   ]
  },
  {
   "cell_type": "code",
   "execution_count": null,
   "metadata": {},
   "outputs": [],
   "source": [
    "plot_spline_2d(s)"
   ]
  },
  {
   "cell_type": "code",
   "execution_count": null,
   "metadata": {},
   "outputs": [],
   "source": [
    "def plot_natural(*args, **kwargs):\n",
    "    plot_spline_2d(splines.Natural(*args, **kwargs), chords=False)"
   ]
  },
  {
   "cell_type": "markdown",
   "metadata": {},
   "source": [
    "A downside of natural splines is that\n",
    "they don't provide *local control*.\n",
    "Changing only a single control point\n",
    "potentially influences the whole curve."
   ]
  },
  {
   "cell_type": "code",
   "execution_count": null,
   "metadata": {},
   "outputs": [],
   "source": [
    "plot_natural([\n",
    "    (0, 0),\n",
    "    (0.5, 0),\n",
    "    (2, -1),\n",
    "    (3, 2),\n",
    "    (1, 3),\n",
    "    (-2, 2),\n",
    "])\n",
    "plot_natural([\n",
    "    (0, 0),\n",
    "    (0.5, 0),\n",
    "    (2, -0.5),\n",
    "    (3, 2),\n",
    "    (1, 3),\n",
    "    (-2, 2),\n",
    "])"
   ]
  },
  {
   "cell_type": "markdown",
   "metadata": {},
   "source": [
    "By default,\n",
    "[natural end conditions](natural-uniform.ipynb#End-Conditions) are used,\n",
    "but alternatively, the end tangents can be *clamped* to given values."
   ]
  },
  {
   "cell_type": "code",
   "execution_count": null,
   "metadata": {},
   "outputs": [],
   "source": [
    "plot_natural(vertices, endconditions='natural')\n",
    "plot_natural(vertices, endconditions=[[0, 0], 'natural'])\n",
    "plot_natural(vertices, endconditions=[[1, -1], 'natural'])\n",
    "plot_natural(vertices, endconditions=[[2, -2], 'natural'])"
   ]
  },
  {
   "cell_type": "code",
   "execution_count": null,
   "metadata": {},
   "outputs": [],
   "source": [
    "plot_natural(vertices, endconditions='closed')"
   ]
  },
  {
   "cell_type": "code",
   "execution_count": null,
   "metadata": {},
   "outputs": [],
   "source": [
    "plot_natural(vertices, endconditions='closed', alpha=0.5)"
   ]
  }
 ],
 "metadata": {
  "kernelspec": {
   "display_name": "Python 3",
   "language": "python",
   "name": "python3"
  },
  "language_info": {
   "codemirror_mode": {
    "name": "ipython",
    "version": 3
   },
   "file_extension": ".py",
   "mimetype": "text/x-python",
   "name": "python",
   "nbconvert_exporter": "python",
   "pygments_lexer": "ipython3",
   "version": "3.9.2"
  }
 },
 "nbformat": 4,
 "nbformat_minor": 4
}
