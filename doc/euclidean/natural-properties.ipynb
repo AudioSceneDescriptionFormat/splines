{
 "cells": [
  {
   "cell_type": "markdown",
   "metadata": {
    "nbsphinx": "hidden"
   },
   "source": [
    "This notebook is part of https://github.com/AudioSceneDescriptionFormat/splines, see also \n",
    "https://splines.readthedocs.io/.\n",
    "\n",
    "[back to overview](natural.ipynb) -\n",
    "[derivation (uniform)](natural-uniform.ipynb) -\n",
    "[derivation (non-uniform)](natural-non-uniform.ipynb)"
   ]
  },
  {
   "cell_type": "markdown",
   "metadata": {},
   "source": [
    "# Properties of Natural Splines\n",
    "\n",
    "The most important property of (cubic) natural splines\n",
    "is that they are $C^2$ continuous,\n",
    "which means that the second derivatives\n",
    "match at the transitions between segments.\n",
    "On top of that, they are *interpolating*,\n",
    "which means that the curve passes through the given control points."
   ]
  },
  {
   "cell_type": "code",
   "execution_count": null,
   "metadata": {},
   "outputs": [],
   "source": [
    "import splines\n",
    "import matplotlib.pyplot as plt"
   ]
  },
  {
   "cell_type": "code",
   "execution_count": null,
   "metadata": {},
   "outputs": [],
   "source": [
    "vertices = [\n",
    "    (0, 0),\n",
    "    (1, 1),\n",
    "    (1.5, 1),\n",
    "    (1.5, -0.5),\n",
    "    (3.5, 0),\n",
    "    (3, 1),\n",
    "    (2, 0.5),\n",
    "    (0.5, -0.5),\n",
    "]"
   ]
  },
  {
   "cell_type": "markdown",
   "metadata": {},
   "source": [
    "To show an example, we use the class\n",
    "[splines.Natural](../python-module/splines.rst#splines.Natural)\n",
    "and a plotting function from [helper.py](helper.py):"
   ]
  },
  {
   "cell_type": "code",
   "execution_count": null,
   "metadata": {},
   "outputs": [],
   "source": [
    "from helper import plot_spline_2d"
   ]
  },
  {
   "cell_type": "code",
   "execution_count": null,
   "metadata": {},
   "outputs": [],
   "source": [
    "plot_spline_2d(\n",
    "    splines.Natural(vertices, endconditions='closed'),\n",
    "    chords=False)"
   ]
  },
  {
   "cell_type": "markdown",
   "metadata": {},
   "source": [
    "A downside of natural splines is that\n",
    "they don't provide *local control*.\n",
    "Changing only a single control point\n",
    "potentially influences the whole curve."
   ]
  },
  {
   "cell_type": "code",
   "execution_count": null,
   "metadata": {},
   "outputs": [],
   "source": [
    "modified_vertices = vertices.copy()\n",
    "modified_vertices[6] = 1, 0.5"
   ]
  },
  {
   "cell_type": "code",
   "execution_count": null,
   "metadata": {},
   "outputs": [],
   "source": [
    "plot_spline_2d(\n",
    "    splines.Natural(vertices, endconditions='closed'),\n",
    "    chords=False)\n",
    "plot_spline_2d(\n",
    "    splines.Natural(modified_vertices, endconditions='closed'),\n",
    "    chords=False)"
   ]
  },
  {
   "cell_type": "markdown",
   "metadata": {},
   "source": [
    "We can see that there are deviations in all segments,\n",
    "not only close to the modified vertex.\n",
    "\n",
    "For comparison, we can use the same vertices to create a uniform cubic\n",
    "[Catmull--Rom spline](catmull-rom.ipynb)\n",
    "using the\n",
    "[splines.CatmullRom](../python-module/splines.rst#splines.CatmullRom)\n",
    "class:"
   ]
  },
  {
   "cell_type": "code",
   "execution_count": null,
   "metadata": {},
   "outputs": [],
   "source": [
    "plot_spline_2d(\n",
    "    splines.CatmullRom(vertices, endconditions='closed'),\n",
    "    chords=False)\n",
    "plot_spline_2d(\n",
    "    splines.CatmullRom(modified_vertices, endconditions='closed'),\n",
    "    chords=False)"
   ]
  },
  {
   "cell_type": "markdown",
   "metadata": {},
   "source": [
    "Here we can see that two segments before\n",
    "and two segments after the modified vertex are affected,\n",
    "but the rest of the segments remain unchanged."
   ]
  },
  {
   "cell_type": "markdown",
   "metadata": {},
   "source": [
    "Although this is typically only used with Catmull--Rom splines,\n",
    "we can also use\n",
    "[centripetal parameterization](catmull-rom-properties.ipynb#Centripetal-Parameterization)\n",
    "for a natural spline:"
   ]
  },
  {
   "cell_type": "code",
   "execution_count": null,
   "metadata": {},
   "outputs": [],
   "source": [
    "plot_spline_2d(\n",
    "    splines.Natural(vertices, endconditions='closed'),\n",
    "    chords=False, label='uniform')\n",
    "plot_spline_2d(\n",
    "    splines.Natural(vertices, endconditions='closed', alpha=0.5),\n",
    "    chords=False, label='centripetal')\n",
    "plt.legend(numpoints=3);"
   ]
  }
 ],
 "metadata": {
  "kernelspec": {
   "display_name": "Python 3 (ipykernel)",
   "language": "python",
   "name": "python3"
  },
  "language_info": {
   "codemirror_mode": {
    "name": "ipython",
    "version": 3
   },
   "file_extension": ".py",
   "mimetype": "text/x-python",
   "name": "python",
   "nbconvert_exporter": "python",
   "pygments_lexer": "ipython3",
   "version": "3.11.2"
  }
 },
 "nbformat": 4,
 "nbformat_minor": 4
}
