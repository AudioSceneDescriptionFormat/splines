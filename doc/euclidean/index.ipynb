{
 "cells": [
  {
   "cell_type": "markdown",
   "metadata": {
    "nbsphinx": "hidden"
   },
   "source": [
    "This notebook is part of https://github.com/AudioSceneDescriptionFormat/splines, see also http://splines.readthedocs.io/."
   ]
  },
  {
   "cell_type": "markdown",
   "metadata": {},
   "source": [
    "# Polynomial Curves in Euclidean Space"
   ]
  },
  {
   "cell_type": "markdown",
   "metadata": {
    "nbsphinx-toctree": {}
   },
   "source": [
    "* [Polynomial Parametric Curves](polynomials.ipynb)\n",
    "* [Natural Splines](natural.ipynb)\n",
    "* [Uniform Hermite Splines](hermite-uniform.ipynb)\n",
    "* [Non-Uniform Hermite Splines](hermite-non-uniform.ipynb)\n",
    "* [Bézier Splines](bezier.ipynb)\n",
    "* [Catmull--Rom Splines](catmull-rom.ipynb)\n",
    "* [Finite Difference Splines](finite-difference.ipynb)\n",
    "* [\"Natural\" End Conditions](end-conditions-natural.ipynb)\n",
    "* [Uniform Kochanek--Bartels Splines](kochanek-bartels-uniform.ipynb)\n",
    "* [Non-Uniform Kochanek--Bartels Splines](kochanek-bartels-non-uniform.ipynb)"
   ]
  }
 ],
 "metadata": {
  "kernelspec": {
   "display_name": "Python 3",
   "language": "python",
   "name": "python3"
  },
  "language_info": {
   "codemirror_mode": {
    "name": "ipython",
    "version": 3
   },
   "file_extension": ".py",
   "mimetype": "text/x-python",
   "name": "python",
   "nbconvert_exporter": "python",
   "pygments_lexer": "ipython3",
   "version": "3.8.3rc1"
  }
 },
 "nbformat": 4,
 "nbformat_minor": 4
}
