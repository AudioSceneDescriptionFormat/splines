{
 "cells": [
  {
   "cell_type": "markdown",
   "metadata": {
    "nbsphinx": "hidden"
   },
   "source": [
    "This notebook is part of https://github.com/AudioSceneDescriptionFormat/splines, see also https://splines.readthedocs.io/.\n",
    "\n",
    "[back to overview](../index.ipynb)"
   ]
  },
  {
   "cell_type": "markdown",
   "metadata": {},
   "source": [
    "# Polynomial Curves in Euclidean Space"
   ]
  },
  {
   "cell_type": "markdown",
   "metadata": {
    "nbsphinx-toctree": {}
   },
   "source": [
    "* [Polynomial Parametric Curves](polynomials.ipynb)\n",
    "* [Lagrange Interpolation](lagrange.ipynb)\n",
    "* [Hermite Splines](hermite.ipynb)\n",
    "* [Natural Splines](natural.ipynb)\n",
    "* [Bézier Splines](bezier.ipynb)\n",
    "* [Catmull--Rom Splines](catmull-rom.ipynb)\n",
    "* [Kochanek--Bartels Splines](kochanek-bartels.ipynb)\n",
    "* [End Conditions](end-conditions.ipynb)\n",
    "* [Piecewise Monotone Interpolation](piecewise-monotone.ipynb)"
   ]
  }
 ],
 "metadata": {
  "kernelspec": {
   "display_name": "Python 3",
   "language": "python",
   "name": "python3"
  },
  "language_info": {
   "codemirror_mode": {
    "name": "ipython",
    "version": 3
   },
   "file_extension": ".py",
   "mimetype": "text/x-python",
   "name": "python",
   "nbconvert_exporter": "python",
   "pygments_lexer": "ipython3",
   "version": "3.9.1+"
  }
 },
 "nbformat": 4,
 "nbformat_minor": 4
}
