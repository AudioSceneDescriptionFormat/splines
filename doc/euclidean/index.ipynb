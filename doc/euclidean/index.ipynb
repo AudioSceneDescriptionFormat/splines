{
 "cells": [
  {
   "cell_type": "markdown",
   "metadata": {
    "nbsphinx": "hidden"
   },
   "source": [
    "This notebook is part of https://github.com/AudioSceneDescriptionFormat/splines, see also https://splines.readthedocs.io/.\n",
    "\n",
    "[back to overview](../index.ipynb)"
   ]
  },
  {
   "cell_type": "markdown",
   "metadata": {},
   "source": [
    "# Polynomial Curves in Euclidean Space\n",
    "\n",
    "This section is mostly about different types of\n",
    "univariate non-rational polynomial splines\n",
    "in one-, two- and three-dimensional Euclidean space --\n",
    "for an application in a four-dimensional space, see\n",
    "[the section about 4D quaternion interpolation](../rotation/naive-4d-interpolation.ipynb).\n",
    "\n",
    "But before diving into [splines](splines.rst)\n",
    "-- and before even defining what they are --\n",
    "we will discuss a few basics about polynomial curves\n",
    "and a spline-less interpolation method called\n",
    "[Lagrange interpolation](lagrange.ipynb).\n",
    "\n",
    "Many of the approaches shown in this section\n",
    "will later be adapted to the context of\n",
    "[rotation splines](../rotation/index.ipynb)."
   ]
  },
  {
   "cell_type": "markdown",
   "metadata": {
    "nbsphinx-toctree": {}
   },
   "source": [
    "* [Parametric Polynomial Curves](polynomials.ipynb)\n",
    "* [Lagrange Interpolation](lagrange.ipynb)\n",
    "* [Splines](splines.rst)\n",
    "* [Hermite Splines](hermite.ipynb)\n",
    "* [Natural Splines](natural.ipynb)\n",
    "* [Bézier Splines](bezier.ipynb)\n",
    "* [Quadrangle Interpolation](quadrangle.ipynb)\n",
    "* [Catmull--Rom Splines](catmull-rom.ipynb)\n",
    "* [Kochanek--Bartels Splines](kochanek-bartels.ipynb)\n",
    "* [End Conditions](end-conditions.ipynb)\n",
    "* [Piecewise Monotone Interpolation](piecewise-monotone.ipynb)\n",
    "* [Re-Parameterization](re-parameterization.ipynb)"
   ]
  }
 ],
 "metadata": {
  "kernelspec": {
   "display_name": "Python 3 (ipykernel)",
   "language": "python",
   "name": "python3"
  },
  "language_info": {
   "codemirror_mode": {
    "name": "ipython",
    "version": 3
   },
   "file_extension": ".py",
   "mimetype": "text/x-python",
   "name": "python",
   "nbconvert_exporter": "python",
   "pygments_lexer": "ipython3",
   "version": "3.11.2"
  }
 },
 "nbformat": 4,
 "nbformat_minor": 4
}
