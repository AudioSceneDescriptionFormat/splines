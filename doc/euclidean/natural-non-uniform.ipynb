{
 "cells": [
  {
   "cell_type": "markdown",
   "metadata": {
    "nbsphinx": "hidden"
   },
   "source": [
    "This notebook is part of https://github.com/AudioSceneDescriptionFormat/splines, see also https://splines.readthedocs.io/.\n",
    "\n",
    "[back to overview](natural.ipynb) -\n",
    "[properties](natural-properties.ipynb) -\n",
    "[derivation (uniform)](natural-uniform.ipynb)"
   ]
  },
  {
   "cell_type": "markdown",
   "metadata": {},
   "source": [
    "# Non-Uniform Natural Splines\n",
    "\n",
    "The derivation is similar to\n",
    "[the uniform case](natural-uniform.ipynb),\n",
    "but this time the parameter intervals can have arbitrary values."
   ]
  },
  {
   "cell_type": "code",
   "execution_count": null,
   "metadata": {},
   "outputs": [],
   "source": [
    "import sympy as sp\n",
    "sp.init_printing(order='grevlex')"
   ]
  },
  {
   "cell_type": "code",
   "execution_count": null,
   "metadata": {},
   "outputs": [],
   "source": [
    "from utility import NamedExpression, dotproduct"
   ]
  },
  {
   "cell_type": "code",
   "execution_count": null,
   "metadata": {},
   "outputs": [],
   "source": [
    "t = sp.symbols('t')"
   ]
  },
  {
   "cell_type": "markdown",
   "metadata": {},
   "source": [
    "Just like in the uniform case,\n",
    "we are considering two adjacent spline segments,\n",
    "but now we must allow arbitrary parameter values:"
   ]
  },
  {
   "cell_type": "code",
   "execution_count": null,
   "metadata": {},
   "outputs": [],
   "source": [
    "t3, t4, t5 = sp.symbols('t3:6')"
   ]
  },
  {
   "cell_type": "code",
   "execution_count": null,
   "metadata": {},
   "outputs": [],
   "source": [
    "b_monomial = t**3, t**2, t, 1"
   ]
  },
  {
   "cell_type": "code",
   "execution_count": null,
   "metadata": {},
   "outputs": [],
   "source": [
    "coefficients3 = sp.symbols('a:dbm3')[::-1]\n",
    "coefficients4 = sp.symbols('a:dbm4')[::-1]"
   ]
  },
  {
   "cell_type": "code",
   "execution_count": null,
   "metadata": {},
   "outputs": [],
   "source": [
    "p3 = NamedExpression(\n",
    "    'pbm3',\n",
    "    dotproduct(b_monomial, coefficients3).subs(t, (t - t3)/(t4 - t3)))\n",
    "p4 = NamedExpression(\n",
    "    'pbm4',\n",
    "    dotproduct(b_monomial, coefficients4).subs(t, (t - t4)/(t5 - t4)))\n",
    "display(p3, p4)"
   ]
  },
  {
   "cell_type": "code",
   "execution_count": null,
   "metadata": {},
   "outputs": [],
   "source": [
    "pd3 = p3.diff(t)\n",
    "pd4 = p4.diff(t)\n",
    "display(pd3, pd4)"
   ]
  },
  {
   "cell_type": "code",
   "execution_count": null,
   "metadata": {},
   "outputs": [],
   "source": [
    "equations = [\n",
    "    p3.evaluated_at(t, t3).with_name('xbm3'),\n",
    "    p3.evaluated_at(t, t4).with_name('xbm4'),\n",
    "    p4.evaluated_at(t, t4).with_name('xbm4'),\n",
    "    p4.evaluated_at(t, t5).with_name('xbm5'),\n",
    "    pd3.evaluated_at(t, t3).with_name('xbmdot3'),\n",
    "    pd3.evaluated_at(t, t4).with_name('xbmdot4'),\n",
    "    pd4.evaluated_at(t, t4).with_name('xbmdot4'),\n",
    "    pd4.evaluated_at(t, t5).with_name('xbmdot5'),\n",
    "]"
   ]
  },
  {
   "cell_type": "markdown",
   "metadata": {},
   "source": [
    "We introduce a few new symbols to simplify the display,\n",
    "but we keep calculating with $t_i$:"
   ]
  },
  {
   "cell_type": "code",
   "execution_count": null,
   "metadata": {},
   "outputs": [],
   "source": [
    "deltas = {\n",
    "    t3: 0,\n",
    "    t4: sp.Symbol('Delta3'),\n",
    "    t5: sp.Symbol('Delta3') + sp.Symbol('Delta4'),\n",
    "}"
   ]
  },
  {
   "cell_type": "code",
   "execution_count": null,
   "metadata": {},
   "outputs": [],
   "source": [
    "for e in equations:\n",
    "    display(e.subs(deltas))"
   ]
  },
  {
   "cell_type": "code",
   "execution_count": null,
   "metadata": {},
   "outputs": [],
   "source": [
    "coefficients = sp.solve(equations, coefficients3 + coefficients4)"
   ]
  },
  {
   "cell_type": "code",
   "execution_count": null,
   "metadata": {},
   "outputs": [],
   "source": [
    "for c, e in coefficients.items():\n",
    "    display(NamedExpression(c, e.factor().subs(deltas).simplify()))"
   ]
  },
  {
   "cell_type": "code",
   "execution_count": null,
   "metadata": {},
   "outputs": [],
   "source": [
    "pdd3 = pd3.diff(t)\n",
    "pdd4 = pd4.diff(t)\n",
    "display(pdd3, pdd4)"
   ]
  },
  {
   "cell_type": "code",
   "execution_count": null,
   "metadata": {},
   "outputs": [],
   "source": [
    "sp.Eq(pdd3.expr.subs(t, t4), pdd4.expr.subs(t, t4))"
   ]
  },
  {
   "cell_type": "code",
   "execution_count": null,
   "metadata": {},
   "outputs": [],
   "source": [
    "_.subs(coefficients).subs(deltas).simplify()"
   ]
  },
  {
   "cell_type": "markdown",
   "metadata": {},
   "source": [
    "Like in the uniform case,\n",
    "we can generalize by renaming index $4$ to $i$:"
   ]
  },
  {
   "cell_type": "markdown",
   "metadata": {},
   "source": [
    "\\begin{equation*}\n",
    "\\frac{1}{\\Delta_{i-1}} \\dot{\\boldsymbol{x}}_{i-1}\n",
    "+\n",
    "\\left(\\frac{2}{\\Delta_{i-1}} + \\frac{2}{\\Delta_i}\\right)\n",
    "\\dot{\\boldsymbol{x}}_i\n",
    "+\n",
    "\\frac{1}{\\Delta_i} \\dot{\\boldsymbol{x}}_{i+1}\n",
    "=\n",
    "\\frac{3 (\\boldsymbol{x}_i - \\boldsymbol{x}_{i-1})}{{\\Delta_{i-1}}^2} +\n",
    "\\frac{3 (\\boldsymbol{x}_{i+1} - \\boldsymbol{x}_i)}{{\\Delta_i}^2}\n",
    "\\end{equation*}"
   ]
  },
  {
   "cell_type": "markdown",
   "metadata": {},
   "source": [
    "We are not showing the full matrix here,\n",
    "because it would be quite a bit more complicated and less instructive than\n",
    "in the uniform case."
   ]
  },
  {
   "cell_type": "markdown",
   "metadata": {},
   "source": [
    "## End Conditions\n",
    "\n",
    "Like in the [uniform case](natural-uniform.ipynb#End-Conditions),\n",
    "we can come up with a few end conditions\n",
    "in order to define the missing matrix rows.\n",
    "\n",
    "The Python class [splines.Natural](../python-module/splines.rst#splines.Natural)\n",
    "uses \"natural\" end conditions by default."
   ]
  },
  {
   "cell_type": "markdown",
   "metadata": {},
   "source": [
    "\"Natural\" end conditions are derived in\n",
    "[a separate notebook](end-conditions-natural.ipynb),\n",
    "yielding these expressions:"
   ]
  },
  {
   "cell_type": "markdown",
   "metadata": {},
   "source": [
    "\\begin{align*}\n",
    "2 \\Delta_0 \\dot{\\boldsymbol{x}}_0\n",
    "+\n",
    "\\Delta_0 \\dot{\\boldsymbol{x}}_1\n",
    "&=\n",
    "3 (\\boldsymbol{x}_1 - \\boldsymbol{x}_0)\n",
    "\\\\\n",
    "\\Delta_{N-2} \\dot{\\boldsymbol{x}}_{N-2}\n",
    "+\n",
    "2 \\Delta_{N-2} \\dot{\\boldsymbol{x}}_{N-1}\n",
    "&=\n",
    "3 (\\boldsymbol{x}_{N-1} - \\boldsymbol{x}_{N-2})\n",
    "\\end{align*}"
   ]
  },
  {
   "cell_type": "markdown",
   "metadata": {},
   "source": [
    "Other end conditions can be derived as shown in\n",
    "[the notebook about uniform \"natural\" splines](natural-uniform.ipynb#End-Conditions)."
   ]
  }
 ],
 "metadata": {
  "kernelspec": {
   "display_name": "Python 3 (ipykernel)",
   "language": "python",
   "name": "python3"
  },
  "language_info": {
   "codemirror_mode": {
    "name": "ipython",
    "version": 3
   },
   "file_extension": ".py",
   "mimetype": "text/x-python",
   "name": "python",
   "nbconvert_exporter": "python",
   "pygments_lexer": "ipython3",
   "version": "3.11.2"
  }
 },
 "nbformat": 4,
 "nbformat_minor": 4
}
