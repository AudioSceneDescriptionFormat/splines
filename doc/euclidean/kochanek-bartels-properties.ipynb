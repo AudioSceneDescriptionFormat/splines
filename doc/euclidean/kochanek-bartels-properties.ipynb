{
 "cells": [
  {
   "cell_type": "markdown",
   "metadata": {
    "nbsphinx": "hidden"
   },
   "source": [
    "This notebook is part of https://github.com/AudioSceneDescriptionFormat/splines, see also https://splines.readthedocs.io/.\n",
    "\n",
    "[back to overview](kochanek-bartels.ipynb)"
   ]
  },
  {
   "cell_type": "markdown",
   "metadata": {},
   "source": [
    "# Properties of Kochanek--Bartels Splines\n",
    "\n",
    "Kochanek--Bartels splines\n",
    "are interpolating cubic polynomial splines,\n",
    "with three user-defined parameters per vertex\n",
    "(of course they can also be chosen to be\n",
    "the same three values for the whole spline),\n",
    "which can be used to change the shape and velocity of the spline.\n",
    "\n",
    "These three parameters are called\n",
    "$T$ for *tension*,\n",
    "$C$ for *continuity* and\n",
    "$B$ for *bias*.\n",
    "With the default values of $C = 0$ and $B = 0$,\n",
    "a Kochanek--Bartels spline is identical to a *cardinal spline*.\n",
    "If the *tension* parameter also has its default value $T = 0$,\n",
    "it is also identical to a [Catmull--Rom spline](catmull-rom.ipynb)."
   ]
  },
  {
   "cell_type": "code",
   "execution_count": null,
   "metadata": {},
   "outputs": [],
   "source": [
    "import splines\n",
    "from helper import plot_spline_2d"
   ]
  },
  {
   "cell_type": "markdown",
   "metadata": {},
   "source": [
    "Let's use a bespoke plotting function\n",
    "from [kochanek_bartels.py](kochanek_bartels.py)\n",
    "to illustrate the TCB parameters:"
   ]
  },
  {
   "cell_type": "code",
   "execution_count": null,
   "metadata": {},
   "outputs": [],
   "source": [
    "from kochanek_bartels import plot_tcb"
   ]
  },
  {
   "cell_type": "markdown",
   "metadata": {},
   "source": [
    "## Tension"
   ]
  },
  {
   "cell_type": "code",
   "execution_count": null,
   "metadata": {},
   "outputs": [],
   "source": [
    "plot_tcb((0.5, 0, 0), (1, 0, 0), (-0.5, 0, 0), (-1, 0, 0))"
   ]
  },
  {
   "cell_type": "markdown",
   "metadata": {},
   "source": [
    "## Continuity"
   ]
  },
  {
   "cell_type": "code",
   "execution_count": null,
   "metadata": {},
   "outputs": [],
   "source": [
    "plot_tcb((0, -0.5, 0), (0, -1, 0), (0, 0.5, 0), (0, 1, 0))"
   ]
  },
  {
   "cell_type": "markdown",
   "metadata": {},
   "source": [
    "Note that the cases $T = 1$ and $C = -1$\n",
    "have a very similar shape\n",
    "(a.k.a. [image](https://en.wikipedia.org/wiki/Image_(mathematics))),\n",
    "but they have a different timing\n",
    "(and therefore different velocities):"
   ]
  },
  {
   "cell_type": "code",
   "execution_count": null,
   "metadata": {},
   "outputs": [],
   "source": [
    "plot_tcb((1, 0, 0), (0, -1, 0), (0.5, 0, 0), (0, -0.5, 0))"
   ]
  },
  {
   "cell_type": "markdown",
   "metadata": {},
   "source": [
    "A value of $C=-1$ on adjacent vertices leads to linear segments\n",
    "with piecewise constant speeds:"
   ]
  },
  {
   "cell_type": "code",
   "execution_count": null,
   "metadata": {},
   "outputs": [],
   "source": [
    "vertices1 = [(0, 0), (1, 1), (0, 2), (3, 2), (4, 1), (3, 0)]\n",
    "s1a = splines.KochanekBartels(vertices1, tcb=(0, -1, 0), endconditions='closed')\n",
    "plot_spline_2d(s1a, chords=False)"
   ]
  },
  {
   "cell_type": "markdown",
   "metadata": {},
   "source": [
    "A value of $T=1$ will lead to linear segments as well,\n",
    "but the speed will fluctuate in each segment,\n",
    "coming to a complete halt at each control point:"
   ]
  },
  {
   "cell_type": "code",
   "execution_count": null,
   "metadata": {},
   "outputs": [],
   "source": [
    "s1b = splines.KochanekBartels(vertices1, tcb=(1, 0, 0), endconditions='closed')\n",
    "plot_spline_2d(s1b, chords=False)"
   ]
  },
  {
   "cell_type": "markdown",
   "metadata": {},
   "source": [
    "## Bias"
   ]
  },
  {
   "cell_type": "markdown",
   "metadata": {},
   "source": [
    "This could also be called *overshoot* (if $B > 0$)\n",
    "and *undershoot* (if $B < 0$):"
   ]
  },
  {
   "cell_type": "code",
   "execution_count": null,
   "metadata": {},
   "outputs": [],
   "source": [
    "plot_tcb((0, 0, 0.5), (0, 0, 1), (0, 0, -0.5), (0, 0, -1))"
   ]
  },
  {
   "cell_type": "markdown",
   "metadata": {},
   "source": [
    "Bias $-1$ followed by $+1$ can be used to achieve linear segments\n",
    "between two control points:"
   ]
  },
  {
   "cell_type": "code",
   "execution_count": null,
   "metadata": {},
   "outputs": [],
   "source": [
    "vertices2 = [(0, 0), (1.5, 0), (1, 1), (0, 0.5)]\n",
    "tcb2 = [(0, 0, -1), (0, 0, 1), (0, 0, -1), (0, 0, 1)]\n",
    "s2 = splines.KochanekBartels(vertices2, tcb=tcb2, endconditions='closed')\n",
    "plot_spline_2d(s2, chords=False)"
   ]
  },
  {
   "cell_type": "markdown",
   "metadata": {},
   "source": [
    "A sequence of $B=-1$, $C=-1$ and $B=+1$\n",
    "can be used to get two adjacent linear segments:"
   ]
  },
  {
   "cell_type": "code",
   "execution_count": null,
   "metadata": {},
   "outputs": [],
   "source": [
    "vertices3 = [(0, 0), (1, 0), (0, 0.5)]\n",
    "tcb3 = [(0, 0, -1), (0, -1, 0), (0, 0, 1)]\n",
    "s3 = splines.KochanekBartels(vertices3, tcb=tcb3, endconditions='closed')\n",
    "plot_spline_2d(s3, chords=False)"
   ]
  },
  {
   "cell_type": "markdown",
   "metadata": {},
   "source": [
    "## Combinations\n",
    "\n",
    "Of course, multiple parameters can be combined:"
   ]
  },
  {
   "cell_type": "code",
   "execution_count": null,
   "metadata": {},
   "outputs": [],
   "source": [
    "plot_tcb((1, -1, 0), (-1, 1, 0), (-1, -1, 0), (1, 1, 0))"
   ]
  },
  {
   "cell_type": "code",
   "execution_count": null,
   "metadata": {},
   "outputs": [],
   "source": [
    "plot_tcb((1, 0, 1), (-1, 0, 1), (0, -1, 1), (0, 1, -1))"
   ]
  }
 ],
 "metadata": {
  "kernelspec": {
   "display_name": "Python 3 (ipykernel)",
   "language": "python",
   "name": "python3"
  },
  "language_info": {
   "codemirror_mode": {
    "name": "ipython",
    "version": 3
   },
   "file_extension": ".py",
   "mimetype": "text/x-python",
   "name": "python",
   "nbconvert_exporter": "python",
   "pygments_lexer": "ipython3",
   "version": "3.11.2"
  }
 },
 "nbformat": 4,
 "nbformat_minor": 4
}
