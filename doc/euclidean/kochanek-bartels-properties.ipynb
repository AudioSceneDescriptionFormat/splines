{
 "cells": [
  {
   "cell_type": "markdown",
   "metadata": {
    "nbsphinx": "hidden"
   },
   "source": [
    "This notebook is part of https://github.com/AudioSceneDescriptionFormat/splines, see also https://splines.readthedocs.io/.\n",
    "\n",
    "[back to overview](kochanek-bartels.ipynb)"
   ]
  },
  {
   "cell_type": "markdown",
   "metadata": {},
   "source": [
    "# Properties of Kochanek--Bartels Splines\n",
    "\n",
    "Kochanek--Bartels splines (a.k.a. TCB splines)\n",
    "are interpolating cubic polynomial splines,\n",
    "with three user-defined parameters per vertex\n",
    "(of course they can also be chosen to be\n",
    "the same three values for the whole spline),\n",
    "which can be used to change the shape and velocity of the spline.\n",
    "\n",
    "These three parameters are called\n",
    "$T$ for \"tension\",\n",
    "$C$ for \"continuity\" and\n",
    "$B$ for \"bias\".\n",
    "With the default values of $C = 0$ and $B = 0$,\n",
    "a Kochanek--Bartels spline is identical to a *cardinal spline*.\n",
    "If the \"tension\" parameter also has its default value $T = 0$,\n",
    "it is also identical to a [Catmull--Rom spline](catmull-rom.ipynb)."
   ]
  },
  {
   "cell_type": "code",
   "execution_count": null,
   "metadata": {},
   "outputs": [],
   "source": [
    "import splines"
   ]
  },
  {
   "cell_type": "markdown",
   "metadata": {},
   "source": [
    "Let's import a plotting function from [helper.py](helper.py) ..."
   ]
  },
  {
   "cell_type": "code",
   "execution_count": null,
   "metadata": {},
   "outputs": [],
   "source": [
    "from helper import plot_spline_2d"
   ]
  },
  {
   "cell_type": "markdown",
   "metadata": {},
   "source": [
    "... and use it to implement a bespoke plotting function\n",
    "to illustrate the TCB parameters:"
   ]
  },
  {
   "cell_type": "code",
   "execution_count": null,
   "metadata": {},
   "outputs": [],
   "source": [
    "import matplotlib.pyplot as plt\n",
    "import numpy as np\n",
    "\n",
    "def plot_tcb(*tcb, ax=None):\n",
    "    \"\"\"Plot four TCB examples.\"\"\"\n",
    "    if ax is None:\n",
    "        ax = plt.gca()\n",
    "    vertices = [\n",
    "        (-3.5, 0),\n",
    "        (-1, 1.5),\n",
    "        (0, 0.1),\n",
    "        (1, 1.5),\n",
    "        (3.5, 0),\n",
    "        (1, -1.5),\n",
    "        (0, -0.1),\n",
    "        (-1, -1.5),\n",
    "    ]\n",
    "    for idx, tcb in zip([1, 7, 3, 5], tcb):\n",
    "        all_tcb = np.zeros((len(vertices), 3))\n",
    "        all_tcb[idx] = tcb\n",
    "        s = splines.KochanekBartels(\n",
    "            vertices, tcb=all_tcb, endconditions='closed')\n",
    "        label = ', '.join(\n",
    "            f'{name} = {value}'\n",
    "            for name, value in zip('TCB', tcb)\n",
    "            if value)\n",
    "        plot_spline_2d(s, chords=False, label=label, ax=ax)\n",
    "    plot_spline_2d(\n",
    "        splines.KochanekBartels(vertices, endconditions='closed'),\n",
    "        color='lightgrey', chords=False, ax=ax)\n",
    "    lines = [l for l in ax.get_lines() if not l.get_label().startswith('_')]\n",
    "    # https://matplotlib.org/tutorials/intermediate/legend_guide.html#multiple-legends-on-the-same-axes\n",
    "    ax.add_artist(ax.legend(\n",
    "        handles=lines[:2], bbox_to_anchor=(0, 0., 0.5, 1),\n",
    "        loc='center', numpoints=3))\n",
    "    ax.legend(\n",
    "        handles=lines[2:], bbox_to_anchor=(0.5, 0., 0.5, 1),\n",
    "        loc='center', numpoints=3)"
   ]
  },
  {
   "cell_type": "markdown",
   "metadata": {},
   "source": [
    "## Tension"
   ]
  },
  {
   "cell_type": "code",
   "execution_count": null,
   "metadata": {},
   "outputs": [],
   "source": [
    "plot_tcb((0.5, 0, 0), (1, 0, 0), (-0.5, 0, 0), (-1, 0, 0))"
   ]
  },
  {
   "cell_type": "markdown",
   "metadata": {},
   "source": [
    "## Continuity"
   ]
  },
  {
   "cell_type": "code",
   "execution_count": null,
   "metadata": {},
   "outputs": [],
   "source": [
    "plot_tcb((0, -0.5, 0), (0, -1, 0), (0, 0.5, 0), (0, 1, 0))"
   ]
  },
  {
   "cell_type": "markdown",
   "metadata": {},
   "source": [
    "Note that the cases $T = 1$ and $C = -1$\n",
    "have a very similar shape (a.k.a. \"image\"),\n",
    "but they have a different timing\n",
    "(and therefore different velocities):"
   ]
  },
  {
   "cell_type": "code",
   "execution_count": null,
   "metadata": {},
   "outputs": [],
   "source": [
    "plot_tcb((1, 0, 0), (0, -1, 0), (0.5, 0, 0), (0, -0.5, 0))"
   ]
  },
  {
   "cell_type": "markdown",
   "metadata": {},
   "source": [
    "A value of $C=-1$ on adjacent vertices leads to linear segments:"
   ]
  },
  {
   "cell_type": "code",
   "execution_count": null,
   "metadata": {},
   "outputs": [],
   "source": [
    "vertices1 = [(0, 0), (1, 1), (0, 2), (3, 2), (4, 1), (3, 0)]\n",
    "s1 = splines.KochanekBartels(vertices1, tcb=(0, -1, 0), endconditions='closed')\n",
    "plot_spline_2d(s1, chords=False)"
   ]
  },
  {
   "cell_type": "markdown",
   "metadata": {},
   "source": [
    "## Bias"
   ]
  },
  {
   "cell_type": "markdown",
   "metadata": {},
   "source": [
    "This could also be called \"overshoot\" (if $B > 0$)\n",
    "and \"undershoot\" (if $B < 0$):"
   ]
  },
  {
   "cell_type": "code",
   "execution_count": null,
   "metadata": {},
   "outputs": [],
   "source": [
    "plot_tcb((0, 0, 0.5), (0, 0, 1), (0, 0, -0.5), (0, 0, -1))"
   ]
  },
  {
   "cell_type": "markdown",
   "metadata": {},
   "source": [
    "Bias $-1$ followed by $+1$ can be used to achieve linear segments\n",
    "between two control points:"
   ]
  },
  {
   "cell_type": "code",
   "execution_count": null,
   "metadata": {},
   "outputs": [],
   "source": [
    "vertices2 = [(0, 0), (1.5, 0), (1, 1), (0, 0.5)]\n",
    "tcb2 = [(0, 0, -1), (0, 0, 1), (0, 0, -1), (0, 0, 1)]\n",
    "s2 = splines.KochanekBartels(vertices2, tcb=tcb2, endconditions='closed')\n",
    "plot_spline_2d(s2, chords=False)"
   ]
  },
  {
   "cell_type": "markdown",
   "metadata": {},
   "source": [
    "A sequence of $B=-1$, $C=-1$ and $B=+1$\n",
    "can be used to get two adjacent linear segments:"
   ]
  },
  {
   "cell_type": "code",
   "execution_count": null,
   "metadata": {},
   "outputs": [],
   "source": [
    "vertices3 = [(0, 0), (1, 0), (0, 0.5)]\n",
    "tcb3 = [(0, 0, -1), (0, -1, 0), (0, 0, 1)]\n",
    "s3 = splines.KochanekBartels(vertices3, tcb=tcb3, endconditions='closed')\n",
    "plot_spline_2d(s3, chords=False)"
   ]
  },
  {
   "cell_type": "markdown",
   "metadata": {},
   "source": [
    "## Combinations"
   ]
  },
  {
   "cell_type": "code",
   "execution_count": null,
   "metadata": {},
   "outputs": [],
   "source": [
    "plot_tcb((1, -1, 0), (-1, 1, 0), (-1, -1, 0), (1, 1, 0))"
   ]
  },
  {
   "cell_type": "code",
   "execution_count": null,
   "metadata": {},
   "outputs": [],
   "source": [
    "plot_tcb((1, 0, 1), (-1, 0, 1), (0, -1, 1), (0, 1, -1))"
   ]
  }
 ],
 "metadata": {
  "kernelspec": {
   "display_name": "Python 3",
   "language": "python",
   "name": "python3"
  },
  "language_info": {
   "codemirror_mode": {
    "name": "ipython",
    "version": 3
   },
   "file_extension": ".py",
   "mimetype": "text/x-python",
   "name": "python",
   "nbconvert_exporter": "python",
   "pygments_lexer": "ipython3",
   "version": "3.9.7"
  }
 },
 "nbformat": 4,
 "nbformat_minor": 4
}
