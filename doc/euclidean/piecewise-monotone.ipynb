{
 "cells": [
  {
   "cell_type": "markdown",
   "metadata": {
    "nbsphinx": "hidden"
   },
   "source": [
    "This notebook is part of https://github.com/AudioSceneDescriptionFormat/splines, see also https://splines.readthedocs.io/.\n",
    "\n",
    "[back to Euclidean splines](index.ipynb)"
   ]
  },
  {
   "cell_type": "markdown",
   "metadata": {},
   "source": [
    "# Piecewise Monotone Interpolation\n",
    "\n",
    "When interpolating\n",
    "a sequence of one-dimensional data points,\n",
    "it is sometimes desirable to limit the interpolant\n",
    "between any two adjacent data points\n",
    "to a monotone function.\n",
    "This makes sure that there are no overshoots beyond the given data points.\n",
    "In other words, if the data points are within certain bounds,\n",
    "all interpolated data will also be within those same bounds.\n",
    "It follows that if all data points are non-negative,\n",
    "interpolated data will be non-negative as well.\n",
    "Furthermore, this makes sure that monotone data leads to a monotone interpolant\n",
    "-- see also [Monotone Interpolation](#Monotone-Interpolation) below."
   ]
  },
  {
   "cell_type": "markdown",
   "metadata": {},
   "source": [
    "A Python implementation of\n",
    "one-dimensional piecewise monotone cubic splines\n",
    "is available in the class\n",
    "[splines.PiecewiseMonotoneCubic](../python-module/splines.rst#splines.PiecewiseMonotoneCubic)."
   ]
  },
  {
   "cell_type": "markdown",
   "metadata": {},
   "source": [
    "The SciPy package provides a similar tool with the\n",
    "[pchip_interpolate()](https://docs.scipy.org/doc/scipy/reference/generated/scipy.interpolate.pchip_interpolate.html)\n",
    "function and the\n",
    "[PchipInterpolator](https://docs.scipy.org/doc/scipy/reference/generated/scipy.interpolate.PchipInterpolator.html)\n",
    "class (see below for more details)."
   ]
  },
  {
   "cell_type": "markdown",
   "metadata": {},
   "source": [
    "The 3D animation software [Blender](https://www.blender.org)\n",
    "provides an\n",
    "[Auto Clamped](https://docs.blender.org/manual/en/dev/editors/graph_editor/fcurves/properties.html#editors-graph-fcurves-settings-handles)\n",
    "property for creating piecewise monotone animation cuves."
   ]
  },
  {
   "cell_type": "markdown",
   "metadata": {},
   "source": [
    "## Examples"
   ]
  },
  {
   "cell_type": "code",
   "execution_count": null,
   "metadata": {},
   "outputs": [],
   "source": [
    "import matplotlib.pyplot as plt\n",
    "import numpy as np"
   ]
  },
  {
   "cell_type": "code",
   "execution_count": null,
   "metadata": {},
   "outputs": [],
   "source": [
    "import splines"
   ]
  },
  {
   "cell_type": "markdown",
   "metadata": {},
   "source": [
    "We use a few helper functions from [helper.py](helper.py)\n",
    "for plotting:"
   ]
  },
  {
   "cell_type": "code",
   "execution_count": null,
   "metadata": {},
   "outputs": [],
   "source": [
    "from helper import plot_spline_1d, grid_lines"
   ]
  },
  {
   "cell_type": "code",
   "execution_count": null,
   "metadata": {},
   "outputs": [],
   "source": [
    "values = 0, 3, 3, 7\n",
    "times = 0, 3, 8, 10, 11"
   ]
  },
  {
   "cell_type": "markdown",
   "metadata": {},
   "source": [
    "Let's compare a piecewise monotone spline with\n",
    "a [Catmull--Rom spline](catmull-rom.ipynb)\n",
    "and a [natural spline](natural.ipynb):"
   ]
  },
  {
   "cell_type": "code",
   "execution_count": null,
   "metadata": {},
   "outputs": [],
   "source": [
    "plot_spline_1d(\n",
    "    splines.PiecewiseMonotoneCubic(values, times, closed=True),\n",
    "    label='piecewise monotone')\n",
    "plot_spline_1d(\n",
    "    splines.CatmullRom(values, times, endconditions='closed'),\n",
    "    label='Catmull–Rom', linestyle='--')\n",
    "plot_spline_1d(\n",
    "    splines.Natural(values, times, endconditions='closed'),\n",
    "    label='natural spline', linestyle='-.')\n",
    "plt.legend()\n",
    "grid_lines(times)"
   ]
  },
  {
   "cell_type": "code",
   "execution_count": null,
   "metadata": {},
   "outputs": [],
   "source": [
    "def plot_piecewise_monotone(*args, **kwargs):\n",
    "    s = splines.PiecewiseMonotoneCubic(*args, **kwargs)\n",
    "    plot_spline_1d(s)\n",
    "    grid_lines(s.grid)"
   ]
  },
  {
   "cell_type": "code",
   "execution_count": null,
   "metadata": {},
   "outputs": [],
   "source": [
    "plot_piecewise_monotone([0, 1, 3, 2, 1])"
   ]
  },
  {
   "cell_type": "markdown",
   "metadata": {},
   "source": [
    "### Providing Slopes\n",
    "\n",
    "By default, appropriate slopes are calculated automatically.\n",
    "However, those slopes can be overridden if desired.\n",
    "Specifying `None` falls back to the auto-generated default."
   ]
  },
  {
   "cell_type": "code",
   "execution_count": null,
   "metadata": {},
   "outputs": [],
   "source": [
    "plot_piecewise_monotone([0, 1, 3, 2, 1], slopes=[None, 0, None, -3, -1.5])"
   ]
  },
  {
   "cell_type": "markdown",
   "metadata": {},
   "source": [
    "Slopes that would lead to non-monotone segments are prohibited:"
   ]
  },
  {
   "cell_type": "code",
   "execution_count": null,
   "metadata": {},
   "outputs": [],
   "source": [
    "try:\n",
    "    plot_piecewise_monotone([0, 1, 3, 2, 1], slopes=[None, 4, None, None, None])\n",
    "except Exception as e:\n",
    "    print(e)\n",
    "    assert 'too steep' in str(e)\n",
    "else:\n",
    "    assert False"
   ]
  },
  {
   "cell_type": "markdown",
   "metadata": {},
   "source": [
    "## Generating and Modifying the Slopes at Segment Boundaries"
   ]
  },
  {
   "cell_type": "markdown",
   "metadata": {},
   "source": [
    "> In this paper we derive necessary and sufficient conditions for a cubic to be\n",
    "monotone in an interval. These conditions are then used to develop an algorithm which\n",
    "constructs a $\\mathscr{C}^1$ monotone piecewise cubic interpolant to monotone data. The curve\n",
    "produced contains no extraneous \"bumps\" or \"wiggles\", which makes it more readily\n",
    "acceptable to scientists and engineers.\n",
    ">\n",
    "> ---<cite data-cite-t=\"fritsch1980monotone\">Fritsch and Carlson (1980)</cite>, section 1"
   ]
  },
  {
   "cell_type": "markdown",
   "metadata": {},
   "source": [
    "<cite data-cite-t=\"fritsch1980monotone\">Fritsch and Carlson (1980)</cite>\n",
    "derive necessary and sufficient conditions\n",
    "for a cubic curve segment to be monotone,\n",
    "based on the slopes of the secant lines (i.e. the piecewise linear interpolant)\n",
    "and their endpoint derivatives.\n",
    "Furthermore, they provide a two-step algorithm\n",
    "to generate piecewise monotone cubics:\n",
    "\n",
    "1. calculate initial tangents (with whatever method)\n",
    "2. tweak the ones that don't fulfill the monotonicity conditions\n",
    "\n",
    "For the first step, they suggest using the *standard three-point difference*,\n",
    "which we have already seen in the\n",
    "[tangent vectors of non-uniform Catmull--Rom splines](catmull-rom-non-uniform.ipynb#Tangent-Vectors)\n",
    "and which is implemented in the class\n",
    "[splines.CatmullRom](../python-module/splines.rst#splines.CatmullRom)."
   ]
  },
  {
   "cell_type": "markdown",
   "metadata": {},
   "source": [
    "> To implement Step 1 we have found the standard three-point difference formula to\n",
    "be satisfactory for $d_2$, $d_3$, $\\cdots$, $d_{n-1}$.\n",
    ">\n",
    "> ---<cite data-cite-t=\"fritsch1980monotone\">Fritsch and Carlson (1980)</cite>, section 4"
   ]
  },
  {
   "cell_type": "markdown",
   "metadata": {},
   "source": [
    "> This is what de Boor [<cite data-cite=\"de_boor1978splines\">1978</cite>, p. 53] calls cubic Bessel interpolation, in which\n",
    "the interior derivatives are set using the standard three point difference formula.\n",
    ">\n",
    "> ---<cite data-cite-t=\"fritsch1980monotone\">Fritsch and Carlson (1980)</cite>, section 5"
   ]
  },
  {
   "cell_type": "markdown",
   "metadata": {},
   "source": [
    "<div class=\"alert alert-info\">\n",
    "\n",
    "In the 2001 edition of the book by\n",
    "<cite data-cite-t=\"de_boor1978splines\">Boor (1978)</cite>,\n",
    "*piecewise cubic Bessel interpolation* is defined on page 42.\n",
    "\n",
    "</div>"
   ]
  },
  {
   "cell_type": "markdown",
   "metadata": {},
   "source": [
    "For the following equations, we define the slope of the secant lines as\n",
    "\n",
    "\\begin{equation*}\n",
    "S_i =\n",
    "\\frac{x_{i+1} - x_i}{t_{i+1} - t_i}.\n",
    "\\end{equation*}"
   ]
  },
  {
   "cell_type": "markdown",
   "metadata": {},
   "source": [
    "\n",
    "We use $x_i$ to represent the given data points and\n",
    "and $t_i$ to represent the corresponding parameter values.\n",
    "The slope at those values is represented by $\\dot{x}_i$.\n",
    "\n",
    "<div class=\"alert alert-info\">\n",
    "\n",
    "Note\n",
    "\n",
    "In the literature, the parameter values are often represented by $x_i$,\n",
    "so try not to be confused!\n",
    "\n",
    "</div>"
   ]
  },
  {
   "cell_type": "markdown",
   "metadata": {},
   "source": [
    "Based on <cite data-cite-t=\"fritsch1980monotone\">Fritsch and Carlson (1980)</cite>,\n",
    "<cite data-cite-t=\"dougherty1989nonnegativity\">Dougherty et al. (1989)</cite>\n",
    "provide (in equation 4.2) an algorithm for modifying the initial slopes\n",
    "to ensure monotonicity.\n",
    "Adapted to our notation, it looks like this:\n",
    "\n",
    "\\begin{equation*}\n",
    "\\dot{x}_i \\leftarrow\n",
    "\\begin{cases}\n",
    "\\min(\\max(0, \\dot{x}_i), 3 \\min(|S_{i-1}|, |S_i|)), & \\sigma_i > 0,\\\\\n",
    "\\max(\\min(0, \\dot{x}_i), -3 \\min(|S_{i-1}|, |S_i|)), & \\sigma_i < 0,\\\\\n",
    "0, & \\sigma_i=0,\n",
    "\\end{cases}\n",
    "\\end{equation*}\n",
    "\n",
    "where $\\sigma_i = \\operatorname{sgn}(S_i)$ if $S_i S_{i-1} > 0$ and $\\sigma_i=0$ otherwise."
   ]
  },
  {
   "cell_type": "markdown",
   "metadata": {},
   "source": [
    "This algorithm is implemented in the class\n",
    "[splines.PiecewiseMonotoneCubic](../python-module/splines.rst#splines.PiecewiseMonotoneCubic)."
   ]
  },
  {
   "cell_type": "markdown",
   "metadata": {},
   "source": [
    "## PCHIP/PCHIM\n",
    "\n",
    "A different approach for obtaining slopes that ensure monotonicity\n",
    "is described by\n",
    "<cite data-cite-t=\"fritsch1984monotone\">Fritsch and Butland (1984)</cite>,\n",
    "equation (5):\n",
    "\n",
    "\\begin{equation*}\n",
    "G(S_1, S_2, h_1, h_2) =\n",
    "\\begin{cases}\n",
    "\\frac{S_1 S_2}{\\alpha S_2 + (1 - \\alpha) S_1} \\quad & \\text{if } S_1 S_2 > 0,\\\\\n",
    "0 & \\text{otherwise,}\n",
    "\\end{cases}\n",
    "\\end{equation*}\n",
    "\n",
    "where\n",
    "\n",
    "\\begin{equation*}\n",
    "\\alpha =\n",
    "\\frac{1}{3} \\left(1 + \\frac{h_2}{h_1 + h_2}\\right) =\n",
    "\\frac{h_1 + 2 h_2}{3 (h_1 + h_2)}.\n",
    "\\end{equation*}"
   ]
  },
  {
   "cell_type": "markdown",
   "metadata": {},
   "source": [
    "The function $G$ can be used to calculate the slopes at segment boundaries,\n",
    "given the slopes $S_i$ of the neighboring secant lines\n",
    "and the neighboring parameter intervals $h_i = t_{i+1} - t_i$."
   ]
  },
  {
   "cell_type": "markdown",
   "metadata": {},
   "source": [
    "Let's define this using [SymPy](https://www.sympy.org/) for later reference:"
   ]
  },
  {
   "cell_type": "code",
   "execution_count": null,
   "metadata": {},
   "outputs": [],
   "source": [
    "import sympy as sp"
   ]
  },
  {
   "cell_type": "code",
   "execution_count": null,
   "metadata": {},
   "outputs": [],
   "source": [
    "h1, h2 = sp.symbols('h1:3')\n",
    "S1, S2 = sp.symbols('S1:3')"
   ]
  },
  {
   "cell_type": "code",
   "execution_count": null,
   "metadata": {},
   "outputs": [],
   "source": [
    "alpha = (h1 + 2 * h2) / (3 * (h1 + h2))\n",
    "G1 = (S1 * S2) / (alpha * S2 + (1 - alpha) * S1)"
   ]
  },
  {
   "cell_type": "markdown",
   "metadata": {},
   "source": [
    "This has been implemented in a\n",
    "[Fortran](https://en.wikipedia.org/wiki/Fortran) package described by\n",
    "<cite data-cite-t=\"fritsch1982pchip\">Fritsch (1982)</cite>,\n",
    "who has coined the acronym PCHIP,\n",
    "originally meaning *Piecewise Cubic Hermite Interpolation Package*."
   ]
  },
  {
   "cell_type": "markdown",
   "metadata": {},
   "source": [
    "> It features software to produce a monotone and \"visually pleasing\"\n",
    "interpolant to monotone data.\n",
    ">\n",
    "> ---<cite data-cite-t=\"fritsch1982pchip\">Fritsch (1982)</cite>"
   ]
  },
  {
   "cell_type": "markdown",
   "metadata": {},
   "source": [
    "The package contains many Fortran subroutines,\n",
    "but the one that's relevant here is\n",
    "`PCHIM`, which is short for\n",
    "*Piecewise Cubic Hermite Interpolation to Monotone data*."
   ]
  },
  {
   "cell_type": "markdown",
   "metadata": {},
   "source": [
    "The source code (including some later modifications) is available\n",
    "[online](https://netlib.org/slatec/pchip/dpchim.f).\n",
    "This is the code snippet responsible for calculating the slopes:\n",
    "\n",
    "```\n",
    "C\n",
    "C        USE BRODLIE MODIFICATION OF BUTLAND FORMULA.\n",
    "C\n",
    "   45    CONTINUE\n",
    "         HSUMT3 = HSUM+HSUM+HSUM\n",
    "         W1 = (HSUM + H1)/HSUMT3\n",
    "         W2 = (HSUM + H2)/HSUMT3\n",
    "         DMAX = MAX( ABS(DEL1), ABS(DEL2) )\n",
    "         DMIN = MIN( ABS(DEL1), ABS(DEL2) )\n",
    "         DRAT1 = DEL1/DMAX\n",
    "         DRAT2 = DEL2/DMAX\n",
    "         D(1,I) = DMIN/(W1*DRAT1 + W2*DRAT2)\n",
    "```"
   ]
  },
  {
   "cell_type": "markdown",
   "metadata": {},
   "source": [
    "This looks different from the function $G$ defined above,\n",
    "but if we transform the Fortran code into math ..."
   ]
  },
  {
   "cell_type": "code",
   "execution_count": null,
   "metadata": {},
   "outputs": [],
   "source": [
    "HSUM = h1 + h2"
   ]
  },
  {
   "cell_type": "code",
   "execution_count": null,
   "metadata": {},
   "outputs": [],
   "source": [
    "W1 = (HSUM + h1) / (3 * HSUM)\n",
    "W2 = (HSUM + h2) / (3 * HSUM)"
   ]
  },
  {
   "cell_type": "markdown",
   "metadata": {},
   "source": [
    "... and use separate expressions\n",
    "depending on which of the neighboring secant slopes is larger ..."
   ]
  },
  {
   "cell_type": "code",
   "execution_count": null,
   "metadata": {},
   "outputs": [],
   "source": [
    "G2 = S1 / (W1 * S1 / S2 + W2 * S2 / S2)\n",
    "G3 = S2 / (W1 * S1 / S1 + W2 * S2 / S1)"
   ]
  },
  {
   "cell_type": "markdown",
   "metadata": {},
   "source": [
    "... we see that the two cases are mathematically equivalent ..."
   ]
  },
  {
   "cell_type": "code",
   "execution_count": null,
   "metadata": {},
   "outputs": [],
   "source": [
    "assert sp.simplify(G2 - G3) == 0"
   ]
  },
  {
   "cell_type": "markdown",
   "metadata": {},
   "source": [
    "... and that they are in fact also equivalent\n",
    "to the aforementioned equation from\n",
    "<cite data-cite-t=\"fritsch1984monotone\">Fritsch and Butland (1984)</cite>:"
   ]
  },
  {
   "cell_type": "code",
   "execution_count": null,
   "metadata": {},
   "outputs": [],
   "source": [
    "assert sp.simplify(G1 - G2) == 0"
   ]
  },
  {
   "cell_type": "markdown",
   "metadata": {},
   "source": [
    "Presumably, the Fortran code uses the larger one of the pair of secant slopes\n",
    "in the denominator in order to reduce numerical errors\n",
    "if one of the slopes is very close to zero."
   ]
  },
  {
   "cell_type": "markdown",
   "metadata": {},
   "source": [
    "Yet another variation of this theme is shown by\n",
    "<cite data-cite-t=\"moler2004numerical\">Moler (2004)</cite>, section 3.4,\n",
    "which defines the slope $d_k$ as a weighted harmonic mean\n",
    "of the two neighboring secant slopes:\n",
    "\n",
    "\\begin{equation*}\n",
    "\\frac{w_1 + w_2}{d_k} =\n",
    "\\frac{w_1}{\\delta_{k-1}} +\n",
    "\\frac{w_2}{\\delta_k},\n",
    "\\end{equation*}\n",
    "\n",
    "with $w_1 = 2 h_k + h_{k-1}$ and $w_2 = h_k + 2 h_{k-1}$.\n",
    "Using the notation from above, $d_k = \\dot{x}_k$ and $\\delta_k = S_k$."
   ]
  },
  {
   "cell_type": "markdown",
   "metadata": {},
   "source": [
    "Again, when defining this using SymPy ..."
   ]
  },
  {
   "cell_type": "code",
   "execution_count": null,
   "metadata": {},
   "outputs": [],
   "source": [
    "w1 = 2 * h2 + h1\n",
    "w2 = h2 + 2 * h1"
   ]
  },
  {
   "cell_type": "code",
   "execution_count": null,
   "metadata": {},
   "outputs": [],
   "source": [
    "G4 = (w1 + w2) / (w1 / S1 + w2 / S2)"
   ]
  },
  {
   "cell_type": "markdown",
   "metadata": {},
   "source": [
    "... we can see that it is actually equivalent to the previous equations:"
   ]
  },
  {
   "cell_type": "code",
   "execution_count": null,
   "metadata": {},
   "outputs": [],
   "source": [
    "assert sp.simplify(G4 - G1) == 0"
   ]
  },
  {
   "cell_type": "markdown",
   "metadata": {},
   "source": [
    "The `PCHIM` algorithm,\n",
    "which is nowadays known by the less self-explanatory name PCHIP,\n",
    "is available in the SciPy package in form of the\n",
    "[pchip_interpolate()](https://docs.scipy.org/doc/scipy/reference/generated/scipy.interpolate.pchip_interpolate.html)\n",
    "function and the\n",
    "[PchipInterpolator](https://docs.scipy.org/doc/scipy/reference/generated/scipy.interpolate.PchipInterpolator.html)\n",
    "class."
   ]
  },
  {
   "cell_type": "code",
   "execution_count": null,
   "metadata": {},
   "outputs": [],
   "source": [
    "from scipy.interpolate import PchipInterpolator"
   ]
  },
  {
   "cell_type": "markdown",
   "metadata": {},
   "source": [
    "## More Examples\n",
    "\n",
    "To illustrate the differences between the two approaches mentioned above,\n",
    "let's plot a few examples.\n",
    "Both methods are piecewise monotone,\n",
    "but their exact shape is slightly different.\n",
    "Decide for yourself which one is more \"visually pleasing\"!"
   ]
  },
  {
   "cell_type": "code",
   "execution_count": null,
   "metadata": {},
   "outputs": [],
   "source": [
    "def compare_pchip(values, times):\n",
    "    plot_times = np.linspace(times[0], times[-1], 100)\n",
    "    plt.plot(\n",
    "        plot_times,\n",
    "        PchipInterpolator(times, values)(plot_times),\n",
    "        label='PCHIP', linestyle='--')\n",
    "    plt.plot(\n",
    "        plot_times,\n",
    "        splines.PiecewiseMonotoneCubic(values, times).evaluate(plot_times),\n",
    "        label='PiecewiseMonotoneCubic', linestyle='-.')\n",
    "    plt.legend()\n",
    "    grid_lines(times)"
   ]
  },
  {
   "cell_type": "code",
   "execution_count": null,
   "metadata": {},
   "outputs": [],
   "source": [
    "compare_pchip([0, 0, 1.5, 4, 4], [-1, 0, 1, 8, 9])"
   ]
  },
  {
   "cell_type": "code",
   "execution_count": null,
   "metadata": {},
   "outputs": [],
   "source": [
    "compare_pchip([0, 0, 1.5, 4, 4], [-1, 0, 6, 8, 9])"
   ]
  },
  {
   "cell_type": "markdown",
   "metadata": {},
   "source": [
    "There is even a slight difference in the uniform case:"
   ]
  },
  {
   "cell_type": "code",
   "execution_count": null,
   "metadata": {},
   "outputs": [],
   "source": [
    "compare_pchip([0, 0, 3.3, 4, 4], [-1, 0, 1, 2, 3])"
   ]
  },
  {
   "cell_type": "code",
   "execution_count": null,
   "metadata": {},
   "outputs": [],
   "source": [
    "compare_pchip([0, 0, 0.7, 4, 4], [-1, 0, 1, 2, 3])"
   ]
  },
  {
   "cell_type": "markdown",
   "metadata": {},
   "source": [
    "For differences at the beginning and the end of the curve,\n",
    "see the [section about end conditions](#End-Conditions)."
   ]
  },
  {
   "cell_type": "markdown",
   "metadata": {},
   "source": [
    "## Monotone Interpolation\n",
    "\n",
    "When using the aforementioned piecewise monotone algorithms with monotone data,\n",
    "the entire interpolant will be monotone.\n",
    "\n",
    "The class\n",
    "[splines.MonotoneCubic](../python-module/splines.rst#splines.MonotoneCubic)\n",
    "works very much the same as\n",
    "[splines.PiecewiseMonotoneCubic](../python-module/splines.rst#splines.PiecewiseMonotoneCubic),\n",
    "except that it only allows monotone data values.\n",
    "\n",
    "Since the resulting interpolation function is monotone,\n",
    "it can be inverted.\n",
    "Given a function value, the method\n",
    "[.get_time()](../python-module/splines.rst#splines.MonotoneCubic.get_time)\n",
    "can be used to find the associated parameter value."
   ]
  },
  {
   "cell_type": "code",
   "execution_count": null,
   "metadata": {},
   "outputs": [],
   "source": [
    "s = splines.MonotoneCubic([0, 2, 2, 6, 6], grid=[0, 2, 3, 6, 8])"
   ]
  },
  {
   "cell_type": "code",
   "execution_count": null,
   "metadata": {},
   "outputs": [],
   "source": [
    "probes = 1, 3, 5"
   ]
  },
  {
   "cell_type": "code",
   "execution_count": null,
   "metadata": {},
   "outputs": [],
   "source": [
    "fig, ax = plt.subplots()\n",
    "plot_spline_1d(s)\n",
    "ax.scatter(s.get_time(probes), probes)\n",
    "grid_lines(s.grid)"
   ]
  },
  {
   "cell_type": "markdown",
   "metadata": {},
   "source": [
    "If the solution is not unique (i.e. on plateaus),\n",
    "the return value is `None`:"
   ]
  },
  {
   "cell_type": "code",
   "execution_count": null,
   "metadata": {},
   "outputs": [],
   "source": [
    "assert s.get_time(2) is None"
   ]
  },
  {
   "cell_type": "markdown",
   "metadata": {},
   "source": [
    "Closed curves are obviously not possible:"
   ]
  },
  {
   "cell_type": "code",
   "execution_count": null,
   "metadata": {},
   "outputs": [],
   "source": [
    "try:\n",
    "    splines.MonotoneCubic([0, 2, 2, 6, 6], closed=True)\n",
    "except Exception as e:\n",
    "    print(e)\n",
    "    assert 'closed' in str(e)\n",
    "else:\n",
    "    assert False"
   ]
  },
  {
   "cell_type": "markdown",
   "metadata": {},
   "source": [
    "However, in some situations it might be useful\n",
    "to automatically infer the same slope at the beginning and end of the spline.\n",
    "This can be achieved with the `cyclic` flag."
   ]
  },
  {
   "cell_type": "code",
   "execution_count": null,
   "metadata": {},
   "outputs": [],
   "source": [
    "s = splines.MonotoneCubic([0, 1, 5])"
   ]
  },
  {
   "cell_type": "code",
   "execution_count": null,
   "metadata": {},
   "outputs": [],
   "source": [
    "s_cyclic = splines.MonotoneCubic([0, 1, 5], cyclic=True)"
   ]
  },
  {
   "cell_type": "code",
   "execution_count": null,
   "metadata": {},
   "outputs": [],
   "source": [
    "plot_spline_1d(s, label='not cyclic')\n",
    "plot_spline_1d(s_cyclic, label='cyclic')\n",
    "grid_lines(s.grid)\n",
    "plt.legend();"
   ]
  },
  {
   "cell_type": "markdown",
   "metadata": {},
   "source": [
    "The `cyclic` flag is only allowed if the first and last slope is `None`:"
   ]
  },
  {
   "cell_type": "code",
   "execution_count": null,
   "metadata": {},
   "outputs": [],
   "source": [
    "try:\n",
    "    splines.MonotoneCubic([0, 1, 5], slopes=[1, None, None], cyclic=True)\n",
    "except Exception as e:\n",
    "    print(e)\n",
    "    assert 'cyclic' in str(e)\n",
    "else:\n",
    "    assert False"
   ]
  },
  {
   "cell_type": "markdown",
   "metadata": {},
   "source": [
    "## End Conditions\n",
    "\n",
    "[The usual end conditions](end-conditions.ipynb)\n",
    "don't necessarily lead to a monotone interpolant,\n",
    "therefore we need to come up with custom end conditions\n",
    "that preserve monotonicity."
   ]
  },
  {
   "cell_type": "markdown",
   "metadata": {},
   "source": [
    "> For the end derivatives, the noncentered three\n",
    "point difference formula may be used, although it is sometimes necessary to modify $d_1$\n",
    "and/or $d_n$ if the signs are not appropriate. In these cases we have obtained better results\n",
    "setting $d_1$ or $d_n$ equal to zero, rather than equal to the slope of the secant line.\n",
    ">\n",
    "> ---<cite data-cite-t=\"fritsch1980monotone\">Fritsch and Carlson (1980)</cite>, section 4"
   ]
  },
  {
   "cell_type": "markdown",
   "metadata": {},
   "source": [
    "<cite data-cite-t=\"fritsch1980monotone\">Fritsch and Carlson (1980)</cite>\n",
    "recommend using the *noncentered three point difference formula*,\n",
    "however, they fail to mention what that actually is.\n",
    "Luckily, we can have a look at the\n",
    "[code](https://netlib.org/slatec/pchip/dpchim.f):\n",
    "\n",
    "```\n",
    "C\n",
    "C  SET D(1) VIA NON-CENTERED THREE-POINT FORMULA, ADJUSTED TO BE\n",
    "C     SHAPE-PRESERVING.\n",
    "C\n",
    "      HSUM = H1 + H2\n",
    "      W1 = (H1 + HSUM)/HSUM\n",
    "      W2 = -H1/HSUM\n",
    "      D(1,1) = W1*DEL1 + W2*DEL2\n",
    "      IF ( PCHST(D(1,1),DEL1) .LE. ZERO)  THEN\n",
    "         D(1,1) = ZERO\n",
    "      ELSE IF ( PCHST(DEL1,DEL2) .LT. ZERO)  THEN\n",
    "C        NEED DO THIS CHECK ONLY IF MONOTONICITY SWITCHES.\n",
    "         DMAX = THREE*DEL1\n",
    "         IF (ABS(D(1,1)) .GT. ABS(DMAX))  D(1,1) = DMAX\n",
    "      ENDIF\n",
    "```\n",
    "\n",
    "The function `PCHST` is a simple sign test:\n",
    "\n",
    "```\n",
    "      PCHST = SIGN(ONE,ARG1) * SIGN(ONE,ARG2)\n",
    "      IF ((ARG1.EQ.ZERO) .OR. (ARG2.EQ.ZERO))  PCHST = ZERO\n",
    "```"
   ]
  },
  {
   "cell_type": "markdown",
   "metadata": {},
   "source": [
    "This implementation seems to be used by \"modern\" PCHIP/PCHIM implementations as well."
   ]
  },
  {
   "cell_type": "markdown",
   "metadata": {},
   "source": [
    "> This defines the `pchip` slopes at interior breakpoints,\n",
    "but the slopes $d_1$ and $d_n$ at either end of the data interval\n",
    "are determined by a slightly different,\n",
    "one-sided analysis. The details are in `pchiptx.m`.\n",
    ">\n",
    "> ---<cite data-cite-t=\"moler2004numerical\">Moler (2004)</cite>, section 3.4"
   ]
  },
  {
   "cell_type": "markdown",
   "metadata": {},
   "source": [
    "In section 3.6, <cite data-cite-t=\"moler2004numerical\">Moler (2004)</cite>\n",
    "shows the implementation of `pchiptx.m`:\n",
    "\n",
    "```octave\n",
    "function d = pchipend(h1,h2,del1,del2)\n",
    "%  Noncentered, shape-preserving, three-point formula.\n",
    "    d = ((2*h1+h2)*del1 - h1*del2)/(h1+h2);\n",
    "    if sign(d) ~= sign(del1)\n",
    "        d = 0;\n",
    "    elseif (sign(del1)~=sign(del2))&(abs(d)>abs(3*del1))\n",
    "        d = 3*del1;\n",
    "    end\n",
    "```"
   ]
  },
  {
   "cell_type": "markdown",
   "metadata": {},
   "source": [
    "Apparently, this is the same as the above Fortran implementation."
   ]
  },
  {
   "cell_type": "markdown",
   "metadata": {},
   "source": [
    "The class [scipy.interpolate.PchipInterpolator](https://docs.scipy.org/doc/scipy/reference/generated/scipy.interpolate.PchipInterpolator.html)\n",
    "uses [the same implementation (ported to Python)](https://github.com/scipy/scipy/blob/v1.6.1/scipy/interpolate/_cubic.py#L237-L250)."
   ]
  },
  {
   "cell_type": "markdown",
   "metadata": {},
   "source": [
    "This implementation ensures monotonicity,\n",
    "but it might seem a bit strange that for calculating the first slope,\n",
    "the second slope is not directly taken into account.\n",
    "\n",
    "Another awkward property is that for calculating the inner slopes,\n",
    "only the immediately neighboring secant slopes and time intervals are considered,\n",
    "while for calculating the initial and final slopes,\n",
    "both the neighboring segment and the one next to it are considered.\n",
    "This makes the curve less locally controlled at the ends compared to the middle."
   ]
  },
  {
   "cell_type": "code",
   "execution_count": null,
   "metadata": {},
   "outputs": [],
   "source": [
    "def plot_pchip(values, grid, **kwargs):\n",
    "    pchip = PchipInterpolator(grid, values)\n",
    "    times = np.linspace(grid[0], grid[-1], 100)\n",
    "    plt.plot(times, pchip(times), **kwargs)\n",
    "    plt.scatter(grid, pchip(grid))\n",
    "    grid_lines(grid)"
   ]
  },
  {
   "cell_type": "code",
   "execution_count": null,
   "metadata": {},
   "outputs": [],
   "source": [
    "plot_pchip([0, 1, 0], [0, 1, 2])\n",
    "plot_pchip([0, 1, 1], [0, 1, 2], linestyle='--')\n",
    "grid_lines([0, 1, 2])"
   ]
  },
  {
   "cell_type": "code",
   "execution_count": null,
   "metadata": {},
   "outputs": [],
   "source": [
    "plot_pchip([0, 1, 0], [0, 1, 4])\n",
    "plot_pchip([0, 1, 0], [0, 1, 1.5], linestyle='--')\n",
    "grid_lines([0, 1, 1.5, 4])"
   ]
  },
  {
   "cell_type": "markdown",
   "metadata": {},
   "source": [
    "In both of the above examples,\n",
    "the very left slope depends on properties of the very right segment."
   ]
  },
  {
   "cell_type": "markdown",
   "metadata": {},
   "source": [
    "The slope at $t = 1$ is clearly zero in both cases and apart from that fact,\n",
    "the shape of the curve at $t > 1$ should, arguably,\n",
    "not have any influence on the slope at $t = 0$."
   ]
  },
  {
   "cell_type": "markdown",
   "metadata": {},
   "source": [
    "To provide an alternative to this behavior, the class\n",
    "[splines.PiecewiseMonotoneCubic](../python-module/splines.rst#splines.PiecewiseMonotoneCubic)\n",
    "uses end conditions that depend on the slope at $t = 1$,\n",
    "but not explicitly on the shape of the curve at $t > 1$:"
   ]
  },
  {
   "cell_type": "code",
   "execution_count": null,
   "metadata": {},
   "outputs": [],
   "source": [
    "plot_piecewise_monotone([0, 1, 0], grid=[0, 1, 1.5])\n",
    "plot_piecewise_monotone([0, 1, 0], grid=[0, 1, 4])\n",
    "grid_lines([0, 1, 1.5, 4])"
   ]
  },
  {
   "cell_type": "markdown",
   "metadata": {},
   "source": [
    "The initial and final slopes of\n",
    "[splines.PiecewiseMonotoneCubic](../python-module/splines.rst#splines.PiecewiseMonotoneCubic)\n",
    "are implemented like this:"
   ]
  },
  {
   "cell_type": "code",
   "execution_count": null,
   "metadata": {},
   "outputs": [],
   "source": [
    "def monotone_end_condition(inner_slope, secant_slope):\n",
    "    if secant_slope < 0:\n",
    "        return -monotone_end_condition(-inner_slope, -secant_slope)\n",
    "    assert 0 <= inner_slope <= 3 * secant_slope\n",
    "    if inner_slope <= secant_slope:\n",
    "        return 3 * secant_slope - 2 * inner_slope\n",
    "    else:\n",
    "        return (3 * secant_slope - inner_slope) / 2"
   ]
  },
  {
   "cell_type": "markdown",
   "metadata": {},
   "source": [
    "## Even More Examples\n",
    "\n",
    "The following example plots show different slopes at the beginning and end\n",
    "due to different end conditions."
   ]
  },
  {
   "cell_type": "code",
   "execution_count": null,
   "metadata": {},
   "outputs": [],
   "source": [
    "compare_pchip([1, 2, 1], [1, 3.5, 5])"
   ]
  },
  {
   "cell_type": "code",
   "execution_count": null,
   "metadata": {},
   "outputs": [],
   "source": [
    "compare_pchip([1, 2, 3.5, 4, 3], [1, 1.5, 4, 5, 6])"
   ]
  },
  {
   "cell_type": "code",
   "execution_count": null,
   "metadata": {},
   "outputs": [],
   "source": [
    "compare_pchip([1, 2, 1.9, 1], [1, 3, 4, 6])"
   ]
  }
 ],
 "metadata": {
  "kernelspec": {
   "display_name": "Python 3 (ipykernel)",
   "language": "python",
   "name": "python3"
  },
  "language_info": {
   "codemirror_mode": {
    "name": "ipython",
    "version": 3
   },
   "file_extension": ".py",
   "mimetype": "text/x-python",
   "name": "python",
   "nbconvert_exporter": "python",
   "pygments_lexer": "ipython3",
   "version": "3.11.1"
  }
 },
 "nbformat": 4,
 "nbformat_minor": 4
}
