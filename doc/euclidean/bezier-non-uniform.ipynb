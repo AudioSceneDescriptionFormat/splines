{
 "cells": [
  {
   "cell_type": "markdown",
   "metadata": {
    "nbsphinx": "hidden"
   },
   "source": [
    "This notebook is part of https://github.com/AudioSceneDescriptionFormat/splines, see also https://splines.readthedocs.io/.\n",
    "\n",
    "[back to overview](bezier.ipynb)"
   ]
  },
  {
   "cell_type": "markdown",
   "metadata": {},
   "source": [
    "# Non-Uniform Bézier Splines\n",
    "\n",
    "We show only cubic splines here ..."
   ]
  },
  {
   "cell_type": "code",
   "execution_count": null,
   "metadata": {},
   "outputs": [],
   "source": [
    "def lerp(one, two, t):\n",
    "    return (1 - t) * one + t * two"
   ]
  },
  {
   "cell_type": "code",
   "execution_count": null,
   "metadata": {},
   "outputs": [],
   "source": [
    "import sympy as sp\n",
    "sp.init_printing()"
   ]
  },
  {
   "cell_type": "code",
   "execution_count": null,
   "metadata": {},
   "outputs": [],
   "source": [
    "from utility import NamedExpression"
   ]
  },
  {
   "cell_type": "code",
   "execution_count": null,
   "metadata": {},
   "outputs": [],
   "source": [
    "t, t4, t5 = sp.symbols('t t4 t5')"
   ]
  },
  {
   "cell_type": "code",
   "execution_count": null,
   "metadata": {},
   "outputs": [],
   "source": [
    "control_points = sp.symbols('xbm4 xtildebm4^(+) xtildebm5^(-) xbm5')\n",
    "control_points"
   ]
  },
  {
   "cell_type": "code",
   "execution_count": null,
   "metadata": {},
   "outputs": [],
   "source": [
    "def de_casteljau(points, t):\n",
    "    while len(points) > 1:\n",
    "        points = [lerp(a, b, t) for a, b in zip(points, points[1:])]\n",
    "    return points[0]"
   ]
  },
  {
   "cell_type": "markdown",
   "metadata": {},
   "source": [
    "$t \\to \\frac{t - t_i}{t_{i+1} - t_i}$"
   ]
  },
  {
   "cell_type": "code",
   "execution_count": null,
   "metadata": {},
   "outputs": [],
   "source": [
    "p4 = NamedExpression(\n",
    "    'pbm4',\n",
    "    de_casteljau(control_points, (t - t4) / (t5 - t4)))"
   ]
  },
  {
   "cell_type": "code",
   "execution_count": null,
   "metadata": {},
   "outputs": [],
   "source": [
    "pd4 = p4.diff(t)"
   ]
  },
  {
   "cell_type": "code",
   "execution_count": null,
   "metadata": {},
   "outputs": [],
   "source": [
    "pd4.evaluated_at(t, t4)"
   ]
  },
  {
   "cell_type": "markdown",
   "metadata": {},
   "source": [
    "\\begin{equation*}\n",
    "\\boldsymbol{\\dot{x}}_i^{(+)} =\n",
    "\\frac\n",
    "{3 \\left(\\boldsymbol{\\tilde{x}^{(+)}}_i - \\boldsymbol{x}_i\\right)}\n",
    "{\\Delta_i},\n",
    "\\end{equation*}\n",
    "\n",
    "where $\\Delta_i = t_{i+1} - t_i$."
   ]
  },
  {
   "cell_type": "code",
   "execution_count": null,
   "metadata": {},
   "outputs": [],
   "source": [
    "pd4.evaluated_at(t, t5)"
   ]
  },
  {
   "cell_type": "markdown",
   "metadata": {},
   "source": [
    "\\begin{equation*}\n",
    "\\boldsymbol{\\dot{x}}_i^{(-)} =\n",
    "\\frac\n",
    "{3 \\left(\\boldsymbol{x}_i - \\boldsymbol{\\tilde{x}^{(-)}}_i\\right)}\n",
    "{\\Delta_{i-1}}\n",
    "\\end{equation*}"
   ]
  },
  {
   "cell_type": "markdown",
   "metadata": {},
   "source": [
    "\\begin{align*}\n",
    "\\boldsymbol{\\tilde{x}^{(+)}}_i &=\n",
    "\\boldsymbol{x}_i + \\frac{\\Delta_i \\boldsymbol{\\dot{x}}_i^{(+)}}{3} \\\\\n",
    "\\boldsymbol{\\tilde{x}^{(-)}}_i &=\n",
    "\\boldsymbol{x}_i - \\frac{\\Delta_{i-1} \\boldsymbol{\\dot{x}}_i^{(-)}}{3}\n",
    "\\end{align*}"
   ]
  }
 ],
 "metadata": {
  "kernelspec": {
   "display_name": "Python 3",
   "language": "python",
   "name": "python3"
  },
  "language_info": {
   "codemirror_mode": {
    "name": "ipython",
    "version": 3
   },
   "file_extension": ".py",
   "mimetype": "text/x-python",
   "name": "python",
   "nbconvert_exporter": "python",
   "pygments_lexer": "ipython3",
   "version": "3.9.2"
  }
 },
 "nbformat": 4,
 "nbformat_minor": 4
}
