{
 "cells": [
  {
   "cell_type": "markdown",
   "metadata": {
    "nbsphinx": "hidden"
   },
   "source": [
    "This notebook is part of https://github.com/AudioSceneDescriptionFormat/splines, see also https://splines.readthedocs.io/.\n",
    "\n",
    "[back to overview](bezier.ipynb)"
   ]
  },
  {
   "cell_type": "markdown",
   "metadata": {},
   "source": [
    "# Non-Uniform (Cubic) Bézier Splines\n",
    "\n",
    "Very commonly,\n",
    "Bézier splines are used with a parameter range of $0 \\le t \\le 1$,\n",
    "which has also been used to derive the basis polynomials and basis matrices in\n",
    "[the notebook about De Casteljau's algorithm](bezier-de-casteljau.ipynb).\n",
    "\n",
    "The parameter range can be re-scaled to any desired parameter range,\n",
    "but since the shape of a Bézier curve is fully defined by its control polygon,\n",
    "this will not change the shape of the curve,\n",
    "but only its speed, and therefore its tangent vectors."
   ]
  },
  {
   "cell_type": "markdown",
   "metadata": {},
   "source": [
    "To derive equations for non-uniform tangent vectors,\n",
    "let us quickly re-implement De Casteljau's algorithm:"
   ]
  },
  {
   "cell_type": "code",
   "execution_count": null,
   "metadata": {},
   "outputs": [],
   "source": [
    "def lerp(one, two, t):\n",
    "    return (1 - t) * one + t * two"
   ]
  },
  {
   "cell_type": "code",
   "execution_count": null,
   "metadata": {},
   "outputs": [],
   "source": [
    "def de_casteljau(points, t):\n",
    "    while len(points) > 1:\n",
    "        points = [lerp(a, b, t) for a, b in zip(points, points[1:])]\n",
    "    return points[0]"
   ]
  },
  {
   "cell_type": "code",
   "execution_count": null,
   "metadata": {},
   "outputs": [],
   "source": [
    "import sympy as sp\n",
    "sp.init_printing()"
   ]
  },
  {
   "cell_type": "markdown",
   "metadata": {},
   "source": [
    "We'll also use our trusty SymPy tools from [utility.py](utility.py):"
   ]
  },
  {
   "cell_type": "code",
   "execution_count": null,
   "metadata": {},
   "outputs": [],
   "source": [
    "from utility import NamedExpression"
   ]
  },
  {
   "cell_type": "markdown",
   "metadata": {},
   "source": [
    "In this notebook we are only looking at cubic Bézier splines.\n",
    "More specifically, we are looking at the fifth spline segment,\n",
    "from $\\boldsymbol{x}_4$ to $\\boldsymbol{x}_5$\n",
    "within a parameter range from $t_4$ to $t_5$,\n",
    "but later we can easily generalize this."
   ]
  },
  {
   "cell_type": "code",
   "execution_count": null,
   "metadata": {},
   "outputs": [],
   "source": [
    "control_points = sp.symbols('xbm4 xtildebm4^(+) xtildebm5^(-) xbm5')\n",
    "control_points"
   ]
  },
  {
   "cell_type": "code",
   "execution_count": null,
   "metadata": {},
   "outputs": [],
   "source": [
    "t, t4, t5 = sp.symbols('t t4 t5')"
   ]
  },
  {
   "cell_type": "markdown",
   "metadata": {},
   "source": [
    "As before,\n",
    "we are using De Casteljau's algorithm,\n",
    "but this time we are re-scaling the parameter range using the transformation\n",
    "$t \\to \\frac{t - t_i}{t_{i+1} - t_i}$:"
   ]
  },
  {
   "cell_type": "code",
   "execution_count": null,
   "metadata": {},
   "outputs": [],
   "source": [
    "p4 = NamedExpression(\n",
    "    'pbm4',\n",
    "    de_casteljau(control_points, (t - t4) / (t5 - t4)))"
   ]
  },
  {
   "cell_type": "markdown",
   "metadata": {},
   "source": [
    "## Tangent Vectors\n",
    "\n",
    "As always,\n",
    "the tangent vectors can be obtained by means of the first derivative:"
   ]
  },
  {
   "cell_type": "code",
   "execution_count": null,
   "metadata": {},
   "outputs": [],
   "source": [
    "pd4 = p4.diff(t)"
   ]
  },
  {
   "cell_type": "code",
   "execution_count": null,
   "metadata": {},
   "outputs": [],
   "source": [
    "pd4.evaluated_at(t, t4)"
   ]
  },
  {
   "cell_type": "markdown",
   "metadata": {},
   "source": [
    "This expression for the outgoing tangent vector at\n",
    "$\\boldsymbol{x}_4$\n",
    "can be generalized to\n",
    "\n",
    "\\begin{equation*}\n",
    "\\boldsymbol{\\dot{x}}_i^{(+)} =\n",
    "\\frac\n",
    "{3 \\left(\\boldsymbol{\\tilde{x}^{(+)}}_i - \\boldsymbol{x}_i\\right)}\n",
    "{\\Delta_i},\n",
    "\\end{equation*}\n",
    "\n",
    "where $\\Delta_i = t_{i+1} - t_i$."
   ]
  },
  {
   "cell_type": "markdown",
   "metadata": {},
   "source": [
    "Similarly,\n",
    "the incoming tangent vector at $\\boldsymbol{x}_5$ ..."
   ]
  },
  {
   "cell_type": "code",
   "execution_count": null,
   "metadata": {},
   "outputs": [],
   "source": [
    "pd4.evaluated_at(t, t5)"
   ]
  },
  {
   "cell_type": "markdown",
   "metadata": {},
   "source": [
    "... can be generalized to\n",
    "\n",
    "\\begin{equation*}\n",
    "\\boldsymbol{\\dot{x}}_i^{(-)} =\n",
    "\\frac\n",
    "{3 \\left(\\boldsymbol{x}_i - \\boldsymbol{\\tilde{x}^{(-)}}_i\\right)}\n",
    "{\\Delta_{i-1}}.\n",
    "\\end{equation*}"
   ]
  },
  {
   "cell_type": "markdown",
   "metadata": {},
   "source": [
    "This is similar to the\n",
    "[uniform case](bezier-de-casteljau.ipynb#Cubic-Tangent-Vectors),\n",
    "the tangent vectors are just divided by the parameter interval."
   ]
  },
  {
   "cell_type": "markdown",
   "metadata": {},
   "source": [
    "## Control Points From Tangent Vectors\n",
    "\n",
    "If the tangent vectors are given in the first place\n",
    "-- i.e. when a non-uniform [Hermite spline](hermite.ipynb) is given,\n",
    "the cubic Bézier control points can be calculated like this:"
   ]
  },
  {
   "cell_type": "markdown",
   "metadata": {},
   "source": [
    "\\begin{align*}\n",
    "\\boldsymbol{\\tilde{x}^{(+)}}_i &=\n",
    "\\boldsymbol{x}_i + \\frac{\\Delta_i \\boldsymbol{\\dot{x}}_i^{(+)}}{3} \\\\\n",
    "\\boldsymbol{\\tilde{x}^{(-)}}_i &=\n",
    "\\boldsymbol{x}_i - \\frac{\\Delta_{i-1} \\boldsymbol{\\dot{x}}_i^{(-)}}{3}\n",
    "\\end{align*}"
   ]
  }
 ],
 "metadata": {
  "kernelspec": {
   "display_name": "Python 3 (ipykernel)",
   "language": "python",
   "name": "python3"
  },
  "language_info": {
   "codemirror_mode": {
    "name": "ipython",
    "version": 3
   },
   "file_extension": ".py",
   "mimetype": "text/x-python",
   "name": "python",
   "nbconvert_exporter": "python",
   "pygments_lexer": "ipython3",
   "version": "3.11.2"
  }
 },
 "nbformat": 4,
 "nbformat_minor": 4
}
