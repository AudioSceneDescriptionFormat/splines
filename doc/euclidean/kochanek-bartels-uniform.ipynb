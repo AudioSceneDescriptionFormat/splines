{
 "cells": [
  {
   "cell_type": "markdown",
   "metadata": {
    "nbsphinx": "hidden"
   },
   "source": [
    "This notebook is part of https://github.com/AudioSceneDescriptionFormat/splines, see also https://splines.readthedocs.io/."
   ]
  },
  {
   "cell_type": "markdown",
   "metadata": {},
   "source": [
    "# Uniform Kochanek-Bartels Splines (TCB Splines)\n",
    "\n",
    "Kochanek-Bartels splines are a superset of Cardinal splines which themselves are a superset of [Catmull-Rom splines](catmull-rom-uniform.ipynb).\n",
    "They have three parameters per vertex (of course they can also be chosen to be the same values for the whole spline).\n",
    "\n",
    "The parameters are called\n",
    "$T$ for \"tension\",\n",
    "$C$ for \"continuity\" and\n",
    "$B$ for \"bias\".\n",
    "With the default values of $C = 0$ and $B = 0$, a Kochanek-Bartels spline is identical with a cardinal spline.\n",
    "If the \"tension\" parameter also has its default value $T = 0$ it is identical with a Catmull-Rom spline."
   ]
  },
  {
   "cell_type": "markdown",
   "metadata": {},
   "source": [
    "Starting point: tangent vector from Catmull-Rom splines:\n",
    "\n",
    "\\begin{equation*}\n",
    "\\boldsymbol{\\dot{x}}_i = \\frac{\n",
    "(\\boldsymbol{x}_i - \\boldsymbol{x}_{i-1}) +\n",
    "(\\boldsymbol{x}_{i+1} - \\boldsymbol{x}_i)\n",
    "}{2}\n",
    "\\end{equation*}"
   ]
  },
  {
   "cell_type": "markdown",
   "metadata": {},
   "source": [
    "## Parameters"
   ]
  },
  {
   "cell_type": "markdown",
   "metadata": {},
   "source": [
    "### Tension\n",
    "\n",
    "\\begin{equation*}\n",
    "\\boldsymbol{\\dot{x}}_i = (1 - T_i) \\frac{\n",
    "(\\boldsymbol{x}_i - \\boldsymbol{x}_{i-1}) +\n",
    "(\\boldsymbol{x}_{i+1} - \\boldsymbol{x}_i)\n",
    "}{2}\n",
    "\\end{equation*}\n",
    "\n",
    "TODO: comparison with \"tension\" parameter of cardinal splines\n",
    "\n",
    "TODO: images"
   ]
  },
  {
   "cell_type": "markdown",
   "metadata": {},
   "source": [
    "### Continuity\n",
    "\n",
    "Up to now, the goal was having a continuous first derivative at the control points, i.e. the incoming and outgoing tangent vectors are identical:\n",
    "\n",
    "\\begin{equation*}\n",
    "\\boldsymbol{\\dot{x}}_i = \\boldsymbol{\\dot{x}}_i^{(-)} = \\boldsymbol{\\dot{x}}_i^{(+)}\n",
    "\\end{equation*}"
   ]
  },
  {
   "cell_type": "markdown",
   "metadata": {},
   "source": [
    "The \"continuity\" parameter allows us to break this continuity if we so desire:\n",
    "\n",
    "\\begin{align*}\n",
    "\\boldsymbol{\\dot{x}}_i^{(-)} &= \\frac{\n",
    "(1 - C_i) (\\boldsymbol{x}_i - \\boldsymbol{x}_{i-1}) +\n",
    "(1 + C_i) (\\boldsymbol{x}_{i+1} - \\boldsymbol{x}_i)\n",
    "}{2}\\\\\n",
    "\\boldsymbol{\\dot{x}}_i^{(+)} &= \\frac{\n",
    "(1 + C_i) (\\boldsymbol{x}_i - \\boldsymbol{x}_{i-1}) +\n",
    "(1 - C_i) (\\boldsymbol{x}_{i+1} - \\boldsymbol{x}_i)\n",
    "}{2}\n",
    "\\end{align*}\n",
    "\n",
    "When $C_i = 0$, we are back at a Catmull-Rom spline.\n",
    "When $C_i = -1$, we get a tangent like in a piecewise linear curve.\n",
    "When $C_i = 1$, we get some weird \"inverse corners\".\n",
    "\n",
    "TODO: Example: compare $T_i = 1$ and $C_i = -1$: similar shape (a.k.a. \"image\"), different timing"
   ]
  },
  {
   "cell_type": "markdown",
   "metadata": {},
   "source": [
    "### Bias\n",
    "\n",
    "\\begin{equation*}\n",
    "\\boldsymbol{\\dot{x}}_i = \\frac{\n",
    "(1 + B_i) (\\boldsymbol{x}_i - \\boldsymbol{x}_{i-1}) +\n",
    "(1 - B_i) (\\boldsymbol{x}_{i+1} - \\boldsymbol{x}_i)\n",
    "}{2}\n",
    "\\end{equation*}"
   ]
  },
  {
   "cell_type": "markdown",
   "metadata": {},
   "source": [
    "### All Three Combined\n",
    "\n",
    "\\begin{align*}\n",
    "\\boldsymbol{\\dot{x}}_i^{(+)} &= \\frac{\n",
    "(1 - T_i) (1 + C_i) (1 + B_i) (\\boldsymbol{x}_i - \\boldsymbol{x}_{i-1}) +\n",
    "(1 - T_i) (1 - C_i) (1 - B_i) (\\boldsymbol{x}_{i+1} - \\boldsymbol{x}_i)\n",
    "}{2}\\\\\n",
    "\\boldsymbol{\\dot{x}}_i^{(-)} &= \\frac{\n",
    "(1 - T_i) (1 - C_i) (1 + B_i) (\\boldsymbol{x}_i - \\boldsymbol{x}_{i-1}) +\n",
    "(1 - T_i) (1 + C_i) (1 - B_i) (\\boldsymbol{x}_{i+1} - \\boldsymbol{x}_i)\n",
    "}{2}\n",
    "\\end{align*}"
   ]
  },
  {
   "cell_type": "markdown",
   "metadata": {},
   "source": [
    "TODO: cite Kochanek and Bartels, equation 9"
   ]
  },
  {
   "cell_type": "markdown",
   "metadata": {},
   "source": [
    "TODO: cite Kochanek and Bartels, equation 8"
   ]
  },
  {
   "cell_type": "markdown",
   "metadata": {},
   "source": [
    "Note: There is an error in eq (6.11) of Ian Millington's paper (all subscripts of $x$ are wrong, most likely copy-pasted from the preceding equation)."
   ]
  },
  {
   "cell_type": "markdown",
   "metadata": {},
   "source": [
    "To simplify the result we will get later, we introduce the following shorthands (as suggested in Millington's paper):\n",
    "\n",
    "\\begin{align*}\n",
    "a_i &= (1 - T_i) (1 + C_i) (1 + B_i)\\\\\n",
    "b_i &= (1 - T_i) (1 - C_i) (1 - B_i)\\\\\n",
    "c_i &= (1 - T_i) (1 - C_i) (1 + B_i)\\\\\n",
    "d_i &= (1 - T_i) (1 + C_i) (1 - B_i)\n",
    "\\end{align*}"
   ]
  },
  {
   "cell_type": "markdown",
   "metadata": {},
   "source": [
    "This leads to the simplified equations\n",
    "\n",
    "\\begin{align*}\n",
    "\\boldsymbol{\\dot{x}}_i^{(+)} &= \\frac{\n",
    "a_i (\\boldsymbol{x}_i - \\boldsymbol{x}_{i-1}) +\n",
    "b_i (\\boldsymbol{x}_{i+1} - \\boldsymbol{x}_i)\n",
    "}{2}\\\\\n",
    "\\boldsymbol{\\dot{x}}_i^{(-)} &= \\frac{\n",
    "c_i (\\boldsymbol{x}_i - \\boldsymbol{x}_{i-i}) +\n",
    "d_i (\\boldsymbol{x}_{i+1} - \\boldsymbol{x}_i)\n",
    "}{2}\n",
    "\\end{align*}"
   ]
  },
  {
   "cell_type": "markdown",
   "metadata": {},
   "source": [
    "## Calculation"
   ]
  },
  {
   "cell_type": "code",
   "execution_count": null,
   "metadata": {},
   "outputs": [],
   "source": [
    "import sympy as sp\n",
    "sp.init_printing()"
   ]
  },
  {
   "cell_type": "code",
   "execution_count": null,
   "metadata": {},
   "outputs": [],
   "source": [
    "from utility import NamedExpression, NamedMatrix"
   ]
  },
  {
   "cell_type": "code",
   "execution_count": null,
   "metadata": {},
   "outputs": [],
   "source": [
    "from helper import plot_basis"
   ]
  },
  {
   "cell_type": "markdown",
   "metadata": {},
   "source": [
    "Same control values as Catmull-Rom ..."
   ]
  },
  {
   "cell_type": "code",
   "execution_count": null,
   "metadata": {},
   "outputs": [],
   "source": [
    "x3, x4, x5, x6 = sp.symbols('xbm3:7')"
   ]
  },
  {
   "cell_type": "code",
   "execution_count": null,
   "metadata": {},
   "outputs": [],
   "source": [
    "control_values_KB = sp.Matrix([x3, x4, x5, x6])\n",
    "control_values_KB"
   ]
  },
  {
   "cell_type": "markdown",
   "metadata": {},
   "source": [
    "... but three additional parameters per vertex.\n",
    "In our calculation, the parameters belonging to $\\boldsymbol{x}_4$ and $\\boldsymbol{x}_5$ are relevant:"
   ]
  },
  {
   "cell_type": "code",
   "execution_count": null,
   "metadata": {},
   "outputs": [],
   "source": [
    "T4, T5 = sp.symbols('T4 T5')\n",
    "C4, C5 = sp.symbols('C4 C5')\n",
    "B4, B5 = sp.symbols('B4 B5')"
   ]
  },
  {
   "cell_type": "code",
   "execution_count": null,
   "metadata": {},
   "outputs": [],
   "source": [
    "a4 = NamedExpression('a4', (1 - T4) * (1 + C4) * (1 + B4))\n",
    "b4 = NamedExpression('b4', (1 - T4) * (1 - C4) * (1 - B4))\n",
    "c5 = NamedExpression('c5', (1 - T5) * (1 - C5) * (1 + B5))\n",
    "d5 = NamedExpression('d5', (1 - T5) * (1 + C5) * (1 - B5))\n",
    "display(a4, b4, c5, d5)"
   ]
  },
  {
   "cell_type": "code",
   "execution_count": null,
   "metadata": {},
   "outputs": [],
   "source": [
    "xd4 = NamedExpression(\n",
    "    'xdotbm4^(+)',\n",
    "    sp.S.Half * (a4.name * (x4 - x3) + b4.name * (x5 - x4)))\n",
    "xd5 = NamedExpression(\n",
    "    'xdotbm5^(-)',\n",
    "    sp.S.Half * (c5.name * (x5 - x4)  + d5.name * (x6 - x5)))\n",
    "display(xd4, xd5)"
   ]
  },
  {
   "cell_type": "code",
   "execution_count": null,
   "metadata": {},
   "outputs": [],
   "source": [
    "display(xd4.subs_symbols(a4, b4))\n",
    "display(xd5.subs_symbols(c5, d5))"
   ]
  },
  {
   "cell_type": "markdown",
   "metadata": {},
   "source": [
    "Same as with Catmull-Rom, try to find a transformation from cardinal control values to Hermite control values.\n",
    "This can be used to get the full characteristic matrix."
   ]
  },
  {
   "cell_type": "code",
   "execution_count": null,
   "metadata": {},
   "outputs": [],
   "source": [
    "control_values_H = sp.Matrix([x4, x5, xd4.name, xd5.name])\n",
    "control_values_H"
   ]
  },
  {
   "cell_type": "markdown",
   "metadata": {},
   "source": [
    "From the [notebook about uniform Hermite splines](hermite-uniform.ipynb):"
   ]
  },
  {
   "cell_type": "code",
   "execution_count": null,
   "metadata": {},
   "outputs": [],
   "source": [
    "M_H = NamedMatrix(\n",
    "    r'{M_\\text{H}}',\n",
    "    sp.Matrix([[2, -2, 1, 1],\n",
    "               [-3, 3, -2, -1],\n",
    "               [0, 0, 1, 0],\n",
    "               [1, 0, 0, 0]]))\n",
    "M_H"
   ]
  },
  {
   "cell_type": "code",
   "execution_count": null,
   "metadata": {},
   "outputs": [],
   "source": [
    "M_KBtoH = NamedMatrix(r'{M_{\\text{KB$,4\\to$H}}}', 4, 4)\n",
    "M_KB = NamedMatrix(r'{M_{\\text{KB},4}}', M_H.name * M_KBtoH.name)\n",
    "M_KB"
   ]
  },
  {
   "cell_type": "code",
   "execution_count": null,
   "metadata": {},
   "outputs": [],
   "source": [
    "NamedMatrix(control_values_H, M_KBtoH.name * control_values_KB)"
   ]
  },
  {
   "cell_type": "markdown",
   "metadata": {},
   "source": [
    "If we substitute the above definitions of $\\boldsymbol{\\dot{x}}_4$ and $\\boldsymbol{\\dot{x}}_5$, we can directly read off the matrix elements:"
   ]
  },
  {
   "cell_type": "code",
   "execution_count": null,
   "metadata": {},
   "outputs": [],
   "source": [
    "M_KBtoH.expr = sp.Matrix([\n",
    "    [expr.coeff(cv) for cv in control_values_KB]\n",
    "    for expr in control_values_H.subs([xd4.args, xd5.args]).expand()])\n",
    "M_KBtoH.pull_out(sp.S.Half)"
   ]
  },
  {
   "cell_type": "code",
   "execution_count": null,
   "metadata": {},
   "outputs": [],
   "source": [
    "M_KB = M_KB.subs_symbols(M_H, M_KBtoH).doit()\n",
    "M_KB.pull_out(sp.S.Half)"
   ]
  },
  {
   "cell_type": "markdown",
   "metadata": {},
   "source": [
    "And for completeness' sake, its inverse:"
   ]
  },
  {
   "cell_type": "code",
   "execution_count": null,
   "metadata": {},
   "outputs": [],
   "source": [
    "M_KB.I"
   ]
  },
  {
   "cell_type": "code",
   "execution_count": null,
   "metadata": {},
   "outputs": [],
   "source": [
    "t = sp.symbols('t')"
   ]
  },
  {
   "cell_type": "code",
   "execution_count": null,
   "metadata": {},
   "outputs": [],
   "source": [
    "b_KB = NamedMatrix(r'{b_{\\text{KB},4}}', sp.Matrix([t**3, t**2, t, 1]).T * M_KB.expr)\n",
    "b_KB.T.pull_out(sp.S.Half)"
   ]
  },
  {
   "cell_type": "markdown",
   "metadata": {},
   "source": [
    "To be able to plot the basis functions,\n",
    "let's substitute $a_4$, $b_4$, $c_5$ and $d_5$ back in (which isn't pretty):"
   ]
  },
  {
   "cell_type": "code",
   "execution_count": null,
   "metadata": {},
   "outputs": [],
   "source": [
    "b_KB = b_KB.subs_symbols(a4, b4, c5, d5).simplify()\n",
    "b_KB.T.pull_out(sp.S.Half)"
   ]
  },
  {
   "cell_type": "code",
   "execution_count": null,
   "metadata": {},
   "outputs": [],
   "source": [
    "labels = sp.symbols('xbm_i-1 xbm_i xbm_i+1 xbm_i+2')"
   ]
  },
  {
   "cell_type": "code",
   "execution_count": null,
   "metadata": {},
   "outputs": [],
   "source": [
    "plot_basis(\n",
    "    *b_KB.expr.subs({T4: 0, T5: 0, C4: 0, C5: 1, B4: 0, B5: 0}),\n",
    "    labels=labels)"
   ]
  },
  {
   "cell_type": "code",
   "execution_count": null,
   "metadata": {},
   "outputs": [],
   "source": [
    "plot_basis(\n",
    "    *b_KB.expr.subs({T4: 0, T5: 0, C4: 0, C5: -0.5, B4: 0, B5: 0}),\n",
    "    labels=labels)"
   ]
  },
  {
   "cell_type": "markdown",
   "metadata": {},
   "source": [
    "TODO: plot some example curves"
   ]
  }
 ],
 "metadata": {
  "kernelspec": {
   "display_name": "Python 3",
   "language": "python",
   "name": "python3"
  },
  "language_info": {
   "codemirror_mode": {
    "name": "ipython",
    "version": 3
   },
   "file_extension": ".py",
   "mimetype": "text/x-python",
   "name": "python",
   "nbconvert_exporter": "python",
   "pygments_lexer": "ipython3",
   "version": "3.9.1"
  }
 },
 "nbformat": 4,
 "nbformat_minor": 4
}
