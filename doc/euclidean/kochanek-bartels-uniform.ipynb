{
 "cells": [
  {
   "cell_type": "markdown",
   "metadata": {
    "nbsphinx": "hidden"
   },
   "source": [
    "This notebook is part of https://github.com/AudioSceneDescriptionFormat/splines, see also https://splines.readthedocs.io/.\n",
    "\n",
    "[back to overview](kochanek-bartels.ipynb)"
   ]
  },
  {
   "cell_type": "markdown",
   "metadata": {},
   "source": [
    "# Uniform Kochanek--Bartels Splines"
   ]
  },
  {
   "cell_type": "markdown",
   "metadata": {},
   "source": [
    "As a starting point,\n",
    "remember the\n",
    "[tangent vectors of uniform Catmull--Rom splines](catmull-rom-properties.ipynb#Tangent-Vectors)\n",
    "-- see also equation 3 of the paper by\n",
    "<cite data-cite-t=\"kochanek1984tcb\">Kochanek and Bartels (1984)</cite>:\n",
    "\n",
    "\\begin{equation*}\n",
    "\\boldsymbol{\\dot{x}}_i = \\frac{\\boldsymbol{x}_{i+1} - \\boldsymbol{x}_{i-1}}{2},\n",
    "\\end{equation*}\n",
    "\n",
    "which can be re-written as\n",
    "\n",
    "\\begin{equation*}\n",
    "\\boldsymbol{\\dot{x}}_i = \\frac{\n",
    "(\\boldsymbol{x}_i - \\boldsymbol{x}_{i-1}) +\n",
    "(\\boldsymbol{x}_{i+1} - \\boldsymbol{x}_i)\n",
    "}{2}.\n",
    "\\end{equation*}"
   ]
  },
  {
   "cell_type": "markdown",
   "metadata": {},
   "source": [
    "## Parameters\n",
    "\n",
    "Deriving *TCB splines* is all about inserting the parameters\n",
    "$T$, $C$ and $B$ into this equation."
   ]
  },
  {
   "cell_type": "markdown",
   "metadata": {},
   "source": [
    "### Tension\n",
    "\n",
    "<cite data-cite-t=\"kochanek1984tcb\">Kochanek and Bartels (1984)</cite>\n",
    "show the usage of $T$ in equation 4:\n",
    "\n",
    "\\begin{equation*}\n",
    "\\boldsymbol{\\dot{x}}_i = (1 - T_i) \\frac{\n",
    "(\\boldsymbol{x}_i - \\boldsymbol{x}_{i-1}) +\n",
    "(\\boldsymbol{x}_{i+1} - \\boldsymbol{x}_i)\n",
    "}{2}\n",
    "\\end{equation*}"
   ]
  },
  {
   "cell_type": "markdown",
   "metadata": {},
   "source": [
    "### Continuity\n",
    "\n",
    "Up to now,\n",
    "the goal was to have a continuous first derivative at the control points,\n",
    "i.e. the incoming and outgoing tangent vectors were identical:\n",
    "\n",
    "\\begin{equation*}\n",
    "\\boldsymbol{\\dot{x}}_i = \\boldsymbol{\\dot{x}}_i^{(-)} = \\boldsymbol{\\dot{x}}_i^{(+)}\n",
    "\\end{equation*}\n",
    "\n",
    "This also happens to be the requirement for a spline to be $C^1$ continuous."
   ]
  },
  {
   "cell_type": "markdown",
   "metadata": {},
   "source": [
    "The *continuity* parameter $C$\n",
    "allows us to break this continuity if we so desire,\n",
    "leading to different incoming and outgoing tangent vectors\n",
    "-- see equations 5 and 6 in the paper by\n",
    "<cite data-cite-t=\"kochanek1984tcb\">Kochanek and Bartels (1984)</cite>:\n",
    "\n",
    "\\begin{align*}\n",
    "\\boldsymbol{\\dot{x}}_i^{(-)} &= \\frac{\n",
    "(1 - C_i) (\\boldsymbol{x}_i - \\boldsymbol{x}_{i-1}) +\n",
    "(1 + C_i) (\\boldsymbol{x}_{i+1} - \\boldsymbol{x}_i)\n",
    "}{2}\\\\\n",
    "\\boldsymbol{\\dot{x}}_i^{(+)} &= \\frac{\n",
    "(1 + C_i) (\\boldsymbol{x}_i - \\boldsymbol{x}_{i-1}) +\n",
    "(1 - C_i) (\\boldsymbol{x}_{i+1} - \\boldsymbol{x}_i)\n",
    "}{2}\n",
    "\\end{align*}"
   ]
  },
  {
   "cell_type": "markdown",
   "metadata": {},
   "source": [
    "### Bias\n",
    "\n",
    "<cite data-cite-t=\"kochanek1984tcb\">Kochanek and Bartels (1984)</cite>\n",
    "show the usage of $B$ in equation 7:\n",
    "\n",
    "\\begin{equation*}\n",
    "\\boldsymbol{\\dot{x}}_i = \\frac{\n",
    "(1 + B_i) (\\boldsymbol{x}_i - \\boldsymbol{x}_{i-1}) +\n",
    "(1 - B_i) (\\boldsymbol{x}_{i+1} - \\boldsymbol{x}_i)\n",
    "}{2}\n",
    "\\end{equation*}"
   ]
  },
  {
   "cell_type": "markdown",
   "metadata": {},
   "source": [
    "### All Three Combined\n",
    "\n",
    "To get the tangent vectors of a TCB spline,\n",
    "the three equations can be combined\n",
    "-- see equations 8 and 9 in the paper by\n",
    "<cite data-cite=\"kochanek1984tcb\">Kochanek Bartels (1984)</cite>:\n",
    "\n",
    "\\begin{align*}\n",
    "\\boldsymbol{\\dot{x}}_i^{(+)} &= \\frac{\n",
    "(1 - T_i) (1 + C_i) (1 + B_i) (\\boldsymbol{x}_i - \\boldsymbol{x}_{i-1}) +\n",
    "(1 - T_i) (1 - C_i) (1 - B_i) (\\boldsymbol{x}_{i+1} - \\boldsymbol{x}_i)\n",
    "}{2}\\\\\n",
    "\\boldsymbol{\\dot{x}}_i^{(-)} &= \\frac{\n",
    "(1 - T_i) (1 - C_i) (1 + B_i) (\\boldsymbol{x}_i - \\boldsymbol{x}_{i-1}) +\n",
    "(1 - T_i) (1 + C_i) (1 - B_i) (\\boldsymbol{x}_{i+1} - \\boldsymbol{x}_i)\n",
    "}{2}\n",
    "\\end{align*}"
   ]
  },
  {
   "cell_type": "markdown",
   "metadata": {},
   "source": [
    "<div class=\"alert alert-info\">\n",
    "\n",
    "Note\n",
    "\n",
    "There is an error in equation (6.11) from \n",
    "<cite data-cite-t=\"millington2009matrices\">Millington (2009)</cite>.\n",
    "All subscripts of $x$ are wrong,\n",
    "most likely copy-pasted from the preceding equation.\n",
    "\n",
    "</div>"
   ]
  },
  {
   "cell_type": "markdown",
   "metadata": {},
   "source": [
    "To simplify the results we will get later, we introduce the following shorthands\n",
    "<cite data-cite=\"millington2009matrices\">(Millington 2009)</cite>:\n",
    "\n",
    "\\begin{align*}\n",
    "a_i &= (1 - T_i) (1 + C_i) (1 + B_i),\\\\\n",
    "b_i &= (1 - T_i) (1 - C_i) (1 - B_i),\\\\\n",
    "c_i &= (1 - T_i) (1 - C_i) (1 + B_i),\\\\\n",
    "d_i &= (1 - T_i) (1 + C_i) (1 - B_i),\n",
    "\\end{align*}"
   ]
  },
  {
   "cell_type": "markdown",
   "metadata": {},
   "source": [
    "which lead to the simplified equations\n",
    "\n",
    "\\begin{align*}\n",
    "\\boldsymbol{\\dot{x}}_i^{(+)} &= \\frac{\n",
    "a_i (\\boldsymbol{x}_i - \\boldsymbol{x}_{i-1}) +\n",
    "b_i (\\boldsymbol{x}_{i+1} - \\boldsymbol{x}_i)\n",
    "}{2}\\\\\n",
    "\\boldsymbol{\\dot{x}}_i^{(-)} &= \\frac{\n",
    "c_i (\\boldsymbol{x}_i - \\boldsymbol{x}_{i-i}) +\n",
    "d_i (\\boldsymbol{x}_{i+1} - \\boldsymbol{x}_i)\n",
    "}{2}\n",
    "\\end{align*}"
   ]
  },
  {
   "cell_type": "markdown",
   "metadata": {},
   "source": [
    "## Calculation\n",
    "\n",
    "The above tangent vectors are sufficient to implement\n",
    "Kochanek--Bartels splines\n",
    "via [Hermite splines](hermite.ipynb).\n",
    "In the rest of this notebook we are deriving\n",
    "the basis matrix and the basis polynomials\n",
    "for comparison with other spline types."
   ]
  },
  {
   "cell_type": "code",
   "execution_count": null,
   "metadata": {},
   "outputs": [],
   "source": [
    "import sympy as sp\n",
    "sp.init_printing()"
   ]
  },
  {
   "cell_type": "markdown",
   "metadata": {},
   "source": [
    "As in previous notebooks,\n",
    "we are using some SymPy helper classes from\n",
    "[utility.py](utility.py):"
   ]
  },
  {
   "cell_type": "code",
   "execution_count": null,
   "metadata": {},
   "outputs": [],
   "source": [
    "from utility import NamedExpression, NamedMatrix"
   ]
  },
  {
   "cell_type": "markdown",
   "metadata": {},
   "source": [
    "And again,\n",
    "we are looking at the fifth spline segment\n",
    "from $\\boldsymbol{x}_4$ to $\\boldsymbol{x}_5$\n",
    "(which can easily be generalized to arbitrary segments)."
   ]
  },
  {
   "cell_type": "code",
   "execution_count": null,
   "metadata": {},
   "outputs": [],
   "source": [
    "x3, x4, x5, x6 = sp.symbols('xbm3:7')"
   ]
  },
  {
   "cell_type": "code",
   "execution_count": null,
   "metadata": {},
   "outputs": [],
   "source": [
    "control_values_KB = sp.Matrix([x3, x4, x5, x6])\n",
    "control_values_KB"
   ]
  },
  {
   "cell_type": "markdown",
   "metadata": {},
   "source": [
    "We need three additional parameters per vertex:\n",
    "$T$, $C$ and $B$.\n",
    "In our calculation, however,\n",
    "only the parameters belonging to\n",
    "$\\boldsymbol{x}_4$ and\n",
    "$\\boldsymbol{x}_5$ are relevant:"
   ]
  },
  {
   "cell_type": "code",
   "execution_count": null,
   "metadata": {},
   "outputs": [],
   "source": [
    "T4, T5 = sp.symbols('T4 T5')\n",
    "C4, C5 = sp.symbols('C4 C5')\n",
    "B4, B5 = sp.symbols('B4 B5')"
   ]
  },
  {
   "cell_type": "markdown",
   "metadata": {},
   "source": [
    "Using the shorthands mentioned above ..."
   ]
  },
  {
   "cell_type": "code",
   "execution_count": null,
   "metadata": {},
   "outputs": [],
   "source": [
    "a4 = NamedExpression('a4', (1 - T4) * (1 + C4) * (1 + B4))\n",
    "b4 = NamedExpression('b4', (1 - T4) * (1 - C4) * (1 - B4))\n",
    "c5 = NamedExpression('c5', (1 - T5) * (1 - C5) * (1 + B5))\n",
    "d5 = NamedExpression('d5', (1 - T5) * (1 + C5) * (1 - B5))\n",
    "display(a4, b4, c5, d5)"
   ]
  },
  {
   "cell_type": "markdown",
   "metadata": {},
   "source": [
    "... we can define the tangent vectors:"
   ]
  },
  {
   "cell_type": "code",
   "execution_count": null,
   "metadata": {},
   "outputs": [],
   "source": [
    "xd4 = NamedExpression(\n",
    "    'xdotbm4^(+)',\n",
    "    sp.S.Half * (a4.name * (x4 - x3) + b4.name * (x5 - x4)))\n",
    "xd5 = NamedExpression(\n",
    "    'xdotbm5^(-)',\n",
    "    sp.S.Half * (c5.name * (x5 - x4)  + d5.name * (x6 - x5)))\n",
    "display(xd4, xd5)"
   ]
  },
  {
   "cell_type": "code",
   "execution_count": null,
   "metadata": {},
   "outputs": [],
   "source": [
    "display(xd4.subs_symbols(a4, b4))\n",
    "display(xd5.subs_symbols(c5, d5))"
   ]
  },
  {
   "cell_type": "markdown",
   "metadata": {
    "tags": []
   },
   "source": [
    "### Basis Matrix"
   ]
  },
  {
   "cell_type": "markdown",
   "metadata": {},
   "source": [
    "Let's try to find a transformation\n",
    "from the control values defined above\n",
    "to *Hermite control values*:"
   ]
  },
  {
   "cell_type": "code",
   "execution_count": null,
   "metadata": {},
   "outputs": [],
   "source": [
    "control_values_H = sp.Matrix([x4, x5, xd4.name, xd5.name])\n",
    "M_KBtoH = NamedMatrix(r'{M_{\\text{KB$,4\\to$H}}}', 4, 4)\n",
    "NamedMatrix(control_values_H, M_KBtoH.name * control_values_KB)"
   ]
  },
  {
   "cell_type": "markdown",
   "metadata": {},
   "source": [
    "If we substitute the above definitions of\n",
    "$\\boldsymbol{\\dot{x}}_4$ and $\\boldsymbol{\\dot{x}}_5$,\n",
    "we can obtain the matrix elements:"
   ]
  },
  {
   "cell_type": "code",
   "execution_count": null,
   "metadata": {},
   "outputs": [],
   "source": [
    "M_KBtoH.expr = sp.Matrix([\n",
    "    [expr.coeff(cv) for cv in control_values_KB]\n",
    "    for expr in control_values_H.subs([xd4.args, xd5.args]).expand()])\n",
    "M_KBtoH.pull_out(sp.S.Half)"
   ]
  },
  {
   "cell_type": "markdown",
   "metadata": {},
   "source": [
    "Once we have a way to get Hermite control values,\n",
    "we can use the Hermite basis matrix from the\n",
    "[notebook about uniform cubic Hermite splines](hermite-uniform.ipynb#Basis-Matrix) ..."
   ]
  },
  {
   "cell_type": "code",
   "execution_count": null,
   "metadata": {},
   "outputs": [],
   "source": [
    "M_H = NamedMatrix(\n",
    "    r'{M_\\text{H}}',\n",
    "    sp.Matrix([[ 2, -2,  1,  1],\n",
    "               [-3,  3, -2, -1],\n",
    "               [ 0,  0,  1,  0],\n",
    "               [ 1,  0,  0,  0]]))\n",
    "M_H"
   ]
  },
  {
   "cell_type": "markdown",
   "metadata": {},
   "source": [
    "... to calculate the basis matrix for Kochanek--Bartels splines:"
   ]
  },
  {
   "cell_type": "code",
   "execution_count": null,
   "metadata": {},
   "outputs": [],
   "source": [
    "M_KB = NamedMatrix(r'{M_{\\text{KB},4}}', M_H.name * M_KBtoH.name)\n",
    "M_KB"
   ]
  },
  {
   "cell_type": "code",
   "execution_count": null,
   "metadata": {},
   "outputs": [],
   "source": [
    "M_KB = M_KB.subs_symbols(M_H, M_KBtoH).doit()\n",
    "M_KB.pull_out(sp.S.Half)"
   ]
  },
  {
   "cell_type": "markdown",
   "metadata": {},
   "source": [
    "And for completeness' sake, its inverse looks like this:"
   ]
  },
  {
   "cell_type": "code",
   "execution_count": null,
   "metadata": {},
   "outputs": [],
   "source": [
    "M_KB.I"
   ]
  },
  {
   "cell_type": "markdown",
   "metadata": {},
   "source": [
    "### Basis Polynomials"
   ]
  },
  {
   "cell_type": "code",
   "execution_count": null,
   "metadata": {},
   "outputs": [],
   "source": [
    "t = sp.symbols('t')"
   ]
  },
  {
   "cell_type": "markdown",
   "metadata": {},
   "source": [
    "Multiplication with the\n",
    "[monomial basis](polynomials.ipynb)\n",
    "leads to the basis functions:"
   ]
  },
  {
   "cell_type": "code",
   "execution_count": null,
   "metadata": {},
   "outputs": [],
   "source": [
    "b_KB = NamedMatrix(\n",
    "    r'{b_{\\text{KB},4}}',\n",
    "    sp.Matrix([t**3, t**2, t, 1]).T * M_KB.expr)\n",
    "b_KB.T.pull_out(sp.S.Half)"
   ]
  },
  {
   "cell_type": "markdown",
   "metadata": {},
   "source": [
    "To be able to plot the basis functions,\n",
    "let's substitute $a_4$, $b_4$, $c_5$ and $d_5$ back in:"
   ]
  },
  {
   "cell_type": "code",
   "execution_count": null,
   "metadata": {},
   "outputs": [],
   "source": [
    "b_KB = b_KB.subs_symbols(a4, b4, c5, d5).simplify()"
   ]
  },
  {
   "cell_type": "markdown",
   "metadata": {},
   "source": [
    "Let's use a helper function from [helper.py](helper.py):"
   ]
  },
  {
   "cell_type": "code",
   "execution_count": null,
   "metadata": {},
   "outputs": [],
   "source": [
    "from helper import plot_basis"
   ]
  },
  {
   "cell_type": "code",
   "execution_count": null,
   "metadata": {},
   "outputs": [],
   "source": [
    "labels = sp.symbols('xbm_i-1 xbm_i xbm_i+1 xbm_i+2')"
   ]
  },
  {
   "cell_type": "markdown",
   "metadata": {},
   "source": [
    "To be able to plot the basis functions,\n",
    "we have to choose some concrete TCB values."
   ]
  },
  {
   "cell_type": "code",
   "execution_count": null,
   "metadata": {},
   "outputs": [],
   "source": [
    "plot_basis(\n",
    "    *b_KB.expr.subs({T4: 0, T5: 0, C4: 0, C5: 1, B4: 0, B5: 0}),\n",
    "    labels=labels)"
   ]
  },
  {
   "cell_type": "code",
   "execution_count": null,
   "metadata": {},
   "outputs": [],
   "source": [
    "plot_basis(\n",
    "    *b_KB.expr.subs({T4: 0, T5: 0, C4: 0, C5: -0.5, B4: 0, B5: 0}),\n",
    "    labels=labels)"
   ]
  },
  {
   "cell_type": "markdown",
   "metadata": {},
   "source": [
    "Setting all TCB values to zero leads to the\n",
    "[basis polynomials of uniform Catmull--Rom splines](catmull-rom-uniform.ipynb#Basis-Polynomials)."
   ]
  }
 ],
 "metadata": {
  "kernelspec": {
   "display_name": "Python 3",
   "language": "python",
   "name": "python3"
  },
  "language_info": {
   "codemirror_mode": {
    "name": "ipython",
    "version": 3
   },
   "file_extension": ".py",
   "mimetype": "text/x-python",
   "name": "python",
   "nbconvert_exporter": "python",
   "pygments_lexer": "ipython3",
   "version": "3.9.7"
  }
 },
 "nbformat": 4,
 "nbformat_minor": 4
}
