{
 "cells": [
  {
   "cell_type": "markdown",
   "metadata": {
    "nbsphinx": "hidden"
   },
   "source": [
    "This notebook is part of https://github.com/AudioSceneDescriptionFormat/splines, see also https://splines.readthedocs.io/.\n",
    "\n",
    "[back to overview](kochanek-bartels.ipynb)"
   ]
  },
  {
   "cell_type": "markdown",
   "metadata": {},
   "source": [
    "# Non-Uniform Kochanek--Bartels Splines\n",
    "\n",
    "<cite data-cite-t=\"kochanek1984tcb\">Kochanek and Bartels (1984)</cite>\n",
    "mainly talk about uniform splines.\n",
    "Only in section 4 -- \"Adjustments for Parameter Step Size\" --\n",
    "do they briefly mention the non-uniform case\n",
    "and provide equations for \"adjusted tangent vectors\":"
   ]
  },
  {
   "cell_type": "markdown",
   "metadata": {},
   "source": [
    "> The formulas\n",
    "> [...]\n",
    "> assume an equal time spacing of key frames,\n",
    "implying an equal number of inbetweens within each key\n",
    "interval. A problem can exist if the animator requests a\n",
    "different number of inbetweens for adjacent intervals.\n",
    "> [...]\n",
    "> If the\n",
    "same parametric derivative is used for both splines at $P_i$, these\n",
    "different step sizes will cause a discontinuity in the speed of\n",
    "motion. What is required, if this discontinuity is not intentional,\n",
    "is a means of making a local adjustment to the interval\n",
    "separating successive frames before and after the key frame so\n",
    "that the speed of entry matches the speed of exit. This can be\n",
    "accomplished by adjusting the specification of the tangent\n",
    "vector at the key frame based on the number of inbetweens in\n",
    "the adjacent intervals.\n",
    "> [...]\n",
    "> Once the\n",
    "tangent vectors have been found for an equal number of\n",
    "inbetweens in the adjacent intervals, the adjustment required for\n",
    "different numbers of inbetweens ($N_{i-1}$ frames between $P_{i-1}$ and\n",
    "$P_i$ followed by $N_i$ frames between $P_i$ and $P_{i+1}$) can be made by\n",
    "weighting the tangent vectors appropriately:\n",
    ">\n",
    "> \\begin{align*}\n",
    "\\text{adjusted } DD_i &=\n",
    "DD_i\n",
    "\\frac{2 N_{i-1}}{N_{i-1} + N_i}\\\\\n",
    "\\text{adjusted } DS_i &=\n",
    "DS_i\n",
    "\\frac{2 N_i}{N_{i-1} + N_i}\n",
    "\\end{align*}\n",
    ">\n",
    "> ---<cite data-cite-t=\"kochanek1984tcb\">Kochanek and Bartels (1984)</cite>, section 4"
   ]
  },
  {
   "cell_type": "markdown",
   "metadata": {},
   "source": [
    "In their notation,\n",
    "$DS_i$ is the *source derivative*\n",
    "(i.e. the *incoming* tangent vector)\n",
    "at point $P_i$,\n",
    "and\n",
    "$DD_i$ is the *destination derivative*\n",
    "(i.e. the *outgoing* tangent vector).\n",
    "The point $P_i$ corresponds to $\\boldsymbol{x}_i$ in our notation."
   ]
  },
  {
   "cell_type": "markdown",
   "metadata": {},
   "source": [
    "To be able to play around with that,\n",
    "let's implement it in a function.\n",
    "It turns out that for the way we will be using this function,\n",
    "we have to use the reciprocal value of the adjustment mentioned in the paper:"
   ]
  },
  {
   "cell_type": "code",
   "execution_count": null,
   "metadata": {},
   "outputs": [],
   "source": [
    "def kochanek_bartels_tangents(xs, ns):\n",
    "    \"\"\"Adjusted tangent vectors according to Kochanek & Bartels.\"\"\"\n",
    "    x_1, _, x1 = xs\n",
    "    N_1, N0 = ns\n",
    "    uniform = (x1 - x_1) / 2\n",
    "    # NB: the K&B paper uses reciprocal weighting factors:\n",
    "    incoming = uniform * (N_1 + N0) / (2 * N0)\n",
    "    outgoing = uniform * (N_1 + N0) / (2 * N_1)\n",
    "    return incoming, outgoing"
   ]
  },
  {
   "cell_type": "markdown",
   "metadata": {},
   "source": [
    "We can see that the uniform tangents are re-scaled\n",
    "but their direction is unchanged.\n",
    "\n",
    "This is a hint that\n",
    "-- although the paper claims to be using Catmull--Rom splines --\n",
    "we'll get different results than in the\n",
    "[notebook about Catmull--Rom splines](catmull-rom-properties.ipynb#Tangent-Vectors)."
   ]
  },
  {
   "cell_type": "code",
   "execution_count": null,
   "metadata": {},
   "outputs": [],
   "source": [
    "import numpy as np\n",
    "import matplotlib.pyplot as plt"
   ]
  },
  {
   "cell_type": "markdown",
   "metadata": {},
   "source": [
    "We'll need the Hermite basis matrix\n",
    "that we derived in the\n",
    "[notebook about uniform Hermite splines](hermite-uniform.ipynb#Basis-Matrix)\n",
    "and which is also shown by\n",
    "<cite data-cite-t=\"kochanek1984tcb\">Kochanek and Bartels (1984)</cite>\n",
    "in equation 2:"
   ]
  },
  {
   "cell_type": "code",
   "execution_count": null,
   "metadata": {},
   "outputs": [],
   "source": [
    "hermite_matrix = np.array([\n",
    "    [ 2, -2,  1,  1],\n",
    "    [-3,  3, -2, -1],\n",
    "    [ 0,  0,  1,  0],\n",
    "    [ 1,  0,  0,  0]])"
   ]
  },
  {
   "cell_type": "markdown",
   "metadata": {},
   "source": [
    "Since the paper uses a different (implicit) re-scaling of parameter values\n",
    "(based on the numbers of *inbetweens*),\n",
    "we cannot use the classes from the\n",
    "[splines](../python-module/splines.rst) module\n",
    "and have to re-implement everything from scratch:"
   ]
  },
  {
   "cell_type": "code",
   "execution_count": null,
   "metadata": {},
   "outputs": [],
   "source": [
    "def pseudo_catmull_rom(xs, ns):\n",
    "    \"\"\"Closed Catmull-Rom spline according to Kochanek & Bartels.\"\"\"\n",
    "    xs = np.asarray(xs)\n",
    "    L = len(xs)\n",
    "    assert L >= 2\n",
    "    assert L == len(ns)\n",
    "    tangents = [\n",
    "        tangent\n",
    "        for i in range(L)\n",
    "        for tangent in kochanek_bartels_tangents(\n",
    "            [xs[i], xs[(i + 1) % L], xs[(i + 2) % L]],\n",
    "            [ns[i], ns[(i + 1) % L]])\n",
    "    ]\n",
    "    # Move last (outgoing) tangent to the beginning:\n",
    "    tangents = tangents[-1:] + tangents[:-1]\n",
    "    ts = [\n",
    "        np.linspace(0, 1, n + 1, endpoint=False).reshape(-1, 1)\n",
    "        for n in ns]\n",
    "    return np.concatenate([\n",
    "        t**[3, 2, 1, 0] @ hermite_matrix @ [xs[i], xs[(i + 1) % L], v0, v1]\n",
    "        for i, (t, v0, v1)\n",
    "        in enumerate(zip(ts, tangents[::2], tangents[1::2]))])"
   ]
  },
  {
   "cell_type": "markdown",
   "metadata": {},
   "source": [
    "<div class=\"alert alert-info\">\n",
    "\n",
    "Note\n",
    "\n",
    "The `@` operator is used here to do\n",
    "[NumPy's matrix multiplication](https://numpy.org/doc/stable/reference/generated/numpy.matmul.html).\n",
    "\n",
    "</div>"
   ]
  },
  {
   "cell_type": "markdown",
   "metadata": {},
   "source": [
    "Let's plot an example:"
   ]
  },
  {
   "cell_type": "code",
   "execution_count": null,
   "metadata": {},
   "outputs": [],
   "source": [
    "vertices1 = [\n",
    "    (0, 0),\n",
    "    (1, 1),\n",
    "    (2, 0),\n",
    "]\n",
    "inbetweens1 = [\n",
    "    5,\n",
    "    20,\n",
    "    15,\n",
    "]"
   ]
  },
  {
   "cell_type": "code",
   "execution_count": null,
   "metadata": {},
   "outputs": [],
   "source": [
    "plt.scatter(*pseudo_catmull_rom(vertices1, inbetweens1).T, marker='.')\n",
    "plt.scatter(*np.array(vertices1).T, marker='x', color='k')\n",
    "plt.axis('equal');"
   ]
  },
  {
   "cell_type": "markdown",
   "metadata": {},
   "source": [
    "This doesn't look too bad,\n",
    "let's plot the same thing with\n",
    "[splines.CatmullRom](../python-module/splines.rst#splines.CatmullRom)\n",
    "for comparison."
   ]
  },
  {
   "cell_type": "code",
   "execution_count": null,
   "metadata": {},
   "outputs": [],
   "source": [
    "from splines import CatmullRom"
   ]
  },
  {
   "cell_type": "markdown",
   "metadata": {},
   "source": [
    "In oder to be able to compare the results,\n",
    "we have to convert the discrete numbers of *inbetweens*\n",
    "into re-scaled parameter values:"
   ]
  },
  {
   "cell_type": "code",
   "execution_count": null,
   "metadata": {},
   "outputs": [],
   "source": [
    "def inbetweens2times(inbetweens):\n",
    "    return np.cumsum([0, *(n + 1 for n in inbetweens)])"
   ]
  },
  {
   "cell_type": "code",
   "execution_count": null,
   "metadata": {},
   "outputs": [],
   "source": [
    "times1 = inbetweens2times(inbetweens1)"
   ]
  },
  {
   "cell_type": "markdown",
   "metadata": {},
   "source": [
    "Now we have everything to create a\n",
    "non-uniform Catmull--Rom spline ..."
   ]
  },
  {
   "cell_type": "code",
   "execution_count": null,
   "metadata": {},
   "outputs": [],
   "source": [
    "cr_spline1 = CatmullRom(vertices1, times1, endconditions='closed')"
   ]
  },
  {
   "cell_type": "markdown",
   "metadata": {},
   "source": [
    "... and with a helper function from [helper.py](helper.py) ..."
   ]
  },
  {
   "cell_type": "code",
   "execution_count": null,
   "metadata": {},
   "outputs": [],
   "source": [
    "from helper import plot_spline_2d"
   ]
  },
  {
   "cell_type": "markdown",
   "metadata": {},
   "source": [
    "... we can plot it for direct comparison\n",
    "with the one suggested by Kochanek and Bartels:"
   ]
  },
  {
   "cell_type": "code",
   "execution_count": null,
   "metadata": {},
   "outputs": [],
   "source": [
    "plt.plot(\n",
    "    *pseudo_catmull_rom(vertices1, inbetweens1).T,\n",
    "    marker='.', linestyle='', label='K&B')\n",
    "plot_spline_2d(cr_spline1, dots_per_second=1, label='ours')\n",
    "plt.legend(numpoints=3);"
   ]
  },
  {
   "cell_type": "markdown",
   "metadata": {},
   "source": [
    "Here we can clearly see that not only the lengths of the tangent vectors\n",
    "but also their directions have been adjusted\n",
    "according to the neighboring parameter intervals."
   ]
  },
  {
   "cell_type": "markdown",
   "metadata": {},
   "source": [
    "Let's look at a different example:"
   ]
  },
  {
   "cell_type": "code",
   "execution_count": null,
   "metadata": {},
   "outputs": [],
   "source": [
    "vertices2 = [\n",
    "    (0, 0),\n",
    "    (0, 0.5),\n",
    "    (4.5, 1.5),\n",
    "    (5, 1),\n",
    "    (2, -1),\n",
    "    (1.5, -1),\n",
    "]\n",
    "inbetweens2 = [\n",
    "    2,\n",
    "    15,\n",
    "    3,\n",
    "    12,\n",
    "    2,\n",
    "    10,\n",
    "]"
   ]
  },
  {
   "cell_type": "code",
   "execution_count": null,
   "metadata": {},
   "outputs": [],
   "source": [
    "times2 = inbetweens2times(inbetweens2)"
   ]
  },
  {
   "cell_type": "code",
   "execution_count": null,
   "metadata": {},
   "outputs": [],
   "source": [
    "cr_spline2 = CatmullRom(vertices2, times2, endconditions='closed')"
   ]
  },
  {
   "cell_type": "code",
   "execution_count": null,
   "metadata": {},
   "outputs": [],
   "source": [
    "plt.plot(\n",
    "    *pseudo_catmull_rom(vertices2, inbetweens2).T,\n",
    "    marker='.', linestyle='', label='K&B')\n",
    "plot_spline_2d(cr_spline2, dots_per_second=1, label='ours')\n",
    "plt.legend(numpoints=3);"
   ]
  },
  {
   "cell_type": "markdown",
   "metadata": {},
   "source": [
    "This should illustrate the shortcomings of the tangent vectors\n",
    "suggested by Kochanek and Bartels.\n",
    "\n",
    "Instead of sticking with their suggestion,\n",
    "we use the correct expression for\n",
    "[tangent vectors of non-uniform Catmull--Rom splines](catmull-rom-non-uniform.ipynb#Tangent-Vectors):\n",
    "\n",
    "\\begin{equation*}\n",
    "\\boldsymbol{\\dot{x}}_{i,\\text{Catmull–Rom}} =\n",
    "\\frac{\n",
    "(t_{i+1} - t_i) \\, \\boldsymbol{v}_{i-1} +\n",
    "(t_i - t_{i-1}) \\, \\boldsymbol{v}_i\n",
    "}{\n",
    "t_{i+1} - t_{i-1}\n",
    "},\n",
    "\\end{equation*}\n",
    "\n",
    "where\n",
    "$\\boldsymbol{v}_i = \\frac{\\boldsymbol{x}_{i+1} - \\boldsymbol{x}_i}{t_{i+1} - t_i}$."
   ]
  },
  {
   "cell_type": "markdown",
   "metadata": {},
   "source": [
    "To this equation,\n",
    "we can simply add the TCB parameters\n",
    "like we did in the\n",
    "[notebook about uniform Kochanek--Bartels splines](kochanek-bartels-uniform.ipynb#All-Three-Combined),\n",
    "leading to the following equations for\n",
    "the incoming tangent $\\boldsymbol{\\dot{x}}_i^{(-)}$ and\n",
    "the outgoing tangent $\\boldsymbol{\\dot{x}}_i^{(+)}$\n",
    "at vertex $\\boldsymbol{x}_i$:\n",
    "\n",
    "\\begin{align*}\n",
    "a_i &= (1 - T_i) (1 + C_i) (1 + B_i)\\\\\n",
    "b_i &= (1 - T_i) (1 - C_i) (1 - B_i)\\\\\n",
    "c_i &= (1 - T_i) (1 - C_i) (1 + B_i)\\\\\n",
    "d_i &= (1 - T_i) (1 + C_i) (1 - B_i)\n",
    "\\end{align*}\n",
    "\n",
    "\\begin{align*}\n",
    "\\boldsymbol{\\dot{x}}_i^{(+)} &= \\frac{\n",
    "a_i (t_{i+1} - t_i) \\, \\boldsymbol{v}_{i-1} +\n",
    "b_i (t_i - t_{i-1}) \\, \\boldsymbol{v}_i\n",
    "}{t_{i+1} - t_{i-1}}\\\\\n",
    "\\boldsymbol{\\dot{x}}_i^{(-)} &= \\frac{\n",
    "c_i (t_{i+1} - t_i) \\, \\boldsymbol{v}_{i-1} +\n",
    "d_i (t_i - t_{i-1}) \\, \\boldsymbol{v}_i\n",
    "}{t_{i+1} - t_{i-1}}\n",
    "\\end{align*}"
   ]
  },
  {
   "cell_type": "markdown",
   "metadata": {},
   "source": [
    "These equations are used in the implementation of the class\n",
    "[splines.KochanekBartels](../python-module/splines.rst#splines.KochanekBartels)."
   ]
  }
 ],
 "metadata": {
  "kernelspec": {
   "display_name": "Python 3",
   "language": "python",
   "name": "python3"
  },
  "language_info": {
   "codemirror_mode": {
    "name": "ipython",
    "version": 3
   },
   "file_extension": ".py",
   "mimetype": "text/x-python",
   "name": "python",
   "nbconvert_exporter": "python",
   "pygments_lexer": "ipython3",
   "version": "3.9.9"
  }
 },
 "nbformat": 4,
 "nbformat_minor": 4
}
