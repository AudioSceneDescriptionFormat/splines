{
 "cells": [
  {
   "cell_type": "markdown",
   "metadata": {
    "nbsphinx": "hidden"
   },
   "source": [
    "This notebook is part of https://github.com/AudioSceneDescriptionFormat/splines, see also https://splines.readthedocs.io/.\n",
    "\n",
    "[back to overview](kochanek-bartels.ipynb)"
   ]
  },
  {
   "cell_type": "markdown",
   "metadata": {},
   "source": [
    "# Non-Uniform Kochanek--Bartels Splines\n",
    "\n",
    "<cite data-cite=\"kochanek1984tcb\">Kochanek and Bartels (1984)</cite>\n",
    "mainly talks about uniform splines.\n",
    "Only in section 4, \"Adjustments for Parameter Step Size\", they briefly mention the non-uniform case.\n",
    "\n",
    "TODO: show equations for adjusted tangents\n",
    "\n",
    "Unfortunately, this is wrong.\n",
    "\n",
    "TODO: show why it is wrong."
   ]
  },
  {
   "cell_type": "markdown",
   "metadata": {},
   "source": [
    "Instead, we should start from the correct tangent vector for non-uniform Catmull--Rom splines:\n",
    "\n",
    "\\begin{equation*}\n",
    "\\boldsymbol{\\dot{x}}_i =\n",
    "\\frac{\n",
    "(t_{i+1} - t_i)^2 (\\boldsymbol{x}_i - \\boldsymbol{x}_{i-1}) +\n",
    "(t_i - t_{i-1})^2 (\\boldsymbol{x}_{i+1} - \\boldsymbol{x}_i)\n",
    "}{\n",
    "(t_{i+1} - t_i)(t_i - t_{i-1})(t_{i+1} - t_{i-1})\n",
    "}\n",
    "\\end{equation*}"
   ]
  },
  {
   "cell_type": "markdown",
   "metadata": {},
   "source": [
    "## Parameters"
   ]
  },
  {
   "cell_type": "markdown",
   "metadata": {},
   "source": [
    "In general\n",
    "incoming tangent $\\boldsymbol{\\dot{x}}_i^{(-)}$ and\n",
    "outgoing tangent $\\boldsymbol{\\dot{x}}_i^{(+)}$ at vertex $\\boldsymbol{x}_i$:\n",
    "\n",
    "\\begin{align*}\n",
    "a_i &= (1 - T_i) (1 + C_i) (1 + B_i)\\\\\n",
    "b_i &= (1 - T_i) (1 - C_i) (1 - B_i)\\\\\n",
    "c_i &= (1 - T_i) (1 - C_i) (1 + B_i)\\\\\n",
    "d_i &= (1 - T_i) (1 + C_i) (1 - B_i)\n",
    "\\end{align*}\n",
    "\n",
    "\\begin{align*}\n",
    "\\boldsymbol{\\dot{x}}_i^{(+)} &= \\frac{\n",
    "a_i (t_{i+1} - t_i)^2 (\\boldsymbol{x}_i - \\boldsymbol{x}_{i-1}) +\n",
    "b_i (t_i - t_{i-1})^2 (\\boldsymbol{x}_{i+1} - \\boldsymbol{x}_i)\n",
    "}{(t_{i+1} - t_i) (t_i - t_{i-1}) (t_{i+1} - t_{i-1})}\\\\\n",
    "\\boldsymbol{\\dot{x}}_i^{(-)} &= \\frac{\n",
    "c_i (t_{i+1} - t_i)^2 (\\boldsymbol{x}_i - \\boldsymbol{x}_{i-1}) +\n",
    "d_i (t_i - t_{i-1})^2 (\\boldsymbol{x}_{i+1} - \\boldsymbol{x}_i)\n",
    "}{(t_{i+1} - t_i) (t_i - t_{i-1}) (t_{i+1} - t_{i-1})}\n",
    "\\end{align*}"
   ]
  },
  {
   "cell_type": "markdown",
   "metadata": {},
   "source": [
    "In the calculation below, we consider\n",
    "the outgoing tangent at $\\boldsymbol{x}_4$ and\n",
    "the incoming tangent at $\\boldsymbol{x}_5$.\n",
    "\n",
    "\\begin{align*}\n",
    "a_4 &= (1 - T_4) (1 + C_4) (1 + B_4)\\\\\n",
    "b_4 &= (1 - T_4) (1 - C_4) (1 - B_4)\\\\\n",
    "c_5 &= (1 - T_5) (1 - C_5) (1 + B_5)\\\\\n",
    "d_5 &= (1 - T_5) (1 + C_5) (1 - B_5)\n",
    "\\end{align*}\n",
    "\n",
    "\\begin{align*}\n",
    "\\boldsymbol{\\dot{x}}_4^{(+)} &= \\frac{\n",
    "a_4 (t_5 - t_4)^2 (\\boldsymbol{x}_4 - \\boldsymbol{x}_3) +\n",
    "b_4 (t_4 - t_3)^2 (\\boldsymbol{x}_5 - \\boldsymbol{x}_4)\n",
    "}{(t_5 - t_4) (t_4 - t_3) (t_5 - t_3)}\\\\\n",
    "\\boldsymbol{\\dot{x}}_5^{(-)} &= \\frac{\n",
    "c_5 (t_6 - t_5)^2 (\\boldsymbol{x}_5 - \\boldsymbol{x}_4) +\n",
    "d_5 (t_5 - t_4)^2 (\\boldsymbol{x}_6 - \\boldsymbol{x}_5)\n",
    "}{(t_6 - t_5) (t_5 - t_4) (t_6 - t_4)}\n",
    "\\end{align*}"
   ]
  },
  {
   "cell_type": "markdown",
   "metadata": {},
   "source": [
    "## Calculation"
   ]
  },
  {
   "cell_type": "code",
   "execution_count": null,
   "metadata": {},
   "outputs": [],
   "source": [
    "import sympy as sp\n",
    "sp.init_printing()"
   ]
  },
  {
   "cell_type": "code",
   "execution_count": null,
   "metadata": {},
   "outputs": [],
   "source": [
    "from utility import NamedExpression, NamedMatrix"
   ]
  },
  {
   "cell_type": "code",
   "execution_count": null,
   "metadata": {},
   "outputs": [],
   "source": [
    "x3, x4, x5, x6 = sp.symbols('xbm3:7')"
   ]
  },
  {
   "cell_type": "code",
   "execution_count": null,
   "metadata": {},
   "outputs": [],
   "source": [
    "t, t3, t4, t5, t6 = sp.symbols('t t3:7')"
   ]
  },
  {
   "cell_type": "markdown",
   "metadata": {},
   "source": [
    "Same control values as Catmull-Rom ..."
   ]
  },
  {
   "cell_type": "code",
   "execution_count": null,
   "metadata": {},
   "outputs": [],
   "source": [
    "control_values_KB = sp.Matrix([x3, x4, x5, x6])\n",
    "control_values_KB"
   ]
  },
  {
   "cell_type": "markdown",
   "metadata": {},
   "source": [
    "... but three additional parameters per vertex.\n",
    "In our calculation, the parameters belonging to $\\boldsymbol{x}_4$ and $\\boldsymbol{x}_5$ are relevant:"
   ]
  },
  {
   "cell_type": "code",
   "execution_count": null,
   "metadata": {},
   "outputs": [],
   "source": [
    "T4, T5 = sp.symbols('T4 T5')\n",
    "C4, C5 = sp.symbols('C4 C5')\n",
    "B4, B5 = sp.symbols('B4 B5')"
   ]
  },
  {
   "cell_type": "code",
   "execution_count": null,
   "metadata": {},
   "outputs": [],
   "source": [
    "a4 = NamedExpression('a4', (1 - T4) * (1 + C4) * (1 + B4))\n",
    "b4 = NamedExpression('b4', (1 - T4) * (1 - C4) * (1 - B4))\n",
    "c5 = NamedExpression('c5', (1 - T5) * (1 - C5) * (1 + B5))\n",
    "d5 = NamedExpression('d5', (1 - T5) * (1 + C5) * (1 - B5))\n",
    "display(a4, b4, c5, d5)"
   ]
  },
  {
   "cell_type": "code",
   "execution_count": null,
   "metadata": {},
   "outputs": [],
   "source": [
    "xd4 = NamedExpression(\n",
    "    'xdotbm4^(+)',\n",
    "    (a4.name * (t5 - t4)**2 * (x4 - x3) + b4.name * (t4 - t3)**2 * (x5 - x4)) /\n",
    "    ((t5 - t4) * (t4 - t3) * (t5 - t3)))\n",
    "xd5 = NamedExpression(\n",
    "    'xdotbm5^(-)',\n",
    "    (c5.name * (t6 - t5)**2 * (x5 - x4) + d5.name * (t5 - t4)**2 * (x6 - x5)) /\n",
    "    ((t6 - t5) * (t5 - t4) * (t6 - t4)))\n",
    "display(xd4, xd5)"
   ]
  },
  {
   "cell_type": "code",
   "execution_count": null,
   "metadata": {},
   "outputs": [],
   "source": [
    "display(xd4.subs_symbols(a4, b4))\n",
    "display(xd5.subs_symbols(c5, d5))"
   ]
  },
  {
   "cell_type": "markdown",
   "metadata": {},
   "source": [
    "Same as with Catmull-Rom, try to find a transformation from cardinal control values to Hermite control values.\n",
    "This can be used to get the full basis matrix."
   ]
  },
  {
   "cell_type": "code",
   "execution_count": null,
   "metadata": {},
   "outputs": [],
   "source": [
    "control_values_H = sp.Matrix([x4, x5, xd4.name, xd5.name])\n",
    "control_values_H"
   ]
  },
  {
   "cell_type": "markdown",
   "metadata": {},
   "source": [
    "From the [notebook about non-uniform Hermite splines](hermite-non-uniform.ipynb):"
   ]
  },
  {
   "cell_type": "code",
   "execution_count": null,
   "metadata": {},
   "outputs": [],
   "source": [
    "M_H = NamedMatrix(\n",
    "    r'{M_{\\text{H},4}}',\n",
    "    sp.Matrix([[2, -2, 1, 1],\n",
    "               [-3, 3, -2, -1],\n",
    "               [0, 0, 1, 0],\n",
    "               [1, 0, 0, 0]]) * sp.diag(1, 1, t5 - t4, t5 - t4))\n",
    "M_H"
   ]
  },
  {
   "cell_type": "code",
   "execution_count": null,
   "metadata": {},
   "outputs": [],
   "source": [
    "M_KBtoH = NamedMatrix(r'{M_{\\text{KB$,4\\to$H},4}}', 4, 4)\n",
    "M_KB = NamedMatrix(r'{M_{\\text{KB},4}}', M_H.name * M_KBtoH.name)\n",
    "M_KB"
   ]
  },
  {
   "cell_type": "code",
   "execution_count": null,
   "metadata": {},
   "outputs": [],
   "source": [
    "NamedMatrix(control_values_H, M_KBtoH.name * control_values_KB)"
   ]
  },
  {
   "cell_type": "markdown",
   "metadata": {},
   "source": [
    "If we substitute the above definitions of\n",
    "$\\boldsymbol{\\dot{x}}_4^{(+)}$ and\n",
    "$\\boldsymbol{\\dot{x}}_5^{(-)}$,\n",
    "we can directly read off the matrix elements:"
   ]
  },
  {
   "cell_type": "code",
   "execution_count": null,
   "metadata": {},
   "outputs": [],
   "source": [
    "M_KBtoH.expr = sp.Matrix([\n",
    "    [expr.coeff(cv).simplify() for cv in control_values_KB]\n",
    "    for expr in control_values_H.subs([xd4.args, xd5.args]).expand()])\n",
    "M_KBtoH"
   ]
  },
  {
   "cell_type": "code",
   "execution_count": null,
   "metadata": {},
   "outputs": [],
   "source": [
    "delta3, delta4, delta5 = sp.symbols('Delta3:6')\n",
    "deltas = {\n",
    "    t3: 0,\n",
    "    t4: delta3,\n",
    "    t5: delta3 + delta4,\n",
    "    t6: delta3 + delta4 + delta5,\n",
    "}"
   ]
  },
  {
   "cell_type": "code",
   "execution_count": null,
   "metadata": {},
   "outputs": [],
   "source": [
    "M_KBtoH.subs(deltas).simplify()"
   ]
  },
  {
   "cell_type": "code",
   "execution_count": null,
   "metadata": {},
   "outputs": [],
   "source": [
    "M_KB = M_KB.subs_symbols(M_H, M_KBtoH).doit()\n",
    "M_KB.subs(deltas).expand()"
   ]
  },
  {
   "cell_type": "markdown",
   "metadata": {},
   "source": [
    "And for completeness' sake, its inverse:"
   ]
  },
  {
   "cell_type": "code",
   "execution_count": null,
   "metadata": {},
   "outputs": [],
   "source": [
    "M_KB.subs(deltas).expand().I"
   ]
  },
  {
   "cell_type": "markdown",
   "metadata": {},
   "source": [
    "TODO: plot some example curves"
   ]
  }
 ],
 "metadata": {
  "kernelspec": {
   "display_name": "Python 3",
   "language": "python",
   "name": "python3"
  },
  "language_info": {
   "codemirror_mode": {
    "name": "ipython",
    "version": 3
   },
   "file_extension": ".py",
   "mimetype": "text/x-python",
   "name": "python",
   "nbconvert_exporter": "python",
   "pygments_lexer": "ipython3",
   "version": "3.9.1"
  }
 },
 "nbformat": 4,
 "nbformat_minor": 4
}
