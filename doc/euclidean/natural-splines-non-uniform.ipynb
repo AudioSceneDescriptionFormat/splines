{
 "cells": [
  {
   "cell_type": "markdown",
   "metadata": {
    "nbsphinx": "hidden"
   },
   "source": [
    "This notebook is part of https://github.com/AudioSceneDescriptionFormat/splines, see also https://splines.readthedocs.io/.\n",
    "\n",
    "[back to overview](natural-splines.ipynb)"
   ]
  },
  {
   "cell_type": "markdown",
   "metadata": {},
   "source": [
    "# Non-Uniform Natural Splines\n",
    "\n",
    "[uniform](natural-splines-uniform.ipynb)"
   ]
  },
  {
   "cell_type": "code",
   "execution_count": null,
   "metadata": {},
   "outputs": [],
   "source": [
    "import sympy as sp\n",
    "sp.init_printing(order='rev-lex')"
   ]
  },
  {
   "cell_type": "code",
   "execution_count": null,
   "metadata": {},
   "outputs": [],
   "source": [
    "t = sp.symbols('t')"
   ]
  },
  {
   "cell_type": "code",
   "execution_count": null,
   "metadata": {},
   "outputs": [],
   "source": [
    "t4, t5, t6 = sp.symbols('t4:7')"
   ]
  },
  {
   "cell_type": "code",
   "execution_count": null,
   "metadata": {},
   "outputs": [],
   "source": [
    "a4, a5, b4, b5, c4, c5, d4, d5 = sp.symbols('a:dbm4:6')"
   ]
  },
  {
   "cell_type": "code",
   "execution_count": null,
   "metadata": {},
   "outputs": [],
   "source": [
    "p4 = d4 * t**3 + c4 * t**2 + b4 * t + a4\n",
    "p4"
   ]
  },
  {
   "cell_type": "code",
   "execution_count": null,
   "metadata": {},
   "outputs": [],
   "source": [
    "p4 = p4.subs(t, (t - t4)/(t5 - t4))\n",
    "p4"
   ]
  },
  {
   "cell_type": "code",
   "execution_count": null,
   "metadata": {},
   "outputs": [],
   "source": [
    "p5 = d5 * t**3 + c5 * t**2 + b5 * t + a5\n",
    "p5"
   ]
  },
  {
   "cell_type": "code",
   "execution_count": null,
   "metadata": {},
   "outputs": [],
   "source": [
    "p5 = p5.subs(t, (t - t5)/(t6 - t5))\n",
    "p5"
   ]
  },
  {
   "cell_type": "code",
   "execution_count": null,
   "metadata": {},
   "outputs": [],
   "source": [
    "pd4 = p4.diff(t)\n",
    "pd5 = p5.diff(t)"
   ]
  },
  {
   "cell_type": "code",
   "execution_count": null,
   "metadata": {},
   "outputs": [],
   "source": [
    "x4, x5, x6 = sp.symbols('xbm4:7')"
   ]
  },
  {
   "cell_type": "code",
   "execution_count": null,
   "metadata": {},
   "outputs": [],
   "source": [
    "xd4, xd5, xd6 = sp.symbols('xbmdot4:7')"
   ]
  },
  {
   "cell_type": "code",
   "execution_count": null,
   "metadata": {},
   "outputs": [],
   "source": [
    "deltas = [\n",
    "    (t4, -sp.Symbol('Delta4')),\n",
    "    (t5, 0),\n",
    "    (t6, sp.Symbol('Delta5')),\n",
    "]"
   ]
  },
  {
   "cell_type": "code",
   "execution_count": null,
   "metadata": {},
   "outputs": [],
   "source": [
    "equations = [\n",
    "    sp.Eq(p4.subs(t, t4), x4),\n",
    "    sp.Eq(p4.subs(t, t5), x5),\n",
    "    sp.Eq(p5.subs(t, t5), x5),\n",
    "    sp.Eq(p5.subs(t, t6), x6),\n",
    "    sp.Eq(pd4.subs(t, t4), xd4),\n",
    "    sp.Eq(pd4.subs(t, t5), xd5),\n",
    "    sp.Eq(pd5.subs(t, t5), xd5),\n",
    "    sp.Eq(pd5.subs(t, t6), xd6),\n",
    "]\n",
    "equations = [e.subs(deltas) for e in equations]\n",
    "sp.Matrix(equations)"
   ]
  },
  {
   "cell_type": "code",
   "execution_count": null,
   "metadata": {},
   "outputs": [],
   "source": [
    "equations = [e.subs(deltas) for e in equations]"
   ]
  },
  {
   "cell_type": "code",
   "execution_count": null,
   "metadata": {},
   "outputs": [],
   "source": [
    "coefficients = sp.solve(equations, [a4, a5, b4, b5, c4, c5, d4, d5])\n",
    "coefficients"
   ]
  },
  {
   "cell_type": "code",
   "execution_count": null,
   "metadata": {},
   "outputs": [],
   "source": [
    "pdd4 = pd4.diff(t)\n",
    "pdd5 = pd5.diff(t)"
   ]
  },
  {
   "cell_type": "code",
   "execution_count": null,
   "metadata": {},
   "outputs": [],
   "source": [
    "sp.Eq(pdd4.subs(t, t5), pdd5.subs(t, t5)).subs(deltas)"
   ]
  },
  {
   "cell_type": "code",
   "execution_count": null,
   "metadata": {},
   "outputs": [],
   "source": [
    "_.subs(coefficients).simplify()"
   ]
  },
  {
   "cell_type": "markdown",
   "metadata": {},
   "source": [
    "generalize by substituting index $5 \\to i$"
   ]
  },
  {
   "cell_type": "markdown",
   "metadata": {},
   "source": [
    "\\begin{equation*}\n",
    "\\frac{1}{\\Delta_{i-1}} \\dot{\\boldsymbol{x}}_{i-1}\n",
    "+\n",
    "\\left(\\frac{2}{\\Delta_{i-1}} + \\frac{2}{\\Delta_i}\\right)\n",
    "\\dot{\\boldsymbol{x}}_i\n",
    "+\n",
    "\\frac{1}{\\Delta_i} \\dot{\\boldsymbol{x}}_{i+1}\n",
    "=\n",
    "\\frac{3 (\\boldsymbol{x}_i - \\boldsymbol{x}_{i-1})}{{\\Delta_{i-1}}^2} +\n",
    "\\frac{3 (\\boldsymbol{x}_{i+1} - \\boldsymbol{x}_i)}{{\\Delta_i}^2}\n",
    "\\end{equation*}"
   ]
  },
  {
   "cell_type": "markdown",
   "metadata": {},
   "source": [
    "## End Conditions"
   ]
  },
  {
   "cell_type": "markdown",
   "metadata": {},
   "source": [
    "### Natural"
   ]
  },
  {
   "cell_type": "code",
   "execution_count": null,
   "metadata": {},
   "outputs": [],
   "source": [
    "a0, b0, c0, d0 = sp.symbols('a:dbm0')"
   ]
  },
  {
   "cell_type": "code",
   "execution_count": null,
   "metadata": {},
   "outputs": [],
   "source": [
    "t0, t1 = sp.symbols('t0:2')"
   ]
  },
  {
   "cell_type": "code",
   "execution_count": null,
   "metadata": {},
   "outputs": [],
   "source": [
    "p0 = d0 * t**3 + c0 * t**2 + b0 * t + a0\n",
    "p0"
   ]
  },
  {
   "cell_type": "code",
   "execution_count": null,
   "metadata": {},
   "outputs": [],
   "source": [
    "p0 = p0.subs(t, (t - t0)/(t1 - t0))\n",
    "p0"
   ]
  },
  {
   "cell_type": "code",
   "execution_count": null,
   "metadata": {},
   "outputs": [],
   "source": [
    "pd0 = p0.diff(t)"
   ]
  },
  {
   "cell_type": "code",
   "execution_count": null,
   "metadata": {},
   "outputs": [],
   "source": [
    "x0, x1 = sp.symbols('xbm0:2')"
   ]
  },
  {
   "cell_type": "code",
   "execution_count": null,
   "metadata": {},
   "outputs": [],
   "source": [
    "xd0, xd1 = sp.symbols('xbmdot0:2')"
   ]
  },
  {
   "cell_type": "code",
   "execution_count": null,
   "metadata": {},
   "outputs": [],
   "source": [
    "delta_begin = [\n",
    "    (t0, 0),\n",
    "    (t1, sp.Symbol('Delta0')),\n",
    "]"
   ]
  },
  {
   "cell_type": "code",
   "execution_count": null,
   "metadata": {},
   "outputs": [],
   "source": [
    "equations_begin = [\n",
    "    sp.Eq(p0.subs(t, t0), x0),\n",
    "    sp.Eq(p0.subs(t, t1), x1),\n",
    "    sp.Eq(pd0.subs(t, t0), xd0),\n",
    "    sp.Eq(pd0.subs(t, t1), xd1),\n",
    "]\n",
    "equations_begin = [e.subs(delta_begin) for e in equations_begin]\n",
    "sp.Matrix(equations_begin)"
   ]
  },
  {
   "cell_type": "code",
   "execution_count": null,
   "metadata": {},
   "outputs": [],
   "source": [
    "coefficients_begin = sp.solve(equations_begin, [a0, b0, c0, d0])\n",
    "coefficients_begin"
   ]
  },
  {
   "cell_type": "code",
   "execution_count": null,
   "metadata": {},
   "outputs": [],
   "source": [
    "pdd0 = pd0.diff(t)"
   ]
  },
  {
   "cell_type": "code",
   "execution_count": null,
   "metadata": {},
   "outputs": [],
   "source": [
    "sp.Eq(pdd0.subs(t, t0), 0).subs(delta_begin)"
   ]
  },
  {
   "cell_type": "code",
   "execution_count": null,
   "metadata": {},
   "outputs": [],
   "source": [
    "_.subs(coefficients_begin)"
   ]
  },
  {
   "cell_type": "markdown",
   "metadata": {},
   "source": [
    "\\begin{equation*}\n",
    "2 \\Delta_0 \\dot{\\boldsymbol{x}}_0\n",
    "+\n",
    "\\Delta_0 \\dot{\\boldsymbol{x}}_1\n",
    "=\n",
    "3 (\\boldsymbol{x}_1 - \\boldsymbol{x}_0)\n",
    "\\end{equation*}"
   ]
  },
  {
   "cell_type": "code",
   "execution_count": null,
   "metadata": {},
   "outputs": [],
   "source": [
    "a8, b8, c8, d8 = sp.symbols('a:dbm8')"
   ]
  },
  {
   "cell_type": "code",
   "execution_count": null,
   "metadata": {},
   "outputs": [],
   "source": [
    "t8, t9 = sp.symbols('t8:10')"
   ]
  },
  {
   "cell_type": "code",
   "execution_count": null,
   "metadata": {},
   "outputs": [],
   "source": [
    "p8 = d8 * t**3 + c8 * t**2 + b8 * t + a8\n",
    "p8"
   ]
  },
  {
   "cell_type": "code",
   "execution_count": null,
   "metadata": {},
   "outputs": [],
   "source": [
    "p8 = p8.subs(t, (t - t8)/(t9 - t8))\n",
    "p8"
   ]
  },
  {
   "cell_type": "code",
   "execution_count": null,
   "metadata": {},
   "outputs": [],
   "source": [
    "pd8 = p8.diff(t)"
   ]
  },
  {
   "cell_type": "code",
   "execution_count": null,
   "metadata": {},
   "outputs": [],
   "source": [
    "x8, x9 = sp.symbols('xbm8:10')"
   ]
  },
  {
   "cell_type": "code",
   "execution_count": null,
   "metadata": {},
   "outputs": [],
   "source": [
    "xd8, xd9 = sp.symbols('xbmdot8:10')"
   ]
  },
  {
   "cell_type": "code",
   "execution_count": null,
   "metadata": {},
   "outputs": [],
   "source": [
    "delta_end = [\n",
    "    (t8, 0),\n",
    "    (t9, sp.Symbol('Delta8')),\n",
    "]"
   ]
  },
  {
   "cell_type": "code",
   "execution_count": null,
   "metadata": {},
   "outputs": [],
   "source": [
    "equations_end = [\n",
    "    sp.Eq(p8.subs(t, t8), x8),\n",
    "    sp.Eq(p8.subs(t, t9), x9),\n",
    "    sp.Eq(pd8.subs(t, t8), xd8),\n",
    "    sp.Eq(pd8.subs(t, t9), xd9),\n",
    "]\n",
    "equations_end = [e.subs(delta_end) for e in equations_end]\n",
    "sp.Matrix(equations_end)"
   ]
  },
  {
   "cell_type": "code",
   "execution_count": null,
   "metadata": {},
   "outputs": [],
   "source": [
    "coefficients_end = sp.solve(equations_end, [a8, b8, c8, d8])\n",
    "coefficients_end"
   ]
  },
  {
   "cell_type": "code",
   "execution_count": null,
   "metadata": {},
   "outputs": [],
   "source": [
    "pdd8 = pd8.diff(t)"
   ]
  },
  {
   "cell_type": "code",
   "execution_count": null,
   "metadata": {},
   "outputs": [],
   "source": [
    "sp.Eq(pdd8.subs(t, t9), 0).subs(delta_end)"
   ]
  },
  {
   "cell_type": "code",
   "execution_count": null,
   "metadata": {},
   "outputs": [],
   "source": [
    "_.subs(coefficients_end).simplify()"
   ]
  },
  {
   "cell_type": "markdown",
   "metadata": {},
   "source": [
    "\\begin{equation*}\n",
    "\\Delta_{N-2} \\dot{\\boldsymbol{x}}_{N-2}\n",
    "+\n",
    "2 \\Delta_{N-2} \\dot{\\boldsymbol{x}}_{N-1}\n",
    "=\n",
    "3 (\\boldsymbol{x}_{N-1} - \\boldsymbol{x}_{N-2})\n",
    "\\end{equation*}"
   ]
  }
 ],
 "metadata": {
  "kernelspec": {
   "display_name": "Python 3",
   "language": "python",
   "name": "python3"
  },
  "language_info": {
   "codemirror_mode": {
    "name": "ipython",
    "version": 3
   },
   "file_extension": ".py",
   "mimetype": "text/x-python",
   "name": "python",
   "nbconvert_exporter": "python",
   "pygments_lexer": "ipython3",
   "version": "3.9.1"
  }
 },
 "nbformat": 4,
 "nbformat_minor": 4
}
