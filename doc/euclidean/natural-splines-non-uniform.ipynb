{
 "cells": [
  {
   "cell_type": "markdown",
   "metadata": {
    "nbsphinx": "hidden"
   },
   "source": [
    "This notebook is part of https://github.com/AudioSceneDescriptionFormat/splines, see also https://splines.readthedocs.io/.\n",
    "\n",
    "[back to overview](natural-splines.ipynb)"
   ]
  },
  {
   "cell_type": "markdown",
   "metadata": {},
   "source": [
    "# Non-Uniform Natural Splines\n",
    "\n",
    "[uniform](natural-splines-uniform.ipynb)"
   ]
  },
  {
   "cell_type": "code",
   "execution_count": null,
   "metadata": {},
   "outputs": [],
   "source": [
    "import sympy as sp\n",
    "sp.init_printing(order='rev-lex')"
   ]
  },
  {
   "cell_type": "code",
   "execution_count": null,
   "metadata": {},
   "outputs": [],
   "source": [
    "t = sp.symbols('t')"
   ]
  },
  {
   "cell_type": "code",
   "execution_count": null,
   "metadata": {},
   "outputs": [],
   "source": [
    "t4, t5, t6 = sp.symbols('t4:7')"
   ]
  },
  {
   "cell_type": "code",
   "execution_count": null,
   "metadata": {},
   "outputs": [],
   "source": [
    "a4, a5, b4, b5, c4, c5, d4, d5 = sp.symbols('a:dbm4:6')"
   ]
  },
  {
   "cell_type": "code",
   "execution_count": null,
   "metadata": {},
   "outputs": [],
   "source": [
    "p4 = d4 * t**3 + c4 * t**2 + b4 * t + a4\n",
    "p4"
   ]
  },
  {
   "cell_type": "code",
   "execution_count": null,
   "metadata": {},
   "outputs": [],
   "source": [
    "p4 = p4.subs(t, (t - t4)/(t5 - t4))\n",
    "p4"
   ]
  },
  {
   "cell_type": "code",
   "execution_count": null,
   "metadata": {},
   "outputs": [],
   "source": [
    "p5 = d5 * t**3 + c5 * t**2 + b5 * t + a5\n",
    "p5"
   ]
  },
  {
   "cell_type": "code",
   "execution_count": null,
   "metadata": {},
   "outputs": [],
   "source": [
    "p5 = p5.subs(t, (t - t5)/(t6 - t5))\n",
    "p5"
   ]
  },
  {
   "cell_type": "code",
   "execution_count": null,
   "metadata": {},
   "outputs": [],
   "source": [
    "pd4 = p4.diff(t)\n",
    "pd5 = p5.diff(t)"
   ]
  },
  {
   "cell_type": "code",
   "execution_count": null,
   "metadata": {},
   "outputs": [],
   "source": [
    "x4, x5, x6 = sp.symbols('xbm4:7')"
   ]
  },
  {
   "cell_type": "code",
   "execution_count": null,
   "metadata": {},
   "outputs": [],
   "source": [
    "xd4, xd5, xd6 = sp.symbols('xbmdot4:7')"
   ]
  },
  {
   "cell_type": "code",
   "execution_count": null,
   "metadata": {},
   "outputs": [],
   "source": [
    "deltas = [\n",
    "    (t4, -sp.Symbol('Delta4')),\n",
    "    (t5, 0),\n",
    "    (t6, sp.Symbol('Delta5')),\n",
    "]"
   ]
  },
  {
   "cell_type": "code",
   "execution_count": null,
   "metadata": {},
   "outputs": [],
   "source": [
    "equations = [\n",
    "    sp.Eq(p4.subs(t, t4), x4),\n",
    "    sp.Eq(p4.subs(t, t5), x5),\n",
    "    sp.Eq(p5.subs(t, t5), x5),\n",
    "    sp.Eq(p5.subs(t, t6), x6),\n",
    "    sp.Eq(pd4.subs(t, t4), xd4),\n",
    "    sp.Eq(pd4.subs(t, t5), xd5),\n",
    "    sp.Eq(pd5.subs(t, t5), xd5),\n",
    "    sp.Eq(pd5.subs(t, t6), xd6),\n",
    "]\n",
    "equations = [e.subs(deltas) for e in equations]\n",
    "sp.Matrix(equations)"
   ]
  },
  {
   "cell_type": "code",
   "execution_count": null,
   "metadata": {},
   "outputs": [],
   "source": [
    "equations = [e.subs(deltas) for e in equations]"
   ]
  },
  {
   "cell_type": "code",
   "execution_count": null,
   "metadata": {},
   "outputs": [],
   "source": [
    "coefficients = sp.solve(equations, [a4, a5, b4, b5, c4, c5, d4, d5])\n",
    "coefficients"
   ]
  },
  {
   "cell_type": "code",
   "execution_count": null,
   "metadata": {},
   "outputs": [],
   "source": [
    "pdd4 = pd4.diff(t)\n",
    "pdd5 = pd5.diff(t)"
   ]
  },
  {
   "cell_type": "code",
   "execution_count": null,
   "metadata": {},
   "outputs": [],
   "source": [
    "sp.Eq(pdd4.subs(t, t5), pdd5.subs(t, t5)).subs(deltas)"
   ]
  },
  {
   "cell_type": "code",
   "execution_count": null,
   "metadata": {},
   "outputs": [],
   "source": [
    "_.subs(coefficients).simplify()"
   ]
  },
  {
   "cell_type": "markdown",
   "metadata": {},
   "source": [
    "generalize by substituting index $5 \\to i$"
   ]
  },
  {
   "cell_type": "markdown",
   "metadata": {},
   "source": [
    "\\begin{equation*}\n",
    "\\frac{1}{\\Delta_{i-1}} \\dot{\\boldsymbol{x}}_{i-1}\n",
    "+\n",
    "\\left(\\frac{2}{\\Delta_{i-1}} + \\frac{2}{\\Delta_i}\\right)\n",
    "\\dot{\\boldsymbol{x}}_i\n",
    "+\n",
    "\\frac{1}{\\Delta_i} \\dot{\\boldsymbol{x}}_{i+1}\n",
    "=\n",
    "\\frac{3 (\\boldsymbol{x}_i - \\boldsymbol{x}_{i-1})}{{\\Delta_{i-1}}^2} +\n",
    "\\frac{3 (\\boldsymbol{x}_{i+1} - \\boldsymbol{x}_i)}{{\\Delta_i}^2}\n",
    "\\end{equation*}"
   ]
  },
  {
   "cell_type": "markdown",
   "metadata": {},
   "source": [
    "## End Conditions\n",
    "\n",
    "The Python class [splines.Natural](../python-module/splines.rst#splines.Natural)\n",
    "uses \"natural\" end conditions by default."
   ]
  },
  {
   "cell_type": "markdown",
   "metadata": {},
   "source": [
    "### Natural\n",
    "\n",
    "[notebook about \"natural\" end conditions](end-conditions-natural.ipynb)"
   ]
  },
  {
   "cell_type": "markdown",
   "metadata": {},
   "source": [
    "\\begin{align*}\n",
    "2 \\Delta_0 \\dot{\\boldsymbol{x}}_0\n",
    "+\n",
    "\\Delta_0 \\dot{\\boldsymbol{x}}_1\n",
    "&=\n",
    "3 (\\boldsymbol{x}_1 - \\boldsymbol{x}_0)\n",
    "\\\\\n",
    "\\Delta_{N-2} \\dot{\\boldsymbol{x}}_{N-2}\n",
    "+\n",
    "2 \\Delta_{N-2} \\dot{\\boldsymbol{x}}_{N-1}\n",
    "&=\n",
    "3 (\\boldsymbol{x}_{N-1} - \\boldsymbol{x}_{N-2})\n",
    "\\end{align*}"
   ]
  },
  {
   "cell_type": "markdown",
   "metadata": {},
   "source": [
    "### Other End Conditions\n",
    "\n",
    "See [notebook about uniform \"natural\" splines](natural-splines-uniform.ipynb#End-Conditions)"
   ]
  }
 ],
 "metadata": {
  "kernelspec": {
   "display_name": "Python 3",
   "language": "python",
   "name": "python3"
  },
  "language_info": {
   "codemirror_mode": {
    "name": "ipython",
    "version": 3
   },
   "file_extension": ".py",
   "mimetype": "text/x-python",
   "name": "python",
   "nbconvert_exporter": "python",
   "pygments_lexer": "ipython3",
   "version": "3.9.1"
  }
 },
 "nbformat": 4,
 "nbformat_minor": 4
}
