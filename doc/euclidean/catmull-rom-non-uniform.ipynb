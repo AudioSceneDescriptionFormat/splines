{
 "cells": [
  {
   "cell_type": "markdown",
   "metadata": {
    "nbsphinx": "hidden"
   },
   "source": [
    "This notebook is part of https://github.com/AudioSceneDescriptionFormat/splines, see also https://splines.readthedocs.io/.\n",
    "\n",
    "[back to overview](catmull-rom.ipynb)"
   ]
  },
  {
   "cell_type": "markdown",
   "metadata": {},
   "source": [
    "# Non-Uniform Catmull--Rom Splines\n",
    "\n",
    "<cite data-cite=\"catmull1974splines\">Catmull and Rom (1974)</cite>\n",
    "describes only the [uniform case](catmull-rom-uniform.ipynb),\n",
    "but it is straightforward to extend the method to non-uniform splines.\n",
    "\n",
    "The method comprises using three linear interpolations\n",
    "(and *extra*polations)\n",
    "between neighboring pairs of the four relevant control points\n",
    "and then blending the three resulting points\n",
    "with a quadratic B-spline basis function."
   ]
  },
  {
   "cell_type": "markdown",
   "metadata": {},
   "source": [
    "As we have seen in the\n",
    "[notebook about uniform Catmull--Rom splines](catmull-rom-uniform.ipynb#Cardinal-Functions)\n",
    "and as we will again see in the\n",
    "[notebook about the Barry--Goldman algorithm](catmull-rom-barry-goldman.ipynb#Combining-Both-Algorithms),\n",
    "the respective degrees can be reversed.\n",
    "This means that equivalently,\n",
    "two (overlapping) quadratic Lagrange interpolations can be used,\n",
    "followed by linearly blending the two resulting points."
   ]
  },
  {
   "cell_type": "markdown",
   "metadata": {},
   "source": [
    "Since latter is both easier to implement\n",
    "and easier to wrap one's head around,\n",
    "we use it in the following derivations."
   ]
  },
  {
   "cell_type": "markdown",
   "metadata": {},
   "source": [
    "We will derive\n",
    "the [tangent vectors](#Tangent-Vectors) at the segment boundaries\n",
    "(which will serve as basis for deriving\n",
    "[non-uniform Kochanek--Bartels splines](kochanek-bartels-non-uniform.ipynb)\n",
    "later)\n",
    "and\n",
    "the [basis matrix](#Basis-Matrix).\n",
    "See the\n",
    "[notebook about the Barry--Goldman algorithm](catmull-rom-barry-goldman.ipynb)\n",
    "for an alternative (but closely related) derivation."
   ]
  },
  {
   "cell_type": "code",
   "execution_count": null,
   "metadata": {},
   "outputs": [],
   "source": [
    "import sympy as sp\n",
    "sp.init_printing()"
   ]
  },
  {
   "cell_type": "code",
   "execution_count": null,
   "metadata": {},
   "outputs": [],
   "source": [
    "x3, x4, x5, x6 = sp.symbols('xbm3:7')"
   ]
  },
  {
   "cell_type": "code",
   "execution_count": null,
   "metadata": {},
   "outputs": [],
   "source": [
    "t, t3, t4, t5, t6 = sp.symbols('t t3:7')"
   ]
  },
  {
   "cell_type": "markdown",
   "metadata": {},
   "source": [
    "We use some tools from [utility.py](utility.py):"
   ]
  },
  {
   "cell_type": "code",
   "execution_count": null,
   "metadata": {},
   "outputs": [],
   "source": [
    "from utility import NamedExpression, NamedMatrix"
   ]
  },
  {
   "cell_type": "markdown",
   "metadata": {},
   "source": [
    "As shown in the [notebook about Lagrange interpolation](lagrange.ipynb),\n",
    "it can be interpolated using *Neville's algorithm*:"
   ]
  },
  {
   "cell_type": "code",
   "execution_count": null,
   "metadata": {},
   "outputs": [],
   "source": [
    "def lerp(xs, ts, t):\n",
    "    \"\"\"Linear interpolation.\n",
    "    \n",
    "    Returns the interpolated value at time *t*,\n",
    "    given the two values *xs* at times *ts*.\n",
    "    \n",
    "    \"\"\"\n",
    "    x_begin, x_end = xs\n",
    "    t_begin, t_end = ts\n",
    "    return (x_begin * (t_end - t) + x_end * (t - t_begin)) / (t_end - t_begin)"
   ]
  },
  {
   "cell_type": "code",
   "execution_count": null,
   "metadata": {},
   "outputs": [],
   "source": [
    "def neville(xs, ts, t):\n",
    "    \"\"\"Lagrange interpolation using Neville's algorithm.\n",
    "    \n",
    "    Returns the interpolated value at time *t*,\n",
    "    given the values *xs* at times *ts*.\n",
    "    \n",
    "    \"\"\"\n",
    "    assert len(xs) == len(ts)\n",
    "    while len(xs) > 1:\n",
    "        step = len(ts) - len(xs) + 1\n",
    "        xs = [\n",
    "            lerp(*args, t)\n",
    "            for args in zip(zip(xs, xs[1:]), zip(ts, ts[step:]))]\n",
    "    return xs[0]"
   ]
  },
  {
   "cell_type": "markdown",
   "metadata": {},
   "source": [
    "<div class=\"alert alert-info\">\n",
    "\n",
    "Alternatively,\n",
    "[sympy.interpolate()](https://docs.sympy.org/latest/modules/polys/reference.html#sympy.polys.polyfuncs.interpolate) could be used.\n",
    "\n",
    "</div>"
   ]
  },
  {
   "cell_type": "markdown",
   "metadata": {},
   "source": [
    "We use two overlapping quadratic Lagrange interpolations\n",
    "followed by linear blending:"
   ]
  },
  {
   "cell_type": "code",
   "execution_count": null,
   "metadata": {},
   "outputs": [],
   "source": [
    "p4 = NamedExpression(\n",
    "    'pbm4',\n",
    "    lerp([\n",
    "        neville([x3, x4, x5], [t3, t4, t5], t),\n",
    "        neville([x4, x5, x6], [t4, t5, t6], t),\n",
    "    ], [t4, t5], t))"
   ]
  },
  {
   "cell_type": "markdown",
   "metadata": {},
   "source": [
    "<div class=\"alert alert-info\">\n",
    "\n",
    "Note\n",
    "\n",
    "Since the two invocations of Neville's algorithm overlap,\n",
    "some values that are used by both are unnecessarily computed by both.\n",
    "It would be more efficient to calculate each of these values only once.\n",
    "\n",
    "The [Barry--Goldman algorithm](catmull-rom-barry-goldman.ipynb)\n",
    "avoids this repeated computation.\n",
    "\n",
    "But here, since we are using symbolic expressions,\n",
    "this doesn't really matter\n",
    "because the redundant expressions should be simplified away by SymPy.\n",
    "\n",
    "</div>"
   ]
  },
  {
   "cell_type": "code",
   "execution_count": null,
   "metadata": {},
   "outputs": [],
   "source": [
    "p4.simplify()"
   ]
  },
  {
   "cell_type": "markdown",
   "metadata": {},
   "source": [
    "The following expressions can be simplified\n",
    "by introducing a few new symbols $\\Delta_i$:"
   ]
  },
  {
   "cell_type": "code",
   "execution_count": null,
   "metadata": {},
   "outputs": [],
   "source": [
    "delta3, delta4, delta5 = sp.symbols('Delta3:6')\n",
    "deltas = {\n",
    "    t4 - t3: delta3,\n",
    "    t5 - t4: delta4,\n",
    "    t6 - t5: delta5,\n",
    "    t5 - t3: delta3 + delta4,\n",
    "    t6 - t4: delta4 + delta5,\n",
    "    t6 - t3: delta3 + delta4 + delta5,\n",
    "    # A few special cases that SymPy has a hard time resolving:\n",
    "    t4 + t4 - t3: t4 + delta3,\n",
    "    t6 + t6 - t3: t6 + delta3 + delta4 + delta5,\n",
    "}"
   ]
  },
  {
   "cell_type": "markdown",
   "metadata": {},
   "source": [
    "## Tangent Vectors\n",
    "\n",
    "To get the tangent vectors at the control points,\n",
    "we just have to take the first derivative ..."
   ]
  },
  {
   "cell_type": "code",
   "execution_count": null,
   "metadata": {},
   "outputs": [],
   "source": [
    "pd4 = p4.diff(t)"
   ]
  },
  {
   "cell_type": "markdown",
   "metadata": {},
   "source": [
    "... and evaluate it at $t_4$ and $t_5$:"
   ]
  },
  {
   "cell_type": "code",
   "execution_count": null,
   "metadata": {},
   "outputs": [],
   "source": [
    "start_tangent = pd4.evaluated_at(t, t4)\n",
    "start_tangent.subs(deltas).simplify()"
   ]
  },
  {
   "cell_type": "code",
   "execution_count": null,
   "metadata": {},
   "outputs": [],
   "source": [
    "end_tangent = pd4.evaluated_at(t, t5)\n",
    "end_tangent.subs(deltas).simplify()"
   ]
  },
  {
   "cell_type": "markdown",
   "metadata": {},
   "source": [
    "Both results lead to the same general expression\n",
    "(which is expected,\n",
    "since the incoming and outgoing tangents are supposed to be equal):\n",
    "\n",
    "\\begin{align*}\n",
    "\\boldsymbol{\\dot{x}}_i\n",
    "&=\n",
    "\\frac{\n",
    "(t_{i+1} - t_i)^2 (\\boldsymbol{x}_i - \\boldsymbol{x}_{i-1}) +\n",
    "(t_i - t_{i-1})^2 (\\boldsymbol{x}_{i+1} - \\boldsymbol{x}_i)\n",
    "}{\n",
    "(t_{i+1} - t_i)(t_i - t_{i-1})(t_{i+1} - t_{i-1})\n",
    "} \\\\\n",
    "&= \\frac{\n",
    "{\\Delta_i}^2 (\\boldsymbol{x}_i - \\boldsymbol{x}_{i-1}) +\n",
    "{\\Delta_{i-1}}^2 (\\boldsymbol{x}_{i+1} - \\boldsymbol{x}_i)\n",
    "}{\n",
    "\\Delta_i \\Delta_{i-1} (\\Delta_i + \\Delta_{i-1})\n",
    "}\n",
    "\\end{align*}"
   ]
  },
  {
   "cell_type": "markdown",
   "metadata": {},
   "source": [
    "Equivalently, this can be written as:\n",
    "\n",
    "\\begin{align*}\n",
    "\\boldsymbol{\\dot{x}}_i\n",
    "&=\n",
    "\\frac{\n",
    "(t_{i+1} - t_i) (\\boldsymbol{x}_i - \\boldsymbol{x}_{i-1})\n",
    "}{\n",
    "(t_i - t_{i-1})(t_{i+1} - t_{i-1})\n",
    "}\n",
    "+\n",
    "\\frac{\n",
    "(t_i - t_{i-1}) (\\boldsymbol{x}_{i+1} - \\boldsymbol{x}_i)\n",
    "}{\n",
    "(t_{i+1} - t_i)(t_{i+1} - t_{i-1})\n",
    "} \\\\\n",
    "&=\n",
    "\\frac{\n",
    "\\Delta_i (\\boldsymbol{x}_i - \\boldsymbol{x}_{i-1})\n",
    "}{\n",
    "\\Delta_{i-1} (\\Delta_i + \\Delta_{i-1})\n",
    "}\n",
    "+\n",
    "\\frac{\n",
    "\\Delta_{i-1} (\\boldsymbol{x}_{i+1} - \\boldsymbol{x}_i)\n",
    "}{\n",
    "\\Delta_i (\\Delta_i + \\Delta_{i-1})\n",
    "}\n",
    "\\end{align*}"
   ]
  },
  {
   "cell_type": "markdown",
   "metadata": {},
   "source": [
    "An alternative (but very similar) way to derive these tangent vectors\n",
    "is shown in the\n",
    "[notebook about the Barry--Goldman algorithm](catmull-rom-barry-goldman.ipynb#Tangent-Vectors)."
   ]
  },
  {
   "cell_type": "markdown",
   "metadata": {},
   "source": [
    "And there is yet another way to calculate the tangents,\n",
    "without even needing to obtain a *cubic* polynomial and its derivative:\n",
    "Since we are using a linear blend of two *quadratic* polynomials,\n",
    "we know that at the beginning ($t = t_4$)\n",
    "only the first quadratic polynomial has an influence\n",
    "and at the end ($t = t_5$) only the second quadratic polynomial is relevant.\n",
    "Therefore, to determine the tangent vector at the beginning of the segment,\n",
    "it is sufficient to get the derivative of the first quadratic polynomial."
   ]
  },
  {
   "cell_type": "code",
   "execution_count": null,
   "metadata": {},
   "outputs": [],
   "source": [
    "first_quadratic = neville([x3, x4, x5], [t3, t4, t5], t)"
   ]
  },
  {
   "cell_type": "code",
   "execution_count": null,
   "metadata": {},
   "outputs": [],
   "source": [
    "sp.degree(first_quadratic, t)"
   ]
  },
  {
   "cell_type": "code",
   "execution_count": null,
   "metadata": {},
   "outputs": [],
   "source": [
    "first_quadratic.diff(t).subs(t, t4)"
   ]
  },
  {
   "cell_type": "markdown",
   "metadata": {},
   "source": [
    "This can be written as\n",
    "(which is sometimes called the\n",
    "*standard three-point difference formula*):\n",
    "\n",
    "\\begin{equation*}\n",
    "\\boldsymbol{\\dot{x}}_i =\n",
    "\\frac{\n",
    "\\Delta_i \\boldsymbol{v}_{i-1} + \\Delta_{i-1} \\boldsymbol{v}_i\n",
    "}{\n",
    "\\Delta_{i-1} + \\Delta_i\n",
    "},\n",
    "\\end{equation*}\n",
    "\n",
    "with $\\Delta_i = t_{i+1} - t_i$ and\n",
    "$\\boldsymbol{v}_i = \\frac{\\boldsymbol{x}_{i+1} - \\boldsymbol{x}_i}{\\Delta_i}$."
   ]
  },
  {
   "cell_type": "markdown",
   "metadata": {},
   "source": [
    "<cite data-cite=\"de_boor1978splines\">(de Boor 1978)</cite>\n",
    "calls this *piecewise cubic Bessel interpolation*,\n",
    "and it has also been called\n",
    "*Bessel tangent method*,\n",
    "*Overhauser method* and\n",
    "*Bessel--Overhauser splines*."
   ]
  },
  {
   "cell_type": "markdown",
   "metadata": {},
   "source": [
    "<div class=\"alert alert-info\">\n",
    "\n",
    "Note\n",
    "\n",
    "Even though this formula\n",
    "is commonly associated with the name *Overhauser*,\n",
    "it is *not* describing the tangents of *Overhauser splines*\n",
    "(as presented in\n",
    "<cite data-cite=\"overhauser1968parabolic\">Overhauser (1968)</cite>).\n",
    "\n",
    "</div>"
   ]
  },
  {
   "cell_type": "markdown",
   "metadata": {},
   "source": [
    "Long story short, it's the same as we had above:"
   ]
  },
  {
   "cell_type": "code",
   "execution_count": null,
   "metadata": {},
   "outputs": [],
   "source": [
    "assert sp.simplify(_ - start_tangent.expr) == 0"
   ]
  },
  {
   "cell_type": "markdown",
   "metadata": {},
   "source": [
    "The first derivative of the second quadratic polynomial\n",
    "can be used to get the tangent vector at the end of the segment."
   ]
  },
  {
   "cell_type": "code",
   "execution_count": null,
   "metadata": {},
   "outputs": [],
   "source": [
    "second_quadratic = neville([x4, x5, x6], [t4, t5, t6], t)\n",
    "second_quadratic.diff(t).subs(t, t5)"
   ]
  },
  {
   "cell_type": "code",
   "execution_count": null,
   "metadata": {},
   "outputs": [],
   "source": [
    "assert sp.simplify(_ - end_tangent.expr) == 0"
   ]
  },
  {
   "cell_type": "markdown",
   "metadata": {},
   "source": [
    "You might encounter another way\n",
    "to write the equation for $\\boldsymbol{\\dot{x}}_4$\n",
    "(e.g. at https://stackoverflow.com/a/23980479/) ..."
   ]
  },
  {
   "cell_type": "code",
   "execution_count": null,
   "metadata": {},
   "outputs": [],
   "source": [
    "(x4 - x3) / (t4 - t3) - (x5 - x3) / (t5 - t3) + (x5 - x4) / (t5 - t4)"
   ]
  },
  {
   "cell_type": "markdown",
   "metadata": {},
   "source": [
    "... but again, this is equivalent to the equation shown above:"
   ]
  },
  {
   "cell_type": "code",
   "execution_count": null,
   "metadata": {},
   "outputs": [],
   "source": [
    "assert sp.simplify(_ - start_tangent.expr) == 0"
   ]
  },
  {
   "cell_type": "markdown",
   "metadata": {},
   "source": [
    "## Using Non-Uniform Bézier Segments\n",
    "\n",
    "Similar to [the uniform case](catmull-rom-uniform.ipynb#Using-Bézier-Segments),\n",
    "the above equation for the tangent vectors can be used to construct\n",
    "non-uniform [Hermite splines](hermite.ipynb) or,\n",
    "after multiplying them with the appropriate parameter interval\n",
    "and dividing them by 3,\n",
    "to obtain the two additional control points for\n",
    "[non-uniform cubic Bézier spline segments](bezier-non-uniform.ipynb#Control-Points-From-Tangent-Vectors):\n",
    "\n",
    "\\begin{align*}\n",
    "\\boldsymbol{\\tilde{x}}_i^{(+)}\n",
    "&= \\boldsymbol{x}_i + \\frac{\\Delta_i \\boldsymbol{\\dot{x}}_i}{3}\n",
    "= \\boldsymbol{x}_i + \\frac{\n",
    "{\\Delta_i}^2 (\\boldsymbol{x}_i - \\boldsymbol{x}_{i-1})\n",
    "}{\n",
    "3 \\Delta_{i-1} (\\Delta_i + \\Delta_{i-1})\n",
    "}\n",
    "+\n",
    "\\frac{\n",
    "\\Delta_{i-1} (\\boldsymbol{x}_{i+1} - \\boldsymbol{x}_i)\n",
    "}{\n",
    "3 (\\Delta_i + \\Delta_{i-1})\n",
    "}\n",
    "\\\\\n",
    "\\boldsymbol{\\tilde{x}}_i^{(-)}\n",
    "&= \\boldsymbol{x}_i - \\frac{\\Delta_{i-1} \\boldsymbol{\\dot{x}}_i}{3}\n",
    "= \\boldsymbol{x}_i - \\frac{\n",
    "\\Delta_i (\\boldsymbol{x}_i - \\boldsymbol{x}_{i-1})\n",
    "}{\n",
    "(\\Delta_i + \\Delta_{i-1})\n",
    "}\n",
    "-\n",
    "\\frac{\n",
    "{\\Delta_{i-1}}^2 (\\boldsymbol{x}_{i+1} - \\boldsymbol{x}_i)\n",
    "}{\n",
    "\\Delta_i (\\Delta_i + \\Delta_{i-1})\n",
    "}\n",
    "\\end{align*}"
   ]
  },
  {
   "cell_type": "markdown",
   "metadata": {},
   "source": [
    "## Basis Matrix\n",
    "\n",
    "We already have the correct result,\n",
    "but if we want to derive our *basis matrix*,\n",
    "we have to re-scale this a bit.\n",
    "The parameter is supposed to go from $0$ to $1$\n",
    "instead of from $t_4$ to $t_5$:"
   ]
  },
  {
   "cell_type": "code",
   "execution_count": null,
   "metadata": {},
   "outputs": [],
   "source": [
    "p4_normalized = p4.expr.subs(t, t * (t5 - t4) + t4)"
   ]
  },
  {
   "cell_type": "code",
   "execution_count": null,
   "metadata": {},
   "outputs": [],
   "source": [
    "M_CR = NamedMatrix(\n",
    "    r'{M_{\\text{CR},4}}',\n",
    "    sp.Matrix([[c.expand().coeff(x).factor() for x in (x3, x4, x5, x6)]\n",
    "               for c in p4_normalized.as_poly(t).all_coeffs()]))\n",
    "M_CR.subs(deltas).simplify()"
   ]
  },
  {
   "cell_type": "markdown",
   "metadata": {},
   "source": [
    "We can try to manually simplify this a bit more:"
   ]
  },
  {
   "cell_type": "code",
   "execution_count": null,
   "metadata": {},
   "outputs": [],
   "source": [
    "M_CR.subs(deltas).simplify().subs([[e.factor(), e] for e in [\n",
    "    delta4 / (delta4 + delta5) + delta4 / delta3,\n",
    "    -delta4 / (delta3 + delta4) - delta4 / delta5,\n",
    "    -delta4 / (delta4 + delta5) - 2 * delta4 / delta3,\n",
    "    2 * delta4 / (delta3 + delta4) + delta4 / delta5,\n",
    "]])"
   ]
  },
  {
   "cell_type": "markdown",
   "metadata": {},
   "source": [
    "We can even introduce two new symbols\n",
    "in order to simplify it yet a bit more:"
   ]
  },
  {
   "cell_type": "code",
   "execution_count": null,
   "metadata": {},
   "outputs": [],
   "source": [
    "phi, psi = sp.symbols('Phi4 Psi4')\n",
    "phi_psi_subs = {\n",
    "    phi: delta4 / (delta3 + delta4),\n",
    "    psi: delta4 / (delta4 + delta5),\n",
    "}\n",
    "phi_psi_subs"
   ]
  },
  {
   "cell_type": "code",
   "execution_count": null,
   "metadata": {},
   "outputs": [],
   "source": [
    "sp.Matrix([\n",
    "    [\n",
    "        -phi * delta4 / delta3,\n",
    "        psi + delta4 / delta3,\n",
    "        -phi - (delta4 / delta5),\n",
    "        psi * delta4 / delta5,\n",
    "    ], [\n",
    "        phi * 2 * delta4 / delta3,\n",
    "        -psi - 2 * delta4 / delta3,\n",
    "        2 * phi + delta4 / delta5,\n",
    "        -psi * delta4 / delta5,\n",
    "    ], [\n",
    "        -phi * delta4 / delta3,\n",
    "        (delta4 - delta3) / delta3,\n",
    "        delta3 / (delta3 + delta4),\n",
    "        0\n",
    "    ], [0, 1, 0, 0]\n",
    "])"
   ]
  },
  {
   "cell_type": "code",
   "execution_count": null,
   "metadata": {},
   "outputs": [],
   "source": [
    "assert sp.simplify(\n",
    "    _.subs(phi_psi_subs) - M_CR.expr.subs(deltas)) == sp.Matrix.zeros(4, 4)"
   ]
  },
  {
   "cell_type": "markdown",
   "metadata": {},
   "source": [
    "Just to make sure that $M_{\\text{CR},i}$ is consistent with the result\n",
    "from [uniform Catmull--Rom splines](catmull-rom-uniform.ipynb),\n",
    "let's set all $\\Delta_i$ to $1$:"
   ]
  },
  {
   "cell_type": "code",
   "execution_count": null,
   "metadata": {},
   "outputs": [],
   "source": [
    "uniform = {\n",
    "    t3: 3,\n",
    "    t4: 4,\n",
    "    t5: 5,\n",
    "    t6: 6,\n",
    "    M_CR.name: sp.Symbol(r'{M_\\text{CR,uniform}}'),\n",
    "}"
   ]
  },
  {
   "cell_type": "code",
   "execution_count": null,
   "metadata": {},
   "outputs": [],
   "source": [
    "M_CR.subs(uniform).pull_out(sp.S.Half)"
   ]
  }
 ],
 "metadata": {
  "kernelspec": {
   "display_name": "Python 3",
   "language": "python",
   "name": "python3"
  },
  "language_info": {
   "codemirror_mode": {
    "name": "ipython",
    "version": 3
   },
   "file_extension": ".py",
   "mimetype": "text/x-python",
   "name": "python",
   "nbconvert_exporter": "python",
   "pygments_lexer": "ipython3",
   "version": "3.9.2"
  }
 },
 "nbformat": 4,
 "nbformat_minor": 4
}
