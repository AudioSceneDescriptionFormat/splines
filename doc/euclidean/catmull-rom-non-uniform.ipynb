{
 "cells": [
  {
   "cell_type": "markdown",
   "metadata": {
    "nbsphinx": "hidden"
   },
   "source": [
    "This notebook is part of https://github.com/AudioSceneDescriptionFormat/splines, see also https://splines.readthedocs.io/.\n",
    "\n",
    "[back to overview](catmull-rom.ipynb)"
   ]
  },
  {
   "cell_type": "markdown",
   "metadata": {},
   "source": [
    "# Non-Uniform Catmull--Rom Splines\n",
    "\n",
    "<cite data-cite-t=\"catmull1974splines\">Catmull and Rom (1974)</cite>\n",
    "describe only the [uniform case](catmull-rom-uniform.ipynb),\n",
    "but it is straightforward to extend their method to non-uniform splines.\n",
    "\n",
    "The method creates three linear interpolations\n",
    "(and *extra*polations)\n",
    "between neighboring pairs of the four relevant control points\n",
    "and then blends the three resulting points\n",
    "with a quadratic B-spline basis function."
   ]
  },
  {
   "cell_type": "markdown",
   "metadata": {},
   "source": [
    "As we have seen in the\n",
    "[notebook about uniform Catmull--Rom splines](catmull-rom-uniform.ipynb#Cardinal-Functions)\n",
    "and as we will again see in the\n",
    "[notebook about the Barry--Goldman algorithm](catmull-rom-barry-goldman.ipynb#Combining-Both-Algorithms),\n",
    "the respective degrees can be swapped.\n",
    "This means that equivalently,\n",
    "two (overlapping) quadratic Lagrange interpolations can be used,\n",
    "followed by linearly blending the two resulting points."
   ]
  },
  {
   "cell_type": "markdown",
   "metadata": {},
   "source": [
    "Since the latter is both easier to implement\n",
    "and easier to wrap one's head around,\n",
    "we'll use it in the following derivations."
   ]
  },
  {
   "cell_type": "markdown",
   "metadata": {},
   "source": [
    "We will derive\n",
    "the [tangent vectors](#Tangent-Vectors) at the segment boundaries,\n",
    "which will later serve as a starting point for deriving\n",
    "[non-uniform Kochanek--Bartels splines](kochanek-bartels-non-uniform.ipynb).\n",
    "See the\n",
    "[notebook about the Barry--Goldman algorithm](catmull-rom-barry-goldman.ipynb)\n",
    "for an alternative (but closely related) derivation."
   ]
  },
  {
   "cell_type": "code",
   "execution_count": null,
   "metadata": {},
   "outputs": [],
   "source": [
    "import sympy as sp\n",
    "sp.init_printing()"
   ]
  },
  {
   "cell_type": "markdown",
   "metadata": {},
   "source": [
    "As usual, we look at the fifth polynomial segment $\\boldsymbol{p}_4(t)$\n",
    "from $\\boldsymbol{x}_4$ to $\\boldsymbol{x}_5$, where $t_4 \\le t \\le t_5$.\n",
    "Later, we will generalize this to an arbitrary\n",
    "polynomial segment $\\boldsymbol{p}_i(t)$\n",
    "from $\\boldsymbol{x}_i$ to $\\boldsymbol{x}_{i+1}$,\n",
    "where $t_i \\le t \\le t_{i+1}$."
   ]
  },
  {
   "cell_type": "code",
   "execution_count": null,
   "metadata": {},
   "outputs": [],
   "source": [
    "x3, x4, x5, x6 = sp.symbols('xbm3:7')"
   ]
  },
  {
   "cell_type": "code",
   "execution_count": null,
   "metadata": {},
   "outputs": [],
   "source": [
    "t, t3, t4, t5, t6 = sp.symbols('t t3:7')"
   ]
  },
  {
   "cell_type": "markdown",
   "metadata": {},
   "source": [
    "We use some tools from [utility.py](utility.py):"
   ]
  },
  {
   "cell_type": "code",
   "execution_count": null,
   "metadata": {},
   "outputs": [],
   "source": [
    "from utility import NamedExpression, NamedMatrix"
   ]
  },
  {
   "cell_type": "markdown",
   "metadata": {},
   "source": [
    "As shown in the [notebook about Lagrange interpolation](lagrange.ipynb),\n",
    "it can be implemented using *Neville's algorithm*:"
   ]
  },
  {
   "cell_type": "code",
   "execution_count": null,
   "metadata": {},
   "outputs": [],
   "source": [
    "def lerp(xs, ts, t):\n",
    "    \"\"\"Linear interpolation.\n",
    "    \n",
    "    Returns the interpolated value at time *t*,\n",
    "    given the two values *xs* at times *ts*.\n",
    "    \n",
    "    \"\"\"\n",
    "    x_begin, x_end = xs\n",
    "    t_begin, t_end = ts\n",
    "    return (x_begin * (t_end - t) + x_end * (t - t_begin)) / (t_end - t_begin)"
   ]
  },
  {
   "cell_type": "code",
   "execution_count": null,
   "metadata": {},
   "outputs": [],
   "source": [
    "def neville(xs, ts, t):\n",
    "    \"\"\"Lagrange interpolation using Neville's algorithm.\n",
    "    \n",
    "    Returns the interpolated value at time *t*,\n",
    "    given the values *xs* at times *ts*.\n",
    "    \n",
    "    \"\"\"\n",
    "    if len(xs) != len(ts):\n",
    "        raise ValueError('xs and ts must have the same length')\n",
    "    while len(xs) > 1:\n",
    "        step = len(ts) - len(xs) + 1\n",
    "        xs = [\n",
    "            lerp(*args, t)\n",
    "            for args in zip(zip(xs, xs[1:]), zip(ts, ts[step:]))]\n",
    "    return xs[0]"
   ]
  },
  {
   "cell_type": "markdown",
   "metadata": {},
   "source": [
    "<div class=\"alert alert-info\">\n",
    "\n",
    "Alternatively,\n",
    "[sympy.interpolate()](https://docs.sympy.org/latest/modules/polys/reference.html#sympy.polys.polyfuncs.interpolate) could be used.\n",
    "\n",
    "</div>"
   ]
  },
  {
   "cell_type": "markdown",
   "metadata": {},
   "source": [
    "We use two overlapping quadratic Lagrange interpolations\n",
    "followed by linear blending:"
   ]
  },
  {
   "cell_type": "code",
   "execution_count": null,
   "metadata": {},
   "outputs": [],
   "source": [
    "p4 = NamedExpression(\n",
    "    'pbm4',\n",
    "    lerp([\n",
    "        neville([x3, x4, x5], [t3, t4, t5], t),\n",
    "        neville([x4, x5, x6], [t4, t5, t6], t),\n",
    "    ], [t4, t5], t))"
   ]
  },
  {
   "cell_type": "markdown",
   "metadata": {},
   "source": [
    "<div class=\"alert alert-info\">\n",
    "\n",
    "Note\n",
    "\n",
    "Since the two invocations of Neville's algorithm overlap,\n",
    "some values that are used by both are unnecessarily computed by both.\n",
    "It would be more efficient to calculate each of these values only once.\n",
    "\n",
    "The [Barry--Goldman algorithm](catmull-rom-barry-goldman.ipynb)\n",
    "avoids this repeated computation.\n",
    "\n",
    "But here, since we are using symbolic expressions,\n",
    "this doesn't really matter\n",
    "because the redundant expressions should be simplified away by SymPy.\n",
    "\n",
    "</div>"
   ]
  },
  {
   "cell_type": "markdown",
   "metadata": {},
   "source": [
    "The following expressions can be simplified\n",
    "by introducing a few new symbols $\\Delta_i$:"
   ]
  },
  {
   "cell_type": "code",
   "execution_count": null,
   "metadata": {},
   "outputs": [],
   "source": [
    "delta3, delta4, delta5 = sp.symbols('Delta3:6')\n",
    "deltas = {\n",
    "    t4 - t3: delta3,\n",
    "    t5 - t4: delta4,\n",
    "    t6 - t5: delta5,\n",
    "    t5 - t3: delta3 + delta4,\n",
    "    t6 - t4: delta4 + delta5,\n",
    "    t6 - t3: delta3 + delta4 + delta5,\n",
    "    # A few special cases that SymPy has a hard time resolving:\n",
    "    t4 + t4 - t3: t4 + delta3,\n",
    "    t6 + t6 - t3: t6 + delta3 + delta4 + delta5,\n",
    "}"
   ]
  },
  {
   "cell_type": "markdown",
   "metadata": {},
   "source": [
    "## Tangent Vectors\n",
    "\n",
    "To get the tangent vectors at the control points,\n",
    "we just have to take the first derivative ..."
   ]
  },
  {
   "cell_type": "code",
   "execution_count": null,
   "metadata": {},
   "outputs": [],
   "source": [
    "pd4 = p4.diff(t)"
   ]
  },
  {
   "cell_type": "markdown",
   "metadata": {},
   "source": [
    "... and evaluate it at $t_4$ and $t_5$:"
   ]
  },
  {
   "cell_type": "code",
   "execution_count": null,
   "metadata": {},
   "outputs": [],
   "source": [
    "start_tangent = pd4.evaluated_at(t, t4)\n",
    "start_tangent.subs(deltas).simplify()"
   ]
  },
  {
   "cell_type": "code",
   "execution_count": null,
   "metadata": {},
   "outputs": [],
   "source": [
    "end_tangent = pd4.evaluated_at(t, t5)\n",
    "end_tangent.subs(deltas).simplify()"
   ]
  },
  {
   "cell_type": "markdown",
   "metadata": {},
   "source": [
    "Both results lead to the same general expression\n",
    "(which is expected,\n",
    "since the incoming and outgoing tangents are supposed to be equal):\n",
    "\n",
    "\\begin{align*}\n",
    "\\boldsymbol{\\dot{x}}_i\n",
    "&=\n",
    "\\frac{\n",
    "(t_{i+1} - t_i)^2 (\\boldsymbol{x}_i - \\boldsymbol{x}_{i-1}) +\n",
    "(t_i - t_{i-1})^2 (\\boldsymbol{x}_{i+1} - \\boldsymbol{x}_i)\n",
    "}{\n",
    "(t_{i+1} - t_i)(t_i - t_{i-1})(t_{i+1} - t_{i-1})\n",
    "} \\\\\n",
    "&= \\frac{\n",
    "{\\Delta_i}^2 (\\boldsymbol{x}_i - \\boldsymbol{x}_{i-1}) +\n",
    "{\\Delta_{i-1}}^2 (\\boldsymbol{x}_{i+1} - \\boldsymbol{x}_i)\n",
    "}{\n",
    "\\Delta_i \\Delta_{i-1} (\\Delta_i + \\Delta_{i-1})\n",
    "}\n",
    "\\end{align*}"
   ]
  },
  {
   "cell_type": "markdown",
   "metadata": {},
   "source": [
    "Equivalently, this can be written as:\n",
    "\n",
    "\\begin{align*}\n",
    "\\boldsymbol{\\dot{x}}_i\n",
    "&=\n",
    "\\frac{\n",
    "(t_{i+1} - t_i) (\\boldsymbol{x}_i - \\boldsymbol{x}_{i-1})\n",
    "}{\n",
    "(t_i - t_{i-1})(t_{i+1} - t_{i-1})\n",
    "}\n",
    "+\n",
    "\\frac{\n",
    "(t_i - t_{i-1}) (\\boldsymbol{x}_{i+1} - \\boldsymbol{x}_i)\n",
    "}{\n",
    "(t_{i+1} - t_i)(t_{i+1} - t_{i-1})\n",
    "} \\\\\n",
    "&=\n",
    "\\frac{\n",
    "\\Delta_i (\\boldsymbol{x}_i - \\boldsymbol{x}_{i-1})\n",
    "}{\n",
    "\\Delta_{i-1} (\\Delta_i + \\Delta_{i-1})\n",
    "}\n",
    "+\n",
    "\\frac{\n",
    "\\Delta_{i-1} (\\boldsymbol{x}_{i+1} - \\boldsymbol{x}_i)\n",
    "}{\n",
    "\\Delta_i (\\Delta_i + \\Delta_{i-1})\n",
    "}\n",
    "\\end{align*}"
   ]
  },
  {
   "cell_type": "markdown",
   "metadata": {},
   "source": [
    "An alternative (but very similar) way to derive these tangent vectors\n",
    "is shown in the\n",
    "[notebook about the Barry--Goldman algorithm](catmull-rom-barry-goldman.ipynb#Tangent-Vectors)."
   ]
  },
  {
   "cell_type": "markdown",
   "metadata": {},
   "source": [
    "And there is yet another way to calculate the tangents,\n",
    "without even needing to obtain a *cubic* polynomial and its derivative:\n",
    "Since we are using a linear blend of two *quadratic* polynomials,\n",
    "we know that at the beginning ($t = t_4$)\n",
    "only the first quadratic polynomial has an influence\n",
    "and at the end ($t = t_5$) only the second quadratic polynomial is relevant.\n",
    "Therefore, to determine the tangent vector at the beginning of the segment,\n",
    "it is sufficient to get the derivative of the first quadratic polynomial."
   ]
  },
  {
   "cell_type": "code",
   "execution_count": null,
   "metadata": {},
   "outputs": [],
   "source": [
    "first_quadratic = neville([x3, x4, x5], [t3, t4, t5], t)"
   ]
  },
  {
   "cell_type": "code",
   "execution_count": null,
   "metadata": {},
   "outputs": [],
   "source": [
    "sp.degree(first_quadratic, t)"
   ]
  },
  {
   "cell_type": "code",
   "execution_count": null,
   "metadata": {},
   "outputs": [],
   "source": [
    "first_quadratic.diff(t).subs(t, t4)"
   ]
  },
  {
   "cell_type": "markdown",
   "metadata": {},
   "source": [
    "This can be written as\n",
    "(which is sometimes called the\n",
    "*standard three-point difference formula*):\n",
    "\n",
    "\\begin{equation*}\n",
    "\\boldsymbol{\\dot{x}}_i =\n",
    "\\frac{\n",
    "\\Delta_i \\boldsymbol{v}_{i-1} + \\Delta_{i-1} \\boldsymbol{v}_i\n",
    "}{\n",
    "\\Delta_{i-1} + \\Delta_i\n",
    "},\n",
    "\\end{equation*}\n",
    "\n",
    "with $\\Delta_i = t_{i+1} - t_i$ and\n",
    "$\\boldsymbol{v}_i = \\frac{\\boldsymbol{x}_{i+1} - \\boldsymbol{x}_i}{\\Delta_i}$."
   ]
  },
  {
   "cell_type": "markdown",
   "metadata": {},
   "source": [
    "<cite data-cite-t=\"de_boor1978splines\">Boor (1978)</cite>\n",
    "calls this *piecewise cubic Bessel interpolation*,\n",
    "and it has also been called\n",
    "*Bessel tangent method*,\n",
    "*Overhauser method* and\n",
    "*Bessel--Overhauser splines*."
   ]
  },
  {
   "cell_type": "markdown",
   "metadata": {},
   "source": [
    "<div class=\"alert alert-info\">\n",
    "\n",
    "Note\n",
    "\n",
    "Even though this formula\n",
    "is commonly associated with the name *Overhauser*,\n",
    "it does *not* describe the tangents of *Overhauser splines*\n",
    "as presented by\n",
    "<cite data-cite-t=\"overhauser1968parabolic\">Overhauser (1968)</cite>.\n",
    "\n",
    "</div>"
   ]
  },
  {
   "cell_type": "markdown",
   "metadata": {},
   "source": [
    "Long story short, it's the same as we had above:"
   ]
  },
  {
   "cell_type": "code",
   "execution_count": null,
   "metadata": {},
   "outputs": [],
   "source": [
    "assert sp.simplify(_ - start_tangent.expr) == 0"
   ]
  },
  {
   "cell_type": "markdown",
   "metadata": {},
   "source": [
    "The first derivative of the second quadratic polynomial\n",
    "can be used to get the tangent vector at the end of the segment."
   ]
  },
  {
   "cell_type": "code",
   "execution_count": null,
   "metadata": {},
   "outputs": [],
   "source": [
    "second_quadratic = neville([x4, x5, x6], [t4, t5, t6], t)\n",
    "second_quadratic.diff(t).subs(t, t5)"
   ]
  },
  {
   "cell_type": "code",
   "execution_count": null,
   "metadata": {},
   "outputs": [],
   "source": [
    "assert sp.simplify(_ - end_tangent.expr) == 0"
   ]
  },
  {
   "cell_type": "markdown",
   "metadata": {},
   "source": [
    "You might encounter yet another way\n",
    "to write the equation for $\\boldsymbol{\\dot{x}}_4$\n",
    "(e.g. at https://stackoverflow.com/a/23980479/) ..."
   ]
  },
  {
   "cell_type": "code",
   "execution_count": null,
   "metadata": {},
   "outputs": [],
   "source": [
    "(x4 - x3) / (t4 - t3) - (x5 - x3) / (t5 - t3) + (x5 - x4) / (t5 - t4)"
   ]
  },
  {
   "cell_type": "markdown",
   "metadata": {},
   "source": [
    "... but again, this is equivalent to the equation shown above:"
   ]
  },
  {
   "cell_type": "code",
   "execution_count": null,
   "metadata": {},
   "outputs": [],
   "source": [
    "assert sp.simplify(_ - start_tangent.expr) == 0"
   ]
  },
  {
   "cell_type": "markdown",
   "metadata": {},
   "source": [
    "## Using Non-Uniform Bézier Segments\n",
    "\n",
    "Similar to [the uniform case](catmull-rom-uniform.ipynb#Using-Bézier-Segments),\n",
    "the above equation for the tangent vectors can be used to construct\n",
    "non-uniform [Hermite splines](hermite.ipynb) or,\n",
    "after multiplying them with the appropriate parameter interval\n",
    "and dividing them by 3,\n",
    "to obtain the two additional control points for\n",
    "[non-uniform cubic Bézier spline segments](bezier-non-uniform.ipynb#Control-Points-From-Tangent-Vectors):\n",
    "\n",
    "\\begin{align*}\n",
    "\\boldsymbol{\\tilde{x}}_i^{(+)}\n",
    "&= \\boldsymbol{x}_i + \\frac{\\Delta_i \\boldsymbol{\\dot{x}}_i}{3} \\\\\n",
    "&=\n",
    "\\boldsymbol{x}_i\n",
    "+\n",
    "\\frac{\\Delta_i}{3}\n",
    "\\frac{\n",
    "\\Delta_i \\boldsymbol{v}_{i-1} + \\Delta_{i-1} \\boldsymbol{v}_i\n",
    "}{\n",
    "\\Delta_{i-1} + \\Delta_i\n",
    "} \\\\\n",
    "&= \\boldsymbol{x}_i + \\frac{\n",
    "{\\Delta_i}^2 (\\boldsymbol{x}_i - \\boldsymbol{x}_{i-1})\n",
    "}{\n",
    "3 \\Delta_{i-1} (\\Delta_i + \\Delta_{i-1})\n",
    "}\n",
    "+\n",
    "\\frac{\n",
    "\\Delta_{i-1} (\\boldsymbol{x}_{i+1} - \\boldsymbol{x}_i)\n",
    "}{\n",
    "3 (\\Delta_i + \\Delta_{i-1})\n",
    "}\n",
    "\\\\\n",
    "\\boldsymbol{\\tilde{x}}_i^{(-)}\n",
    "&= \\boldsymbol{x}_i - \\frac{\\Delta_{i-1} \\boldsymbol{\\dot{x}}_i}{3} \\\\\n",
    "&=\n",
    "\\boldsymbol{x}_i\n",
    "-\n",
    "\\frac{\\Delta_{i-1}}{3}\n",
    "\\frac{\n",
    "\\Delta_i \\boldsymbol{v}_{i-1} + \\Delta_{i-1} \\boldsymbol{v}_i\n",
    "}{\n",
    "\\Delta_{i-1} + \\Delta_i\n",
    "} \\\\\n",
    "&= \\boldsymbol{x}_i - \\frac{\n",
    "\\Delta_i (\\boldsymbol{x}_i - \\boldsymbol{x}_{i-1})\n",
    "}{\n",
    "3 (\\Delta_i + \\Delta_{i-1})\n",
    "}\n",
    "-\n",
    "\\frac{\n",
    "{\\Delta_{i-1}}^2 (\\boldsymbol{x}_{i+1} - \\boldsymbol{x}_i)\n",
    "}{\n",
    "3 \\Delta_i (\\Delta_i + \\Delta_{i-1})\n",
    "}\n",
    "\\end{align*}"
   ]
  },
  {
   "cell_type": "markdown",
   "metadata": {},
   "source": [
    "This is again using $\\Delta_i = t_{i+1} - t_i$ and\n",
    "$\\boldsymbol{v}_i = \\frac{\\boldsymbol{x}_{i+1} - \\boldsymbol{x}_i}{\\Delta_i}$."
   ]
  },
  {
   "cell_type": "code",
   "execution_count": null,
   "metadata": {},
   "outputs": [],
   "source": [
    "x4tilde = x4 + (t5 - t4) * start_tangent.expr / 3"
   ]
  },
  {
   "cell_type": "code",
   "execution_count": null,
   "metadata": {},
   "outputs": [],
   "source": [
    "x5tilde = x5 - (t5 - t4) * end_tangent.expr / 3"
   ]
  },
  {
   "cell_type": "markdown",
   "metadata": {},
   "source": [
    "## Using Non-Uniform Quadrangle Interpolation\n",
    "\n",
    "Just like in [the uniform case](catmull-rom-uniform.ipynb#Using-Quadrangle-Interpolation),\n",
    "we calculate the quadrangle points\n",
    "from the Bézier control points,\n",
    "as shown in the\n",
    "[notebook about quadrangle interpolation](quadrangle.ipynb):\n",
    "\n",
    "\\begin{align*}\n",
    "\\boldsymbol{\\bar{x}}_i^{(+)} &=\n",
    "\\frac{3}{2} \\boldsymbol{\\tilde{x}}_i^{(+)} -\n",
    "\\frac{1}{2} \\boldsymbol{x}_{i+1}\\\\\n",
    "\\boldsymbol{\\bar{x}}_i^{(-)} &=\n",
    "\\frac{3}{2} \\boldsymbol{\\tilde{x}}_i^{(-)} -\n",
    "\\frac{1}{2} \\boldsymbol{x}_{i-1}\n",
    "\\end{align*}"
   ]
  },
  {
   "cell_type": "code",
   "execution_count": null,
   "metadata": {},
   "outputs": [],
   "source": [
    "x4bar = 3 * x4tilde / 2 - x5 / 2"
   ]
  },
  {
   "cell_type": "code",
   "execution_count": null,
   "metadata": {},
   "outputs": [],
   "source": [
    "terms4 = sp.collect(x4bar.expand(), [x3, x4, x5], evaluate=False)"
   ]
  },
  {
   "cell_type": "markdown",
   "metadata": {},
   "source": [
    "Some manual rewriting leads to this expression:"
   ]
  },
  {
   "cell_type": "code",
   "execution_count": null,
   "metadata": {},
   "outputs": [],
   "source": [
    "sp.factor(terms4[x4] + terms4[x5] + terms4[x3]) * x4 - (\n",
    "    sp.factor(-terms4[x5]) * (x5 - x4) +\n",
    "    sp.factor(-terms4[x3]) * (x3 - x4))"
   ]
  },
  {
   "cell_type": "markdown",
   "metadata": {},
   "source": [
    "We should make sure that our re-written expression\n",
    "is actually the same as the one we started from:"
   ]
  },
  {
   "cell_type": "code",
   "execution_count": null,
   "metadata": {},
   "outputs": [],
   "source": [
    "assert sp.simplify(_ - x4bar) == 0"
   ]
  },
  {
   "cell_type": "markdown",
   "metadata": {},
   "source": [
    "Now the same for the incoming quadrangle point:"
   ]
  },
  {
   "cell_type": "code",
   "execution_count": null,
   "metadata": {},
   "outputs": [],
   "source": [
    "x5bar = 3 * x5tilde / 2 - x4 / 2"
   ]
  },
  {
   "cell_type": "code",
   "execution_count": null,
   "metadata": {},
   "outputs": [],
   "source": [
    "terms5 = sp.collect(x5bar.expand(), [x4, x5, x6], evaluate=False)"
   ]
  },
  {
   "cell_type": "code",
   "execution_count": null,
   "metadata": {},
   "outputs": [],
   "source": [
    "sp.factor(terms5[x5] + terms5[x6] + terms5[x4]) * x5 - (\n",
    "    sp.factor(-terms5[x6]) * (x6 - x5) +\n",
    "    sp.factor(-terms5[x4]) * (x4 - x5))"
   ]
  },
  {
   "cell_type": "code",
   "execution_count": null,
   "metadata": {},
   "outputs": [],
   "source": [
    "assert sp.simplify(_ - x5bar) == 0"
   ]
  },
  {
   "cell_type": "markdown",
   "metadata": {},
   "source": [
    "The above expressions can be generalized to\n",
    "(as always with $\\Delta_i = t_{i+1} - t_i$):\n",
    "\n",
    "\\begin{align*}\n",
    "\\boldsymbol{\\bar{x}}_i^{(+)} &=\n",
    "\\boldsymbol{x}_i -\n",
    "\\frac{\\Delta_i}{2 (\\Delta_{i-1} + \\Delta_i)}\n",
    "\\left(\n",
    "(\\boldsymbol{x}_{i+1} - \\boldsymbol{x}_i)\n",
    "+\n",
    "\\frac{\\Delta_i}{\\Delta_{i-1}} (\\boldsymbol{x}_{i-1} - \\boldsymbol{x}_i)\n",
    "\\right)\\\\\n",
    "\\boldsymbol{\\bar{x}}_i^{(-)} &=\n",
    "\\boldsymbol{x}_i -\n",
    "\\frac{\\Delta_{i-1}}{2 (\\Delta_{i-1} + \\Delta_i)}\n",
    "\\left(\n",
    "\\frac{\\Delta_{i-1}}{\\Delta_i} (\\boldsymbol{x}_{i+1} - \\boldsymbol{x}_i)\n",
    "+\n",
    "(\\boldsymbol{x}_{i-1} - \\boldsymbol{x}_i)\n",
    "\\right)\n",
    "\\end{align*}"
   ]
  },
  {
   "cell_type": "markdown",
   "metadata": {
    "tags": []
   },
   "source": [
    "## Animation\n",
    "\n",
    "To illustrate what two quadratic Lagrange interpolations\n",
    "followed by linear blending\n",
    "might look like,\n",
    "we can generate an animation\n",
    "by means of the file [catmull_rom.py](catmull_rom.py),\n",
    "with some help from [helper.py](helper.py):"
   ]
  },
  {
   "cell_type": "code",
   "execution_count": null,
   "metadata": {},
   "outputs": [],
   "source": [
    "from catmull_rom import animation_2_1, animation_1_2\n",
    "from helper import show_animation"
   ]
  },
  {
   "cell_type": "code",
   "execution_count": null,
   "metadata": {},
   "outputs": [],
   "source": [
    "vertices = [\n",
    "    (1, 0),\n",
    "    (0.5, 1),\n",
    "    (6, 2),\n",
    "    (5, 0),\n",
    "]"
   ]
  },
  {
   "cell_type": "code",
   "execution_count": null,
   "metadata": {},
   "outputs": [],
   "source": [
    "times = [\n",
    "    0,\n",
    "    1,\n",
    "    6,\n",
    "    8,\n",
    "]"
   ]
  },
  {
   "cell_type": "code",
   "execution_count": null,
   "metadata": {},
   "outputs": [],
   "source": [
    "show_animation(animation_2_1(vertices, times))"
   ]
  },
  {
   "cell_type": "markdown",
   "metadata": {},
   "source": [
    "In the beginning of this notebook,\n",
    "we claimed that two quadratic interpolations\n",
    "followed by linear blending are easier to understand.\n",
    "To prove this, let's have a look at what\n",
    "three linear interpolations (and *extra*polations)\n",
    "followed by quadratic B-spline blending would look like:"
   ]
  },
  {
   "cell_type": "code",
   "execution_count": null,
   "metadata": {},
   "outputs": [],
   "source": [
    "show_animation(animation_1_2(vertices, times))"
   ]
  },
  {
   "cell_type": "markdown",
   "metadata": {},
   "source": [
    "Would you agree that this is less straightforward?\n",
    "\n",
    "If you would rather replace the quadratic B-spline basis function\n",
    "with a bunch of linear interpolations (using De Boor's algorithm),\n",
    "take a look at\n",
    "[the notebook about the Barry--Goldman algorithm](catmull-rom-barry-goldman.ipynb#Animation)."
   ]
  }
 ],
 "metadata": {
  "kernelspec": {
   "display_name": "Python 3 (ipykernel)",
   "language": "python",
   "name": "python3"
  },
  "language_info": {
   "codemirror_mode": {
    "name": "ipython",
    "version": 3
   },
   "file_extension": ".py",
   "mimetype": "text/x-python",
   "name": "python",
   "nbconvert_exporter": "python",
   "pygments_lexer": "ipython3",
   "version": "3.11.2"
  }
 },
 "nbformat": 4,
 "nbformat_minor": 4
}
