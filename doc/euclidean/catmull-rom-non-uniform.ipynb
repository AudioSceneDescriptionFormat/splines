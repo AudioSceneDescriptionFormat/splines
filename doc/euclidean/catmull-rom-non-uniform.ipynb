{
 "cells": [
  {
   "cell_type": "markdown",
   "metadata": {
    "nbsphinx": "hidden"
   },
   "source": [
    "This notebook is part of https://github.com/AudioSceneDescriptionFormat/splines, see also https://splines.readthedocs.io/.\n",
    "\n",
    "[back to overview](catmull-rom.ipynb)"
   ]
  },
  {
   "cell_type": "markdown",
   "metadata": {},
   "source": [
    "# Derivation of Non-Uniform Catmull--Rom Splines"
   ]
  },
  {
   "cell_type": "markdown",
   "metadata": {},
   "source": [
    "Multi-stage algorithm developed by\n",
    "<cite data-cite=\"barry1988recursive\">Barry and Goldman (1988)</cite>,\n",
    "according to\n",
    "<cite data-cite=\"yuksel2011parameterization\">Yuksel et al. (2011)</cite>, figure 3,\n",
    "which looks somewhat like this (but we shifted the indices by $+3$):"
   ]
  },
  {
   "cell_type": "markdown",
   "metadata": {},
   "source": [
    "\\begin{equation*}\n",
    "\\def\\negspace{\\!\\!\\!\\!\\!\\!}\n",
    "\\begin{array}{ccccccccccccc}\n",
    "&&&&&&\n",
    "\\boldsymbol{p}_{3,4,5,6}\n",
    "&&&&&&\n",
    "\\\\\n",
    "&&&&&\n",
    "\\negspace \\frac{t_5 - t}{t_5 - t_4} \\negspace\n",
    "&&\n",
    "\\negspace \\frac{t - t_4}{t_5 - t_4} \\negspace\n",
    "&&&&&\n",
    "\\\\\n",
    "&&&& \\boldsymbol{p}_{3,4,5} &&&& \\boldsymbol{p}_{4,5,6} &&&&\n",
    "\\\\\n",
    "&&\n",
    "& \\negspace \\frac{t_5 - t}{t_5 - t_3} \\negspace && \\negspace \\frac{t - t_3}{t_5 - t_3} \\negspace &\n",
    "& \\negspace \\frac{t_6 - t}{t_6 - t_4} \\negspace && \\negspace \\frac{t - t_4}{t_6 - t_4} \\negspace &\n",
    "&&\n",
    "\\\\\n",
    "&& \\boldsymbol{p}_{3,4} &&&& \\boldsymbol{p}_{4,5} &&&& \\boldsymbol{p}_{5,6} &&\n",
    "\\\\\n",
    "& \\negspace \\frac{t_4 - t}{t_4 - t_3} \\negspace && \\negspace \\frac{t - t_3}{t_4 - t_3} \\negspace &\n",
    "& \\negspace \\frac{t_5 - t}{t_5 - t_4} \\negspace && \\negspace \\frac{t - t_4}{t_5 - t_4} \\negspace &\n",
    "& \\negspace \\frac{t_6 - t}{t_6 - t_5} \\negspace && \\negspace \\frac{t - t_5}{t_6 - t_5} \\negspace &\n",
    "\\\\\n",
    "\\boldsymbol{x}_3 &&&& \\boldsymbol{x}_4 &&&& \\boldsymbol{x}_5 &&&& \\boldsymbol{x}_6\n",
    "\\end{array}\n",
    "\\end{equation*}"
   ]
  },
  {
   "cell_type": "markdown",
   "metadata": {},
   "source": [
    "Here we are considering the fifth spline segment\n",
    "$\\boldsymbol{p}_{3,4,5,6}(t)$\n",
    "(represented at the tip of the triangle)\n",
    "from\n",
    "$\\boldsymbol{x}_4$ to\n",
    "$\\boldsymbol{x}_5$\n",
    "(to be found at the base of the triangle)\n",
    "which corresponds to\n",
    "the parameter range $t_4 \\le t \\le t_5$.\n",
    "To calculate the values in this segment,\n",
    "we also need to know the preceding control point $\\boldsymbol{x}_3$\n",
    "(at the bottom left)\n",
    "and the following control point $\\boldsymbol{x}_6$\n",
    "(at the bottom right).\n",
    "But not only their positions are relevant,\n",
    "we also need the corresponding parameter values\n",
    "$t_3$ and $t_6$, respectively."
   ]
  },
  {
   "cell_type": "markdown",
   "metadata": {},
   "source": [
    "## Preparations\n",
    "\n",
    "Let's import [SymPy](https://www.sympy.org/)\n",
    "and define the symbols we need:"
   ]
  },
  {
   "cell_type": "code",
   "execution_count": null,
   "metadata": {},
   "outputs": [],
   "source": [
    "import sympy as sp\n",
    "sp.init_printing()"
   ]
  },
  {
   "cell_type": "code",
   "execution_count": null,
   "metadata": {},
   "outputs": [],
   "source": [
    "x3, x4, x5, x6 = sp.symbols('xbm3:7')"
   ]
  },
  {
   "cell_type": "code",
   "execution_count": null,
   "metadata": {},
   "outputs": [],
   "source": [
    "t, t3, t4, t5, t6 = sp.symbols('t t3:7')"
   ]
  },
  {
   "cell_type": "markdown",
   "metadata": {},
   "source": [
    "We also use some custom SymPy tools from [utility.py](utility.py):"
   ]
  },
  {
   "cell_type": "code",
   "execution_count": null,
   "metadata": {},
   "outputs": [],
   "source": [
    "from utility import NamedExpression, NamedMatrix"
   ]
  },
  {
   "cell_type": "markdown",
   "metadata": {},
   "source": [
    "The triangular figure above looks more complicated than it really is.\n",
    "It's just a bunch of linear *inter*polations and *extra*polations.\n",
    "Since we'll need several of those,\n",
    "let's define a helper function:"
   ]
  },
  {
   "cell_type": "code",
   "execution_count": null,
   "metadata": {},
   "outputs": [],
   "source": [
    "def lerp(xs, ts):\n",
    "    \"\"\"Linear interpolation.\n",
    "    \n",
    "    Between the two points given by *xs* in the time span given by *ts*.\n",
    "    \n",
    "    \"\"\"\n",
    "    x_begin, x_end = xs\n",
    "    t_begin, t_end = ts\n",
    "    return (x_begin * (t_end - t) + x_end * (t - t_begin)) / (t_end - t_begin)"
   ]
  },
  {
   "cell_type": "markdown",
   "metadata": {},
   "source": [
    "Let's go through the figure above, piece by piece.\n",
    "\n",
    "## First Stage\n",
    "\n",
    "In the center of the bottom row,\n",
    "there is a straightforward linear interpolation\n",
    "from $\\boldsymbol{x}_4$ to $\\boldsymbol{x}_5$\n",
    "within the interval from $t_4$ to $t_5$."
   ]
  },
  {
   "cell_type": "code",
   "execution_count": null,
   "metadata": {},
   "outputs": [],
   "source": [
    "p45 = NamedExpression('pbm_4,5', lerp((x4, x5), (t4, t5)))\n",
    "p45"
   ]
  },
  {
   "cell_type": "markdown",
   "metadata": {},
   "source": [
    "Obviously, this starts at:"
   ]
  },
  {
   "cell_type": "code",
   "execution_count": null,
   "metadata": {},
   "outputs": [],
   "source": [
    "p45.evaluated_at(t, t4)"
   ]
  },
  {
   "cell_type": "markdown",
   "metadata": {},
   "source": [
    "... and ends at:"
   ]
  },
  {
   "cell_type": "code",
   "execution_count": null,
   "metadata": {},
   "outputs": [],
   "source": [
    "p45.evaluated_at(t, t5)"
   ]
  },
  {
   "cell_type": "markdown",
   "metadata": {},
   "source": [
    "The bottom left of the triangle looks very similar,\n",
    "with a linear interpolation\n",
    "from $\\boldsymbol{x}_3$ to $\\boldsymbol{x}_4$\n",
    "within the interval from $t_3$ to $t_4$."
   ]
  },
  {
   "cell_type": "code",
   "execution_count": null,
   "metadata": {},
   "outputs": [],
   "source": [
    "p34 = NamedExpression('pbm_3,4', lerp((x3, x4), (t3, t4)))\n",
    "p34"
   ]
  },
  {
   "cell_type": "markdown",
   "metadata": {},
   "source": [
    "However, that's not the parameter range we are interested in!\n",
    "We are interested in the range from $t_4$ to $t_5$.\n",
    "Therefore, this is not actually an *inter*polation between\n",
    "$\\boldsymbol{x}_3$ and $\\boldsymbol{x}_4$,\n",
    "but rather a linear *extra*polation starting at $\\boldsymbol{x}_4$ ..."
   ]
  },
  {
   "cell_type": "code",
   "execution_count": null,
   "metadata": {},
   "outputs": [],
   "source": [
    "p34.evaluated_at(t, t4)"
   ]
  },
  {
   "cell_type": "markdown",
   "metadata": {},
   "source": [
    "... and ending at some extrapolated point beyond $\\boldsymbol{x}_4$:"
   ]
  },
  {
   "cell_type": "code",
   "execution_count": null,
   "metadata": {},
   "outputs": [],
   "source": [
    "p34.evaluated_at(t, t5)"
   ]
  },
  {
   "cell_type": "markdown",
   "metadata": {},
   "source": [
    "Similarly, at the bottom right of the triangle\n",
    "there isn't a linear *inter*polation\n",
    "from $\\boldsymbol{x}_5$ to $\\boldsymbol{x}_6$,\n",
    "but rather a linear *extra*polation that just reaches\n",
    "$\\boldsymbol{x}_5$ at the end of the parameter interval\n",
    "(i.e. at $t=t_5$)."
   ]
  },
  {
   "cell_type": "code",
   "execution_count": null,
   "metadata": {},
   "outputs": [],
   "source": [
    "p56 = NamedExpression('pbm_5,6', lerp((x5, x6), (t5, t6)))\n",
    "p56"
   ]
  },
  {
   "cell_type": "code",
   "execution_count": null,
   "metadata": {},
   "outputs": [],
   "source": [
    "p56.evaluated_at(t, t4)"
   ]
  },
  {
   "cell_type": "code",
   "execution_count": null,
   "metadata": {},
   "outputs": [],
   "source": [
    "p56.evaluated_at(t, t5)"
   ]
  },
  {
   "cell_type": "markdown",
   "metadata": {},
   "source": [
    "## Second Stage\n",
    "\n",
    "The second stage of the algorithm\n",
    "involves linear interpolations of the results of the previous stage."
   ]
  },
  {
   "cell_type": "code",
   "execution_count": null,
   "metadata": {},
   "outputs": [],
   "source": [
    "p345 = NamedExpression('pbm_3,4,5', lerp((p34.name, p45.name), (t3, t5)))\n",
    "p345"
   ]
  },
  {
   "cell_type": "code",
   "execution_count": null,
   "metadata": {},
   "outputs": [],
   "source": [
    "p456 = NamedExpression('pbm_4,5,6', lerp((p45.name, p56.name), (t4, t6)))\n",
    "p456"
   ]
  },
  {
   "cell_type": "markdown",
   "metadata": {},
   "source": [
    "Those interpolations are defined over a parameter range\n",
    "from $t_3$ to $t_5$ and\n",
    "from $t_4$ to $t_6$, respectively.\n",
    "In each case, we are only interested in a sub-range,\n",
    "namely from $t_4$ to $t_5$.\n",
    "\n",
    "These are the start and end points at $t_4$ and $t_5$:"
   ]
  },
  {
   "cell_type": "code",
   "execution_count": null,
   "metadata": {},
   "outputs": [],
   "source": [
    "p345.evaluated_at(t, t4, symbols=[p34, p45])"
   ]
  },
  {
   "cell_type": "code",
   "execution_count": null,
   "metadata": {},
   "outputs": [],
   "source": [
    "p345.evaluated_at(t, t5, symbols=[p34, p45])"
   ]
  },
  {
   "cell_type": "code",
   "execution_count": null,
   "metadata": {},
   "outputs": [],
   "source": [
    "p456.evaluated_at(t, t4, symbols=[p45, p56])"
   ]
  },
  {
   "cell_type": "code",
   "execution_count": null,
   "metadata": {},
   "outputs": [],
   "source": [
    "p456.evaluated_at(t, t5, symbols=[p45, p56])"
   ]
  },
  {
   "cell_type": "markdown",
   "metadata": {},
   "source": [
    "## Third Stage\n",
    "\n",
    "The last step is quite simple:"
   ]
  },
  {
   "cell_type": "code",
   "execution_count": null,
   "metadata": {},
   "outputs": [],
   "source": [
    "p3456 = NamedExpression('pbm_3,4,5,6', lerp((p345.name, p456.name), (t4, t5)))\n",
    "p3456"
   ]
  },
  {
   "cell_type": "markdown",
   "metadata": {},
   "source": [
    "This time, the interpolation interval is exactly the one we care about.\n",
    "\n",
    "To get the final result, we just have to combine all the above expressions:"
   ]
  },
  {
   "cell_type": "code",
   "execution_count": null,
   "metadata": {},
   "outputs": [],
   "source": [
    "p3456 = p3456.subs_symbols(p345, p456, p34, p45, p56).simplify()\n",
    "p3456"
   ]
  },
  {
   "cell_type": "markdown",
   "metadata": {},
   "source": [
    "We can make this marginally shorter\n",
    "if we rewrite the segment durations as\n",
    "$\\Delta_i = t_{i+1} - t_i$:"
   ]
  },
  {
   "cell_type": "code",
   "execution_count": null,
   "metadata": {},
   "outputs": [],
   "source": [
    "deltas = {\n",
    "    t4 - t3: sp.Symbol('Delta3'),\n",
    "    t5 - t4: sp.Symbol('Delta4'),\n",
    "    t6 - t5: sp.Symbol('Delta5'),\n",
    "    t5 - t3: sp.Symbol('Delta3') + sp.Symbol('Delta4'),\n",
    "    t6 - t4: sp.Symbol('Delta4') + sp.Symbol('Delta5'),\n",
    "    t6 - t3: sp.Symbol('Delta3') + sp.Symbol('Delta4') + sp.Symbol('Delta5'),\n",
    "    # A few special cases that SymPy has a hard time resolving:\n",
    "    t4 + t4 - t3: t4 + sp.Symbol('Delta3'),\n",
    "    t6 + t6 - t3: t6 + sp.Symbol('Delta3') + sp.Symbol('Delta4') + sp.Symbol('Delta5'),\n",
    "}"
   ]
  },
  {
   "cell_type": "code",
   "execution_count": null,
   "metadata": {},
   "outputs": [],
   "source": [
    "p3456.subs(deltas)"
   ]
  },
  {
   "cell_type": "markdown",
   "metadata": {},
   "source": [
    "## Basis Matrix\n",
    "\n",
    "We already have the correct result,\n",
    "but if we want to derive our *basis matrix*,\n",
    "we have to re-scale this a bit.\n",
    "The parameter is supposed to go from $0$ to $1$\n",
    "instead of from $t_4$ to $t_5$:"
   ]
  },
  {
   "cell_type": "code",
   "execution_count": null,
   "metadata": {},
   "outputs": [],
   "source": [
    "p3456_normalized = p3456.expr.subs(t, t * (t5 - t4) + t4)"
   ]
  },
  {
   "cell_type": "code",
   "execution_count": null,
   "metadata": {},
   "outputs": [],
   "source": [
    "M_CR = NamedMatrix(\n",
    "    r'{M_\\text{CR}}',\n",
    "    sp.Matrix([[c.expand().coeff(x).factor() for x in (x3, x4, x5, x6)]\n",
    "               for c in p3456_normalized.as_poly(t).all_coeffs()]))\n",
    "M_CR.subs(deltas)"
   ]
  },
  {
   "cell_type": "markdown",
   "metadata": {},
   "source": [
    "And just to make sure that is consistent with the result\n",
    "from [uniform Catmull--Rom splines](catmull-rom-uniform.ipynb),\n",
    "let's set all $\\Delta_i$ to $1$:"
   ]
  },
  {
   "cell_type": "code",
   "execution_count": null,
   "metadata": {},
   "outputs": [],
   "source": [
    "uniform = [\n",
    "    (t3, 3),\n",
    "    (t4, 4),\n",
    "    (t5, 5),\n",
    "    (t6, 6),\n",
    "]"
   ]
  },
  {
   "cell_type": "code",
   "execution_count": null,
   "metadata": {},
   "outputs": [],
   "source": [
    "M_CR_uniform = NamedMatrix(\n",
    "    r'{M_\\text{CR,uniform}}',\n",
    "    M_CR.expr.subs(uniform))"
   ]
  },
  {
   "cell_type": "code",
   "execution_count": null,
   "metadata": {},
   "outputs": [],
   "source": [
    "M_CR_uniform.pull_out(sp.S.Half)"
   ]
  },
  {
   "cell_type": "markdown",
   "metadata": {},
   "source": [
    "## Tangents\n",
    "\n",
    "To get the tangents at $t_4$ and $t_5$,\n",
    "we just have to differentiate:"
   ]
  },
  {
   "cell_type": "code",
   "execution_count": null,
   "metadata": {},
   "outputs": [],
   "source": [
    "pd3456 = p3456.diff(t)"
   ]
  },
  {
   "cell_type": "code",
   "execution_count": null,
   "metadata": {},
   "outputs": [],
   "source": [
    "start_tangent = pd3456.evaluated_at(t, t4)\n",
    "start_tangent.subs(deltas).simplify()"
   ]
  },
  {
   "cell_type": "code",
   "execution_count": null,
   "metadata": {},
   "outputs": [],
   "source": [
    "end_tangent = pd3456.evaluated_at(t, t5)\n",
    "end_tangent.subs(deltas).simplify()"
   ]
  },
  {
   "cell_type": "markdown",
   "metadata": {},
   "source": [
    "both tangents lead to the same general expression:\n",
    "\n",
    "\\begin{equation*}\n",
    "\\boldsymbol{\\dot{x}}_i =\n",
    "\\frac{\n",
    "(t_{i+1} - t_i)^2 (\\boldsymbol{x}_i - \\boldsymbol{x}_{i-1}) +\n",
    "(t_i - t_{i-1})^2 (\\boldsymbol{x}_{i+1} - \\boldsymbol{x}_i)\n",
    "}{\n",
    "(t_{i+1} - t_i)(t_i - t_{i-1})(t_{i+1} - t_{i-1})\n",
    "}\n",
    "\\end{equation*}"
   ]
  },
  {
   "cell_type": "markdown",
   "metadata": {},
   "source": [
    "You might encounter another way to write the equation for $\\boldsymbol{\\dot{x}}_0$\n",
    "(e.g. at https://stackoverflow.com/a/23980479/):"
   ]
  },
  {
   "cell_type": "code",
   "execution_count": null,
   "metadata": {},
   "outputs": [],
   "source": [
    "(x4 - x3) / (t4 - t3) - (x5 - x3) / (t5 - t3) + (x5 - x4) / (t5 - t4)"
   ]
  },
  {
   "cell_type": "markdown",
   "metadata": {},
   "source": [
    "... but this is equivalent to the equation shown above:"
   ]
  },
  {
   "cell_type": "code",
   "execution_count": null,
   "metadata": {},
   "outputs": [],
   "source": [
    "sp.simplify(_ - start_tangent.expr)"
   ]
  },
  {
   "cell_type": "markdown",
   "metadata": {},
   "source": [
    "Yet another way to skin this cat -- sometimes referred to as Bessel--Overhauser -- is to define the velocity of the left and right chords:"
   ]
  },
  {
   "cell_type": "code",
   "execution_count": null,
   "metadata": {},
   "outputs": [],
   "source": [
    "v_left = (x4 - x3) / (t4 - t3)\n",
    "v_right = (x5 - x4) / (t5 - t4)"
   ]
  },
  {
   "cell_type": "markdown",
   "metadata": {},
   "source": [
    "... and then combine them in this way:"
   ]
  },
  {
   "cell_type": "code",
   "execution_count": null,
   "metadata": {},
   "outputs": [],
   "source": [
    "((t5 - t4) * v_left + (t4 - t3) * v_right) / (t5 - t3)"
   ]
  },
  {
   "cell_type": "markdown",
   "metadata": {},
   "source": [
    "Again, that's the same as we had above:"
   ]
  },
  {
   "cell_type": "code",
   "execution_count": null,
   "metadata": {},
   "outputs": [],
   "source": [
    "sp.simplify(_ - start_tangent.expr)"
   ]
  },
  {
   "cell_type": "markdown",
   "metadata": {},
   "source": [
    "## Animation\n",
    "\n",
    "The linear interpolations (and *extra*polations) of this algorithm\n",
    "can be shown graphically.\n",
    "\n",
    "By means of the file [barry_goldman.py](barry_goldman.py),\n",
    "we can generate animations of the algorithm:"
   ]
  },
  {
   "cell_type": "code",
   "execution_count": null,
   "metadata": {},
   "outputs": [],
   "source": [
    "from barry_goldman import animation"
   ]
  },
  {
   "cell_type": "code",
   "execution_count": null,
   "metadata": {},
   "outputs": [],
   "source": [
    "from IPython.display import HTML"
   ]
  },
  {
   "cell_type": "code",
   "execution_count": null,
   "metadata": {},
   "outputs": [],
   "source": [
    "points = [\n",
    "    (0, 0),\n",
    "    (0.5, 1),\n",
    "    (6, 1),\n",
    "    (6.5, 0),\n",
    "]"
   ]
  },
  {
   "cell_type": "code",
   "execution_count": null,
   "metadata": {},
   "outputs": [],
   "source": [
    "times = [\n",
    "    0,\n",
    "    1,\n",
    "    5,\n",
    "    9,\n",
    "]"
   ]
  },
  {
   "cell_type": "code",
   "execution_count": null,
   "metadata": {},
   "outputs": [],
   "source": [
    "ani = animation(points, times)"
   ]
  },
  {
   "cell_type": "code",
   "execution_count": null,
   "metadata": {},
   "outputs": [],
   "source": [
    "HTML(ani.to_jshtml(default_mode='reflect'))"
   ]
  }
 ],
 "metadata": {
  "kernelspec": {
   "display_name": "Python 3",
   "language": "python",
   "name": "python3"
  },
  "language_info": {
   "codemirror_mode": {
    "name": "ipython",
    "version": 3
   },
   "file_extension": ".py",
   "mimetype": "text/x-python",
   "name": "python",
   "nbconvert_exporter": "python",
   "pygments_lexer": "ipython3",
   "version": "3.9.1"
  }
 },
 "nbformat": 4,
 "nbformat_minor": 4
}
