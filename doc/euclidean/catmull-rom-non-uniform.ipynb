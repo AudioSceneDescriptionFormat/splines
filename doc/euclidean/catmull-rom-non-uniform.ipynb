{
 "cells": [
  {
   "cell_type": "markdown",
   "metadata": {
    "nbsphinx": "hidden"
   },
   "source": [
    "This notebook is part of https://github.com/AudioSceneDescriptionFormat/splines, see also https://splines.readthedocs.io/."
   ]
  },
  {
   "cell_type": "markdown",
   "metadata": {},
   "source": [
    "# Derivation of Non-Uniform Catmull--Rom Splines"
   ]
  },
  {
   "cell_type": "markdown",
   "metadata": {},
   "source": [
    "Multi-stage algorithm developed by\n",
    "<cite data-cite=\"barry1988recursive\">Barry and Goldman (1988)</cite>,\n",
    "according to\n",
    "<cite data-cite=\"yuksel2011parameterization\">Yuksel et al. (2011)</cite>, figure 3,\n",
    "which looks somewhat like this (but we shifted the indices by $-1$):"
   ]
  },
  {
   "cell_type": "markdown",
   "metadata": {},
   "source": [
    "\\begin{equation*}\n",
    "\\begin{array}{ccccccccccccc}\n",
    "&&&&&&\n",
    "\\boldsymbol{x}_{0,1}\n",
    "&&&&&&\n",
    "\\\\\n",
    "&&&&&\n",
    "\\frac{t_1 - t}{t_1 - t_0}\n",
    "&&\n",
    "\\frac{t - t_0}{t_1 - t_0}\n",
    "&&&&&\n",
    "\\\\\n",
    "&&&& \\boldsymbol{p}_{-1,0,1} &&&& \\boldsymbol{p}_{0,1,2} &&&&\\\\\n",
    "\\\\\n",
    "&&\n",
    "& \\frac{t_1 - t}{t_1 - t_{-1}} && \\frac{t - t_{-1}}{t_1 - t_{-1}} &\n",
    "& \\frac{t_2 - t}{t_2 - t_0} && \\frac{t - t_0}{t_2 - t_0} &\n",
    "&&\n",
    "\\\\\n",
    "&& \\boldsymbol{p}_{-1,0} &&&& \\boldsymbol{p}_{0,1} &&&& \\boldsymbol{p}_{1,2} &&\n",
    "\\\\\n",
    "& \\frac{t_0 - t}{t_0 - t_{-1}} && \\frac{t - t_{-1}}{t_0 - t_{-1}} &\n",
    "& \\frac{t_1 - t}{t_1 - t_0} && \\frac{t - t_0}{t_1 - t_0} &\n",
    "& \\frac{t_2 - t}{t_2 - t_1} && \\frac{t - t_1}{t_2 - t_1} &\n",
    "\\\\\n",
    "\\boldsymbol{x}_{-1} &&&& \\boldsymbol{x}_0 &&&& \\boldsymbol{x}_1 &&&& \\boldsymbol{x}_2\n",
    "\\end{array}\n",
    "\\end{equation*}"
   ]
  },
  {
   "cell_type": "markdown",
   "metadata": {},
   "source": [
    "Here we are considering the spline segment\n",
    "$\\boldsymbol{x}_{0,1}(t)$\n",
    "from\n",
    "$\\boldsymbol{x}_0$ to\n",
    "$\\boldsymbol{x}_1$ which corresponds to\n",
    "a range of the parameter $t$\n",
    "from $t_0$ to $t_1$ (represented at the tip of the triangle).\n",
    "To calculate the values in this segment,\n",
    "we also need to know the preceding control point $\\boldsymbol{x}_{-1}$\n",
    "(at the bottom left)\n",
    "and the following control point $\\boldsymbol{x}_2$\n",
    "(at the bottom right).\n",
    "But not only their positions are relevant,\n",
    "we also need the corresponding parameter values\n",
    "$t_{-1}$ and $t_2$, respectively."
   ]
  },
  {
   "cell_type": "markdown",
   "metadata": {},
   "source": [
    "## Preparations\n",
    "\n",
    "Let's import [SymPy](https://www.sympy.org/)\n",
    "and define the symbols we need:"
   ]
  },
  {
   "cell_type": "code",
   "execution_count": null,
   "metadata": {},
   "outputs": [],
   "source": [
    "import sympy as sp\n",
    "sp.init_printing()"
   ]
  },
  {
   "cell_type": "code",
   "execution_count": null,
   "metadata": {},
   "outputs": [],
   "source": [
    "x_1, x0, x1, x2 = sp.symbols('xbm_-1 xbm:3')"
   ]
  },
  {
   "cell_type": "code",
   "execution_count": null,
   "metadata": {},
   "outputs": [],
   "source": [
    "t, t_1, t0, t1, t2 = sp.symbols('t t_-1 t:3')"
   ]
  },
  {
   "cell_type": "markdown",
   "metadata": {},
   "source": [
    "We also use some custom SymPy tools from [utility.py](utility.py):"
   ]
  },
  {
   "cell_type": "code",
   "execution_count": null,
   "metadata": {},
   "outputs": [],
   "source": [
    "from utility import NamedExpression, NamedMatrix"
   ]
  },
  {
   "cell_type": "markdown",
   "metadata": {},
   "source": [
    "The triangular figure above looks more complicated than it really is.\n",
    "It's just a bunch of linear *inter*polations and *extra*polations.\n",
    "Since we'll need several of those,\n",
    "let's define a helper function:"
   ]
  },
  {
   "cell_type": "code",
   "execution_count": null,
   "metadata": {},
   "outputs": [],
   "source": [
    "def lerp(xs, ts):\n",
    "    \"\"\"Linear interpolation.\n",
    "    \n",
    "    Between the two points given by *xs* in the time span given by *ts*.\n",
    "    \n",
    "    \"\"\"\n",
    "    x_begin, x_end = xs\n",
    "    t_begin, t_end = ts\n",
    "    return (x_begin * (t_end - t) + x_end * (t - t_begin)) / (t_end - t_begin)"
   ]
  },
  {
   "cell_type": "markdown",
   "metadata": {},
   "source": [
    "Let's go through the figure above, piece by piece.\n",
    "\n",
    "## First Stage\n",
    "\n",
    "In the center of the bottom row,\n",
    "there is a straightforward linear interpolation\n",
    "from $\\boldsymbol{x}_0$ to $\\boldsymbol{x}_1$\n",
    "within the interval from $t_0$ to $t_1$."
   ]
  },
  {
   "cell_type": "code",
   "execution_count": null,
   "metadata": {},
   "outputs": [],
   "source": [
    "p01 = NamedExpression('pbm_0,1', lerp((x0, x1), (t0, t1)))\n",
    "p01"
   ]
  },
  {
   "cell_type": "markdown",
   "metadata": {},
   "source": [
    "Obviously, this starts at:"
   ]
  },
  {
   "cell_type": "code",
   "execution_count": null,
   "metadata": {},
   "outputs": [],
   "source": [
    "p01.evaluated_at(t, t0)"
   ]
  },
  {
   "cell_type": "markdown",
   "metadata": {},
   "source": [
    "... and ends at:"
   ]
  },
  {
   "cell_type": "code",
   "execution_count": null,
   "metadata": {},
   "outputs": [],
   "source": [
    "p01.evaluated_at(t, t1)"
   ]
  },
  {
   "cell_type": "markdown",
   "metadata": {},
   "source": [
    "The bottom left of the triangle looks very similar,\n",
    "with a linear interpolation\n",
    "from $\\boldsymbol{x}_{-1}$ to $\\boldsymbol{x}_0$\n",
    "within the interval from $t_{-1}$ to $t_0$."
   ]
  },
  {
   "cell_type": "code",
   "execution_count": null,
   "metadata": {},
   "outputs": [],
   "source": [
    "p_10 = NamedExpression('pbm_-1,0', lerp((x_1, x0), (t_1, t0)))\n",
    "p_10"
   ]
  },
  {
   "cell_type": "markdown",
   "metadata": {},
   "source": [
    "However, that's not the parameter range we are interested in.\n",
    "We are interested in the range from $t_0$ to $t_1$.\n",
    "Therefore, this is not actually an *inter*polation between\n",
    "$\\boldsymbol{x}_{-1}$ and $\\boldsymbol{x}_0$,\n",
    "but rather a linear *extra*polation starting at $\\boldsymbol{x}_0$:"
   ]
  },
  {
   "cell_type": "code",
   "execution_count": null,
   "metadata": {},
   "outputs": [],
   "source": [
    "p_10.evaluated_at(t, t0)"
   ]
  },
  {
   "cell_type": "markdown",
   "metadata": {},
   "source": [
    "... and ending at some extrapolated point beyond $\\boldsymbol{x}_0$:"
   ]
  },
  {
   "cell_type": "code",
   "execution_count": null,
   "metadata": {},
   "outputs": [],
   "source": [
    "p_10.evaluated_at(t, t1)"
   ]
  },
  {
   "cell_type": "markdown",
   "metadata": {},
   "source": [
    "Similarly, at the bottom right of the triangle\n",
    "there isn't a linear *inter*polation\n",
    "from $\\boldsymbol{x}_1$ to $\\boldsymbol{x}_2$,\n",
    "but rather a linear *extra*polation that just reaches\n",
    "$\\boldsymbol{x}_1$ at the end of the parameter interval\n",
    "(i.e. at $t=t_1$)."
   ]
  },
  {
   "cell_type": "code",
   "execution_count": null,
   "metadata": {},
   "outputs": [],
   "source": [
    "p12 = NamedExpression('pbm_1,2', lerp((x1, x2), (t1, t2)))\n",
    "p12"
   ]
  },
  {
   "cell_type": "code",
   "execution_count": null,
   "metadata": {},
   "outputs": [],
   "source": [
    "p12.evaluated_at(t, t0)"
   ]
  },
  {
   "cell_type": "code",
   "execution_count": null,
   "metadata": {},
   "outputs": [],
   "source": [
    "p12.evaluated_at(t, t1)"
   ]
  },
  {
   "cell_type": "markdown",
   "metadata": {},
   "source": [
    "## Second Stage\n",
    "\n",
    "The second stage of the algorithm\n",
    "involves linear interpolations of the results of the previous stage."
   ]
  },
  {
   "cell_type": "code",
   "execution_count": null,
   "metadata": {},
   "outputs": [],
   "source": [
    "p_101 = NamedExpression('pbm_-1,0,1', lerp((p_10.name, p01.name), (t_1, t1)))\n",
    "p_101"
   ]
  },
  {
   "cell_type": "code",
   "execution_count": null,
   "metadata": {},
   "outputs": [],
   "source": [
    "p012 = NamedExpression('pbm_0,1,2', lerp((p01.name, p12.name), (t0, t2)))\n",
    "p012"
   ]
  },
  {
   "cell_type": "markdown",
   "metadata": {},
   "source": [
    "Those interpolations are defined over a parameter range\n",
    "from $t_{-1}$ to $t_1$ and\n",
    "from $t_0$ to $t_2$, respectively.\n",
    "In each case, we are only interested in a sub-range,\n",
    "namely from $t_0$ to $t_1$.\n",
    "\n",
    "These are the start and end points at $t_0$ and $t_1$:"
   ]
  },
  {
   "cell_type": "code",
   "execution_count": null,
   "metadata": {},
   "outputs": [],
   "source": [
    "p_101.evaluated_at(t, t0, symbols=[p_10, p01])"
   ]
  },
  {
   "cell_type": "code",
   "execution_count": null,
   "metadata": {},
   "outputs": [],
   "source": [
    "p_101.evaluated_at(t, t1, symbols=[p_10, p01])"
   ]
  },
  {
   "cell_type": "code",
   "execution_count": null,
   "metadata": {},
   "outputs": [],
   "source": [
    "p012.evaluated_at(t, t0, symbols=[p01, p12])"
   ]
  },
  {
   "cell_type": "code",
   "execution_count": null,
   "metadata": {},
   "outputs": [],
   "source": [
    "p012.evaluated_at(t, t1, symbols=[p01, p12])"
   ]
  },
  {
   "cell_type": "markdown",
   "metadata": {},
   "source": [
    "## Third Stage\n",
    "\n",
    "The last step is quite simple:"
   ]
  },
  {
   "cell_type": "code",
   "execution_count": null,
   "metadata": {},
   "outputs": [],
   "source": [
    "x01 = NamedExpression('xbm_0,1', lerp((p_101.name, p012.name), (t0, t1)))\n",
    "x01"
   ]
  },
  {
   "cell_type": "markdown",
   "metadata": {},
   "source": [
    "This time, the interpolation interval is exactly the one we care about.\n",
    "\n",
    "To get the final result, we just have to combine all the above expressions:"
   ]
  },
  {
   "cell_type": "code",
   "execution_count": null,
   "metadata": {},
   "outputs": [],
   "source": [
    "x01 = x01.subs_symbols(p_101, p012, p_10, p01, p12).simplify()\n",
    "x01"
   ]
  },
  {
   "cell_type": "markdown",
   "metadata": {},
   "source": [
    "We can make this marginally shorter\n",
    "if we rewrite the parameter values as\n",
    "$\\Delta_i = t_{i+1} - t_i$:"
   ]
  },
  {
   "cell_type": "code",
   "execution_count": null,
   "metadata": {},
   "outputs": [],
   "source": [
    "deltas = [\n",
    "    (t_1, -sp.Symbol('Delta_-1')),\n",
    "    (t0, 0),\n",
    "    (t1, sp.Symbol('Delta0')),\n",
    "    (t2, sp.Symbol('Delta0') + sp.Symbol('Delta1'))\n",
    "]"
   ]
  },
  {
   "cell_type": "code",
   "execution_count": null,
   "metadata": {},
   "outputs": [],
   "source": [
    "x01.expr.subs(deltas)"
   ]
  },
  {
   "cell_type": "markdown",
   "metadata": {},
   "source": [
    "## Characteristic Matrix\n",
    "\n",
    "We already have the correct result,\n",
    "but if we want to derive our \"characteristic matrix\",\n",
    "we have to re-scale this a bit.\n",
    "The parameter is supposed to go from $0$ to $1$\n",
    "instead of from $t_0$ to $t_1$:"
   ]
  },
  {
   "cell_type": "code",
   "execution_count": null,
   "metadata": {},
   "outputs": [],
   "source": [
    "x01_normalized = x01.expr.subs(t, t * (t1 - t0) + t0).subs(deltas)"
   ]
  },
  {
   "cell_type": "code",
   "execution_count": null,
   "metadata": {},
   "outputs": [],
   "source": [
    "M_CR = NamedMatrix(\n",
    "    r'{M_\\text{CR}}',\n",
    "    sp.Matrix([[c.expand().coeff(x).factor() for x in (x_1, x0, x1, x2)]\n",
    "               for c in x01_normalized.as_poly(t).all_coeffs()]))"
   ]
  },
  {
   "cell_type": "code",
   "execution_count": null,
   "metadata": {},
   "outputs": [],
   "source": [
    "M_CR"
   ]
  },
  {
   "cell_type": "markdown",
   "metadata": {},
   "source": [
    "And just to make sure that is consistent with the result\n",
    "from [uniform Catmull--Rom splines](catmull-rom-uniform.ipynb),\n",
    "let's set all $\\Delta_i$ to $1$:"
   ]
  },
  {
   "cell_type": "code",
   "execution_count": null,
   "metadata": {},
   "outputs": [],
   "source": [
    "uniform = [\n",
    "    (sp.Symbol('Delta_-1'), 1),\n",
    "    (sp.Symbol('Delta0') , 1),\n",
    "    (sp.Symbol('Delta1') , 1),\n",
    "]"
   ]
  },
  {
   "cell_type": "code",
   "execution_count": null,
   "metadata": {},
   "outputs": [],
   "source": [
    "M_CR_uniform = NamedMatrix(\n",
    "    r'{M_\\text{CR,uniform}}',\n",
    "    M_CR.expr.subs(uniform))"
   ]
  },
  {
   "cell_type": "code",
   "execution_count": null,
   "metadata": {},
   "outputs": [],
   "source": [
    "M_CR_uniform.pull_out(sp.S.Half)"
   ]
  },
  {
   "cell_type": "markdown",
   "metadata": {},
   "source": [
    "## Begin/End Tangents\n",
    "\n",
    "To get the tangents at $t_0$ and $t_1$,\n",
    "we just have to differentiate:"
   ]
  },
  {
   "cell_type": "code",
   "execution_count": null,
   "metadata": {},
   "outputs": [],
   "source": [
    "x_dot = NamedExpression('xdotbm', x01.expr.diff(t))"
   ]
  },
  {
   "cell_type": "code",
   "execution_count": null,
   "metadata": {},
   "outputs": [],
   "source": [
    "start_tangent = x_dot.evaluated_at(t, t0)\n",
    "start_tangent.subs(deltas).factor()"
   ]
  },
  {
   "cell_type": "code",
   "execution_count": null,
   "metadata": {},
   "outputs": [],
   "source": [
    "end_tangent = x_dot.evaluated_at(t, t1)\n",
    "end_tangent.subs(deltas).factor()"
   ]
  },
  {
   "cell_type": "markdown",
   "metadata": {},
   "source": [
    "in general (just adding $i$ to all indices):\n",
    "\n",
    "\\begin{equation}\n",
    "\\boldsymbol{\\dot{x}}_i =\n",
    "\\frac{\n",
    "(t_{i+1} - t_i)^2 (\\boldsymbol{x}_i - \\boldsymbol{x}_{i-1}) +\n",
    "(t_i - t_{i-1})^2 (\\boldsymbol{x}_{i+1} - \\boldsymbol{x}_i)\n",
    "}{\n",
    "(t_{i+1} - t_i)(t_i - t_{i-1})(t_{i+1} - t_{i-1})\n",
    "}\n",
    "\\end{equation}"
   ]
  },
  {
   "cell_type": "markdown",
   "metadata": {},
   "source": [
    "You might encounter another way to write the equation for $\\boldsymbol{\\dot{x}}_0$\n",
    "(e.g. at https://stackoverflow.com/a/23980479/):"
   ]
  },
  {
   "cell_type": "code",
   "execution_count": null,
   "metadata": {},
   "outputs": [],
   "source": [
    "(x0 - x_1) / (t0 - t_1) - (x1 - x_1) / (t1 - t_1) + (x1 - x0) / (t1 - t0)"
   ]
  },
  {
   "cell_type": "markdown",
   "metadata": {},
   "source": [
    "... but this is equivalent to the equation shown above:"
   ]
  },
  {
   "cell_type": "code",
   "execution_count": null,
   "metadata": {},
   "outputs": [],
   "source": [
    "sp.simplify(_ - start_tangent.expr)"
   ]
  },
  {
   "cell_type": "markdown",
   "metadata": {},
   "source": [
    "Yet another way to skin this cat -- sometimes referred to as Bessel--Overhauser -- is to define the velocity of the left and right chords:"
   ]
  },
  {
   "cell_type": "code",
   "execution_count": null,
   "metadata": {},
   "outputs": [],
   "source": [
    "v_left = (x0 - x_1) / (t0 - t_1)\n",
    "v_right = (x1 - x0) / (t1 - t0)"
   ]
  },
  {
   "cell_type": "markdown",
   "metadata": {},
   "source": [
    "... and then combine them in this way:"
   ]
  },
  {
   "cell_type": "code",
   "execution_count": null,
   "metadata": {},
   "outputs": [],
   "source": [
    "((t1 - t0) * v_left + (t0 - t_1) * v_right) / (t1 - t_1)"
   ]
  },
  {
   "cell_type": "markdown",
   "metadata": {},
   "source": [
    "Again, that's the same as we had above:"
   ]
  },
  {
   "cell_type": "code",
   "execution_count": null,
   "metadata": {},
   "outputs": [],
   "source": [
    "sp.simplify(_ - start_tangent.expr)"
   ]
  },
  {
   "cell_type": "markdown",
   "metadata": {},
   "source": [
    "## Animation\n",
    "\n",
    "The linear interpolations (and *extra*polations) of this algorithm\n",
    "can be shown graphically.\n",
    "\n",
    "By means of the file [barry_goldman.py](barry_goldman.py),\n",
    "we can generate animations of the algorithm:"
   ]
  },
  {
   "cell_type": "code",
   "execution_count": null,
   "metadata": {},
   "outputs": [],
   "source": [
    "from barry_goldman import animation"
   ]
  },
  {
   "cell_type": "code",
   "execution_count": null,
   "metadata": {},
   "outputs": [],
   "source": [
    "from IPython.display import HTML"
   ]
  },
  {
   "cell_type": "code",
   "execution_count": null,
   "metadata": {},
   "outputs": [],
   "source": [
    "points = [\n",
    "    (0, 0),\n",
    "    (0.5, 1),\n",
    "    (6, 1),\n",
    "    (6.5, 0),\n",
    "]"
   ]
  },
  {
   "cell_type": "code",
   "execution_count": null,
   "metadata": {},
   "outputs": [],
   "source": [
    "times = [\n",
    "    0,\n",
    "    1,\n",
    "    5,\n",
    "    9,\n",
    "]"
   ]
  },
  {
   "cell_type": "code",
   "execution_count": null,
   "metadata": {},
   "outputs": [],
   "source": [
    "ani = animation(points, times)"
   ]
  },
  {
   "cell_type": "code",
   "execution_count": null,
   "metadata": {},
   "outputs": [],
   "source": [
    "HTML(ani.to_jshtml(default_mode='reflect'))"
   ]
  }
 ],
 "metadata": {
  "kernelspec": {
   "display_name": "Python 3",
   "language": "python",
   "name": "python3"
  },
  "language_info": {
   "codemirror_mode": {
    "name": "ipython",
    "version": 3
   },
   "file_extension": ".py",
   "mimetype": "text/x-python",
   "name": "python",
   "nbconvert_exporter": "python",
   "pygments_lexer": "ipython3",
   "version": "3.8.3rc1"
  }
 },
 "nbformat": 4,
 "nbformat_minor": 4
}
