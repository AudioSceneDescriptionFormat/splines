{
 "cells": [
  {
   "cell_type": "markdown",
   "metadata": {
    "nbsphinx": "hidden"
   },
   "source": [
    "This notebook is part of https://github.com/AudioSceneDescriptionFormat/splines, see also https://splines.readthedocs.io/.\n",
    "\n",
    "[back to Euclidean splines](index.ipynb)"
   ]
  },
  {
   "cell_type": "markdown",
   "metadata": {},
   "source": [
    "# Natural Splines\n",
    "\n",
    "TODO\n",
    "\n",
    "Python implementation:\n",
    "[splines.Natural](../python-module/splines.rst#splines.Natural)\n",
    "\n",
    "https://en.wikipedia.org/wiki/Spline_interpolation\n",
    "\n",
    "https://en.wikiversity.org/wiki/Cubic_Spline_Interpolation\n",
    "\n",
    "https://en.wiktionary.org/wiki/spline\n",
    "\n",
    "https://docs.scipy.org/doc/scipy/reference/generated/scipy.interpolate.CubicSpline.html"
   ]
  },
  {
   "cell_type": "markdown",
   "metadata": {
    "nbsphinx-toctree": {}
   },
   "source": [
    "* [Properties](natural-splines-properties.ipynb)\n",
    "* [Derivation (Uniform)](natural-splines-uniform.ipynb)\n",
    "* [Derivation (Non-Uniform)](natural-splines-non-uniform.ipynb)"
   ]
  }
 ],
 "metadata": {
  "kernelspec": {
   "display_name": "Python 3",
   "language": "python",
   "name": "python3"
  },
  "language_info": {
   "codemirror_mode": {
    "name": "ipython",
    "version": 3
   },
   "file_extension": ".py",
   "mimetype": "text/x-python",
   "name": "python",
   "nbconvert_exporter": "python",
   "pygments_lexer": "ipython3",
   "version": "3.9.1"
  }
 },
 "nbformat": 4,
 "nbformat_minor": 4
}
