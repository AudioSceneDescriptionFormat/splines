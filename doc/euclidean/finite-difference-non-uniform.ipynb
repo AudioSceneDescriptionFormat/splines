{
 "cells": [
  {
   "cell_type": "markdown",
   "metadata": {
    "nbsphinx": "hidden"
   },
   "source": [
    "This notebook is part of https://github.com/AudioSceneDescriptionFormat/splines, see also https://splines.readthedocs.io/.\n",
    "\n",
    "[back to overview](finite-difference.ipynb)"
   ]
  },
  {
   "cell_type": "markdown",
   "metadata": {},
   "source": [
    "# Non-Uniform Finite Difference Splines\n",
    "\n",
    "Given the vertices $\\boldsymbol{x}_i$\n",
    "(and some [end conditions](end-conditions.ipynb)),\n",
    "a *finite difference* spline can be constructed\n",
    "using a [non-uniform Hermite spline](hermite-non-uniform.ipynb)\n",
    "and setting its tangent vectors to\n",
    "\n",
    "\\begin{equation*}\n",
    "\\boldsymbol{\\dot{x}}_i = \\frac{1}{2} \\left(\n",
    "\\frac{\\boldsymbol{x}_i - \\boldsymbol{x}_{i-1}}{t_i - t_{i-1}} +\n",
    "\\frac{\\boldsymbol{x}_{i + 1} - \\boldsymbol{x}_i}{t_{i + 1} - t_i}\n",
    "\\right).\n",
    "\\end{equation*}"
   ]
  },
  {
   "cell_type": "markdown",
   "metadata": {},
   "source": [
    "This is really all that's needed,\n",
    "but if you are interested in the basis matrix,\n",
    "here's its derivation:"
   ]
  },
  {
   "cell_type": "code",
   "execution_count": null,
   "metadata": {},
   "outputs": [],
   "source": [
    "import sympy as sp\n",
    "sp.init_printing()"
   ]
  },
  {
   "cell_type": "code",
   "execution_count": null,
   "metadata": {},
   "outputs": [],
   "source": [
    "from utility import NamedExpression, NamedMatrix"
   ]
  },
  {
   "cell_type": "code",
   "execution_count": null,
   "metadata": {},
   "outputs": [],
   "source": [
    "t = sp.symbols('t')"
   ]
  },
  {
   "cell_type": "markdown",
   "metadata": {},
   "source": [
    "We are considering the fifth spline segment\n",
    "from $\\boldsymbol{x}_4$ to $\\boldsymbol{x}_5$,\n",
    "but we will also need\n",
    "the preceding value $\\boldsymbol{x}_3$ and\n",
    "the following value $\\boldsymbol{x}_6$,\n",
    "as well as all associated parameter values."
   ]
  },
  {
   "cell_type": "code",
   "execution_count": null,
   "metadata": {},
   "outputs": [],
   "source": [
    "x3, x4, x5, x6 = sp.symbols('xbm3:7')\n",
    "t3, t4, t5, t6 = sp.symbols('t3:7')"
   ]
  },
  {
   "cell_type": "code",
   "execution_count": null,
   "metadata": {},
   "outputs": [],
   "source": [
    "control_values_FD = sp.Matrix([x3, x4, x5, x6])\n",
    "control_values_FD"
   ]
  },
  {
   "cell_type": "markdown",
   "metadata": {},
   "source": [
    "We use the aforementioned expressions for the tangents at\n",
    "$\\boldsymbol{x}_4$ and $\\boldsymbol{x}_5$:"
   ]
  },
  {
   "cell_type": "code",
   "execution_count": null,
   "metadata": {},
   "outputs": [],
   "source": [
    "xd4 = NamedExpression(\n",
    "    'xdotbm4',\n",
    "    ((x4 - x3) / (t4 - t3) + (x5 - x4) / (t5 - t4)) / 2)\n",
    "xd5 = NamedExpression(\n",
    "    'xdotbm5',\n",
    "    ((x5 - x4) / (t5 - t4) + (x6 - x5) / (t6 - t5)) / 2)\n",
    "display(xd4, xd5)"
   ]
  },
  {
   "cell_type": "markdown",
   "metadata": {},
   "source": [
    "To simplify the results,\n",
    "we define a few symbols $\\Delta_i = t_{i+1} - t_i$.\n",
    "However, we are only using these for display purposes,\n",
    "the calculations are still done with $t_i$."
   ]
  },
  {
   "cell_type": "code",
   "execution_count": null,
   "metadata": {},
   "outputs": [],
   "source": [
    "delta3, delta4, delta5 = sp.symbols('Delta3:6')\n",
    "deltas = {\n",
    "    t3: 0,\n",
    "    t4: delta3,\n",
    "    t5: delta3 + delta4,\n",
    "    t6: delta3 + delta4 + delta5,\n",
    "}"
   ]
  },
  {
   "cell_type": "markdown",
   "metadata": {},
   "source": [
    "We are using some definitions from\n",
    "[the notebook about non-uniform Hermite splines](hermite-non-uniform.ipynb),\n",
    "namely the Hermite control values ..."
   ]
  },
  {
   "cell_type": "code",
   "execution_count": null,
   "metadata": {},
   "outputs": [],
   "source": [
    "control_values_H = sp.Matrix(sp.symbols('xbm4:6 xdotbm4:6'))\n",
    "control_values_H"
   ]
  },
  {
   "cell_type": "markdown",
   "metadata": {},
   "source": [
    "... and the Hermite basis matrix:"
   ]
  },
  {
   "cell_type": "code",
   "execution_count": null,
   "metadata": {},
   "outputs": [],
   "source": [
    "M_H = NamedMatrix(\n",
    "    r'{M_{\\text{H},4}}',\n",
    "    sp.Matrix([[2, -2, 1, 1],\n",
    "               [-3, 3, -2, -1],\n",
    "               [0, 0, 1, 0],\n",
    "               [1, 0, 0, 0]]) * sp.diag(1, 1, t5 - t4, t5 - t4))\n",
    "M_H.subs(deltas)"
   ]
  },
  {
   "cell_type": "markdown",
   "metadata": {},
   "source": [
    "Now we are looking for a matrix\n",
    "that can transform our control points into Hermite control values."
   ]
  },
  {
   "cell_type": "code",
   "execution_count": null,
   "metadata": {},
   "outputs": [],
   "source": [
    "M_FDtoH = NamedMatrix(r'{M_{\\text{FD},4\\to\\text{H},4}}', 4, 4)"
   ]
  },
  {
   "cell_type": "code",
   "execution_count": null,
   "metadata": {},
   "outputs": [],
   "source": [
    "NamedMatrix(control_values_H, M_FDtoH.name * control_values_FD)"
   ]
  },
  {
   "cell_type": "markdown",
   "metadata": {},
   "source": [
    "Left-multiplying this matrix with the Hermite basis matrix\n",
    "will then result in the basis matrix for finite difference splines:"
   ]
  },
  {
   "cell_type": "code",
   "execution_count": null,
   "metadata": {},
   "outputs": [],
   "source": [
    "M_FD = NamedMatrix(r'{M_{\\text{FD},4}}', M_H.name * M_FDtoH.name)\n",
    "M_FD"
   ]
  },
  {
   "cell_type": "markdown",
   "metadata": {},
   "source": [
    "The matrix coefficients can be obtained from\n",
    "the definition of the tangent vectors:"
   ]
  },
  {
   "cell_type": "code",
   "execution_count": null,
   "metadata": {},
   "outputs": [],
   "source": [
    "M_FDtoH.expr = sp.Matrix([\n",
    "    [expr.expand().coeff(cv) for cv in control_values_FD]\n",
    "    for expr in control_values_H.subs([xd4.args, xd5.args])])\n",
    "M_FDtoH.subs(deltas)"
   ]
  },
  {
   "cell_type": "markdown",
   "metadata": {},
   "source": [
    "In case you want to go into the other direction\n",
    "(from *Hermite* to *finite difference*),\n",
    "you can invert the matrix:"
   ]
  },
  {
   "cell_type": "code",
   "execution_count": null,
   "metadata": {},
   "outputs": [],
   "source": [
    "M_HtoFD = NamedMatrix(r'{M_{\\text{H},4\\to\\text{FD},4}}', M_FDtoH.I.expr)\n",
    "M_HtoFD.subs(deltas).expand()"
   ]
  },
  {
   "cell_type": "markdown",
   "metadata": {},
   "source": [
    "To get the basis matrix,\n",
    "we just have to do the matrix multiplication:"
   ]
  },
  {
   "cell_type": "code",
   "execution_count": null,
   "metadata": {},
   "outputs": [],
   "source": [
    "M_FD = M_FD.subs_symbols(M_H, M_FDtoH).doit()\n",
    "M_FD.subs(deltas).expand()"
   ]
  },
  {
   "cell_type": "code",
   "execution_count": null,
   "metadata": {},
   "outputs": [],
   "source": [
    "M_FD.subs(deltas).I.expand()"
   ]
  },
  {
   "cell_type": "markdown",
   "metadata": {},
   "source": [
    "Just as a quick check,\n",
    "using unit parameter intervals\n",
    "should lead to the *uniform* basis matrix:"
   ]
  },
  {
   "cell_type": "code",
   "execution_count": null,
   "metadata": {},
   "outputs": [],
   "source": [
    "uniform = {\n",
    "    t3: 3,\n",
    "    t4: 4,\n",
    "    t5: 5,\n",
    "    t6: 6,\n",
    "    M_FD.name: sp.Symbol(r'{M_\\text{FD,uniform}}'),\n",
    "}"
   ]
  },
  {
   "cell_type": "code",
   "execution_count": null,
   "metadata": {},
   "outputs": [],
   "source": [
    "M_FD.subs(uniform).pull_out(sp.S.Half)"
   ]
  },
  {
   "cell_type": "markdown",
   "metadata": {},
   "source": [
    "If everything went well,\n",
    "this should be the same matrix\n",
    "as the basis matrix for\n",
    "[uniform Catmull--Rom splines](catmull-rom-uniform.ipynb)."
   ]
  }
 ],
 "metadata": {
  "kernelspec": {
   "display_name": "Python 3",
   "language": "python",
   "name": "python3"
  },
  "language_info": {
   "codemirror_mode": {
    "name": "ipython",
    "version": 3
   },
   "file_extension": ".py",
   "mimetype": "text/x-python",
   "name": "python",
   "nbconvert_exporter": "python",
   "pygments_lexer": "ipython3",
   "version": "3.9.1"
  }
 },
 "nbformat": 4,
 "nbformat_minor": 4
}
