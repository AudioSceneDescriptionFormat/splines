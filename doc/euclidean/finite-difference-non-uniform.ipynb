{
 "cells": [
  {
   "cell_type": "markdown",
   "metadata": {
    "nbsphinx": "hidden"
   },
   "source": [
    "This notebook is part of https://github.com/AudioSceneDescriptionFormat/splines, see also https://splines.readthedocs.io/.\n",
    "\n",
    "[back to overview](finite-difference.ipynb)"
   ]
  },
  {
   "cell_type": "markdown",
   "metadata": {},
   "source": [
    "# Non-Uniform Finite Difference Splines"
   ]
  },
  {
   "cell_type": "markdown",
   "metadata": {},
   "source": [
    "\\begin{equation*}\n",
    "\\boldsymbol{\\dot{x}}_i = \\frac{1}{2} \\left(\n",
    "\\frac{\\boldsymbol{x}_i - \\boldsymbol{x}_{i-1}}{t_i - t_{i-1}} +\n",
    "\\frac{\\boldsymbol{x}_{i + 1} - \\boldsymbol{x}_i}{t_{i + 1} - t_i}\n",
    "\\right)\n",
    "\\end{equation*}"
   ]
  },
  {
   "cell_type": "code",
   "execution_count": null,
   "metadata": {},
   "outputs": [],
   "source": [
    "import sympy as sp\n",
    "sp.init_printing()"
   ]
  },
  {
   "cell_type": "code",
   "execution_count": null,
   "metadata": {},
   "outputs": [],
   "source": [
    "from utility import NamedExpression, NamedMatrix"
   ]
  },
  {
   "cell_type": "code",
   "execution_count": null,
   "metadata": {},
   "outputs": [],
   "source": [
    "x3, x4, x5, x6 = sp.symbols('xbm3:7')"
   ]
  },
  {
   "cell_type": "code",
   "execution_count": null,
   "metadata": {},
   "outputs": [],
   "source": [
    "t, t3, t4, t5, t6 = sp.symbols('t t3:7')"
   ]
  },
  {
   "cell_type": "code",
   "execution_count": null,
   "metadata": {},
   "outputs": [],
   "source": [
    "control_values_FD = sp.Matrix([x3, x4, x5, x6])\n",
    "control_values_FD"
   ]
  },
  {
   "cell_type": "code",
   "execution_count": null,
   "metadata": {},
   "outputs": [],
   "source": [
    "xd4 = NamedExpression(\n",
    "    'xdotbm4',\n",
    "    ((x4 - x3) / (t4 - t3) + (x5 - x4) / (t5 - t4)) / 2)\n",
    "xd4"
   ]
  },
  {
   "cell_type": "code",
   "execution_count": null,
   "metadata": {},
   "outputs": [],
   "source": [
    "xd5 = NamedExpression(\n",
    "    'xdotbm5',\n",
    "    ((x5 - x4) / (t5 - t4) + (x6 - x5) / (t6 - t5)) / 2)\n",
    "xd5"
   ]
  },
  {
   "cell_type": "code",
   "execution_count": null,
   "metadata": {},
   "outputs": [],
   "source": [
    "control_values_H = sp.Matrix(sp.symbols('xbm4:6 xdotbm4:6'))\n",
    "control_values_H"
   ]
  },
  {
   "cell_type": "code",
   "execution_count": null,
   "metadata": {},
   "outputs": [],
   "source": [
    "M_H = NamedMatrix(\n",
    "    r'{M_\\text{H}}',\n",
    "    sp.Matrix([[2, -2, 1, 1],\n",
    "               [-3, 3, -2, -1],\n",
    "               [0, 0, 1, 0],\n",
    "               [1, 0, 0, 0]]) * sp.diag(1, 1, t5 - t4, t5 - t4))\n",
    "M_H"
   ]
  },
  {
   "cell_type": "code",
   "execution_count": null,
   "metadata": {},
   "outputs": [],
   "source": [
    "M_FDtoH = NamedMatrix(r'{M_{\\text{FD$\\to$H}}}', 4, 4)"
   ]
  },
  {
   "cell_type": "code",
   "execution_count": null,
   "metadata": {},
   "outputs": [],
   "source": [
    "M_FD = NamedMatrix(r'{M_\\text{FD}}', M_H.name * M_FDtoH.name)\n",
    "M_FD"
   ]
  },
  {
   "cell_type": "code",
   "execution_count": null,
   "metadata": {},
   "outputs": [],
   "source": [
    "NamedMatrix(control_values_H, M_FDtoH.name * control_values_FD)"
   ]
  },
  {
   "cell_type": "code",
   "execution_count": null,
   "metadata": {},
   "outputs": [],
   "source": [
    "M_FDtoH.expr = sp.Matrix([\n",
    "    [expr.expand().coeff(cv) for cv in control_values_FD]\n",
    "    for expr in control_values_H.subs([xd4.args, xd5.args])])\n",
    "M_FDtoH"
   ]
  },
  {
   "cell_type": "code",
   "execution_count": null,
   "metadata": {},
   "outputs": [],
   "source": [
    "delta3, delta4, delta5 = sp.symbols('Delta3:6')\n",
    "deltas = {\n",
    "    t3: 0,\n",
    "    t4: delta3,\n",
    "    t5: delta3 + delta4,\n",
    "    t6: delta3 + delta4 + delta5,\n",
    "}"
   ]
  },
  {
   "cell_type": "code",
   "execution_count": null,
   "metadata": {},
   "outputs": [],
   "source": [
    "M_FDtoH.subs(deltas)"
   ]
  },
  {
   "cell_type": "code",
   "execution_count": null,
   "metadata": {},
   "outputs": [],
   "source": [
    "M_HtoFD = NamedMatrix(r'{M_\\text{H$\\to$FD}}', M_FDtoH.I.expr)\n",
    "M_HtoFD.subs(deltas).expand()"
   ]
  },
  {
   "cell_type": "code",
   "execution_count": null,
   "metadata": {},
   "outputs": [],
   "source": [
    "M_FD = M_FD.subs_symbols(M_H, M_FDtoH).doit()\n",
    "M_FD.subs(deltas).expand()"
   ]
  },
  {
   "cell_type": "code",
   "execution_count": null,
   "metadata": {},
   "outputs": [],
   "source": [
    "M_FD.subs(deltas).I.expand()"
   ]
  },
  {
   "cell_type": "code",
   "execution_count": null,
   "metadata": {},
   "outputs": [],
   "source": [
    "uniform = {\n",
    "    t3: 3,\n",
    "    t4: 4,\n",
    "    t5: 5,\n",
    "    t6: 6,\n",
    "    M_FD.name: sp.Symbol(r'{M_\\text{FD,uniform}}'),\n",
    "}"
   ]
  },
  {
   "cell_type": "code",
   "execution_count": null,
   "metadata": {},
   "outputs": [],
   "source": [
    "M_FD.subs(uniform).pull_out(sp.S.Half)"
   ]
  }
 ],
 "metadata": {
  "kernelspec": {
   "display_name": "Python 3",
   "language": "python",
   "name": "python3"
  },
  "language_info": {
   "codemirror_mode": {
    "name": "ipython",
    "version": 3
   },
   "file_extension": ".py",
   "mimetype": "text/x-python",
   "name": "python",
   "nbconvert_exporter": "python",
   "pygments_lexer": "ipython3",
   "version": "3.9.1"
  }
 },
 "nbformat": 4,
 "nbformat_minor": 4
}
