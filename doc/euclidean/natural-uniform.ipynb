{
 "cells": [
  {
   "cell_type": "markdown",
   "metadata": {
    "nbsphinx": "hidden"
   },
   "source": [
    "This notebook is part of https://github.com/AudioSceneDescriptionFormat/splines, see also https://splines.readthedocs.io/.\n",
    "\n",
    "[back to overview](natural.ipynb)"
   ]
  },
  {
   "cell_type": "markdown",
   "metadata": {},
   "source": [
    "# Uniform Natural Splines\n",
    "\n",
    "[non-uniform](natural-non-uniform.ipynb)"
   ]
  },
  {
   "cell_type": "code",
   "execution_count": null,
   "metadata": {},
   "outputs": [],
   "source": [
    "import sympy as sp\n",
    "sp.init_printing(order='rev-lex')"
   ]
  },
  {
   "cell_type": "markdown",
   "metadata": {},
   "source": [
    "[utility.py](utility.py)"
   ]
  },
  {
   "cell_type": "code",
   "execution_count": null,
   "metadata": {},
   "outputs": [],
   "source": [
    "from utility import NamedExpression"
   ]
  },
  {
   "cell_type": "code",
   "execution_count": null,
   "metadata": {},
   "outputs": [],
   "source": [
    "t = sp.symbols('t')"
   ]
  },
  {
   "cell_type": "code",
   "execution_count": null,
   "metadata": {},
   "outputs": [],
   "source": [
    "a3, a4, b3, b4, c3, c4, d3, d4 = sp.symbols('a:dbm3:5')"
   ]
  },
  {
   "cell_type": "code",
   "execution_count": null,
   "metadata": {},
   "outputs": [],
   "source": [
    "b_monomial = sp.Matrix([t**3, t**2, t, 1]).T"
   ]
  },
  {
   "cell_type": "code",
   "execution_count": null,
   "metadata": {},
   "outputs": [],
   "source": [
    "p3 = NamedExpression('pbm3', d3 * t**3 + c3 * t**2 + b3 * t + a3)\n",
    "p4 = NamedExpression('pbm4', d4 * t**3 + c4 * t**2 + b4 * t + a4)\n",
    "display(p3, p4)"
   ]
  },
  {
   "cell_type": "code",
   "execution_count": null,
   "metadata": {},
   "outputs": [],
   "source": [
    "pd3 = p3.diff(t)\n",
    "pd4 = p4.diff(t)\n",
    "display(pd3, pd4)"
   ]
  },
  {
   "cell_type": "code",
   "execution_count": null,
   "metadata": {},
   "outputs": [],
   "source": [
    "equations = [\n",
    "    p3.evaluated_at(t, 0).with_name('xbm3'),\n",
    "    p3.evaluated_at(t, 1).with_name('xbm4'),\n",
    "    p4.evaluated_at(t, 0).with_name('xbm4'),\n",
    "    p4.evaluated_at(t, 1).with_name('xbm5'),\n",
    "    pd3.evaluated_at(t, 0).with_name('xbmdot3'),\n",
    "    pd3.evaluated_at(t, 1).with_name('xbmdot4'),\n",
    "    pd4.evaluated_at(t, 0).with_name('xbmdot4'),\n",
    "    pd4.evaluated_at(t, 1).with_name('xbmdot5'),\n",
    "]\n",
    "display(*equations)"
   ]
  },
  {
   "cell_type": "code",
   "execution_count": null,
   "metadata": {},
   "outputs": [],
   "source": [
    "coefficients = sp.solve(equations, [a3, a4, b3, b4, c3, c4, d3, d4])\n",
    "for c, e in coefficients.items():\n",
    "    display(NamedExpression(c, e))"
   ]
  },
  {
   "cell_type": "markdown",
   "metadata": {},
   "source": [
    "NB: these are the same constants as in $M_H$\n",
    "(see [Uniform Hermite Splines](hermite-uniform.ipynb))!"
   ]
  },
  {
   "cell_type": "code",
   "execution_count": null,
   "metadata": {},
   "outputs": [],
   "source": [
    "pdd3 = pd3.diff(t)\n",
    "pdd4 = pd4.diff(t)\n",
    "display(pdd3, pdd4)"
   ]
  },
  {
   "cell_type": "code",
   "execution_count": null,
   "metadata": {},
   "outputs": [],
   "source": [
    "sp.Eq(pdd3.expr.subs(t, 1), pdd4.expr.subs(t, 0))"
   ]
  },
  {
   "cell_type": "code",
   "execution_count": null,
   "metadata": {},
   "outputs": [],
   "source": [
    "_.subs(coefficients).simplify()"
   ]
  },
  {
   "cell_type": "markdown",
   "metadata": {},
   "source": [
    "generalize by setting index $4 \\to i$\n",
    "\n",
    "\\begin{equation*}\n",
    "\\dot{\\boldsymbol{x}}_{i-1}\n",
    "+\n",
    "4 \\dot{\\boldsymbol{x}}_{i}\n",
    "+\n",
    "\\dot{\\boldsymbol{x}}_{i+1}\n",
    "=\n",
    "3 (\\boldsymbol{x}_{i+1} - \\boldsymbol{x}_{i-1})\n",
    "\\end{equation*}"
   ]
  },
  {
   "cell_type": "markdown",
   "metadata": {},
   "source": [
    "\\begin{equation*}\n",
    "\\left[\n",
    "\\begin{matrix}\n",
    "1 & 4 & 1 && \\cdots & 0 \\\\\n",
    "& 1 & 4 & 1 && \\vdots \\\\\n",
    "&& \\ddots & \\ddots && \\\\\n",
    "\\vdots && 1 & 4 & 1 & \\\\\n",
    "0 & \\cdots && 1 & 4 & 1\n",
    "\\end{matrix}\n",
    "\\right]\n",
    "\\left[\n",
    "\\begin{matrix}\n",
    "\\dot{\\boldsymbol{x}}_0\\\\\n",
    "\\dot{\\boldsymbol{x}}_1\\\\\n",
    "\\vdots\\\\\n",
    "\\dot{\\boldsymbol{x}}_{N-2}\\\\\n",
    "\\dot{\\boldsymbol{x}}_{N-1}\n",
    "\\end{matrix}\n",
    "\\right]\n",
    "=\n",
    "\\left[\n",
    "\\begin{matrix}\n",
    "3 (\\boldsymbol{x}_2 - \\boldsymbol{x}_0)\\\\\n",
    "3 (\\boldsymbol{x}_3 - \\boldsymbol{x}_1)\\\\\n",
    "\\vdots\\\\\n",
    "3 (\\boldsymbol{x}_{N-2} - \\boldsymbol{x}_{N-4})\\\\\n",
    "3 (\\boldsymbol{x}_{N-1} - \\boldsymbol{x}_{N-3})\n",
    "\\end{matrix}\n",
    "\\right]\n",
    "\\end{equation*}"
   ]
  },
  {
   "cell_type": "markdown",
   "metadata": {},
   "source": [
    "$N$ columns, $N-2$ rows"
   ]
  },
  {
   "cell_type": "markdown",
   "metadata": {},
   "source": [
    "## End Conditions\n",
    "\n",
    "add first and last row\n",
    "\n",
    "end conditions can be mixed,\n",
    "e.g. \"clamped\" at the beginning and \"natural\" at the end."
   ]
  },
  {
   "cell_type": "markdown",
   "metadata": {},
   "source": [
    "The Python class [splines.Natural](../python-module/splines.rst#splines.Natural)\n",
    "uses \"natural\" end conditions by default."
   ]
  },
  {
   "cell_type": "markdown",
   "metadata": {},
   "source": [
    "### Natural\n",
    "\n",
    "[notebook about \"natural\" end conditions](end-conditions-natural.ipynb)\n",
    "\n",
    "Get the uniform case by setting $\\Delta_i = 1$."
   ]
  },
  {
   "cell_type": "markdown",
   "metadata": {},
   "source": [
    "\\begin{align*}\n",
    "2 \\dot{\\boldsymbol{x}}_0\n",
    "+\n",
    "\\dot{\\boldsymbol{x}}_1\n",
    "&=\n",
    "3 (\\boldsymbol{x}_1 - \\boldsymbol{x}_0)\n",
    "\\\\\n",
    "\\dot{\\boldsymbol{x}}_{N-2}\n",
    "+\n",
    "2 \\dot{\\boldsymbol{x}}_{N-1}\n",
    "&=\n",
    "3 (\\boldsymbol{x}_{N-1} - \\boldsymbol{x}_{N-2})\n",
    "\\end{align*}"
   ]
  },
  {
   "cell_type": "markdown",
   "metadata": {},
   "source": [
    "\\begin{equation*}\n",
    "\\left[\n",
    "\\begin{matrix}\n",
    "2 & 1 &&& \\cdots & 0\\\\\n",
    "1 & 4 & 1 &&& \\vdots \\\\\n",
    "& 1 & 4 & 1 && \\\\\n",
    "&& \\ddots & \\ddots && \\\\\n",
    "&& 1 & 4 & 1 & \\\\\n",
    "\\vdots &&& 1 & 4 & 1\\\\\n",
    "0 & \\cdots &&& 1 & 2\n",
    "\\end{matrix}\n",
    "\\right]\n",
    "\\left[\n",
    "\\begin{matrix}\n",
    "\\dot{\\boldsymbol{x}}_0\\\\\n",
    "\\dot{\\boldsymbol{x}}_1\\\\\n",
    "\\vdots\\\\\n",
    "\\dot{\\boldsymbol{x}}_{N-2}\\\\\n",
    "\\dot{\\boldsymbol{x}}_{N-1}\n",
    "\\end{matrix}\n",
    "\\right]\n",
    "=\n",
    "\\left[\n",
    "\\begin{matrix}\n",
    "3 (\\boldsymbol{x}_1 - \\boldsymbol{x}_0)\\\\\n",
    "3 (\\boldsymbol{x}_2 - \\boldsymbol{x}_0)\\\\\n",
    "3 (\\boldsymbol{x}_3 - \\boldsymbol{x}_1)\\\\\n",
    "\\vdots\\\\\n",
    "3 (\\boldsymbol{x}_{N-2} - \\boldsymbol{x}_{N-4})\\\\\n",
    "3 (\\boldsymbol{x}_{N-1} - \\boldsymbol{x}_{N-3})\\\\\n",
    "3 (\\boldsymbol{x}_{N-1} - \\boldsymbol{x}_{N-2})\n",
    "\\end{matrix}\n",
    "\\right]\n",
    "\\end{equation*}"
   ]
  },
  {
   "cell_type": "markdown",
   "metadata": {},
   "source": [
    "### Clamped\n",
    "\n",
    "clamped (end tangents are given)"
   ]
  },
  {
   "cell_type": "markdown",
   "metadata": {},
   "source": [
    "\\begin{align*}\n",
    "\\dot{\\boldsymbol{x}}_0 &= D_\\text{begin}\\\\\n",
    "\\dot{\\boldsymbol{x}}_{N-1} &= D_\\text{end}\n",
    "\\end{align*}"
   ]
  },
  {
   "cell_type": "markdown",
   "metadata": {},
   "source": [
    "\\begin{equation*}\n",
    "\\left[\n",
    "\\begin{matrix}\n",
    "1 &&&& \\cdots & 0\\\\\n",
    "1 & 4 & 1 &&& \\vdots \\\\\n",
    "& 1 & 4 & 1 && \\\\\n",
    "&& \\ddots & \\ddots && \\\\\n",
    "&& 1 & 4 & 1 & \\\\\n",
    "\\vdots &&& 1 & 4 & 1\\\\\n",
    "0 & \\cdots &&&& 1\n",
    "\\end{matrix}\n",
    "\\right]\n",
    "\\left[\n",
    "\\begin{matrix}\n",
    "\\dot{\\boldsymbol{x}}_0\\\\\n",
    "\\dot{\\boldsymbol{x}}_1\\\\\n",
    "\\vdots\\\\\n",
    "\\dot{\\boldsymbol{x}}_{N-2}\\\\\n",
    "\\dot{\\boldsymbol{x}}_{N-1}\n",
    "\\end{matrix}\n",
    "\\right]\n",
    "=\n",
    "\\left[\n",
    "\\begin{matrix}\n",
    "D_\\text{begin}\\\\\n",
    "3 (\\boldsymbol{x}_2 - \\boldsymbol{x}_0)\\\\\n",
    "3 (\\boldsymbol{x}_3 - \\boldsymbol{x}_1)\\\\\n",
    "\\vdots\\\\\n",
    "3 (\\boldsymbol{x}_{N-2} - \\boldsymbol{x}_{N-4})\\\\\n",
    "3 (\\boldsymbol{x}_{N-1} - \\boldsymbol{x}_{N-3})\\\\\n",
    "D_\\text{begin}\n",
    "\\end{matrix}\n",
    "\\right]\n",
    "\\end{equation*}"
   ]
  },
  {
   "cell_type": "markdown",
   "metadata": {},
   "source": [
    "### Closed"
   ]
  },
  {
   "cell_type": "markdown",
   "metadata": {},
   "source": [
    "\\begin{equation*}\n",
    "\\left[\n",
    "\\begin{matrix}\n",
    "4 & 1 && \\cdots & 0 & 1\\\\\n",
    "1 & 4 & 1 && 0 & 0 \\\\\n",
    "& 1 & 4 & 1 && \\vdots \\\\\n",
    "&& \\ddots & \\ddots && \\\\\n",
    "\\vdots && 1 & 4 & 1 & \\\\\n",
    "0 & 0 && 1 & 4 & 1\\\\\n",
    "1 & 0 & \\cdots && 1 & 4\n",
    "\\end{matrix}\n",
    "\\right]\n",
    "\\left[\n",
    "\\begin{matrix}\n",
    "\\dot{\\boldsymbol{x}}_0\\\\\n",
    "\\dot{\\boldsymbol{x}}_1\\\\\n",
    "\\vdots\\\\\n",
    "\\dot{\\boldsymbol{x}}_{N-2}\\\\\n",
    "\\dot{\\boldsymbol{x}}_{N-1}\n",
    "\\end{matrix}\n",
    "\\right]\n",
    "=\n",
    "\\left[\n",
    "\\begin{matrix}\n",
    "3 (\\boldsymbol{x}_1 - \\boldsymbol{x}_{N-1})\\\\\n",
    "3 (\\boldsymbol{x}_2 - \\boldsymbol{x}_0)\\\\\n",
    "3 (\\boldsymbol{x}_3 - \\boldsymbol{x}_1)\\\\\n",
    "\\vdots\\\\\n",
    "3 (\\boldsymbol{x}_{N-2} - \\boldsymbol{x}_{N-4})\\\\\n",
    "3 (\\boldsymbol{x}_{N-1} - \\boldsymbol{x}_{N-3})\\\\\n",
    "3 (\\boldsymbol{x}_{0} - \\boldsymbol{x}_{N-2})\n",
    "\\end{matrix}\n",
    "\\right]\n",
    "\\end{equation*}"
   ]
  },
  {
   "cell_type": "markdown",
   "metadata": {},
   "source": [
    "## Solving the System of Equations"
   ]
  },
  {
   "cell_type": "markdown",
   "metadata": {},
   "source": [
    "tridiagonal matrix algorithm\n",
    "\n",
    "https://en.wikipedia.org/wiki/Tridiagonal_matrix_algorithm\n",
    "\n",
    "[https://www.cfd-online.com/Wiki/Tridiagonal_matrix_algorithm](https://www.cfd-online.com/Wiki/Tridiagonal_matrix_algorithm_-_TDMA_(Thomas_algorithm))\n",
    "\n",
    "https://gist.github.com/cbellei/8ab3ab8551b8dfc8b081c518ccd9ada9\n",
    "\n",
    "https://gist.github.com/TheoChristiaanse/d168b7e57dd30342a81aa1dc4eb3e469"
   ]
  }
 ],
 "metadata": {
  "kernelspec": {
   "display_name": "Python 3",
   "language": "python",
   "name": "python3"
  },
  "language_info": {
   "codemirror_mode": {
    "name": "ipython",
    "version": 3
   },
   "file_extension": ".py",
   "mimetype": "text/x-python",
   "name": "python",
   "nbconvert_exporter": "python",
   "pygments_lexer": "ipython3",
   "version": "3.9.1"
  }
 },
 "nbformat": 4,
 "nbformat_minor": 4
}
