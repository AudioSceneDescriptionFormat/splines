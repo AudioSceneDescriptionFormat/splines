{
 "cells": [
  {
   "cell_type": "markdown",
   "metadata": {
    "nbsphinx": "hidden"
   },
   "source": [
    "This notebook is part of https://github.com/AudioSceneDescriptionFormat/splines, see also https://splines.readthedocs.io/."
   ]
  },
  {
   "cell_type": "markdown",
   "metadata": {},
   "source": [
    "# Parametric Polynomial Curves\n",
    "\n",
    "The building blocks for\n",
    "*polynomial splines*\n",
    "are of course [polynomials](https://en.wikipedia.org/wiki/Polynomial)."
   ]
  },
  {
   "cell_type": "markdown",
   "metadata": {},
   "source": [
    "But first things first,\n",
    "let's import [SymPy](https://www.sympy.org/)\n",
    "and a few helper functions from [helper.py](helper.py):"
   ]
  },
  {
   "cell_type": "code",
   "execution_count": null,
   "metadata": {},
   "outputs": [],
   "source": [
    "import sympy as sp\n",
    "sp.init_printing(order='grevlex')\n",
    "from helper import plot_basis, plot_sympy, grid_lines, plot_spline_2d"
   ]
  },
  {
   "cell_type": "markdown",
   "metadata": {},
   "source": [
    "We are mostly interested in *univariate* splines,\n",
    "i.e. curves with one free parameter,\n",
    "which are built using polynomials with a single parameter.\n",
    "Here we are calling this parameter $t$.\n",
    "You can think about it as *time* (e.g. in seconds),\n",
    "but it doesn't have to represent time."
   ]
  },
  {
   "cell_type": "code",
   "execution_count": null,
   "metadata": {},
   "outputs": [],
   "source": [
    "t = sp.symbols('t')"
   ]
  },
  {
   "cell_type": "markdown",
   "metadata": {},
   "source": [
    "Polynomials typically consist of multiple *terms*.\n",
    "Each term contains a *basis function*,\n",
    "which itself contains one or more integer powers of $t$.\n",
    "The highest power of all terms is called the *degree* of the polynomial."
   ]
  },
  {
   "cell_type": "markdown",
   "metadata": {},
   "source": [
    "The arguably simplest set of basis functions\n",
    "is the *monomial basis*, a.k.a. *power basis*,\n",
    "which simply consists of all powers of $t$ up to the given degree:"
   ]
  },
  {
   "cell_type": "code",
   "execution_count": null,
   "metadata": {},
   "outputs": [],
   "source": [
    "b_monomial = sp.Matrix([t**3, t**2, t, 1]).T\n",
    "b_monomial"
   ]
  },
  {
   "cell_type": "markdown",
   "metadata": {},
   "source": [
    "In this example we are creating polynomials of degree 3,\n",
    "which are also called *cubic* polynomials."
   ]
  },
  {
   "cell_type": "markdown",
   "metadata": {},
   "source": [
    "The ordering of the basis functions is purely a matter of convention,\n",
    "here we are sorting them in order of descending powers."
   ]
  },
  {
   "cell_type": "markdown",
   "metadata": {},
   "source": [
    "These basis functions are multiplied by (constant) *coefficients*.\n",
    "We are writing the coefficients with bold symbols,\n",
    "because apart from simple scalars (for one-dimensional functions),\n",
    "these symbols can also represent vectors in two- or three-dimensional space\n",
    "(and even higher-dimensional spaces)."
   ]
  },
  {
   "cell_type": "code",
   "execution_count": null,
   "metadata": {},
   "outputs": [],
   "source": [
    "coefficients = sp.Matrix(sp.symbols('a:dbm')[::-1])\n",
    "coefficients"
   ]
  },
  {
   "cell_type": "markdown",
   "metadata": {},
   "source": [
    "We can create a polynomial by\n",
    "multiplying the basis functions with the coefficients\n",
    "and then adding all terms:"
   ]
  },
  {
   "cell_type": "code",
   "execution_count": null,
   "metadata": {},
   "outputs": [],
   "source": [
    "b_monomial.dot(coefficients)"
   ]
  },
  {
   "cell_type": "markdown",
   "metadata": {},
   "source": [
    "This is a cubic polynomial in its *canonical form*\n",
    "(because it uses monomial basis functions).\n",
    "\n",
    "Let's take a closer look at those basis functions:"
   ]
  },
  {
   "cell_type": "code",
   "execution_count": null,
   "metadata": {},
   "outputs": [],
   "source": [
    "plot_basis(*b_monomial)"
   ]
  },
  {
   "cell_type": "markdown",
   "metadata": {},
   "source": [
    "It doesn't look like much,\n",
    "but every conceivable cubic polynomial\n",
    "can be expressed as exactly one linear combination\n",
    "of those basis functions\n",
    "(i.e. using one specific list of coefficients).\n",
    "\n",
    "An example polynomial that's not in canonical form ..."
   ]
  },
  {
   "cell_type": "code",
   "execution_count": null,
   "metadata": {},
   "outputs": [],
   "source": [
    "example_polynomial = (2 * t - 1)**3 + (t + 1)**2 - 6 * t + 1\n",
    "example_polynomial"
   ]
  },
  {
   "cell_type": "code",
   "execution_count": null,
   "metadata": {},
   "outputs": [],
   "source": [
    "plot_sympy(example_polynomial, (t, 0, 1))\n",
    "grid_lines([0, 1], [0, 0.5, 1])"
   ]
  },
  {
   "cell_type": "markdown",
   "metadata": {},
   "source": [
    "... can simply be re-written with monomial basis functions:"
   ]
  },
  {
   "cell_type": "code",
   "execution_count": null,
   "metadata": {},
   "outputs": [],
   "source": [
    "example_polynomial.expand()"
   ]
  },
  {
   "cell_type": "markdown",
   "metadata": {},
   "source": [
    "Any polynomial can be rewritten using any set of basis functions\n",
    "(as long as the degree of the basis function set matches the degree of the polynomial)."
   ]
  },
  {
   "cell_type": "markdown",
   "metadata": {},
   "source": [
    "In later sections we will see more basis functions,\n",
    "for example those that are used for\n",
    "[Hermite](hermite-uniform.ipynb),\n",
    "[Bézier](bezier-de-casteljau.ipynb) and\n",
    "[Catmull--Rom](catmull-rom-uniform.ipynb) splines.\n",
    "In those sections we will also see how to convert\n",
    "between different bases by means of matrix multiplication."
   ]
  },
  {
   "cell_type": "markdown",
   "metadata": {},
   "source": [
    "In the previous example,\n",
    "we used scalar coefficients\n",
    "to create a one-dimensional polynomial.\n",
    "We can use two-dimensional coefficients\n",
    "to create two-dimensional polynomial curves.\n",
    "Let's create a little class to try this:"
   ]
  },
  {
   "cell_type": "code",
   "execution_count": null,
   "metadata": {},
   "outputs": [],
   "source": [
    "import numpy as np\n",
    "\n",
    "class CubicPolynomial:\n",
    "    \n",
    "    grid = 0, 1\n",
    "    \n",
    "    def __init__(self, d, c, b, a):\n",
    "        self.coeffs = d, c, b, a\n",
    "\n",
    "    def evaluate(self, t):\n",
    "        t = np.expand_dims(t, -1)\n",
    "        return t**[3, 2, 1, 0] @ self.coeffs"
   ]
  },
  {
   "cell_type": "markdown",
   "metadata": {},
   "source": [
    "<div class=\"alert alert-info\">\n",
    "\n",
    "Note\n",
    "\n",
    "The `@` operator is used here to do\n",
    "[NumPy's matrix multiplication](https://numpy.org/doc/stable/reference/generated/numpy.matmul.html).\n",
    "\n",
    "</div>"
   ]
  },
  {
   "cell_type": "code",
   "execution_count": null,
   "metadata": {},
   "outputs": [],
   "source": [
    "poly_2d = CubicPolynomial([-1.5, 5], [1.5, -8.5], [1, 4], [3, 2])"
   ]
  },
  {
   "cell_type": "markdown",
   "metadata": {},
   "source": [
    "Since this class has the same interface as the splines\n",
    "that will be discussed in later sections,\n",
    "we can use a spline helper function for plotting:"
   ]
  },
  {
   "cell_type": "code",
   "execution_count": null,
   "metadata": {},
   "outputs": [],
   "source": [
    "plot_spline_2d(poly_2d, dots_per_second=30, chords=False)"
   ]
  },
  {
   "cell_type": "markdown",
   "metadata": {},
   "source": [
    "This class can also be used with three and more dimensions.\n",
    "The class [splines.Monomial](../python-module/splines.rst#splines.Monomial)\n",
    "can be used to try this with arbitrary polynomial degree."
   ]
  }
 ],
 "metadata": {
  "kernelspec": {
   "display_name": "Python 3 (ipykernel)",
   "language": "python",
   "name": "python3"
  },
  "language_info": {
   "codemirror_mode": {
    "name": "ipython",
    "version": 3
   },
   "file_extension": ".py",
   "mimetype": "text/x-python",
   "name": "python",
   "nbconvert_exporter": "python",
   "pygments_lexer": "ipython3",
   "version": "3.11.2"
  }
 },
 "nbformat": 4,
 "nbformat_minor": 4
}
