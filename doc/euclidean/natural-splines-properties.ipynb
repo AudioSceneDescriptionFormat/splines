{
 "cells": [
  {
   "cell_type": "markdown",
   "metadata": {
    "nbsphinx": "hidden"
   },
   "source": [
    "This notebook is part of https://github.com/AudioSceneDescriptionFormat/splines, see also \n",
    "https://splines.readthedocs.io/.\n",
    "\n",
    "[back to overview](natural-splines.ipynb) -\n",
    "[derivation (uniform)](natural-splines-uniform.ipynb) -\n",
    "[derivation (non-uniform)](natural-splines-non-uniform.ipynb)"
   ]
  },
  {
   "cell_type": "markdown",
   "metadata": {},
   "source": [
    "# Properties of Natural Splines"
   ]
  },
  {
   "cell_type": "code",
   "execution_count": null,
   "metadata": {},
   "outputs": [],
   "source": [
    "import splines"
   ]
  },
  {
   "cell_type": "code",
   "execution_count": null,
   "metadata": {},
   "outputs": [],
   "source": [
    "vertices = [\n",
    "    (0, 0),\n",
    "    (1, 0),\n",
    "    (2, 1),\n",
    "    (3, 1),\n",
    "]"
   ]
  },
  {
   "cell_type": "code",
   "execution_count": null,
   "metadata": {},
   "outputs": [],
   "source": [
    "s = splines.Natural(vertices)"
   ]
  },
  {
   "cell_type": "code",
   "execution_count": null,
   "metadata": {},
   "outputs": [],
   "source": [
    "import matplotlib.pyplot as plt\n",
    "import numpy as np"
   ]
  },
  {
   "cell_type": "code",
   "execution_count": null,
   "metadata": {},
   "outputs": [],
   "source": [
    "def plot_spline(spline, dots_per_second=15, ax=None, **kwargs):\n",
    "    if ax is None:\n",
    "        ax = plt.gca()\n",
    "    total_duration = spline.grid[-1] - spline.grid[0]\n",
    "    times = spline.grid[0] + np.arange(int(total_duration * dots_per_second) + 1) / dots_per_second\n",
    "    ax.plot(*spline.evaluate(spline.grid).T,\n",
    "            linestyle=':', color='lightgrey',\n",
    "            marker='x', markeredgecolor='black')\n",
    "    ax.plot(*spline.evaluate(times).T, '.', **kwargs)\n",
    "    ax.axis('equal')"
   ]
  },
  {
   "cell_type": "code",
   "execution_count": null,
   "metadata": {},
   "outputs": [],
   "source": [
    "plot_spline(s)"
   ]
  },
  {
   "cell_type": "code",
   "execution_count": null,
   "metadata": {},
   "outputs": [],
   "source": [
    "plot_spline(splines.Natural(vertices, endconditions='natural'))\n",
    "plot_spline(splines.Natural(vertices, endconditions=[[0, 0], 'natural']))\n",
    "plot_spline(splines.Natural(vertices, endconditions=[[1, -1], 'natural']))\n",
    "plot_spline(splines.Natural(vertices, endconditions=[[2, -2], 'natural']))"
   ]
  },
  {
   "cell_type": "code",
   "execution_count": null,
   "metadata": {},
   "outputs": [],
   "source": [
    "s = splines.Natural(vertices, endconditions='closed')\n",
    "plot_spline(s)"
   ]
  },
  {
   "cell_type": "code",
   "execution_count": null,
   "metadata": {},
   "outputs": [],
   "source": [
    "s = splines.Natural(vertices, endconditions='closed', alpha=0.5)\n",
    "plot_spline(s)"
   ]
  }
 ],
 "metadata": {
  "kernelspec": {
   "display_name": "Python 3",
   "language": "python",
   "name": "python3"
  },
  "language_info": {
   "codemirror_mode": {
    "name": "ipython",
    "version": 3
   },
   "file_extension": ".py",
   "mimetype": "text/x-python",
   "name": "python",
   "nbconvert_exporter": "python",
   "pygments_lexer": "ipython3",
   "version": "3.9.1"
  }
 },
 "nbformat": 4,
 "nbformat_minor": 4
}
