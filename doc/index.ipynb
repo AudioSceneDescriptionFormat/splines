{
 "cells": [
  {
   "cell_type": "markdown",
   "metadata": {},
   "source": [
    "# Piecewise Polynomial Curves\n",
    "\n",
    "... with focus on non-uniform cubic curves in one, two and three dimensions."
   ]
  },
  {
   "cell_type": "markdown",
   "metadata": {},
   "source": [
    "Inspired by Ian Millington, \"Matrices and Conversions for Uniform Parametric Curves\", https://web.archive.org/web/20160305083440/http://therndguy.com."
   ]
  },
  {
   "cell_type": "markdown",
   "metadata": {
    "nbsphinx-toctree": {
     "maxdepth": 2
    }
   },
   "source": [
    "* [Polynomial Parametric Curves](polynomials.ipynb)\n",
    "* [Natural Splines](natural.ipynb)\n",
    "* [Uniform Hermite Splines](hermite-uniform.ipynb)\n",
    "* [Non-Uniform Hermite Splines](hermite-non-uniform.ipynb)\n",
    "* [Bézier Splines](bezier.ipynb)\n",
    "* [Uniform Catmull--Rom Splines](catmull-rom-uniform.ipynb)\n",
    "* [Catmull--Rom Splines (Recursive)](catmull-rom-recursive.ipynb)\n",
    "* [Finite Difference Splines](finite-difference.ipynb)\n",
    "* [\"Natural\" End Conditions](end-conditions-natural.ipynb)\n",
    "* [Uniform Kochanek--Bartels Splines](kochanek-bartels-uniform.ipynb)\n",
    "* [Non-Uniform Kochanek--Bartels Splines](kochanek-bartels-non-uniform.ipynb)\n",
    "* [Python module](python-module.rst)"
   ]
  }
 ],
 "metadata": {
  "kernelspec": {
   "display_name": "Python 3",
   "language": "python",
   "name": "python3"
  },
  "language_info": {
   "codemirror_mode": {
    "name": "ipython",
    "version": 3
   },
   "file_extension": ".py",
   "mimetype": "text/x-python",
   "name": "python",
   "nbconvert_exporter": "python",
   "pygments_lexer": "ipython3",
   "version": "3.6.6rc1+"
  }
 },
 "nbformat": 4,
 "nbformat_minor": 2
}
