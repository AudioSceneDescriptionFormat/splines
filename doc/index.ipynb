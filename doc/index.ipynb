{
 "cells": [
  {
   "cell_type": "markdown",
   "metadata": {
    "nbsphinx": "hidden"
   },
   "source": [
    "This notebook is part of https://github.com/AudioSceneDescriptionFormat/splines, see also https://splines.readthedocs.io/."
   ]
  },
  {
   "cell_type": "markdown",
   "metadata": {},
   "source": [
    "# Splines in Euclidean Space and Beyond\n",
    "\n",
    "... with focus on univariate, non-uniform piecewise cubic polynomial curves\n",
    "in one, two and three spatial dimensions,\n",
    "as well as rotation splines."
   ]
  },
  {
   "cell_type": "markdown",
   "metadata": {},
   "source": [
    "Inspired by <cite data-cite=\"millington2009matrices\">Ian Millington, \"Matrices and Conversions for Uniform Parametric Curves\", https://web.archive.org/web/20160305083440/http://therndguy.com</cite>."
   ]
  },
  {
   "cell_type": "markdown",
   "metadata": {
    "nbsphinx-toctree": {}
   },
   "source": [
    "* [Polynomial Curves in Euclidean Space](euclidean/index.ipynb)\n",
    "* [Rotation Splines](rotation/index.ipynb)\n",
    "* [Python module](python-module.rst)\n",
    "* [External Resources](external-resources.rst)\n",
    "* [References](references.rst)"
   ]
  }
 ],
 "metadata": {
  "kernelspec": {
   "display_name": "Python 3",
   "language": "python",
   "name": "python3"
  },
  "language_info": {
   "codemirror_mode": {
    "name": "ipython",
    "version": 3
   },
   "file_extension": ".py",
   "mimetype": "text/x-python",
   "name": "python",
   "nbconvert_exporter": "python",
   "pygments_lexer": "ipython3",
   "version": "3.9.1"
  }
 },
 "nbformat": 4,
 "nbformat_minor": 4
}
