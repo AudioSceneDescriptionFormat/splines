{
 "cells": [
  {
   "cell_type": "markdown",
   "metadata": {},
   "source": [
    "# Finite Difference Splines"
   ]
  },
  {
   "cell_type": "markdown",
   "metadata": {},
   "source": [
    "Idea: average velocity between the two adjoining line segments:\n",
    "\n",
    "\\begin{equation}\n",
    "\\boldsymbol{\\dot{x}}_i = \\frac{1}{2} \\left(\n",
    "\\frac{\\boldsymbol{x}_i - \\boldsymbol{x}_{i-1}}{t_i - t_{i-1}} +\n",
    "\\frac{\\boldsymbol{x}_{i + 1} - \\boldsymbol{x}_i}{t_{i + 1} - t_i}\n",
    "\\right)\n",
    "\\end{equation}"
   ]
  },
  {
   "cell_type": "markdown",
   "metadata": {},
   "source": [
    "According to [Wikipedia](https://en.wikipedia.org/wiki/Cubic_Hermite_spline#Finite_difference), this is called \"finite difference\" or \"three-point difference\"."
   ]
  },
  {
   "cell_type": "markdown",
   "metadata": {},
   "source": [
    "In the uniform case, this can be simplified to\n",
    "\n",
    "\\begin{equation}\n",
    "\\boldsymbol{\\dot{x}}_\\text{0,uniform} = \\frac{\\boldsymbol{x}_1 - \\boldsymbol{x}_{-1}}{2}\n",
    "\\end{equation}\n",
    "\n",
    "... which is equivalent to [uniform Catmull--Rom splines](catmull-rom-uniform.ipynb)."
   ]
  },
  {
   "cell_type": "code",
   "execution_count": null,
   "metadata": {},
   "outputs": [],
   "source": [
    "%matplotlib inline\n",
    "import sympy as sp\n",
    "sp.init_printing()"
   ]
  },
  {
   "cell_type": "code",
   "execution_count": null,
   "metadata": {},
   "outputs": [],
   "source": [
    "from utility import NamedExpression, NamedMatrix"
   ]
  },
  {
   "cell_type": "code",
   "execution_count": null,
   "metadata": {},
   "outputs": [],
   "source": [
    "x_1, x0, x1, x2 = sp.symbols('xbm_-1 xbm:3')"
   ]
  },
  {
   "cell_type": "code",
   "execution_count": null,
   "metadata": {},
   "outputs": [],
   "source": [
    "t, t_1, t0, t1, t2 = sp.symbols('t t_-1 t:3')"
   ]
  },
  {
   "cell_type": "code",
   "execution_count": null,
   "metadata": {},
   "outputs": [],
   "source": [
    "control_values_FD = sp.Matrix([x_1, x0, x1, x2])\n",
    "control_values_FD"
   ]
  },
  {
   "cell_type": "code",
   "execution_count": null,
   "metadata": {},
   "outputs": [],
   "source": [
    "xd0 = NamedExpression('xdotbm0', ((x0 - x_1) / (t0 - t_1) + (x1 - x0) / (t1 - t0)) / 2)\n",
    "xd0"
   ]
  },
  {
   "cell_type": "code",
   "execution_count": null,
   "metadata": {},
   "outputs": [],
   "source": [
    "xd1 = NamedExpression('xdotbm1', ((x1 - x0) / (t1 - t0) + (x2 - x1) / (t2 - t1)) / 2)\n",
    "xd1"
   ]
  },
  {
   "cell_type": "code",
   "execution_count": null,
   "metadata": {},
   "outputs": [],
   "source": [
    "control_values_H = sp.Matrix(sp.symbols('xbm:2 xdotbm:2'))\n",
    "control_values_H"
   ]
  },
  {
   "cell_type": "code",
   "execution_count": null,
   "metadata": {},
   "outputs": [],
   "source": [
    "M_H = NamedMatrix(\n",
    "    r'{M_\\text{H}}', \n",
    "    sp.S('Matrix([[2, -2, Delta0, Delta0], [-3, 3, -2*Delta0, -Delta0], [0, 0, Delta0, 0], [1, 0, 0, 0]])'))\n",
    "M_H"
   ]
  },
  {
   "cell_type": "code",
   "execution_count": null,
   "metadata": {},
   "outputs": [],
   "source": [
    "M_FDtoH = NamedMatrix(r'{M_{\\text{FD$\\to$H}}}', 4, 4)"
   ]
  },
  {
   "cell_type": "code",
   "execution_count": null,
   "metadata": {},
   "outputs": [],
   "source": [
    "M_FD = NamedMatrix(r'{M_\\text{FD}}', M_H.name * M_FDtoH.name)\n",
    "M_FD"
   ]
  },
  {
   "cell_type": "code",
   "execution_count": null,
   "metadata": {},
   "outputs": [],
   "source": [
    "sp.Eq(control_values_H, M_FDtoH.name * control_values_FD)"
   ]
  },
  {
   "cell_type": "code",
   "execution_count": null,
   "metadata": {},
   "outputs": [],
   "source": [
    "M_FDtoH.expr = sp.Matrix([[expr.expand().coeff(cv) for cv in control_values_FD]\n",
    "                          for expr in control_values_H.subs([xd0.args, xd1.args])])\n",
    "M_FDtoH"
   ]
  },
  {
   "cell_type": "code",
   "execution_count": null,
   "metadata": {},
   "outputs": [],
   "source": [
    "deltas = [\n",
    "    (t_1, -sp.Symbol('Delta_-1')),\n",
    "    (t0, 0),\n",
    "    (t1, sp.Symbol('Delta0')),\n",
    "    (t2, sp.Symbol('Delta0') + sp.Symbol('Delta1'))\n",
    "]"
   ]
  },
  {
   "cell_type": "code",
   "execution_count": null,
   "metadata": {},
   "outputs": [],
   "source": [
    "M_FDtoH.subs(deltas)"
   ]
  },
  {
   "cell_type": "code",
   "execution_count": null,
   "metadata": {},
   "outputs": [],
   "source": [
    "M_HtoFD = NamedMatrix(r'{M_{\\text{H$\\to$FD}}}', M_FDtoH.I.expr)\n",
    "M_HtoFD.subs(deltas).expand()"
   ]
  },
  {
   "cell_type": "code",
   "execution_count": null,
   "metadata": {},
   "outputs": [],
   "source": [
    "M_FD = M_FD.subs([M_H, M_FDtoH]).doit()\n",
    "M_FD.subs(deltas).expand()"
   ]
  },
  {
   "cell_type": "code",
   "execution_count": null,
   "metadata": {},
   "outputs": [],
   "source": [
    "M_FD.subs(deltas).I.expand()"
   ]
  },
  {
   "cell_type": "code",
   "execution_count": null,
   "metadata": {},
   "outputs": [],
   "source": [
    "uniform = [\n",
    "    (sp.Symbol('Delta_-1'), 1),\n",
    "    (sp.Symbol('Delta0') , 1),\n",
    "    (sp.Symbol('Delta1') , 1),\n",
    "    #(M_FD.name, sp.Symbol('{M_\\text{FD,uniform}}')),\n",
    "]"
   ]
  },
  {
   "cell_type": "code",
   "execution_count": null,
   "metadata": {},
   "outputs": [],
   "source": [
    "M_FD.subs(deltas).subs(uniform).pull_out(sp.S.Half).expr"
   ]
  },
  {
   "cell_type": "code",
   "execution_count": null,
   "metadata": {},
   "outputs": [],
   "source": []
  }
 ],
 "metadata": {
  "kernelspec": {
   "display_name": "Python 3",
   "language": "python",
   "name": "python3"
  },
  "language_info": {
   "codemirror_mode": {
    "name": "ipython",
    "version": 3
   },
   "file_extension": ".py",
   "mimetype": "text/x-python",
   "name": "python",
   "nbconvert_exporter": "python",
   "pygments_lexer": "ipython3",
   "version": "3.6.6rc1+"
  }
 },
 "nbformat": 4,
 "nbformat_minor": 2
}
