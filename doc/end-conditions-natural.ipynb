{
 "cells": [
  {
   "cell_type": "markdown",
   "metadata": {},
   "source": [
    "# \"Natural\" End Conditions\n",
    "\n",
    "For the first and last segment, we assume that the inner tangent is known.\n",
    "We try to find the outer tangent by setting the second derivative to a fixed value (typically 0).\n",
    "\n",
    "We are looking only at the non-uniform case, it's easy to get to the uniform case by setting $\\Delta_0 = 1$."
   ]
  },
  {
   "cell_type": "code",
   "execution_count": null,
   "metadata": {},
   "outputs": [],
   "source": [
    "%matplotlib inline"
   ]
  },
  {
   "cell_type": "code",
   "execution_count": null,
   "metadata": {},
   "outputs": [],
   "source": [
    "import sympy as sp\n",
    "sp.init_printing(order='rev-lex')"
   ]
  },
  {
   "cell_type": "code",
   "execution_count": null,
   "metadata": {},
   "outputs": [],
   "source": [
    "from utility import NamedExpression, NamedMatrix"
   ]
  },
  {
   "cell_type": "code",
   "execution_count": null,
   "metadata": {},
   "outputs": [],
   "source": [
    "t, t0, t1 = sp.symbols('t t:2')"
   ]
  },
  {
   "cell_type": "code",
   "execution_count": null,
   "metadata": {},
   "outputs": [],
   "source": [
    "delta = t1 - t0, sp.Symbol('Delta0')\n",
    "sp.Eq(*delta)"
   ]
  },
  {
   "cell_type": "code",
   "execution_count": null,
   "metadata": {},
   "outputs": [],
   "source": [
    "coefficients = sp.Matrix(sp.symbols('abm:4')[::-1])\n",
    "coefficients"
   ]
  },
  {
   "cell_type": "code",
   "execution_count": null,
   "metadata": {},
   "outputs": [],
   "source": [
    "sp.Matrix([t**3, t**2, t, 1]).dot(coefficients)"
   ]
  },
  {
   "cell_type": "code",
   "execution_count": null,
   "metadata": {},
   "outputs": [],
   "source": [
    "p = _.subs(t, (t - t0) / (t1 - t0))\n",
    "p.subs(*delta)"
   ]
  },
  {
   "cell_type": "markdown",
   "metadata": {},
   "source": [
    "## Begin"
   ]
  },
  {
   "cell_type": "markdown",
   "metadata": {},
   "source": [
    "\\begin{align}\n",
    "\\boldsymbol{x}_0 &= \\boldsymbol{p}(t_0)\\\\\n",
    "\\boldsymbol{x}_1 &= \\boldsymbol{p}(t_1)\\\\\n",
    "\\boldsymbol{\\dot{x}}_1 &= \\boldsymbol{p}'(t_1)\\\\\n",
    "\\boldsymbol{\\ddot{x}}_0 &= \\boldsymbol{p}''(t_0)\n",
    "\\end{align}"
   ]
  },
  {
   "cell_type": "code",
   "execution_count": null,
   "metadata": {},
   "outputs": [],
   "source": [
    "x0 = NamedExpression('xbm0', p.subs(t, t0))\n",
    "x0"
   ]
  },
  {
   "cell_type": "code",
   "execution_count": null,
   "metadata": {},
   "outputs": [],
   "source": [
    "x1 = NamedExpression('xbm1', p.subs(t, t1))\n",
    "x1"
   ]
  },
  {
   "cell_type": "markdown",
   "metadata": {},
   "source": [
    "Velocity = Tangent Vector = Derivative:"
   ]
  },
  {
   "cell_type": "code",
   "execution_count": null,
   "metadata": {},
   "outputs": [],
   "source": [
    "velocity = p.diff(t)\n",
    "velocity.subs(*delta)"
   ]
  },
  {
   "cell_type": "code",
   "execution_count": null,
   "metadata": {},
   "outputs": [],
   "source": [
    "xd1 = NamedExpression('xdotbm1', velocity.subs(t, t1).simplify())\n",
    "xd1.subs(*delta)"
   ]
  },
  {
   "cell_type": "markdown",
   "metadata": {},
   "source": [
    "Acceleration = Second Derivative"
   ]
  },
  {
   "cell_type": "code",
   "execution_count": null,
   "metadata": {},
   "outputs": [],
   "source": [
    "acceleration = p.diff(t, t)\n",
    "acceleration.subs(*delta)"
   ]
  },
  {
   "cell_type": "code",
   "execution_count": null,
   "metadata": {},
   "outputs": [],
   "source": [
    "xdd0 = NamedExpression('xddotbm0', acceleration.subs(t, t0))\n",
    "xdd0.subs(*delta)"
   ]
  },
  {
   "cell_type": "code",
   "execution_count": null,
   "metadata": {},
   "outputs": [],
   "source": [
    "control_values_begin = NamedMatrix(sp.Matrix([x0.name, x1.name, xd1.name, xdd0.name]))"
   ]
  },
  {
   "cell_type": "code",
   "execution_count": null,
   "metadata": {},
   "outputs": [],
   "source": [
    "M_begin = NamedMatrix(r'{M_\\text{begin}}', 4, 4)"
   ]
  },
  {
   "cell_type": "code",
   "execution_count": null,
   "metadata": {},
   "outputs": [],
   "source": [
    "sp.Eq(coefficients, M_begin.name * control_values_begin.name)"
   ]
  },
  {
   "cell_type": "code",
   "execution_count": null,
   "metadata": {},
   "outputs": [],
   "source": [
    "control_values_begin.expr = M_begin.name.I * coefficients\n",
    "control_values_begin"
   ]
  },
  {
   "cell_type": "code",
   "execution_count": null,
   "metadata": {},
   "outputs": [],
   "source": [
    "substitutions = x0, x1, xd1, xdd0"
   ]
  },
  {
   "cell_type": "code",
   "execution_count": null,
   "metadata": {},
   "outputs": [],
   "source": [
    "control_values_begin.subs(substitutions).subs(*delta)"
   ]
  },
  {
   "cell_type": "code",
   "execution_count": null,
   "metadata": {},
   "outputs": [],
   "source": [
    "M_begin.I = sp.Matrix([[expr.expand().coeff(cv).factor() for cv in coefficients]\n",
    "                        for expr in control_values_begin.subs(substitutions).name])\n",
    "M_begin.I.subs(*delta)"
   ]
  },
  {
   "cell_type": "code",
   "execution_count": null,
   "metadata": {},
   "outputs": [],
   "source": [
    "M_begin.pull_out(sp.S.One / 4).subs(*delta)"
   ]
  },
  {
   "cell_type": "code",
   "execution_count": null,
   "metadata": {},
   "outputs": [],
   "source": [
    "xd0 = NamedExpression('xdotbm0')\n",
    "xd0.name"
   ]
  },
  {
   "cell_type": "code",
   "execution_count": null,
   "metadata": {},
   "outputs": [],
   "source": [
    "control_values_H = NamedMatrix(sp.Matrix([x0.name, x1.name, xd0.name, xd1.name]))\n",
    "control_values_H.name"
   ]
  },
  {
   "cell_type": "markdown",
   "metadata": {},
   "source": [
    "from [notebook about non-uniform Hermite splines](hermite-non-uniform.ipynb)"
   ]
  },
  {
   "cell_type": "code",
   "execution_count": null,
   "metadata": {},
   "outputs": [],
   "source": [
    "M_H = NamedMatrix(\n",
    "    r'{M_\\text{H}}',\n",
    "    sp.S('Matrix([[2, -2, Delta0, Delta0], [-3, 3, -2*Delta0, -Delta0], [0, 0, Delta0, 0], [1, 0, 0, 0]])'))\n",
    "M_H"
   ]
  },
  {
   "cell_type": "code",
   "execution_count": null,
   "metadata": {},
   "outputs": [],
   "source": [
    "sp.Eq(coefficients, M_begin.name * control_values_begin.name)"
   ]
  },
  {
   "cell_type": "code",
   "execution_count": null,
   "metadata": {},
   "outputs": [],
   "source": [
    "sp.Eq(coefficients, M_H.name * control_values_H.name)"
   ]
  },
  {
   "cell_type": "code",
   "execution_count": null,
   "metadata": {},
   "outputs": [],
   "source": [
    "control_values_H.expr = M_H.I.name * M_begin.name * control_values_begin.name\n",
    "control_values_H"
   ]
  },
  {
   "cell_type": "code",
   "execution_count": null,
   "metadata": {},
   "outputs": [],
   "source": [
    "control_values_H = control_values_H.subs([M_H.I, M_begin]).doit().simplify()\n",
    "control_values_H.subs(*delta)"
   ]
  },
  {
   "cell_type": "code",
   "execution_count": null,
   "metadata": {},
   "outputs": [],
   "source": [
    "xd0.expr = control_values_H.expr[2]\n",
    "xd0.subs(*delta)"
   ]
  },
  {
   "cell_type": "markdown",
   "metadata": {},
   "source": [
    "if the second derivative is zero:"
   ]
  },
  {
   "cell_type": "code",
   "execution_count": null,
   "metadata": {},
   "outputs": [],
   "source": [
    "xd0.subs(xdd0.name, 0).subs(*delta).simplify()"
   ]
  },
  {
   "cell_type": "markdown",
   "metadata": {},
   "source": [
    "## End\n",
    "\n",
    "\\begin{align}\n",
    "\\boldsymbol{x}_0 &= \\boldsymbol{p}(t_0)\\\\\n",
    "\\boldsymbol{x}_1 &= \\boldsymbol{p}(t_1)\\\\\n",
    "\\boldsymbol{\\dot{x}}_0 &= \\boldsymbol{p}'(t_0)\\\\\n",
    "\\boldsymbol{\\ddot{x}}_1 &= \\boldsymbol{p}''(t_1)\n",
    "\\end{align}"
   ]
  },
  {
   "cell_type": "code",
   "execution_count": null,
   "metadata": {},
   "outputs": [],
   "source": [
    "x0"
   ]
  },
  {
   "cell_type": "code",
   "execution_count": null,
   "metadata": {},
   "outputs": [],
   "source": [
    "x1"
   ]
  },
  {
   "cell_type": "code",
   "execution_count": null,
   "metadata": {},
   "outputs": [],
   "source": [
    "xd0 = NamedExpression('xdotbm0', velocity.subs(t, t0))\n",
    "xd0.subs(*delta)"
   ]
  },
  {
   "cell_type": "code",
   "execution_count": null,
   "metadata": {},
   "outputs": [],
   "source": [
    "xdd1 = NamedExpression('xddotbm1', acceleration.subs(t, t1).simplify())\n",
    "xdd1.subs(*delta)"
   ]
  },
  {
   "cell_type": "code",
   "execution_count": null,
   "metadata": {},
   "outputs": [],
   "source": [
    "control_values_end = NamedMatrix(sp.Matrix([x0.name, x1.name, xd0.name, xdd1.name]))"
   ]
  },
  {
   "cell_type": "code",
   "execution_count": null,
   "metadata": {},
   "outputs": [],
   "source": [
    "M_end = NamedMatrix(r'{M_\\text{end}}', 4, 4)"
   ]
  },
  {
   "cell_type": "code",
   "execution_count": null,
   "metadata": {},
   "outputs": [],
   "source": [
    "control_values_end.expr = M_end.name.I * coefficients\n",
    "control_values_end"
   ]
  },
  {
   "cell_type": "code",
   "execution_count": null,
   "metadata": {},
   "outputs": [],
   "source": [
    "substitutions = x0, x1, xd0, xdd1"
   ]
  },
  {
   "cell_type": "code",
   "execution_count": null,
   "metadata": {},
   "outputs": [],
   "source": [
    "M_end.I = sp.Matrix([[expr.expand().coeff(cv).factor() for cv in coefficients]\n",
    "                     for expr in control_values_end.subs(substitutions).name])\n",
    "M_end.I.subs(*delta)"
   ]
  },
  {
   "cell_type": "code",
   "execution_count": null,
   "metadata": {},
   "outputs": [],
   "source": [
    "M_end.factor().subs(*delta).pull_out(sp.S.One / 4)"
   ]
  },
  {
   "cell_type": "code",
   "execution_count": null,
   "metadata": {},
   "outputs": [],
   "source": [
    "control_values_H.expr = sp.simplify(M_H.I.expr * M_end.expr * control_values_end.name)\n",
    "control_values_H.subs(*delta)"
   ]
  },
  {
   "cell_type": "code",
   "execution_count": null,
   "metadata": {},
   "outputs": [],
   "source": [
    "xd1.expr = control_values_H.expr[3].simplify()\n",
    "xd1.subs(*delta)"
   ]
  },
  {
   "cell_type": "markdown",
   "metadata": {},
   "source": [
    "if the second derivative is supposed to be zero:"
   ]
  },
  {
   "cell_type": "code",
   "execution_count": null,
   "metadata": {},
   "outputs": [],
   "source": [
    "xd1.subs(xdd1.name, 0).subs(*delta).simplify()"
   ]
  },
  {
   "cell_type": "markdown",
   "metadata": {},
   "source": [
    "Luckily, that's the same as we got above,\n",
    "just with $\\boldsymbol{\\dot{x}}_0$ and $\\boldsymbol{\\dot{x}}_1$ flipped."
   ]
  },
  {
   "cell_type": "markdown",
   "metadata": {},
   "source": [
    "## Example\n",
    "\n",
    "one-dimensional; 3 time/value pairs are given.\n",
    "The slope for the middle value is given, the begin and end slopes are calculated using the \"natural\" end condition."
   ]
  },
  {
   "cell_type": "code",
   "execution_count": null,
   "metadata": {},
   "outputs": [],
   "source": [
    "basis = sp.Matrix([t**3, t**2, t, 1]).T"
   ]
  },
  {
   "cell_type": "code",
   "execution_count": null,
   "metadata": {},
   "outputs": [],
   "source": [
    "one, = basis * M_begin.expr * control_values_begin.name\n",
    "two, = basis * M_end.expr * control_values_end.name"
   ]
  },
  {
   "cell_type": "code",
   "execution_count": null,
   "metadata": {},
   "outputs": [],
   "source": [
    "one = one.subs(t, (t - t0) / (t1 - t0))\n",
    "two = two.subs(t, (t - t0) / (t1 - t0))"
   ]
  },
  {
   "cell_type": "code",
   "execution_count": null,
   "metadata": {},
   "outputs": [],
   "source": [
    "values = 2, 2, 2\n",
    "times = 0, 4, 5\n",
    "slope = 2\n",
    "sp.plot((one.subs([(t0, times[0]), (t1, times[1]), (x0.name, values[0]), (x1.name, values[1]),\n",
    "                   (xd1.name, slope), (xdd0.name, 0)]), (t, times[0], times[1])),\n",
    "        (two.subs([(t0, times[1]), (t1, times[2]), (x0.name, values[1]), (x1.name, values[2]),\n",
    "                   (xd0.name, slope), (xdd1.name, 0)]), (t, times[1], times[2])),\n",
    "        axis_center=(0, values[1]));"
   ]
  }
 ],
 "metadata": {
  "kernelspec": {
   "display_name": "Python 3",
   "language": "python",
   "name": "python3"
  },
  "language_info": {
   "codemirror_mode": {
    "name": "ipython",
    "version": 3
   },
   "file_extension": ".py",
   "mimetype": "text/x-python",
   "name": "python",
   "nbconvert_exporter": "python",
   "pygments_lexer": "ipython3",
   "version": "3.6.6rc1+"
  }
 },
 "nbformat": 4,
 "nbformat_minor": 2
}
