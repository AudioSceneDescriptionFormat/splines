{
 "cells": [
  {
   "cell_type": "markdown",
   "metadata": {},
   "source": [
    "# Non-Uniform Cubic Hermite Splines\n",
    "\n",
    "Uniform spline: each segment is defined on the same unit interval, regardless how far apart (spatially) their start and end points are.\n",
    "Longer elements show a higher velocity.\n",
    "But the tangent vectors can be defined in a way that the velocity is smoothly changing from one segment to the next ($C^1$ continuity).\n",
    "\n",
    "Idea: just use a larger time interval for longer segments?\n",
    "But this doesn't work!\n",
    "If we make the incoming and outgoing tangent vector the same, there is a sudden change in speed at the segment border ($G^1$ continuity):\n",
    "\n",
    "TODO: image"
   ]
  },
  {
   "cell_type": "markdown",
   "metadata": {},
   "source": [
    "For non-unit intervals we'll have to go back to the drawing board!\n",
    "It will turn out that the size of the time interval $\\Delta_0$ has to scale the tangent vectors for this to keep working.\n",
    "\n",
    "Plan: substitute $t \\to \\frac{t - t_0}{t_1 - t_0}$ and do the same as for uniform Hermine splines."
   ]
  },
  {
   "cell_type": "code",
   "execution_count": null,
   "metadata": {},
   "outputs": [],
   "source": [
    "%matplotlib inline\n",
    "from IPython.display import display"
   ]
  },
  {
   "cell_type": "code",
   "execution_count": null,
   "metadata": {},
   "outputs": [],
   "source": [
    "import sympy as sp\n",
    "sp.init_printing(order='rev-lex')"
   ]
  },
  {
   "cell_type": "code",
   "execution_count": null,
   "metadata": {},
   "outputs": [],
   "source": [
    "from utility import NamedExpression, NamedMatrix"
   ]
  },
  {
   "cell_type": "code",
   "execution_count": null,
   "metadata": {},
   "outputs": [],
   "source": [
    "t, t0, t1 = sp.symbols('t t:2')"
   ]
  },
  {
   "cell_type": "code",
   "execution_count": null,
   "metadata": {},
   "outputs": [],
   "source": [
    "delta = t1 - t0, sp.S('Delta0')\n",
    "sp.Eq(*delta)"
   ]
  },
  {
   "cell_type": "code",
   "execution_count": null,
   "metadata": {},
   "outputs": [],
   "source": [
    "coefficients = sp.Matrix(sp.symbols('abm:4')[::-1])\n",
    "b_monomial = sp.Matrix([t**3, t**2, t, 1]).T\n",
    "b_monomial.dot(coefficients)"
   ]
  },
  {
   "cell_type": "code",
   "execution_count": null,
   "metadata": {},
   "outputs": [],
   "source": [
    "p = _.subs(t, (t - t0) / (t1 - t0))\n",
    "p.subs(*delta)"
   ]
  },
  {
   "cell_type": "code",
   "execution_count": null,
   "metadata": {},
   "outputs": [],
   "source": [
    "velocity = p.diff(t)\n",
    "velocity.subs(*delta)"
   ]
  },
  {
   "cell_type": "markdown",
   "metadata": {},
   "source": [
    "The start and end point are the same as in the uniform case, since the amount of time in the interval doesn't affect them:"
   ]
  },
  {
   "cell_type": "code",
   "execution_count": null,
   "metadata": {},
   "outputs": [],
   "source": [
    "x0 = NamedExpression('xbm0', p.subs(t, t0))\n",
    "x1 = NamedExpression('xbm1', p.subs(t, t1))\n",
    "display(x0, x1)"
   ]
  },
  {
   "cell_type": "markdown",
   "metadata": {},
   "source": [
    "The velocities are similar to the uniform case, but they are divided by the interval $\\Delta_0 = t_1 - t_0$:"
   ]
  },
  {
   "cell_type": "code",
   "execution_count": null,
   "metadata": {},
   "outputs": [],
   "source": [
    "xd0 = NamedExpression('xdotbm0', velocity.subs(t, t0))\n",
    "xd1 = NamedExpression('xdotbm1', velocity.subs(t, t1).factor())\n",
    "display(xd0.subs(*delta), xd1.subs(*delta))"
   ]
  },
  {
   "cell_type": "markdown",
   "metadata": {},
   "source": [
    "As before, we can now try to extract the matrix values from the equations:"
   ]
  },
  {
   "cell_type": "code",
   "execution_count": null,
   "metadata": {},
   "outputs": [],
   "source": [
    "M_H = NamedMatrix(r'{M_\\text{H}}', 4, 4)"
   ]
  },
  {
   "cell_type": "code",
   "execution_count": null,
   "metadata": {},
   "outputs": [],
   "source": [
    "control_values_H = NamedMatrix(sp.Matrix([x0.name, x1.name, xd0.name, xd1.name]),\n",
    "                               M_H.name.I * coefficients)\n",
    "control_values_H"
   ]
  },
  {
   "cell_type": "code",
   "execution_count": null,
   "metadata": {},
   "outputs": [],
   "source": [
    "substitutions = x0, x1, xd0, xd1"
   ]
  },
  {
   "cell_type": "code",
   "execution_count": null,
   "metadata": {},
   "outputs": [],
   "source": [
    "control_values_H.subs(substitutions).subs(*delta)"
   ]
  },
  {
   "cell_type": "code",
   "execution_count": null,
   "metadata": {},
   "outputs": [],
   "source": [
    "M_H.I = sp.Matrix([[expr.expand().coeff(c) for c in coefficients]\n",
    "                   for expr in control_values_H.subs(substitutions).name])\n",
    "M_H.I.subs(*delta)"
   ]
  },
  {
   "cell_type": "code",
   "execution_count": null,
   "metadata": {},
   "outputs": [],
   "source": [
    "print(_.expr)"
   ]
  },
  {
   "cell_type": "code",
   "execution_count": null,
   "metadata": {},
   "outputs": [],
   "source": [
    "M_H.factor().subs(*delta)"
   ]
  },
  {
   "cell_type": "code",
   "execution_count": null,
   "metadata": {},
   "outputs": [],
   "source": [
    "print(_.expr)"
   ]
  },
  {
   "cell_type": "code",
   "execution_count": null,
   "metadata": {},
   "outputs": [],
   "source": [
    "b_H = NamedMatrix(r'{b_\\text{H}}', b_monomial * M_H.expr)\n",
    "b_H.factor().subs(*delta).simplify().T"
   ]
  },
  {
   "cell_type": "markdown",
   "metadata": {},
   "source": [
    "So those are the new basis functions.\n",
    "They are the same as in the uniform case, except that the last two (the ones corresponding to the the tangent vectors at the start and the end) are scaled by $\\Delta_0$."
   ]
  },
  {
   "cell_type": "markdown",
   "metadata": {},
   "source": [
    "With non-uniform splines, the coefficients are different for each segment,\n",
    "because generally the values $\\Delta_i$ are different."
   ]
  },
  {
   "cell_type": "markdown",
   "metadata": {},
   "source": [
    "## Plotting Non-Uniform Hermite Splines"
   ]
  },
  {
   "cell_type": "code",
   "execution_count": null,
   "metadata": {},
   "outputs": [],
   "source": [
    "import matplotlib.pyplot as plt\n",
    "import numpy as np"
   ]
  },
  {
   "cell_type": "code",
   "execution_count": null,
   "metadata": {},
   "outputs": [],
   "source": [
    "def hermite_curve(control_values, begin, end):\n",
    "    coeffs = sp.lambdify([t0, t1], M_H.expr)(begin, end) @ control_values\n",
    "    \n",
    "    def evaluate(t):\n",
    "        t = np.expand_dims(t, -1)\n",
    "        t = (t - begin) / (end - begin)\n",
    "        return t**[3, 2, 1, 0] @ coeffs\n",
    "\n",
    "    return evaluate"
   ]
  },
  {
   "cell_type": "code",
   "execution_count": null,
   "metadata": {},
   "outputs": [],
   "source": [
    "def plot_hermite(control_values, t_values, ax=None):\n",
    "    if ax is None:\n",
    "        ax = plt.gca()\n",
    "    control_values = np.asarray(control_values)\n",
    "    c = hermite_curve(control_values, t_values[0], t_values[-1])\n",
    "    xyuv = np.column_stack(np.vsplit(control_values, 2))\n",
    "    # Move beginning of second arrow:\n",
    "    xyuv[1, :2] -= xyuv[1, 2:]\n",
    "    ax.quiver(*xyuv.T, angles='xy', scale_units='xy', scale=1)\n",
    "    ax.scatter(*c(t_values).T)\n",
    "    ax.axis('equal')"
   ]
  },
  {
   "cell_type": "code",
   "execution_count": null,
   "metadata": {},
   "outputs": [],
   "source": [
    "t_values = np.linspace(0, 1, 15)"
   ]
  },
  {
   "cell_type": "markdown",
   "metadata": {},
   "source": [
    "For unit intervals, it's the same as before:"
   ]
  },
  {
   "cell_type": "code",
   "execution_count": null,
   "metadata": {},
   "outputs": [],
   "source": [
    "plot_hermite([[0, 0], [5, 2], [1, 2], [1, -2]], t_values)\n",
    "plot_hermite([[5, 2], [6, 1], [1, -2], [5, 1]], t_values)"
   ]
  },
  {
   "cell_type": "code",
   "execution_count": null,
   "metadata": {},
   "outputs": [],
   "source": [
    "plot_hermite([[0, 0], [5, 2], [1, 2], [1, -2]], np.linspace(0, 3, 45, endpoint=True))\n",
    "plot_hermite([[5, 2], [6, 1], [1, -2], [5, 1]], np.linspace(0, 2/3, 10, endpoint=True))"
   ]
  },
  {
   "cell_type": "code",
   "execution_count": null,
   "metadata": {},
   "outputs": [],
   "source": []
  }
 ],
 "metadata": {
  "kernelspec": {
   "display_name": "Python 3",
   "language": "python",
   "name": "python3"
  },
  "language_info": {
   "codemirror_mode": {
    "name": "ipython",
    "version": 3
   },
   "file_extension": ".py",
   "mimetype": "text/x-python",
   "name": "python",
   "nbconvert_exporter": "python",
   "pygments_lexer": "ipython3",
   "version": "3.6.6rc1+"
  }
 },
 "nbformat": 4,
 "nbformat_minor": 2
}
