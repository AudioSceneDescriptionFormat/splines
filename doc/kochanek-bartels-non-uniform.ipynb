{
 "cells": [
  {
   "cell_type": "markdown",
   "metadata": {},
   "source": [
    "# Non-Uniform Kochanek--Bartels Splines\n",
    "\n",
    "Kochanek and Bartels (1984) mainly talk about uniform splines.\n",
    "Only in section 4, \"Adjustments for Parameter Step Size\", they briefly mention the non-uniform case.\n",
    "\n",
    "TODO: show equations for adjusted tangents\n",
    "\n",
    "Unfortunately, this is wrong.\n",
    "\n",
    "TODO: show why it is wrong."
   ]
  },
  {
   "cell_type": "markdown",
   "metadata": {},
   "source": [
    "Instead, we should start from the correct tangent vector for non-uniform Catmull--Rom splines:\n",
    "\n",
    "\\begin{equation}\n",
    "\\boldsymbol{\\dot{x}}_i =\n",
    "\\frac{\n",
    "(t_{i+1} - t_i)^2 (\\boldsymbol{x}_i - \\boldsymbol{x}_{i-1}) +\n",
    "(t_i - t_{i-1})^2 (\\boldsymbol{x}_{i+1} - \\boldsymbol{x}_i)\n",
    "}{\n",
    "(t_{i+1} - t_i)(t_i - t_{i-1})(t_{i+1} - t_{i-1})\n",
    "}\n",
    "\\end{equation}"
   ]
  },
  {
   "cell_type": "markdown",
   "metadata": {},
   "source": [
    "## Parameters"
   ]
  },
  {
   "cell_type": "markdown",
   "metadata": {},
   "source": [
    "In general\n",
    "incoming tangent $\\boldsymbol{\\dot{x}}_i^{(-)}$ and\n",
    "outgoing tangent $\\boldsymbol{\\dot{x}}_i^{(+)}$ at vertex $\\boldsymbol{x}_i$:\n",
    "\n",
    "\\begin{align}\n",
    "a_i &= (1 - T_i) (1 + C_i) (1 + B_i)\\\\\n",
    "b_i &= (1 - T_i) (1 - C_i) (1 - B_i)\\\\\n",
    "c_i &= (1 - T_i) (1 - C_i) (1 + B_i)\\\\\n",
    "d_i &= (1 - T_i) (1 + C_i) (1 - B_i)\n",
    "\\end{align}\n",
    "\n",
    "\\begin{align}\n",
    "\\boldsymbol{\\dot{x}}_i^{(+)} &= \\frac{\n",
    "a_i (t_{i+1} - t_i)^2 (\\boldsymbol{x}_i - \\boldsymbol{x}_{i-1}) +\n",
    "b_i (t_i - t_{i-1})^2 (\\boldsymbol{x}_{i+1} - \\boldsymbol{x}_i)\n",
    "}{(t_{i+1} - t_i) (t_i - t_{i-1}) (t_{i+1} - t_{i-1})}\\\\\n",
    "\\boldsymbol{\\dot{x}}_i^{(-)} &= \\frac{\n",
    "c_i (t_{i+1} - t_i)^2 (\\boldsymbol{x}_i - \\boldsymbol{x}_{i-1}) +\n",
    "d_i (t_i - t_{i-1})^2 (\\boldsymbol{x}_{i+1} - \\boldsymbol{x}_i)\n",
    "}{(t_{i+1} - t_i) (t_i - t_{i-1}) (t_{i+1} - t_{i-1})}\n",
    "\\end{align}"
   ]
  },
  {
   "cell_type": "markdown",
   "metadata": {},
   "source": [
    "In the calculation below, we consider\n",
    "the outgoing tangent at $\\boldsymbol{x}_0$ and\n",
    "the incoming tangent at $\\boldsymbol{x}_1$.\n",
    "\n",
    "\\begin{align}\n",
    "a_0 &= (1 - T_0) (1 + C_0) (1 + B_0)\\\\\n",
    "b_0 &= (1 - T_0) (1 - C_0) (1 - B_0)\\\\\n",
    "c_1 &= (1 - T_1) (1 - C_1) (1 + B_1)\\\\\n",
    "d_1 &= (1 - T_1) (1 + C_1) (1 - B_1)\n",
    "\\end{align}\n",
    "\n",
    "\\begin{align}\n",
    "\\boldsymbol{\\dot{x}}_0^{(+)} &= \\frac{\n",
    "a_0 (t_1 - t_0)^2 (\\boldsymbol{x}_0 - \\boldsymbol{x}_{-1}) +\n",
    "b_0 (t_0 - t_{-1})^2 (\\boldsymbol{x}_1 - \\boldsymbol{x}_0)\n",
    "}{(t_1 - t_0) (t_0 - t_{-1}) (t_1 - t_{-1})}\\\\\n",
    "\\boldsymbol{\\dot{x}}_1^{(-)} &= \\frac{\n",
    "c_1 (t_2 - t_1)^2 (\\boldsymbol{x}_1 - \\boldsymbol{x}_0) +\n",
    "d_1 (t_1 - t_0)^2 (\\boldsymbol{x}_2 - \\boldsymbol{x}_1)\n",
    "}{(t_2 - t_1) (t_1 - t_0) (t_2 - t_0)}\n",
    "\\end{align}"
   ]
  },
  {
   "cell_type": "markdown",
   "metadata": {},
   "source": [
    "## Calculation"
   ]
  },
  {
   "cell_type": "code",
   "execution_count": null,
   "metadata": {},
   "outputs": [],
   "source": [
    "%matplotlib inline\n",
    "from IPython.display import display\n",
    "import sympy as sp\n",
    "sp.init_printing()"
   ]
  },
  {
   "cell_type": "code",
   "execution_count": null,
   "metadata": {},
   "outputs": [],
   "source": [
    "from utility import NamedExpression, NamedMatrix"
   ]
  },
  {
   "cell_type": "code",
   "execution_count": null,
   "metadata": {},
   "outputs": [],
   "source": [
    "x_1, x0, x1, x2 = sp.symbols('xbm_-1 xbm:3')"
   ]
  },
  {
   "cell_type": "code",
   "execution_count": null,
   "metadata": {},
   "outputs": [],
   "source": [
    "t, t_1, t0, t1, t2 = sp.symbols('t t_-1 t:3')"
   ]
  },
  {
   "cell_type": "markdown",
   "metadata": {},
   "source": [
    "Same control values as Catmull-Rom ..."
   ]
  },
  {
   "cell_type": "code",
   "execution_count": null,
   "metadata": {},
   "outputs": [],
   "source": [
    "control_values_KB = sp.Matrix([x_1, x0, x1, x2])\n",
    "control_values_KB"
   ]
  },
  {
   "cell_type": "markdown",
   "metadata": {},
   "source": [
    "... but three additional parameters per vertex.\n",
    "In our calculation, the parameters belonging to $\\boldsymbol{x}_0$ and $\\boldsymbol{x}_1$ are relevant:"
   ]
  },
  {
   "cell_type": "code",
   "execution_count": null,
   "metadata": {},
   "outputs": [],
   "source": [
    "T0, T1 = sp.symbols('T:2')\n",
    "C0, C1 = sp.symbols('C:2')\n",
    "B0, B1 = sp.symbols('B:2')"
   ]
  },
  {
   "cell_type": "code",
   "execution_count": null,
   "metadata": {},
   "outputs": [],
   "source": [
    "a = NamedExpression('a', (1 - T0) * (1 + C0) * (1 + B0))\n",
    "b = NamedExpression('b', (1 - T0) * (1 - C0) * (1 - B0))\n",
    "c = NamedExpression('c', (1 - T1) * (1 - C1) * (1 + B1))\n",
    "d = NamedExpression('d', (1 - T1) * (1 + C1) * (1 - B1))\n",
    "display(a, b, c, d)"
   ]
  },
  {
   "cell_type": "code",
   "execution_count": null,
   "metadata": {},
   "outputs": [],
   "source": [
    "xd0 = NamedExpression(\n",
    "    'xdotbm0',\n",
    "    (a.name * (t1 - t0)**2 * (x0 - x_1) + b.name * (t0 - t_1)**2 * (x1 - x0)) /\n",
    "    ((t1 - t0) * (t0 - t_1) * (t1 - t_1)))\n",
    "xd1 = NamedExpression(\n",
    "    'xdotbm1',\n",
    "    (c.name * (t2 - t1)**2 * (x1 - x0) + d.name * (t1 - t0)**2 * (x2 - x1)) /\n",
    "    ((t2 - t1) * (t1 - t0) * (t2 - t0)))\n",
    "display(xd0, xd1)"
   ]
  },
  {
   "cell_type": "code",
   "execution_count": null,
   "metadata": {},
   "outputs": [],
   "source": [
    "display(xd0.subs([a, b]))\n",
    "display(xd1.subs([c, d]))"
   ]
  },
  {
   "cell_type": "markdown",
   "metadata": {},
   "source": [
    "Same as with Catmull-Rom, try to find a transformation from cardinal control values to Hermite control values.\n",
    "This can be used to get the full characteristic matrix."
   ]
  },
  {
   "cell_type": "code",
   "execution_count": null,
   "metadata": {},
   "outputs": [],
   "source": [
    "control_values_H = sp.Matrix([x0, x1, xd0.name, xd1.name])\n",
    "control_values_H"
   ]
  },
  {
   "cell_type": "markdown",
   "metadata": {},
   "source": [
    "From the [notebook about non-uniform Hermite splines](hermite-non-uniform.ipynb):"
   ]
  },
  {
   "cell_type": "code",
   "execution_count": null,
   "metadata": {},
   "outputs": [],
   "source": [
    "M_H = NamedMatrix(\n",
    "    r'{M_\\text{H}}',\n",
    "    sp.S('Matrix([[2, -2, Delta0, Delta0], [-3, 3, -2*Delta0, -Delta0], [0, 0, Delta0, 0], [1, 0, 0, 0]])'))\n",
    "M_H"
   ]
  },
  {
   "cell_type": "code",
   "execution_count": null,
   "metadata": {},
   "outputs": [],
   "source": [
    "M_KBtoH = NamedMatrix(r'{M_\\text{KB$\\to$H}}', 4, 4)\n",
    "M_KB = NamedMatrix(r'{M_\\text{KB}}', M_H.name * M_KBtoH.name)\n",
    "M_KB"
   ]
  },
  {
   "cell_type": "code",
   "execution_count": null,
   "metadata": {},
   "outputs": [],
   "source": [
    "sp.Eq(control_values_H, M_KBtoH.name * control_values_KB)"
   ]
  },
  {
   "cell_type": "markdown",
   "metadata": {},
   "source": [
    "If we substitute the above definitions of $\\boldsymbol{\\dot{x}}_0$ and $\\boldsymbol{\\dot{x}}_1$, we can directly read off the matrix elements:"
   ]
  },
  {
   "cell_type": "code",
   "execution_count": null,
   "metadata": {},
   "outputs": [],
   "source": [
    "M_KBtoH.expr = sp.Matrix([[expr.coeff(cv).simplify() for cv in control_values_KB]\n",
    "                          for expr in control_values_H.subs([xd0.args, xd1.args]).expand()])\n",
    "M_KBtoH"
   ]
  },
  {
   "cell_type": "code",
   "execution_count": null,
   "metadata": {},
   "outputs": [],
   "source": [
    "deltas = [\n",
    "    (t_1, -sp.Symbol('Delta_-1')),\n",
    "    (t0, 0),\n",
    "    (t1, sp.Symbol('Delta0')),\n",
    "    (t2, sp.Symbol('Delta0') + sp.Symbol('Delta1'))\n",
    "]"
   ]
  },
  {
   "cell_type": "code",
   "execution_count": null,
   "metadata": {},
   "outputs": [],
   "source": [
    "M_KBtoH.subs(deltas)"
   ]
  },
  {
   "cell_type": "code",
   "execution_count": null,
   "metadata": {},
   "outputs": [],
   "source": [
    "M_KB = M_KB.subs([M_H, M_KBtoH.subs(deltas)]).doit().expand()\n",
    "M_KB"
   ]
  },
  {
   "cell_type": "markdown",
   "metadata": {},
   "source": [
    "And for completeness' sake, its inverse:"
   ]
  },
  {
   "cell_type": "code",
   "execution_count": null,
   "metadata": {},
   "outputs": [],
   "source": [
    "M_KB.I"
   ]
  },
  {
   "cell_type": "markdown",
   "metadata": {},
   "source": [
    "TODO: plot some example curves"
   ]
  }
 ],
 "metadata": {
  "kernelspec": {
   "display_name": "Python 3",
   "language": "python",
   "name": "python3"
  },
  "language_info": {
   "codemirror_mode": {
    "name": "ipython",
    "version": 3
   },
   "file_extension": ".py",
   "mimetype": "text/x-python",
   "name": "python",
   "nbconvert_exporter": "python",
   "pygments_lexer": "ipython3",
   "version": "3.6.6rc1+"
  }
 },
 "nbformat": 4,
 "nbformat_minor": 2
}
